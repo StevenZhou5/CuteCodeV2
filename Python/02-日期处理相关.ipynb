{
 "cells": [
  {
   "cell_type": "code",
   "execution_count": 1,
   "metadata": {},
   "outputs": [],
   "source": [
    "from datetime import datetime "
   ]
  },
  {
   "cell_type": "code",
   "execution_count": 3,
   "metadata": {},
   "outputs": [
    {
     "data": {
      "text/plain": [
       "datetime.datetime(2020, 11, 4, 16, 1, 45, 391637)"
      ]
     },
     "execution_count": 3,
     "metadata": {},
     "output_type": "execute_result"
    }
   ],
   "source": [
    "# 获取此时此刻时间\n",
    "now_time = datetime.now()\n",
    "now_time"
   ]
  },
  {
   "cell_type": "code",
   "execution_count": 5,
   "metadata": {},
   "outputs": [
    {
     "data": {
      "text/plain": [
       "'2020-11-04 16:01:45.391637'"
      ]
     },
     "execution_count": 5,
     "metadata": {},
     "output_type": "execute_result"
    }
   ],
   "source": [
    "# 将datetime 转换成字符串\n",
    "str(now_time) "
   ]
  },
  {
   "cell_type": "code",
   "execution_count": 14,
   "metadata": {},
   "outputs": [
    {
     "data": {
      "text/plain": [
       "datetime.datetime(2020, 11, 4, 16, 1, 45)"
      ]
     },
     "execution_count": 14,
     "metadata": {},
     "output_type": "execute_result"
    }
   ],
   "source": [
    "# 将字符串 转换成 datetime\n",
    "str_now = datetime.strptime('2020-11-04 16:01:45',\"%Y-%m-%d %H:%M:%S\")\n",
    "str_now"
   ]
  },
  {
   "cell_type": "code",
   "execution_count": 22,
   "metadata": {},
   "outputs": [
    {
     "data": {
      "text/plain": [
       "11"
      ]
     },
     "execution_count": 22,
     "metadata": {},
     "output_type": "execute_result"
    }
   ],
   "source": [
    "# 当前时间所属的月份：1代表一月，12代表12月\n",
    "now_time.month"
   ]
  },
  {
   "cell_type": "code",
   "execution_count": 25,
   "metadata": {},
   "outputs": [
    {
     "data": {
      "text/plain": [
       "2"
      ]
     },
     "execution_count": 25,
     "metadata": {},
     "output_type": "execute_result"
    }
   ],
   "source": [
    "# 当前时间所属的 星期几： 0代表星期1；6代表星期天\n",
    "now_time.weekday()"
   ]
  },
  {
   "cell_type": "code",
   "execution_count": 27,
   "metadata": {},
   "outputs": [
    {
     "name": "stdout",
     "output_type": "stream",
     "text": [
      "2018-06-20 17:20:30 <class 'datetime.datetime'>\n",
      "2018-06-20 17:20:30 <class 'str'>\n",
      "1529486430 <class 'int'>\n",
      "2018-06-20 17:20:30 <class 'str'>\n",
      "2018-06-20 17:20:30 <class 'datetime.datetime'>\n",
      "1529486430 <class 'int'>\n"
     ]
    }
   ],
   "source": [
    "# coding=utf-8\n",
    "import time\n",
    "import datetime\n",
    "\n",
    "\n",
    "def sec_2_datetime(seconds):\n",
    "    \"\"\"\n",
    "    把秒转成datetime\n",
    "    :param seconds:\n",
    "    :return:\n",
    "    \"\"\"\n",
    "    if len(str(seconds)) != 10:\n",
    "        raise 'time is err'\n",
    "\n",
    "    time_str = time.strftime('%Y-%m-%d %H:%M:%S', time.localtime(seconds))\n",
    "    return datetime.datetime.strptime(time_str, '%Y-%m-%d %H:%M:%S')\n",
    "\n",
    "\n",
    "def sec_2_str(seconds, format='%Y-%m-%d %H:%M:%S'):\n",
    "    \"\"\"\n",
    "    把秒转成字符串时间,格式可以定义\n",
    "    :param seconds:\n",
    "    :param format:\n",
    "    :return:\n",
    "    \"\"\"\n",
    "    if len(str(seconds)) != 10:\n",
    "        raise 'time is err'\n",
    "\n",
    "    return time.strftime(format, time.localtime(seconds))\n",
    "\n",
    "\n",
    "def datetime_2_sec(dt):\n",
    "    \"\"\"\n",
    "    把datetime转成秒\n",
    "    :param dt:\n",
    "    :return:\n",
    "    \"\"\"\n",
    "    return int(time.mktime(dt.timetuple()))\n",
    "\n",
    "\n",
    "def datetime_2_str(dt, format='%Y-%m-%d %H:%M:%S'):\n",
    "    \"\"\"\n",
    "    把datetime 转成字符串时间,格式可定义\n",
    "    :param dt:\n",
    "    :param format:\n",
    "    :return:\n",
    "    \"\"\"\n",
    "    return dt.strftime(format)\n",
    "\n",
    "\n",
    "def str_2_datetime(str, format='%Y-%m-%d %H:%M:%S'):\n",
    "    \"\"\"\n",
    "    把字符串时间转成datetime\n",
    "    :param str:\n",
    "    :param format:\n",
    "    :return:\n",
    "    \"\"\"\n",
    "    return datetime.datetime.strptime(str, format)\n",
    "\n",
    "\n",
    "def str_2_seconds(str, format='%Y-%m-%d %H:%M:%S'):\n",
    "    \"\"\"\n",
    "    把字符串时间转成秒\n",
    "    :param str:\n",
    "    :param format:\n",
    "    :return:\n",
    "    \"\"\"\n",
    "    return int(time.mktime(datetime.datetime.strptime(str, format).timetuple()))\n",
    "\n",
    "def test():\n",
    "    dt1 = sec_2_datetime(1529486430)\n",
    "    print(dt1, type(dt1))\n",
    "    print(sec_2_str(1529486430), type(sec_2_str(1529486430)))\n",
    "\n",
    "    print(datetime_2_sec(dt1), type(datetime_2_sec(dt1)))\n",
    "    str_dt = datetime_2_str(dt1)\n",
    "    print(str_dt, type(str_dt))\n",
    "\n",
    "    print(str_2_datetime(str_dt), type(str_2_datetime(str_dt)))\n",
    "    print(str_2_seconds(str_dt), type(str_2_seconds(str_dt)))\n",
    "test()"
   ]
  },
  {
   "cell_type": "code",
   "execution_count": null,
   "metadata": {},
   "outputs": [],
   "source": []
  }
 ],
 "metadata": {
  "kernelspec": {
   "display_name": "Python 3",
   "language": "python",
   "name": "python3"
  },
  "language_info": {
   "codemirror_mode": {
    "name": "ipython",
    "version": 3
   },
   "file_extension": ".py",
   "mimetype": "text/x-python",
   "name": "python",
   "nbconvert_exporter": "python",
   "pygments_lexer": "ipython3",
   "version": "3.7.4"
  }
 },
 "nbformat": 4,
 "nbformat_minor": 4
}
