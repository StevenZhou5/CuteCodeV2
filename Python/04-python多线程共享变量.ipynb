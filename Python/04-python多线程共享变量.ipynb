{
 "cells": [
  {
   "cell_type": "code",
   "execution_count": 40,
   "metadata": {
    "ExecuteTime": {
     "end_time": "2021-09-27T07:51:48.052874Z",
     "start_time": "2021-09-27T07:51:48.050040Z"
    }
   },
   "outputs": [],
   "source": [
    "from threading import Thread\n",
    "import time\n",
    "import threading"
   ]
  },
  {
   "cell_type": "code",
   "execution_count": 49,
   "metadata": {
    "ExecuteTime": {
     "end_time": "2021-09-27T09:15:01.279787Z",
     "start_time": "2021-09-27T09:15:00.267515Z"
    }
   },
   "outputs": [
    {
     "name": "stdout",
     "output_type": "stream",
     "text": [
      "main-before:105\n",
      "123145386295296\n",
      "work2-before:105\n",
      "work2-after:106\n",
      "123145381040128\n",
      "main-after:106\n"
     ]
    },
    {
     "name": "stderr",
     "output_type": "stream",
     "text": [
      "Exception in thread Thread-34:\n",
      "Traceback (most recent call last):\n",
      "  File \"/Library/Frameworks/Python.framework/Versions/3.7/lib/python3.7/threading.py\", line 926, in _bootstrap_inner\n",
      "    self.run()\n",
      "  File \"/Library/Frameworks/Python.framework/Versions/3.7/lib/python3.7/threading.py\", line 870, in run\n",
      "    self._target(*self._args, **self._kwargs)\n",
      "  File \"<ipython-input-49-1ce056b9b18c>\", line 6, in work1\n",
      "    print(\"work1-before:%d\"%g_num)\n",
      "UnboundLocalError: local variable 'g_num' referenced before assignment\n",
      "\n"
     ]
    }
   ],
   "source": [
    "g_num = 100\n",
    "def work1():\n",
    "    global g_num\n",
    "    time.sleep(1)\n",
    "    print(threading.currentThread().ident)\n",
    "    print(\"work1-before:%d\"%g_num)\n",
    "    g_num +=1 \n",
    "    print(\"work1-after:%d\"%g_num)\n",
    "\n",
    "def work2():\n",
    "    global g_num\n",
    "    print(threading.currentThread().ident)\n",
    "    print(\"work2-before:%d\"%g_num)\n",
    "    g_num += 1\n",
    "    print(\"work2-after:%d\"%g_num)\n",
    "\n",
    "def mian():\n",
    "    global g_num\n",
    "    g_num = 105\n",
    "    print(\"main-before:%d\"%g_num)\n",
    "    \n",
    "    t1 = Thread(target=work1)\n",
    "    t1.start()\n",
    "    \n",
    "#     # 延迟一秒\n",
    "#     time.sleep(1)\n",
    "    \n",
    "    t2 = Thread(target=work2)\n",
    "    t2.start()\n",
    "    \n",
    "    time.sleep(1)\n",
    "    \n",
    "    print(\"main-after:%d\"%g_num)\n",
    "mian()"
   ]
  }
 ],
 "metadata": {
  "kernelspec": {
   "display_name": "Python 3",
   "language": "python",
   "name": "python3"
  },
  "language_info": {
   "codemirror_mode": {
    "name": "ipython",
    "version": 3
   },
   "file_extension": ".py",
   "mimetype": "text/x-python",
   "name": "python",
   "nbconvert_exporter": "python",
   "pygments_lexer": "ipython3",
   "version": "3.7.4"
  },
  "toc": {
   "base_numbering": 1,
   "nav_menu": {},
   "number_sections": true,
   "sideBar": true,
   "skip_h1_title": false,
   "title_cell": "Table of Contents",
   "title_sidebar": "Contents",
   "toc_cell": false,
   "toc_position": {},
   "toc_section_display": true,
   "toc_window_display": false
  },
  "varInspector": {
   "cols": {
    "lenName": 16,
    "lenType": 16,
    "lenVar": 40
   },
   "kernels_config": {
    "python": {
     "delete_cmd_postfix": "",
     "delete_cmd_prefix": "del ",
     "library": "var_list.py",
     "varRefreshCmd": "print(var_dic_list())"
    },
    "r": {
     "delete_cmd_postfix": ") ",
     "delete_cmd_prefix": "rm(",
     "library": "var_list.r",
     "varRefreshCmd": "cat(var_dic_list()) "
    }
   },
   "types_to_exclude": [
    "module",
    "function",
    "builtin_function_or_method",
    "instance",
    "_Feature"
   ],
   "window_display": false
  }
 },
 "nbformat": 4,
 "nbformat_minor": 4
}
