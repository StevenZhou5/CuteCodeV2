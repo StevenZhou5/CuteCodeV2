{
 "cells": [
  {
   "cell_type": "code",
   "execution_count": 46,
   "metadata": {},
   "outputs": [],
   "source": [
    "import pandas as pd\n",
    "import json"
   ]
  },
  {
   "cell_type": "code",
   "execution_count": 59,
   "metadata": {},
   "outputs": [
    {
     "data": {
      "text/html": [
       "<div>\n",
       "<style scoped>\n",
       "    .dataframe tbody tr th:only-of-type {\n",
       "        vertical-align: middle;\n",
       "    }\n",
       "\n",
       "    .dataframe tbody tr th {\n",
       "        vertical-align: top;\n",
       "    }\n",
       "\n",
       "    .dataframe thead th {\n",
       "        text-align: right;\n",
       "    }\n",
       "</style>\n",
       "<table border=\"1\" class=\"dataframe\">\n",
       "  <thead>\n",
       "    <tr style=\"text-align: right;\">\n",
       "      <th></th>\n",
       "      <th>request_id</th>\n",
       "      <th>model_id</th>\n",
       "      <th>zone</th>\n",
       "      <th>reg_date</th>\n",
       "      <th>mile</th>\n",
       "      <th>color</th>\n",
       "      <th>interior</th>\n",
       "      <th>surface</th>\n",
       "      <th>transfer_times</th>\n",
       "      <th>residual_result</th>\n",
       "      <th>create_time</th>\n",
       "    </tr>\n",
       "  </thead>\n",
       "  <tbody>\n",
       "    <tr>\n",
       "      <th>0</th>\n",
       "      <td>62fd8d608c4131a22cf5cfa20d575351</td>\n",
       "      <td>1</td>\n",
       "      <td>11</td>\n",
       "      <td>2016-07</td>\n",
       "      <td>0.5</td>\n",
       "      <td>NaN</td>\n",
       "      <td>NaN</td>\n",
       "      <td>NaN</td>\n",
       "      <td>NaN</td>\n",
       "      <td>{\"status\":\"1\",\"trends\":[{\"trend_date\":\"2020-03...</td>\n",
       "      <td>2020-03-14 19:27:51</td>\n",
       "    </tr>\n",
       "  </tbody>\n",
       "</table>\n",
       "</div>"
      ],
      "text/plain": [
       "                         request_id model_id zone reg_date mile color  \\\n",
       "0  62fd8d608c4131a22cf5cfa20d575351        1   11  2016-07  0.5   NaN   \n",
       "\n",
       "  interior surface transfer_times  \\\n",
       "0      NaN     NaN            NaN   \n",
       "\n",
       "                                     residual_result          create_time  \n",
       "0  {\"status\":\"1\",\"trends\":[{\"trend_date\":\"2020-03...  2020-03-14 19:27:51  "
      ]
     },
     "execution_count": 59,
     "metadata": {},
     "output_type": "execute_result"
    }
   ],
   "source": [
    "df = pd.read_csv('optimus_che300_residual_request_view.csv',dtype='str',delimiter='#',encoding='utf-8')\n",
    "df"
   ]
  },
  {
   "cell_type": "code",
   "execution_count": 60,
   "metadata": {},
   "outputs": [
    {
     "data": {
      "text/plain": [
       "Index(['request_id', 'model_id', 'zone', 'reg_date', 'mile', 'color',\n",
       "       'interior', 'surface', 'transfer_times', 'residual_result',\n",
       "       'create_time'],\n",
       "      dtype='object')"
      ]
     },
     "execution_count": 60,
     "metadata": {},
     "output_type": "execute_result"
    }
   ],
   "source": [
    "df.keys()"
   ]
  },
  {
   "cell_type": "code",
   "execution_count": 61,
   "metadata": {},
   "outputs": [
    {
     "data": {
      "text/plain": [
       "'{\"status\":\"1\",\"trends\":[{\"trend_date\":\"2020-03\",\"eval_price\":\"13.987\"},{\"trend_date\":\"2020-06\",\"eval_price\":\"13.382\"},{\"trend_date\":\"2020-09\",\"eval_price\":\"12.898\"},{\"trend_date\":\"2020-12\",\"eval_price\":\"12.617\"},{\"trend_date\":\"2021-03\",\"eval_price\":\"12.564\"},{\"trend_date\":\"2021-06\",\"eval_price\":\"12.011\"},{\"trend_date\":\"2021-09\",\"eval_price\":\"11.570\"},{\"trend_date\":\"2021-12\",\"eval_price\":\"11.314\"},{\"trend_date\":\"2022-03\",\"eval_price\":\"11.263\"},{\"trend_date\":\"2022-06\",\"eval_price\":\"10.738\"},{\"trend_date\":\"2022-09\",\"eval_price\":\"10.321\"},{\"trend_date\":\"2022-12\",\"eval_price\":\"10.078\"},{\"trend_date\":\"2023-03\",\"eval_price\":\"10.029\"}]}'"
      ]
     },
     "execution_count": 61,
     "metadata": {},
     "output_type": "execute_result"
    }
   ],
   "source": [
    "df.iloc[0,9]"
   ]
  },
  {
   "cell_type": "code",
   "execution_count": 62,
   "metadata": {},
   "outputs": [
    {
     "name": "stdout",
     "output_type": "stream",
     "text": [
      "{\"status\":\"1\",\"trends\":[{\"trend_date\":\"2020-03\",\"eval_price\":\"13.987\"},{\"trend_date\":\"2020-06\",\"eval_price\":\"13.382\"},{\"trend_date\":\"2020-09\",\"eval_price\":\"12.898\"},{\"trend_date\":\"2020-12\",\"eval_price\":\"12.617\"},{\"trend_date\":\"2021-03\",\"eval_price\":\"12.564\"},{\"trend_date\":\"2021-06\",\"eval_price\":\"12.011\"},{\"trend_date\":\"2021-09\",\"eval_price\":\"11.570\"},{\"trend_date\":\"2021-12\",\"eval_price\":\"11.314\"},{\"trend_date\":\"2022-03\",\"eval_price\":\"11.263\"},{\"trend_date\":\"2022-06\",\"eval_price\":\"10.738\"},{\"trend_date\":\"2022-09\",\"eval_price\":\"10.321\"},{\"trend_date\":\"2022-12\",\"eval_price\":\"10.078\"},{\"trend_date\":\"2023-03\",\"eval_price\":\"10.029\"}]}\n"
     ]
    }
   ],
   "source": [
    "json_data = df['residual_result'][0]\n",
    "print(json_data)"
   ]
  },
  {
   "cell_type": "code",
   "execution_count": 63,
   "metadata": {},
   "outputs": [
    {
     "data": {
      "text/plain": [
       "'\"{\\\\\"status\\\\\":\\\\\"1\\\\\",\\\\\"trends\\\\\":[{\\\\\"trend_date\\\\\":\\\\\"2020-03\\\\\",\\\\\"eval_price\\\\\":\\\\\"13.987\\\\\"},{\\\\\"trend_date\\\\\":\\\\\"2020-06\\\\\",\\\\\"eval_price\\\\\":\\\\\"13.382\\\\\"},{\\\\\"trend_date\\\\\":\\\\\"2020-09\\\\\",\\\\\"eval_price\\\\\":\\\\\"12.898\\\\\"},{\\\\\"trend_date\\\\\":\\\\\"2020-12\\\\\",\\\\\"eval_price\\\\\":\\\\\"12.617\\\\\"},{\\\\\"trend_date\\\\\":\\\\\"2021-03\\\\\",\\\\\"eval_price\\\\\":\\\\\"12.564\\\\\"},{\\\\\"trend_date\\\\\":\\\\\"2021-06\\\\\",\\\\\"eval_price\\\\\":\\\\\"12.011\\\\\"},{\\\\\"trend_date\\\\\":\\\\\"2021-09\\\\\",\\\\\"eval_price\\\\\":\\\\\"11.570\\\\\"},{\\\\\"trend_date\\\\\":\\\\\"2021-12\\\\\",\\\\\"eval_price\\\\\":\\\\\"11.314\\\\\"},{\\\\\"trend_date\\\\\":\\\\\"2022-03\\\\\",\\\\\"eval_price\\\\\":\\\\\"11.263\\\\\"},{\\\\\"trend_date\\\\\":\\\\\"2022-06\\\\\",\\\\\"eval_price\\\\\":\\\\\"10.738\\\\\"},{\\\\\"trend_date\\\\\":\\\\\"2022-09\\\\\",\\\\\"eval_price\\\\\":\\\\\"10.321\\\\\"},{\\\\\"trend_date\\\\\":\\\\\"2022-12\\\\\",\\\\\"eval_price\\\\\":\\\\\"10.078\\\\\"},{\\\\\"trend_date\\\\\":\\\\\"2023-03\\\\\",\\\\\"eval_price\\\\\":\\\\\"10.029\\\\\"}]}\"'"
      ]
     },
     "execution_count": 63,
     "metadata": {},
     "output_type": "execute_result"
    }
   ],
   "source": [
    "json.dumps(json_data)"
   ]
  },
  {
   "cell_type": "code",
   "execution_count": 67,
   "metadata": {},
   "outputs": [
    {
     "data": {
      "text/plain": [
       "{'status': '1',\n",
       " 'trends': [{'trend_date': '2020-03', 'eval_price': '13.987'},\n",
       "  {'trend_date': '2020-06', 'eval_price': '13.382'},\n",
       "  {'trend_date': '2020-09', 'eval_price': '12.898'},\n",
       "  {'trend_date': '2020-12', 'eval_price': '12.617'},\n",
       "  {'trend_date': '2021-03', 'eval_price': '12.564'},\n",
       "  {'trend_date': '2021-06', 'eval_price': '12.011'},\n",
       "  {'trend_date': '2021-09', 'eval_price': '11.570'},\n",
       "  {'trend_date': '2021-12', 'eval_price': '11.314'},\n",
       "  {'trend_date': '2022-03', 'eval_price': '11.263'},\n",
       "  {'trend_date': '2022-06', 'eval_price': '10.738'},\n",
       "  {'trend_date': '2022-09', 'eval_price': '10.321'},\n",
       "  {'trend_date': '2022-12', 'eval_price': '10.078'},\n",
       "  {'trend_date': '2023-03', 'eval_price': '10.029'}]}"
      ]
     },
     "execution_count": 67,
     "metadata": {},
     "output_type": "execute_result"
    }
   ],
   "source": [
    "json_dic = json.loads(json_data)\n",
    "json_dic"
   ]
  },
  {
   "cell_type": "code",
   "execution_count": null,
   "metadata": {},
   "outputs": [],
   "source": [
    "json_dic['']"
   ]
  }
 ],
 "metadata": {
  "kernelspec": {
   "display_name": "Python 3",
   "language": "python",
   "name": "python3"
  },
  "language_info": {
   "codemirror_mode": {
    "name": "ipython",
    "version": 3
   },
   "file_extension": ".py",
   "mimetype": "text/x-python",
   "name": "python",
   "nbconvert_exporter": "python",
   "pygments_lexer": "ipython3",
   "version": "3.7.4"
  }
 },
 "nbformat": 4,
 "nbformat_minor": 4
}
