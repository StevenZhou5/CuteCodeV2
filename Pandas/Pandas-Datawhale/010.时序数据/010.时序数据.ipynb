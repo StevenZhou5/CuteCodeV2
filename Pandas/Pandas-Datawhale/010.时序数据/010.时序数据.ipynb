{
 "cells": [
  {
   "cell_type": "code",
   "execution_count": 1,
   "metadata": {
    "ExecuteTime": {
     "end_time": "2021-01-11T09:20:31.343835Z",
     "start_time": "2021-01-11T09:20:27.933762Z"
    }
   },
   "outputs": [],
   "source": [
    "import pandas as pd\n",
    "import numpy as np"
   ]
  },
  {
   "cell_type": "markdown",
   "metadata": {},
   "source": [
    "## 目录\n",
    "\n",
    "**一、时序中的基本对象**\n",
    "\n",
    "\n",
    "**二、时间戳**\n",
    "\n",
    "* 2.1. Timestamp的构造与属性\n",
    "* 2.2. Datetime序列的生成\n",
    "* 2.3. dt对象\n",
    "* 2.4. 时间戳的切片与索引\n",
    "\n",
    "\n",
    "**三、时间差**\n",
    "\n",
    "* 3.1. Timedelta的生成\n",
    "* 3.2. Timedelta的运算\n",
    "\n",
    "\n",
    "\n",
    "**四、时间偏置**\n",
    "\n",
    "* 4.1. Offset对象\n",
    "* 4.2. 偏置字符串\n",
    "\n",
    "\n",
    "**五、时序中的滑窗与分组**\n",
    "\n",
    "* 5.1. 滑动窗口\n",
    "* 5.2. 重采样\n",
    "\n",
    "**六、练习**\n",
    "\n",
    "* Ex1：太阳辐射数据集\n",
    "* Ex2：水果销量数据集\n",
    "\n",
    "## 学习内容"
   ]
  },
  {
   "cell_type": "markdown",
   "metadata": {},
   "source": [
    "### 一、时序中的基本对象\n",
    "\n",
    " 时间序列是一个非常常见的概念，例如2020年9月7日周一早上8点整需要到教室上课，这个课会在当天早上10点结束，其中包含了哪些时间概念？\n",
    " \n",
    " * **时间戳（Date times）** ’2020-9-7 08:00:00’和’2020-9-7 10:00:00’这两个时间点分别代表了上课和下课的时刻，**在 pandas 中称为 Timestamp**。一系列的时间戳 则组成了DatetimeIndex，时间戳series序列的类型则为**datetime64[ns]**\n",
    " \n",
    " * **时间差（Time delta）** 两个 Timestamp 做差就得到了时间差，pandas中利用 **Timedelta** 来表示。一系列的时间差就组成了 TimedeltaIndex ， Series 的类型为**timedelta64[ns] **\n",
    " \n",
    " * **时间段 （Time spans）** 时间段的概念不是很常用，例8点-10点这个时刻持续上课，这个就属于时间端，pandas中用Period来表示，一系列的时间组成了PeriodIndex，series的类型为Period\n",
    " \n",
    " * **日期偏置 （Date offsets）** 日期偏置不是一个单独的数据类型，只要掌握基本的函数使用就可以了。\n",
    " \n",
    " 官方介绍参照[官方文档](https://pandas.pydata.org/docs/user_guide/timeseries.html#overview)\n",
    "\n"
   ]
  },
  {
   "cell_type": "code",
   "execution_count": 14,
   "metadata": {
    "ExecuteTime": {
     "end_time": "2021-01-08T12:52:41.383907Z",
     "start_time": "2021-01-08T12:52:41.378262Z"
    }
   },
   "outputs": [
    {
     "data": {
      "text/plain": [
       "0   2021-01-01\n",
       "1   2021-01-02\n",
       "2   2021-01-03\n",
       "dtype: datetime64[ns]"
      ]
     },
     "execution_count": 14,
     "metadata": {},
     "output_type": "execute_result"
    }
   ],
   "source": [
    "# timetamp\n",
    "\n",
    "pd.Series(pd.date_range('2021-01',freq = 'D',periods=3))"
   ]
  },
  {
   "cell_type": "code",
   "execution_count": 16,
   "metadata": {
    "ExecuteTime": {
     "end_time": "2021-01-08T12:54:50.951819Z",
     "start_time": "2021-01-08T12:54:50.944663Z"
    }
   },
   "outputs": [
    {
     "data": {
      "text/plain": [
       "0         <DateOffset>\n",
       "1    <2 * DateOffsets>\n",
       "dtype: object"
      ]
     },
     "execution_count": 16,
     "metadata": {},
     "output_type": "execute_result"
    }
   ],
   "source": [
    "# data offset\n",
    "\n",
    "pd.Series([pd.DateOffset(1),pd.DateOffset(2)])"
   ]
  },
  {
   "cell_type": "markdown",
   "metadata": {},
   "source": [
    "\n",
    "### 二、时间戳\n",
    "\n",
    "#### 2.1. Timestamp的构造与属性\n",
    "\n",
    "* 单个时间戳生成利用 **pd.Timestamp** 实现，可以通过.year, .month, .day, .hour, .min, .second 可以获取对应的值  \n",
    "   \n",
    "   \n",
    "* **pd.Timestamp()** 生成时间戳的方式有多种，\n",
    "    * 可以直接指定要转为timestamp类型的 字符串，\n",
    "    * 可以通过指定年year 月 month 日 day来得到timestamp\n",
    "    * 可以将s表示的浮点数 转化为通识时间类型,（计算机的时间 是从1970-01-01 开始的，之后的时间通过当前时间与 1970-01-01 相差的秒数作为时间戳）\n",
    "\n",
    "\n",
    "* **pd.Timestamp()** \n",
    "    参数解释：\n",
    "    \n",
    "> * ts_input=<object object at 0x0000021BF7ECBEA0>,datetime-like, str, int, float,转化为时间戳的值\n",
    "> * freq=None, 时间戳的时间偏移单位\n",
    "> * tz=None, 指定时区\n",
    "> * unit=None, 时间戳转化时的最小单位，默认时ms，  'D', 'h', 'm', 's', 'ms', 'us', and 'ns'\n",
    "> * year=None, 年\n",
    "> * month=None, 月\n",
    "> * day=None, 日\n",
    "> * hour=None, 时\n",
    "> * minute=None, 分\n",
    "> * second=None, 秒\n",
    "> * microsecond=None, 毫秒\n",
    "> * nanosecond=None, 纳秒"
   ]
  },
  {
   "cell_type": "code",
   "execution_count": 17,
   "metadata": {
    "ExecuteTime": {
     "end_time": "2021-01-08T13:08:55.494031Z",
     "start_time": "2021-01-08T13:08:55.075215Z"
    }
   },
   "outputs": [
    {
     "data": {
      "text/plain": [
       "Timestamp('2021-01-08 00:00:00')"
      ]
     },
     "execution_count": 17,
     "metadata": {},
     "output_type": "execute_result"
    }
   ],
   "source": [
    "# 时间戳构造\n",
    "\n",
    "pd.Timestamp('2021/01/08')"
   ]
  },
  {
   "cell_type": "code",
   "execution_count": 18,
   "metadata": {
    "ExecuteTime": {
     "end_time": "2021-01-08T13:09:22.165005Z",
     "start_time": "2021-01-08T13:09:22.161058Z"
    }
   },
   "outputs": [
    {
     "data": {
      "text/plain": [
       "Timestamp('2020-01-08 21:09:00')"
      ]
     },
     "execution_count": 18,
     "metadata": {},
     "output_type": "execute_result"
    }
   ],
   "source": [
    "# 时间戳构造\n",
    "\n",
    "pd.Timestamp('2020-01-08 21:09:00')"
   ]
  },
  {
   "cell_type": "code",
   "execution_count": 24,
   "metadata": {
    "ExecuteTime": {
     "end_time": "2021-01-08T13:10:14.162810Z",
     "start_time": "2021-01-08T13:10:14.158805Z"
    }
   },
   "outputs": [
    {
     "data": {
      "text/plain": [
       "Timestamp('2008-05-31 08:25:55.555554560')"
      ]
     },
     "execution_count": 24,
     "metadata": {},
     "output_type": "execute_result"
    }
   ],
   "source": [
    "# 时间戳构造 \n",
    "\n",
    "pd.Timestamp(1212222355555554595.09)"
   ]
  },
  {
   "cell_type": "code",
   "execution_count": 25,
   "metadata": {
    "ExecuteTime": {
     "end_time": "2021-01-08T13:16:05.894364Z",
     "start_time": "2021-01-08T13:16:05.888417Z"
    }
   },
   "outputs": [
    {
     "data": {
      "text/plain": [
       "Timestamp('2021-01-08 00:00:00')"
      ]
     },
     "execution_count": 25,
     "metadata": {},
     "output_type": "execute_result"
    }
   ],
   "source": [
    "# 时间戳构造\n",
    "\n",
    "pd.Timestamp(2021,1,8)"
   ]
  },
  {
   "cell_type": "code",
   "execution_count": 37,
   "metadata": {
    "ExecuteTime": {
     "end_time": "2021-01-08T13:26:53.773484Z",
     "start_time": "2021-01-08T13:26:53.768715Z"
    }
   },
   "outputs": [
    {
     "data": {
      "text/plain": [
       "Timestamp('2011-06-08 00:00:00')"
      ]
     },
     "execution_count": 37,
     "metadata": {},
     "output_type": "execute_result"
    }
   ],
   "source": [
    "#  unit\n",
    "pd.Timestamp(15133, unit='d')"
   ]
  },
  {
   "cell_type": "code",
   "execution_count": 38,
   "metadata": {
    "ExecuteTime": {
     "end_time": "2021-01-08T13:27:12.151853Z",
     "start_time": "2021-01-08T13:27:12.146945Z"
    }
   },
   "outputs": [
    {
     "data": {
      "text/plain": [
       "Timestamp('1970-01-01 04:12:13')"
      ]
     },
     "execution_count": 38,
     "metadata": {},
     "output_type": "execute_result"
    }
   ],
   "source": [
    "#  unit\n",
    "pd.Timestamp(15133, unit='s')"
   ]
  },
  {
   "cell_type": "code",
   "execution_count": 39,
   "metadata": {
    "ExecuteTime": {
     "end_time": "2021-01-08T13:28:31.369645Z",
     "start_time": "2021-01-08T13:28:31.364626Z"
    }
   },
   "outputs": [
    {
     "data": {
      "text/plain": [
       "2011"
      ]
     },
     "execution_count": 39,
     "metadata": {},
     "output_type": "execute_result"
    }
   ],
   "source": [
    "# year\n",
    "\n",
    "ts = pd.Timestamp(15133, unit='d')\n",
    "ts.year"
   ]
  },
  {
   "cell_type": "code",
   "execution_count": 40,
   "metadata": {
    "ExecuteTime": {
     "end_time": "2021-01-08T13:28:38.318526Z",
     "start_time": "2021-01-08T13:28:38.313573Z"
    }
   },
   "outputs": [
    {
     "data": {
      "text/plain": [
       "8"
      ]
     },
     "execution_count": 40,
     "metadata": {},
     "output_type": "execute_result"
    }
   ],
   "source": [
    "# day\n",
    "ts = pd.Timestamp(15133, unit='d')\n",
    "ts.day"
   ]
  },
  {
   "cell_type": "markdown",
   "metadata": {},
   "source": [
    "#### 2.2. Datetime序列的生成\n",
    "\n",
    "* Datetime时间戳序列可以由 to_datetime 和 date_range 来生成  \n",
    "  \n",
    "* **pd.to_datetime()**  \n",
    "      \n",
    "    参数说明\n",
    "      \n",
    "> *  **arg** :Union[~DatetimeScalar, List, Tuple, ~ ArrayLike, _ ForwardRef('Series') ],  \n",
    "> * **errors**:str='raise',遇见无效数据的处理方式，具体参照函数使用说明\n",
    "> * **dayfirst**:bool=False, 要转化为 时间戳的 values 是否把day放在前面的，例如 10/02/12 认为是2012年02月10日\n",
    "> * **yearfirst:**bool=False, 要转化为 时间戳的 values 是否把year放在前面的，例如 10/02/12 认为是2010年02月12日\n",
    "> * utc:Union[bool, NoneType]=None,\n",
    "> * **format:**Union[str, NoneType]=None, 要转化为 时间戳的 values的时间形式，举例 \"%d/%m/%Y\", 意思是 \"%f\" will parse，对应的表达方式可[参照](https://docs.python.org/3/library/datetime.html#strftime-and-strptime-behavior)\n",
    "> * **exact:** 精度，bool：True by default，表现为：如果为True，则需要精确的格式匹配。如果为False，则允许格式匹配目标字符串中的任何位置。\n",
    "> * **unit:**Union[str, NoneType]=None, 时间戳的时间单位\n",
    "> * **infer_datetime_format:** bool=False,\n",
    "> * origin ='unix', 定义参考时间，默认为unix，也就是之前提到的1970-01-01\n",
    "> * cache :bool=True 提高缓存速度的一个参数\n",
    "\n"
   ]
  },
  {
   "cell_type": "code",
   "execution_count": 41,
   "metadata": {
    "ExecuteTime": {
     "end_time": "2021-01-10T07:27:19.103303Z",
     "start_time": "2021-01-10T07:27:18.840027Z"
    }
   },
   "outputs": [
    {
     "data": {
      "text/plain": [
       "DatetimeIndex(['2020-01-01', '2020-01-03', '2020-01-04'], dtype='datetime64[ns]', freq=None)"
      ]
     },
     "execution_count": 41,
     "metadata": {},
     "output_type": "execute_result"
    }
   ],
   "source": [
    "#\n",
    "pd.to_datetime(['2020-01-01','2020-01-03','2020-01-04'])"
   ]
  },
  {
   "cell_type": "code",
   "execution_count": 42,
   "metadata": {
    "ExecuteTime": {
     "end_time": "2021-01-10T07:28:23.014542Z",
     "start_time": "2021-01-10T07:28:22.897886Z"
    }
   },
   "outputs": [
    {
     "data": {
      "text/plain": [
       "DatetimeIndex(['2001-01-20', '2003-01-20', '2004-01-20'], dtype='datetime64[ns]', freq=None)"
      ]
     },
     "execution_count": 42,
     "metadata": {},
     "output_type": "execute_result"
    }
   ],
   "source": [
    "# dayfirst\n",
    "\n",
    "pd.to_datetime(['20-01-01','20-01-03','20-01-04'],dayfirst= True)"
   ]
  },
  {
   "cell_type": "code",
   "execution_count": 43,
   "metadata": {
    "ExecuteTime": {
     "end_time": "2021-01-10T07:28:53.623763Z",
     "start_time": "2021-01-10T07:28:53.607800Z"
    }
   },
   "outputs": [
    {
     "data": {
      "text/plain": [
       "DatetimeIndex(['2020-01-01', '2020-01-03', '2020-01-04'], dtype='datetime64[ns]', freq=None)"
      ]
     },
     "execution_count": 43,
     "metadata": {},
     "output_type": "execute_result"
    }
   ],
   "source": [
    "# yearfirst\n",
    "\n",
    "pd.to_datetime(['20-01-01','20-01-03','20-01-04'],yearfirst= True)"
   ]
  },
  {
   "cell_type": "code",
   "execution_count": 52,
   "metadata": {
    "ExecuteTime": {
     "end_time": "2021-01-10T07:35:41.209882Z",
     "start_time": "2021-01-10T07:35:41.198913Z"
    }
   },
   "outputs": [
    {
     "data": {
      "text/plain": [
       "DatetimeIndex(['2020-01-01', '2020-01-03'], dtype='datetime64[ns]', freq=None)"
      ]
     },
     "execution_count": 52,
     "metadata": {},
     "output_type": "execute_result"
    }
   ],
   "source": [
    "# format\n",
    "\n",
    "pd.to_datetime(['2020?01?01','2020?01?03'],format= '%Y?%m?%d')"
   ]
  },
  {
   "cell_type": "code",
   "execution_count": 54,
   "metadata": {
    "ExecuteTime": {
     "end_time": "2021-01-10T07:44:49.182385Z",
     "start_time": "2021-01-10T07:44:49.140497Z"
    }
   },
   "outputs": [
    {
     "data": {
      "text/plain": [
       "DatetimeIndex(['1974-11-05 13:07:25', '1974-11-05 13:07:26',\n",
       "               '1974-11-05 13:07:27'],\n",
       "              dtype='datetime64[ns]', freq=None)"
      ]
     },
     "execution_count": 54,
     "metadata": {},
     "output_type": "execute_result"
    }
   ],
   "source": [
    "# unit  \n",
    "\n",
    "pd.to_datetime([152888845,152888846,152888847],unit='s')"
   ]
  },
  {
   "cell_type": "code",
   "execution_count": 58,
   "metadata": {
    "ExecuteTime": {
     "end_time": "2021-01-10T07:50:02.919869Z",
     "start_time": "2021-01-10T07:50:02.601905Z"
    }
   },
   "outputs": [
    {
     "data": {
      "text/plain": [
       "0   2020-01-01\n",
       "1   2020-02-02\n",
       "dtype: datetime64[ns]"
      ]
     },
     "execution_count": 58,
     "metadata": {},
     "output_type": "execute_result"
    }
   ],
   "source": [
    "# 多表时间属性拼接转为时间序列\n",
    "\n",
    "df_time = pd.DataFrame({'year':[2020,2020],\n",
    "                       'month':[1,2],\n",
    "                       'day':[1,2]})\n",
    "\n",
    "pd.to_datetime(df_time)"
   ]
  },
  {
   "cell_type": "markdown",
   "metadata": {},
   "source": [
    "* **pd.date_range()** date_range生成一系列连续时间间隔的函数\n",
    "     参数说明,\n",
    "     \n",
    "> * **start**=None, str or datetime-like, optional，生成连续时间间隔的左边界\n",
    "> * **end**=None,str or datetime-like, optional，生成连续时间间隔的右边界\n",
    "> * **periods**=None,int, optional，日期时间的个数\n",
    "> * **freq**=None, str or DateOffset, default 'D'\n",
    "> * tz=None,时区\n",
    "> * normalize=False,是否标准化\n",
    "> * name=None,对timeindex命名\n",
    "> * closed=None，区间的左开右闭形式\n"
   ]
  },
  {
   "cell_type": "code",
   "execution_count": 65,
   "metadata": {
    "ExecuteTime": {
     "end_time": "2021-01-10T08:10:57.815502Z",
     "start_time": "2021-01-10T08:10:57.807522Z"
    }
   },
   "outputs": [
    {
     "data": {
      "text/plain": [
       "DatetimeIndex(['2021-01-01', '2021-01-02', '2021-01-03', '2021-01-04',\n",
       "               '2021-01-05'],\n",
       "              dtype='datetime64[ns]', freq='D')"
      ]
     },
     "execution_count": 65,
     "metadata": {},
     "output_type": "execute_result"
    }
   ],
   "source": [
    "#\n",
    "pd.date_range(start='2021-1-1',\n",
    "              end = '2021-1-5',\n",
    "              freq = 'd')"
   ]
  },
  {
   "cell_type": "code",
   "execution_count": 68,
   "metadata": {
    "ExecuteTime": {
     "end_time": "2021-01-10T08:24:23.091228Z",
     "start_time": "2021-01-10T08:24:22.981886Z"
    }
   },
   "outputs": [
    {
     "data": {
      "text/plain": [
       "2020-01-01    0.767892\n",
       "2020-01-03   -0.445279\n",
       "2020-01-05    0.084127\n",
       "2020-01-07   -0.346331\n",
       "2020-01-09    0.669826\n",
       "dtype: float64"
      ]
     },
     "execution_count": 68,
     "metadata": {},
     "output_type": "execute_result"
    }
   ],
   "source": [
    "# 另外还有一种 改变序列采样频率的方法 asfreq\n",
    "\n",
    "s = pd.Series(np.random.randn(5),index=pd.to_datetime(['2020-1-%d'%i for i in range(1,10,2)]))\n",
    "s"
   ]
  },
  {
   "cell_type": "code",
   "execution_count": 69,
   "metadata": {
    "ExecuteTime": {
     "end_time": "2021-01-10T08:24:27.181630Z",
     "start_time": "2021-01-10T08:24:27.052264Z"
    }
   },
   "outputs": [
    {
     "data": {
      "text/plain": [
       "2020-01-01    0.767892\n",
       "2020-01-02         NaN\n",
       "2020-01-03   -0.445279\n",
       "2020-01-04         NaN\n",
       "2020-01-05    0.084127\n",
       "2020-01-06         NaN\n",
       "2020-01-07   -0.346331\n",
       "2020-01-08         NaN\n",
       "2020-01-09    0.669826\n",
       "Freq: D, dtype: float64"
      ]
     },
     "execution_count": 69,
     "metadata": {},
     "output_type": "execute_result"
    }
   ],
   "source": [
    "s.asfreq('D')"
   ]
  },
  {
   "cell_type": "code",
   "execution_count": 70,
   "metadata": {
    "ExecuteTime": {
     "end_time": "2021-01-10T08:24:45.131490Z",
     "start_time": "2021-01-10T08:24:45.120519Z"
    }
   },
   "outputs": [
    {
     "data": {
      "text/plain": [
       "2020-01-01 00:00:00    0.767892\n",
       "2020-01-01 12:00:00         NaN\n",
       "2020-01-02 00:00:00         NaN\n",
       "2020-01-02 12:00:00         NaN\n",
       "2020-01-03 00:00:00   -0.445279\n",
       "2020-01-03 12:00:00         NaN\n",
       "2020-01-04 00:00:00         NaN\n",
       "2020-01-04 12:00:00         NaN\n",
       "2020-01-05 00:00:00    0.084127\n",
       "2020-01-05 12:00:00         NaN\n",
       "2020-01-06 00:00:00         NaN\n",
       "2020-01-06 12:00:00         NaN\n",
       "2020-01-07 00:00:00   -0.346331\n",
       "2020-01-07 12:00:00         NaN\n",
       "2020-01-08 00:00:00         NaN\n",
       "2020-01-08 12:00:00         NaN\n",
       "2020-01-09 00:00:00    0.669826\n",
       "Freq: 12H, dtype: float64"
      ]
     },
     "execution_count": 70,
     "metadata": {},
     "output_type": "execute_result"
    }
   ],
   "source": [
    "s.asfreq('12H')"
   ]
  },
  {
   "cell_type": "markdown",
   "metadata": {},
   "source": [
    "#### 2.3. dt对象\n",
    "\n",
    "* 如同之前提到的**category类型上的cat对象**和**string上的str对象**，**timestamp时间序列类型定义了dt对象**\n",
    "\n",
    "* 同样的dt对象具备着 一系列的函数的属性可以直接调用\n",
    "\n",
    "* **第一类操作的常用属性包括：** date, time, year, month, day, hour, minute, second, microsecond, nanosecond, **dayofweek**, dayofyear, weekofyear, daysinmonth, quarter ，其中 daysinmonth, quarter 分别表示该月有多少天 和季度。\n"
   ]
  },
  {
   "cell_type": "code",
   "execution_count": 71,
   "metadata": {
    "ExecuteTime": {
     "end_time": "2021-01-10T08:32:26.842386Z",
     "start_time": "2021-01-10T08:32:26.830418Z"
    }
   },
   "outputs": [
    {
     "data": {
      "text/plain": [
       "0   2021-01-10\n",
       "1   2021-01-11\n",
       "2   2021-01-12\n",
       "3   2021-01-13\n",
       "4   2021-01-14\n",
       "dtype: datetime64[ns]"
      ]
     },
     "execution_count": 71,
     "metadata": {},
     "output_type": "execute_result"
    }
   ],
   "source": [
    "time = pd.Series(pd.date_range('2021-01-10',periods = 5 ,freq='D'))\n",
    "time"
   ]
  },
  {
   "cell_type": "code",
   "execution_count": 73,
   "metadata": {
    "ExecuteTime": {
     "end_time": "2021-01-10T08:32:50.254233Z",
     "start_time": "2021-01-10T08:32:50.132276Z"
    }
   },
   "outputs": [
    {
     "data": {
      "text/plain": [
       "0    2021-01-10\n",
       "1    2021-01-11\n",
       "2    2021-01-12\n",
       "3    2021-01-13\n",
       "4    2021-01-14\n",
       "dtype: object"
      ]
     },
     "execution_count": 73,
     "metadata": {},
     "output_type": "execute_result"
    }
   ],
   "source": [
    "# date\n",
    "\n",
    "time.dt.date"
   ]
  },
  {
   "cell_type": "code",
   "execution_count": 74,
   "metadata": {
    "ExecuteTime": {
     "end_time": "2021-01-10T08:33:03.399061Z",
     "start_time": "2021-01-10T08:33:03.277386Z"
    }
   },
   "outputs": [
    {
     "data": {
      "text/plain": [
       "0    10\n",
       "1    11\n",
       "2    12\n",
       "3    13\n",
       "4    14\n",
       "dtype: int64"
      ]
     },
     "execution_count": 74,
     "metadata": {},
     "output_type": "execute_result"
    }
   ],
   "source": [
    "# day\n",
    "\n",
    "time.dt.day"
   ]
  },
  {
   "cell_type": "code",
   "execution_count": 75,
   "metadata": {
    "ExecuteTime": {
     "end_time": "2021-01-10T08:33:32.900955Z",
     "start_time": "2021-01-10T08:33:32.894970Z"
    }
   },
   "outputs": [
    {
     "data": {
      "text/plain": [
       "0    6\n",
       "1    0\n",
       "2    1\n",
       "3    2\n",
       "4    3\n",
       "dtype: int64"
      ]
     },
     "execution_count": 75,
     "metadata": {},
     "output_type": "execute_result"
    }
   ],
   "source": [
    "# dayofweek 这周的第几天\n",
    "\n",
    "time.dt.dayofweek"
   ]
  },
  {
   "cell_type": "code",
   "execution_count": 95,
   "metadata": {
    "ExecuteTime": {
     "end_time": "2021-01-10T08:49:18.424402Z",
     "start_time": "2021-01-10T08:49:18.417420Z"
    }
   },
   "outputs": [
    {
     "data": {
      "text/plain": [
       "0   2021-01-10\n",
       "1   2021-01-11\n",
       "2   2021-01-12\n",
       "3   2021-01-13\n",
       "4   2021-01-14\n",
       "dtype: datetime64[ns]"
      ]
     },
     "execution_count": 95,
     "metadata": {},
     "output_type": "execute_result"
    }
   ],
   "source": [
    "# dayinmonth \n",
    "\n",
    "s = pd.Series(pd.date_range('2021-01-10',periods = 5 ,freq='d'))\n",
    "\n",
    "s"
   ]
  },
  {
   "cell_type": "code",
   "execution_count": 96,
   "metadata": {
    "ExecuteTime": {
     "end_time": "2021-01-10T08:49:19.361390Z",
     "start_time": "2021-01-10T08:49:19.355408Z"
    }
   },
   "outputs": [
    {
     "data": {
      "text/plain": [
       "0    31\n",
       "1    31\n",
       "2    31\n",
       "3    31\n",
       "4    31\n",
       "dtype: int64"
      ]
     },
     "execution_count": 96,
     "metadata": {},
     "output_type": "execute_result"
    }
   ],
   "source": [
    "s.dt.daysinmonth"
   ]
  },
  {
   "cell_type": "code",
   "execution_count": 101,
   "metadata": {
    "ExecuteTime": {
     "end_time": "2021-01-10T08:51:47.975464Z",
     "start_time": "2021-01-10T08:51:47.968522Z"
    }
   },
   "outputs": [
    {
     "data": {
      "text/plain": [
       "0     January\n",
       "1    February\n",
       "2       March\n",
       "3       April\n",
       "4         May\n",
       "dtype: object"
      ]
     },
     "execution_count": 101,
     "metadata": {},
     "output_type": "execute_result"
    }
   ],
   "source": [
    "# month_name\n",
    "s = pd.Series(pd.date_range(start = '2021-01-10',periods = 5 ,freq='m'))\n",
    "\n",
    "s.dt.month_name()"
   ]
  },
  {
   "cell_type": "code",
   "execution_count": 103,
   "metadata": {
    "ExecuteTime": {
     "end_time": "2021-01-10T08:52:50.344373Z",
     "start_time": "2021-01-10T08:52:50.337392Z"
    }
   },
   "outputs": [
    {
     "data": {
      "text/plain": [
       "0       Sunday\n",
       "1       Sunday\n",
       "2    Wednesday\n",
       "3       Friday\n",
       "4       Monday\n",
       "dtype: object"
      ]
     },
     "execution_count": 103,
     "metadata": {},
     "output_type": "execute_result"
    }
   ],
   "source": [
    "# weekname\n",
    "\n",
    "s.dt.day_name()"
   ]
  },
  {
   "cell_type": "markdown",
   "metadata": {},
   "source": [
    "* **第二类判断操作**主要用于测试是否为月/季/年的第一天is_year_start或者最后一天is_year_end\n",
    "\n",
    "    对应的还有 is_quarter/month_start/end"
   ]
  },
  {
   "cell_type": "code",
   "execution_count": 104,
   "metadata": {
    "ExecuteTime": {
     "end_time": "2021-01-10T08:57:31.689038Z",
     "start_time": "2021-01-10T08:57:31.680934Z"
    }
   },
   "outputs": [
    {
     "data": {
      "text/plain": [
       "0     True\n",
       "1    False\n",
       "2    False\n",
       "3    False\n",
       "4    False\n",
       "dtype: bool"
      ]
     },
     "execution_count": 104,
     "metadata": {},
     "output_type": "execute_result"
    }
   ],
   "source": [
    "# is_year_start\n",
    "\n",
    "s = pd.Series(pd.date_range(start = '2021-01-01',periods = 5 ,freq='d'))\n",
    "s.dt.is_year_start"
   ]
  },
  {
   "cell_type": "markdown",
   "metadata": {},
   "source": [
    "* **第三类的取整操作**包含 round, ceil, floor ，它们的公共参数为 freq ，常用的包括 H, min, S （小时、分钟、秒），所有可选的 freq 可参考 [此处](https://pandas.pydata.org/docs/user_guide/timeseries.html#offset-aliases) 。"
   ]
  },
  {
   "cell_type": "code",
   "execution_count": 106,
   "metadata": {
    "ExecuteTime": {
     "end_time": "2021-01-10T09:16:54.323598Z",
     "start_time": "2021-01-10T09:16:54.317616Z"
    }
   },
   "outputs": [
    {
     "data": {
      "text/plain": [
       "0   2021-01-10 20:35:00\n",
       "1   2021-01-10 21:20:00\n",
       "2   2021-01-10 22:05:00\n",
       "dtype: datetime64[ns]"
      ]
     },
     "execution_count": 106,
     "metadata": {},
     "output_type": "execute_result"
    }
   ],
   "source": [
    "# \n",
    "s = pd.Series(pd.date_range(start = '2021-01-10 20:35:00' , periods = 3,freq = '45min'))\n",
    "s"
   ]
  },
  {
   "cell_type": "code",
   "execution_count": 108,
   "metadata": {
    "ExecuteTime": {
     "end_time": "2021-01-10T09:17:31.182575Z",
     "start_time": "2021-01-10T09:17:30.789410Z"
    }
   },
   "outputs": [
    {
     "data": {
      "text/plain": [
       "0   2021-01-10 21:00:00\n",
       "1   2021-01-10 21:00:00\n",
       "2   2021-01-10 22:00:00\n",
       "dtype: datetime64[ns]"
      ]
     },
     "execution_count": 108,
     "metadata": {},
     "output_type": "execute_result"
    }
   ],
   "source": [
    "# round\n",
    "\n",
    "s.dt.round(freq = 'H')"
   ]
  },
  {
   "cell_type": "code",
   "execution_count": 109,
   "metadata": {
    "ExecuteTime": {
     "end_time": "2021-01-10T09:18:00.659177Z",
     "start_time": "2021-01-10T09:18:00.650202Z"
    }
   },
   "outputs": [
    {
     "data": {
      "text/plain": [
       "0   2021-01-10 21:00:00\n",
       "1   2021-01-10 22:00:00\n",
       "2   2021-01-10 23:00:00\n",
       "dtype: datetime64[ns]"
      ]
     },
     "execution_count": 109,
     "metadata": {},
     "output_type": "execute_result"
    }
   ],
   "source": [
    "# ceil\n",
    "\n",
    "s.dt.ceil(freq = 'H')"
   ]
  },
  {
   "cell_type": "code",
   "execution_count": 110,
   "metadata": {
    "ExecuteTime": {
     "end_time": "2021-01-10T09:18:21.844216Z",
     "start_time": "2021-01-10T09:18:21.838352Z"
    }
   },
   "outputs": [
    {
     "data": {
      "text/plain": [
       "0   2021-01-10 20:00:00\n",
       "1   2021-01-10 21:00:00\n",
       "2   2021-01-10 22:00:00\n",
       "dtype: datetime64[ns]"
      ]
     },
     "execution_count": 110,
     "metadata": {},
     "output_type": "execute_result"
    }
   ],
   "source": [
    "# floor\n",
    "\n",
    "s.dt.floor(freq = 'H')"
   ]
  },
  {
   "cell_type": "markdown",
   "metadata": {},
   "source": [
    "#### 2.4. 时间戳的切片与索引\n",
    "\n",
    "* 时间戳的切片和索引 本质和 其他序列 的索引没有区别，一个是通过 **dt对象和布尔对象联合使用**，一个是利用简单的 **切片索引**\n",
    "\n",
    "下面可以通过简单的示例来完成时间戳的切片："
   ]
  },
  {
   "cell_type": "code",
   "execution_count": 125,
   "metadata": {
    "ExecuteTime": {
     "end_time": "2021-01-10T09:40:09.619596Z",
     "start_time": "2021-01-10T09:40:09.596659Z"
    }
   },
   "outputs": [
    {
     "data": {
      "text/html": [
       "<div>\n",
       "<style scoped>\n",
       "    .dataframe tbody tr th:only-of-type {\n",
       "        vertical-align: middle;\n",
       "    }\n",
       "\n",
       "    .dataframe tbody tr th {\n",
       "        vertical-align: top;\n",
       "    }\n",
       "\n",
       "    .dataframe thead th {\n",
       "        text-align: right;\n",
       "    }\n",
       "</style>\n",
       "<table border=\"1\" class=\"dataframe\">\n",
       "  <thead>\n",
       "    <tr style=\"text-align: right;\">\n",
       "      <th></th>\n",
       "      <th>School</th>\n",
       "      <th>Grade</th>\n",
       "      <th>Name</th>\n",
       "      <th>Gender</th>\n",
       "      <th>Height</th>\n",
       "      <th>Weight</th>\n",
       "      <th>Transfer</th>\n",
       "      <th>Test_Number</th>\n",
       "      <th>Time_Record</th>\n",
       "    </tr>\n",
       "    <tr>\n",
       "      <th>Test_Date</th>\n",
       "      <th></th>\n",
       "      <th></th>\n",
       "      <th></th>\n",
       "      <th></th>\n",
       "      <th></th>\n",
       "      <th></th>\n",
       "      <th></th>\n",
       "      <th></th>\n",
       "      <th></th>\n",
       "    </tr>\n",
       "  </thead>\n",
       "  <tbody>\n",
       "    <tr>\n",
       "      <th>2019-10-05</th>\n",
       "      <td>Shanghai Jiao Tong University</td>\n",
       "      <td>Freshman</td>\n",
       "      <td>Gaopeng Yang</td>\n",
       "      <td>Female</td>\n",
       "      <td>158.9</td>\n",
       "      <td>46.0</td>\n",
       "      <td>N</td>\n",
       "      <td>1</td>\n",
       "      <td>0:04:34</td>\n",
       "    </tr>\n",
       "    <tr>\n",
       "      <th>2019-09-04</th>\n",
       "      <td>Peking University</td>\n",
       "      <td>Freshman</td>\n",
       "      <td>Changqiang You</td>\n",
       "      <td>Male</td>\n",
       "      <td>166.5</td>\n",
       "      <td>70.0</td>\n",
       "      <td>N</td>\n",
       "      <td>1</td>\n",
       "      <td>0:04:20</td>\n",
       "    </tr>\n",
       "    <tr>\n",
       "      <th>2019-09-12</th>\n",
       "      <td>Shanghai Jiao Tong University</td>\n",
       "      <td>Senior</td>\n",
       "      <td>Mei Sun</td>\n",
       "      <td>Male</td>\n",
       "      <td>188.9</td>\n",
       "      <td>89.0</td>\n",
       "      <td>N</td>\n",
       "      <td>2</td>\n",
       "      <td>0:05:22</td>\n",
       "    </tr>\n",
       "    <tr>\n",
       "      <th>2020-01-03</th>\n",
       "      <td>Fudan University</td>\n",
       "      <td>Sophomore</td>\n",
       "      <td>Xiaojuan Sun</td>\n",
       "      <td>Female</td>\n",
       "      <td>NaN</td>\n",
       "      <td>41.0</td>\n",
       "      <td>N</td>\n",
       "      <td>2</td>\n",
       "      <td>0:04:08</td>\n",
       "    </tr>\n",
       "    <tr>\n",
       "      <th>2019-11-06</th>\n",
       "      <td>Fudan University</td>\n",
       "      <td>Sophomore</td>\n",
       "      <td>Gaojuan You</td>\n",
       "      <td>Male</td>\n",
       "      <td>174.0</td>\n",
       "      <td>74.0</td>\n",
       "      <td>N</td>\n",
       "      <td>2</td>\n",
       "      <td>0:05:22</td>\n",
       "    </tr>\n",
       "  </tbody>\n",
       "</table>\n",
       "</div>"
      ],
      "text/plain": [
       "                                   School      Grade            Name  Gender  \\\n",
       "Test_Date                                                                      \n",
       "2019-10-05  Shanghai Jiao Tong University   Freshman    Gaopeng Yang  Female   \n",
       "2019-09-04              Peking University   Freshman  Changqiang You    Male   \n",
       "2019-09-12  Shanghai Jiao Tong University     Senior         Mei Sun    Male   \n",
       "2020-01-03               Fudan University  Sophomore    Xiaojuan Sun  Female   \n",
       "2019-11-06               Fudan University  Sophomore     Gaojuan You    Male   \n",
       "\n",
       "            Height  Weight Transfer  Test_Number Time_Record  \n",
       "Test_Date                                                     \n",
       "2019-10-05   158.9    46.0        N            1     0:04:34  \n",
       "2019-09-04   166.5    70.0        N            1     0:04:20  \n",
       "2019-09-12   188.9    89.0        N            2     0:05:22  \n",
       "2020-01-03     NaN    41.0        N            2     0:04:08  \n",
       "2019-11-06   174.0    74.0        N            2     0:05:22  "
      ]
     },
     "execution_count": 125,
     "metadata": {},
     "output_type": "execute_result"
    }
   ],
   "source": [
    "# 数据集\n",
    "\n",
    "df = pd.read_csv('../data/learn_pandas.csv')\n",
    "df['Test_Date'] = pd.to_datetime(df['Test_Date'])\n",
    "df.set_index('Test_Date',inplace = True)\n",
    "df.head()"
   ]
  },
  {
   "cell_type": "code",
   "execution_count": 127,
   "metadata": {
    "ExecuteTime": {
     "end_time": "2021-01-10T09:41:03.824731Z",
     "start_time": "2021-01-10T09:41:03.809770Z"
    }
   },
   "outputs": [
    {
     "data": {
      "text/html": [
       "<div>\n",
       "<style scoped>\n",
       "    .dataframe tbody tr th:only-of-type {\n",
       "        vertical-align: middle;\n",
       "    }\n",
       "\n",
       "    .dataframe tbody tr th {\n",
       "        vertical-align: top;\n",
       "    }\n",
       "\n",
       "    .dataframe thead th {\n",
       "        text-align: right;\n",
       "    }\n",
       "</style>\n",
       "<table border=\"1\" class=\"dataframe\">\n",
       "  <thead>\n",
       "    <tr style=\"text-align: right;\">\n",
       "      <th></th>\n",
       "      <th>School</th>\n",
       "      <th>Grade</th>\n",
       "      <th>Name</th>\n",
       "      <th>Gender</th>\n",
       "      <th>Height</th>\n",
       "      <th>Weight</th>\n",
       "      <th>Transfer</th>\n",
       "      <th>Test_Number</th>\n",
       "      <th>Time_Record</th>\n",
       "    </tr>\n",
       "    <tr>\n",
       "      <th>Test_Date</th>\n",
       "      <th></th>\n",
       "      <th></th>\n",
       "      <th></th>\n",
       "      <th></th>\n",
       "      <th></th>\n",
       "      <th></th>\n",
       "      <th></th>\n",
       "      <th></th>\n",
       "      <th></th>\n",
       "    </tr>\n",
       "  </thead>\n",
       "  <tbody>\n",
       "    <tr>\n",
       "      <th>2019-10-05</th>\n",
       "      <td>Shanghai Jiao Tong University</td>\n",
       "      <td>Freshman</td>\n",
       "      <td>Gaopeng Yang</td>\n",
       "      <td>Female</td>\n",
       "      <td>158.9</td>\n",
       "      <td>46.0</td>\n",
       "      <td>N</td>\n",
       "      <td>1</td>\n",
       "      <td>0:04:34</td>\n",
       "    </tr>\n",
       "    <tr>\n",
       "      <th>2019-10-05</th>\n",
       "      <td>Peking University</td>\n",
       "      <td>Junior</td>\n",
       "      <td>Juan Xu</td>\n",
       "      <td>Female</td>\n",
       "      <td>164.8</td>\n",
       "      <td>NaN</td>\n",
       "      <td>N</td>\n",
       "      <td>3</td>\n",
       "      <td>0:04:05</td>\n",
       "    </tr>\n",
       "    <tr>\n",
       "      <th>2019-10-05</th>\n",
       "      <td>Peking University</td>\n",
       "      <td>Junior</td>\n",
       "      <td>Changjuan You</td>\n",
       "      <td>Female</td>\n",
       "      <td>161.4</td>\n",
       "      <td>47.0</td>\n",
       "      <td>N</td>\n",
       "      <td>1</td>\n",
       "      <td>0:04:08</td>\n",
       "    </tr>\n",
       "    <tr>\n",
       "      <th>2019-10-08</th>\n",
       "      <td>Peking University</td>\n",
       "      <td>Freshman</td>\n",
       "      <td>Gaoli Zhao</td>\n",
       "      <td>Male</td>\n",
       "      <td>175.4</td>\n",
       "      <td>78.0</td>\n",
       "      <td>N</td>\n",
       "      <td>2</td>\n",
       "      <td>0:03:32</td>\n",
       "    </tr>\n",
       "    <tr>\n",
       "      <th>2019-10-07</th>\n",
       "      <td>Tsinghua University</td>\n",
       "      <td>Sophomore</td>\n",
       "      <td>Li Wang</td>\n",
       "      <td>Male</td>\n",
       "      <td>175.0</td>\n",
       "      <td>79.0</td>\n",
       "      <td>N</td>\n",
       "      <td>1</td>\n",
       "      <td>0:04:12</td>\n",
       "    </tr>\n",
       "    <tr>\n",
       "      <th>2019-10-09</th>\n",
       "      <td>Shanghai Jiao Tong University</td>\n",
       "      <td>Senior</td>\n",
       "      <td>Chunpeng Lv</td>\n",
       "      <td>Female</td>\n",
       "      <td>164.1</td>\n",
       "      <td>56.0</td>\n",
       "      <td>N</td>\n",
       "      <td>1</td>\n",
       "      <td>0:04:28</td>\n",
       "    </tr>\n",
       "    <tr>\n",
       "      <th>2019-10-07</th>\n",
       "      <td>Tsinghua University</td>\n",
       "      <td>Freshman</td>\n",
       "      <td>Gaojuan Qin</td>\n",
       "      <td>Female</td>\n",
       "      <td>NaN</td>\n",
       "      <td>41.0</td>\n",
       "      <td>N</td>\n",
       "      <td>1</td>\n",
       "      <td>0:05:04</td>\n",
       "    </tr>\n",
       "    <tr>\n",
       "      <th>2019-10-06</th>\n",
       "      <td>Shanghai Jiao Tong University</td>\n",
       "      <td>Freshman</td>\n",
       "      <td>Changmei Lv</td>\n",
       "      <td>Male</td>\n",
       "      <td>172.2</td>\n",
       "      <td>75.0</td>\n",
       "      <td>N</td>\n",
       "      <td>1</td>\n",
       "      <td>0:04:15</td>\n",
       "    </tr>\n",
       "    <tr>\n",
       "      <th>2019-10-09</th>\n",
       "      <td>Fudan University</td>\n",
       "      <td>Freshman</td>\n",
       "      <td>Yanjuan Zhao</td>\n",
       "      <td>Female</td>\n",
       "      <td>NaN</td>\n",
       "      <td>53.0</td>\n",
       "      <td>N</td>\n",
       "      <td>2</td>\n",
       "      <td>0:04:21</td>\n",
       "    </tr>\n",
       "  </tbody>\n",
       "</table>\n",
       "</div>"
      ],
      "text/plain": [
       "                                   School      Grade           Name  Gender  \\\n",
       "Test_Date                                                                     \n",
       "2019-10-05  Shanghai Jiao Tong University   Freshman   Gaopeng Yang  Female   \n",
       "2019-10-05              Peking University     Junior        Juan Xu  Female   \n",
       "2019-10-05              Peking University     Junior  Changjuan You  Female   \n",
       "2019-10-08              Peking University   Freshman     Gaoli Zhao    Male   \n",
       "2019-10-07            Tsinghua University  Sophomore        Li Wang    Male   \n",
       "2019-10-09  Shanghai Jiao Tong University     Senior    Chunpeng Lv  Female   \n",
       "2019-10-07            Tsinghua University   Freshman    Gaojuan Qin  Female   \n",
       "2019-10-06  Shanghai Jiao Tong University   Freshman    Changmei Lv    Male   \n",
       "2019-10-09               Fudan University   Freshman   Yanjuan Zhao  Female   \n",
       "\n",
       "            Height  Weight Transfer  Test_Number Time_Record  \n",
       "Test_Date                                                     \n",
       "2019-10-05   158.9    46.0        N            1     0:04:34  \n",
       "2019-10-05   164.8     NaN        N            3     0:04:05  \n",
       "2019-10-05   161.4    47.0        N            1     0:04:08  \n",
       "2019-10-08   175.4    78.0        N            2     0:03:32  \n",
       "2019-10-07   175.0    79.0        N            1     0:04:12  \n",
       "2019-10-09   164.1    56.0        N            1     0:04:28  \n",
       "2019-10-07     NaN    41.0        N            1     0:05:04  \n",
       "2019-10-06   172.2    75.0        N            1     0:04:15  \n",
       "2019-10-09     NaN    53.0        N            2     0:04:21  "
      ]
     },
     "execution_count": 127,
     "metadata": {},
     "output_type": "execute_result"
    }
   ],
   "source": [
    "df.loc['2019-10-05':'2019-10-10',:]"
   ]
  },
  {
   "cell_type": "code",
   "execution_count": 142,
   "metadata": {
    "ExecuteTime": {
     "end_time": "2021-01-10T09:50:00.588899Z",
     "start_time": "2021-01-10T09:50:00.582914Z"
    }
   },
   "outputs": [
    {
     "data": {
      "text/plain": [
       "Test_Date\n",
       "2019-10-05      Gaopeng Yang\n",
       "2019-09-04    Changqiang You\n",
       "2019-09-12           Mei Sun\n",
       "2020-01-03      Xiaojuan Sun\n",
       "2019-11-06       Gaojuan You\n",
       "Name: Name, dtype: object"
      ]
     },
     "execution_count": 142,
     "metadata": {},
     "output_type": "execute_result"
    }
   ],
   "source": [
    "# 为了简单起见，选取部分数据作为示例\n",
    "s = df['Name']\n",
    "idx = pd.Series(s.index).dt\n",
    "\n",
    "s.head()"
   ]
  },
  {
   "cell_type": "markdown",
   "metadata": {
    "ExecuteTime": {
     "end_time": "2021-01-10T09:33:01.915086Z",
     "start_time": "2021-01-10T09:33:01.896138Z"
    }
   },
   "source": [
    "* Example1：每月的第一天或者最后一天"
   ]
  },
  {
   "cell_type": "code",
   "execution_count": 149,
   "metadata": {
    "ExecuteTime": {
     "end_time": "2021-01-10T09:53:52.285203Z",
     "start_time": "2021-01-10T09:53:52.278223Z"
    }
   },
   "outputs": [
    {
     "data": {
      "text/plain": [
       "Test_Date\n",
       "2019-10-31        Xiaoli Qian\n",
       "2020-01-01    Changqiang Yang\n",
       "2019-09-30          Qiang Chu\n",
       "2019-10-01     Xiaoquan Zhang\n",
       "2019-11-01    Chengpeng Zheng\n",
       "Name: Name, dtype: object"
      ]
     },
     "execution_count": 149,
     "metadata": {},
     "output_type": "execute_result"
    }
   ],
   "source": [
    "s[(idx.is_month_start|idx.is_month_end).values].head()"
   ]
  },
  {
   "cell_type": "markdown",
   "metadata": {},
   "source": [
    "* Example2：工作日"
   ]
  },
  {
   "cell_type": "code",
   "execution_count": 152,
   "metadata": {
    "ExecuteTime": {
     "end_time": "2021-01-10T09:58:11.943669Z",
     "start_time": "2021-01-10T09:58:11.933687Z"
    }
   },
   "outputs": [
    {
     "data": {
      "text/plain": [
       "Test_Date\n",
       "2019-09-04    Changqiang You\n",
       "2019-09-12           Mei Sun\n",
       "2020-01-03      Xiaojuan Sun\n",
       "2019-11-06       Gaojuan You\n",
       "2019-10-31       Xiaoli Qian\n",
       "Name: Name, dtype: object"
      ]
     },
     "execution_count": 152,
     "metadata": {},
     "output_type": "execute_result"
    }
   ],
   "source": [
    "s[(idx.dayofweek.isin([0,1,2,3,4])).values].head()"
   ]
  },
  {
   "cell_type": "markdown",
   "metadata": {},
   "source": [
    "* Example4：取出九月"
   ]
  },
  {
   "cell_type": "code",
   "execution_count": 156,
   "metadata": {
    "ExecuteTime": {
     "end_time": "2021-01-10T10:02:03.839106Z",
     "start_time": "2021-01-10T10:02:03.830131Z"
    }
   },
   "outputs": [
    {
     "data": {
      "text/plain": [
       "Test_Date\n",
       "2019-09-04    Changqiang You\n",
       "2019-09-12           Mei Sun\n",
       "2019-09-03     Gaoqiang Qian\n",
       "2019-09-29     Xiaopeng Zhou\n",
       "2019-09-16       Xiaoquan Lv\n",
       "Name: Name, dtype: object"
      ]
     },
     "execution_count": 156,
     "metadata": {},
     "output_type": "execute_result"
    }
   ],
   "source": [
    "s['2019-9'].head()"
   ]
  },
  {
   "cell_type": "markdown",
   "metadata": {},
   "source": [
    "* Example5：切片索引"
   ]
  },
  {
   "cell_type": "code",
   "execution_count": 158,
   "metadata": {
    "ExecuteTime": {
     "end_time": "2021-01-10T10:03:20.259041Z",
     "start_time": "2021-01-10T10:03:20.252027Z"
    }
   },
   "outputs": [
    {
     "data": {
      "text/plain": [
       "Test_Date\n",
       "2019-09-29    Xiaopeng Zhou\n",
       "2019-09-30        Qiang Chu\n",
       "2019-09-28      Gaopeng Qin\n",
       "2019-09-28        Juan Zhao\n",
       "2019-09-28         Mei Feng\n",
       "2019-09-28            Li Lv\n",
       "2019-09-30       Juan Zhang\n",
       "Name: Name, dtype: object"
      ]
     },
     "execution_count": 158,
     "metadata": {},
     "output_type": "execute_result"
    }
   ],
   "source": [
    "s['2019-09-28':'2019-09-30']"
   ]
  },
  {
   "cell_type": "markdown",
   "metadata": {},
   "source": [
    "### 三、时间差 \n",
    "\n",
    "####  3.1. Timedelta的生成\n",
    "\n",
    "* 时间差可以理解为两个时间戳的差，同样的也可以通过 **pd.Timedelta** 来构造  \n",
    "\n",
    "\n",
    "* 生成时间差序列还有**pd.to_timedelta**，使用方法和生成时间差序列的是一样的\n",
    "  \n",
    "\n",
    "* 生成一系列的时间差序列有 **pd.timedelta_range**  \n",
    "\n",
    "\n",
    "* 时间差序列 同样也是使用dt对象，常用的属性有  **days, seconds, mircroseconds, nanoseconds** 需要注意的是，这里的 seconds 不是指单纯的秒，而是对天数取余后剩余的秒数，如果不想对天数取余而直接对应秒数，可以使用 total_seconds  \n",
    "\n",
    "\n"
   ]
  },
  {
   "cell_type": "code",
   "execution_count": 159,
   "metadata": {
    "ExecuteTime": {
     "end_time": "2021-01-10T10:13:41.453044Z",
     "start_time": "2021-01-10T10:13:41.407207Z"
    }
   },
   "outputs": [
    {
     "data": {
      "text/plain": [
       "Timedelta('0 days 00:01:56')"
      ]
     },
     "execution_count": 159,
     "metadata": {},
     "output_type": "execute_result"
    }
   ],
   "source": [
    "# 两个时间戳的差\n",
    "\n",
    "pd.Timestamp('2020-01-10 18:13:00') - pd.Timestamp('2020-01-10 18:11:04')"
   ]
  },
  {
   "cell_type": "code",
   "execution_count": 160,
   "metadata": {
    "ExecuteTime": {
     "end_time": "2021-01-10T10:19:25.356792Z",
     "start_time": "2021-01-10T10:19:25.351771Z"
    }
   },
   "outputs": [
    {
     "data": {
      "text/plain": [
       "Timedelta('1 days 00:25:00')"
      ]
     },
     "execution_count": 160,
     "metadata": {},
     "output_type": "execute_result"
    }
   ],
   "source": [
    "# pd.Timedelta\n",
    "\n",
    "pd.Timedelta(days=1, minutes=25)"
   ]
  },
  {
   "cell_type": "code",
   "execution_count": 161,
   "metadata": {
    "ExecuteTime": {
     "end_time": "2021-01-10T10:24:02.290312Z",
     "start_time": "2021-01-10T10:24:02.285360Z"
    }
   },
   "outputs": [
    {
     "data": {
      "text/plain": [
       "Timedelta('0 days 00:01:25')"
      ]
     },
     "execution_count": 161,
     "metadata": {},
     "output_type": "execute_result"
    }
   ],
   "source": [
    "# pd.Timedelta\n",
    "pd.Timedelta('1 minutes 25 seconds')"
   ]
  },
  {
   "cell_type": "code",
   "execution_count": 163,
   "metadata": {
    "ExecuteTime": {
     "end_time": "2021-01-10T10:27:52.929929Z",
     "start_time": "2021-01-10T10:27:52.922918Z"
    }
   },
   "outputs": [
    {
     "data": {
      "text/plain": [
       "Test_Date\n",
       "2019-10-05   0 days 00:04:34\n",
       "2019-09-04   0 days 00:04:20\n",
       "2019-09-12   0 days 00:05:22\n",
       "2020-01-03   0 days 00:04:08\n",
       "2019-11-06   0 days 00:05:22\n",
       "Name: Time_Record, dtype: timedelta64[ns]"
      ]
     },
     "execution_count": 163,
     "metadata": {},
     "output_type": "execute_result"
    }
   ],
   "source": [
    "# pd.to_timedelta\n",
    "\n",
    "s = pd.to_timedelta(df['Time_Record'])\n",
    "s.head()"
   ]
  },
  {
   "cell_type": "code",
   "execution_count": 165,
   "metadata": {
    "ExecuteTime": {
     "end_time": "2021-01-10T10:32:46.790874Z",
     "start_time": "2021-01-10T10:32:46.783926Z"
    }
   },
   "outputs": [
    {
     "data": {
      "text/plain": [
       "TimedeltaIndex(['0 days 00:00:00', '0 days 00:01:00', '0 days 00:02:00',\n",
       "                '0 days 00:03:00', '0 days 00:04:00', '0 days 00:05:00',\n",
       "                '0 days 00:06:00', '0 days 00:07:00', '0 days 00:08:00',\n",
       "                '0 days 00:09:00', '0 days 00:10:00', '0 days 00:11:00',\n",
       "                '0 days 00:12:00', '0 days 00:13:00', '0 days 00:14:00',\n",
       "                '0 days 00:15:00', '0 days 00:16:00'],\n",
       "               dtype='timedelta64[ns]', freq='60S')"
      ]
     },
     "execution_count": 165,
     "metadata": {},
     "output_type": "execute_result"
    }
   ],
   "source": [
    "# timedelta_range 使用方法是与 date_range 一样的\n",
    "\n",
    "s  = pd.timedelta_range('0s','1000s',freq = '60s')\n",
    "s"
   ]
  },
  {
   "cell_type": "markdown",
   "metadata": {},
   "source": [
    "####  3.2. Timedelta的运算\n",
    "\n",
    "* 时间差支持的常用运算有三类：与标量的乘法运算、与时间戳的加减法运算、与时间差的加减法与除法运算：\n"
   ]
  },
  {
   "cell_type": "code",
   "execution_count": 167,
   "metadata": {
    "ExecuteTime": {
     "end_time": "2021-01-10T12:21:29.976357Z",
     "start_time": "2021-01-10T12:21:29.970376Z"
    }
   },
   "outputs": [
    {
     "data": {
      "text/plain": [
       "Timestamp('2020-01-02 00:00:00')"
      ]
     },
     "execution_count": 167,
     "metadata": {},
     "output_type": "execute_result"
    }
   ],
   "source": [
    "## 时间戳的计算\n",
    "\n",
    "td1 = pd.Timedelta(days =1)\n",
    "\n",
    "ts = pd.Timestamp('20200101')\n",
    "\n",
    "td1+ts"
   ]
  },
  {
   "cell_type": "markdown",
   "metadata": {},
   "source": [
    "* 同样的 时间差的序列也可以直接做计算\n"
   ]
  },
  {
   "cell_type": "code",
   "execution_count": 169,
   "metadata": {
    "ExecuteTime": {
     "end_time": "2021-01-10T12:24:52.041106Z",
     "start_time": "2021-01-10T12:24:52.035094Z"
    }
   },
   "outputs": [
    {
     "data": {
      "text/plain": [
       "TimedeltaIndex(['1 days', '2 days', '3 days', '4 days', '5 days'], dtype='timedelta64[ns]', freq='D')"
      ]
     },
     "execution_count": 169,
     "metadata": {},
     "output_type": "execute_result"
    }
   ],
   "source": [
    "# \n",
    "\n",
    "td1 = pd.timedelta_range(start='1 days', periods = 5)\n",
    "\n",
    "td1"
   ]
  },
  {
   "cell_type": "code",
   "execution_count": 170,
   "metadata": {
    "ExecuteTime": {
     "end_time": "2021-01-10T12:24:58.375208Z",
     "start_time": "2021-01-10T12:24:58.023070Z"
    }
   },
   "outputs": [
    {
     "data": {
      "text/plain": [
       "TimedeltaIndex(['5 days', '10 days', '15 days', '20 days', '25 days'], dtype='timedelta64[ns]', freq='5D')"
      ]
     },
     "execution_count": 170,
     "metadata": {},
     "output_type": "execute_result"
    }
   ],
   "source": [
    "td1*5"
   ]
  },
  {
   "cell_type": "code",
   "execution_count": 171,
   "metadata": {
    "ExecuteTime": {
     "end_time": "2021-01-10T12:25:55.710938Z",
     "start_time": "2021-01-10T12:25:55.704926Z"
    }
   },
   "outputs": [
    {
     "data": {
      "text/plain": [
       "DatetimeIndex(['2020-01-01', '2020-01-02', '2020-01-03', '2020-01-04',\n",
       "               '2020-01-05'],\n",
       "              dtype='datetime64[ns]', freq='D')"
      ]
     },
     "execution_count": 171,
     "metadata": {},
     "output_type": "execute_result"
    }
   ],
   "source": [
    "# \n",
    "\n",
    "ts = pd.date_range('20200101','20200105')\n",
    "ts"
   ]
  },
  {
   "cell_type": "code",
   "execution_count": 173,
   "metadata": {
    "ExecuteTime": {
     "end_time": "2021-01-10T12:26:14.502786Z",
     "start_time": "2021-01-10T12:26:14.496804Z"
    }
   },
   "outputs": [
    {
     "data": {
      "text/plain": [
       "DatetimeIndex(['2020-01-06', '2020-01-12', '2020-01-18', '2020-01-24',\n",
       "               '2020-01-30'],\n",
       "              dtype='datetime64[ns]', freq=None)"
      ]
     },
     "execution_count": 173,
     "metadata": {},
     "output_type": "execute_result"
    }
   ],
   "source": [
    "ts + td1*5"
   ]
  },
  {
   "cell_type": "markdown",
   "metadata": {},
   "source": [
    "\n",
    "### 四、时间偏置\n",
    "\n",
    "#### 4.1. Offset对象\n",
    "\n",
    "* 日期偏置是一种特殊时间差吗，首先通过 定义 offset对象，再通过加减 offset 得到我们需要的日期\n",
    "\n",
    "* EX1 2020年9月第一个周一的日期"
   ]
  },
  {
   "cell_type": "code",
   "execution_count": 174,
   "metadata": {
    "ExecuteTime": {
     "end_time": "2021-01-10T12:41:28.666109Z",
     "start_time": "2021-01-10T12:41:28.555643Z"
    }
   },
   "outputs": [
    {
     "data": {
      "text/plain": [
       "Timestamp('2020-09-07 00:00:00')"
      ]
     },
     "execution_count": 174,
     "metadata": {},
     "output_type": "execute_result"
    }
   ],
   "source": [
    "pd.Timestamp('20200831') + pd.offsets.WeekOfMonth(week =0 ,weekday = 0)"
   ]
  },
  {
   "cell_type": "markdown",
   "metadata": {},
   "source": [
    "* EX2 2020年9月7日后的第30个工作日是哪一天"
   ]
  },
  {
   "cell_type": "code",
   "execution_count": 175,
   "metadata": {
    "ExecuteTime": {
     "end_time": "2021-01-10T12:42:13.094549Z",
     "start_time": "2021-01-10T12:42:13.087554Z"
    }
   },
   "outputs": [
    {
     "data": {
      "text/plain": [
       "Timestamp('2020-10-19 00:00:00')"
      ]
     },
     "execution_count": 175,
     "metadata": {},
     "output_type": "execute_result"
    }
   ],
   "source": [
    " pd.Timestamp('20200907') + pd.offsets.BDay(30)"
   ]
  },
  {
   "cell_type": "markdown",
   "metadata": {},
   "source": [
    "* 常用的日期偏置可以 查阅这个[文档](https://pandas.pydata.org/docs/user_guide/timeseries.html#dateoffset-objects)\n",
    "    \n",
    "    *  pd.offsets.BDay() 偏移多少个工作日\n",
    "    *  pd.offsets.CDay() 自定义工作日，设置偏移量\n",
    "    *  pd.offsets.WeekOfMonth() 每个月的第几周的第几天"
   ]
  },
  {
   "attachments": {
    "image.png": {
     "image/png": "[encoded data removed]"
    }
   },
   "cell_type": "markdown",
   "metadata": {},
   "source": [
    "#### 4.2. 偏置字符串\n",
    "\n",
    "* 第一节提到生成日期时间戳的函数 date_range 的freq取值 其实和offset的日期偏一一对应，可以参照[官方文档](https://pandas.pydata.org/docs/user_guide/timeseries.html#dateoffset-objects)\n",
    "\n",
    "![image.png](attachment:image.png)\n",
    "\n",
    "下面是一些常见的例子\n",
    "* Example1：按照每个月初偏移"
   ]
  },
  {
   "cell_type": "code",
   "execution_count": 177,
   "metadata": {
    "ExecuteTime": {
     "end_time": "2021-01-10T12:58:14.503103Z",
     "start_time": "2021-01-10T12:58:14.497109Z"
    }
   },
   "outputs": [
    {
     "data": {
      "text/plain": [
       "DatetimeIndex(['2021-02-01', '2021-03-01'], dtype='datetime64[ns]', freq='MS')"
      ]
     },
     "execution_count": 177,
     "metadata": {},
     "output_type": "execute_result"
    }
   ],
   "source": [
    "pd.date_range('20210110','20210331',freq='MS')"
   ]
  },
  {
   "cell_type": "code",
   "execution_count": 180,
   "metadata": {
    "ExecuteTime": {
     "end_time": "2021-01-10T13:00:15.521005Z",
     "start_time": "2021-01-10T13:00:15.515048Z"
    }
   },
   "outputs": [
    {
     "data": {
      "text/plain": [
       "DatetimeIndex(['2021-02-01', '2021-03-01'], dtype='datetime64[ns]', freq='MS')"
      ]
     },
     "execution_count": 180,
     "metadata": {},
     "output_type": "execute_result"
    }
   ],
   "source": [
    "pd.date_range('20210110','20210331',\n",
    "              freq=  pd.offsets.MonthBegin())"
   ]
  },
  {
   "cell_type": "markdown",
   "metadata": {},
   "source": [
    "* Example2：按照工作日偏移"
   ]
  },
  {
   "cell_type": "code",
   "execution_count": 179,
   "metadata": {
    "ExecuteTime": {
     "end_time": "2021-01-10T12:59:10.346180Z",
     "start_time": "2021-01-10T12:59:10.340230Z"
    }
   },
   "outputs": [
    {
     "data": {
      "text/plain": [
       "DatetimeIndex(['2021-01-11', '2021-01-12', '2021-01-13', '2021-01-14',\n",
       "               '2021-01-15', '2021-01-18', '2021-01-19', '2021-01-20',\n",
       "               '2021-01-21', '2021-01-22', '2021-01-25', '2021-01-26',\n",
       "               '2021-01-27', '2021-01-28', '2021-01-29', '2021-02-01',\n",
       "               '2021-02-02', '2021-02-03', '2021-02-04', '2021-02-05',\n",
       "               '2021-02-08', '2021-02-09', '2021-02-10', '2021-02-11',\n",
       "               '2021-02-12', '2021-02-15', '2021-02-16', '2021-02-17',\n",
       "               '2021-02-18', '2021-02-19', '2021-02-22', '2021-02-23',\n",
       "               '2021-02-24', '2021-02-25', '2021-02-26', '2021-03-01',\n",
       "               '2021-03-02', '2021-03-03', '2021-03-04', '2021-03-05',\n",
       "               '2021-03-08', '2021-03-09', '2021-03-10', '2021-03-11',\n",
       "               '2021-03-12', '2021-03-15', '2021-03-16', '2021-03-17',\n",
       "               '2021-03-18', '2021-03-19', '2021-03-22', '2021-03-23',\n",
       "               '2021-03-24', '2021-03-25', '2021-03-26', '2021-03-29',\n",
       "               '2021-03-30', '2021-03-31'],\n",
       "              dtype='datetime64[ns]', freq='B')"
      ]
     },
     "execution_count": 179,
     "metadata": {},
     "output_type": "execute_result"
    }
   ],
   "source": [
    "pd.date_range('20210110','20210331',freq='B')"
   ]
  },
  {
   "cell_type": "code",
   "execution_count": 182,
   "metadata": {
    "ExecuteTime": {
     "end_time": "2021-01-10T13:00:57.282582Z",
     "start_time": "2021-01-10T13:00:57.274602Z"
    }
   },
   "outputs": [
    {
     "data": {
      "text/plain": [
       "DatetimeIndex(['2021-01-11', '2021-01-12', '2021-01-13', '2021-01-14',\n",
       "               '2021-01-15', '2021-01-18', '2021-01-19', '2021-01-20',\n",
       "               '2021-01-21', '2021-01-22', '2021-01-25', '2021-01-26',\n",
       "               '2021-01-27', '2021-01-28', '2021-01-29', '2021-02-01',\n",
       "               '2021-02-02', '2021-02-03', '2021-02-04', '2021-02-05',\n",
       "               '2021-02-08', '2021-02-09', '2021-02-10', '2021-02-11',\n",
       "               '2021-02-12', '2021-02-15', '2021-02-16', '2021-02-17',\n",
       "               '2021-02-18', '2021-02-19', '2021-02-22', '2021-02-23',\n",
       "               '2021-02-24', '2021-02-25', '2021-02-26', '2021-03-01',\n",
       "               '2021-03-02', '2021-03-03', '2021-03-04', '2021-03-05',\n",
       "               '2021-03-08', '2021-03-09', '2021-03-10', '2021-03-11',\n",
       "               '2021-03-12', '2021-03-15', '2021-03-16', '2021-03-17',\n",
       "               '2021-03-18', '2021-03-19', '2021-03-22', '2021-03-23',\n",
       "               '2021-03-24', '2021-03-25', '2021-03-26', '2021-03-29',\n",
       "               '2021-03-30', '2021-03-31'],\n",
       "              dtype='datetime64[ns]', freq='B')"
      ]
     },
     "execution_count": 182,
     "metadata": {},
     "output_type": "execute_result"
    }
   ],
   "source": [
    "pd.date_range('20210110','20210331',freq=pd.offsets.BusinessDay())"
   ]
  },
  {
   "cell_type": "markdown",
   "metadata": {},
   "source": [
    "* Example3：按周一偏移"
   ]
  },
  {
   "cell_type": "code",
   "execution_count": 186,
   "metadata": {
    "ExecuteTime": {
     "end_time": "2021-01-10T13:04:16.025911Z",
     "start_time": "2021-01-10T13:04:16.020406Z"
    }
   },
   "outputs": [
    {
     "data": {
      "text/plain": [
       "DatetimeIndex(['2021-01-11', '2021-01-18', '2021-01-25', '2021-02-01',\n",
       "               '2021-02-08', '2021-02-15', '2021-02-22', '2021-03-01',\n",
       "               '2021-03-08', '2021-03-15', '2021-03-22', '2021-03-29'],\n",
       "              dtype='datetime64[ns]', freq='W-MON')"
      ]
     },
     "execution_count": 186,
     "metadata": {},
     "output_type": "execute_result"
    }
   ],
   "source": [
    "pd.date_range('20210110','20210331',freq='W-MON')"
   ]
  },
  {
   "cell_type": "code",
   "execution_count": 188,
   "metadata": {
    "ExecuteTime": {
     "end_time": "2021-01-10T13:04:54.320797Z",
     "start_time": "2021-01-10T13:04:54.241044Z"
    }
   },
   "outputs": [
    {
     "data": {
      "text/plain": [
       "DatetimeIndex(['2021-01-11', '2021-01-18', '2021-01-25', '2021-02-01',\n",
       "               '2021-02-08', '2021-02-15', '2021-02-22', '2021-03-01',\n",
       "               '2021-03-08', '2021-03-15', '2021-03-22', '2021-03-29'],\n",
       "              dtype='datetime64[ns]', freq='C')"
      ]
     },
     "execution_count": 188,
     "metadata": {},
     "output_type": "execute_result"
    }
   ],
   "source": [
    "pd.date_range('20210110','20210331',freq=pd.offsets.CDay(weekmask = 'Mon'))"
   ]
  },
  {
   "cell_type": "markdown",
   "metadata": {},
   "source": [
    "### 五、时序中的滑窗与分组\n",
    "\n",
    "#### 5.1. 滑动窗口\n",
    "\n",
    "* 时序的滑动窗口 rolling 函数\n"
   ]
  },
  {
   "cell_type": "code",
   "execution_count": null,
   "metadata": {},
   "outputs": [],
   "source": [
    "df.Date.rolling()"
   ]
  },
  {
   "cell_type": "markdown",
   "metadata": {},
   "source": [
    "#### 5.2. 重采样\n",
    "\n",
    "这一部分学习暂时空着"
   ]
  },
  {
   "cell_type": "markdown",
   "metadata": {},
   "source": [
    "### 六、练习\n",
    "\n",
    "#### Ex1：太阳辐射数据集"
   ]
  },
  {
   "cell_type": "code",
   "execution_count": 192,
   "metadata": {
    "ExecuteTime": {
     "end_time": "2021-01-10T13:16:57.991291Z",
     "start_time": "2021-01-10T13:16:57.932887Z"
    }
   },
   "outputs": [
    {
     "data": {
      "text/html": [
       "<div>\n",
       "<style scoped>\n",
       "    .dataframe tbody tr th:only-of-type {\n",
       "        vertical-align: middle;\n",
       "    }\n",
       "\n",
       "    .dataframe tbody tr th {\n",
       "        vertical-align: top;\n",
       "    }\n",
       "\n",
       "    .dataframe thead th {\n",
       "        text-align: right;\n",
       "    }\n",
       "</style>\n",
       "<table border=\"1\" class=\"dataframe\">\n",
       "  <thead>\n",
       "    <tr style=\"text-align: right;\">\n",
       "      <th></th>\n",
       "      <th>Data</th>\n",
       "      <th>Time</th>\n",
       "      <th>Radiation</th>\n",
       "      <th>Temperature</th>\n",
       "    </tr>\n",
       "  </thead>\n",
       "  <tbody>\n",
       "    <tr>\n",
       "      <th>0</th>\n",
       "      <td>9/29/2016 12:00:00 AM</td>\n",
       "      <td>23:55:26</td>\n",
       "      <td>1.21</td>\n",
       "      <td>48</td>\n",
       "    </tr>\n",
       "    <tr>\n",
       "      <th>1</th>\n",
       "      <td>9/29/2016 12:00:00 AM</td>\n",
       "      <td>23:50:23</td>\n",
       "      <td>1.21</td>\n",
       "      <td>48</td>\n",
       "    </tr>\n",
       "    <tr>\n",
       "      <th>2</th>\n",
       "      <td>9/29/2016 12:00:00 AM</td>\n",
       "      <td>23:45:26</td>\n",
       "      <td>1.23</td>\n",
       "      <td>48</td>\n",
       "    </tr>\n",
       "    <tr>\n",
       "      <th>3</th>\n",
       "      <td>9/29/2016 12:00:00 AM</td>\n",
       "      <td>23:40:21</td>\n",
       "      <td>1.21</td>\n",
       "      <td>48</td>\n",
       "    </tr>\n",
       "    <tr>\n",
       "      <th>4</th>\n",
       "      <td>9/29/2016 12:00:00 AM</td>\n",
       "      <td>23:35:24</td>\n",
       "      <td>1.17</td>\n",
       "      <td>48</td>\n",
       "    </tr>\n",
       "  </tbody>\n",
       "</table>\n",
       "</div>"
      ],
      "text/plain": [
       "                    Data      Time  Radiation  Temperature\n",
       "0  9/29/2016 12:00:00 AM  23:55:26       1.21           48\n",
       "1  9/29/2016 12:00:00 AM  23:50:23       1.21           48\n",
       "2  9/29/2016 12:00:00 AM  23:45:26       1.23           48\n",
       "3  9/29/2016 12:00:00 AM  23:40:21       1.21           48\n",
       "4  9/29/2016 12:00:00 AM  23:35:24       1.17           48"
      ]
     },
     "execution_count": 192,
     "metadata": {},
     "output_type": "execute_result"
    }
   ],
   "source": [
    "# 数据集\n",
    "\n",
    "df = pd.read_csv('../data/solar.csv',\n",
    "                 usecols = ['Data','Time','Radiation','Temperature'])\n",
    "\n",
    "df.head()"
   ]
  },
  {
   "cell_type": "code",
   "execution_count": 210,
   "metadata": {
    "ExecuteTime": {
     "end_time": "2021-01-10T13:32:08.796435Z",
     "start_time": "2021-01-10T13:32:08.786197Z"
    }
   },
   "outputs": [
    {
     "data": {
      "text/html": [
       "<div>\n",
       "<style scoped>\n",
       "    .dataframe tbody tr th:only-of-type {\n",
       "        vertical-align: middle;\n",
       "    }\n",
       "\n",
       "    .dataframe tbody tr th {\n",
       "        vertical-align: top;\n",
       "    }\n",
       "\n",
       "    .dataframe thead th {\n",
       "        text-align: right;\n",
       "    }\n",
       "</style>\n",
       "<table border=\"1\" class=\"dataframe\">\n",
       "  <thead>\n",
       "    <tr style=\"text-align: right;\">\n",
       "      <th></th>\n",
       "      <th>Data</th>\n",
       "      <th>Time</th>\n",
       "      <th>Radiation</th>\n",
       "      <th>Temperature</th>\n",
       "    </tr>\n",
       "    <tr>\n",
       "      <th>Datetime</th>\n",
       "      <th></th>\n",
       "      <th></th>\n",
       "      <th></th>\n",
       "      <th></th>\n",
       "    </tr>\n",
       "  </thead>\n",
       "  <tbody>\n",
       "    <tr>\n",
       "      <th>2016-12-31 23:35:02</th>\n",
       "      <td>12/31/2016 12:00:00 AM</td>\n",
       "      <td>23:35:02</td>\n",
       "      <td>1.22</td>\n",
       "      <td>41</td>\n",
       "    </tr>\n",
       "    <tr>\n",
       "      <th>2016-12-31 23:40:01</th>\n",
       "      <td>12/31/2016 12:00:00 AM</td>\n",
       "      <td>23:40:01</td>\n",
       "      <td>1.21</td>\n",
       "      <td>41</td>\n",
       "    </tr>\n",
       "    <tr>\n",
       "      <th>2016-12-31 23:45:04</th>\n",
       "      <td>12/31/2016 12:00:00 AM</td>\n",
       "      <td>23:45:04</td>\n",
       "      <td>1.21</td>\n",
       "      <td>42</td>\n",
       "    </tr>\n",
       "    <tr>\n",
       "      <th>2016-12-31 23:50:03</th>\n",
       "      <td>12/31/2016 12:00:00 AM</td>\n",
       "      <td>23:50:03</td>\n",
       "      <td>1.19</td>\n",
       "      <td>41</td>\n",
       "    </tr>\n",
       "    <tr>\n",
       "      <th>2016-12-31 23:55:01</th>\n",
       "      <td>12/31/2016 12:00:00 AM</td>\n",
       "      <td>23:55:01</td>\n",
       "      <td>1.21</td>\n",
       "      <td>41</td>\n",
       "    </tr>\n",
       "  </tbody>\n",
       "</table>\n",
       "</div>"
      ],
      "text/plain": [
       "                                       Data      Time  Radiation  Temperature\n",
       "Datetime                                                                     \n",
       "2016-12-31 23:35:02  12/31/2016 12:00:00 AM  23:35:02       1.22           41\n",
       "2016-12-31 23:40:01  12/31/2016 12:00:00 AM  23:40:01       1.21           41\n",
       "2016-12-31 23:45:04  12/31/2016 12:00:00 AM  23:45:04       1.21           42\n",
       "2016-12-31 23:50:03  12/31/2016 12:00:00 AM  23:50:03       1.19           41\n",
       "2016-12-31 23:55:01  12/31/2016 12:00:00 AM  23:55:01       1.21           41"
      ]
     },
     "execution_count": 210,
     "metadata": {},
     "output_type": "execute_result"
    }
   ],
   "source": [
    "df.tail()"
   ]
  },
  {
   "cell_type": "markdown",
   "metadata": {},
   "source": [
    "* 1、将Datetime, Time 合并为一个时间列 Datetime ，同时把它作为索引后排序。"
   ]
  },
  {
   "cell_type": "code",
   "execution_count": 203,
   "metadata": {
    "ExecuteTime": {
     "end_time": "2021-01-10T13:24:17.445209Z",
     "start_time": "2021-01-10T13:24:13.039495Z"
    }
   },
   "outputs": [
    {
     "data": {
      "text/html": [
       "<div>\n",
       "<style scoped>\n",
       "    .dataframe tbody tr th:only-of-type {\n",
       "        vertical-align: middle;\n",
       "    }\n",
       "\n",
       "    .dataframe tbody tr th {\n",
       "        vertical-align: top;\n",
       "    }\n",
       "\n",
       "    .dataframe thead th {\n",
       "        text-align: right;\n",
       "    }\n",
       "</style>\n",
       "<table border=\"1\" class=\"dataframe\">\n",
       "  <thead>\n",
       "    <tr style=\"text-align: right;\">\n",
       "      <th></th>\n",
       "      <th>Data</th>\n",
       "      <th>Time</th>\n",
       "      <th>Radiation</th>\n",
       "      <th>Temperature</th>\n",
       "    </tr>\n",
       "    <tr>\n",
       "      <th>Datetime</th>\n",
       "      <th></th>\n",
       "      <th></th>\n",
       "      <th></th>\n",
       "      <th></th>\n",
       "    </tr>\n",
       "  </thead>\n",
       "  <tbody>\n",
       "    <tr>\n",
       "      <th>2016-09-01 00:00:08</th>\n",
       "      <td>9/1/2016 12:00:00 AM</td>\n",
       "      <td>00:00:08</td>\n",
       "      <td>2.58</td>\n",
       "      <td>51</td>\n",
       "    </tr>\n",
       "    <tr>\n",
       "      <th>2016-09-01 00:05:10</th>\n",
       "      <td>9/1/2016 12:00:00 AM</td>\n",
       "      <td>00:05:10</td>\n",
       "      <td>2.83</td>\n",
       "      <td>51</td>\n",
       "    </tr>\n",
       "    <tr>\n",
       "      <th>2016-09-01 00:20:06</th>\n",
       "      <td>9/1/2016 12:00:00 AM</td>\n",
       "      <td>00:20:06</td>\n",
       "      <td>2.16</td>\n",
       "      <td>51</td>\n",
       "    </tr>\n",
       "    <tr>\n",
       "      <th>2016-09-01 00:25:05</th>\n",
       "      <td>9/1/2016 12:00:00 AM</td>\n",
       "      <td>00:25:05</td>\n",
       "      <td>2.21</td>\n",
       "      <td>51</td>\n",
       "    </tr>\n",
       "    <tr>\n",
       "      <th>2016-09-01 00:30:09</th>\n",
       "      <td>9/1/2016 12:00:00 AM</td>\n",
       "      <td>00:30:09</td>\n",
       "      <td>2.25</td>\n",
       "      <td>51</td>\n",
       "    </tr>\n",
       "  </tbody>\n",
       "</table>\n",
       "</div>"
      ],
      "text/plain": [
       "                                     Data      Time  Radiation  Temperature\n",
       "Datetime                                                                   \n",
       "2016-09-01 00:00:08  9/1/2016 12:00:00 AM  00:00:08       2.58           51\n",
       "2016-09-01 00:05:10  9/1/2016 12:00:00 AM  00:05:10       2.83           51\n",
       "2016-09-01 00:20:06  9/1/2016 12:00:00 AM  00:20:06       2.16           51\n",
       "2016-09-01 00:25:05  9/1/2016 12:00:00 AM  00:25:05       2.21           51\n",
       "2016-09-01 00:30:09  9/1/2016 12:00:00 AM  00:30:09       2.25           51"
      ]
     },
     "execution_count": 203,
     "metadata": {},
     "output_type": "execute_result"
    }
   ],
   "source": [
    "#\n",
    "df['Datetime'] = pd.to_datetime(df['Data']+' '+df['Time'])\n",
    "df.set_index('Datetime',inplace = True)\n",
    "df = df.sort_index()\n",
    "\n",
    "df.head()"
   ]
  },
  {
   "cell_type": "markdown",
   "metadata": {
    "ExecuteTime": {
     "end_time": "2021-01-10T13:23:58.517475Z",
     "start_time": "2021-01-10T13:23:58.497500Z"
    }
   },
   "source": [
    "* 2、每条记录时间的间隔显然并不一致，请解决如下问题：\n",
    "\n",
    "    * 找出间隔时间的前三个最大值所对应的三组时间戳。\n",
    "\n",
    "    * 是否存在一个大致的范围，使得绝大多数的间隔时间都落在这个区间中？如果存在，请对此范围内的样本间隔秒数画出柱状图，设置 bins=50 。"
   ]
  },
  {
   "cell_type": "code",
   "execution_count": 245,
   "metadata": {
    "ExecuteTime": {
     "end_time": "2021-01-10T13:53:14.564005Z",
     "start_time": "2021-01-10T13:53:14.518574Z"
    }
   },
   "outputs": [
    {
     "data": {
      "text/html": [
       "<div>\n",
       "<style scoped>\n",
       "    .dataframe tbody tr th:only-of-type {\n",
       "        vertical-align: middle;\n",
       "    }\n",
       "\n",
       "    .dataframe tbody tr th {\n",
       "        vertical-align: top;\n",
       "    }\n",
       "\n",
       "    .dataframe thead th {\n",
       "        text-align: right;\n",
       "    }\n",
       "</style>\n",
       "<table border=\"1\" class=\"dataframe\">\n",
       "  <thead>\n",
       "    <tr style=\"text-align: right;\">\n",
       "      <th></th>\n",
       "      <th>Datetime</th>\n",
       "      <th>Data</th>\n",
       "      <th>Time</th>\n",
       "      <th>Radiation</th>\n",
       "      <th>Temperature</th>\n",
       "      <th>Timedetla</th>\n",
       "    </tr>\n",
       "  </thead>\n",
       "  <tbody>\n",
       "    <tr>\n",
       "      <th>26364</th>\n",
       "      <td>2016-12-09 23:55:49</td>\n",
       "      <td>12/9/2016 12:00:00 AM</td>\n",
       "      <td>23:55:49</td>\n",
       "      <td>1.20</td>\n",
       "      <td>49</td>\n",
       "      <td>0 days 23:55:49</td>\n",
       "    </tr>\n",
       "    <tr>\n",
       "      <th>29810</th>\n",
       "      <td>2016-12-21 23:55:53</td>\n",
       "      <td>12/21/2016 12:00:00 AM</td>\n",
       "      <td>23:55:53</td>\n",
       "      <td>1.21</td>\n",
       "      <td>45</td>\n",
       "      <td>0 days 23:55:53</td>\n",
       "    </tr>\n",
       "    <tr>\n",
       "      <th>30097</th>\n",
       "      <td>2016-12-22 23:55:49</td>\n",
       "      <td>12/22/2016 12:00:00 AM</td>\n",
       "      <td>23:55:49</td>\n",
       "      <td>1.22</td>\n",
       "      <td>49</td>\n",
       "      <td>0 days 23:55:49</td>\n",
       "    </tr>\n",
       "    <tr>\n",
       "      <th>30385</th>\n",
       "      <td>2016-12-23 23:55:49</td>\n",
       "      <td>12/23/2016 12:00:00 AM</td>\n",
       "      <td>23:55:49</td>\n",
       "      <td>1.23</td>\n",
       "      <td>47</td>\n",
       "      <td>0 days 23:55:49</td>\n",
       "    </tr>\n",
       "    <tr>\n",
       "      <th>30673</th>\n",
       "      <td>2016-12-24 23:56:25</td>\n",
       "      <td>12/24/2016 12:00:00 AM</td>\n",
       "      <td>23:56:25</td>\n",
       "      <td>1.23</td>\n",
       "      <td>46</td>\n",
       "      <td>0 days 23:56:25</td>\n",
       "    </tr>\n",
       "    <tr>\n",
       "      <th>30961</th>\n",
       "      <td>2016-12-25 23:55:49</td>\n",
       "      <td>12/25/2016 12:00:00 AM</td>\n",
       "      <td>23:55:49</td>\n",
       "      <td>1.24</td>\n",
       "      <td>45</td>\n",
       "      <td>0 days 23:55:49</td>\n",
       "    </tr>\n",
       "    <tr>\n",
       "      <th>31825</th>\n",
       "      <td>2016-12-28 23:55:49</td>\n",
       "      <td>12/28/2016 12:00:00 AM</td>\n",
       "      <td>23:55:49</td>\n",
       "      <td>1.18</td>\n",
       "      <td>39</td>\n",
       "      <td>0 days 23:55:49</td>\n",
       "    </tr>\n",
       "  </tbody>\n",
       "</table>\n",
       "</div>"
      ],
      "text/plain": [
       "                 Datetime                    Data      Time  Radiation  \\\n",
       "26364 2016-12-09 23:55:49   12/9/2016 12:00:00 AM  23:55:49       1.20   \n",
       "29810 2016-12-21 23:55:53  12/21/2016 12:00:00 AM  23:55:53       1.21   \n",
       "30097 2016-12-22 23:55:49  12/22/2016 12:00:00 AM  23:55:49       1.22   \n",
       "30385 2016-12-23 23:55:49  12/23/2016 12:00:00 AM  23:55:49       1.23   \n",
       "30673 2016-12-24 23:56:25  12/24/2016 12:00:00 AM  23:56:25       1.23   \n",
       "30961 2016-12-25 23:55:49  12/25/2016 12:00:00 AM  23:55:49       1.24   \n",
       "31825 2016-12-28 23:55:49  12/28/2016 12:00:00 AM  23:55:49       1.18   \n",
       "\n",
       "       Temperature       Timedetla  \n",
       "26364           49 0 days 23:55:49  \n",
       "29810           45 0 days 23:55:53  \n",
       "30097           49 0 days 23:55:49  \n",
       "30385           47 0 days 23:55:49  \n",
       "30673           46 0 days 23:56:25  \n",
       "30961           45 0 days 23:55:49  \n",
       "31825           39 0 days 23:55:49  "
      ]
     },
     "execution_count": 245,
     "metadata": {},
     "output_type": "execute_result"
    }
   ],
   "source": [
    "# 找出间隔时间的前三个最大值所对应的三组时间戳\n",
    "\n",
    "df = df.reset_index()\n",
    "df['Timedetla'] = df['Datetime'] - pd.to_datetime(df['Data'])\n",
    "\n",
    "#\n",
    "time_3max = pd.Series(df['Timedetla'].sort_values().unique()).iloc[-3:]\n",
    "time_3max\n",
    "\n",
    "#\n",
    "df[df['Timedetla'].isin(time_3max)]"
   ]
  },
  {
   "cell_type": "code",
   "execution_count": 243,
   "metadata": {
    "ExecuteTime": {
     "end_time": "2021-01-10T13:52:09.589128Z",
     "start_time": "2021-01-10T13:52:09.576165Z"
    },
    "scrolled": true
   },
   "outputs": [
    {
     "data": {
      "text/plain": [
       "8296   0 days 23:55:49\n",
       "8297   0 days 23:55:53\n",
       "8298   0 days 23:56:25\n",
       "dtype: timedelta64[ns]"
      ]
     },
     "execution_count": 243,
     "metadata": {},
     "output_type": "execute_result"
    }
   ],
   "source": [
    "# 是否存在一个大致的范围，使得绝大多数的间隔时间都落在这个区间中？如果存在，请对此范围内的样本间隔秒数画出柱状图，设置 bins=50 。\n",
    "\n"
   ]
  },
  {
   "cell_type": "markdown",
   "metadata": {
    "ExecuteTime": {
     "end_time": "2021-01-10T13:52:13.698372Z",
     "start_time": "2021-01-10T13:52:13.678424Z"
    }
   },
   "source": [
    "* 3.求如下指标对应的 Series ：\n",
    "\n",
    "    * 温度与辐射量的6小时滑动相关系数\n",
    "\n",
    "    * 以三点、九点、十五点、二十一点为分割，该观测所在时间区间的温度均值序列\n",
    "\n",
    "    * 每个观测6小时前的辐射量（一般而言不会恰好取到，此时取最近时间戳对应的辐射量）\n",
    "\n"
   ]
  },
  {
   "cell_type": "code",
   "execution_count": 250,
   "metadata": {
    "ExecuteTime": {
     "end_time": "2021-01-10T13:57:23.541631Z",
     "start_time": "2021-01-10T13:57:23.530605Z"
    }
   },
   "outputs": [
    {
     "data": {
      "text/html": [
       "<div>\n",
       "<style scoped>\n",
       "    .dataframe tbody tr th:only-of-type {\n",
       "        vertical-align: middle;\n",
       "    }\n",
       "\n",
       "    .dataframe tbody tr th {\n",
       "        vertical-align: top;\n",
       "    }\n",
       "\n",
       "    .dataframe thead th {\n",
       "        text-align: right;\n",
       "    }\n",
       "</style>\n",
       "<table border=\"1\" class=\"dataframe\">\n",
       "  <thead>\n",
       "    <tr style=\"text-align: right;\">\n",
       "      <th></th>\n",
       "      <th>Datetime</th>\n",
       "      <th>Timedetla</th>\n",
       "      <th>Data</th>\n",
       "      <th>Radiation</th>\n",
       "      <th>Temperature</th>\n",
       "    </tr>\n",
       "  </thead>\n",
       "  <tbody>\n",
       "    <tr>\n",
       "      <th>0</th>\n",
       "      <td>2016-09-01 00:00:08</td>\n",
       "      <td>0 days 00:00:08</td>\n",
       "      <td>9/1/2016 12:00:00 AM</td>\n",
       "      <td>2.58</td>\n",
       "      <td>51</td>\n",
       "    </tr>\n",
       "    <tr>\n",
       "      <th>1</th>\n",
       "      <td>2016-09-01 00:05:10</td>\n",
       "      <td>0 days 00:05:10</td>\n",
       "      <td>9/1/2016 12:00:00 AM</td>\n",
       "      <td>2.83</td>\n",
       "      <td>51</td>\n",
       "    </tr>\n",
       "    <tr>\n",
       "      <th>2</th>\n",
       "      <td>2016-09-01 00:20:06</td>\n",
       "      <td>0 days 00:20:06</td>\n",
       "      <td>9/1/2016 12:00:00 AM</td>\n",
       "      <td>2.16</td>\n",
       "      <td>51</td>\n",
       "    </tr>\n",
       "    <tr>\n",
       "      <th>3</th>\n",
       "      <td>2016-09-01 00:25:05</td>\n",
       "      <td>0 days 00:25:05</td>\n",
       "      <td>9/1/2016 12:00:00 AM</td>\n",
       "      <td>2.21</td>\n",
       "      <td>51</td>\n",
       "    </tr>\n",
       "    <tr>\n",
       "      <th>4</th>\n",
       "      <td>2016-09-01 00:30:09</td>\n",
       "      <td>0 days 00:30:09</td>\n",
       "      <td>9/1/2016 12:00:00 AM</td>\n",
       "      <td>2.25</td>\n",
       "      <td>51</td>\n",
       "    </tr>\n",
       "  </tbody>\n",
       "</table>\n",
       "</div>"
      ],
      "text/plain": [
       "             Datetime       Timedetla                  Data  Radiation  \\\n",
       "0 2016-09-01 00:00:08 0 days 00:00:08  9/1/2016 12:00:00 AM       2.58   \n",
       "1 2016-09-01 00:05:10 0 days 00:05:10  9/1/2016 12:00:00 AM       2.83   \n",
       "2 2016-09-01 00:20:06 0 days 00:20:06  9/1/2016 12:00:00 AM       2.16   \n",
       "3 2016-09-01 00:25:05 0 days 00:25:05  9/1/2016 12:00:00 AM       2.21   \n",
       "4 2016-09-01 00:30:09 0 days 00:30:09  9/1/2016 12:00:00 AM       2.25   \n",
       "\n",
       "   Temperature  \n",
       "0           51  \n",
       "1           51  \n",
       "2           51  \n",
       "3           51  \n",
       "4           51  "
      ]
     },
     "execution_count": 250,
     "metadata": {},
     "output_type": "execute_result"
    }
   ],
   "source": [
    "# 温度与辐射量的6小时滑动相关系数\n",
    "\n",
    "tt = df[['Datetime','Timedetla','Data','Radiation','Temperature']]\n",
    "tt.head()"
   ]
  },
  {
   "cell_type": "code",
   "execution_count": 256,
   "metadata": {
    "ExecuteTime": {
     "end_time": "2021-01-10T14:02:29.252650Z",
     "start_time": "2021-01-10T14:02:29.230584Z"
    }
   },
   "outputs": [
    {
     "data": {
      "text/html": [
       "<div>\n",
       "<style scoped>\n",
       "    .dataframe tbody tr th:only-of-type {\n",
       "        vertical-align: middle;\n",
       "    }\n",
       "\n",
       "    .dataframe tbody tr th {\n",
       "        vertical-align: top;\n",
       "    }\n",
       "\n",
       "    .dataframe thead th {\n",
       "        text-align: right;\n",
       "    }\n",
       "</style>\n",
       "<table border=\"1\" class=\"dataframe\">\n",
       "  <thead>\n",
       "    <tr style=\"text-align: right;\">\n",
       "      <th></th>\n",
       "      <th>Timedetla</th>\n",
       "      <th>Data</th>\n",
       "      <th>Radiation</th>\n",
       "      <th>Temperature</th>\n",
       "    </tr>\n",
       "    <tr>\n",
       "      <th>Datetime</th>\n",
       "      <th></th>\n",
       "      <th></th>\n",
       "      <th></th>\n",
       "      <th></th>\n",
       "    </tr>\n",
       "  </thead>\n",
       "  <tbody>\n",
       "    <tr>\n",
       "      <th>2016-09-01 00:00:08</th>\n",
       "      <td>0 days 00:00:08</td>\n",
       "      <td>2016-09-01</td>\n",
       "      <td>2.58</td>\n",
       "      <td>51</td>\n",
       "    </tr>\n",
       "    <tr>\n",
       "      <th>2016-09-01 00:05:10</th>\n",
       "      <td>0 days 00:05:10</td>\n",
       "      <td>2016-09-01</td>\n",
       "      <td>2.83</td>\n",
       "      <td>51</td>\n",
       "    </tr>\n",
       "    <tr>\n",
       "      <th>2016-09-01 00:20:06</th>\n",
       "      <td>0 days 00:20:06</td>\n",
       "      <td>2016-09-01</td>\n",
       "      <td>2.16</td>\n",
       "      <td>51</td>\n",
       "    </tr>\n",
       "    <tr>\n",
       "      <th>2016-09-01 00:25:05</th>\n",
       "      <td>0 days 00:25:05</td>\n",
       "      <td>2016-09-01</td>\n",
       "      <td>2.21</td>\n",
       "      <td>51</td>\n",
       "    </tr>\n",
       "    <tr>\n",
       "      <th>2016-09-01 00:30:09</th>\n",
       "      <td>0 days 00:30:09</td>\n",
       "      <td>2016-09-01</td>\n",
       "      <td>2.25</td>\n",
       "      <td>51</td>\n",
       "    </tr>\n",
       "  </tbody>\n",
       "</table>\n",
       "</div>"
      ],
      "text/plain": [
       "                          Timedetla       Data  Radiation  Temperature\n",
       "Datetime                                                              \n",
       "2016-09-01 00:00:08 0 days 00:00:08 2016-09-01       2.58           51\n",
       "2016-09-01 00:05:10 0 days 00:05:10 2016-09-01       2.83           51\n",
       "2016-09-01 00:20:06 0 days 00:20:06 2016-09-01       2.16           51\n",
       "2016-09-01 00:25:05 0 days 00:25:05 2016-09-01       2.21           51\n",
       "2016-09-01 00:30:09 0 days 00:30:09 2016-09-01       2.25           51"
      ]
     },
     "execution_count": 256,
     "metadata": {},
     "output_type": "execute_result"
    }
   ],
   "source": [
    "tt = tt.set_index('Datetime')\n",
    "tt.head()"
   ]
  },
  {
   "cell_type": "code",
   "execution_count": 282,
   "metadata": {
    "ExecuteTime": {
     "end_time": "2021-01-10T14:26:13.372092Z",
     "start_time": "2021-01-10T14:26:12.498117Z"
    }
   },
   "outputs": [
    {
     "data": {
      "text/html": [
       "<div>\n",
       "<style scoped>\n",
       "    .dataframe tbody tr th:only-of-type {\n",
       "        vertical-align: middle;\n",
       "    }\n",
       "\n",
       "    .dataframe tbody tr th {\n",
       "        vertical-align: top;\n",
       "    }\n",
       "\n",
       "    .dataframe thead th {\n",
       "        text-align: right;\n",
       "    }\n",
       "</style>\n",
       "<table border=\"1\" class=\"dataframe\">\n",
       "  <thead>\n",
       "    <tr style=\"text-align: right;\">\n",
       "      <th></th>\n",
       "      <th>Radiation</th>\n",
       "      <th>Temperature</th>\n",
       "      <th>corr</th>\n",
       "    </tr>\n",
       "    <tr>\n",
       "      <th>Datetime</th>\n",
       "      <th></th>\n",
       "      <th></th>\n",
       "      <th></th>\n",
       "    </tr>\n",
       "  </thead>\n",
       "  <tbody>\n",
       "    <tr>\n",
       "      <th>2016-09-01 00:00:00</th>\n",
       "      <td>2.480000</td>\n",
       "      <td>50.415385</td>\n",
       "      <td>0.76187</td>\n",
       "    </tr>\n",
       "    <tr>\n",
       "      <th>2016-09-01 06:00:00</th>\n",
       "      <td>554.274464</td>\n",
       "      <td>54.000000</td>\n",
       "      <td>0.76187</td>\n",
       "    </tr>\n",
       "    <tr>\n",
       "      <th>2016-09-01 12:00:00</th>\n",
       "      <td>707.588197</td>\n",
       "      <td>61.442623</td>\n",
       "      <td>0.76187</td>\n",
       "    </tr>\n",
       "    <tr>\n",
       "      <th>2016-09-01 18:00:00</th>\n",
       "      <td>3.668382</td>\n",
       "      <td>52.794118</td>\n",
       "      <td>0.76187</td>\n",
       "    </tr>\n",
       "    <tr>\n",
       "      <th>2016-09-02 00:00:00</th>\n",
       "      <td>2.442879</td>\n",
       "      <td>49.772727</td>\n",
       "      <td>0.76187</td>\n",
       "    </tr>\n",
       "  </tbody>\n",
       "</table>\n",
       "</div>"
      ],
      "text/plain": [
       "                      Radiation  Temperature     corr\n",
       "Datetime                                             \n",
       "2016-09-01 00:00:00    2.480000    50.415385  0.76187\n",
       "2016-09-01 06:00:00  554.274464    54.000000  0.76187\n",
       "2016-09-01 12:00:00  707.588197    61.442623  0.76187\n",
       "2016-09-01 18:00:00    3.668382    52.794118  0.76187\n",
       "2016-09-02 00:00:00    2.442879    49.772727  0.76187"
      ]
     },
     "execution_count": 282,
     "metadata": {},
     "output_type": "execute_result"
    }
   ],
   "source": [
    "tt_resample = tt.resample('6H').mean()[['Radiation','Temperature']]\n",
    "tt_resample['corr'] = tt_resample['Radiation'].corr(tt_resample['Temperature'])\n",
    "\n",
    "tt_resample.head()"
   ]
  },
  {
   "cell_type": "code",
   "execution_count": 275,
   "metadata": {
    "ExecuteTime": {
     "end_time": "2021-01-10T14:18:26.820561Z",
     "start_time": "2021-01-10T14:18:26.812584Z"
    }
   },
   "outputs": [
    {
     "data": {
      "text/plain": [
       "Series([], Name: Temperature, dtype: int64)"
      ]
     },
     "execution_count": 275,
     "metadata": {},
     "output_type": "execute_result"
    }
   ],
   "source": [
    "#  resample 我的理解是和groupby的数据类型是一样的 但是在使用apply的方法的时候，我发现resample传入数据的方式是和dataframe的传入方式一样\n",
    "# 按列按组传入数据 这样就无法同时计算两列数据 但是groupby中的apply函数是可以这样使用的 后续可以深入比较一下"
   ]
  },
  {
   "cell_type": "code",
   "execution_count": 287,
   "metadata": {
    "ExecuteTime": {
     "end_time": "2021-01-10T14:42:52.205143Z",
     "start_time": "2021-01-10T14:42:52.191147Z"
    }
   },
   "outputs": [
    {
     "data": {
      "text/plain": [
       "Datetime\n",
       "2016-08-31 21:00:00    51.218750\n",
       "2016-09-01 03:00:00    50.033333\n",
       "2016-09-01 09:00:00    59.379310\n",
       "2016-09-01 15:00:00    57.984375\n",
       "2016-09-01 21:00:00    51.393939\n",
       "2016-09-02 03:00:00    51.380282\n",
       "2016-09-02 09:00:00    63.314286\n",
       "2016-09-02 15:00:00    58.152778\n",
       "2016-09-02 21:00:00    52.840580\n",
       "2016-09-03 03:00:00    52.750000\n",
       "Freq: 6H, Name: Temperature, dtype: float64"
      ]
     },
     "execution_count": 287,
     "metadata": {},
     "output_type": "execute_result"
    }
   ],
   "source": [
    "# 以三点、九点、十五点、二十一点为分割，该观测所在时间区间的温度均值序列\n",
    "\n",
    "tt.resample('6H',origin = 'start_day',offset='3H').mean()['Temperature'].head(10)"
   ]
  },
  {
   "cell_type": "code",
   "execution_count": null,
   "metadata": {},
   "outputs": [],
   "source": [
    "# 每个观测6小时前的辐射量（一般而言不会恰好取到，此时取最近时间戳对应的辐射量）\n",
    "\n"
   ]
  },
  {
   "cell_type": "markdown",
   "metadata": {},
   "source": [
    "#### Ex2：水果销量数据集\n",
    "\n",
    "\n"
   ]
  },
  {
   "cell_type": "code",
   "execution_count": 58,
   "metadata": {
    "ExecuteTime": {
     "end_time": "2021-01-11T06:22:05.302718Z",
     "start_time": "2021-01-11T06:22:05.284622Z"
    }
   },
   "outputs": [
    {
     "data": {
      "text/html": [
       "<div>\n",
       "<style scoped>\n",
       "    .dataframe tbody tr th:only-of-type {\n",
       "        vertical-align: middle;\n",
       "    }\n",
       "\n",
       "    .dataframe tbody tr th {\n",
       "        vertical-align: top;\n",
       "    }\n",
       "\n",
       "    .dataframe thead th {\n",
       "        text-align: right;\n",
       "    }\n",
       "</style>\n",
       "<table border=\"1\" class=\"dataframe\">\n",
       "  <thead>\n",
       "    <tr style=\"text-align: right;\">\n",
       "      <th></th>\n",
       "      <th>Date</th>\n",
       "      <th>Fruit</th>\n",
       "      <th>Sale</th>\n",
       "    </tr>\n",
       "  </thead>\n",
       "  <tbody>\n",
       "    <tr>\n",
       "      <th>0</th>\n",
       "      <td>2019-04-18</td>\n",
       "      <td>Peach</td>\n",
       "      <td>15</td>\n",
       "    </tr>\n",
       "    <tr>\n",
       "      <th>1</th>\n",
       "      <td>2019-12-29</td>\n",
       "      <td>Peach</td>\n",
       "      <td>15</td>\n",
       "    </tr>\n",
       "    <tr>\n",
       "      <th>2</th>\n",
       "      <td>2019-06-05</td>\n",
       "      <td>Peach</td>\n",
       "      <td>19</td>\n",
       "    </tr>\n",
       "    <tr>\n",
       "      <th>3</th>\n",
       "      <td>2019-10-28</td>\n",
       "      <td>Pear</td>\n",
       "      <td>19</td>\n",
       "    </tr>\n",
       "    <tr>\n",
       "      <th>4</th>\n",
       "      <td>2019-06-11</td>\n",
       "      <td>Peach</td>\n",
       "      <td>5</td>\n",
       "    </tr>\n",
       "  </tbody>\n",
       "</table>\n",
       "</div>"
      ],
      "text/plain": [
       "         Date  Fruit  Sale\n",
       "0  2019-04-18  Peach    15\n",
       "1  2019-12-29  Peach    15\n",
       "2  2019-06-05  Peach    19\n",
       "3  2019-10-28   Pear    19\n",
       "4  2019-06-11  Peach     5"
      ]
     },
     "execution_count": 58,
     "metadata": {},
     "output_type": "execute_result"
    }
   ],
   "source": [
    "# 数据集\n",
    "\n",
    "df = pd.read_csv('../data/fruit.csv')\n",
    "df.head()"
   ]
  },
  {
   "cell_type": "markdown",
   "metadata": {},
   "source": [
    "* 1、统计如下指标：\n",
    "\n",
    "    * 每月上半月（15号及之前）与下半月葡萄销量的比值\n"
   ]
  },
  {
   "cell_type": "code",
   "execution_count": 19,
   "metadata": {
    "ExecuteTime": {
     "end_time": "2021-01-11T05:51:44.731120Z",
     "start_time": "2021-01-11T05:51:44.569969Z"
    }
   },
   "outputs": [
    {
     "name": "stderr",
     "output_type": "stream",
     "text": [
      "D:\\app2\\Anaconda3\\lib\\site-packages\\pandas\\core\\generic.py:5168: SettingWithCopyWarning: \n",
      "A value is trying to be set on a copy of a slice from a DataFrame.\n",
      "Try using .loc[row_indexer,col_indexer] = value instead\n",
      "\n",
      "See the caveats in the documentation: https://pandas.pydata.org/pandas-docs/stable/user_guide/indexing.html#returning-a-view-versus-a-copy\n",
      "  self[name] = value\n"
     ]
    },
    {
     "data": {
      "text/html": [
       "<div>\n",
       "<style scoped>\n",
       "    .dataframe tbody tr th:only-of-type {\n",
       "        vertical-align: middle;\n",
       "    }\n",
       "\n",
       "    .dataframe tbody tr th {\n",
       "        vertical-align: top;\n",
       "    }\n",
       "\n",
       "    .dataframe thead th {\n",
       "        text-align: right;\n",
       "    }\n",
       "</style>\n",
       "<table border=\"1\" class=\"dataframe\">\n",
       "  <thead>\n",
       "    <tr style=\"text-align: right;\">\n",
       "      <th></th>\n",
       "      <th>Date</th>\n",
       "      <th>Fruit</th>\n",
       "      <th>Sale</th>\n",
       "    </tr>\n",
       "  </thead>\n",
       "  <tbody>\n",
       "    <tr>\n",
       "      <th>11820</th>\n",
       "      <td>2019-01-01</td>\n",
       "      <td>Grape</td>\n",
       "      <td>69</td>\n",
       "    </tr>\n",
       "    <tr>\n",
       "      <th>18217</th>\n",
       "      <td>2019-01-01</td>\n",
       "      <td>Grape</td>\n",
       "      <td>173</td>\n",
       "    </tr>\n",
       "    <tr>\n",
       "      <th>7400</th>\n",
       "      <td>2019-01-01</td>\n",
       "      <td>Grape</td>\n",
       "      <td>63</td>\n",
       "    </tr>\n",
       "    <tr>\n",
       "      <th>17383</th>\n",
       "      <td>2019-01-01</td>\n",
       "      <td>Grape</td>\n",
       "      <td>178</td>\n",
       "    </tr>\n",
       "    <tr>\n",
       "      <th>1188</th>\n",
       "      <td>2019-01-01</td>\n",
       "      <td>Grape</td>\n",
       "      <td>12</td>\n",
       "    </tr>\n",
       "  </tbody>\n",
       "</table>\n",
       "</div>"
      ],
      "text/plain": [
       "            Date  Fruit  Sale\n",
       "11820 2019-01-01  Grape    69\n",
       "18217 2019-01-01  Grape   173\n",
       "7400  2019-01-01  Grape    63\n",
       "17383 2019-01-01  Grape   178\n",
       "1188  2019-01-01  Grape    12"
      ]
     },
     "execution_count": 19,
     "metadata": {},
     "output_type": "execute_result"
    }
   ],
   "source": [
    "\n",
    "\n",
    "# 选取部分数据\n",
    "grape_df = df[df['Fruit']=='Grape']\n",
    "grape_df.Date = pd.to_datetime(grape_df.Date)\n",
    "grape_df.sort_values(by='Date').head()\n",
    "\n"
   ]
  },
  {
   "cell_type": "code",
   "execution_count": 24,
   "metadata": {
    "ExecuteTime": {
     "end_time": "2021-01-11T05:53:03.875701Z",
     "start_time": "2021-01-11T05:53:03.862701Z"
    }
   },
   "outputs": [
    {
     "data": {
      "text/plain": [
       "        Date\n",
       "First   1       12341\n",
       "        2       10106\n",
       "        3        9948\n",
       "        4       11181\n",
       "        5       10113\n",
       "        6       11102\n",
       "        7       11752\n",
       "        8       12801\n",
       "        9       12343\n",
       "        10      12426\n",
       "        11      10784\n",
       "        12      10243\n",
       "Second  1       10503\n",
       "        2       10001\n",
       "        3       12814\n",
       "        4       10894\n",
       "        5       11230\n",
       "        6       11327\n",
       "        7        8699\n",
       "        8       11727\n",
       "        9       11055\n",
       "        10      12173\n",
       "        11       8452\n",
       "        12      10350\n",
       "Name: Sale, dtype: int64"
      ]
     },
     "execution_count": 24,
     "metadata": {},
     "output_type": "execute_result"
    }
   ],
   "source": [
    "# 分组统计数据\n",
    "\n",
    "grape_df_gb = grape_df.groupby([np.where(grape_df.Date.dt.day <= 15,'First','Second'),\n",
    "                 grape_df.Date.dt.month])['Sale'].sum()\n",
    "\n",
    "# \n",
    "grape_df_gb = grape_df_gb.reset_index()\n",
    "grape_df_gb"
   ]
  },
  {
   "cell_type": "code",
   "execution_count": 39,
   "metadata": {
    "ExecuteTime": {
     "end_time": "2021-01-11T06:07:35.491827Z",
     "start_time": "2021-01-11T06:07:35.488847Z"
    }
   },
   "outputs": [],
   "source": [
    "# 计算得到结果\n",
    "\n",
    "grape_df_gb.columns = ['Day','Month','Sale']\n",
    "First_sales = grape_df_gb[grape_df_gb['Day']=='First'].Sale.values\n",
    "Second_sales = grape_df_gb[grape_df_gb['Day']=='Second'].Sale.values\n",
    "\n",
    "res = First_sales/Second_sales\n",
    "\n",
    "res"
   ]
  },
  {
   "cell_type": "markdown",
   "metadata": {
    "ExecuteTime": {
     "end_time": "2021-01-11T06:07:36.188307Z",
     "start_time": "2021-01-11T06:07:36.184318Z"
    }
   },
   "source": [
    "    * 每月最后一天的生梨销量总和"
   ]
  },
  {
   "cell_type": "code",
   "execution_count": 89,
   "metadata": {
    "ExecuteTime": {
     "end_time": "2021-01-11T06:52:01.325536Z",
     "start_time": "2021-01-11T06:52:01.297600Z"
    }
   },
   "outputs": [
    {
     "data": {
      "text/html": [
       "<div>\n",
       "<style scoped>\n",
       "    .dataframe tbody tr th:only-of-type {\n",
       "        vertical-align: middle;\n",
       "    }\n",
       "\n",
       "    .dataframe tbody tr th {\n",
       "        vertical-align: top;\n",
       "    }\n",
       "\n",
       "    .dataframe thead th {\n",
       "        text-align: right;\n",
       "    }\n",
       "</style>\n",
       "<table border=\"1\" class=\"dataframe\">\n",
       "  <thead>\n",
       "    <tr style=\"text-align: right;\">\n",
       "      <th></th>\n",
       "      <th>Date</th>\n",
       "      <th>Fruit</th>\n",
       "      <th>Sale</th>\n",
       "    </tr>\n",
       "  </thead>\n",
       "  <tbody>\n",
       "    <tr>\n",
       "      <th>45</th>\n",
       "      <td>2019-10-31</td>\n",
       "      <td>Pear</td>\n",
       "      <td>4</td>\n",
       "    </tr>\n",
       "    <tr>\n",
       "      <th>62</th>\n",
       "      <td>2019-03-31</td>\n",
       "      <td>Pear</td>\n",
       "      <td>20</td>\n",
       "    </tr>\n",
       "    <tr>\n",
       "      <th>128</th>\n",
       "      <td>2019-01-31</td>\n",
       "      <td>Pear</td>\n",
       "      <td>28</td>\n",
       "    </tr>\n",
       "    <tr>\n",
       "      <th>298</th>\n",
       "      <td>2019-11-30</td>\n",
       "      <td>Pear</td>\n",
       "      <td>20</td>\n",
       "    </tr>\n",
       "    <tr>\n",
       "      <th>383</th>\n",
       "      <td>2019-11-30</td>\n",
       "      <td>Pear</td>\n",
       "      <td>23</td>\n",
       "    </tr>\n",
       "  </tbody>\n",
       "</table>\n",
       "</div>"
      ],
      "text/plain": [
       "          Date Fruit  Sale\n",
       "45  2019-10-31  Pear     4\n",
       "62  2019-03-31  Pear    20\n",
       "128 2019-01-31  Pear    28\n",
       "298 2019-11-30  Pear    20\n",
       "383 2019-11-30  Pear    23"
      ]
     },
     "execution_count": 89,
     "metadata": {},
     "output_type": "execute_result"
    }
   ],
   "source": [
    "df['Date'] = pd.to_datetime(df['Date'])\n",
    "\n",
    "# 获取部分数据\n",
    "\n",
    "lastday = pd.date_range('2019-01-01','2020-01-01',freq= pd.offsets.MonthEnd())\n",
    "Pear_df = df[ (df['Date'].isin(lastday)) & (df['Fruit']=='Pear')]\n",
    "Pear_df.head()"
   ]
  },
  {
   "cell_type": "code",
   "execution_count": 90,
   "metadata": {
    "ExecuteTime": {
     "end_time": "2021-01-11T06:52:02.045522Z",
     "start_time": "2021-01-11T06:52:02.038541Z"
    }
   },
   "outputs": [
    {
     "data": {
      "text/plain": [
       "Date\n",
       "2019-01-31    847\n",
       "2019-02-28    774\n",
       "2019-03-31    761\n",
       "2019-04-30    648\n",
       "2019-05-31    616\n",
       "2019-06-30    179\n",
       "2019-07-31    757\n",
       "2019-08-31    813\n",
       "2019-09-30    858\n",
       "2019-10-31    753\n",
       "2019-11-30    859\n",
       "Name: Sale, dtype: int64"
      ]
     },
     "execution_count": 90,
     "metadata": {},
     "output_type": "execute_result"
    }
   ],
   "source": [
    "# 得到结果\n",
    "Pear_df.groupby('Date')['Sale'].sum()"
   ]
  },
  {
   "cell_type": "markdown",
   "metadata": {},
   "source": [
    "    * 每月最后一工作日的生梨销量总和"
   ]
  },
  {
   "cell_type": "code",
   "execution_count": 91,
   "metadata": {
    "ExecuteTime": {
     "end_time": "2021-01-11T06:53:17.991819Z",
     "start_time": "2021-01-11T06:53:17.979818Z"
    }
   },
   "outputs": [
    {
     "data": {
      "text/html": [
       "<div>\n",
       "<style scoped>\n",
       "    .dataframe tbody tr th:only-of-type {\n",
       "        vertical-align: middle;\n",
       "    }\n",
       "\n",
       "    .dataframe tbody tr th {\n",
       "        vertical-align: top;\n",
       "    }\n",
       "\n",
       "    .dataframe thead th {\n",
       "        text-align: right;\n",
       "    }\n",
       "</style>\n",
       "<table border=\"1\" class=\"dataframe\">\n",
       "  <thead>\n",
       "    <tr style=\"text-align: right;\">\n",
       "      <th></th>\n",
       "      <th>Date</th>\n",
       "      <th>Fruit</th>\n",
       "      <th>Sale</th>\n",
       "    </tr>\n",
       "  </thead>\n",
       "  <tbody>\n",
       "    <tr>\n",
       "      <th>45</th>\n",
       "      <td>2019-10-31</td>\n",
       "      <td>Pear</td>\n",
       "      <td>4</td>\n",
       "    </tr>\n",
       "    <tr>\n",
       "      <th>128</th>\n",
       "      <td>2019-01-31</td>\n",
       "      <td>Pear</td>\n",
       "      <td>28</td>\n",
       "    </tr>\n",
       "    <tr>\n",
       "      <th>777</th>\n",
       "      <td>2019-11-29</td>\n",
       "      <td>Pear</td>\n",
       "      <td>11</td>\n",
       "    </tr>\n",
       "    <tr>\n",
       "      <th>812</th>\n",
       "      <td>2019-07-31</td>\n",
       "      <td>Pear</td>\n",
       "      <td>24</td>\n",
       "    </tr>\n",
       "    <tr>\n",
       "      <th>930</th>\n",
       "      <td>2019-02-28</td>\n",
       "      <td>Pear</td>\n",
       "      <td>6</td>\n",
       "    </tr>\n",
       "  </tbody>\n",
       "</table>\n",
       "</div>"
      ],
      "text/plain": [
       "          Date Fruit  Sale\n",
       "45  2019-10-31  Pear     4\n",
       "128 2019-01-31  Pear    28\n",
       "777 2019-11-29  Pear    11\n",
       "812 2019-07-31  Pear    24\n",
       "930 2019-02-28  Pear     6"
      ]
     },
     "execution_count": 91,
     "metadata": {},
     "output_type": "execute_result"
    }
   ],
   "source": [
    "#\n",
    "lastbday = pd.date_range('2019-01-01','2019-12-31',freq= pd.offsets.BMonthEnd())\n",
    "Pear_df = df[ (df['Date'].isin(lastbday)) & (df['Fruit']=='Pear')]\n",
    "Pear_df.head()\n"
   ]
  },
  {
   "cell_type": "code",
   "execution_count": 92,
   "metadata": {
    "ExecuteTime": {
     "end_time": "2021-01-11T06:53:21.169680Z",
     "start_time": "2021-01-11T06:53:21.162729Z"
    }
   },
   "outputs": [
    {
     "data": {
      "text/plain": [
       "Date\n",
       "2019-01-31     847\n",
       "2019-02-28     774\n",
       "2019-03-29     510\n",
       "2019-04-30     648\n",
       "2019-05-31     616\n",
       "2019-06-28     605\n",
       "2019-07-31     757\n",
       "2019-08-30     502\n",
       "2019-09-30     858\n",
       "2019-10-31     753\n",
       "2019-11-29    1193\n",
       "Name: Sale, dtype: int64"
      ]
     },
     "execution_count": 92,
     "metadata": {},
     "output_type": "execute_result"
    }
   ],
   "source": [
    "# 得到结果\n",
    "Pear_df.groupby('Date')['Sale'].sum()"
   ]
  },
  {
   "cell_type": "markdown",
   "metadata": {},
   "source": [
    "    * 每月最后五天的苹果销量均值"
   ]
  },
  {
   "cell_type": "code",
   "execution_count": null,
   "metadata": {},
   "outputs": [],
   "source": [
    "#  获取每月前5天的日期数据\n",
    "\n",
    "lastday = pd.date_range('2019-01-01','2020-01-01',freq= pd.offsets.MonthEnd())\n",
    "\n",
    "last5day = pd.Series()\n",
    "for end_date in lastday:\n",
    "    day_5 = pd.Series(pd.date_range(end =end_date ,periods = 5 ,freq = 'D'))\n",
    "    last5day = pd.concat([last5day,day_5])"
   ]
  },
  {
   "cell_type": "code",
   "execution_count": 114,
   "metadata": {
    "ExecuteTime": {
     "end_time": "2021-01-11T07:13:03.431016Z",
     "start_time": "2021-01-11T07:13:03.418966Z"
    }
   },
   "outputs": [
    {
     "data": {
      "text/plain": [
       "Date\n",
       "1     65.313725\n",
       "2     54.061538\n",
       "3     59.325581\n",
       "4     65.795455\n",
       "5     57.465116\n",
       "6     61.897436\n",
       "7     57.000000\n",
       "8     73.636364\n",
       "9     62.301887\n",
       "10    59.562500\n",
       "11    64.437500\n",
       "12    66.275000\n",
       "Name: Sale, dtype: float64"
      ]
     },
     "execution_count": 114,
     "metadata": {},
     "output_type": "execute_result"
    }
   ],
   "source": [
    "# 获取数据\n",
    "\n",
    "Apple_df = df[ (df['Date'].isin(last5day)) & (df['Fruit']=='Apple')]\n",
    "Apple_df.groupby(Apple_df.Date.dt.month)['Sale'].mean()"
   ]
  },
  {
   "cell_type": "code",
   "execution_count": 118,
   "metadata": {
    "ExecuteTime": {
     "end_time": "2021-01-11T07:14:45.441435Z",
     "start_time": "2021-01-11T07:14:45.434491Z"
    }
   },
   "outputs": [
    {
     "data": {
      "text/plain": [
       "66.275"
      ]
     },
     "execution_count": 118,
     "metadata": {},
     "output_type": "execute_result"
    }
   ],
   "source": [
    "# 核对一下计算结果是否正确\n",
    "apple_sale_12 = Apple_df[Apple_df.Date.dt.month == 12]['Sale']\n",
    "apple_sale_12.mean()"
   ]
  },
  {
   "cell_type": "markdown",
   "metadata": {},
   "source": [
    "2、按月计算周一至周日各品种水果的平均记录条数，行索引外层为水果名称，内层为月份，列索引为星期。"
   ]
  },
  {
   "cell_type": "code",
   "execution_count": 142,
   "metadata": {
    "ExecuteTime": {
     "end_time": "2021-01-11T08:04:16.009471Z",
     "start_time": "2021-01-11T08:04:15.984538Z"
    }
   },
   "outputs": [
    {
     "data": {
      "text/html": [
       "<div>\n",
       "<style scoped>\n",
       "    .dataframe tbody tr th:only-of-type {\n",
       "        vertical-align: middle;\n",
       "    }\n",
       "\n",
       "    .dataframe tbody tr th {\n",
       "        vertical-align: top;\n",
       "    }\n",
       "\n",
       "    .dataframe thead th {\n",
       "        text-align: right;\n",
       "    }\n",
       "</style>\n",
       "<table border=\"1\" class=\"dataframe\">\n",
       "  <thead>\n",
       "    <tr style=\"text-align: right;\">\n",
       "      <th></th>\n",
       "      <th>Month</th>\n",
       "      <th>Weekday</th>\n",
       "      <th>Fruit</th>\n",
       "      <th>sale_count</th>\n",
       "    </tr>\n",
       "  </thead>\n",
       "  <tbody>\n",
       "    <tr>\n",
       "      <th>0</th>\n",
       "      <td>1</td>\n",
       "      <td>Friday</td>\n",
       "      <td>Apple</td>\n",
       "      <td>32</td>\n",
       "    </tr>\n",
       "    <tr>\n",
       "      <th>1</th>\n",
       "      <td>1</td>\n",
       "      <td>Friday</td>\n",
       "      <td>Banana</td>\n",
       "      <td>36</td>\n",
       "    </tr>\n",
       "    <tr>\n",
       "      <th>2</th>\n",
       "      <td>1</td>\n",
       "      <td>Friday</td>\n",
       "      <td>Grape</td>\n",
       "      <td>36</td>\n",
       "    </tr>\n",
       "    <tr>\n",
       "      <th>3</th>\n",
       "      <td>1</td>\n",
       "      <td>Friday</td>\n",
       "      <td>Peach</td>\n",
       "      <td>59</td>\n",
       "    </tr>\n",
       "    <tr>\n",
       "      <th>4</th>\n",
       "      <td>1</td>\n",
       "      <td>Friday</td>\n",
       "      <td>Pear</td>\n",
       "      <td>48</td>\n",
       "    </tr>\n",
       "  </tbody>\n",
       "</table>\n",
       "</div>"
      ],
      "text/plain": [
       "   Month Weekday   Fruit  sale_count\n",
       "0      1  Friday   Apple          32\n",
       "1      1  Friday  Banana          36\n",
       "2      1  Friday   Grape          36\n",
       "3      1  Friday   Peach          59\n",
       "4      1  Friday    Pear          48"
      ]
     },
     "execution_count": 142,
     "metadata": {},
     "output_type": "execute_result"
    }
   ],
   "source": [
    "# 统计数据\n",
    "df_gb = df.groupby([df.Date.dt.month,df.Date.dt.day_name(),df.Fruit])['Sale'].agg([('sale_count','count')])\n",
    "\n",
    "# 设置索引名称\n",
    "df_gb.index.names = ['Month','Weekday','Fruit']\n",
    "df_gb = df_gb.reset_index()\n",
    "df_gb.head()\n"
   ]
  },
  {
   "cell_type": "code",
   "execution_count": 148,
   "metadata": {
    "ExecuteTime": {
     "end_time": "2021-01-11T08:12:56.058068Z",
     "start_time": "2021-01-11T08:12:56.040149Z"
    }
   },
   "outputs": [
    {
     "data": {
      "text/html": [
       "<div>\n",
       "<style scoped>\n",
       "    .dataframe tbody tr th:only-of-type {\n",
       "        vertical-align: middle;\n",
       "    }\n",
       "\n",
       "    .dataframe tbody tr th {\n",
       "        vertical-align: top;\n",
       "    }\n",
       "\n",
       "    .dataframe thead tr th {\n",
       "        text-align: left;\n",
       "    }\n",
       "\n",
       "    .dataframe thead tr:last-of-type th {\n",
       "        text-align: right;\n",
       "    }\n",
       "</style>\n",
       "<table border=\"1\" class=\"dataframe\">\n",
       "  <thead>\n",
       "    <tr>\n",
       "      <th></th>\n",
       "      <th></th>\n",
       "      <th colspan=\"12\" halign=\"left\">sale_count</th>\n",
       "    </tr>\n",
       "    <tr>\n",
       "      <th></th>\n",
       "      <th>Month</th>\n",
       "      <th>1</th>\n",
       "      <th>2</th>\n",
       "      <th>3</th>\n",
       "      <th>4</th>\n",
       "      <th>5</th>\n",
       "      <th>6</th>\n",
       "      <th>7</th>\n",
       "      <th>8</th>\n",
       "      <th>9</th>\n",
       "      <th>10</th>\n",
       "      <th>11</th>\n",
       "      <th>12</th>\n",
       "    </tr>\n",
       "    <tr>\n",
       "      <th>Fruit</th>\n",
       "      <th>Weekday</th>\n",
       "      <th></th>\n",
       "      <th></th>\n",
       "      <th></th>\n",
       "      <th></th>\n",
       "      <th></th>\n",
       "      <th></th>\n",
       "      <th></th>\n",
       "      <th></th>\n",
       "      <th></th>\n",
       "      <th></th>\n",
       "      <th></th>\n",
       "      <th></th>\n",
       "    </tr>\n",
       "  </thead>\n",
       "  <tbody>\n",
       "    <tr>\n",
       "      <th rowspan=\"5\" valign=\"top\">Apple</th>\n",
       "      <th>Friday</th>\n",
       "      <td>32</td>\n",
       "      <td>33</td>\n",
       "      <td>52</td>\n",
       "      <td>31</td>\n",
       "      <td>46</td>\n",
       "      <td>38</td>\n",
       "      <td>37</td>\n",
       "      <td>48</td>\n",
       "      <td>34</td>\n",
       "      <td>37</td>\n",
       "      <td>46</td>\n",
       "      <td>41</td>\n",
       "    </tr>\n",
       "    <tr>\n",
       "      <th>Monday</th>\n",
       "      <td>46</td>\n",
       "      <td>43</td>\n",
       "      <td>43</td>\n",
       "      <td>47</td>\n",
       "      <td>43</td>\n",
       "      <td>40</td>\n",
       "      <td>41</td>\n",
       "      <td>38</td>\n",
       "      <td>59</td>\n",
       "      <td>42</td>\n",
       "      <td>39</td>\n",
       "      <td>45</td>\n",
       "    </tr>\n",
       "    <tr>\n",
       "      <th>Saturday</th>\n",
       "      <td>42</td>\n",
       "      <td>38</td>\n",
       "      <td>42</td>\n",
       "      <td>35</td>\n",
       "      <td>55</td>\n",
       "      <td>58</td>\n",
       "      <td>40</td>\n",
       "      <td>67</td>\n",
       "      <td>45</td>\n",
       "      <td>35</td>\n",
       "      <td>53</td>\n",
       "      <td>47</td>\n",
       "    </tr>\n",
       "    <tr>\n",
       "      <th>Sunday</th>\n",
       "      <td>23</td>\n",
       "      <td>45</td>\n",
       "      <td>42</td>\n",
       "      <td>37</td>\n",
       "      <td>31</td>\n",
       "      <td>52</td>\n",
       "      <td>34</td>\n",
       "      <td>46</td>\n",
       "      <td>49</td>\n",
       "      <td>51</td>\n",
       "      <td>37</td>\n",
       "      <td>55</td>\n",
       "    </tr>\n",
       "    <tr>\n",
       "      <th>Thursday</th>\n",
       "      <td>45</td>\n",
       "      <td>35</td>\n",
       "      <td>31</td>\n",
       "      <td>47</td>\n",
       "      <td>58</td>\n",
       "      <td>33</td>\n",
       "      <td>52</td>\n",
       "      <td>44</td>\n",
       "      <td>36</td>\n",
       "      <td>63</td>\n",
       "      <td>37</td>\n",
       "      <td>40</td>\n",
       "    </tr>\n",
       "  </tbody>\n",
       "</table>\n",
       "</div>"
      ],
      "text/plain": [
       "               sale_count                                            \n",
       "Month                  1   2   3   4   5   6   7   8   9   10  11  12\n",
       "Fruit Weekday                                                        \n",
       "Apple Friday           32  33  52  31  46  38  37  48  34  37  46  41\n",
       "      Monday           46  43  43  47  43  40  41  38  59  42  39  45\n",
       "      Saturday         42  38  42  35  55  58  40  67  45  35  53  47\n",
       "      Sunday           23  45  42  37  31  52  34  46  49  51  37  55\n",
       "      Thursday         45  35  31  47  58  33  52  44  36  63  37  40"
      ]
     },
     "execution_count": 148,
     "metadata": {},
     "output_type": "execute_result"
    }
   ],
   "source": [
    "# 按要求 长表转宽表\n",
    "\n",
    "res = df_gb.pivot(index = ['Fruit','Weekday'],\n",
    "            columns= ['Month'],\n",
    "            values = ['sale_count'])\n",
    "res.head()"
   ]
  },
  {
   "cell_type": "markdown",
   "metadata": {},
   "source": [
    "3、按天计算向前10个工作日窗口的苹果销量均值序列，非工作日的值用上一个工作日的结果填充"
   ]
  },
  {
   "cell_type": "code",
   "execution_count": 151,
   "metadata": {
    "ExecuteTime": {
     "end_time": "2021-01-11T08:30:01.585393Z",
     "start_time": "2021-01-11T08:30:01.574387Z"
    }
   },
   "outputs": [
    {
     "data": {
      "text/html": [
       "<div>\n",
       "<style scoped>\n",
       "    .dataframe tbody tr th:only-of-type {\n",
       "        vertical-align: middle;\n",
       "    }\n",
       "\n",
       "    .dataframe tbody tr th {\n",
       "        vertical-align: top;\n",
       "    }\n",
       "\n",
       "    .dataframe thead th {\n",
       "        text-align: right;\n",
       "    }\n",
       "</style>\n",
       "<table border=\"1\" class=\"dataframe\">\n",
       "  <thead>\n",
       "    <tr style=\"text-align: right;\">\n",
       "      <th></th>\n",
       "      <th>Date</th>\n",
       "      <th>Fruit</th>\n",
       "      <th>Sale</th>\n",
       "    </tr>\n",
       "  </thead>\n",
       "  <tbody>\n",
       "    <tr>\n",
       "      <th>21</th>\n",
       "      <td>2019-12-16</td>\n",
       "      <td>Apple</td>\n",
       "      <td>27</td>\n",
       "    </tr>\n",
       "    <tr>\n",
       "      <th>27</th>\n",
       "      <td>2019-05-05</td>\n",
       "      <td>Apple</td>\n",
       "      <td>17</td>\n",
       "    </tr>\n",
       "    <tr>\n",
       "      <th>39</th>\n",
       "      <td>2019-08-07</td>\n",
       "      <td>Apple</td>\n",
       "      <td>12</td>\n",
       "    </tr>\n",
       "    <tr>\n",
       "      <th>49</th>\n",
       "      <td>2019-12-24</td>\n",
       "      <td>Apple</td>\n",
       "      <td>3</td>\n",
       "    </tr>\n",
       "    <tr>\n",
       "      <th>59</th>\n",
       "      <td>2019-04-24</td>\n",
       "      <td>Apple</td>\n",
       "      <td>18</td>\n",
       "    </tr>\n",
       "  </tbody>\n",
       "</table>\n",
       "</div>"
      ],
      "text/plain": [
       "         Date  Fruit  Sale\n",
       "21 2019-12-16  Apple    27\n",
       "27 2019-05-05  Apple    17\n",
       "39 2019-08-07  Apple    12\n",
       "49 2019-12-24  Apple     3\n",
       "59 2019-04-24  Apple    18"
      ]
     },
     "execution_count": 151,
     "metadata": {},
     "output_type": "execute_result"
    }
   ],
   "source": [
    "# 获取数据\n",
    "\n",
    "apple_df = df[(df['Fruit']=='Apple')]\n",
    "apple_df.head()"
   ]
  },
  {
   "cell_type": "code",
   "execution_count": 166,
   "metadata": {
    "ExecuteTime": {
     "end_time": "2021-01-11T08:39:18.492575Z",
     "start_time": "2021-01-11T08:39:18.480113Z"
    }
   },
   "outputs": [
    {
     "data": {
      "text/html": [
       "<div>\n",
       "<style scoped>\n",
       "    .dataframe tbody tr th:only-of-type {\n",
       "        vertical-align: middle;\n",
       "    }\n",
       "\n",
       "    .dataframe tbody tr th {\n",
       "        vertical-align: top;\n",
       "    }\n",
       "\n",
       "    .dataframe thead th {\n",
       "        text-align: right;\n",
       "    }\n",
       "</style>\n",
       "<table border=\"1\" class=\"dataframe\">\n",
       "  <thead>\n",
       "    <tr style=\"text-align: right;\">\n",
       "      <th></th>\n",
       "      <th>day</th>\n",
       "      <th>last10bday</th>\n",
       "    </tr>\n",
       "  </thead>\n",
       "  <tbody>\n",
       "    <tr>\n",
       "      <th>0</th>\n",
       "      <td>2019-12-16</td>\n",
       "      <td>2019-12-02</td>\n",
       "    </tr>\n",
       "    <tr>\n",
       "      <th>1</th>\n",
       "      <td>2019-05-05</td>\n",
       "      <td>2019-04-22</td>\n",
       "    </tr>\n",
       "    <tr>\n",
       "      <th>2</th>\n",
       "      <td>2019-08-07</td>\n",
       "      <td>2019-07-24</td>\n",
       "    </tr>\n",
       "    <tr>\n",
       "      <th>3</th>\n",
       "      <td>2019-12-24</td>\n",
       "      <td>2019-12-10</td>\n",
       "    </tr>\n",
       "    <tr>\n",
       "      <th>4</th>\n",
       "      <td>2019-04-24</td>\n",
       "      <td>2019-04-10</td>\n",
       "    </tr>\n",
       "  </tbody>\n",
       "</table>\n",
       "</div>"
      ],
      "text/plain": [
       "         day last10bday\n",
       "0 2019-12-16 2019-12-02\n",
       "1 2019-05-05 2019-04-22\n",
       "2 2019-08-07 2019-07-24\n",
       "3 2019-12-24 2019-12-10\n",
       "4 2019-04-24 2019-04-10"
      ]
     },
     "execution_count": 166,
     "metadata": {},
     "output_type": "execute_result"
    }
   ],
   "source": [
    "# \n",
    "day = pd.DataFrame()\n",
    "day['day'] =  apple_df.Date\n",
    "day['last10bday'] = day['day'] - pd.offsets.BDay(10)\n",
    "day.index = np.arange(len(day))\n",
    "day.head()"
   ]
  },
  {
   "cell_type": "code",
   "execution_count": 185,
   "metadata": {
    "ExecuteTime": {
     "end_time": "2021-01-11T08:59:29.141127Z",
     "start_time": "2021-01-11T08:59:22.892254Z"
    }
   },
   "outputs": [
    {
     "data": {
      "text/plain": [
       "[58.54807692307692,\n",
       " 61.06666666666667,\n",
       " 63.18421052631579,\n",
       " 53.57943925233645,\n",
       " 60.54838709677419,\n",
       " 60.54838709677419,\n",
       " 50.323232323232325,\n",
       " 54.373831775700936,\n",
       " 59.16981132075472,\n",
       " 66.43478260869566]"
      ]
     },
     "execution_count": 185,
     "metadata": {},
     "output_type": "execute_result"
    }
   ],
   "source": [
    "# 计算均值序列\n",
    "res = []\n",
    "for idx in range(len(day)):\n",
    "    sales_idx = apple_df[(apple_df.Date.between(day.iloc[idx,1],day.iloc[idx,0])) & \n",
    "                         (~apple_df.Date.dt.dayofweek.isin([5,6]))]\n",
    "    res.append(sales_idx.Sale.mean())\n",
    "    \n",
    "res[:10]"
   ]
  },
  {
   "cell_type": "code",
   "execution_count": 188,
   "metadata": {
    "ExecuteTime": {
     "end_time": "2021-01-11T08:59:55.181710Z",
     "start_time": "2021-01-11T08:59:55.170705Z"
    }
   },
   "outputs": [
    {
     "name": "stderr",
     "output_type": "stream",
     "text": [
      "D:\\app2\\Anaconda3\\lib\\site-packages\\ipykernel_launcher.py:1: SettingWithCopyWarning: \n",
      "A value is trying to be set on a copy of a slice from a DataFrame.\n",
      "Try using .loc[row_indexer,col_indexer] = value instead\n",
      "\n",
      "See the caveats in the documentation: https://pandas.pydata.org/pandas-docs/stable/user_guide/indexing.html#returning-a-view-versus-a-copy\n",
      "  \"\"\"Entry point for launching an IPython kernel.\n"
     ]
    },
    {
     "data": {
      "text/html": [
       "<div>\n",
       "<style scoped>\n",
       "    .dataframe tbody tr th:only-of-type {\n",
       "        vertical-align: middle;\n",
       "    }\n",
       "\n",
       "    .dataframe tbody tr th {\n",
       "        vertical-align: top;\n",
       "    }\n",
       "\n",
       "    .dataframe thead th {\n",
       "        text-align: right;\n",
       "    }\n",
       "</style>\n",
       "<table border=\"1\" class=\"dataframe\">\n",
       "  <thead>\n",
       "    <tr style=\"text-align: right;\">\n",
       "      <th></th>\n",
       "      <th>Date</th>\n",
       "      <th>Fruit</th>\n",
       "      <th>Sale</th>\n",
       "      <th>10day_sale_mean</th>\n",
       "    </tr>\n",
       "  </thead>\n",
       "  <tbody>\n",
       "    <tr>\n",
       "      <th>21</th>\n",
       "      <td>2019-12-16</td>\n",
       "      <td>Apple</td>\n",
       "      <td>27</td>\n",
       "      <td>61.048387</td>\n",
       "    </tr>\n",
       "    <tr>\n",
       "      <th>27</th>\n",
       "      <td>2019-05-05</td>\n",
       "      <td>Apple</td>\n",
       "      <td>17</td>\n",
       "      <td>66.818966</td>\n",
       "    </tr>\n",
       "    <tr>\n",
       "      <th>39</th>\n",
       "      <td>2019-08-07</td>\n",
       "      <td>Apple</td>\n",
       "      <td>12</td>\n",
       "      <td>58.548077</td>\n",
       "    </tr>\n",
       "    <tr>\n",
       "      <th>49</th>\n",
       "      <td>2019-12-24</td>\n",
       "      <td>Apple</td>\n",
       "      <td>3</td>\n",
       "      <td>61.754902</td>\n",
       "    </tr>\n",
       "    <tr>\n",
       "      <th>59</th>\n",
       "      <td>2019-04-24</td>\n",
       "      <td>Apple</td>\n",
       "      <td>18</td>\n",
       "      <td>64.919643</td>\n",
       "    </tr>\n",
       "  </tbody>\n",
       "</table>\n",
       "</div>"
      ],
      "text/plain": [
       "         Date  Fruit  Sale  10day_sale_mean\n",
       "21 2019-12-16  Apple    27        61.048387\n",
       "27 2019-05-05  Apple    17        66.818966\n",
       "39 2019-08-07  Apple    12        58.548077\n",
       "49 2019-12-24  Apple     3        61.754902\n",
       "59 2019-04-24  Apple    18        64.919643"
      ]
     },
     "execution_count": 188,
     "metadata": {},
     "output_type": "execute_result"
    }
   ],
   "source": [
    "apple_df['10day_sale_mean'] = pd.Series(res)\n",
    "apple_df.head()"
   ]
  },
  {
   "cell_type": "markdown",
   "metadata": {},
   "source": [
    " 最后一问写的比较复杂，用的是暴力的解法\n",
    " \n",
    " * 先以Date为基准，偏移10个工作日，得到每个Date向前10个工作日的区间\n",
    " * 遍历按照 [ 10lastDay ： Day ]区间取出记录计算均值得到结果"
   ]
  },
  {
   "cell_type": "code",
   "execution_count": 5,
   "metadata": {
    "ExecuteTime": {
     "end_time": "2021-01-11T09:23:04.993443Z",
     "start_time": "2021-01-11T09:23:04.986095Z"
    }
   },
   "outputs": [
    {
     "data": {
      "text/plain": [
       "0   2021-01-11\n",
       "1   2021-01-21\n",
       "dtype: datetime64[ns]"
      ]
     },
     "execution_count": 5,
     "metadata": {},
     "output_type": "execute_result"
    }
   ],
   "source": [
    "s = pd.Series(pd.date_range('2021-01-11',freq = '10D',periods=2))\n",
    "s"
   ]
  },
  {
   "cell_type": "code",
   "execution_count": 6,
   "metadata": {
    "ExecuteTime": {
     "end_time": "2021-01-11T09:23:13.478856Z",
     "start_time": "2021-01-11T09:23:13.321729Z"
    }
   },
   "outputs": [
    {
     "ename": "ValueError",
     "evalue": "Invalid frequency: 10",
     "output_type": "error",
     "traceback": [
      "\u001b[1;31m---------------------------------------------------------------------------\u001b[0m",
      "\u001b[1;31mValueError\u001b[0m                                Traceback (most recent call last)",
      "\u001b[1;32mpandas\\_libs\\tslibs\\offsets.pyx\u001b[0m in \u001b[0;36mpandas._libs.tslibs.offsets.to_offset\u001b[1;34m()\u001b[0m\n",
      "\u001b[1;31mValueError\u001b[0m: last element must be blank",
      "\nThe above exception was the direct cause of the following exception:\n",
      "\u001b[1;31mValueError\u001b[0m                                Traceback (most recent call last)",
      "\u001b[1;32m<ipython-input-6-8d0840a4c155>\u001b[0m in \u001b[0;36m<module>\u001b[1;34m\u001b[0m\n\u001b[1;32m----> 1\u001b[1;33m \u001b[0ms\u001b[0m \u001b[1;33m=\u001b[0m \u001b[0mpd\u001b[0m\u001b[1;33m.\u001b[0m\u001b[0mSeries\u001b[0m\u001b[1;33m(\u001b[0m\u001b[0mpd\u001b[0m\u001b[1;33m.\u001b[0m\u001b[0mdate_range\u001b[0m\u001b[1;33m(\u001b[0m\u001b[1;34m'2021-01-11'\u001b[0m\u001b[1;33m,\u001b[0m\u001b[0mfreq\u001b[0m \u001b[1;33m=\u001b[0m \u001b[1;34m'10'\u001b[0m\u001b[1;33m,\u001b[0m\u001b[0mperiods\u001b[0m\u001b[1;33m=\u001b[0m\u001b[1;36m2\u001b[0m\u001b[1;33m)\u001b[0m\u001b[1;33m)\u001b[0m\u001b[1;33m\u001b[0m\u001b[1;33m\u001b[0m\u001b[0m\n\u001b[0m\u001b[0;32m      2\u001b[0m \u001b[0ms\u001b[0m\u001b[1;33m\u001b[0m\u001b[1;33m\u001b[0m\u001b[0m\n",
      "\u001b[1;32mD:\\app2\\Anaconda3\\lib\\site-packages\\pandas\\core\\indexes\\datetimes.py\u001b[0m in \u001b[0;36mdate_range\u001b[1;34m(start, end, periods, freq, tz, normalize, name, closed, **kwargs)\u001b[0m\n\u001b[0;32m   1005\u001b[0m         \u001b[0mnormalize\u001b[0m\u001b[1;33m=\u001b[0m\u001b[0mnormalize\u001b[0m\u001b[1;33m,\u001b[0m\u001b[1;33m\u001b[0m\u001b[1;33m\u001b[0m\u001b[0m\n\u001b[0;32m   1006\u001b[0m         \u001b[0mclosed\u001b[0m\u001b[1;33m=\u001b[0m\u001b[0mclosed\u001b[0m\u001b[1;33m,\u001b[0m\u001b[1;33m\u001b[0m\u001b[1;33m\u001b[0m\u001b[0m\n\u001b[1;32m-> 1007\u001b[1;33m         \u001b[1;33m**\u001b[0m\u001b[0mkwargs\u001b[0m\u001b[1;33m,\u001b[0m\u001b[1;33m\u001b[0m\u001b[1;33m\u001b[0m\u001b[0m\n\u001b[0m\u001b[0;32m   1008\u001b[0m     )\n\u001b[0;32m   1009\u001b[0m     \u001b[1;32mreturn\u001b[0m \u001b[0mDatetimeIndex\u001b[0m\u001b[1;33m.\u001b[0m\u001b[0m_simple_new\u001b[0m\u001b[1;33m(\u001b[0m\u001b[0mdtarr\u001b[0m\u001b[1;33m,\u001b[0m \u001b[0mname\u001b[0m\u001b[1;33m=\u001b[0m\u001b[0mname\u001b[0m\u001b[1;33m)\u001b[0m\u001b[1;33m\u001b[0m\u001b[1;33m\u001b[0m\u001b[0m\n",
      "\u001b[1;32mD:\\app2\\Anaconda3\\lib\\site-packages\\pandas\\core\\arrays\\datetimes.py\u001b[0m in \u001b[0;36m_generate_range\u001b[1;34m(cls, start, end, periods, freq, tz, normalize, ambiguous, nonexistent, closed)\u001b[0m\n\u001b[0;32m    365\u001b[0m                 \u001b[1;34m\"and freq, exactly three must be specified\"\u001b[0m\u001b[1;33m\u001b[0m\u001b[1;33m\u001b[0m\u001b[0m\n\u001b[0;32m    366\u001b[0m             )\n\u001b[1;32m--> 367\u001b[1;33m         \u001b[0mfreq\u001b[0m \u001b[1;33m=\u001b[0m \u001b[0mto_offset\u001b[0m\u001b[1;33m(\u001b[0m\u001b[0mfreq\u001b[0m\u001b[1;33m)\u001b[0m\u001b[1;33m\u001b[0m\u001b[1;33m\u001b[0m\u001b[0m\n\u001b[0m\u001b[0;32m    368\u001b[0m \u001b[1;33m\u001b[0m\u001b[0m\n\u001b[0;32m    369\u001b[0m         \u001b[1;32mif\u001b[0m \u001b[0mstart\u001b[0m \u001b[1;32mis\u001b[0m \u001b[1;32mnot\u001b[0m \u001b[1;32mNone\u001b[0m\u001b[1;33m:\u001b[0m\u001b[1;33m\u001b[0m\u001b[1;33m\u001b[0m\u001b[0m\n",
      "\u001b[1;32mpandas\\_libs\\tslibs\\offsets.pyx\u001b[0m in \u001b[0;36mpandas._libs.tslibs.offsets.to_offset\u001b[1;34m()\u001b[0m\n",
      "\u001b[1;32mpandas\\_libs\\tslibs\\offsets.pyx\u001b[0m in \u001b[0;36mpandas._libs.tslibs.offsets.to_offset\u001b[1;34m()\u001b[0m\n",
      "\u001b[1;31mValueError\u001b[0m: Invalid frequency: 10"
     ]
    }
   ],
   "source": [
    "s = pd.Series(pd.date_range('2021-01-11',freq = '10',periods=2))\n",
    "s"
   ]
  },
  {
   "cell_type": "code",
   "execution_count": null,
   "metadata": {},
   "outputs": [],
   "source": []
  }
 ],
 "metadata": {
  "kernelspec": {
   "display_name": "Python 3",
   "language": "python",
   "name": "python3"
  },
  "language_info": {
   "codemirror_mode": {
    "name": "ipython",
    "version": 3
   },
   "file_extension": ".py",
   "mimetype": "text/x-python",
   "name": "python",
   "nbconvert_exporter": "python",
   "pygments_lexer": "ipython3",
   "version": "3.6.8"
  },
  "toc": {
   "base_numbering": 1,
   "nav_menu": {},
   "number_sections": true,
   "sideBar": true,
   "skip_h1_title": false,
   "title_cell": "Table of Contents",
   "title_sidebar": "Contents",
   "toc_cell": false,
   "toc_position": {},
   "toc_section_display": true,
   "toc_window_display": true
  },
  "varInspector": {
   "cols": {
    "lenName": 16,
    "lenType": 16,
    "lenVar": 40
   },
   "kernels_config": {
    "python": {
     "delete_cmd_postfix": "",
     "delete_cmd_prefix": "del ",
     "library": "var_list.py",
     "varRefreshCmd": "print(var_dic_list())"
    },
    "r": {
     "delete_cmd_postfix": ") ",
     "delete_cmd_prefix": "rm(",
     "library": "var_list.r",
     "varRefreshCmd": "cat(var_dic_list()) "
    }
   },
   "oldHeight": 237.09045400000002,
   "position": {
    "height": "40px",
    "left": "1026.82px",
    "right": "20px",
    "top": "120px",
    "width": "350.534px"
   },
   "types_to_exclude": [
    "module",
    "function",
    "builtin_function_or_method",
    "instance",
    "_Feature"
   ],
   "varInspector_section_display": "none",
   "window_display": false
  }
 },
 "nbformat": 4,
 "nbformat_minor": 2
}
