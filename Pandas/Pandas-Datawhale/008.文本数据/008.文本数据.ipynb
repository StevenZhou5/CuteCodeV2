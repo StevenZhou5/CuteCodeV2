{
 "cells": [
  {
   "cell_type": "code",
   "execution_count": 1,
   "metadata": {
    "ExecuteTime": {
     "end_time": "2021-01-06T08:53:41.030105Z",
     "start_time": "2021-01-06T08:53:20.079270Z"
    }
   },
   "outputs": [],
   "source": [
    "import numpy as np\n",
    "import pandas as pd"
   ]
  },
  {
   "cell_type": "markdown",
   "metadata": {},
   "source": [
    "\n",
    "## 目录\n",
    "\n",
    "**一、str对象**\n",
    "\n",
    "* 1.1、str对象的设计意图\n",
    "* 1.2. []索引器\n",
    "* 1.3. string类型\n",
    "\n",
    "\n",
    "**二、正则表达式基础**\n",
    "\n",
    "* 2.1. 一般字符的匹配\n",
    "* 2.2. 元字符基础\n",
    "* 2.3. 简写字符集\n",
    "\n",
    "\n",
    "**三、文本处理的五大操作**\n",
    "\n",
    "* 3.1. 拆分\n",
    "* 3.2. 合并\n",
    "* 3.3. 匹配\n",
    "* 3.4. 替换\n",
    "* 3.5. 提取\n",
    "\n",
    "\n",
    "**四、常用字符串函数**\n",
    "\n",
    "* 4.1. 字母型函数\n",
    "* 4.2. 数值型函数\n",
    "* 4.3. 统计型函数\n",
    "* 4.4. 格式型函数\n",
    "\n",
    "\n",
    "**EX.练习**\n",
    "\n",
    "## 正式学习内容"
   ]
  },
  {
   "cell_type": "markdown",
   "metadata": {},
   "source": [
    "### 一、str对象\n",
    "\n",
    "#### 1.1、str对象的设计意图\n",
    "\n",
    "str 对象是定义在 Index 或 Series 上的属性，专门用于逐元素处理文本内容。\n",
    "\n",
    "str包含许多处理的函数，大部分可以直接用于pandas中的数据处理。\n",
    "\n",
    "\n",
    "\n",
    "#### 1.2. string类型\n",
    "\n",
    "从 pandas 的 1.0.0 版本开始，引入了 string 类型，其引入的动机在于：原来所有的字符串类型都会以 object 类型的 Series 进行存储，但 object 类型只应当存储混合类型，例如同时存储浮点、字符串、字典、列表、自定义类型等，\n",
    "\n",
    "因此字符串有必要同数值型或 category 一样，具有自己的数据存放类型，从而引入了 string 类型。\n",
    "\n",
    "* **string类型和object类型的区别**\n",
    "\n",
    "> * **object类型**是一种pandas中特殊的数据类型，序列中可以包含**字典，列表以及字符串**；而**string类型**表示序列中所有的元素都是**字符串类型**的。 object类型和object类型都可以使用str对象包含的一些函数，但是返回的结果可能是不同的【例1】\n",
    "\n",
    "> * string类型是**Nullable类型**的，是允许空值的，而**object类型是不允许空值的**。如果调用的 str 方法返回值为整数 Series 和布尔 Series 时，其分别对应的 dtype 是 Int 和 boolean 的 Nullable 类型，而 object 类型则会分别返回 int(无空值)/float（有空值） 和 bool（无空值）/object（有空值） 【例2】\n",
    "\n"
   ]
  },
  {
   "cell_type": "code",
   "execution_count": 7,
   "metadata": {
    "ExecuteTime": {
     "end_time": "2021-01-06T11:25:41.504807Z",
     "start_time": "2021-01-06T11:25:41.497236Z"
    }
   },
   "outputs": [
    {
     "data": {
      "text/plain": [
       "0    {1: 'temp1', 2: 'temp2'}\n",
       "1                      [a, b]\n",
       "2                      [1, 2]\n",
       "3                      yucici\n",
       "4                         123\n",
       "5                         NaN\n",
       "dtype: object"
      ]
     },
     "execution_count": 7,
     "metadata": {},
     "output_type": "execute_result"
    }
   ],
   "source": [
    "# 例1\n",
    "\n",
    "s = pd.Series([{1:'temp1',2:'temp2'},['a','b'],[1,2],'yucici',123,np.nan])\n",
    "s"
   ]
  },
  {
   "cell_type": "code",
   "execution_count": 8,
   "metadata": {
    "ExecuteTime": {
     "end_time": "2021-01-06T11:25:43.806510Z",
     "start_time": "2021-01-06T11:25:43.800711Z"
    }
   },
   "outputs": [
    {
     "data": {
      "text/plain": [
       "0    temp1\n",
       "1        b\n",
       "2        2\n",
       "3        u\n",
       "4      NaN\n",
       "5      NaN\n",
       "dtype: object"
      ]
     },
     "execution_count": 8,
     "metadata": {},
     "output_type": "execute_result"
    }
   ],
   "source": [
    "# 例1\n",
    "# object类型的 str函数\n",
    "s.str[1] # str的索引只要满足迭代器就可以"
   ]
  },
  {
   "cell_type": "code",
   "execution_count": 12,
   "metadata": {
    "ExecuteTime": {
     "end_time": "2021-01-06T11:27:43.031294Z",
     "start_time": "2021-01-06T11:27:43.025616Z"
    }
   },
   "outputs": [
    {
     "data": {
      "text/plain": [
       "0       1\n",
       "1       '\n",
       "2       1\n",
       "3       u\n",
       "4       2\n",
       "5    <NA>\n",
       "dtype: string"
      ]
     },
     "execution_count": 12,
     "metadata": {},
     "output_type": "execute_result"
    }
   ],
   "source": [
    "# 例1\n",
    "# string类型的 str函数\n",
    "\n",
    "s.astype('string').str[1]"
   ]
  },
  {
   "cell_type": "code",
   "execution_count": 17,
   "metadata": {
    "ExecuteTime": {
     "end_time": "2021-01-06T11:43:20.500794Z",
     "start_time": "2021-01-06T11:43:20.493774Z"
    }
   },
   "outputs": [
    {
     "data": {
      "text/plain": [
       "0    a\n",
       "dtype: object"
      ]
     },
     "execution_count": 17,
     "metadata": {},
     "output_type": "execute_result"
    }
   ],
   "source": [
    "# 例2\n",
    "\n",
    "s = pd.Series(['a'])\n",
    "s"
   ]
  },
  {
   "cell_type": "code",
   "execution_count": 19,
   "metadata": {
    "ExecuteTime": {
     "end_time": "2021-01-06T11:43:43.007214Z",
     "start_time": "2021-01-06T11:43:43.001271Z"
    }
   },
   "outputs": [
    {
     "data": {
      "text/plain": [
       "0    1\n",
       "dtype: int64"
      ]
     },
     "execution_count": 19,
     "metadata": {},
     "output_type": "execute_result"
    }
   ],
   "source": [
    "# object \n",
    "s.str.len()"
   ]
  },
  {
   "cell_type": "code",
   "execution_count": 18,
   "metadata": {
    "ExecuteTime": {
     "end_time": "2021-01-06T11:43:41.114421Z",
     "start_time": "2021-01-06T11:43:41.099463Z"
    }
   },
   "outputs": [
    {
     "data": {
      "text/plain": [
       "0    True\n",
       "dtype: bool"
      ]
     },
     "execution_count": 18,
     "metadata": {},
     "output_type": "execute_result"
    }
   ],
   "source": [
    "# object\n",
    "\n",
    "s =='a'"
   ]
  },
  {
   "cell_type": "code",
   "execution_count": 16,
   "metadata": {
    "ExecuteTime": {
     "end_time": "2021-01-06T11:43:01.709761Z",
     "start_time": "2021-01-06T11:43:01.701489Z"
    }
   },
   "outputs": [
    {
     "data": {
      "text/plain": [
       "0    1\n",
       "dtype: Int64"
      ]
     },
     "execution_count": 16,
     "metadata": {},
     "output_type": "execute_result"
    }
   ],
   "source": [
    "# string\n",
    "s.astype('string').str.len()"
   ]
  },
  {
   "cell_type": "code",
   "execution_count": 20,
   "metadata": {
    "ExecuteTime": {
     "end_time": "2021-01-06T11:44:12.191413Z",
     "start_time": "2021-01-06T11:44:12.184166Z"
    }
   },
   "outputs": [
    {
     "data": {
      "text/plain": [
       "0    True\n",
       "dtype: boolean"
      ]
     },
     "execution_count": 20,
     "metadata": {},
     "output_type": "execute_result"
    }
   ],
   "source": [
    "# string\n",
    "s.astype('string')=='a'"
   ]
  },
  {
   "cell_type": "code",
   "execution_count": 21,
   "metadata": {
    "ExecuteTime": {
     "end_time": "2021-01-06T11:44:49.165043Z",
     "start_time": "2021-01-06T11:44:48.784562Z"
    }
   },
   "outputs": [
    {
     "data": {
      "text/plain": [
       "0    1.0\n",
       "1    NaN\n",
       "dtype: float64"
      ]
     },
     "execution_count": 21,
     "metadata": {},
     "output_type": "execute_result"
    }
   ],
   "source": [
    "# object\n",
    "s = pd.Series(['a',np.nan])\n",
    "s.str.len()"
   ]
  },
  {
   "cell_type": "code",
   "execution_count": 22,
   "metadata": {
    "ExecuteTime": {
     "end_time": "2021-01-06T11:45:23.282396Z",
     "start_time": "2021-01-06T11:45:23.276410Z"
    }
   },
   "outputs": [
    {
     "data": {
      "text/plain": [
       "0       1\n",
       "1    <NA>\n",
       "dtype: Int64"
      ]
     },
     "execution_count": 22,
     "metadata": {},
     "output_type": "execute_result"
    }
   ],
   "source": [
    "# string 允许空值\n",
    "s = pd.Series(['a',np.nan])\n",
    "s.astype('string').str.len()"
   ]
  },
  {
   "cell_type": "markdown",
   "metadata": {},
   "source": [
    "#### 1.3. []索引器\n",
    "\n",
    "索引器的概念其实就是将字符串当作序列，索引方式其实是和列表索引是一致的。\n",
    "\n",
    "str使用[]索引也是完全一样的概念。"
   ]
  },
  {
   "cell_type": "code",
   "execution_count": 23,
   "metadata": {
    "ExecuteTime": {
     "end_time": "2021-01-06T11:47:42.280601Z",
     "start_time": "2021-01-06T11:47:42.275608Z"
    }
   },
   "outputs": [
    {
     "data": {
      "text/plain": [
       "'abcd'"
      ]
     },
     "execution_count": 23,
     "metadata": {},
     "output_type": "execute_result"
    }
   ],
   "source": [
    "ss = \"abcd\"\n",
    "ss"
   ]
  },
  {
   "cell_type": "code",
   "execution_count": 30,
   "metadata": {
    "ExecuteTime": {
     "end_time": "2021-01-06T11:50:30.944461Z",
     "start_time": "2021-01-06T11:50:30.937486Z"
    }
   },
   "outputs": [
    {
     "data": {
      "text/plain": [
       "0                   strstrstr\n",
       "1                      [a, b]\n",
       "2    {1: 'temp1', 2: 'temp2'}\n",
       "dtype: object"
      ]
     },
     "execution_count": 30,
     "metadata": {},
     "output_type": "execute_result"
    }
   ],
   "source": [
    "s = pd.Series([\"strstrstr\",['a','b'],{1:\"temp1\",2:\"temp2\"}])\n",
    "s"
   ]
  },
  {
   "cell_type": "code",
   "execution_count": 31,
   "metadata": {
    "ExecuteTime": {
     "end_time": "2021-01-06T11:50:32.428918Z",
     "start_time": "2021-01-06T11:50:32.423929Z"
    }
   },
   "outputs": [
    {
     "data": {
      "text/plain": [
       "0       s\n",
       "1       a\n",
       "2    None\n",
       "dtype: object"
      ]
     },
     "execution_count": 31,
     "metadata": {},
     "output_type": "execute_result"
    }
   ],
   "source": [
    "s.str[0]"
   ]
  },
  {
   "cell_type": "code",
   "execution_count": 33,
   "metadata": {
    "ExecuteTime": {
     "end_time": "2021-01-06T11:50:40.284979Z",
     "start_time": "2021-01-06T11:50:40.278933Z"
    }
   },
   "outputs": [
    {
     "data": {
      "text/plain": [
       "0    srt\n",
       "1    [a]\n",
       "2    NaN\n",
       "dtype: object"
      ]
     },
     "execution_count": 33,
     "metadata": {},
     "output_type": "execute_result"
    }
   ],
   "source": [
    "s.str[0:5:2]"
   ]
  },
  {
   "cell_type": "markdown",
   "metadata": {},
   "source": [
    "### 二、正则表达式基础\n",
    "\n",
    "参考资料：[ learn-regex-zh](https://datawhalechina.github.io/joyful-pandas/build/html/%E7%9B%AE%E5%BD%95/ch8.html) 和 [ 正则表达式必知必会 ](https://book.douban.com/subject/26285406/)\n",
    "\n",
    "#### 2.1. 一般字符的匹配\n",
    "\n",
    "\n",
    "* **正则表达式的概念**  \n",
    "      \n",
    "    正则表达式是一种 按照某种正则规则 从左到右匹配字符串中内容的工具。  \n",
    "    通过python中re模块的findall函数来举例【例1】"
   ]
  },
  {
   "cell_type": "code",
   "execution_count": 35,
   "metadata": {
    "ExecuteTime": {
     "end_time": "2021-01-06T12:03:29.981914Z",
     "start_time": "2021-01-06T12:03:29.976929Z"
    }
   },
   "outputs": [
    {
     "data": {
      "text/plain": [
       "['a', 'a', 'a']"
      ]
     },
     "execution_count": 35,
     "metadata": {},
     "output_type": "execute_result"
    }
   ],
   "source": [
    "# 例1\n",
    "import re\n",
    "\n",
    "re.findall(\"a\",\"a! it is a a\")"
   ]
  },
  {
   "cell_type": "markdown",
   "metadata": {},
   "source": [
    "#### 2.2. 元字符基础\n",
    "\n",
    "元字符基础，一些简单的正则规则如下：\n",
    "\n",
    "\n",
    "| 元字符 |描述 |\n",
    "|--|--|\n",
    "|.|匹配换行符以外的任意字符|\n",
    "|[]|匹配中括号中的任意字符|\n",
    "|[^]|匹配中括号中不包含的任意字符|\n",
    "|* | 匹配前面的子表达式零次或多次|\n",
    "|+ | 匹配前面的子表达式1次或多次|\n",
    "|？ | 匹配前面的子表达式零次或1次|\n",
    "|{n，m} | 匹配前面字符至少n次，不超过m次|\n",
    "|（xyz） | 按照确切的顺序匹配字符串xyz|\n",
    "| **\\|** | or，匹配”\\|“前面的字符串 或者“\\|”后面的字符串|\n",
    "| **\\** | 转义符，还原字符含义|\n",
    "| ^ | 匹配行的开始|\n",
    "| $ | 匹配行的结束|\n",
    "\n",
    "\n",
    "\n",
    "具体的使用参照下述例子："
   ]
  },
  {
   "cell_type": "code",
   "execution_count": 36,
   "metadata": {
    "ExecuteTime": {
     "end_time": "2021-01-06T12:16:57.945258Z",
     "start_time": "2021-01-06T12:16:57.939240Z"
    }
   },
   "outputs": [
    {
     "data": {
      "text/plain": [
       "['a', 'b', 'c']"
      ]
     },
     "execution_count": 36,
     "metadata": {},
     "output_type": "execute_result"
    }
   ],
   "source": [
    "#  . \n",
    "\n",
    "re.findall(\".\",\"abc\")"
   ]
  },
  {
   "cell_type": "code",
   "execution_count": 38,
   "metadata": {
    "ExecuteTime": {
     "end_time": "2021-01-06T12:17:57.097024Z",
     "start_time": "2021-01-06T12:17:57.092019Z"
    }
   },
   "outputs": [
    {
     "data": {
      "text/plain": [
       "['a', 'd']"
      ]
     },
     "execution_count": 38,
     "metadata": {},
     "output_type": "execute_result"
    }
   ],
   "source": [
    "# []  匹配中括号中的任意字符\n",
    "\n",
    "re.findall('[da]',\"abcd\")"
   ]
  },
  {
   "cell_type": "code",
   "execution_count": 39,
   "metadata": {
    "ExecuteTime": {
     "end_time": "2021-01-06T12:18:43.320931Z",
     "start_time": "2021-01-06T12:18:43.314946Z"
    }
   },
   "outputs": [
    {
     "data": {
      "text/plain": [
       "['b', 'c']"
      ]
     },
     "execution_count": 39,
     "metadata": {},
     "output_type": "execute_result"
    }
   ],
   "source": [
    "# [^ ]  匹配中括号中的任意字符\n",
    "\n",
    "re.findall('[^da]',\"abcd\")"
   ]
  },
  {
   "cell_type": "code",
   "execution_count": 40,
   "metadata": {
    "ExecuteTime": {
     "end_time": "2021-01-06T12:20:00.029410Z",
     "start_time": "2021-01-06T12:20:00.025200Z"
    }
   },
   "outputs": [
    {
     "data": {
      "text/plain": [
       "['aa', '', 'aaa', '', 'aaaa', '', '', 'a', '']"
      ]
     },
     "execution_count": 40,
     "metadata": {},
     "output_type": "execute_result"
    }
   ],
   "source": [
    "# * \n",
    "\n",
    "re.findall('a*',\"aabaaabaaaawwa\")"
   ]
  },
  {
   "cell_type": "code",
   "execution_count": 41,
   "metadata": {
    "ExecuteTime": {
     "end_time": "2021-01-06T12:20:28.996495Z",
     "start_time": "2021-01-06T12:20:28.991495Z"
    }
   },
   "outputs": [
    {
     "data": {
      "text/plain": [
       "['aa', 'aaa', 'aaaa', 'a']"
      ]
     },
     "execution_count": 41,
     "metadata": {},
     "output_type": "execute_result"
    }
   ],
   "source": [
    "# +\n",
    "\n",
    "re.findall('a+',\"aabaaabaaaawwa\")"
   ]
  },
  {
   "cell_type": "code",
   "execution_count": 42,
   "metadata": {
    "ExecuteTime": {
     "end_time": "2021-01-06T12:20:40.046659Z",
     "start_time": "2021-01-06T12:20:40.040948Z"
    }
   },
   "outputs": [
    {
     "data": {
      "text/plain": [
       "['a', 'a', '', 'a', 'a', 'a', '', 'a', 'a', 'a', 'a', '', '', 'a', '']"
      ]
     },
     "execution_count": 42,
     "metadata": {},
     "output_type": "execute_result"
    }
   ],
   "source": [
    "# ?\n",
    "\n",
    "re.findall('a?',\"aabaaabaaaawwa\")"
   ]
  },
  {
   "cell_type": "code",
   "execution_count": 43,
   "metadata": {
    "ExecuteTime": {
     "end_time": "2021-01-06T12:21:54.385898Z",
     "start_time": "2021-01-06T12:21:54.379914Z"
    }
   },
   "outputs": [
    {
     "data": {
      "text/plain": [
       "['a', 'aa', 'aa', 'a', 'aa', 'aa', 'aa', 'aa']"
      ]
     },
     "execution_count": 43,
     "metadata": {},
     "output_type": "execute_result"
    }
   ],
   "source": [
    "# {n,m}\n",
    "\n",
    "re.findall('a{1,2}',\"ann aann aaann aaaann aaaa\")"
   ]
  },
  {
   "cell_type": "code",
   "execution_count": 44,
   "metadata": {
    "ExecuteTime": {
     "end_time": "2021-01-06T12:24:39.332603Z",
     "start_time": "2021-01-06T12:24:39.328009Z"
    }
   },
   "outputs": [
    {
     "data": {
      "text/plain": [
       "['abc']"
      ]
     },
     "execution_count": 44,
     "metadata": {},
     "output_type": "execute_result"
    }
   ],
   "source": [
    "# (xyz)\n",
    "\n",
    "re.findall('(abc)','abc cba ccc aaa bac')"
   ]
  },
  {
   "cell_type": "code",
   "execution_count": 45,
   "metadata": {
    "ExecuteTime": {
     "end_time": "2021-01-06T12:26:34.964308Z",
     "start_time": "2021-01-06T12:26:34.958199Z"
    }
   },
   "outputs": [
    {
     "data": {
      "text/plain": [
       "['aa', 'bb', 'bb', 'aa']"
      ]
     },
     "execution_count": 45,
     "metadata": {},
     "output_type": "execute_result"
    }
   ],
   "source": [
    "##    |\n",
    "\n",
    "re.findall('aa|bb','aabb bbaa abab')"
   ]
  },
  {
   "cell_type": "code",
   "execution_count": 48,
   "metadata": {
    "ExecuteTime": {
     "end_time": "2021-01-06T12:28:10.665047Z",
     "start_time": "2021-01-06T12:28:10.660060Z"
    }
   },
   "outputs": [
    {
     "name": "stdout",
     "output_type": "stream",
     "text": [
      "[]\n",
      "['a']\n"
     ]
    }
   ],
   "source": [
    "# ^\n",
    "\n",
    "print(re.findall('^a','baa'))\n",
    "print(re.findall('^a','abaa'))"
   ]
  },
  {
   "cell_type": "code",
   "execution_count": 49,
   "metadata": {
    "ExecuteTime": {
     "end_time": "2021-01-06T12:30:21.927196Z",
     "start_time": "2021-01-06T12:30:21.922210Z"
    }
   },
   "outputs": [
    {
     "data": {
      "text/plain": [
       "['a?']"
      ]
     },
     "execution_count": 49,
     "metadata": {},
     "output_type": "execute_result"
    }
   ],
   "source": [
    "##  \\\n",
    "\n",
    "re.findall('a\\?','a?')"
   ]
  },
  {
   "cell_type": "markdown",
   "metadata": {},
   "source": [
    "#### 2.3. 简写字符集\n",
    "\n",
    "正则表达式中还有一类简写字符集，等价于一组字符的集合\n",
    "\n",
    "| 简写字符集 |描述 |\n",
    "|--|--|\n",
    "|\\w|匹配所有字母、数字、下划线[a-zA-Z0-9]|\n",
    "|\\W|匹配非字母和数字的字符[^\\w]|\n",
    "|\\d|匹配数字[0-9]|\n",
    "|\\D| 匹配非数字[^\\d]|\n",
    "|\\s| 匹配空字符|\n",
    "|\\S| 匹配非空字符|\n",
    "|\\B| 匹配一组非空字符开头或结尾的位置，不代表具体字符|\n"
   ]
  },
  {
   "cell_type": "code",
   "execution_count": 50,
   "metadata": {
    "ExecuteTime": {
     "end_time": "2021-01-06T12:47:40.816835Z",
     "start_time": "2021-01-06T12:47:40.811881Z"
    }
   },
   "outputs": [
    {
     "data": {
      "text/plain": [
       "['12', 'ab', '1b', '2_']"
      ]
     },
     "execution_count": 50,
     "metadata": {},
     "output_type": "execute_result"
    }
   ],
   "source": [
    "# \\w\n",
    "re.findall('\\w{2}','12 ab 1b 2_ 9@ ++')"
   ]
  },
  {
   "cell_type": "code",
   "execution_count": 51,
   "metadata": {
    "ExecuteTime": {
     "end_time": "2021-01-06T12:47:54.194273Z",
     "start_time": "2021-01-06T12:47:54.189292Z"
    }
   },
   "outputs": [
    {
     "data": {
      "text/plain": [
       "['@ ', '++']"
      ]
     },
     "execution_count": 51,
     "metadata": {},
     "output_type": "execute_result"
    }
   ],
   "source": [
    "# \\W\n",
    "re.findall('\\W{2}','12 ab 1b 2_ 9@ ++')"
   ]
  },
  {
   "cell_type": "code",
   "execution_count": 52,
   "metadata": {
    "ExecuteTime": {
     "end_time": "2021-01-06T12:49:13.334756Z",
     "start_time": "2021-01-06T12:49:13.329770Z"
    }
   },
   "outputs": [
    {
     "data": {
      "text/plain": [
       "['a b', 'b c', 'c d']"
      ]
     },
     "execution_count": 52,
     "metadata": {},
     "output_type": "execute_result"
    }
   ],
   "source": [
    "# \\s\n",
    "\n",
    "re.findall('.\\s.','aa bb cc dd')"
   ]
  },
  {
   "cell_type": "markdown",
   "metadata": {},
   "source": [
    "### 三、文本处理的五大操作\n",
    "\n",
    "#### 3.1. 拆分 str.split\n",
    "\n",
    "  \n",
    "\n",
    " * s.**str.split** (pat=None, n=-1, expand=False) 对字符串进行拆分 \n",
    "\n",
    "    参数说明 \n",
    " >* pat=None,指定拆分的 正则表达式 or 字符串，没有定义以空格拆分\n",
    " >* n=-1，最大分割后得到的字符串的数目\n",
    " >* expand=False，是否将分割后的字符单独成列，默认False\n",
    " "
   ]
  },
  {
   "cell_type": "code",
   "execution_count": 57,
   "metadata": {
    "ExecuteTime": {
     "end_time": "2021-01-06T13:24:19.989370Z",
     "start_time": "2021-01-06T13:24:19.983421Z"
    }
   },
   "outputs": [
    {
     "data": {
      "text/plain": [
       "0    上海市 黄浦区 方浜中路249号\n",
       "1       上海市 宝山区 密山路5号\n",
       "dtype: object"
      ]
     },
     "execution_count": 57,
     "metadata": {},
     "output_type": "execute_result"
    }
   ],
   "source": [
    "s = pd.Series(['上海市 黄浦区 方浜中路249号',\n",
    "         '上海市 宝山区 密山路5号'])\n",
    "s\n"
   ]
  },
  {
   "cell_type": "code",
   "execution_count": 58,
   "metadata": {
    "ExecuteTime": {
     "end_time": "2021-01-06T13:24:21.225919Z",
     "start_time": "2021-01-06T13:24:21.220710Z"
    }
   },
   "outputs": [
    {
     "data": {
      "text/plain": [
       "0    [上海市, 黄浦区, 方浜中路249号]\n",
       "1       [上海市, 宝山区, 密山路5号]\n",
       "dtype: object"
      ]
     },
     "execution_count": 58,
     "metadata": {},
     "output_type": "execute_result"
    }
   ],
   "source": [
    "# \n",
    "s.str.split()"
   ]
  },
  {
   "cell_type": "code",
   "execution_count": 64,
   "metadata": {
    "ExecuteTime": {
     "end_time": "2021-01-06T13:26:22.032905Z",
     "start_time": "2021-01-06T13:26:22.025936Z"
    }
   },
   "outputs": [
    {
     "data": {
      "text/plain": [
       "0    [上海,  黄浦,  方浜中, 249号]\n",
       "1       [上海,  宝山,  密山, 5号]\n",
       "dtype: object"
      ]
     },
     "execution_count": 64,
     "metadata": {},
     "output_type": "execute_result"
    }
   ],
   "source": [
    "# \n",
    "s.str.split('[市区路]')"
   ]
  },
  {
   "cell_type": "code",
   "execution_count": 67,
   "metadata": {
    "ExecuteTime": {
     "end_time": "2021-01-06T13:26:35.847293Z",
     "start_time": "2021-01-06T13:26:35.837529Z"
    }
   },
   "outputs": [
    {
     "data": {
      "text/html": [
       "<div>\n",
       "<style scoped>\n",
       "    .dataframe tbody tr th:only-of-type {\n",
       "        vertical-align: middle;\n",
       "    }\n",
       "\n",
       "    .dataframe tbody tr th {\n",
       "        vertical-align: top;\n",
       "    }\n",
       "\n",
       "    .dataframe thead th {\n",
       "        text-align: right;\n",
       "    }\n",
       "</style>\n",
       "<table border=\"1\" class=\"dataframe\">\n",
       "  <thead>\n",
       "    <tr style=\"text-align: right;\">\n",
       "      <th></th>\n",
       "      <th>0</th>\n",
       "      <th>1</th>\n",
       "      <th>2</th>\n",
       "    </tr>\n",
       "  </thead>\n",
       "  <tbody>\n",
       "    <tr>\n",
       "      <th>0</th>\n",
       "      <td>上海</td>\n",
       "      <td>黄浦</td>\n",
       "      <td>方浜中路249号</td>\n",
       "    </tr>\n",
       "    <tr>\n",
       "      <th>1</th>\n",
       "      <td>上海</td>\n",
       "      <td>宝山</td>\n",
       "      <td>密山路5号</td>\n",
       "    </tr>\n",
       "  </tbody>\n",
       "</table>\n",
       "</div>"
      ],
      "text/plain": [
       "    0    1          2\n",
       "0  上海   黄浦   方浜中路249号\n",
       "1  上海   宝山      密山路5号"
      ]
     },
     "execution_count": 67,
     "metadata": {},
     "output_type": "execute_result"
    }
   ],
   "source": [
    "# \n",
    "s.str.split('[市区路]',n=2,expand=True)"
   ]
  },
  {
   "cell_type": "markdown",
   "metadata": {},
   "source": [
    "#### 3.2. 合并 str.join /str.cat\n",
    "\n",
    "* **str.join**   \n",
    "    表示用某个连接符把series中的字符串列表连接起来，如果出现非字符串元素则返回空值\n",
    "\n",
    "* **str.cat**(others=None, sep=None, na_rep=None, join='left')  \n",
    "    合并两个序列，  \n",
    "    参数说明\n",
    "> * others,连接的序列\n",
    "> * sep， 连接符\n",
    "> * na_rep， 缺失值的替代符号\n",
    "> * join，连接方式，默认left join\n",
    "  "
   ]
  },
  {
   "cell_type": "code",
   "execution_count": 68,
   "metadata": {
    "ExecuteTime": {
     "end_time": "2021-01-06T13:57:25.170982Z",
     "start_time": "2021-01-06T13:57:25.163998Z"
    }
   },
   "outputs": [
    {
     "data": {
      "text/plain": [
       "0    [a, b]\n",
       "1    [c, d]\n",
       "dtype: object"
      ]
     },
     "execution_count": 68,
     "metadata": {},
     "output_type": "execute_result"
    }
   ],
   "source": [
    "# str.join\n",
    "\n",
    "s = pd.Series([['a','b'],['c','d']])\n",
    "s"
   ]
  },
  {
   "cell_type": "code",
   "execution_count": 69,
   "metadata": {
    "ExecuteTime": {
     "end_time": "2021-01-06T13:57:43.995625Z",
     "start_time": "2021-01-06T13:57:43.989698Z"
    }
   },
   "outputs": [
    {
     "data": {
      "text/plain": [
       "0    a+b\n",
       "1    c+d\n",
       "dtype: object"
      ]
     },
     "execution_count": 69,
     "metadata": {},
     "output_type": "execute_result"
    }
   ],
   "source": [
    "s.str.join('+')"
   ]
  },
  {
   "cell_type": "code",
   "execution_count": 74,
   "metadata": {
    "ExecuteTime": {
     "end_time": "2021-01-06T14:01:19.871526Z",
     "start_time": "2021-01-06T14:01:19.866341Z"
    }
   },
   "outputs": [
    {
     "data": {
      "text/plain": [
       "0    cat\n",
       "1    dog\n",
       "dtype: object"
      ]
     },
     "execution_count": 74,
     "metadata": {},
     "output_type": "execute_result"
    }
   ],
   "source": [
    "# str.cat\n",
    "\n",
    "\n",
    "s1 = pd.Series(['cat','dog'])\n",
    "s1"
   ]
  },
  {
   "cell_type": "code",
   "execution_count": 75,
   "metadata": {
    "ExecuteTime": {
     "end_time": "2021-01-06T14:01:20.760444Z",
     "start_time": "2021-01-06T14:01:20.754466Z"
    }
   },
   "outputs": [
    {
     "data": {
      "text/plain": [
       "0    a\n",
       "1    b\n",
       "dtype: object"
      ]
     },
     "execution_count": 75,
     "metadata": {},
     "output_type": "execute_result"
    }
   ],
   "source": [
    "s2 = pd.Series(['a','b'])\n",
    "s2"
   ]
  },
  {
   "cell_type": "code",
   "execution_count": 76,
   "metadata": {
    "ExecuteTime": {
     "end_time": "2021-01-06T14:01:21.372124Z",
     "start_time": "2021-01-06T14:01:21.366153Z"
    }
   },
   "outputs": [
    {
     "data": {
      "text/plain": [
       "0    cat-a\n",
       "1    dog-b\n",
       "dtype: object"
      ]
     },
     "execution_count": 76,
     "metadata": {},
     "output_type": "execute_result"
    }
   ],
   "source": [
    "s1.str.cat(s2,sep='-')"
   ]
  },
  {
   "cell_type": "markdown",
   "metadata": {},
   "source": [
    "#### 3.3. 匹配 str.contains\n",
    "#### 3.4. 替换 str.replace\n",
    "#### 3.5. 提取 str.extract/extracall/findall"
   ]
  }
 ],
 "metadata": {
  "kernelspec": {
   "display_name": "Python 3",
   "language": "python",
   "name": "python3"
  },
  "language_info": {
   "codemirror_mode": {
    "name": "ipython",
    "version": 3
   },
   "file_extension": ".py",
   "mimetype": "text/x-python",
   "name": "python",
   "nbconvert_exporter": "python",
   "pygments_lexer": "ipython3",
   "version": "3.6.8"
  },
  "toc": {
   "base_numbering": 1,
   "nav_menu": {},
   "number_sections": true,
   "sideBar": true,
   "skip_h1_title": false,
   "title_cell": "Table of Contents",
   "title_sidebar": "Contents",
   "toc_cell": false,
   "toc_position": {},
   "toc_section_display": true,
   "toc_window_display": true
  },
  "varInspector": {
   "cols": {
    "lenName": 16,
    "lenType": 16,
    "lenVar": 40
   },
   "kernels_config": {
    "python": {
     "delete_cmd_postfix": "",
     "delete_cmd_prefix": "del ",
     "library": "var_list.py",
     "varRefreshCmd": "print(var_dic_list())"
    },
    "r": {
     "delete_cmd_postfix": ") ",
     "delete_cmd_prefix": "rm(",
     "library": "var_list.r",
     "varRefreshCmd": "cat(var_dic_list()) "
    }
   },
   "types_to_exclude": [
    "module",
    "function",
    "builtin_function_or_method",
    "instance",
    "_Feature"
   ],
   "window_display": false
  }
 },
 "nbformat": 4,
 "nbformat_minor": 2
}
