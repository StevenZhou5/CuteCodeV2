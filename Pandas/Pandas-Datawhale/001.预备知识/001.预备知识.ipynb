{
 "cells": [
  {
   "cell_type": "markdown",
   "metadata": {},
   "source": [
    "## 一、python基础\n",
    "    \n",
    " 　**1.1列表推导式与条件赋值**\n",
    "\n",
    "　**1.2. 匿名函数与map方法**\n",
    "\n",
    "　**1.3. zip对象与enumerate方法**\n",
    "\n",
    "## 二、numpy基础\n",
    "\n",
    "　**2.1. np数组的构造**\n",
    "\n",
    "　**2.2. np数组的变形与合并**\n",
    "\n",
    "　**2.3. np数组的切片与索引**\n",
    "\n",
    "　**2.4. 常用函数**\n",
    "\n",
    "　**2.5. 广播机制**\n",
    "\n",
    "　**2.6. 向量与矩阵的计算** \n",
    " \n",
    " \n",
    " *****************************************"
   ]
  },
  {
   "cell_type": "markdown",
   "metadata": {},
   "source": [
    "### 一、python基础\n",
    "\n",
    "#### 1.1 列表推导式与条件赋值\n",
    "\n",
    "　　列式推导：[i for i in range(5)]\n",
    "  \n",
    "　　条件赋值： value = a if condition else b\n",
    "\n",
    "　　【例1】列表推导式生产数字序列"
   ]
  },
  {
   "cell_type": "code",
   "execution_count": 1,
   "metadata": {},
   "outputs": [
    {
     "data": {
      "text/plain": [
       "[0, 1, 4, 9, 16]"
      ]
     },
     "execution_count": 1,
     "metadata": {},
     "output_type": "execute_result"
    }
   ],
   "source": [
    "# \n",
    "[i**2 for i in range(5)]"
   ]
  },
  {
   "cell_type": "code",
   "execution_count": 2,
   "metadata": {},
   "outputs": [
    {
     "data": {
      "text/plain": [
       "['a_d', 'a_e', 'c_d', 'c_e']"
      ]
     },
     "execution_count": 2,
     "metadata": {},
     "output_type": "execute_result"
    }
   ],
   "source": [
    "#\n",
    "[m+'_'+n for m in ['a','c'] for n in ['d','e']]"
   ]
  },
  {
   "cell_type": "markdown",
   "metadata": {},
   "source": [
    "　【例2】条件赋值"
   ]
  },
  {
   "cell_type": "code",
   "execution_count": 4,
   "metadata": {},
   "outputs": [
    {
     "name": "stdout",
     "output_type": "stream",
     "text": [
      "dog\n"
     ]
    }
   ],
   "source": [
    "# 如果条件成立 赋值a，如果不成立则 赋值b\n",
    "\n",
    "value = 'cat' if 1>2 else 'dog'\n",
    "print(value)"
   ]
  },
  {
   "cell_type": "markdown",
   "metadata": {},
   "source": [
    "#### 1.2 匿名函数和map方法\n",
    "\n",
    "　　**匿名函数：** lambda 的使用，不关心函数名称，只需要实现简单的函数关系即可\n",
    "  \n",
    "　　**map：** 对于列表推导式的匿名函数的使用，需要配合map函数来使用\n",
    "  \n",
    "　　【例３】lambda的简单使用"
   ]
  },
  {
   "cell_type": "code",
   "execution_count": 11,
   "metadata": {},
   "outputs": [
    {
     "data": {
      "text/plain": [
       "4"
      ]
     },
     "execution_count": 11,
     "metadata": {},
     "output_type": "execute_result"
    }
   ],
   "source": [
    "\n",
    "func = lambda x:x**2\n",
    "func(2)"
   ]
  },
  {
   "cell_type": "code",
   "execution_count": 12,
   "metadata": {},
   "outputs": [
    {
     "data": {
      "text/plain": [
       "3"
      ]
     },
     "execution_count": 12,
     "metadata": {},
     "output_type": "execute_result"
    }
   ],
   "source": [
    "multi_para_func = lambda a, b: a + b\n",
    "multi_para_func(1, 2)"
   ]
  },
  {
   "cell_type": "markdown",
   "metadata": {},
   "source": [
    "　　【例4】列表推导结合匿名函数"
   ]
  },
  {
   "cell_type": "code",
   "execution_count": 13,
   "metadata": {},
   "outputs": [
    {
     "data": {
      "text/plain": [
       "[0, 1, 4, 9, 16]"
      ]
     },
     "execution_count": 13,
     "metadata": {},
     "output_type": "execute_result"
    }
   ],
   "source": [
    "[(lambda x:x**2)(i) for i in range(5)]\n",
    "\n",
    "# 这样不是更麻烦了？直接使用[i**2 for i in range(5)]就可以实现，为什么要让语言变得更加复杂"
   ]
  },
  {
   "cell_type": "markdown",
   "metadata": {},
   "source": [
    "　　【例5】列表推导式结合map函数"
   ]
  },
  {
   "cell_type": "code",
   "execution_count": 14,
   "metadata": {},
   "outputs": [
    {
     "data": {
      "text/plain": [
       "[0, 1, 4, 9, 16]"
      ]
     },
     "execution_count": 14,
     "metadata": {},
     "output_type": "execute_result"
    }
   ],
   "source": [
    "# 单个输入值\n",
    "list(map(lambda x:x**2,range(5)))"
   ]
  },
  {
   "cell_type": "code",
   "execution_count": 16,
   "metadata": {},
   "outputs": [
    {
     "data": {
      "text/plain": [
       "[2, 3, 4, 5, 6]"
      ]
     },
     "execution_count": 16,
     "metadata": {},
     "output_type": "execute_result"
    }
   ],
   "source": [
    "# 多个输入值\n",
    "\n",
    "list(map(lambda x,y : x+y,range(5),[2,2,2,2,2]))"
   ]
  },
  {
   "cell_type": "markdown",
   "metadata": {},
   "source": [
    "#### 1.3 zip对象和enumeration方法\n",
    "\n",
    "　　**zip:** 多个迭代器组合成一个新的迭代器\n",
    "  \n",
    "　　　　* 实现，组合从不同迭代器中迭代取数\n",
    "  \n",
    "　　　　* 传入参数：元祖、列表、字典迭代器\n",
    "\n",
    "　　***zip:**  *zip实现zip的逆过程\n",
    "  \n",
    "　　**enumeration：** \n",
    "  \n",
    "　　【例6】zip简单使用"
   ]
  },
  {
   "cell_type": "code",
   "execution_count": 62,
   "metadata": {},
   "outputs": [
    {
     "data": {
      "text/plain": [
       "[(1, 4, 1), (2, 5, 2), (3, 6, 4)]"
      ]
     },
     "execution_count": 62,
     "metadata": {},
     "output_type": "execute_result"
    }
   ],
   "source": [
    "# zip的简单使用\n",
    "\n",
    "a = (1,2,3) #\n",
    "b = [4,5,6]\n",
    "c  = {7:1,8:2,9:4}\n",
    "\n",
    "list(zip(a,b,c.values()))"
   ]
  },
  {
   "cell_type": "code",
   "execution_count": 63,
   "metadata": {},
   "outputs": [
    {
     "name": "stdout",
     "output_type": "stream",
     "text": [
      "1 4 1\n",
      "2 5 2\n",
      "3 6 4\n"
     ]
    }
   ],
   "source": [
    "## \n",
    "for i,j,k in zip(a,b,c.values()):\n",
    "    print(i,j,k)"
   ]
  },
  {
   "cell_type": "code",
   "execution_count": 69,
   "metadata": {},
   "outputs": [
    {
     "name": "stdout",
     "output_type": "stream",
     "text": [
      "1 4 1\n",
      "2 5 2\n",
      "3 6 4\n"
     ]
    }
   ],
   "source": [
    "for index in range(len(a)):\n",
    "    print(a[index],b[index],list(c.values())[index])  "
   ]
  },
  {
   "cell_type": "markdown",
   "metadata": {},
   "source": [
    "【例7】*zip实现zip的逆过程"
   ]
  },
  {
   "cell_type": "code",
   "execution_count": 72,
   "metadata": {},
   "outputs": [
    {
     "name": "stdout",
     "output_type": "stream",
     "text": [
      "[(1, 3, 5), (2, 4, 6)]\n"
     ]
    }
   ],
   "source": [
    "# *zip的使用\n",
    "\n",
    "print(list(zip([1,2],[3,4],[5,6])))"
   ]
  },
  {
   "cell_type": "code",
   "execution_count": 77,
   "metadata": {},
   "outputs": [
    {
     "name": "stdout",
     "output_type": "stream",
     "text": [
      "(1, 3, 5)\n",
      "(2, 4, 6)\n"
     ]
    }
   ],
   "source": [
    "a,b = zip([1,2],[3,4],[5,6])\n",
    "print(a)\n",
    "print(b)"
   ]
  },
  {
   "cell_type": "code",
   "execution_count": 74,
   "metadata": {},
   "outputs": [
    {
     "name": "stdout",
     "output_type": "stream",
     "text": [
      "(1, 2) (3, 4) (5, 6)\n"
     ]
    }
   ],
   "source": [
    "print(*zip((1, 3, 5), (2, 4, 6)))"
   ]
  },
  {
   "cell_type": "markdown",
   "metadata": {},
   "source": [
    "【例8】zip(*)的使用\n"
   ]
  },
  {
   "cell_type": "code",
   "execution_count": 81,
   "metadata": {},
   "outputs": [
    {
     "data": {
      "text/plain": [
       "[(1, 4, 7), (2, 5, 8), (3, 6, 9)]"
      ]
     },
     "execution_count": 81,
     "metadata": {},
     "output_type": "execute_result"
    }
   ],
   "source": [
    "a = (1,2,3) #\n",
    "b = [4,5,6]\n",
    "c  =[7,8,9]\n",
    "zipped = list(zip(a, b, c))\n",
    "zipped"
   ]
  },
  {
   "cell_type": "code",
   "execution_count": 83,
   "metadata": {},
   "outputs": [
    {
     "data": {
      "text/plain": [
       "[(1, 2, 3), (4, 5, 6), (7, 8, 9)]"
      ]
     },
     "execution_count": 83,
     "metadata": {},
     "output_type": "execute_result"
    }
   ],
   "source": [
    "list(zip(*zipped)) #将zipped作为三个参数传入，再组合"
   ]
  },
  {
   "cell_type": "markdown",
   "metadata": {},
   "source": [
    "### 一、numpy基础\n",
    "\n",
    "#### 2.1 np数组的构建\n",
    "\n",
    "　　基础方法：np.array\n",
    "  \n",
    "　　等差序列：np.linsapce np.arange\n",
    "  \n",
    "　　特殊矩阵：np.zeros np.ones np.eye np.full\n",
    "\n",
    "　　随机矩阵：np.random  rand()  randn() randint() choice()\n",
    "\n",
    "　　【例1】基础方法"
   ]
  },
  {
   "cell_type": "code",
   "execution_count": 2,
   "metadata": {},
   "outputs": [
    {
     "data": {
      "text/plain": [
       "array([1, 2, 3])"
      ]
     },
     "execution_count": 2,
     "metadata": {},
     "output_type": "execute_result"
    }
   ],
   "source": [
    "import numpy as np\n",
    "\n",
    "a = np.array([1,2,3])\n",
    "print(a)"
   ]
  },
  {
   "cell_type": "markdown",
   "metadata": {},
   "source": [
    "　　【例2】等差序列"
   ]
  },
  {
   "cell_type": "code",
   "execution_count": 9,
   "metadata": {},
   "outputs": [
    {
     "name": "stdout",
     "output_type": "stream",
     "text": [
      "[1 3 5 7 9]\n"
     ]
    }
   ],
   "source": [
    "# np.arange 指定起点 终点 步长\n",
    "a = np.arange(1,10,2)\n",
    "print(a)"
   ]
  },
  {
   "cell_type": "code",
   "execution_count": 14,
   "metadata": {},
   "outputs": [
    {
     "name": "stdout",
     "output_type": "stream",
     "text": [
      "[ 0.   2.5  5.   7.5 10. ]\n"
     ]
    }
   ],
   "source": [
    "# np.lisapce 指定起点 终点 样本数\n",
    "\n",
    "a = np.linspace(0,10,5)\n",
    "print(a)"
   ]
  },
  {
   "cell_type": "markdown",
   "metadata": {},
   "source": [
    "   【例3】特殊矩阵zeros ones,eyes,full"
   ]
  },
  {
   "cell_type": "code",
   "execution_count": 17,
   "metadata": {},
   "outputs": [
    {
     "data": {
      "text/plain": [
       "array([[0., 0., 0., 0., 0.],\n",
       "       [0., 0., 0., 0., 0.],\n",
       "       [0., 0., 0., 0., 0.]])"
      ]
     },
     "execution_count": 17,
     "metadata": {},
     "output_type": "execute_result"
    }
   ],
   "source": [
    "# np.ones(shape, dtype=None, order='C')\n",
    "\n",
    "np.zeros((3,5))"
   ]
  },
  {
   "cell_type": "code",
   "execution_count": 18,
   "metadata": {},
   "outputs": [
    {
     "data": {
      "text/plain": [
       "array([[1., 1., 1., 1., 1.],\n",
       "       [1., 1., 1., 1., 1.],\n",
       "       [1., 1., 1., 1., 1.]])"
      ]
     },
     "execution_count": 18,
     "metadata": {},
     "output_type": "execute_result"
    }
   ],
   "source": [
    "# np.ones(shape, dtype=None, order='C')\n",
    "\n",
    "np.ones((3,5))"
   ]
  },
  {
   "cell_type": "code",
   "execution_count": 19,
   "metadata": {},
   "outputs": [
    {
     "data": {
      "text/plain": [
       "array([[1., 0., 0.],\n",
       "       [0., 1., 0.],\n",
       "       [0., 0., 1.]])"
      ]
     },
     "execution_count": 19,
     "metadata": {},
     "output_type": "execute_result"
    }
   ],
   "source": [
    "# np.eye(N, M=None, k=0, dtype=<class 'float'>, order='C')\n",
    "\n",
    "np.eye(3) # 3*3"
   ]
  },
  {
   "cell_type": "code",
   "execution_count": 21,
   "metadata": {},
   "outputs": [
    {
     "data": {
      "text/plain": [
       "array([[1., 0., 0., 0., 0.],\n",
       "       [0., 1., 0., 0., 0.],\n",
       "       [0., 0., 1., 0., 0.]])"
      ]
     },
     "execution_count": 21,
     "metadata": {},
     "output_type": "execute_result"
    }
   ],
   "source": [
    "# np.eye(N, M=None, k=0, dtype=<class 'float'>, order='C')\n",
    "\n",
    "np.eye(3,4) # 3*4"
   ]
  },
  {
   "cell_type": "code",
   "execution_count": 24,
   "metadata": {},
   "outputs": [
    {
     "data": {
      "text/plain": [
       "array([[2, 2, 2],\n",
       "       [2, 2, 2]])"
      ]
     },
     "execution_count": 24,
     "metadata": {},
     "output_type": "execute_result"
    }
   ],
   "source": [
    "# np.full(shape, fill_value, dtype=None, order='C')\n",
    "\n",
    "np.full((2,3),2)"
   ]
  },
  {
   "cell_type": "code",
   "execution_count": 26,
   "metadata": {},
   "outputs": [
    {
     "data": {
      "text/plain": [
       "array([[1, 2, 3],\n",
       "       [1, 2, 3]])"
      ]
     },
     "execution_count": 26,
     "metadata": {},
     "output_type": "execute_result"
    }
   ],
   "source": [
    "# np.full(shape, fill_value, dtype=None, order='C')\n",
    "\n",
    "np.full((2,3),[1,2,3]) "
   ]
  },
  {
   "cell_type": "markdown",
   "metadata": {},
   "source": [
    "　【例４】随机矩阵 random.rand  randn  randint choice　"
   ]
  },
  {
   "cell_type": "code",
   "execution_count": 34,
   "metadata": {},
   "outputs": [
    {
     "name": "stdout",
     "output_type": "stream",
     "text": [
      "a [0.61829014 0.33266915 0.40654377 0.06802536]\n",
      "\n",
      "b [[0.50431087 0.94287493 0.71369799]\n",
      " [0.78085211 0.31399736 0.00942389]\n",
      " [0.55719628 0.88214472 0.49934001]\n",
      " [0.82389758 0.31743196 0.29264882]]\n"
     ]
    }
   ],
   "source": [
    "# 0-1 均匀分布的随机数组\n",
    "\n",
    "# 一维\n",
    "a = np.random.rand(4) \n",
    "print('a',a, )\n",
    "print()\n",
    "\n",
    "\n",
    "# 二维\n",
    "b = np.random.rand(4,3)\n",
    "print('b',b)"
   ]
  },
  {
   "cell_type": "code",
   "execution_count": 37,
   "metadata": {},
   "outputs": [
    {
     "name": "stdout",
     "output_type": "stream",
     "text": [
      "a [ 0.25383451 -0.33993786  0.13296071]\n",
      "\n",
      "b [[-0.51557481 -0.59091175  0.94613057]\n",
      " [-0.13346426 -1.00507234  0.55279057]\n",
      " [ 1.05595329 -0.96538543 -1.4875969 ]\n",
      " [-0.72006149 -0.36261599  0.19051537]]\n"
     ]
    }
   ],
   "source": [
    "# N(0,1) 标准正态分布随机数\n",
    "\n",
    "# 一维\n",
    "a = np.random.randn(3)\n",
    "print('a',a, )\n",
    "print()\n",
    "\n",
    "# 二维\n",
    "b = np.random.randn(4,3)\n",
    "print('b',b)"
   ]
  },
  {
   "cell_type": "code",
   "execution_count": 41,
   "metadata": {},
   "outputs": [
    {
     "name": "stdout",
     "output_type": "stream",
     "text": [
      "a [0 4 0 1]\n",
      "\n",
      "b [[1 2 3]\n",
      " [2 3 3]\n",
      " [1 3 1]\n",
      " [2 4 4]]\n"
     ]
    }
   ],
   "source": [
    "# low - high 之间的均匀分布 随机整数数组\n",
    "# randint(low, high=None, size=None, dtype='l')\n",
    "\n",
    "\n",
    "# 一维\n",
    "a = np.random.randint(0,5,4)\n",
    "print('a',a, )\n",
    "print()\n",
    "\n",
    "# 二维\n",
    "b = np.random.randint(0,5,(4,3))\n",
    "print('b',b)"
   ]
  },
  {
   "cell_type": "code",
   "execution_count": null,
   "metadata": {},
   "outputs": [],
   "source": [
    "# np.choice从给定数组以一定概率抽取\n",
    "# choice(a, size=None, replace=True, p=None)\n",
    "\n",
    "list1 = [1,2,3,4,5]\n",
    "np.random.choice(list1,2,p=[0,0.1,0.1,0.5,0.3])"
   ]
  },
  {
   "cell_type": "markdown",
   "metadata": {},
   "source": [
    "#### 2.2 np数组的变形和合并\n",
    "\n",
    "　　转置：T\n",
    "  \n",
    "　　合并：r_ ， c_\n",
    "  \n",
    "　　维度变换：reshape\n",
    "\n",
    "　　【例1】转置"
   ]
  },
  {
   "cell_type": "code",
   "execution_count": 54,
   "metadata": {},
   "outputs": [
    {
     "name": "stdout",
     "output_type": "stream",
     "text": [
      "before \n",
      " [[0 1 2 3 4]\n",
      " [5 6 7 8 9]] (2, 5)\n",
      "after \n",
      " [[0 5]\n",
      " [1 6]\n",
      " [2 7]\n",
      " [3 8]\n",
      " [4 9]] (5, 2)\n"
     ]
    }
   ],
   "source": [
    "# \n",
    "\n",
    "arr1 = np.arange(10).reshape(2,5)\n",
    "print('before','\\n',arr1,arr1.shape)\n",
    "\n",
    "print('after','\\n',arr1.T,arr1.T.shape)"
   ]
  },
  {
   "cell_type": "markdown",
   "metadata": {},
   "source": [
    "　　【例2】合并操作r_ c_"
   ]
  },
  {
   "cell_type": "code",
   "execution_count": null,
   "metadata": {},
   "outputs": [],
   "source": [
    "# array按照 第一个维度合并\n",
    "\n",
    "np.r_[]"
   ]
  },
  {
   "cell_type": "code",
   "execution_count": null,
   "metadata": {},
   "outputs": [],
   "source": [
    "# array按照 第二个维度合并\n",
    "\n",
    "np.c_[]"
   ]
  },
  {
   "cell_type": "markdown",
   "metadata": {},
   "source": [
    "　　【例3】维度转换reshape\n",
    "  \n",
    "　　参数默认 order='C'，按行读取填充，order='F'，按列读取填充"
   ]
  },
  {
   "cell_type": "code",
   "execution_count": 62,
   "metadata": {},
   "outputs": [],
   "source": [
    "arr1 = np.arange(10)\n",
    "print(arr1)"
   ]
  },
  {
   "cell_type": "code",
   "execution_count": 60,
   "metadata": {},
   "outputs": [
    {
     "data": {
      "text/plain": [
       "array([[0, 1, 2, 3, 4],\n",
       "       [5, 6, 7, 8, 9]])"
      ]
     },
     "execution_count": 60,
     "metadata": {},
     "output_type": "execute_result"
    }
   ],
   "source": [
    "arr1.reshape((2,5),order = 'C')"
   ]
  },
  {
   "cell_type": "code",
   "execution_count": 63,
   "metadata": {},
   "outputs": [
    {
     "data": {
      "text/plain": [
       "array([[0, 2, 4, 6, 8],\n",
       "       [1, 3, 5, 7, 9]])"
      ]
     },
     "execution_count": 63,
     "metadata": {},
     "output_type": "execute_result"
    }
   ],
   "source": [
    "arr1.reshape((2,5),order = 'F')"
   ]
  },
  {
   "cell_type": "markdown",
   "metadata": {},
   "source": [
    "　　【例4】n*1 大小的数组转为 1*n 的1维数组"
   ]
  },
  {
   "cell_type": "code",
   "execution_count": 67,
   "metadata": {},
   "outputs": [
    {
     "data": {
      "text/plain": [
       "array([[1.],\n",
       "       [1.],\n",
       "       [1.],\n",
       "       [1.]])"
      ]
     },
     "execution_count": 67,
     "metadata": {},
     "output_type": "execute_result"
    }
   ],
   "source": [
    "arr = np.ones((4,1))\n",
    "arr"
   ]
  },
  {
   "cell_type": "code",
   "execution_count": 68,
   "metadata": {},
   "outputs": [
    {
     "data": {
      "text/plain": [
       "array([1., 1., 1., 1.])"
      ]
     },
     "execution_count": 68,
     "metadata": {},
     "output_type": "execute_result"
    }
   ],
   "source": [
    "arr.reshape(-1)"
   ]
  },
  {
   "cell_type": "markdown",
   "metadata": {},
   "source": [
    "#### 2.3 np数组的切片和索引\n",
    "\n",
    "　　* 切片索引 [star:end:step]\n",
    "\n",
    "　　* 传入list索引 \n",
    "  \n",
    "　　* np.ix_()索引\n",
    "\n",
    "　　【例1】切片索引与传入list索引示例"
   ]
  },
  {
   "cell_type": "code",
   "execution_count": 72,
   "metadata": {},
   "outputs": [
    {
     "name": "stdout",
     "output_type": "stream",
     "text": [
      "[[3 4 0 1 0]\n",
      " [2 4 4 0 2]\n",
      " [1 3 2 2 3]\n",
      " [3 0 4 3 1]]\n"
     ]
    }
   ],
   "source": [
    "arr = np.random.randint(0,5,(4,5))\n",
    "print(arr)"
   ]
  },
  {
   "cell_type": "code",
   "execution_count": 74,
   "metadata": {},
   "outputs": [
    {
     "data": {
      "text/plain": [
       "array([[4, 0, 1],\n",
       "       [4, 4, 0]])"
      ]
     },
     "execution_count": 74,
     "metadata": {},
     "output_type": "execute_result"
    }
   ],
   "source": [
    "# 切片索引\n",
    "\n",
    "arr[0:2,1:4]"
   ]
  },
  {
   "cell_type": "code",
   "execution_count": 77,
   "metadata": {},
   "outputs": [
    {
     "data": {
      "text/plain": [
       "array([[3, 0],\n",
       "       [2, 4],\n",
       "       [1, 2]])"
      ]
     },
     "execution_count": 77,
     "metadata": {},
     "output_type": "execute_result"
    }
   ],
   "source": [
    "# 传入列表索引\n",
    "\n",
    "arr[0:3,[0,2]]"
   ]
  },
  {
   "cell_type": "markdown",
   "metadata": {},
   "source": [
    "　　【例2】np.ix() 通过布尔值索引"
   ]
  },
  {
   "cell_type": "code",
   "execution_count": 85,
   "metadata": {},
   "outputs": [
    {
     "data": {
      "text/plain": [
       "array([[2, 4, 0],\n",
       "       [1, 2, 2]])"
      ]
     },
     "execution_count": 85,
     "metadata": {},
     "output_type": "execute_result"
    }
   ],
   "source": [
    "arr[np.ix_([1,2],[True,False,True,True])]"
   ]
  },
  {
   "cell_type": "markdown",
   "metadata": {},
   "source": [
    "　　【例3】按要求取行，同时按照顺序将列排序。"
   ]
  },
  {
   "cell_type": "code",
   "execution_count": 86,
   "metadata": {},
   "outputs": [
    {
     "data": {
      "text/plain": [
       "array([[2, 0, 4, 4],\n",
       "       [3, 1, 4, 0],\n",
       "       [1, 2, 3, 2]])"
      ]
     },
     "execution_count": 86,
     "metadata": {},
     "output_type": "execute_result"
    }
   ],
   "source": [
    "arr[[1,0,2]][:,[0,3,1,2]]"
   ]
  },
  {
   "cell_type": "code",
   "execution_count": 87,
   "metadata": {},
   "outputs": [
    {
     "data": {
      "text/plain": [
       "array([[2, 0, 4, 4],\n",
       "       [3, 1, 4, 0],\n",
       "       [1, 2, 3, 2]])"
      ]
     },
     "execution_count": 87,
     "metadata": {},
     "output_type": "execute_result"
    }
   ],
   "source": [
    "arr[np.ix_([1,0,2],[0,3,1,2])]"
   ]
  },
  {
   "cell_type": "markdown",
   "metadata": {},
   "source": [
    "#### 2.4 其他常用函数\n",
    "\n",
    "* 条件检索，返回数组： np.where()\n",
    "\n",
    "* 检索返回对应坐标： nonzero,argmax，argmin\n",
    "  \n",
    "* 判断 any all\n",
    "  \n",
    "* 计算函数 cumprod cumsum diff\n",
    "\n",
    "* 统计函数 max min mean median std var sum quantile\n",
    "  \n",
    "\n",
    "  "
   ]
  },
  {
   "cell_type": "markdown",
   "metadata": {},
   "source": [
    "**np.where(condition,[x,y])**\n",
    "\n",
    "* 只指定condition，参数[x，y]未指定时，功能等同于np.asarray(condition).nonzero()，返回满足条件的索引\n",
    "\n",
    "* 指定参数[x,y]，表示满足condition则返回x中的值，否则返回y中的值"
   ]
  },
  {
   "cell_type": "code",
   "execution_count": 23,
   "metadata": {},
   "outputs": [
    {
     "name": "stdout",
     "output_type": "stream",
     "text": [
      "(array([0, 0, 0, 1, 1, 1], dtype=int64), array([0, 1, 2, 1, 2, 3], dtype=int64))\n",
      "(array([0, 0, 0, 1, 1, 1], dtype=int64), array([0, 1, 2, 1, 2, 3], dtype=int64))\n"
     ]
    }
   ],
   "source": [
    "# 只指定condition，参数[x，y]未指定时\n",
    "arr = np.array([[1,2,3,0],[0,1,1,1]])\n",
    "\n",
    "a = np.where(arr)\n",
    "\n",
    "b = np.asarray(arr).nonzero()\n",
    "\n",
    "print(a)\n",
    "print(b)"
   ]
  },
  {
   "cell_type": "code",
   "execution_count": 28,
   "metadata": {},
   "outputs": [
    {
     "data": {
      "text/plain": [
       "(array([0, 0, 0, 1, 1, 1], dtype=int64),\n",
       " array([0, 1, 2, 1, 2, 3], dtype=int64))"
      ]
     },
     "execution_count": 28,
     "metadata": {},
     "output_type": "execute_result"
    }
   ],
   "source": [
    "# 只指定condition，参数[x，y]未指定时\n",
    "arr = np.array([[1,2,3,0],[0,1,1,1]])\n",
    "np.where(arr>0)"
   ]
  },
  {
   "cell_type": "code",
   "execution_count": 34,
   "metadata": {},
   "outputs": [
    {
     "data": {
      "text/plain": [
       "array([[10,  2,  3,  0],\n",
       "       [ 0, 10, 10, 10]])"
      ]
     },
     "execution_count": 34,
     "metadata": {},
     "output_type": "execute_result"
    }
   ],
   "source": [
    "# 指定参数[x，y]\n",
    "\n",
    "np.where(arr>1,arr,10*arr)"
   ]
  },
  {
   "cell_type": "code",
   "execution_count": 37,
   "metadata": {},
   "outputs": [
    {
     "data": {
      "text/plain": [
       "array([[1, 4],\n",
       "       [3, 5]])"
      ]
     },
     "execution_count": 37,
     "metadata": {},
     "output_type": "execute_result"
    }
   ],
   "source": [
    "# 指定参数\n",
    "np.where([[True,False],[True,True]],[[1,2],[3,5]],[[3,4],[5,6]])"
   ]
  },
  {
   "cell_type": "code",
   "execution_count": 26,
   "metadata": {},
   "outputs": [
    {
     "data": {
      "text/plain": [
       "array([[1, 2, 3, 0],\n",
       "       [0, 1, 1, 1]])"
      ]
     },
     "execution_count": 26,
     "metadata": {},
     "output_type": "execute_result"
    }
   ],
   "source": [
    "# 利用np.where填充\n",
    "\n",
    "np.where(arr<5,arr,0)"
   ]
  },
  {
   "cell_type": "markdown",
   "metadata": {},
   "source": [
    "**np.nonzero(a)**\n",
    "\n",
    "返回a中非零元素的索引值\n",
    "\n",
    "\n",
    "**np.argmax(a, axis=None, out=None)**\n",
    "\n",
    "按axis的方向返回最大值的索引\n",
    "\n",
    "* axis = None,0,1\n",
    "\n",
    "**np.argmin(a, axis=None, out=None)**\n",
    "\n",
    "按axis的方向返回最小值的索引\n",
    "\n",
    "参数说明同argmax"
   ]
  },
  {
   "cell_type": "code",
   "execution_count": 38,
   "metadata": {},
   "outputs": [
    {
     "data": {
      "text/plain": [
       "(array([0, 0, 0, 1, 1, 1], dtype=int64),\n",
       " array([0, 1, 2, 1, 2, 3], dtype=int64))"
      ]
     },
     "execution_count": 38,
     "metadata": {},
     "output_type": "execute_result"
    }
   ],
   "source": [
    "## nonzero的使用\n",
    "arr = np.array([[1,2,3,0],[0,1,1,1]])\n",
    "\n",
    "np.nonzero(arr)"
   ]
  },
  {
   "cell_type": "code",
   "execution_count": 46,
   "metadata": {},
   "outputs": [
    {
     "name": "stdout",
     "output_type": "stream",
     "text": [
      "arr\n",
      " [[1 2 3 0]\n",
      " [0 1 7 2]] \n",
      "\n",
      "the maxindex of axis=none:\n",
      " 6 \n",
      "\n",
      "the maxindex of axis=0:\n",
      " [0 0 1 1] \n",
      "\n",
      "the maxindex of axis=1:\n",
      " [2 2] \n",
      "\n"
     ]
    }
   ],
   "source": [
    "#np.argmax的使用\n",
    "\n",
    "arr = np.array([[1,2,3,0],[0,1,7,2]])\n",
    "print('arr\\n',arr,'\\n')\n",
    "\n",
    "a = np.argmax(arr)\n",
    "print('the maxindex of axis=none:\\n',a,'\\n')\n",
    "\n",
    "b = np.argmax(arr,axis=0)\n",
    "print('the maxindex of axis=0:\\n',b,'\\n')\n",
    "\n",
    "c = np.argmax(arr,axis=1)\n",
    "print('the maxindex of axis=1:\\n',c,'\\n')"
   ]
  },
  {
   "cell_type": "markdown",
   "metadata": {},
   "source": [
    "**np.any(a, axis=None, out=None, keepdims= no value)**\n",
    "\n",
    "按维度返回 True  if 维度上至少存在一个True或者非零元素 else False\n",
    "    \n",
    "\n",
    "**np.all(a, axis=None, out=None, keepdims= no value)**\n",
    "\n",
    "按维度返回 True  if 维度上全部为True或者非零元素 else False"
   ]
  },
  {
   "cell_type": "code",
   "execution_count": 77,
   "metadata": {},
   "outputs": [
    {
     "name": "stdout",
     "output_type": "stream",
     "text": [
      "arr\n",
      " [[1 2 3 0]\n",
      " [0 1 7 0]] \n",
      "\n",
      "the np.any of axis=none:\n",
      " True \n",
      "\n",
      "the np.any of axis=0:\n",
      " [ True  True  True False] \n",
      "\n",
      "the np.any of axis=1:\n",
      " [ True  True] \n",
      "\n"
     ]
    }
   ],
   "source": [
    "## np.any\n",
    "arr = np.array([[1,2,3,0],[0,1,7,0]])\n",
    "print('arr\\n',arr,'\\n')\n",
    "\n",
    "#\n",
    "print('the np.any of axis=none:\\n',np.any(arr),'\\n')\n",
    "\n",
    "#\n",
    "print('the np.any of axis=0:\\n',np.any(arr,axis=0),'\\n')\n",
    "\n",
    "#\n",
    "print('the np.any of axis=1:\\n',np.any(arr,axis=1),'\\n')"
   ]
  },
  {
   "cell_type": "markdown",
   "metadata": {},
   "source": [
    "  \n",
    "**np.cumprod(a, axis=None, dtype=None, out=None)**\n",
    "\n",
    "按维度累乘\n",
    "    \n",
    "**np.cumsum(a, axis=None, dtype=None, out=None)**\n",
    "\n",
    "按维度累加\n",
    "\n",
    "**np.diff(a, n=1, axis=-1, prepend=no value, append=no value)**\n",
    "\n",
    "按维度递减，第一个元素为缺失值，默认参数下，返回长度是原数组减1\n",
    "\n",
    "* para n: out[n] = a[n+1] - a[n]\n",
    "* para axis: 默认axis = -1"
   ]
  },
  {
   "cell_type": "code",
   "execution_count": 53,
   "metadata": {},
   "outputs": [
    {
     "name": "stdout",
     "output_type": "stream",
     "text": [
      "arr\n",
      " [[1 2 3 0]\n",
      " [0 1 7 0]] \n",
      "\n",
      "the np.cumprod of axis=none:\n",
      " [1 2 6 0 0 0 0 0] \n",
      "\n",
      "the np.cumprod of axis=0:\n",
      " [[ 1  2  3  0]\n",
      " [ 0  2 21  0]] \n",
      "\n",
      "the np.cumprod of axis=1:\n",
      " [[1 2 6 0]\n",
      " [0 0 0 0]] \n",
      "\n"
     ]
    }
   ],
   "source": [
    "# \n",
    "arr = np.array([[1,2,3,0],[0,1,7,0]])\n",
    "print('arr\\n',arr,'\\n')\n",
    "\n",
    "#\n",
    "print('the np.cumprod of axis=none:\\n',np.cumprod(arr),'\\n')\n",
    "\n",
    "#\n",
    "print('the np.cumprod of axis=0:\\n',np.cumprod(arr,axis=0),'\\n')\n",
    "\n",
    "#\n",
    "print('the np.cumprod of axis=1:\\n',np.cumprod(arr,axis=1),'\\n')"
   ]
  },
  {
   "cell_type": "code",
   "execution_count": 56,
   "metadata": {},
   "outputs": [
    {
     "name": "stdout",
     "output_type": "stream",
     "text": [
      "arr\n",
      " [[1 2 3 0]\n",
      " [0 1 7 0]] \n",
      "\n",
      "the np.diff of axis=none:\n",
      " [[ 1  1 -3]\n",
      " [ 1  6 -7]] \n",
      "\n",
      "the np.diff of axis=0:\n",
      " [[-1 -1  4  0]] \n",
      "\n",
      "the np.diff of axis=1:\n",
      " [[ 1  1 -3]\n",
      " [ 1  6 -7]] \n",
      "\n"
     ]
    }
   ],
   "source": [
    "# np.diff 默认参数\n",
    "arr = np.array([[1,2,3,0],[0,1,7,0]])\n",
    "print('arr\\n',arr,'\\n')\n",
    "\n",
    "#\n",
    "print('the np.diff of axis=none:\\n',np.diff(arr),'\\n')\n",
    "\n",
    "#\n",
    "print('the np.diff of axis=0:\\n',np.diff(arr,axis=0),'\\n')\n",
    "\n",
    "#\n",
    "print('the np.diff of axis=1:\\n',np.diff(arr,axis=1),'\\n')"
   ]
  },
  {
   "cell_type": "code",
   "execution_count": 57,
   "metadata": {},
   "outputs": [
    {
     "data": {
      "text/plain": [
       "array([[  0,  -4],\n",
       "       [  5, -13]])"
      ]
     },
     "execution_count": 57,
     "metadata": {},
     "output_type": "execute_result"
    }
   ],
   "source": [
    "# 设置n\n",
    "np.diff(arr,n =2)"
   ]
  },
  {
   "cell_type": "markdown",
   "metadata": {},
   "source": [
    "统计函数max,min，mean，median，sta，var，sum，quantile 协方差矩阵cov，相关系数corrcoef\n",
    "\n",
    "对于含有nan的数组，使用nan*的函数"
   ]
  },
  {
   "cell_type": "code",
   "execution_count": 59,
   "metadata": {},
   "outputs": [
    {
     "name": "stdout",
     "output_type": "stream",
     "text": [
      "nan\n",
      "3.0\n"
     ]
    }
   ],
   "source": [
    "arr = np.array([1,2,3,np.nan])\n",
    "\n",
    "print(np.max(arr))\n",
    "print(np.nanmax(arr))"
   ]
  },
  {
   "cell_type": "markdown",
   "metadata": {},
   "source": [
    "**关于函数中axis维度的理解：**\n",
    "\n",
    "利用数组的shape来理解，固定的数组 **行rows** 是倒数第二个维度，**列cols**是倒数第一个维度，对于二维数组的shape表示为 rows * cols；\n",
    "\n",
    "三维数组的表示就是 a*（rows * cols），有a个二维数组，axis=0，1，2 就分别代表的shape的a，rows，cols的维度，\n",
    "\n",
    "再往上走就是 b * { a *（rows * cols）}， \n",
    "\n",
    "沿着指定维度进行函数计算可以理解为当指定axis = 0时，以二维数组为例，就是指针在axis=0维移动，在axis=1维不动\n",
    "\n",
    "[参考文章](https://blog.csdn.net/jasminefeng/article/details/111144059)"
   ]
  },
  {
   "cell_type": "markdown",
   "metadata": {},
   "source": [
    "#### 2.5 广播机制\n",
    "\n",
    "广播机制[参考文章：](https://www.cnblogs.com/jiaxin359/p/9021726.html)可以理解为扩展，即numpy中当不同维度的数组进行计算的时候，对其中一个数组进行扩展实现数组计算的操作。\n",
    "\n",
    "广播机制只包括以下两种情况：\n",
    "\n",
    "\n",
    "\n",
    "* 两个数组的维度不相等，但两个数组从末尾数的维度（后缘维度）相同\n",
    "\n",
    "* 其中一个数组的长度为1 ？\n",
    "\n",
    "【例1】数组维度不同，后缘维度的轴长相符 "
   ]
  },
  {
   "cell_type": "code",
   "execution_count": 67,
   "metadata": {},
   "outputs": [
    {
     "name": "stdout",
     "output_type": "stream",
     "text": [
      "a.shape：\n",
      " (3,)\n",
      "b.shape：\n",
      " (2, 3)\n",
      "c\n",
      " [[2 4 6]\n",
      " [2 3 4]]\n",
      "c.shape：\n",
      " (2, 3)\n"
     ]
    }
   ],
   "source": [
    "# 数组维度不同，后缘维度的轴长相符 (3,) 和 （2，3）\n",
    "\n",
    "a = np.array([1,2,3])  \n",
    "b = np.array([[1,2,3],[1,1,1]])\n",
    "\n",
    "print(\"a.shape：\\n\",a.shape)\n",
    "print(\"b.shape：\\n\",b.shape)\n",
    "\n",
    "\n",
    "c = a+b\n",
    "print(\"c\\n\",c)\n",
    "print(\"c.shape：\\n\",c.shape)"
   ]
  },
  {
   "cell_type": "markdown",
   "metadata": {},
   "source": [
    "上面执行的是[[1,2,3],[1,2,3]] + [1,2,3],[1,1,1]]\n",
    "\n",
    "同样的例子（3，4，2） 和（4，2），（3，4，2）和（2，）shape的两个数组可以通过广播机制实现计算的"
   ]
  },
  {
   "cell_type": "code",
   "execution_count": 73,
   "metadata": {},
   "outputs": [
    {
     "name": "stdout",
     "output_type": "stream",
     "text": [
      "（3，4，2） 和（4，2) 相加:\n",
      " [[[ 0  2]\n",
      "  [ 4  6]\n",
      "  [ 8 10]\n",
      "  [12 14]]\n",
      "\n",
      " [[ 8 10]\n",
      "  [12 14]\n",
      "  [16 18]\n",
      "  [20 22]]\n",
      "\n",
      " [[16 18]\n",
      "  [20 22]\n",
      "  [24 26]\n",
      "  [28 30]]] \n",
      "\n",
      "（3，4，2）和（2，）相加: \n",
      " [[[ 1  3]\n",
      "  [ 3  5]\n",
      "  [ 5  7]\n",
      "  [ 7  9]]\n",
      "\n",
      " [[ 9 11]\n",
      "  [11 13]\n",
      "  [13 15]\n",
      "  [15 17]]\n",
      "\n",
      " [[17 19]\n",
      "  [19 21]\n",
      "  [21 23]\n",
      "  [23 25]]] \n",
      "\n"
     ]
    }
   ],
   "source": [
    "# 数组维度不同，后缘维度的轴长相符 \n",
    "\n",
    "a = np.arange(24).reshape(3,4,2)\n",
    "b = np.arange(8).reshape(4,2)\n",
    "c = np.array([1,2])\n",
    "\n",
    "print(\"（3，4，2） 和（4，2) 相加:\\n\",a+b,'\\n')\n",
    "print(\"（3，4，2）和（2，）相加: \\n\",a+c,\"\\n\")"
   ]
  },
  {
   "cell_type": "markdown",
   "metadata": {},
   "source": [
    "【例2】数组维度相同，其中有个轴为1"
   ]
  },
  {
   "cell_type": "code",
   "execution_count": 76,
   "metadata": {},
   "outputs": [
    {
     "name": "stdout",
     "output_type": "stream",
     "text": [
      "a.shape：\n",
      " (4, 3)\n",
      "b.shape：\n",
      " (4, 1)\n",
      "c\n",
      " [[1 1 1]\n",
      " [2 2 2]\n",
      " [3 3 3]\n",
      " [4 4 4]]\n",
      "c.shape：\n",
      " (4, 3)\n"
     ]
    }
   ],
   "source": [
    "\n",
    "a = np.array([[0, 0, 0],[1, 1, 1],[2, 2, 2], [3, 3, 3]])\n",
    "b = np.array([[1],[1],[1],[1]])\n",
    "print(\"a.shape：\\n\",a.shape)\n",
    "print(\"b.shape：\\n\",b.shape)\n",
    "\n",
    "\n",
    "c = a+b\n",
    "print(\"c\\n\",c)\n",
    "print(\"c.shape：\\n\",c.shape)"
   ]
  },
  {
   "attachments": {
    "image.png": {
     "image/png": "[encoded data removed]"
    }
   },
   "cell_type": "markdown",
   "metadata": {},
   "source": [
    "第二个数组的在axis = 1 的维度上，长度为1，进行计算的时候会沿着axis=1进行广播扩展，如下图：\n",
    "\n",
    "\n",
    "![image.png](attachment:image.png)\n",
    "\n",
    "（3,1,6）、（3,5,1）这种会沿着axis = 1 和 axis=2进行扩展后计算"
   ]
  },
  {
   "cell_type": "markdown",
   "metadata": {},
   "source": [
    "#### 2.6 向量和矩阵的计算\n",
    "\n",
    "* 向量内积 .dot: 一维向量直接对应元素相乘相机，多维数组行列相乘\n",
    "\n",
    "* 向量范数和矩阵范数np.linalg.norm\n",
    "    \n",
    "    >ord参数：选择计算范数的公式，参考[官方文档](https://docs.scipy.org/doc/numpy-1.15.1/reference/generated/numpy.linalg.norm.html)\n",
    "    \n",
    "\n",
    "* 矩阵乘法@"
   ]
  },
  {
   "cell_type": "code",
   "execution_count": 86,
   "metadata": {},
   "outputs": [
    {
     "name": "stdout",
     "output_type": "stream",
     "text": [
      "(3,)\n",
      "(3, 1)\n",
      "[14] (1,)\n",
      "14 ()\n"
     ]
    }
   ],
   "source": [
    "# 向量内积\n",
    "a = np.array([1,2,3])\n",
    "b = np.array([[1],[2],[3]])\n",
    "c = np.array([1,2,3])\n",
    "\n",
    "print(a.shape)\n",
    "print(b.shape)\n",
    "\n",
    "\n",
    "res1= a.dot(b)\n",
    "print(res1,res1.shape)\n",
    "\n",
    "\n",
    "res2= a.dot(c)\n",
    "print(res2,res2.shape)\n"
   ]
  },
  {
   "cell_type": "code",
   "execution_count": 91,
   "metadata": {},
   "outputs": [
    {
     "name": "stdout",
     "output_type": "stream",
     "text": [
      "[[7 4]\n",
      " [7 4]]\n",
      "[[7 4]\n",
      " [7 4]]\n"
     ]
    }
   ],
   "source": [
    "# 矩阵乘法\n",
    "a = np.array([[1,3],[1,3]])\n",
    "b = np.array([[1,1],[2,1]])\n",
    "\n",
    "print(a.dot(b))\n",
    "\n",
    "print(a@b)"
   ]
  },
  {
   "cell_type": "markdown",
   "metadata": {},
   "source": [
    "#### 三、练习\n",
    "\n",
    "Ex1：利用列表推导式写矩阵乘法\n",
    "一般的矩阵乘法根据公式，可以由三重循环写出，请将其改写为列表推导式的形式。"
   ]
  },
  {
   "cell_type": "code",
   "execution_count": 92,
   "metadata": {},
   "outputs": [
    {
     "data": {
      "text/plain": [
       "True"
      ]
     },
     "execution_count": 92,
     "metadata": {},
     "output_type": "execute_result"
    }
   ],
   "source": [
    "## 3层循环实现矩阵乘法\n",
    "\n",
    "\n",
    "M1 = np.random.rand(2,3)\n",
    "M2 = np.random.rand(3,4)\n",
    "res = np.empty((M1.shape[0],M2.shape[1]))\n",
    "for i in range(M1.shape[0]):\n",
    "    for j in range(M2.shape[1]):\n",
    "        item = 0\n",
    "        for k in range(M1.shape[1]):\n",
    "            item += M1[i][k] * M2[k][j]\n",
    "        res[i][j] = item\n",
    "((M1@M2 - res) < 1e-15).all() # 排除数值误差"
   ]
  },
  {
   "cell_type": "code",
   "execution_count": 18,
   "metadata": {},
   "outputs": [
    {
     "data": {
      "text/plain": [
       "True"
      ]
     },
     "execution_count": 18,
     "metadata": {},
     "output_type": "execute_result"
    }
   ],
   "source": [
    "# 第一次改进的代码，使用了一次列表推导式，\n",
    "\n",
    "\n",
    "M1= np.array([[0,1,0],[1,0,1]])\n",
    "M2 = np.array([[1,1,1,1],[0,1,0,1],[1,0,1,0]])\n",
    "res = np.empty((M1.shape[0],M2.shape[1]))\n",
    "for i in range(M1.shape[0]):\n",
    "    for j in range(M2.shape[1]):\n",
    "        #print(i)\n",
    "        item = [M1[i][k]*M2[k][j]  for k in range(M1.shape[1])]\n",
    "        item = np.sum(item)\n",
    "        #print(np.sum(item))\n",
    "        res[i][j]= item\n",
    "    \n",
    "((M1@M2 - res) < 1e-15).all()"
   ]
  },
  {
   "cell_type": "code",
   "execution_count": 36,
   "metadata": {},
   "outputs": [
    {
     "data": {
      "text/plain": [
       "True"
      ]
     },
     "execution_count": 36,
     "metadata": {},
     "output_type": "execute_result"
    }
   ],
   "source": [
    "# 参考答案\n",
    "\n",
    "M1= np.array([[0,1,0],[1,0,1]])\n",
    "M2 = np.array([[1,1,1,1],[0,1,0,1],[1,0,1,0]])\n",
    "\n",
    "\n",
    "res =[ [np.sum([M1[i][k]*M2[k][j]  for k in range(M1.shape[1])]) for j in range(M2.shape[1])] for i in range(M1.shape[0]) ]\n",
    "\n",
    "((M1@M2 - res) < 1e-15).all()\n",
    "               \n",
    "            "
   ]
  },
  {
   "cell_type": "markdown",
   "metadata": {},
   "source": [
    " EX2.更新矩阵"
   ]
  },
  {
   "cell_type": "code",
   "execution_count": 22,
   "metadata": {},
   "outputs": [
    {
     "data": {
      "text/plain": [
       "array([[1.83333333, 3.66666667, 5.5       ],\n",
       "       [2.46666667, 3.08333333, 3.7       ],\n",
       "       [2.65277778, 3.03174603, 3.41071429]])"
      ]
     },
     "execution_count": 22,
     "metadata": {},
     "output_type": "execute_result"
    }
   ],
   "source": [
    "A = np.array([[1,2,3],[4,5,6],[7,8,9]])\n",
    "res = np.empty((3,3))\n",
    "\n",
    "for i in range(A.shape[0]):\n",
    "    for j in range(A.shape[1]):\n",
    "        item =  A[i][j] * np.sum([1/A[i][k] for k in range(A.shape[1])])\n",
    "        res[i][j] = item\n",
    "        \n",
    "res"
   ]
  },
  {
   "cell_type": "code",
   "execution_count": 33,
   "metadata": {},
   "outputs": [
    {
     "name": "stdout",
     "output_type": "stream",
     "text": [
      "[[1.83333333 3.66666667 5.5       ]\n",
      " [2.46666667 3.08333333 3.7       ]\n",
      " [2.65277778 3.03174603 3.41071429]]\n"
     ]
    }
   ],
   "source": [
    "# 参考答案，先按照axis=0求sum,在进行矩阵元素对应相乘\n",
    "\n",
    "func = lambda x:1/x\n",
    "A_tmp = np.sum(func(A),axis = 1).reshape(3,-1)\n",
    "print(A*A_tmp)"
   ]
  },
  {
   "cell_type": "markdown",
   "metadata": {},
   "source": [
    "Ex3：卡方统计量"
   ]
  },
  {
   "cell_type": "code",
   "execution_count": 44,
   "metadata": {},
   "outputs": [
    {
     "data": {
      "text/plain": [
       "11.842696601945802"
      ]
     },
     "execution_count": 44,
     "metadata": {},
     "output_type": "execute_result"
    }
   ],
   "source": [
    "## \n",
    "np.random.seed(0)\n",
    "A = np.random.randint(10, 20, (8, 5))\n",
    "\n",
    "B = (A.sum(0)*A.sum(1).reshape(-1,1))/A.sum()\n",
    "\n",
    "x = np.sum([(A[i][j]-B[i][j])**2/B[i][j] for i in range(A.shape[0]) for j in range(B.shape[1])])\n",
    "x"
   ]
  },
  {
   "cell_type": "code",
   "execution_count": 47,
   "metadata": {},
   "outputs": [
    {
     "name": "stdout",
     "output_type": "stream",
     "text": [
      "11.842696601945802\n"
     ]
    }
   ],
   "source": [
    "res = np.sum((A-B)**2/B)\n",
    "print(res)"
   ]
  },
  {
   "cell_type": "markdown",
   "metadata": {},
   "source": [
    "Ex4：改进矩阵计算的性能"
   ]
  },
  {
   "cell_type": "code",
   "execution_count": 101,
   "metadata": {},
   "outputs": [],
   "source": [
    "np.random.seed(0)\n",
    "m, n, p = 100, 80, 50\n",
    "B = np.random.randint(0, 2, (m, p))\n",
    "U = np.random.randint(0, 2, (p, n))\n",
    "Z = np.random.randint(0, 2, (m, n))"
   ]
  },
  {
   "cell_type": "markdown",
   "metadata": {},
   "source": [
    "自己的解法只是改变了一下代码逻辑，并没有起到优化的目标，正确答案应该是采取公式推导的方法，进行化解"
   ]
  },
  {
   "cell_type": "code",
   "execution_count": 103,
   "metadata": {},
   "outputs": [
    {
     "data": {
      "text/plain": [
       "100566"
      ]
     },
     "execution_count": 103,
     "metadata": {},
     "output_type": "execute_result"
    }
   ],
   "source": [
    "item = np.sum([Z[i][j]*(B[i]-U[:,j])**2 for i in range(m) for j in range(n)])\n",
    "item"
   ]
  },
  {
   "cell_type": "code",
   "execution_count": null,
   "metadata": {},
   "outputs": [],
   "source": []
  },
  {
   "cell_type": "markdown",
   "metadata": {},
   "source": [
    "Ex5：连续整数的最大长度\n",
    "\n",
    "没有思路，参考了答案"
   ]
  },
  {
   "cell_type": "code",
   "execution_count": 94,
   "metadata": {},
   "outputs": [
    {
     "data": {
      "text/plain": [
       "array([-1, -1,  1,  1,  1,  2])"
      ]
     },
     "execution_count": 94,
     "metadata": {},
     "output_type": "execute_result"
    }
   ],
   "source": [
    "arr1 = np.array([3,2,1,2,3,4,6])\n",
    "diff1 = np.diff(arr1)\n",
    "\n",
    "diff"
   ]
  },
  {
   "cell_type": "code",
   "execution_count": 100,
   "metadata": {},
   "outputs": [
    {
     "data": {
      "text/plain": [
       "4"
      ]
     },
     "execution_count": 100,
     "metadata": {},
     "output_type": "execute_result"
    }
   ],
   "source": [
    "np.diff(np.nonzero(np.r_[1,np.diff(arr1)!=1,1])).max()"
   ]
  },
  {
   "cell_type": "code",
   "execution_count": null,
   "metadata": {},
   "outputs": [],
   "source": []
  }
 ],
 "metadata": {
  "kernelspec": {
   "display_name": "Python 3",
   "language": "python",
   "name": "python3"
  },
  "language_info": {
   "codemirror_mode": {
    "name": "ipython",
    "version": 3
   },
   "file_extension": ".py",
   "mimetype": "text/x-python",
   "name": "python",
   "nbconvert_exporter": "python",
   "pygments_lexer": "ipython3",
   "version": "3.6.8"
  }
 },
 "nbformat": 4,
 "nbformat_minor": 2
}
