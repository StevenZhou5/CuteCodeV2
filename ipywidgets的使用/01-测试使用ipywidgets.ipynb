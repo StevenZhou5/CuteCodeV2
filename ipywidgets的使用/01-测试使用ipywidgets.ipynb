{
 "cells": [
  {
   "cell_type": "code",
   "execution_count": 5,
   "metadata": {
    "ExecuteTime": {
     "end_time": "2021-10-08T06:29:40.490805Z",
     "start_time": "2021-10-08T06:29:40.488254Z"
    }
   },
   "outputs": [],
   "source": [
    "import ssl\n",
    "# 如果要用户url读取csv，必须要执行这个操作\n",
    "ssl._create_default_https_context = ssl._create_unverified_context"
   ]
  },
  {
   "cell_type": "code",
   "execution_count": 4,
   "metadata": {
    "ExecuteTime": {
     "end_time": "2021-10-08T06:28:55.876796Z",
     "start_time": "2021-10-08T06:28:46.792220Z"
    }
   },
   "outputs": [
    {
     "data": {
      "text/html": [
       "<div>\n",
       "<style scoped>\n",
       "    .dataframe tbody tr th:only-of-type {\n",
       "        vertical-align: middle;\n",
       "    }\n",
       "\n",
       "    .dataframe tbody tr th {\n",
       "        vertical-align: top;\n",
       "    }\n",
       "\n",
       "    .dataframe thead th {\n",
       "        text-align: right;\n",
       "    }\n",
       "</style>\n",
       "<table border=\"1\" class=\"dataframe\">\n",
       "  <thead>\n",
       "    <tr style=\"text-align: right;\">\n",
       "      <th></th>\n",
       "      <th>LEGAL NAME</th>\n",
       "      <th>ZIP CODE</th>\n",
       "      <th>BUSINESS ACTIVITY</th>\n",
       "    </tr>\n",
       "  </thead>\n",
       "  <tbody>\n",
       "    <tr>\n",
       "      <th>0</th>\n",
       "      <td>DE LA TORRE AUTO SALES INC.</td>\n",
       "      <td>60621</td>\n",
       "      <td>Motor Vehicle Repair -  Engine and Transmissio...</td>\n",
       "    </tr>\n",
       "    <tr>\n",
       "      <th>1</th>\n",
       "      <td>SITEL ARM CORP.</td>\n",
       "      <td>33131</td>\n",
       "      <td>Debt Collecting - Administrative Commercial Of...</td>\n",
       "    </tr>\n",
       "    <tr>\n",
       "      <th>2</th>\n",
       "      <td>Energy Resource Specialist, Inc</td>\n",
       "      <td>61523</td>\n",
       "      <td>Roof Repair and Installation</td>\n",
       "    </tr>\n",
       "    <tr>\n",
       "      <th>3</th>\n",
       "      <td>CTA FOODS, INC.</td>\n",
       "      <td>60622</td>\n",
       "      <td>Retail Sales of Packaged Liquor</td>\n",
       "    </tr>\n",
       "    <tr>\n",
       "      <th>4</th>\n",
       "      <td>CENVEO WORLDWIDE LIMITED</td>\n",
       "      <td>60618</td>\n",
       "      <td>Printing Activities, Metal Processing</td>\n",
       "    </tr>\n",
       "  </tbody>\n",
       "</table>\n",
       "</div>"
      ],
      "text/plain": [
       "                        LEGAL NAME  ZIP CODE  \\\n",
       "0      DE LA TORRE AUTO SALES INC.     60621   \n",
       "1                  SITEL ARM CORP.     33131   \n",
       "2  Energy Resource Specialist, Inc     61523   \n",
       "3                  CTA FOODS, INC.     60622   \n",
       "4         CENVEO WORLDWIDE LIMITED     60618   \n",
       "\n",
       "                                   BUSINESS ACTIVITY  \n",
       "0  Motor Vehicle Repair -  Engine and Transmissio...  \n",
       "1  Debt Collecting - Administrative Commercial Of...  \n",
       "2                       Roof Repair and Installation  \n",
       "3                    Retail Sales of Packaged Liquor  \n",
       "4              Printing Activities, Metal Processing  "
      ]
     },
     "execution_count": 4,
     "metadata": {},
     "output_type": "execute_result"
    }
   ],
   "source": [
    "import pandas as pd\n",
    "df = pd.read_csv('https://data.cityofchicago.org/resource/uupf-x98q.csv')\n",
    "df[['LEGAL NAME', 'ZIP CODE', 'BUSINESS ACTIVITY']].head()"
   ]
  },
  {
   "cell_type": "code",
   "execution_count": 6,
   "metadata": {
    "ExecuteTime": {
     "end_time": "2021-10-08T06:30:29.892610Z",
     "start_time": "2021-10-08T06:30:29.879512Z"
    }
   },
   "outputs": [
    {
     "data": {
      "text/plain": [
       "[60618, 60639, 60622, 60609, 60608, 60614, 60649, 60647, 60655, 60619, 60630]"
      ]
     },
     "execution_count": 6,
     "metadata": {},
     "output_type": "execute_result"
    }
   ],
   "source": [
    "zips = df.groupby('ZIP CODE').count()['ID'].sort_values(ascending=False)\n",
    "zips = list(zips[zips > 20].index)\n",
    "zips"
   ]
  },
  {
   "cell_type": "code",
   "execution_count": 8,
   "metadata": {
    "ExecuteTime": {
     "end_time": "2021-10-08T06:33:23.981828Z",
     "start_time": "2021-10-08T06:33:23.964760Z"
    }
   },
   "outputs": [
    {
     "data": {
      "text/html": [
       "<div>\n",
       "<style scoped>\n",
       "    .dataframe tbody tr th:only-of-type {\n",
       "        vertical-align: middle;\n",
       "    }\n",
       "\n",
       "    .dataframe tbody tr th {\n",
       "        vertical-align: top;\n",
       "    }\n",
       "\n",
       "    .dataframe thead th {\n",
       "        text-align: right;\n",
       "    }\n",
       "</style>\n",
       "<table border=\"1\" class=\"dataframe\">\n",
       "  <thead>\n",
       "    <tr style=\"text-align: right;\">\n",
       "      <th></th>\n",
       "      <th>ZIP CODE</th>\n",
       "      <th>LEGAL NAME</th>\n",
       "      <th>ADDRESS</th>\n",
       "      <th>LICENSE TERM EXPIRATION DATE</th>\n",
       "    </tr>\n",
       "  </thead>\n",
       "  <tbody>\n",
       "    <tr>\n",
       "      <th>4</th>\n",
       "      <td>60618</td>\n",
       "      <td>CENVEO WORLDWIDE LIMITED</td>\n",
       "      <td>3001 N ROCKWELL ST</td>\n",
       "      <td>12/15/2022</td>\n",
       "    </tr>\n",
       "    <tr>\n",
       "      <th>700</th>\n",
       "      <td>60618</td>\n",
       "      <td>ALLCAST DENTAL LABORATORIES, INC.</td>\n",
       "      <td>3812 N KEDZIE AVE 1</td>\n",
       "      <td>12/15/2022</td>\n",
       "    </tr>\n",
       "    <tr>\n",
       "      <th>859</th>\n",
       "      <td>60618</td>\n",
       "      <td>N &amp; P GROUP,INC.</td>\n",
       "      <td>2811 N SACRAMENTO AVE</td>\n",
       "      <td>12/15/2022</td>\n",
       "    </tr>\n",
       "    <tr>\n",
       "      <th>833</th>\n",
       "      <td>60618</td>\n",
       "      <td>KUROWSKI SAUSAGE SHOP &amp; RICH</td>\n",
       "      <td>2976  -2978 N MILWAUKEE AVE  1</td>\n",
       "      <td>12/15/2022</td>\n",
       "    </tr>\n",
       "    <tr>\n",
       "      <th>812</th>\n",
       "      <td>60618</td>\n",
       "      <td>WILLIAM SALAS</td>\n",
       "      <td>2844  -00046 N KEDZIE AVE # 1ST</td>\n",
       "      <td>12/15/2022</td>\n",
       "    </tr>\n",
       "    <tr>\n",
       "      <th>...</th>\n",
       "      <td>...</td>\n",
       "      <td>...</td>\n",
       "      <td>...</td>\n",
       "      <td>...</td>\n",
       "    </tr>\n",
       "    <tr>\n",
       "      <th>793</th>\n",
       "      <td>60618</td>\n",
       "      <td>M &amp; A Leasing LLC</td>\n",
       "      <td>4175 N ELSTON AVE</td>\n",
       "      <td>10/31/2021</td>\n",
       "    </tr>\n",
       "    <tr>\n",
       "      <th>983</th>\n",
       "      <td>60618</td>\n",
       "      <td>LITTLE CREATIVE MINDS CHILD DEVELOPMENT CENTER...</td>\n",
       "      <td>3748 W MONTROSE AVE 1ST</td>\n",
       "      <td>10/15/2022</td>\n",
       "    </tr>\n",
       "    <tr>\n",
       "      <th>155</th>\n",
       "      <td>60618</td>\n",
       "      <td>LOGAN-AVONDALE VFW # 2978</td>\n",
       "      <td>3007 N KEDZIE AVE 1ST</td>\n",
       "      <td>03/15/2022</td>\n",
       "    </tr>\n",
       "    <tr>\n",
       "      <th>597</th>\n",
       "      <td>60618</td>\n",
       "      <td>CUTTING EDGES BEAUTY STUDIO, INC.</td>\n",
       "      <td>2941 W IRVING PARK RD 1</td>\n",
       "      <td>01/15/2023</td>\n",
       "    </tr>\n",
       "    <tr>\n",
       "      <th>875</th>\n",
       "      <td>60618</td>\n",
       "      <td>Synlawn Chicago,LLC</td>\n",
       "      <td>2632 W BARRY AVE</td>\n",
       "      <td>01/15/2023</td>\n",
       "    </tr>\n",
       "  </tbody>\n",
       "</table>\n",
       "<p>115 rows × 4 columns</p>\n",
       "</div>"
      ],
      "text/plain": [
       "     ZIP CODE                                         LEGAL NAME  \\\n",
       "4       60618                           CENVEO WORLDWIDE LIMITED   \n",
       "700     60618                  ALLCAST DENTAL LABORATORIES, INC.   \n",
       "859     60618                                   N & P GROUP,INC.   \n",
       "833     60618                       KUROWSKI SAUSAGE SHOP & RICH   \n",
       "812     60618                                      WILLIAM SALAS   \n",
       "..        ...                                                ...   \n",
       "793     60618                                  M & A Leasing LLC   \n",
       "983     60618  LITTLE CREATIVE MINDS CHILD DEVELOPMENT CENTER...   \n",
       "155     60618                          LOGAN-AVONDALE VFW # 2978   \n",
       "597     60618                  CUTTING EDGES BEAUTY STUDIO, INC.   \n",
       "875     60618                                Synlawn Chicago,LLC   \n",
       "\n",
       "                             ADDRESS LICENSE TERM EXPIRATION DATE  \n",
       "4                 3001 N ROCKWELL ST                   12/15/2022  \n",
       "700              3812 N KEDZIE AVE 1                   12/15/2022  \n",
       "859            2811 N SACRAMENTO AVE                   12/15/2022  \n",
       "833   2976  -2978 N MILWAUKEE AVE  1                   12/15/2022  \n",
       "812  2844  -00046 N KEDZIE AVE # 1ST                   12/15/2022  \n",
       "..                               ...                          ...  \n",
       "793                4175 N ELSTON AVE                   10/31/2021  \n",
       "983          3748 W MONTROSE AVE 1ST                   10/15/2022  \n",
       "155            3007 N KEDZIE AVE 1ST                   03/15/2022  \n",
       "597          2941 W IRVING PARK RD 1                   01/15/2023  \n",
       "875                 2632 W BARRY AVE                   01/15/2023  \n",
       "\n",
       "[115 rows x 4 columns]"
      ]
     },
     "execution_count": 8,
     "metadata": {},
     "output_type": "execute_result"
    }
   ],
   "source": [
    "# 只显示ZIP CODE 为 60618 的 数据\n",
    "df.loc[df['ZIP CODE'] == zips[0]].sort_values(by='LICENSE TERM EXPIRATION DATE', ascending=False)[['ZIP CODE','LEGAL NAME', 'ADDRESS', 'LICENSE TERM EXPIRATION DATE']]"
   ]
  },
  {
   "cell_type": "markdown",
   "metadata": {
    "ExecuteTime": {
     "end_time": "2021-10-08T06:36:47.870140Z",
     "start_time": "2021-10-08T06:36:47.867637Z"
    }
   },
   "source": [
    "# 通过表单插件让上面的操作更加灵活"
   ]
  },
  {
   "cell_type": "code",
   "execution_count": 35,
   "metadata": {
    "ExecuteTime": {
     "end_time": "2021-10-08T06:55:50.429897Z",
     "start_time": "2021-10-08T06:55:50.397302Z"
    }
   },
   "outputs": [
    {
     "data": {
      "application/vnd.jupyter.widget-view+json": {
       "model_id": "33fd4700b24e4720a01665f363d83a40",
       "version_major": 2,
       "version_minor": 0
      },
      "text/plain": [
       "Dropdown(description='Zip Code:', options=(60618, 60639, 60622, 60609, 60608, 60614, 60649, 60647, 60655, 6061…"
      ]
     },
     "metadata": {},
     "output_type": "display_data"
    },
    {
     "data": {
      "application/vnd.jupyter.widget-view+json": {
       "model_id": "2a92e35bb88f44d1bb29e8c54682d6df",
       "version_major": 2,
       "version_minor": 0
      },
      "text/plain": [
       "Checkbox(value=False, description='Ascending')"
      ]
     },
     "metadata": {},
     "output_type": "display_data"
    },
    {
     "data": {
      "application/vnd.jupyter.widget-view+json": {
       "model_id": "a00d88879ff74de9b54deb6b384d0194",
       "version_major": 2,
       "version_minor": 0
      },
      "text/plain": [
       "SelectMultiple(description='Column Name', index=(0, 4), options=('ID', 'LICENSE ID', 'ACCOUNT NUMBER', 'SITE N…"
      ]
     },
     "metadata": {},
     "output_type": "display_data"
    }
   ],
   "source": [
    "import ipywidgets as widgets\n",
    "\n",
    "# 创建 zip的下拉表单\n",
    "zips_dropdown = widgets.Dropdown(\n",
    "    options=zips,\n",
    "    value=zips[0],\n",
    "    description='Zip Code:',\n",
    "    disabled=False,\n",
    ")\n",
    "\n",
    "display(zips_dropdown)\n",
    "\n",
    "\n",
    "sort_ascending_checkbox =widgets.Checkbox(\n",
    "    value=False,\n",
    "    description='Ascending',\n",
    "    disabled=False\n",
    ")\n",
    "display(sort_ascending_checkbox)\n",
    "\n",
    "# 创建columns 的多列选择\n",
    "columns_select_multiple = widgets.SelectMultiple(\n",
    "    options = df.columns,\n",
    "    value = [df.columns[0],df.columns[4]],\n",
    "    description = \"Column Name\",\n",
    "    disabled = False\n",
    ")\n",
    "display(columns_select_multiple)"
   ]
  },
  {
   "cell_type": "code",
   "execution_count": 29,
   "metadata": {
    "ExecuteTime": {
     "end_time": "2021-10-08T06:51:01.266417Z",
     "start_time": "2021-10-08T06:51:01.262716Z"
    }
   },
   "outputs": [
    {
     "data": {
      "text/plain": [
       "60614"
      ]
     },
     "execution_count": 29,
     "metadata": {},
     "output_type": "execute_result"
    }
   ],
   "source": [
    "# 动态的获取value\n",
    "zip_downs.value"
   ]
  },
  {
   "cell_type": "code",
   "execution_count": 31,
   "metadata": {
    "ExecuteTime": {
     "end_time": "2021-10-08T06:52:37.946141Z",
     "start_time": "2021-10-08T06:52:37.942350Z"
    }
   },
   "outputs": [
    {
     "data": {
      "text/plain": [
       "('LICENSE ID', 'ACCOUNT NUMBER', 'SITE NUMBER')"
      ]
     },
     "execution_count": 31,
     "metadata": {},
     "output_type": "execute_result"
    }
   ],
   "source": [
    "columns_dropdown.value"
   ]
  },
  {
   "cell_type": "code",
   "execution_count": 36,
   "metadata": {
    "ExecuteTime": {
     "end_time": "2021-10-08T06:55:55.922172Z",
     "start_time": "2021-10-08T06:55:55.918315Z"
    }
   },
   "outputs": [
    {
     "data": {
      "text/plain": [
       "True"
      ]
     },
     "execution_count": 36,
     "metadata": {},
     "output_type": "execute_result"
    }
   ],
   "source": [
    "sort_ascending_checkbox.value"
   ]
  },
  {
   "cell_type": "code",
   "execution_count": null,
   "metadata": {},
   "outputs": [],
   "source": []
  }
 ],
 "metadata": {
  "kernelspec": {
   "display_name": "Python 3",
   "language": "python",
   "name": "python3"
  },
  "language_info": {
   "codemirror_mode": {
    "name": "ipython",
    "version": 3
   },
   "file_extension": ".py",
   "mimetype": "text/x-python",
   "name": "python",
   "nbconvert_exporter": "python",
   "pygments_lexer": "ipython3",
   "version": "3.7.4"
  },
  "toc": {
   "base_numbering": 1,
   "nav_menu": {},
   "number_sections": true,
   "sideBar": true,
   "skip_h1_title": false,
   "title_cell": "Table of Contents",
   "title_sidebar": "Contents",
   "toc_cell": false,
   "toc_position": {},
   "toc_section_display": true,
   "toc_window_display": false
  },
  "varInspector": {
   "cols": {
    "lenName": 16,
    "lenType": 16,
    "lenVar": 40
   },
   "kernels_config": {
    "python": {
     "delete_cmd_postfix": "",
     "delete_cmd_prefix": "del ",
     "library": "var_list.py",
     "varRefreshCmd": "print(var_dic_list())"
    },
    "r": {
     "delete_cmd_postfix": ") ",
     "delete_cmd_prefix": "rm(",
     "library": "var_list.r",
     "varRefreshCmd": "cat(var_dic_list()) "
    }
   },
   "types_to_exclude": [
    "module",
    "function",
    "builtin_function_or_method",
    "instance",
    "_Feature"
   ],
   "window_display": false
  }
 },
 "nbformat": 4,
 "nbformat_minor": 4
}
