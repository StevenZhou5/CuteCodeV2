{
 "cells": [
  {
   "cell_type": "code",
   "execution_count": 5,
   "metadata": {
    "ExecuteTime": {
     "end_time": "2021-01-19T17:51:57.885409Z",
     "start_time": "2021-01-19T17:51:57.881781Z"
    }
   },
   "outputs": [],
   "source": [
    "import pandas as pd\n",
    "import matplotlib.pyplot as plt\n",
    "import json\n",
    "import re\n",
    "\n"
   ]
  },
  {
   "cell_type": "markdown",
   "metadata": {},
   "source": [
    "## 一、任务说明\n",
    "\n",
    "* 任务主题：论文代码统计，统计所有论文出现代码的相关统计；\n",
    "* 任务内容：使用正则表达式统计代码连接、页数和图表数据；\n",
    "* 任务成果：学习正则表达式统计；\n",
    "\n",
    "## 二、知识讲解\n",
    "\n",
    "### 2.1 正则表达式\n",
    "\n",
    "* 从pandas的学习过来，具体的字符匹配不赘述，主要还是应用\n",
    "\n",
    "## 三、代码实现\n",
    "\n",
    "统计论文页数，也就是在comments字段中抽取pages和figures和个数，首先完成字段读取。\n",
    "\n",
    "* 读取数据"
   ]
  },
  {
   "cell_type": "code",
   "execution_count": 7,
   "metadata": {
    "ExecuteTime": {
     "end_time": "2021-01-19T17:53:16.248163Z",
     "start_time": "2021-01-19T17:52:33.271667Z"
    }
   },
   "outputs": [
    {
     "data": {
      "text/html": [
       "<div>\n",
       "<style scoped>\n",
       "    .dataframe tbody tr th:only-of-type {\n",
       "        vertical-align: middle;\n",
       "    }\n",
       "\n",
       "    .dataframe tbody tr th {\n",
       "        vertical-align: top;\n",
       "    }\n",
       "\n",
       "    .dataframe thead th {\n",
       "        text-align: right;\n",
       "    }\n",
       "</style>\n",
       "<table border=\"1\" class=\"dataframe\">\n",
       "  <thead>\n",
       "    <tr style=\"text-align: right;\">\n",
       "      <th></th>\n",
       "      <th>abstract</th>\n",
       "      <th>categories</th>\n",
       "      <th>comments</th>\n",
       "    </tr>\n",
       "  </thead>\n",
       "  <tbody>\n",
       "    <tr>\n",
       "      <th>0</th>\n",
       "      <td>A fully differential calculation in perturba...</td>\n",
       "      <td>hep-ph</td>\n",
       "      <td>37 pages, 15 figures; published version</td>\n",
       "    </tr>\n",
       "    <tr>\n",
       "      <th>1</th>\n",
       "      <td>We describe a new algorithm, the $(k,\\ell)$-...</td>\n",
       "      <td>math.CO cs.CG</td>\n",
       "      <td>To appear in Graphs and Combinatorics</td>\n",
       "    </tr>\n",
       "    <tr>\n",
       "      <th>2</th>\n",
       "      <td>The evolution of Earth-Moon system is descri...</td>\n",
       "      <td>physics.gen-ph</td>\n",
       "      <td>23 pages, 3 figures</td>\n",
       "    </tr>\n",
       "    <tr>\n",
       "      <th>3</th>\n",
       "      <td>We show that a determinant of Stirling cycle...</td>\n",
       "      <td>math.CO</td>\n",
       "      <td>11 pages</td>\n",
       "    </tr>\n",
       "    <tr>\n",
       "      <th>4</th>\n",
       "      <td>In this paper we show how to compute the $\\L...</td>\n",
       "      <td>math.CA math.FA</td>\n",
       "      <td>None</td>\n",
       "    </tr>\n",
       "  </tbody>\n",
       "</table>\n",
       "</div>"
      ],
      "text/plain": [
       "                                            abstract       categories  \\\n",
       "0    A fully differential calculation in perturba...           hep-ph   \n",
       "1    We describe a new algorithm, the $(k,\\ell)$-...    math.CO cs.CG   \n",
       "2    The evolution of Earth-Moon system is descri...   physics.gen-ph   \n",
       "3    We show that a determinant of Stirling cycle...          math.CO   \n",
       "4    In this paper we show how to compute the $\\L...  math.CA math.FA   \n",
       "\n",
       "                                  comments  \n",
       "0  37 pages, 15 figures; published version  \n",
       "1    To appear in Graphs and Combinatorics  \n",
       "2                      23 pages, 3 figures  \n",
       "3                                 11 pages  \n",
       "4                                     None  "
      ]
     },
     "execution_count": 7,
     "metadata": {},
     "output_type": "execute_result"
    }
   ],
   "source": [
    "data  = [] #初始化\n",
    "#使用with语句优势：1.自动关闭文件句柄；2.自动显示（处理）文件读取数据异常\n",
    "with open(\"D:/z_personal_file/data/arxiv-metadata-oai-snapshot.json\", 'r') as f: \n",
    "    for idx, line in enumerate(f): \n",
    "        d = json.loads(line)\n",
    "        d = {'abstract': d['abstract'], 'categories': d['categories'], 'comments': d['comments']}\n",
    "        data.append(d)\n",
    "        \n",
    "data = pd.DataFrame(data)\n",
    "data.head()"
   ]
  },
  {
   "cell_type": "markdown",
   "metadata": {},
   "source": [
    "* 抽取pages"
   ]
  },
  {
   "cell_type": "code",
   "execution_count": 9,
   "metadata": {
    "ExecuteTime": {
     "end_time": "2021-01-19T17:53:39.896401Z",
     "start_time": "2021-01-19T17:53:36.118908Z"
    }
   },
   "outputs": [
    {
     "data": {
      "text/plain": [
       "count    1089180\n",
       "mean          17\n",
       "std           22\n",
       "min            1\n",
       "25%            8\n",
       "50%           13\n",
       "75%           22\n",
       "max        11232\n",
       "Name: pages, dtype: int32"
      ]
     },
     "execution_count": 9,
     "metadata": {},
     "output_type": "execute_result"
    }
   ],
   "source": [
    "# 使用正则表达式匹配，XX pages\n",
    "data['pages'] = data['comments'].apply(lambda x: re.findall('[1-9][0-9]* pages', str(x)))\n",
    "\n",
    "# 筛选出有pages的论文\n",
    "data = data[data['pages'].apply(len) > 0]\n",
    "\n",
    "# 由于匹配得到的是一个list，如['19 pages']，需要进行转换\n",
    "data['pages'] = data['pages'].apply(lambda x: float(x[0].replace(' pages', '')))\n",
    "\n",
    "data['pages'].describe().astype(int)"
   ]
  },
  {
   "cell_type": "markdown",
   "metadata": {},
   "source": [
    "对论文页数进行统计，然后按照分类统计论文页数\n",
    "\n",
    "* 分类统计论文页数"
   ]
  },
  {
   "cell_type": "code",
   "execution_count": 10,
   "metadata": {
    "ExecuteTime": {
     "end_time": "2021-01-19T17:54:08.799704Z",
     "start_time": "2021-01-19T17:54:05.629989Z"
    }
   },
   "outputs": [
    {
     "data": {
      "text/plain": [
       "<matplotlib.axes._subplots.AxesSubplot at 0x29bb48e8f28>"
      ]
     },
     "execution_count": 10,
     "metadata": {},
     "output_type": "execute_result"
    },
    {
     "data": {
      "image/png": "[encoded data removed]",
      "text/plain": [
       "<Figure size 864x432 with 1 Axes>"
      ]
     },
     "metadata": {
      "needs_background": "light"
     },
     "output_type": "display_data"
    }
   ],
   "source": [
    "# 选择主要类别\n",
    "data['categories'] = data['categories'].apply(lambda x: x.split(' ')[0])\n",
    "data['categories'] = data['categories'].apply(lambda x: x.split('.')[0])\n",
    "\n",
    "# 每类论文的平均页数\n",
    "plt.figure(figsize=(12, 6))\n",
    "data.groupby(['categories'])['pages'].mean().plot(kind='bar')"
   ]
  },
  {
   "cell_type": "code",
   "execution_count": null,
   "metadata": {},
   "outputs": [],
   "source": []
  }
 ],
 "metadata": {
  "kernelspec": {
   "display_name": "Python 3",
   "language": "python",
   "name": "python3"
  },
  "language_info": {
   "codemirror_mode": {
    "name": "ipython",
    "version": 3
   },
   "file_extension": ".py",
   "mimetype": "text/x-python",
   "name": "python",
   "nbconvert_exporter": "python",
   "pygments_lexer": "ipython3",
   "version": "3.6.8"
  },
  "toc": {
   "base_numbering": 1,
   "nav_menu": {},
   "number_sections": true,
   "sideBar": true,
   "skip_h1_title": false,
   "title_cell": "Table of Contents",
   "title_sidebar": "Contents",
   "toc_cell": false,
   "toc_position": {},
   "toc_section_display": true,
   "toc_window_display": false
  },
  "varInspector": {
   "cols": {
    "lenName": 16,
    "lenType": 16,
    "lenVar": 40
   },
   "kernels_config": {
    "python": {
     "delete_cmd_postfix": "",
     "delete_cmd_prefix": "del ",
     "library": "var_list.py",
     "varRefreshCmd": "print(var_dic_list())"
    },
    "r": {
     "delete_cmd_postfix": ") ",
     "delete_cmd_prefix": "rm(",
     "library": "var_list.r",
     "varRefreshCmd": "cat(var_dic_list()) "
    }
   },
   "types_to_exclude": [
    "module",
    "function",
    "builtin_function_or_method",
    "instance",
    "_Feature"
   ],
   "window_display": false
  }
 },
 "nbformat": 4,
 "nbformat_minor": 2
}
