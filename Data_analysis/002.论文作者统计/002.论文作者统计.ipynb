{
 "cells": [
  {
   "cell_type": "code",
   "execution_count": 35,
   "metadata": {
    "ExecuteTime": {
     "end_time": "2021-01-16T06:24:18.495408Z",
     "start_time": "2021-01-16T06:24:18.490427Z"
    }
   },
   "outputs": [],
   "source": [
    "import pandas as pd\n",
    "import matplotlib.pyplot as plt\n",
    "import json\n",
    "\n",
    "\n",
    "plt.rcParams['font.sans-serif']=['SimHei'] #用来正常显示中文标签\n",
    "plt.rcParams['axes.unicode_minus']=False #用来正常显示负号"
   ]
  },
  {
   "cell_type": "markdown",
   "metadata": {},
   "source": [
    "## 一、任务说明\n",
    "\n",
    "* 任务主题： 论文作者统计，统计所有论文作者出现频率Top10的名字\n",
    "* 任务内容： 论文作者的统计、使用pandas读取数据并使用字符串的操作\n",
    "* 任务成果： 学习pandas的字符串操作\n",
    "\n",
    "\n",
    "## 二、数据处理\n",
    "\n",
    "\n",
    "### 2.1 数据分析 和 基础知识\n",
    "\n",
    "* 论文数据集种作者author字段是一个字符串格式，每个作者用逗号分开，同时里面有特殊符号，所以我们需要对字符串切分并且剔除单个作者名字中的非常规的字符\n",
    "\n",
    "* pandas中的字符串处理\n",
    "\n",
    "### 2.2 代码实现\n",
    "\n",
    "* 数据读取"
   ]
  },
  {
   "cell_type": "code",
   "execution_count": 83,
   "metadata": {
    "ExecuteTime": {
     "end_time": "2021-01-16T07:42:28.224619Z",
     "start_time": "2021-01-16T07:41:35.961303Z"
    }
   },
   "outputs": [
    {
     "data": {
      "text/html": [
       "<div>\n",
       "<style scoped>\n",
       "    .dataframe tbody tr th:only-of-type {\n",
       "        vertical-align: middle;\n",
       "    }\n",
       "\n",
       "    .dataframe tbody tr th {\n",
       "        vertical-align: top;\n",
       "    }\n",
       "\n",
       "    .dataframe thead th {\n",
       "        text-align: right;\n",
       "    }\n",
       "</style>\n",
       "<table border=\"1\" class=\"dataframe\">\n",
       "  <thead>\n",
       "    <tr style=\"text-align: right;\">\n",
       "      <th></th>\n",
       "      <th>authors</th>\n",
       "      <th>categories</th>\n",
       "      <th>authors_parsed</th>\n",
       "    </tr>\n",
       "  </thead>\n",
       "  <tbody>\n",
       "    <tr>\n",
       "      <th>0</th>\n",
       "      <td>C. Bal\\'azs, E. L. Berger, P. M. Nadolsky, C.-...</td>\n",
       "      <td>hep-ph</td>\n",
       "      <td>[[Balázs, C., ], [Berger, E. L., ], [Nadolsky,...</td>\n",
       "    </tr>\n",
       "    <tr>\n",
       "      <th>1</th>\n",
       "      <td>Ileana Streinu and Louis Theran</td>\n",
       "      <td>math.CO cs.CG</td>\n",
       "      <td>[[Streinu, Ileana, ], [Theran, Louis, ]]</td>\n",
       "    </tr>\n",
       "    <tr>\n",
       "      <th>2</th>\n",
       "      <td>Hongjun Pan</td>\n",
       "      <td>physics.gen-ph</td>\n",
       "      <td>[[Pan, Hongjun, ]]</td>\n",
       "    </tr>\n",
       "    <tr>\n",
       "      <th>3</th>\n",
       "      <td>David Callan</td>\n",
       "      <td>math.CO</td>\n",
       "      <td>[[Callan, David, ]]</td>\n",
       "    </tr>\n",
       "    <tr>\n",
       "      <th>4</th>\n",
       "      <td>Wael Abu-Shammala and Alberto Torchinsky</td>\n",
       "      <td>math.CA math.FA</td>\n",
       "      <td>[[Abu-Shammala, Wael, ], [Torchinsky, Alberto, ]]</td>\n",
       "    </tr>\n",
       "  </tbody>\n",
       "</table>\n",
       "</div>"
      ],
      "text/plain": [
       "                                             authors       categories  \\\n",
       "0  C. Bal\\'azs, E. L. Berger, P. M. Nadolsky, C.-...           hep-ph   \n",
       "1                    Ileana Streinu and Louis Theran    math.CO cs.CG   \n",
       "2                                        Hongjun Pan   physics.gen-ph   \n",
       "3                                       David Callan          math.CO   \n",
       "4           Wael Abu-Shammala and Alberto Torchinsky  math.CA math.FA   \n",
       "\n",
       "                                      authors_parsed  \n",
       "0  [[Balázs, C., ], [Berger, E. L., ], [Nadolsky,...  \n",
       "1           [[Streinu, Ileana, ], [Theran, Louis, ]]  \n",
       "2                                 [[Pan, Hongjun, ]]  \n",
       "3                                [[Callan, David, ]]  \n",
       "4  [[Abu-Shammala, Wael, ], [Torchinsky, Alberto, ]]  "
      ]
     },
     "execution_count": 83,
     "metadata": {},
     "output_type": "execute_result"
    }
   ],
   "source": [
    "#\n",
    "data  = []\n",
    "\n",
    "with open(\"D:/z_personal_file/data/arxiv-metadata-oai-snapshot.json\", 'r') as f:\n",
    "    for idx,line in enumerate(f):\n",
    "       # if idx>10000:\n",
    "        #    break\n",
    "        d = json.loads(line)\n",
    "        d = {'authors': d['authors'],\n",
    "             'categories':d['categories'],\n",
    "             'authors_parsed':d['authors_parsed'],}\n",
    "            \n",
    "        data.append(d)\n",
    "        \n",
    "data = pd.DataFrame(data)\n",
    "data.head()            "
   ]
  },
  {
   "cell_type": "markdown",
   "metadata": {},
   "source": [
    "接下来进行数据统计：\n",
    "   * 统计所有作者出现的频率TOP10"
   ]
  },
  {
   "cell_type": "code",
   "execution_count": 84,
   "metadata": {
    "ExecuteTime": {
     "end_time": "2021-01-16T07:42:29.002239Z",
     "start_time": "2021-01-16T07:42:28.349646Z"
    }
   },
   "outputs": [
    {
     "data": {
      "text/html": [
       "<div>\n",
       "<style scoped>\n",
       "    .dataframe tbody tr th:only-of-type {\n",
       "        vertical-align: middle;\n",
       "    }\n",
       "\n",
       "    .dataframe tbody tr th {\n",
       "        vertical-align: top;\n",
       "    }\n",
       "\n",
       "    .dataframe thead th {\n",
       "        text-align: right;\n",
       "    }\n",
       "</style>\n",
       "<table border=\"1\" class=\"dataframe\">\n",
       "  <thead>\n",
       "    <tr style=\"text-align: right;\">\n",
       "      <th></th>\n",
       "      <th>authors</th>\n",
       "      <th>categories</th>\n",
       "      <th>authors_parsed</th>\n",
       "    </tr>\n",
       "  </thead>\n",
       "  <tbody>\n",
       "    <tr>\n",
       "      <th>1266</th>\n",
       "      <td>Laurence Likforman-Sulem, Abderrazak Zahour, B...</td>\n",
       "      <td>cs.CV</td>\n",
       "      <td>[[Likforman-Sulem, Laurence, ], [Zahour, Abder...</td>\n",
       "    </tr>\n",
       "    <tr>\n",
       "      <th>3634</th>\n",
       "      <td>Fulufhelo Vincent Nelwamondo and Tshilidzi Mar...</td>\n",
       "      <td>cs.CV cs.IR</td>\n",
       "      <td>[[Nelwamondo, Fulufhelo Vincent, ], [Marwala, ...</td>\n",
       "    </tr>\n",
       "    <tr>\n",
       "      <th>4201</th>\n",
       "      <td>Erik Berglund, Joaquin Sitte</td>\n",
       "      <td>cs.NE cs.AI cs.CV</td>\n",
       "      <td>[[Berglund, Erik, ], [Sitte, Joaquin, ]]</td>\n",
       "    </tr>\n",
       "    <tr>\n",
       "      <th>4216</th>\n",
       "      <td>Mourad Zerai, Maher Moakher</td>\n",
       "      <td>cs.CV</td>\n",
       "      <td>[[Zerai, Mourad, ], [Moakher, Maher, ]]</td>\n",
       "    </tr>\n",
       "    <tr>\n",
       "      <th>4451</th>\n",
       "      <td>Pierre-Fran\\c{c}ois Marteau (VALORIA), Gilbas ...</td>\n",
       "      <td>cs.CV</td>\n",
       "      <td>[[Marteau, Pierre-François, , VALORIA], [Ménie...</td>\n",
       "    </tr>\n",
       "  </tbody>\n",
       "</table>\n",
       "</div>"
      ],
      "text/plain": [
       "                                                authors         categories  \\\n",
       "1266  Laurence Likforman-Sulem, Abderrazak Zahour, B...              cs.CV   \n",
       "3634  Fulufhelo Vincent Nelwamondo and Tshilidzi Mar...        cs.CV cs.IR   \n",
       "4201                       Erik Berglund, Joaquin Sitte  cs.NE cs.AI cs.CV   \n",
       "4216                        Mourad Zerai, Maher Moakher              cs.CV   \n",
       "4451  Pierre-Fran\\c{c}ois Marteau (VALORIA), Gilbas ...              cs.CV   \n",
       "\n",
       "                                         authors_parsed  \n",
       "1266  [[Likforman-Sulem, Laurence, ], [Zahour, Abder...  \n",
       "3634  [[Nelwamondo, Fulufhelo Vincent, ], [Marwala, ...  \n",
       "4201           [[Berglund, Erik, ], [Sitte, Joaquin, ]]  \n",
       "4216            [[Zerai, Mourad, ], [Moakher, Maher, ]]  \n",
       "4451  [[Marteau, Pierre-François, , VALORIA], [Ménie...  "
      ]
     },
     "execution_count": 84,
     "metadata": {},
     "output_type": "execute_result"
    }
   ],
   "source": [
    "#  计算机类的数据\n",
    "\n",
    "data_cs = data[data['categories'].apply(lambda x: 'cs.CV' in x)]\n",
    "data_cs.head()"
   ]
  },
  {
   "cell_type": "code",
   "execution_count": 85,
   "metadata": {
    "ExecuteTime": {
     "end_time": "2021-01-16T07:42:29.107606Z",
     "start_time": "2021-01-16T07:42:29.063079Z"
    }
   },
   "outputs": [
    {
     "data": {
      "text/plain": [
       "[['Likforman-Sulem', 'Laurence', ''],\n",
       " ['Zahour', 'Abderrazak', ''],\n",
       " ['Taconet', 'Bruno', ''],\n",
       " ['Nelwamondo', 'Fulufhelo Vincent', ''],\n",
       " ['Marwala', 'Tshilidzi', ''],\n",
       " ['Berglund', 'Erik', ''],\n",
       " ['Sitte', 'Joaquin', ''],\n",
       " ['Zerai', 'Mourad', ''],\n",
       " ['Moakher', 'Maher', ''],\n",
       " ['Marteau', 'Pierre-François', '', 'VALORIA']]"
      ]
     },
     "execution_count": 85,
     "metadata": {},
     "output_type": "execute_result"
    }
   ],
   "source": [
    "# 拼接所有的作者名字\n",
    "all_authors =[]\n",
    "for i in data_cs['authors_parsed']:\n",
    "    all_authors+=i\n",
    "    \n",
    "all_authors[:10]"
   ]
  },
  {
   "cell_type": "code",
   "execution_count": 86,
   "metadata": {
    "ExecuteTime": {
     "end_time": "2021-01-16T07:42:29.494159Z",
     "start_time": "2021-01-16T07:42:29.415331Z"
    }
   },
   "outputs": [
    {
     "data": {
      "text/html": [
       "<div>\n",
       "<style scoped>\n",
       "    .dataframe tbody tr th:only-of-type {\n",
       "        vertical-align: middle;\n",
       "    }\n",
       "\n",
       "    .dataframe tbody tr th {\n",
       "        vertical-align: top;\n",
       "    }\n",
       "\n",
       "    .dataframe thead th {\n",
       "        text-align: right;\n",
       "    }\n",
       "</style>\n",
       "<table border=\"1\" class=\"dataframe\">\n",
       "  <thead>\n",
       "    <tr style=\"text-align: right;\">\n",
       "      <th></th>\n",
       "      <th>0</th>\n",
       "    </tr>\n",
       "  </thead>\n",
       "  <tbody>\n",
       "    <tr>\n",
       "      <th>0</th>\n",
       "      <td>Likforman-Sulem Laurence</td>\n",
       "    </tr>\n",
       "    <tr>\n",
       "      <th>1</th>\n",
       "      <td>Zahour Abderrazak</td>\n",
       "    </tr>\n",
       "    <tr>\n",
       "      <th>2</th>\n",
       "      <td>Taconet Bruno</td>\n",
       "    </tr>\n",
       "    <tr>\n",
       "      <th>3</th>\n",
       "      <td>Nelwamondo Fulufhelo Vincent</td>\n",
       "    </tr>\n",
       "    <tr>\n",
       "      <th>4</th>\n",
       "      <td>Marwala Tshilidzi</td>\n",
       "    </tr>\n",
       "  </tbody>\n",
       "</table>\n",
       "</div>"
      ],
      "text/plain": [
       "                               0\n",
       "0      Likforman-Sulem Laurence \n",
       "1             Zahour Abderrazak \n",
       "2                 Taconet Bruno \n",
       "3  Nelwamondo Fulufhelo Vincent \n",
       "4             Marwala Tshilidzi "
      ]
     },
     "execution_count": 86,
     "metadata": {},
     "output_type": "execute_result"
    }
   ],
   "source": [
    "# 得到所有的作者names\n",
    "author_names = [\" \".join(x) for x in all_authors]\n",
    "author_names = pd.DataFrame(author_names)\n",
    "author_names.head()"
   ]
  },
  {
   "cell_type": "code",
   "execution_count": 87,
   "metadata": {
    "ExecuteTime": {
     "end_time": "2021-01-16T07:42:30.880293Z",
     "start_time": "2021-01-16T07:42:29.832218Z"
    }
   },
   "outputs": [
    {
     "data": {
      "image/png": "[encoded data removed]",
      "text/plain": [
       "<Figure size 720x576 with 1 Axes>"
      ]
     },
     "metadata": {
      "needs_background": "light"
     },
     "output_type": "display_data"
    }
   ],
   "source": [
    "# 绘制频率图\n",
    "\n",
    "plt.figure(figsize=(10,8))\n",
    "author_names.value_counts().head(10).plot(kind = 'barh',color = 'darkorange')\n",
    "\n",
    "\n",
    "# \n",
    "names = author_names[0].value_counts().head(10).index.values[:10]\n",
    "plt.title('2019CS论文作者Top10')\n",
    "plt.xlabel('频率')\n",
    "plt.ylabel('作者姓名')\n",
    "_ = plt.yticks(ticks=range(len(names)),\n",
    "           labels=names)"
   ]
  },
  {
   "cell_type": "code",
   "execution_count": 88,
   "metadata": {
    "ExecuteTime": {
     "end_time": "2021-01-16T07:42:31.209514Z",
     "start_time": "2021-01-16T07:42:31.201531Z"
    }
   },
   "outputs": [
    {
     "data": {
      "text/html": [
       "<div>\n",
       "<style scoped>\n",
       "    .dataframe tbody tr th:only-of-type {\n",
       "        vertical-align: middle;\n",
       "    }\n",
       "\n",
       "    .dataframe tbody tr th {\n",
       "        vertical-align: top;\n",
       "    }\n",
       "\n",
       "    .dataframe thead th {\n",
       "        text-align: right;\n",
       "    }\n",
       "</style>\n",
       "<table border=\"1\" class=\"dataframe\">\n",
       "  <thead>\n",
       "    <tr style=\"text-align: right;\">\n",
       "      <th></th>\n",
       "      <th>0</th>\n",
       "    </tr>\n",
       "  </thead>\n",
       "  <tbody>\n",
       "    <tr>\n",
       "      <th>0</th>\n",
       "      <td>Likforman-Sulem Laurence</td>\n",
       "    </tr>\n",
       "    <tr>\n",
       "      <th>1</th>\n",
       "      <td>Zahour Abderrazak</td>\n",
       "    </tr>\n",
       "    <tr>\n",
       "      <th>2</th>\n",
       "      <td>Taconet Bruno</td>\n",
       "    </tr>\n",
       "    <tr>\n",
       "      <th>3</th>\n",
       "      <td>Nelwamondo Fulufhelo Vincent</td>\n",
       "    </tr>\n",
       "    <tr>\n",
       "      <th>4</th>\n",
       "      <td>Marwala Tshilidzi</td>\n",
       "    </tr>\n",
       "  </tbody>\n",
       "</table>\n",
       "</div>"
      ],
      "text/plain": [
       "                               0\n",
       "0      Likforman-Sulem Laurence \n",
       "1             Zahour Abderrazak \n",
       "2                 Taconet Bruno \n",
       "3  Nelwamondo Fulufhelo Vincent \n",
       "4             Marwala Tshilidzi "
      ]
     },
     "execution_count": 88,
     "metadata": {},
     "output_type": "execute_result"
    }
   ],
   "source": [
    "author_names.head()"
   ]
  },
  {
   "cell_type": "markdown",
   "metadata": {},
   "source": [
    "* 统计所有作者姓（姓名最后一个单词）的出现频率的TOP10"
   ]
  },
  {
   "cell_type": "code",
   "execution_count": 89,
   "metadata": {
    "ExecuteTime": {
     "end_time": "2021-01-16T07:42:31.581152Z",
     "start_time": "2021-01-16T07:42:31.521227Z"
    }
   },
   "outputs": [
    {
     "data": {
      "text/html": [
       "<div>\n",
       "<style scoped>\n",
       "    .dataframe tbody tr th:only-of-type {\n",
       "        vertical-align: middle;\n",
       "    }\n",
       "\n",
       "    .dataframe tbody tr th {\n",
       "        vertical-align: top;\n",
       "    }\n",
       "\n",
       "    .dataframe thead th {\n",
       "        text-align: right;\n",
       "    }\n",
       "</style>\n",
       "<table border=\"1\" class=\"dataframe\">\n",
       "  <thead>\n",
       "    <tr style=\"text-align: right;\">\n",
       "      <th></th>\n",
       "      <th>last_name</th>\n",
       "    </tr>\n",
       "  </thead>\n",
       "  <tbody>\n",
       "    <tr>\n",
       "      <th>0</th>\n",
       "      <td>Likforman-Sulem</td>\n",
       "    </tr>\n",
       "    <tr>\n",
       "      <th>1</th>\n",
       "      <td>Zahour</td>\n",
       "    </tr>\n",
       "    <tr>\n",
       "      <th>2</th>\n",
       "      <td>Taconet</td>\n",
       "    </tr>\n",
       "    <tr>\n",
       "      <th>3</th>\n",
       "      <td>Nelwamondo</td>\n",
       "    </tr>\n",
       "    <tr>\n",
       "      <th>4</th>\n",
       "      <td>Marwala</td>\n",
       "    </tr>\n",
       "  </tbody>\n",
       "</table>\n",
       "</div>"
      ],
      "text/plain": [
       "         last_name\n",
       "0  Likforman-Sulem\n",
       "1           Zahour\n",
       "2          Taconet\n",
       "3       Nelwamondo\n",
       "4          Marwala"
      ]
     },
     "execution_count": 89,
     "metadata": {},
     "output_type": "execute_result"
    }
   ],
   "source": [
    "# 获取姓氏\n",
    "\n",
    "authors_lastname = [x[0] for x in all_authors]\n",
    "authors_lastname = pd.DataFrame(data=authors_lastname,columns=['last_name'])\n",
    "authors_lastname.head()"
   ]
  },
  {
   "cell_type": "code",
   "execution_count": 90,
   "metadata": {
    "ExecuteTime": {
     "end_time": "2021-01-16T07:42:32.158622Z",
     "start_time": "2021-01-16T07:42:31.920670Z"
    }
   },
   "outputs": [
    {
     "data": {
      "text/plain": [
       "Text(0, 0.5, '作者姓氏')"
      ]
     },
     "execution_count": 90,
     "metadata": {},
     "output_type": "execute_result"
    },
    {
     "data": {
      "image/png": "[encoded data removed]",
      "text/plain": [
       "<Figure size 432x288 with 1 Axes>"
      ]
     },
     "metadata": {
      "needs_background": "light"
     },
     "output_type": "display_data"
    }
   ],
   "source": [
    "# 绘图\n",
    "\n",
    "data = authors_lastname['last_name'].value_counts().head(10)\n",
    "data.plot(kind = 'barh',color = ['darkorange','red'],alpha=0.5) #['darkorange','red'])\n",
    "\n",
    "\n",
    "# 设置绘图格式\n",
    "\n",
    "plt.title('作者姓氏TOP10')\n",
    "plt.xlabel('count')\n",
    "plt.ylabel('作者姓氏')"
   ]
  },
  {
   "cell_type": "markdown",
   "metadata": {},
   "source": [
    "* 统计所有作者姓第一个字符的频率"
   ]
  },
  {
   "cell_type": "code",
   "execution_count": 91,
   "metadata": {
    "ExecuteTime": {
     "end_time": "2021-01-16T07:42:32.554693Z",
     "start_time": "2021-01-16T07:42:32.475747Z"
    }
   },
   "outputs": [
    {
     "data": {
      "text/html": [
       "<div>\n",
       "<style scoped>\n",
       "    .dataframe tbody tr th:only-of-type {\n",
       "        vertical-align: middle;\n",
       "    }\n",
       "\n",
       "    .dataframe tbody tr th {\n",
       "        vertical-align: top;\n",
       "    }\n",
       "\n",
       "    .dataframe thead th {\n",
       "        text-align: right;\n",
       "    }\n",
       "</style>\n",
       "<table border=\"1\" class=\"dataframe\">\n",
       "  <thead>\n",
       "    <tr style=\"text-align: right;\">\n",
       "      <th></th>\n",
       "      <th>first_letter</th>\n",
       "    </tr>\n",
       "  </thead>\n",
       "  <tbody>\n",
       "    <tr>\n",
       "      <th>0</th>\n",
       "      <td>L</td>\n",
       "    </tr>\n",
       "    <tr>\n",
       "      <th>1</th>\n",
       "      <td>Z</td>\n",
       "    </tr>\n",
       "    <tr>\n",
       "      <th>2</th>\n",
       "      <td>T</td>\n",
       "    </tr>\n",
       "    <tr>\n",
       "      <th>3</th>\n",
       "      <td>N</td>\n",
       "    </tr>\n",
       "    <tr>\n",
       "      <th>4</th>\n",
       "      <td>M</td>\n",
       "    </tr>\n",
       "  </tbody>\n",
       "</table>\n",
       "</div>"
      ],
      "text/plain": [
       "  first_letter\n",
       "0            L\n",
       "1            Z\n",
       "2            T\n",
       "3            N\n",
       "4            M"
      ]
     },
     "execution_count": 91,
     "metadata": {},
     "output_type": "execute_result"
    }
   ],
   "source": [
    "# 获取第一个字母\n",
    "\n",
    "first_letter = [ x[0][0].upper()  for x in all_authors]\n",
    "first_letter = pd.DataFrame(first_letter,columns = ['first_letter'])\n",
    "first_letter.head()\n",
    "\n"
   ]
  },
  {
   "cell_type": "code",
   "execution_count": 92,
   "metadata": {
    "ExecuteTime": {
     "end_time": "2021-01-16T07:42:33.079082Z",
     "start_time": "2021-01-16T07:42:32.878582Z"
    }
   },
   "outputs": [
    {
     "data": {
      "text/plain": [
       "Text(0, 0.5, '作者姓氏首字母')"
      ]
     },
     "execution_count": 92,
     "metadata": {},
     "output_type": "execute_result"
    },
    {
     "data": {
      "image/png": "[encoded data removed]",
      "text/plain": [
       "<Figure size 432x288 with 1 Axes>"
      ]
     },
     "metadata": {
      "needs_background": "light"
     },
     "output_type": "display_data"
    }
   ],
   "source": [
    "# \n",
    "\n",
    "# 绘图\n",
    "\n",
    "data = first_letter['first_letter'].value_counts().head(10)\n",
    "data.plot(kind = 'barh',color = ['darkgreen','lightgreen'],alpha=0.8) #['darkorange','red'])\n",
    "\n",
    "\n",
    "# 设置绘图格式\n",
    "\n",
    "plt.title('作者姓氏首字母TOP10')\n",
    "plt.xlabel('count')\n",
    "plt.ylabel('作者姓氏首字母')"
   ]
  }
 ],
 "metadata": {
  "kernelspec": {
   "display_name": "Python 3",
   "language": "python",
   "name": "python3"
  },
  "language_info": {
   "codemirror_mode": {
    "name": "ipython",
    "version": 3
   },
   "file_extension": ".py",
   "mimetype": "text/x-python",
   "name": "python",
   "nbconvert_exporter": "python",
   "pygments_lexer": "ipython3",
   "version": "3.6.8"
  },
  "toc": {
   "base_numbering": 1,
   "nav_menu": {},
   "number_sections": true,
   "sideBar": true,
   "skip_h1_title": false,
   "title_cell": "Table of Contents",
   "title_sidebar": "Contents",
   "toc_cell": false,
   "toc_position": {},
   "toc_section_display": true,
   "toc_window_display": true
  },
  "varInspector": {
   "cols": {
    "lenName": 16,
    "lenType": 16,
    "lenVar": 40
   },
   "kernels_config": {
    "python": {
     "delete_cmd_postfix": "",
     "delete_cmd_prefix": "del ",
     "library": "var_list.py",
     "varRefreshCmd": "print(var_dic_list())"
    },
    "r": {
     "delete_cmd_postfix": ") ",
     "delete_cmd_prefix": "rm(",
     "library": "var_list.r",
     "varRefreshCmd": "cat(var_dic_list()) "
    }
   },
   "types_to_exclude": [
    "module",
    "function",
    "builtin_function_or_method",
    "instance",
    "_Feature"
   ],
   "window_display": false
  }
 },
 "nbformat": 4,
 "nbformat_minor": 2
}
