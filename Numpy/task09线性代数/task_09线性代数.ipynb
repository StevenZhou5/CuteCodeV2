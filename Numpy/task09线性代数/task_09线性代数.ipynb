{
 "cells": [
  {
   "cell_type": "markdown",
   "metadata": {},
   "source": [
    "## 12.线性代数\n",
    "\n",
    "### 12.1矩阵乘法\n",
    "\n",
    "### 12.2矩阵特征值和特征向量\n",
    "\n",
    "### 12.3 矩阵分解\n",
    "\n",
    "* 奇异值分解\n",
    "\n",
    "* QR分解\n",
    "\n",
    "* Cholesky分解\n",
    "\n",
    "### 12.4 范数和其他数字\n",
    "\n",
    "* 矩阵范数\n",
    "\n",
    "* 矩阵行列式\n",
    "\n",
    "* 矩阵的秩\n",
    "\n",
    "* 矩阵的迹\n",
    "\n",
    "### 12.5 解方程和逆矩阵\n",
    "\n",
    "* 逆矩阵（inverse matrix）\n",
    "\n",
    "* 求解线性方程组"
   ]
  },
  {
   "cell_type": "markdown",
   "metadata": {},
   "source": [
    "### 12.1 矩阵的点积\n",
    "\n",
    "\n",
    "numpy.dot(a, b[, out]) 计算矩阵的乘积，一维数组计算内积\n",
    "\n",
    "矩阵除了点积（内积）之外，还有相同大小的两个矩阵的 元素积\n"
   ]
  },
  {
   "cell_type": "code",
   "execution_count": 2,
   "metadata": {},
   "outputs": [
    {
     "name": "stdout",
     "output_type": "stream",
     "text": [
      "70\n"
     ]
    }
   ],
   "source": [
    "# 一维数组计算内积\n",
    "import numpy as np\n",
    "\n",
    "x = np.array([1, 2, 3, 4, 5])\n",
    "y = np.array([2, 3, 4, 5, 6])\n",
    "z = np.dot(x, y)\n",
    "print(z)"
   ]
  },
  {
   "cell_type": "code",
   "execution_count": 3,
   "metadata": {},
   "outputs": [
    {
     "name": "stdout",
     "output_type": "stream",
     "text": [
      "x [[1 2]\n",
      " [3 4]]\n",
      "y [[5 6]\n",
      " [7 8]]\n",
      "np.dot(x,y) [[19 22]\n",
      " [43 50]]\n",
      "np.dot(y,x) [[23 34]\n",
      " [31 46]]\n"
     ]
    }
   ],
   "source": [
    "# 多维数组的乘积\n",
    "\n",
    "x = np.array([[1,2],[3,4]])\n",
    "y = np.array([[5,6],[7,8]])\n",
    "\n",
    "print(\"x\",x,)\n",
    "print(\"y\",y,)\n",
    "print(\"np.dot(x,y)\",np.dot(x,y),)\n",
    "print(\"np.dot(y,x)\",np.dot(y,x),)"
   ]
  },
  {
   "cell_type": "code",
   "execution_count": 4,
   "metadata": {},
   "outputs": [
    {
     "data": {
      "text/plain": [
       "array([[ 5, 12],\n",
       "       [21, 32]])"
      ]
     },
     "execution_count": 4,
     "metadata": {},
     "output_type": "execute_result"
    }
   ],
   "source": [
    "# 矩阵的元素积\n",
    "\n",
    "x*y"
   ]
  },
  {
   "cell_type": "code",
   "execution_count": 8,
   "metadata": {},
   "outputs": [
    {
     "data": {
      "text/plain": [
       "array([[10, 12],\n",
       "       [14, 16]])"
      ]
     },
     "execution_count": 8,
     "metadata": {},
     "output_type": "execute_result"
    }
   ],
   "source": [
    "# 矩阵的元素积存在 广播机制 但前提是其中一个数组可以通过广播的方式扩展到第二个数组的size\n",
    "\n",
    "x = np.array([[2]])\n",
    "y = np.array([[5,6],[7,8]])\n",
    "x*y"
   ]
  },
  {
   "cell_type": "markdown",
   "metadata": {},
   "source": [
    "### 12.5 解方程和逆矩阵\n",
    "\n",
    "** 逆矩阵\n",
    "\n",
    "假设矩阵A的逆矩阵为B，则AB = BA =E\n",
    "\n",
    "numpy.linalg.inv(a)"
   ]
  },
  {
   "cell_type": "code",
   "execution_count": 13,
   "metadata": {},
   "outputs": [
    {
     "data": {
      "text/plain": [
       "array([[-2.25179981e+15,  2.25179981e+15, -4.50359963e+15],\n",
       "       [ 4.50359963e+15, -4.50359963e+15,  9.00719925e+15],\n",
       "       [-2.25179981e+15,  2.25179981e+15, -4.50359963e+15]])"
      ]
     },
     "execution_count": 13,
     "metadata": {},
     "output_type": "execute_result"
    }
   ],
   "source": [
    "a = np.array([[1,2,3],[3,2,1],[1,0,-1]])\n",
    "\n",
    "np.linalg.inv(a)"
   ]
  },
  {
   "cell_type": "markdown",
   "metadata": {},
   "source": [
    "** 求解线性方程\n",
    "\n",
    "AX = B\n",
    "\n",
    "求解X\n",
    "\n",
    "numpy.linalg.solve(a, b)\n"
   ]
  },
  {
   "cell_type": "code",
   "execution_count": 15,
   "metadata": {},
   "outputs": [
    {
     "data": {
      "text/plain": [
       "array([ 7.,  1., -2.])"
      ]
     },
     "execution_count": 15,
     "metadata": {},
     "output_type": "execute_result"
    }
   ],
   "source": [
    "#  x + 2y +  z = 7\n",
    "# 2x -  y + 3z = 7\n",
    "# 3x +  y + 2z =18\n",
    "\n",
    "A = np.array([[1,2,1],[2,-1,3],[3,1,2]])\n",
    "B = np.array([7,7,18])\n",
    "\n",
    "np.linalg.solve(A,B)"
   ]
  },
  {
   "cell_type": "code",
   "execution_count": null,
   "metadata": {},
   "outputs": [],
   "source": []
  }
 ],
 "metadata": {
  "kernelspec": {
   "display_name": "Python 3",
   "language": "python",
   "name": "python3"
  },
  "language_info": {
   "codemirror_mode": {
    "name": "ipython",
    "version": 3
   },
   "file_extension": ".py",
   "mimetype": "text/x-python",
   "name": "python",
   "nbconvert_exporter": "python",
   "pygments_lexer": "ipython3",
   "version": "3.6.10"
  }
 },
 "nbformat": 4,
 "nbformat_minor": 4
}
