{
 "cells": [
  {
   "cell_type": "markdown",
   "metadata": {},
   "source": [
    "## 06.numpy的输入输出\n",
    "\n",
    "* numpy 二进制文件\n",
    "* numpy 文本文件\n",
    "* numpy 文本格式选项"
   ]
  },
  {
   "cell_type": "markdown",
   "metadata": {},
   "source": [
    "### 二进制文件\n",
    "\n",
    "\n",
    "\n",
    "**np.save(),np.savez()：** numpy中以独特的二进制类型（.npy, .npz）保存数据，但是save()保存的文件很难和其他语言兼容\n",
    "\n",
    "**np.load()：** numpy中读取二进制文件函数\n",
    "\n",
    "npy格式： 以二进制的方式保存文件，第一行存储数据的元信息（维度ndim，数据类型dtype，数据大小shape）\n",
    "\n",
    "npz格式： 压缩打包的方式，可直接用解压文件\n",
    "\n",
    "\n",
    "\n",
    "* **np.save(file,arr,allow_pickle = True,fix_import=True)**\n",
    " \n",
    " 以numpy中二进制文件的方式存储文件\n",
    " \n",
    " 参数说明：\n",
    "> * file : 文件路径\n",
    "> * arr：需要存储的数组\n",
    "> * allow_pickle：可选，布尔值，允许保存对象数组\n",
    "> * fix_imports： 可选，为了方便py2读取py3的数据\n",
    "\n",
    "\n",
    "* **np.savez(file,*args,**kwds)    ###  *args这种参数是什么意思？\n",
    " \n",
    "  将多个数组保存到.npz为扩展名的文件中\n",
    " \n",
    "   参数说明：\n",
    "> * file : 文件路径，扩展名为 .npz\n",
    "> * args：需要存储的数组\n",
    "> * allow_pickle：可选，布尔值，允许保存对象数组\n",
    "\n",
    "\n",
    "* **numpy.load(file, mmap_mode=None, allow_pickle=False, fix_imports=True, encoding='ASCII') **   \n",
    " \n",
    "  加载.npy .npz文件\n",
    " \n",
    "   参数说明：\n",
    "   \n",
    "> * file : 文件路径\n",
    "> * mmap_mode：读取大文件的一小部分的时候运用\n",
    "> * allow_pickle：可选，布尔值，允许保存对象数组\n",
    "> * fix_imports ：布尔值，可选，为了方便py2读取py3的数据\n",
    "> * encoding ： 编码方式，只用于py2\n",
    "\n",
    "【例1】np.save() 保存文件"
   ]
  },
  {
   "cell_type": "code",
   "execution_count": 10,
   "metadata": {},
   "outputs": [
    {
     "name": "stdout",
     "output_type": "stream",
     "text": [
      "[[0.98627683 0.87339195 0.50974552 0.27183571 0.33691873]\n",
      " [0.21695427 0.27647714 0.34331559 0.86215894 0.15669967]\n",
      " [0.14088724 0.75708028 0.73632492 0.35566309 0.34109302]]\n"
     ]
    }
   ],
   "source": [
    "import numpy as np\n",
    "\n",
    "\n",
    "savefile = \"./test1\"\n",
    "np.random.seed(2020) # 设置随机数种子，保证多次生成的随机数一致\n",
    "\n",
    "x = np.random.uniform(0,1,[3,5]) # 随机生成3*5的数组，范围在 0-1\n",
    "\n",
    "np.save(savefile,x)\n",
    "\n",
    "y = np.load(\"test1.npy\")\n",
    "print(y)"
   ]
  },
  {
   "cell_type": "markdown",
   "metadata": {},
   "source": [
    "【例2】 np.savez() 保存文件"
   ]
  },
  {
   "cell_type": "code",
   "execution_count": 14,
   "metadata": {},
   "outputs": [
    {
     "name": "stdout",
     "output_type": "stream",
     "text": [
      "test ['rename_z', 'arr_0', 'arr_1']\n"
     ]
    }
   ],
   "source": [
    "datafile = \"./test.npz\"\n",
    "\n",
    "x = np.linspace(0,np.pi,num=5) # 生成0-pi的长度为5的等差数列\n",
    "\n",
    "y = np.sin(x)\n",
    "\n",
    "z = np.cos(x)\n",
    "\n",
    "np.savez(datafile,x,y,rename_z = z)\n",
    "\n",
    "test = np.load(datafile)\n",
    "np.set_printoptions(suppress=True) # 设置打印格式，suppress 布尔值 是否压缩科学计数法，默认False\n",
    "print('test',test.files)\n"
   ]
  },
  {
   "cell_type": "code",
   "execution_count": 15,
   "metadata": {},
   "outputs": [
    {
     "name": "stdout",
     "output_type": "stream",
     "text": [
      "[ 1.          0.70710678  0.         -0.70710678 -1.        ]\n"
     ]
    }
   ],
   "source": [
    "print(test['rename_z'])"
   ]
  },
  {
   "cell_type": "code",
   "execution_count": 16,
   "metadata": {},
   "outputs": [
    {
     "name": "stdout",
     "output_type": "stream",
     "text": [
      "[0.         0.78539816 1.57079633 2.35619449 3.14159265]\n"
     ]
    }
   ],
   "source": [
    "print(test['arr_0'])"
   ]
  },
  {
   "cell_type": "markdown",
   "metadata": {},
   "source": [
    "### 文本文件\n",
    "\n",
    "**np.savetxt() , np.loadtxt(), np.genfromtxt()** 用来读取和加载 文本文件（txt、csv）\n",
    "\n",
    "genfromtxt() 函数比loadtxt() 更加强大，可以处理缺失文件\n",
    "\n",
    "* **np.savetxt(fname, X, fmt='%.18e', delimiter=' ', newline='\\n', header='', footer='', comments='# ', encoding=None)**\n",
    " \n",
    "将数组按txt文件存储\n",
    " \n",
    " 参数说明：\n",
    "> * fname : 文件路径\n",
    "> * X：需要存储的数组\n",
    "> * fmt：字符串格式，默认'%.18e'（保留18位小数的浮点数形式）。\n",
    "> * delimiter : 分隔形式，默认空格\n",
    "\n",
    "\n",
    "* **np.loadtxt(fname, dtype=float, comments='#', delimiter=None, converters=None, skiprows=0, usecols=None, unpack=False, ndmin=0, encoding='bytes', max_rows=None)**\n",
    " \n",
    "将数组按txt文件存储\n",
    "\n",
    "[参考解释文章](https://blog.csdn.net/weixin_43593330/article/details/89882187)\n",
    " \n",
    " 参数说明：\n",
    "> * fname : 文件路径\n",
    "> * dtype：加载后的数据格式，默认float\n",
    "> * comments：行的开头为# 就会跳过该行 ？？\n",
    "> * delimiter： 分隔形式\n",
    "> * converters: 字典形式，对指定行或列执行指定的函数操作 （下面会有示例）\n",
    "> * skiprows: 跳过前面几行，默认为0\n",
    "> * usecols： 用来读取指定列\n",
    "> * unpack： 将每一列当做向量输出，而不是合并在一起\n",
    "\n",
    "\n",
    "**【例3】txt文件的读写**"
   ]
  },
  {
   "cell_type": "code",
   "execution_count": 55,
   "metadata": {},
   "outputs": [
    {
     "name": "stdout",
     "output_type": "stream",
     "text": [
      "[[0. 1. 2. 3. 4.]\n",
      " [5. 6. 7. 8. 9.]]\n"
     ]
    }
   ],
   "source": [
    "datafile = \"./test.txt\"\n",
    "\n",
    "x = np.arange(10).reshape(2,5)  # reshape 将arange生成的一维数组转化为 2*5 的二维数组\n",
    "\n",
    "#\n",
    "np.savetxt(datafile,x)\n",
    "\n",
    "#简单的加载文件\n",
    "\n",
    "y = np.loadtxt(datafile)\n",
    "print(y)"
   ]
  },
  {
   "cell_type": "markdown",
   "metadata": {},
   "source": [
    "**【例4】loadtxt相关参数的使用 **\n"
   ]
  },
  {
   "cell_type": "code",
   "execution_count": 34,
   "metadata": {},
   "outputs": [
    {
     "name": "stdout",
     "output_type": "stream",
     "text": [
      "[[0. 1. 2. 3. 4.]\n",
      " [5. 6. 7. 8. 9.]]\n"
     ]
    }
   ],
   "source": [
    "# delimiter =  '', ,读取分隔符号\n",
    "\n",
    "y = np.loadtxt(datafile,delimiter=' ')\n",
    "print(y)"
   ]
  },
  {
   "cell_type": "code",
   "execution_count": 32,
   "metadata": {},
   "outputs": [
    {
     "name": "stdout",
     "output_type": "stream",
     "text": [
      "[5. 6. 7. 8. 9.]\n"
     ]
    }
   ],
   "source": [
    "#skiprows = n  跳过前n行\n",
    "\n",
    "y = np.loadtxt(datafile,delimiter=' ',skiprows = 1)\n",
    "print(y)"
   ]
  },
  {
   "cell_type": "code",
   "execution_count": 39,
   "metadata": {},
   "outputs": [
    {
     "name": "stdout",
     "output_type": "stream",
     "text": [
      "[5. 6. 7.]\n"
     ]
    }
   ],
   "source": [
    "#usecol = (0,1) 指定读取列\n",
    "\n",
    "y = np.loadtxt(datafile,delimiter=' ',skiprows = 1,usecols = (0,1,2))\n",
    "print(y)"
   ]
  },
  {
   "cell_type": "code",
   "execution_count": 43,
   "metadata": {},
   "outputs": [
    {
     "name": "stdout",
     "output_type": "stream",
     "text": [
      "[0. 5.] [1. 6.] [2. 7.]\n"
     ]
    }
   ],
   "source": [
    "#unpack = True 不组合输出，而是把每一列当做向量输出\n",
    "\n",
    "a,b,c= np.loadtxt(datafile,delimiter=' ',skiprows = 0,usecols = (0,1,2),unpack=True)\n",
    "print(a,b,c)"
   ]
  },
  {
   "cell_type": "markdown",
   "metadata": {},
   "source": [
    "**【例5】读取csv文件 **"
   ]
  },
  {
   "cell_type": "code",
   "execution_count": 46,
   "metadata": {},
   "outputs": [
    {
     "name": "stdout",
     "output_type": "stream",
     "text": [
      "[[0.  0.5 1.  1.5 2. ]\n",
      " [2.5 3.  3.5 4.  4.5]\n",
      " [5.  5.5 6.  6.5 7. ]\n",
      " [7.5 8.  8.5 9.  9.5]]\n"
     ]
    }
   ],
   "source": [
    "datafile = \"./test.csv\"\n",
    "\n",
    "#\n",
    "x = np.arange(0,10,0.5).reshape(4,-1)\n",
    "\n",
    "# \n",
    "np.savetxt(datafile,x,delimiter=\",\",fmt='%.3f')  # 保留3位小数，分隔符逗号保存\n",
    "\n",
    "# \n",
    "y = np.loadtxt(datafile,delimiter=',')  # 存储读取的分隔符要一致\n",
    "print(y)"
   ]
  },
  {
   "cell_type": "markdown",
   "metadata": {},
   "source": [
    "* **np.genfromtxt**\n",
    "\n",
    "(fname, dtype=float, comments='#', delimiter=None, skip_header=0, skip_footer=0, converters=None, missing_values=None, filling_values=None, usecols=None, names=None, excludelist=None, deletechars=''.join(sorted(NameValidator.defaultdeletechars)), replace_space='_', autostrip=False, case_sensitive=True, defaultfmt=\"f%i\", unpack=None, usemask=False, loose=True, invalid_raise=True, max_rows=None, encoding='bytes')\n",
    " \n",
    "读取txt文件，并按照指定模式处理缺失值\n",
    "\n",
    "\n",
    " \n",
    " 参数说明：\n",
    "> * fname : 文件路径\n",
    "> * dtype：加载后的数据格式，默认float\n",
    "> * comments：行的开头为# 就会跳过该行 ？？\n",
    "> * delimiter： 分隔形式\n",
    "> * skip_header: \n",
    "> * skip_footer:\n",
    "> * converters: 字典形式，对指定行或列执行指定的函数操作 \n",
    "> * name: 设置为True时，默认把第一行作为csv文件的名称\n",
    "\n",
    "【例6】 np.genfromtxt() 读取有空值的csv文件"
   ]
  },
  {
   "cell_type": "code",
   "execution_count": 54,
   "metadata": {},
   "outputs": [
    {
     "name": "stdout",
     "output_type": "stream",
     "text": [
      "y2 [(1., 123., 1.4, 23.) (2., 110., nan, 18.) (3.,  nan, 2.1, 19.)]\n"
     ]
    }
   ],
   "source": [
    "datafile = \"./data1.csv\"\n",
    "\n",
    "y2 = np.genfromtxt(datafile,delimiter=',',names=True)  \n",
    "\n",
    "print('y2',y2) # 读取的时候自动填补空值"
   ]
  },
  {
   "cell_type": "markdown",
   "metadata": {},
   "source": [
    "### 文本打印格式选项\n",
    "\n",
    "* **numpy.set_printoptions**\n",
    "\n",
    "（precision=None,threshold=None, edgeitems=None,linewidth=None, suppress=None, nanstr=None, infstr=None,formatter=None, sign=None, floatmode=None, **kwarg）\n",
    " \n",
    "设置打印格式\n",
    " \n",
    " 参数说明：\n",
    ">* precision：设置浮点精度，控制输出的小数点个数，默认是8。\n",
    ">* threshold：概略显示，超过该值则以“…”的形式来表示，默认是1000。\n",
    ">* linewidth：用于确定每行多少字符数后插入换行符，默认为75。\n",
    ">* suppress：当suppress=True，表示小数不需要以科学计数法的形式输出，默认是False。\n",
    ">* nanstr：浮点非数字的字符串表示形式，默认nan。\n",
    ">* infstr：浮点无穷大的字符串表示形式，默认inf。\n",
    "\n",
    "【例7】numpy.set_printoptions设置打印格式"
   ]
  },
  {
   "cell_type": "code",
   "execution_count": 56,
   "metadata": {},
   "outputs": [
    {
     "name": "stdout",
     "output_type": "stream",
     "text": [
      "[3.1416]\n"
     ]
    }
   ],
   "source": [
    "# precision：设置浮点精度，控制输出的小数点个数，默认是8\n",
    "x = np.array([3.14159625])\n",
    "np.set_printoptions(precision=4)\n",
    "print(x)"
   ]
  },
  {
   "cell_type": "code",
   "execution_count": 63,
   "metadata": {},
   "outputs": [
    {
     "name": "stdout",
     "output_type": "stream",
     "text": [
      "threshold=10000 [ 0  1  2  3  4  5  6  7  8  9 10 11 12 13 14 15 16 17 18 19 20 21 22 23\n",
      " 24 25 26 27 28 29 30 31 32 33 34 35 36 37 38 39 40 41 42 43 44 45 46 47\n",
      " 48 49 50 51 52 53 54 55 56 57 58 59 60 61 62 63 64 65 66 67 68 69 70 71\n",
      " 72 73 74 75 76 77 78 79 80 81 82 83 84 85 86 87 88 89 90 91 92 93 94 95\n",
      " 96 97 98 99]\n",
      "threshold=10 [ 0  1  2 ... 97 98 99]\n"
     ]
    }
   ],
   "source": [
    "#  threshold：概略显示，超过该值则以“…”的形式来表示，默认是1000。\n",
    "np.set_printoptions(threshold=10000) # 不是指阈值，是指一次最多显示50个数\n",
    "x =np.arange(0,100)\n",
    "print(\"threshold=10000\",x)\n",
    "\n",
    "np.set_printoptions(threshold=10)\n",
    "print(\"threshold=10\",x)"
   ]
  },
  {
   "cell_type": "code",
   "execution_count": 70,
   "metadata": {},
   "outputs": [
    {
     "name": "stdout",
     "output_type": "stream",
     "text": [
      "2.220446049250313e-16\n",
      "suppress = Flase [-4.9304e-32 -4.4409e-16  0.0000e+00  0.0000e+00]\n",
      "[-0. -0.  0.  0.]\n"
     ]
    }
   ],
   "source": [
    "#  当suppress=True，表示小数不需要以科学计数法的形式输出，默认是False\n",
    "\n",
    "ee = np.finfo(float).eps\n",
    "print(ee)\n",
    "x = np.arange(4.)\n",
    "x = x ** 2 - (x + ee) ** 2\n",
    "np.set_printoptions(suppress=False)\n",
    "print(\"suppress = Flase\",x)  \n",
    "\n",
    "np.set_printoptions(suppress=True)\n",
    "print(x)  # [-0. -0.  0.  0.]"
   ]
  },
  {
   "cell_type": "code",
   "execution_count": null,
   "metadata": {},
   "outputs": [],
   "source": []
  }
 ],
 "metadata": {
  "kernelspec": {
   "display_name": "Python 3",
   "language": "python",
   "name": "python3"
  },
  "language_info": {
   "codemirror_mode": {
    "name": "ipython",
    "version": 3
   },
   "file_extension": ".py",
   "mimetype": "text/x-python",
   "name": "python",
   "nbconvert_exporter": "python",
   "pygments_lexer": "ipython3",
   "version": "3.6.5"
  }
 },
 "nbformat": 4,
 "nbformat_minor": 2
}
