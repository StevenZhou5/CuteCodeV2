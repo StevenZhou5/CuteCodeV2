{
 "cells": [
  {
   "cell_type": "markdown",
   "metadata": {},
   "source": [
    "【习题1】\n",
    "\n",
    "只保留打印数组3位小数点"
   ]
  },
  {
   "cell_type": "code",
   "execution_count": 4,
   "metadata": {},
   "outputs": [
    {
     "name": "stdout",
     "output_type": "stream",
     "text": [
      "before [[0.12827901 0.67582714 0.96701829]\n",
      " [0.8549903  0.97073828 0.46372135]\n",
      " [0.99988231 0.73839575 0.09058879]\n",
      " [0.99240615 0.92504191 0.64362416]\n",
      " [0.43582237 0.8537921  0.06697956]]\n",
      "after [[0.128 0.676 0.967]\n",
      " [0.855 0.971 0.464]\n",
      " [1.    0.738 0.091]\n",
      " [0.992 0.925 0.644]\n",
      " [0.436 0.854 0.067]]\n"
     ]
    }
   ],
   "source": [
    "import numpy as np\n",
    "\n",
    "array = np.random.random([5,3])\n",
    "\n",
    "np.set_printoptions(precision=8)\n",
    "print('before', array)\n",
    "\n",
    "\n",
    "#\n",
    "np.set_printoptions(precision=3)\n",
    "\n",
    "print(\"after\",array)"
   ]
  },
  {
   "cell_type": "markdown",
   "metadata": {},
   "source": [
    "【习题2】\n",
    "\n",
    "打印限制为6个元素"
   ]
  },
  {
   "cell_type": "code",
   "execution_count": 5,
   "metadata": {},
   "outputs": [
    {
     "name": "stdout",
     "output_type": "stream",
     "text": [
      "b [ 0.     0.204  0.408  0.612  0.816  1.02   1.224  1.429  1.633  1.837\n",
      "  2.041  2.245  2.449  2.653  2.857  3.061  3.265  3.469  3.673  3.878\n",
      "  4.082  4.286  4.49   4.694  4.898  5.102  5.306  5.51   5.714  5.918\n",
      "  6.122  6.327  6.531  6.735  6.939  7.143  7.347  7.551  7.755  7.959\n",
      "  8.163  8.367  8.571  8.776  8.98   9.184  9.388  9.592  9.796 10.   ]\n",
      "a [ 0.     0.204  0.408 ...  9.592  9.796 10.   ]\n"
     ]
    }
   ],
   "source": [
    "x = np.linspace(0,10)\n",
    "print('b',x)\n",
    "\n",
    "#\n",
    "np.set_printoptions(threshold=6)\n",
    "print('a',x)"
   ]
  },
  {
   "cell_type": "code",
   "execution_count": null,
   "metadata": {},
   "outputs": [],
   "source": [
    "【习题2】\n",
    "\n",
    "打印完整的数组"
   ]
  },
  {
   "cell_type": "code",
   "execution_count": 7,
   "metadata": {},
   "outputs": [
    {
     "name": "stdout",
     "output_type": "stream",
     "text": [
      "[ 0.     0.204  0.408  0.612  0.816  1.02   1.224  1.429  1.633  1.837\n",
      "  2.041  2.245  2.449  2.653  2.857  3.061  3.265  3.469  3.673  3.878\n",
      "  4.082  4.286  4.49   4.694  4.898  5.102  5.306  5.51   5.714  5.918\n",
      "  6.122  6.327  6.531  6.735  6.939  7.143  7.347  7.551  7.755  7.959\n",
      "  8.163  8.367  8.571  8.776  8.98   9.184  9.388  9.592  9.796 10.   ]\n"
     ]
    }
   ],
   "source": [
    "np.set_printoptions(threshold=np.iinfo(int).max)\n",
    "print(x)"
   ]
  },
  {
   "cell_type": "code",
   "execution_count": null,
   "metadata": {},
   "outputs": [],
   "source": []
  }
 ],
 "metadata": {
  "kernelspec": {
   "display_name": "Python 3",
   "language": "python",
   "name": "python3"
  },
  "language_info": {
   "codemirror_mode": {
    "name": "ipython",
    "version": 3
   },
   "file_extension": ".py",
   "mimetype": "text/x-python",
   "name": "python",
   "nbconvert_exporter": "python",
   "pygments_lexer": "ipython3",
   "version": "3.6.5"
  }
 },
 "nbformat": 4,
 "nbformat_minor": 2
}
