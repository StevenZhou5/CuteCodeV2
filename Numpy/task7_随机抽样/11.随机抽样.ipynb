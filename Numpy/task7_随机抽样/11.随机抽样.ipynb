{
 "cells": [
  {
   "cell_type": "markdown",
   "metadata": {},
   "source": [
    "## 11.numpy的随机抽样\n",
    "\n",
    "* 离散型随机变量\n",
    "\n",
    " > * 二项分布\n",
    " > * 泊松分布\n",
    " > * 超几何分布\n",
    " \n",
    " \n",
    " * 连续型随机变量\n",
    " \n",
    " > * 均匀分布\n",
    " > * 正态分布\n",
    " > * 指数分布\n",
    " \n",
    " \n",
    " * 其他随机函数\n",
    " \n",
    " > * 随机从序列种获取元素\n",
    " > * 对数据集进行洗牌操作\n",
    " \n",
    " \n",
    "numpy.random对python种的random进行了补充，增加了一些用于高效生成多种概率分布的的样本值函数\n"
   ]
  },
  {
   "cell_type": "markdown",
   "metadata": {},
   "source": [
    "### 11.1 离散型随机变量\n",
    "\n",
    "** a.二项分布**\n",
    "\n",
    "* **数学定义：**二项分布是指，每次实验只有两次结果，独立进行多次实验的概率分布问题。例，10次抛硬币中有6次字向上的概率。\n",
    "* **代码表示：** binom.pmf(k) = choose(n,k) p^k (1-p)^ (n-k)\n",
    "* **数学表达式：** \n",
    "$$\n",
    "p\\{X=k\\}= (_{k}^{n})p^{k}(1-p)^{n-k}\n",
    "$$\n",
    "\n",
    "\n",
    "* ** numpy中的实现函数 **\n",
    "\n",
    "  numpy.random.binomial(n,p,size=None)\n",
    "  \n",
    "  n表示 单次实验中抛硬币的次数，int类型，传入浮点类型也会被当做int\n",
    "  \n",
    "  p表示 单次实验中成功的概率（硬币向上的次数），0<= p <= 1\n",
    "  \n",
    "  size表示  进行多少次单次实验\n",
    "  \n",
    "  函数输出的是一个长度为size的数组，表示每次采样 事件成功的次数（硬币向上的次数）\n",
    "  \n",
    "【例1】np.random.binomial函数说明\n",
    "\n",
    "以抛硬币为例子说明，也就是p=0.5"
   ]
  },
  {
   "cell_type": "code",
   "execution_count": 11,
   "metadata": {},
   "outputs": [
    {
     "data": {
      "text/plain": [
       "array([2, 2, 1, 1, 1])"
      ]
     },
     "execution_count": 11,
     "metadata": {},
     "output_type": "execute_result"
    }
   ],
   "source": [
    "import numpy as np\n",
    "\n",
    "np.random.seed(2020)  # 设置固定的随机数种子，保证生成随机数的规则一致\n",
    "\n",
    "# 一个完整的实验：抛两次硬币（n=2），每次硬币向上的概率是0.5（p=0.5）\n",
    "# 我们做5次完整的实验 size = 5，\n",
    "# 记录下来每次完整实验的结果，实验中硬币向上的次数（事件成功的次数）\n",
    "np.random.binomial(2,0.5,size = 5)\n"
   ]
  },
  {
   "cell_type": "code",
   "execution_count": 12,
   "metadata": {},
   "outputs": [],
   "source": [
    "# 上面的结果表示 第一次实验 2个硬币朝上，第二次实验，2个硬币朝上，第三次实验1个硬币朝上，第四次实验1个硬币朝上，第五次实验1个硬币朝上\n",
    "\n",
    "# size越大，采样次数越大，得到的结果越接近数学公式计算得到的值"
   ]
  },
  {
   "cell_type": "markdown",
   "metadata": {},
   "source": [
    "还是以抛硬币为例，进一步了解函数的使用方式\n",
    "\n",
    "案例：抛两个硬币，抛到正反面的概率都是0.5 那么两个硬币都是正面的概率是多少？\n",
    "\n",
    "$$\n",
    "p\\{X=2\\}= (_{2}^{2})(\\frac{1}{2})^{2} *( \\frac{1}{2})^{0}=0.25\n",
    "$$"
   ]
  },
  {
   "cell_type": "code",
   "execution_count": 14,
   "metadata": {},
   "outputs": [
    {
     "name": "stdout",
     "output_type": "stream",
     "text": [
      "size=100 0.26\n",
      "size=100 0.242\n",
      "size=100 0.2458\n"
     ]
    }
   ],
   "source": [
    "\n",
    "np.random.seed(2020)\n",
    "\n",
    "x1 = sum( (np.random.binomial(2,0.5,size=100))==2)/100\n",
    "print('size=100',x1 )\n",
    "\n",
    "x2 = sum( (np.random.binomial(2,0.5,size=1000))==2)/1000\n",
    "print('size=100',x2 )\n",
    "\n",
    "x3 = sum( (np.random.binomial(2,0.5,size=10000))==2)/10000\n",
    "print('size=100',x3 )\n",
    "\n",
    "# 可以发现采样次数越大，得到的概率越接近数学公式计算的结果"
   ]
  },
  {
   "cell_type": "markdown",
   "metadata": {},
   "source": [
    "【例2】野外正在进行9（n=9）口石油勘探井的发掘工作，每一口井能够开发出油的概率是0.1（p=0.1）。请问，最终所有的勘探井都勘探失败的概率？"
   ]
  },
  {
   "cell_type": "code",
   "execution_count": 16,
   "metadata": {},
   "outputs": [
    {
     "data": {
      "text/plain": [
       "0.3865"
      ]
     },
     "execution_count": 16,
     "metadata": {},
     "output_type": "execute_result"
    }
   ],
   "source": [
    "x = sum( (np.random.binomial(9,0.1,size=10000))==0)/10000\n",
    "x"
   ]
  },
  {
   "cell_type": "code",
   "execution_count": 48,
   "metadata": {},
   "outputs": [
    {
     "data": {
      "image/png": "[encoded data removed]",
      "text/plain": [
       "<Figure size 432x288 with 1 Axes>"
      ]
     },
     "metadata": {},
     "output_type": "display_data"
    }
   ],
   "source": [
    "## 使用maltiplot将概率分布画出来\n",
    "\n",
    "import matplotlib.pyplot as plt\n",
    "from scipy import stats\n",
    "\n",
    "# 为matplotlib添加中文库\n",
    "plt.rcParams['font.sans-serif']=['SimHei']\n",
    "plt.rcParams['axes.unicode_minus'] = False\n",
    "\n",
    "\n",
    "# 设置随机数种子\n",
    "\n",
    "np.random.seed(2020)\n",
    "\n",
    "# 设置随机数参数\n",
    "n = 9\n",
    "p = 0.1\n",
    "size = 10000\n",
    "\n",
    "x = np.random.binomial(n,p,size)\n",
    "\n",
    "\n",
    "#绘制图形\n",
    "\n",
    "plt.hist(x, )  ## 直接绘制直方图，刻度线不对称怎么解决？\n",
    "plt.xlabel('success time')\n",
    "plt.ylabel('样本中出现的次数')\n",
    "plt.show()"
   ]
  },
  {
   "cell_type": "code",
   "execution_count": 54,
   "metadata": {},
   "outputs": [
    {
     "name": "stdout",
     "output_type": "stream",
     "text": [
      "[0.387 0.387 0.172 0.045 0.007 0.001 0.    0.    0.    0.   ]\n"
     ]
    }
   ],
   "source": [
    "#  函数返回列表中每个元素的概率值\n",
    "\n",
    "s = stats.binom.pmf(range(10),n,p)\n",
    "print(np.around(s,3))"
   ]
  },
  {
   "cell_type": "markdown",
   "metadata": {},
   "source": [
    "【例3】模拟投硬币，投2次，请问两次都为正面的概率？"
   ]
  },
  {
   "cell_type": "code",
   "execution_count": 17,
   "metadata": {},
   "outputs": [
    {
     "data": {
      "text/plain": [
       "0.252"
      ]
     },
     "execution_count": 17,
     "metadata": {},
     "output_type": "execute_result"
    }
   ],
   "source": [
    "x = sum( (np.random.binomial(2,0.5,size=10000))==2)/10000\n",
    "x"
   ]
  },
  {
   "cell_type": "markdown",
   "metadata": {},
   "source": [
    "** b.泊松分布**\n",
    "\n",
    "* **数学定义：** 泊松分布适合于描述单位时间内随机事件发生的次数的概率，参数λ是单位时间(或单位面积)内随机事件的平均发生次数\n",
    "* **代码表示：** possion.pmf(k) = exp(-lam) lam*k/k!\n",
    "* **数学表达式：** \n",
    "$$\n",
    "P\\{X = k\\} = \\frac{\\lambda^k}{k!}e^{-\\lambda} , k=0,1,...\n",
    "$$\n",
    "\n",
    "\n",
    "* ** numpy中的实现函数 **\n",
    "\n",
    "  numpy.random.poisson(lam=1.0,size=None)\n",
    "  \n",
    "  lam表示 单位时间内发生该事件的次数\n",
    "  \n",
    "  size表示  进行多少次单次实验\n",
    "  \n",
    "  函数输出的是一个长度为size的数组，表示每次采样 单位时间内该事件发生的次数\n",
    "  \n",
    "【例4】np.random.possion\n",
    "\n",
    "假定某航空公司预定票处平均每小时接到42次订票电话，那么10分钟内恰好接到6次电话的概率是多少？"
   ]
  },
  {
   "cell_type": "code",
   "execution_count": 57,
   "metadata": {},
   "outputs": [
    {
     "name": "stdout",
     "output_type": "stream",
     "text": [
      "0.1451\n"
     ]
    },
    {
     "data": {
      "image/png": "[encoded data removed]",
      "text/plain": [
       "<Figure size 432x288 with 1 Axes>"
      ]
     },
     "metadata": {},
     "output_type": "display_data"
    }
   ],
   "source": [
    "\n",
    "lamda = 42/6\n",
    "size = 10000\n",
    "\n",
    "#\n",
    "np.random.seed(2020)\n",
    "\n",
    "#\n",
    "x = np.random.poisson(lamda, size)\n",
    "\n",
    "print(sum(x==6)/size)\n",
    "\n",
    "\n",
    "# 绘制图像\n",
    "\n",
    "plt.hist(x)\n",
    "plt.xlabel('随机变量：每十分钟接到订票电话的次数')\n",
    "plt.ylabel('抽样出现的次数')\n",
    "\n",
    "plt.show()"
   ]
  },
  {
   "cell_type": "markdown",
   "metadata": {},
   "source": [
    "** c.超几何分布**\n",
    "\n",
    "* **数学定义：**  它描述了从有限N个物件（其中包含M个指定种类的物件）中抽出n个物件，成功抽出该指定种类的物件的次数（不放回）的概率。\n",
    "* **代码表示：**  \n",
    "* **数学表达式：** \n",
    "$$\n",
    "p(k,M,n,N) = \\frac{(_{k}^{n})(_{N-k}^{M-n})}{(_{N}^{M})}\n",
    "$$\n",
    "\n",
    "\n",
    "* ** numpy中的实现函数 **\n",
    "\n",
    "  np.random.hypergeometric(ngood,nbad,nsample,size=None)\n",
    "  \n",
    "  用工厂抽样检查来解释，总共有N件货物，其中次品M件，现在抽取n个物品，n个物品中有k个次品的概率\n",
    "  \n",
    "  ngood 表示 总体中 具有成功标志的元素个数（次品有多少）\n",
    "  \n",
    "  nbad 表示  总体中 具有失败标志的元素个数（非次品有多少） ngood + nbad = N\n",
    "  \n",
    "  nsamples 表示 抽取样本的次数（抽取物品的次数）\n",
    "  \n",
    "  size表示  进行多少次单次实验\n",
    "  \n",
    "  函数输出的是一个长度为size的数组，表示抽取的nsamples次样本中 有多少个成功的样本\n",
    "  \n",
    "【例5】 np.random.hypergeometric\n",
    "\n",
    "一共20只动物里有7只是狗，抽取12只有3只狗的概率（无放回抽样）。"
   ]
  },
  {
   "cell_type": "code",
   "execution_count": 64,
   "metadata": {},
   "outputs": [
    {
     "name": "stdout",
     "output_type": "stream",
     "text": [
      "0.19844\n"
     ]
    },
    {
     "data": {
      "image/png": "[encoded data removed]",
      "text/plain": [
       "<Figure size 432x288 with 1 Axes>"
      ]
     },
     "metadata": {},
     "output_type": "display_data"
    }
   ],
   "source": [
    "import matplotlib.pyplot as plt\n",
    "from scipy import stats\n",
    "\n",
    "\n",
    "#\n",
    "ngood = 7\n",
    "nbad =13\n",
    "nsample = 12\n",
    "size = 500000\n",
    "\n",
    "#\n",
    "np.random.seed(2020)\n",
    "x = np.random.hypergeometric(ngood,nbad,nsample,size)\n",
    "\n",
    "print(sum(x==3)/size)\n",
    "\n",
    "# 绘制直方图\n",
    "plt.hist(x,bins=7)\n",
    "plt.xlabel(\"the num of dogs\")\n",
    "plt.ylabel(\"nums\")\n",
    "plt.title('the hypergeometric')\n",
    "plt.show()"
   ]
  },
  {
   "cell_type": "code",
   "execution_count": 69,
   "metadata": {},
   "outputs": [
    {
     "name": "stdout",
     "output_type": "stream",
     "text": [
      "[0.    0.004 0.048 0.199 0.358 0.286 0.095 0.01 ]\n"
     ]
    }
   ],
   "source": [
    "# 利用hypergeom.pmf(k,M,n,N,loc)来计算k次成功的概率\n",
    "x = range(8)\n",
    "s = stats.hypergeom.pmf(k=x,M=20,n=7,N=12)\n",
    "print(np.round(s,3))"
   ]
  },
  {
   "cell_type": "markdown",
   "metadata": {},
   "source": [
    "### 11.2 连续性随机变量\n",
    "\n",
    "** a.均匀分布**\n",
    "\n",
    "* **数学定义：** 在区间（a，b）之间的分布概率相同\n",
    "* **数学表达式：** \n",
    "$$\n",
    "f(x) = \\frac{1}{b-a},a<x<b\n",
    "$$\n",
    "\n",
    "\n",
    "* ** numpy中的实现函数 **\n",
    "\n",
    "  numpy.random.uniform(low=0.0, high=1.0, size=None)\n",
    "  \n",
    "  从一个均匀分布[low,high)中随机采样，注意定义域是左闭右开，即包含low，不包含high.\n",
    "  \n",
    "【例6】在low到high范围内，创建大小为size的均匀分布的随机数。"
   ]
  },
  {
   "cell_type": "code",
   "execution_count": 72,
   "metadata": {},
   "outputs": [
    {
     "name": "stdout",
     "output_type": "stream",
     "text": [
      "True\n",
      "True\n",
      "0.40006\n"
     ]
    },
    {
     "data": {
      "text/plain": [
       "<function matplotlib.pyplot.show(*args, **kw)>"
      ]
     },
     "execution_count": 72,
     "metadata": {},
     "output_type": "execute_result"
    },
    {
     "data": {
      "image/png": "[encoded data removed]",
      "text/plain": [
       "<Figure size 432x288 with 1 Axes>"
      ]
     },
     "metadata": {},
     "output_type": "display_data"
    }
   ],
   "source": [
    "\n",
    "#\n",
    "low = 0\n",
    "hight=100\n",
    "size = 50000\n",
    "\n",
    "np.random.seed(2020)\n",
    "x = np.random.uniform(low,hight,size)\n",
    "print(np.all(x>=0))\n",
    "print(np.all(x<100))\n",
    "\n",
    "print((sum(x<50)-sum(x<10))/size)\n",
    "\n",
    "\n",
    "# 绘制图形\n",
    "plt.hist(x,bins = 20)\n",
    "plt.show"
   ]
  },
  {
   "cell_type": "code",
   "execution_count": 74,
   "metadata": {},
   "outputs": [
    {
     "name": "stdout",
     "output_type": "stream",
     "text": [
      "0.4\n"
     ]
    }
   ],
   "source": [
    "# 使用stats函数库可以实现概率计算\n",
    "\n",
    "a = stats.uniform.cdf(10,0,100)\n",
    "b = stats.uniform.cdf(50,0,100)\n",
    "print(b - a)"
   ]
  },
  {
   "cell_type": "markdown",
   "metadata": {},
   "source": [
    "**均匀分布的随机数的特例**\n",
    "\n",
    "* 得到[0，1）之间的均匀分布的随机数 np.random.rand(d0,d1,...dn)\n",
    "* 得到[low，high）之间均匀分布的随机整数 np.random.randint(low,high=None,size=None)\n",
    "\n",
    "【例7】根据指定大小产生[0,1)之间均匀分布的随机数。"
   ]
  },
  {
   "cell_type": "code",
   "execution_count": 75,
   "metadata": {},
   "outputs": [
    {
     "data": {
      "text/plain": [
       "0.6100805648040187"
      ]
     },
     "execution_count": 75,
     "metadata": {},
     "output_type": "execute_result"
    }
   ],
   "source": [
    "np.random.rand()"
   ]
  },
  {
   "cell_type": "code",
   "execution_count": 77,
   "metadata": {},
   "outputs": [
    {
     "data": {
      "text/plain": [
       "array([[0.86818987, 0.26304566, 0.27584691],\n",
       "       [0.29989078, 0.40633654, 0.99870035],\n",
       "       [0.99110679, 0.31309628, 0.11485571],\n",
       "       [0.72722094, 0.42528438, 0.25971675]])"
      ]
     },
     "execution_count": 77,
     "metadata": {},
     "output_type": "execute_result"
    }
   ],
   "source": [
    "np.random.rand(4,3) # 4*3 的二维数组"
   ]
  },
  {
   "cell_type": "code",
   "execution_count": 80,
   "metadata": {},
   "outputs": [
    {
     "data": {
      "text/plain": [
       "array([[0.64917046, 0.32587321, 0.59567608],\n",
       "       [0.7512917 , 0.65309393, 0.2578775 ],\n",
       "       [0.48836504, 0.33840783, 0.53006479],\n",
       "       [0.44581071, 0.53596706, 0.59851081]])"
      ]
     },
     "execution_count": 80,
     "metadata": {},
     "output_type": "execute_result"
    }
   ],
   "source": [
    "np.random.rand(4,3,1) #4*3*1 的三维数组"
   ]
  },
  {
   "cell_type": "code",
   "execution_count": 81,
   "metadata": {},
   "outputs": [
    {
     "name": "stdout",
     "output_type": "stream",
     "text": [
      "[[0.98627683 0.87339195 0.50974552]\n",
      " [0.27183571 0.33691873 0.21695427]\n",
      " [0.27647714 0.34331559 0.86215894]\n",
      " [0.15669967 0.14088724 0.75708028]]\n"
     ]
    }
   ],
   "source": [
    "np.random.seed(2020)\n",
    "print(np.random.uniform(size=(4,3)))"
   ]
  },
  {
   "cell_type": "markdown",
   "metadata": {},
   "source": [
    "【例8】若high不为None时，取[low,high)之间随机整数，否则取值[0，low)之间随机整数"
   ]
  },
  {
   "cell_type": "code",
   "execution_count": 83,
   "metadata": {},
   "outputs": [
    {
     "data": {
      "text/plain": [
       "array([0, 0, 3, 3, 3, 3, 0, 0, 0, 0])"
      ]
     },
     "execution_count": 83,
     "metadata": {},
     "output_type": "execute_result"
    }
   ],
   "source": [
    "np.random.seed(2020)\n",
    "np.random.randint(5,size = 10)"
   ]
  },
  {
   "cell_type": "code",
   "execution_count": 84,
   "metadata": {},
   "outputs": [
    {
     "data": {
      "text/plain": [
       "array([[4, 8, 3, 4],\n",
       "       [7, 6, 1, 5],\n",
       "       [9, 7, 5, 2]])"
      ]
     },
     "execution_count": 84,
     "metadata": {},
     "output_type": "execute_result"
    }
   ],
   "source": [
    "np.random.randint(1,10,size = [3,4])"
   ]
  },
  {
   "cell_type": "markdown",
   "metadata": {},
   "source": [
    "** b.正态分布**\n",
    "\n",
    "* **数学定义：** \n",
    "* **数学表达式：** \n",
    "$$\n",
    "f(x) = \\frac{exp(-x^2/2)}{\\sqrt{2\\pi}}\n",
    "$$\n",
    "\n",
    "\n",
    "* ** numpy中的实现函数 **\n",
    "\n",
    "  numpy.random.randn(d0,d1,...,dn)\n",
    "  \n",
    "  按标准正态分布生成d0*d1*...*dn 形状的数组\n",
    "\n",
    "【例9】根据指定大小产生满足标准正态分布的数组（均值为0，标准差为1）"
   ]
  },
  {
   "cell_type": "code",
   "execution_count": 90,
   "metadata": {},
   "outputs": [
    {
     "name": "stdout",
     "output_type": "stream",
     "text": [
      "0.6866\n",
      "0.956\n",
      "0.998\n"
     ]
    },
    {
     "data": {
      "text/plain": [
       "<function matplotlib.pyplot.show(*args, **kw)>"
      ]
     },
     "execution_count": 90,
     "metadata": {},
     "output_type": "execute_result"
    },
    {
     "data": {
      "image/png": "[encoded data removed]",
      "text/plain": [
       "<Figure size 432x288 with 1 Axes>"
      ]
     },
     "metadata": {},
     "output_type": "display_data"
    }
   ],
   "source": [
    "\n",
    "# \n",
    "np.random.seed(2020)\n",
    "size = 5000\n",
    "\n",
    "# \n",
    "x = np.random.randn(size)\n",
    "\n",
    "y1 = (sum(x<1)- sum(x<-1))/size\n",
    "y2 = (sum(x<2)- sum(x<-2))/size\n",
    "y3 = (sum(x<3)- sum(x<-3))/size\n",
    "\n",
    "print(y1)\n",
    "print(y2)\n",
    "print(y3)\n",
    "\n",
    "\n",
    "# 绘制图像\n",
    "plt.hist(x,bins =20)\n",
    "plt.show"
   ]
  },
  {
   "cell_type": "code",
   "execution_count": 91,
   "metadata": {},
   "outputs": [
    {
     "data": {
      "text/plain": [
       "0.6826894921370859"
      ]
     },
     "execution_count": 91,
     "metadata": {},
     "output_type": "execute_result"
    }
   ],
   "source": [
    "# 使用stats库获得概率\n",
    "\n",
    "stats.norm.cdf(1) - stats.norm.cdf(-1)\n"
   ]
  },
  {
   "cell_type": "markdown",
   "metadata": {},
   "source": [
    "* 可以指定高斯分布中的参数，得到随机数，即指定高斯分布的mu和sigma\n",
    "\n",
    "* ** numpy中的实现函数 **\n",
    "\n",
    "  numpy.random.normal(loc=0.0,scale=1.0,size =None)\n",
    "  \n",
    "  按均值为loc(mu)，标准差为scale（sigma），大小为size的数组\n",
    "  \n",
    "【例10】根据指定大小产生满足正态分布的数组（均值为mu，标准差为sigma）"
   ]
  },
  {
   "cell_type": "code",
   "execution_count": 95,
   "metadata": {},
   "outputs": [
    {
     "name": "stdout",
     "output_type": "stream",
     "text": [
      "[[4.11557715 5.03777614 4.43468515 4.67428492]\n",
      " [4.55344219 4.36294951 4.96942278 5.03225692]\n",
      " [5.20505647 4.71355875 4.59933319 5.6560176 ]]\n",
      "5.001891840405788\n",
      "0.4973929539955145\n"
     ]
    }
   ],
   "source": [
    "# \n",
    "np.random.seed(2020)\n",
    "mu = 5 #均值\n",
    "sigma = 0.5 # 标准差\n",
    "x= np.random.normal(mu,sigma,size=(3,4))\n",
    "print(x)\n",
    "\n",
    "\n",
    "#\n",
    "x= np.random.normal(mu,sigma,size=50000)\n",
    "print(np.mean(x))\n",
    "print(np.std(x,ddof=1))  ## ddof的参数表示 =0 最终公式/n 标准差偏小 ddof=1 最终公式/n-1，标准差偏大，默认为0\n"
   ]
  },
  {
   "cell_type": "code",
   "execution_count": 96,
   "metadata": {},
   "outputs": [
    {
     "name": "stdout",
     "output_type": "stream",
     "text": [
      "0.4973879800411046\n"
     ]
    }
   ],
   "source": [
    "print(np.std(x)) "
   ]
  },
  {
   "cell_type": "markdown",
   "metadata": {},
   "source": [
    "** c.指数分布 **\n",
    "\n",
    "* **数学定义：** 连续概率分布，事件以恒定平均速率连续且独立地发生的过程，λ > 0是分布的一个参数，即每单位时间内发生某事件的次数。\n",
    "\n",
    "* **数学表达式：** \n",
    "$$\n",
    "f(x)=\n",
    "\\begin{cases}\n",
    "\\lambda * e^{-\\lambda * x} & \\text{x>0}\\\\\n",
    "0& \\text{x<=0}\n",
    "\\end{cases}$$\n",
    "\n",
    "\n",
    "* ** numpy中的实现函数 **\n",
    "\n",
    "   **numpy.random.exponential(scale=1.0,size=None)**\n",
    "  \n",
    "  scale表示的是单位时间内发生某时间的次数\n",
    "  \n",
    "  函数输出的是  按照 参数为 scale = lambda 指数分布生成的随机数\n",
    "  \n",
    " 【例11】指数分布"
   ]
  },
  {
   "cell_type": "code",
   "execution_count": 98,
   "metadata": {},
   "outputs": [
    {
     "name": "stdout",
     "output_type": "stream",
     "text": [
      "0.63426\n"
     ]
    },
    {
     "data": {
      "image/png": "[encoded data removed]",
      "text/plain": [
       "<Figure size 432x288 with 1 Axes>"
      ]
     },
     "metadata": {},
     "output_type": "display_data"
    }
   ],
   "source": [
    "lam = 7\n",
    "size = 50000\n",
    "\n",
    "x = np.random.exponential(1/lam,size)\n",
    "\n",
    "print(sum(x<(1/7))/size)  ## 这里有没有数学含义？\n",
    "\n",
    "plt.hist(x,bins=20)\n",
    "plt.show()"
   ]
  },
  {
   "cell_type": "code",
   "execution_count": 99,
   "metadata": {},
   "outputs": [
    {
     "data": {
      "text/plain": [
       "0.6321205588285577"
      ]
     },
     "execution_count": 99,
     "metadata": {},
     "output_type": "execute_result"
    }
   ],
   "source": [
    "## 可以使用stats函数库计算概率\n",
    "\n",
    "stats.expon.cdf(1/7,scale = 1/lam)"
   ]
  },
  {
   "cell_type": "markdown",
   "metadata": {},
   "source": [
    "### 11.3 其他随机函数\n",
    "\n",
    "** a.随机从序列中获取元素 **\n",
    "\n",
    "* ** numpy中的实现函数 **\n",
    "\n",
    "   **numpy.random.choice(a,size,replace = True , p=None)**\n",
    "   \n",
    "   参数说明\n",
    "   >* a：若a为整数，元素取值从np.range(a)中随机获取；若a为数组，则从该数组随机获取\n",
    "   >* size: 随机抽样的维度\n",
    "   >* replace: 输出的数能否重复，Fale表示不能重复\n",
    "   >* p: 指定每个数被选择的概率 总和为1\n",
    "\n",
    "\n",
    "【例12】numpy.random.choice的使用\n"
   ]
  },
  {
   "cell_type": "code",
   "execution_count": 100,
   "metadata": {},
   "outputs": [
    {
     "data": {
      "text/plain": [
       "array([1, 3, 4])"
      ]
     },
     "execution_count": 100,
     "metadata": {},
     "output_type": "execute_result"
    }
   ],
   "source": [
    "# 从0-9 10个数中选择3个数\n",
    "\n",
    "np.random.choice(10,3)"
   ]
  },
  {
   "cell_type": "code",
   "execution_count": 102,
   "metadata": {},
   "outputs": [
    {
     "data": {
      "text/plain": [
       "array([2, 2, 3], dtype=int64)"
      ]
     },
     "execution_count": 102,
     "metadata": {},
     "output_type": "execute_result"
    }
   ],
   "source": [
    "# 从0-9 10个数中选择3个数,并指定每个数被选择的概率\n",
    "\n",
    "np.random.choice(10,3,p = [0.1,0.1,0.4,0.4,0,0,0,0,0,0])"
   ]
  },
  {
   "cell_type": "code",
   "execution_count": 103,
   "metadata": {},
   "outputs": [
    {
     "data": {
      "text/plain": [
       "array([5, 8, 6])"
      ]
     },
     "execution_count": 103,
     "metadata": {},
     "output_type": "execute_result"
    }
   ],
   "source": [
    "# 从0-9 10个数中选择不重复的3个数\n",
    "\n",
    "np.random.choice(10,3,replace = False)"
   ]
  },
  {
   "cell_type": "code",
   "execution_count": 104,
   "metadata": {},
   "outputs": [
    {
     "data": {
      "text/plain": [
       "array(['e', 'c'], dtype='<U1')"
      ]
     },
     "execution_count": 104,
     "metadata": {},
     "output_type": "execute_result"
    }
   ],
   "source": [
    "# 从数组中随机选择元素\n",
    "\n",
    "arr = ['a','b','c','d','e']\n",
    "np.random.choice(arr,2)"
   ]
  },
  {
   "cell_type": "markdown",
   "metadata": {},
   "source": [
    "** b.对数据集进行洗牌操作 **\n",
    "\n",
    "* ** numpy中的实现函数 **\n",
    "   \n",
    " **  numpy.random.shuffle(x)**\n",
    "   \n",
    "   对数组x进行重排序，如果x为多维数组，只对第一维的数组打乱顺序（下面有例子参考）\n",
    "   \n",
    "   同时需要注意的是，shffle是没有返回值的，是在原数组上打乱顺序\n",
    "\n",
    "\n",
    "【例13】np.random.shuffle(x)的使用"
   ]
  },
  {
   "cell_type": "code",
   "execution_count": 106,
   "metadata": {},
   "outputs": [
    {
     "name": "stdout",
     "output_type": "stream",
     "text": [
      "[2 4 9 1 5 7 6 3 8 0]\n"
     ]
    }
   ],
   "source": [
    "# 一维数组的打乱\n",
    "\n",
    "np.random.seed(2020)\n",
    "x = np.arange(10)\n",
    "np.random.shuffle(x)\n",
    "print(x)"
   ]
  },
  {
   "cell_type": "code",
   "execution_count": 110,
   "metadata": {},
   "outputs": [
    {
     "name": "stdout",
     "output_type": "stream",
     "text": [
      "[[ 0  1  2  3  4]\n",
      " [ 5  6  7  8  9]\n",
      " [10 11 12 13 14]\n",
      " [15 16 17 18 19]]\n",
      "\n",
      "[[10 11 12 13 14]\n",
      " [ 5  6  7  8  9]\n",
      " [15 16 17 18 19]\n",
      " [ 0  1  2  3  4]]\n"
     ]
    }
   ],
   "source": [
    "# 多维数组的打乱\n",
    "\n",
    "np.random.seed(2020)\n",
    "x= np.arange(20).reshape(4,5)\n",
    "print(x)\n",
    "print()\n",
    "np.random.shuffle(x)\n",
    "print(x) ## 只改变了一维的顺序"
   ]
  },
  {
   "cell_type": "markdown",
   "metadata": {},
   "source": [
    " *  **numpy.random.permutation(x)**\n",
    " \n",
    "     函数作用同shuffle(),但是不同的是，permutation不会改变原数组，而是返回一个新的数组\n",
    "     \n",
    "【例13】np.random.permutation(x)的使用"
   ]
  },
  {
   "cell_type": "code",
   "execution_count": 111,
   "metadata": {},
   "outputs": [
    {
     "name": "stdout",
     "output_type": "stream",
     "text": [
      "[0 1 2 3 4 5 6 7 8 9]\n",
      "\n",
      "[2 4 9 1 5 7 6 3 8 0]\n"
     ]
    }
   ],
   "source": [
    "# 一维数组的打乱\n",
    "\n",
    "np.random.seed(2020)\n",
    "x = np.arange(10)\n",
    "y = np.random.permutation(x)\n",
    "\n",
    "\n",
    "print(x)\n",
    "print()\n",
    "print(y)"
   ]
  },
  {
   "cell_type": "code",
   "execution_count": 112,
   "metadata": {},
   "outputs": [
    {
     "name": "stdout",
     "output_type": "stream",
     "text": [
      "[[ 0  1  2  3  4]\n",
      " [ 5  6  7  8  9]\n",
      " [10 11 12 13 14]\n",
      " [15 16 17 18 19]]\n",
      "\n",
      "[[10 11 12 13 14]\n",
      " [ 5  6  7  8  9]\n",
      " [15 16 17 18 19]\n",
      " [ 0  1  2  3  4]]\n"
     ]
    }
   ],
   "source": [
    "# 多维数组的打乱\n",
    "\n",
    "np.random.seed(2020)\n",
    "x= np.arange(20).reshape(4,5)\n",
    "y = np.random.permutation(x)\n",
    "\n",
    "print(x)\n",
    "print()\n",
    "print(y) ## 只改变了一维的顺序"
   ]
  },
  {
   "cell_type": "code",
   "execution_count": null,
   "metadata": {},
   "outputs": [],
   "source": []
  }
 ],
 "metadata": {
  "kernelspec": {
   "display_name": "Python 3",
   "language": "python",
   "name": "python3"
  },
  "language_info": {
   "codemirror_mode": {
    "name": "ipython",
    "version": 3
   },
   "file_extension": ".py",
   "mimetype": "text/x-python",
   "name": "python",
   "nbconvert_exporter": "python",
   "pygments_lexer": "ipython3",
   "version": "3.6.5"
  }
 },
 "nbformat": 4,
 "nbformat_minor": 2
}
