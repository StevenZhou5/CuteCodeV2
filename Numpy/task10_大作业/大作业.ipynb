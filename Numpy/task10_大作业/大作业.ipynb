{
 "cells": [
  {
   "cell_type": "code",
   "execution_count": 25,
   "metadata": {},
   "outputs": [
    {
     "name": "stdout",
     "output_type": "stream",
     "text": [
      "['DESCR', 'data', 'feature_names', 'target', 'target_names']\n",
      "Iris Plants Database\n",
      "====================\n",
      "\n",
      "Notes\n",
      "-----\n",
      "Data Set Characteristics:\n",
      "    :Number of Instances: 150 (50 in each of three classes)\n",
      "    :Number of Attributes: 4 numeric, predictive attributes and the class\n",
      "    :Attribute Information:\n",
      "        - sepal length in cm\n",
      "        - sepal width in cm\n",
      "        - petal length in cm\n",
      "        - petal width in cm\n",
      "        - class:\n",
      "                - Iris-Setosa\n",
      "                - Iris-Versicolour\n",
      "                - Iris-Virginica\n",
      "    :Summary Statistics:\n",
      "\n",
      "    ============== ==== ==== ======= ===== ====================\n",
      "                    Min  Max   Mean    SD   Class Correlation\n",
      "    ============== ==== ==== ======= ===== ====================\n",
      "    sepal length:   4.3  7.9   5.84   0.83    0.7826\n",
      "    sepal width:    2.0  4.4   3.05   0.43   -0.4194\n",
      "    petal length:   1.0  6.9   3.76   1.76    0.9490  (high!)\n",
      "    petal width:    0.1  2.5   1.20  0.76     0.9565  (high!)\n",
      "    ============== ==== ==== ======= ===== ====================\n",
      "\n",
      "    :Missing Attribute Values: None\n",
      "    :Class Distribution: 33.3% for each of 3 classes.\n",
      "    :Creator: R.A. Fisher\n",
      "    :Donor: Michael Marshall (MARSHALL%PLU@io.arc.nasa.gov)\n",
      "    :Date: July, 1988\n",
      "\n",
      "This is a copy of UCI ML iris datasets.\n",
      "http://archive.ics.uci.edu/ml/datasets/Iris\n",
      "\n",
      "The famous Iris database, first used by Sir R.A Fisher\n",
      "\n",
      "This is perhaps the best known database to be found in the\n",
      "pattern recognition literature.  Fisher's paper is a classic in the field and\n",
      "is referenced frequently to this day.  (See Duda & Hart, for example.)  The\n",
      "data set contains 3 classes of 50 instances each, where each class refers to a\n",
      "type of iris plant.  One class is linearly separable from the other 2; the\n",
      "latter are NOT linearly separable from each other.\n",
      "\n",
      "References\n",
      "----------\n",
      "   - Fisher,R.A. \"The use of multiple measurements in taxonomic problems\"\n",
      "     Annual Eugenics, 7, Part II, 179-188 (1936); also in \"Contributions to\n",
      "     Mathematical Statistics\" (John Wiley, NY, 1950).\n",
      "   - Duda,R.O., & Hart,P.E. (1973) Pattern Classification and Scene Analysis.\n",
      "     (Q327.D83) John Wiley & Sons.  ISBN 0-471-22361-1.  See page 218.\n",
      "   - Dasarathy, B.V. (1980) \"Nosing Around the Neighborhood: A New System\n",
      "     Structure and Classification Rule for Recognition in Partially Exposed\n",
      "     Environments\".  IEEE Transactions on Pattern Analysis and Machine\n",
      "     Intelligence, Vol. PAMI-2, No. 1, 67-71.\n",
      "   - Gates, G.W. (1972) \"The Reduced Nearest Neighbor Rule\".  IEEE Transactions\n",
      "     on Information Theory, May 1972, 431-433.\n",
      "   - See also: 1988 MLC Proceedings, 54-64.  Cheeseman et al\"s AUTOCLASS II\n",
      "     conceptual clustering system finds 3 classes in the data.\n",
      "   - Many, many more ...\n",
      "\n"
     ]
    }
   ],
   "source": [
    "from sklearn.datasets import load_iris\n",
    "data = load_iris()\n",
    "print(dir(data)) # 查看data所具有的属性或方法\n",
    "print(data.DESCR) # 查看数据集的简介\n",
    "\n",
    "import pandas as pd\n",
    "#直接读到pandas的数据框中\n",
    "test = pd.DataFrame(data=data.data, columns=data.feature_names)\n"
   ]
  },
  {
   "cell_type": "code",
   "execution_count": 26,
   "metadata": {},
   "outputs": [
    {
     "data": {
      "text/html": [
       "<div>\n",
       "<style scoped>\n",
       "    .dataframe tbody tr th:only-of-type {\n",
       "        vertical-align: middle;\n",
       "    }\n",
       "\n",
       "    .dataframe tbody tr th {\n",
       "        vertical-align: top;\n",
       "    }\n",
       "\n",
       "    .dataframe thead th {\n",
       "        text-align: right;\n",
       "    }\n",
       "</style>\n",
       "<table border=\"1\" class=\"dataframe\">\n",
       "  <thead>\n",
       "    <tr style=\"text-align: right;\">\n",
       "      <th></th>\n",
       "      <th>sepal length (cm)</th>\n",
       "      <th>sepal width (cm)</th>\n",
       "      <th>petal length (cm)</th>\n",
       "      <th>petal width (cm)</th>\n",
       "    </tr>\n",
       "  </thead>\n",
       "  <tbody>\n",
       "    <tr>\n",
       "      <th>0</th>\n",
       "      <td>5.1</td>\n",
       "      <td>3.5</td>\n",
       "      <td>1.4</td>\n",
       "      <td>0.2</td>\n",
       "    </tr>\n",
       "    <tr>\n",
       "      <th>1</th>\n",
       "      <td>4.9</td>\n",
       "      <td>3.0</td>\n",
       "      <td>1.4</td>\n",
       "      <td>0.2</td>\n",
       "    </tr>\n",
       "    <tr>\n",
       "      <th>2</th>\n",
       "      <td>4.7</td>\n",
       "      <td>3.2</td>\n",
       "      <td>1.3</td>\n",
       "      <td>0.2</td>\n",
       "    </tr>\n",
       "    <tr>\n",
       "      <th>3</th>\n",
       "      <td>4.6</td>\n",
       "      <td>3.1</td>\n",
       "      <td>1.5</td>\n",
       "      <td>0.2</td>\n",
       "    </tr>\n",
       "    <tr>\n",
       "      <th>4</th>\n",
       "      <td>5.0</td>\n",
       "      <td>3.6</td>\n",
       "      <td>1.4</td>\n",
       "      <td>0.2</td>\n",
       "    </tr>\n",
       "  </tbody>\n",
       "</table>\n",
       "</div>"
      ],
      "text/plain": [
       "   sepal length (cm)  sepal width (cm)  petal length (cm)  petal width (cm)\n",
       "0                5.1               3.5                1.4               0.2\n",
       "1                4.9               3.0                1.4               0.2\n",
       "2                4.7               3.2                1.3               0.2\n",
       "3                4.6               3.1                1.5               0.2\n",
       "4                5.0               3.6                1.4               0.2"
      ]
     },
     "execution_count": 26,
     "metadata": {},
     "output_type": "execute_result"
    }
   ],
   "source": [
    "test.head(5)"
   ]
  },
  {
   "cell_type": "markdown",
   "metadata": {},
   "source": [
    "### 1. 导入数据集\n",
    "\n",
    "【知识点：输入和输出】\n",
    "\n",
    "如何导入存在数字和文本的数据集？"
   ]
  },
  {
   "cell_type": "code",
   "execution_count": 61,
   "metadata": {},
   "outputs": [],
   "source": [
    "def change_dtype(x):\n",
    "    return float(x)  "
   ]
  },
  {
   "cell_type": "code",
   "execution_count": 167,
   "metadata": {},
   "outputs": [
    {
     "data": {
      "text/plain": [
       "array([5.1, 4.9, 4.7, 4.6, 5.0, 5.4, 4.6, 5.0, 4.4, 4.9, 5.4, 4.8, 4.8,\n",
       "       4.3, 5.8, 5.7, 5.4, 5.1, 5.7, 5.1, 5.4, 5.1, 4.6, 5.1, 4.8, 5.0,\n",
       "       5.0, 5.2, 5.2, 4.7, 4.8, 5.4, 5.2, 5.5, 4.9, 5.0, 5.5, 4.9, 4.4,\n",
       "       5.1, 5.0, 4.5, 4.4, 5.0, 5.1, 4.8, 5.1, 4.6, 5.3, 5.0, 7.0, 6.4,\n",
       "       6.9, 5.5, 6.5, 5.7, 6.3, 4.9, 6.6, 5.2, 5.0, 5.9, 6.0, 6.1, 5.6,\n",
       "       6.7, 5.6, 5.8, 6.2, 5.6, 5.9, 6.1, 6.3, 6.1, 6.4, 6.6, 6.8, 6.7,\n",
       "       6.0, 5.7, 5.5, 5.5, 5.8, 6.0, 5.4, 6.0, 6.7, 6.3, 5.6, 5.5, 5.5,\n",
       "       6.1, 5.8, 5.0, 5.6, 5.7, 5.7, 6.2, 5.1, 5.7, 6.3, 5.8, 7.1, 6.3,\n",
       "       6.5, 7.6, 4.9, 7.3, 6.7, 7.2, 6.5, 6.4, 6.8, 5.7, 5.8, 6.4, 6.5,\n",
       "       7.7, 7.7, 6.0, 6.9, 5.6, 7.7, 6.3, 6.7, 7.2, 6.2, 6.1, 6.4, 7.2,\n",
       "       7.4, 7.9, 6.4, 6.3, 6.1, 7.7, 6.3, 6.4, 6.0, 6.9, 6.7, 6.9, 5.8,\n",
       "       6.8, 6.7, 6.7, 6.3, 6.5, 6.2, 5.9], dtype=object)"
      ]
     },
     "execution_count": 167,
     "metadata": {},
     "output_type": "execute_result"
    }
   ],
   "source": [
    "import numpy as np\n",
    "\n",
    "\n",
    "# 导入数字和文本数据集\n",
    "datapath = './iris.data'\n",
    "data = np.genfromtxt(datapath,delimiter=\",\",dtype='object',names=True,converters={0:change_dtype,1:change_dtype,2:change_dtype,3:change_dtype})\n",
    "\n",
    "data['sepallength']"
   ]
  },
  {
   "cell_type": "code",
   "execution_count": 80,
   "metadata": {},
   "outputs": [
    {
     "data": {
      "text/plain": [
       "array([ True,  True,  True,  True,  True,  True,  True,  True,  True,\n",
       "        True,  True,  True,  True,  True,  True,  True,  True,  True,\n",
       "        True,  True,  True,  True,  True,  True,  True,  True,  True,\n",
       "        True,  True,  True,  True,  True,  True,  True,  True,  True,\n",
       "        True,  True,  True,  True,  True,  True,  True,  True,  True,\n",
       "        True,  True,  True,  True,  True, False, False, False, False,\n",
       "       False, False, False, False, False, False, False, False, False,\n",
       "       False, False, False, False, False, False, False, False, False,\n",
       "       False, False, False, False, False, False, False, False, False,\n",
       "       False, False, False, False, False, False, False, False, False,\n",
       "       False, False, False, False, False, False, False, False, False,\n",
       "       False, False, False, False, False, False, False, False, False,\n",
       "       False, False, False, False, False, False, False, False, False,\n",
       "       False, False, False, False, False, False, False, False, False,\n",
       "       False, False, False, False, False, False, False, False, False,\n",
       "       False, False, False, False, False, False, False, False, False,\n",
       "       False, False, False, False, False, False])"
      ]
     },
     "execution_count": 80,
     "metadata": {},
     "output_type": "execute_result"
    }
   ],
   "source": [
    "data['species']==b'Iris-setosa'"
   ]
  },
  {
   "cell_type": "markdown",
   "metadata": {},
   "source": [
    "### 2. 求出鸢尾属植物萼片长度的平均值、中位数和标准差（第1列，sepallength）\n",
    "\n",
    "【知识点：统计相关】\n",
    "\n",
    "如何计算numpy数组的均值，中位数，标准差？"
   ]
  },
  {
   "cell_type": "code",
   "execution_count": 68,
   "metadata": {},
   "outputs": [
    {
     "name": "stdout",
     "output_type": "stream",
     "text": [
      "the mean of sepallength: 5.843333333333335\n",
      "the median of sepallength: 5.8\n",
      "the std of sepallength: 0.8253012917851409\n"
     ]
    }
   ],
   "source": [
    "# 均值\n",
    "print(\"the mean of sepallength:\",np.mean(data['sepallength']),)\n",
    "\n",
    "#中位数\n",
    "print(\"the median of sepallength:\",np.median(data['sepallength']),)\n",
    "\n",
    "#标准差\n",
    "print(\"the std of sepallength:\",np.std(data['sepallength']),)"
   ]
  },
  {
   "cell_type": "markdown",
   "metadata": {},
   "source": [
    "### 3. 创建一种标准化形式的鸢尾属植物萼片长度，其值正好介于0和1之间，这样最小值为0，最大值为1（第1列，sepallength）。\n",
    "\n",
    "【知识点：统计相关】\n",
    "\n",
    "如何标准化数组？"
   ]
  },
  {
   "cell_type": "code",
   "execution_count": 78,
   "metadata": {},
   "outputs": [
    {
     "name": "stderr",
     "output_type": "stream",
     "text": [
      "C:\\Users\\Administrator\\Anaconda3\\lib\\site-packages\\numpy\\core\\_methods.py:26: RuntimeWarning: invalid value encountered in reduce\n",
      "  return umr_maximum(a, axis, None, out, keepdims)\n",
      "C:\\Users\\Administrator\\Anaconda3\\lib\\site-packages\\numpy\\core\\_methods.py:29: RuntimeWarning: invalid value encountered in reduce\n",
      "  return umr_minimum(a, axis, None, out, keepdims)\n"
     ]
    }
   ],
   "source": [
    "# 最大最小值初始化\n",
    "s_max,s_min = np.amax(data['sepallength']), np.amin(data['sepallength'])\n",
    "\n",
    "new_sepallength = (data['sepallength'] - s_min)/(s_max - s_min)\n",
    "\n",
    "\n",
    "data['sepallength'] = new_sepallength"
   ]
  },
  {
   "cell_type": "markdown",
   "metadata": {},
   "source": [
    "### 4. 找到鸢尾属植物萼片长度的第5和第95百分位数（第1列，sepallength）。\n",
    "\n",
    "【知识点：统计相关】\n",
    "\n",
    "如何找到numpy数组的百分位数？"
   ]
  },
  {
   "cell_type": "code",
   "execution_count": 69,
   "metadata": {},
   "outputs": [
    {
     "name": "stdout",
     "output_type": "stream",
     "text": [
      "the 5% and 95% pre of sepallength:  [4.6 7.254999999999998]\n"
     ]
    }
   ],
   "source": [
    "# 5,95的分位数\n",
    "\n",
    "print(\"the 5% and 95% pre of sepallength: \", np.percentile(data['sepallength'],[5,95]))"
   ]
  },
  {
   "cell_type": "markdown",
   "metadata": {},
   "source": [
    "### 5. 把iris_data数据集中的20个随机位置修改为np.nan值。\n",
    "\n",
    "【知识点：随机抽样】\n",
    "\n",
    "如何在数组中的随机位置修改值？"
   ]
  },
  {
   "cell_type": "code",
   "execution_count": 70,
   "metadata": {},
   "outputs": [
    {
     "data": {
      "text/plain": [
       "(5.4, 3.4, 1.7, 0.2, b'Iris-setosa')"
      ]
     },
     "execution_count": 70,
     "metadata": {},
     "output_type": "execute_result"
    }
   ],
   "source": [
    "# 随机位置修改\n",
    "\n",
    "data[20]"
   ]
  },
  {
   "cell_type": "code",
   "execution_count": 73,
   "metadata": {},
   "outputs": [
    {
     "data": {
      "text/plain": [
       "(nan, nan, nan, nan, nan)"
      ]
     },
     "execution_count": 73,
     "metadata": {},
     "output_type": "execute_result"
    }
   ],
   "source": [
    "data[20]=np.nan\n",
    "data[20]"
   ]
  },
  {
   "cell_type": "markdown",
   "metadata": {},
   "source": [
    "### 6. 在iris_data的sepallength中查找缺失值的个数和位置（第1列）。\n",
    "\n",
    "【知识点：逻辑函数、搜索】\n",
    "\n",
    "如何在numpy数组中找到缺失值的位置？"
   ]
  },
  {
   "cell_type": "code",
   "execution_count": null,
   "metadata": {},
   "outputs": [],
   "source": []
  },
  {
   "cell_type": "markdown",
   "metadata": {},
   "source": [
    "### 7. 筛选具有 sepallength（第1列）< 5.0 并且 petallength（第3列）> 1.5 的 iris_data行。\n",
    "\n",
    "【知识点：搜索】\n",
    "\n",
    "如何根据两个或多个条件筛选numpy数组？"
   ]
  },
  {
   "cell_type": "code",
   "execution_count": 84,
   "metadata": {},
   "outputs": [
    {
     "data": {
      "text/plain": [
       "array([(4.8, 3.4, 1.6, 0.2, b'Iris-setosa'),\n",
       "       (4.8, 3.4, 1.9, 0.2, b'Iris-setosa'),\n",
       "       (4.7, 3.2, 1.6, 0.2, b'Iris-setosa'),\n",
       "       (4.8, 3.1, 1.6, 0.2, b'Iris-setosa'),\n",
       "       (4.9, 2.4, 3.3, 1.0, b'Iris-versicolor'),\n",
       "       (4.9, 2.5, 4.5, 1.7, b'Iris-virginica')],\n",
       "      dtype=[('sepallength', 'O'), ('sepalwidth', 'O'), ('petallength', 'O'), ('petalwidth', 'O'), ('species', 'O')])"
      ]
     },
     "execution_count": 84,
     "metadata": {},
     "output_type": "execute_result"
    }
   ],
   "source": [
    "data[(data['sepallength']<5.0 ) & (data['petallength'] >1.5)]"
   ]
  },
  {
   "cell_type": "markdown",
   "metadata": {},
   "source": [
    "### 8. 选择没有任何 nan 值的 iris_data行。\n",
    "\n",
    "【知识点：逻辑函数、搜索】\n",
    "\n",
    "如何从numpy数组中删除包含缺失值的行？"
   ]
  },
  {
   "cell_type": "code",
   "execution_count": null,
   "metadata": {},
   "outputs": [],
   "source": []
  },
  {
   "cell_type": "markdown",
   "metadata": {},
   "source": [
    "### 9. 计算 iris_data 中sepalLength（第1列）和petalLength（第3列）之间的相关系数。\n",
    "\n",
    "【知识点：统计相关】\n",
    "\n",
    "如何计算numpy数组两列之间的相关系数？"
   ]
  },
  {
   "cell_type": "code",
   "execution_count": 109,
   "metadata": {},
   "outputs": [
    {
     "data": {
      "text/plain": [
       "array([[1.        , 0.87175416],\n",
       "       [0.87175416, 1.        ]])"
      ]
     },
     "execution_count": 109,
     "metadata": {},
     "output_type": "execute_result"
    }
   ],
   "source": [
    "np.corrcoef(data['sepallength'].astype(float),data['petallength'].astype(float))\n",
    "\n",
    "# 如果没有astype(float) 会出现  np.corrcoef 'float' object has no attribute 'shape' 的问题"
   ]
  },
  {
   "cell_type": "markdown",
   "metadata": {},
   "source": [
    "### 10. 找出iris_data是否有任何缺失值。\n",
    "【知识点：逻辑函数】\n",
    "\n",
    "如何查找给定数组是否具有空值？"
   ]
  },
  {
   "cell_type": "code",
   "execution_count": 113,
   "metadata": {},
   "outputs": [
    {
     "data": {
      "text/plain": [
       "array([False, False, False, False, False, False, False, False, False,\n",
       "       False, False, False, False, False, False, False, False, False,\n",
       "       False, False, False, False, False, False, False, False, False,\n",
       "       False, False, False, False, False, False, False, False, False,\n",
       "       False, False, False, False, False, False, False, False, False,\n",
       "       False, False, False, False, False, False, False, False, False,\n",
       "       False, False, False, False, False, False, False, False, False,\n",
       "       False, False, False, False, False, False, False, False, False,\n",
       "       False, False, False, False, False, False, False, False, False,\n",
       "       False, False, False, False, False, False, False, False, False,\n",
       "       False, False, False, False, False, False, False, False, False,\n",
       "       False, False, False, False, False, False, False, False, False,\n",
       "       False, False, False, False, False, False, False, False, False,\n",
       "       False, False, False, False, False, False, False, False, False,\n",
       "       False, False, False, False, False, False, False, False, False,\n",
       "       False, False, False, False, False, False, False, False, False,\n",
       "       False, False, False, False, False, False])"
      ]
     },
     "execution_count": 113,
     "metadata": {},
     "output_type": "execute_result"
    }
   ],
   "source": [
    "x = data['sepallength'].astype(float)\n",
    "\n",
    "np.isnan(x)"
   ]
  },
  {
   "cell_type": "markdown",
   "metadata": {},
   "source": [
    "### 11. 在numpy数组中将所有出现的nan替换为0。\n",
    "\n",
    "【知识点：逻辑函数】\n",
    "\n",
    "如何在numpy数组中用0替换所有缺失值？"
   ]
  },
  {
   "cell_type": "code",
   "execution_count": 115,
   "metadata": {},
   "outputs": [
    {
     "data": {
      "text/plain": [
       "array([(5.1, 3.5, 1.4, 0.2, b'Iris-setosa'),\n",
       "       (4.9, 3.0, 1.4, 0.2, b'Iris-setosa'),\n",
       "       (4.7, 3.2, 1.3, 0.2, b'Iris-setosa'),\n",
       "       (4.6, 3.1, 1.5, 0.2, b'Iris-setosa'),\n",
       "       (5.0, 3.6, 1.4, 0.2, b'Iris-setosa'),\n",
       "       (5.4, 3.9, 1.7, 0.4, b'Iris-setosa'),\n",
       "       (4.6, 3.4, 1.4, 0.3, b'Iris-setosa'),\n",
       "       (5.0, 3.4, 1.5, 0.2, b'Iris-setosa'),\n",
       "       (4.4, 2.9, 1.4, 0.2, b'Iris-setosa'),\n",
       "       (4.9, 3.1, 1.5, 0.1, b'Iris-setosa'),\n",
       "       (5.4, 3.7, 1.5, 0.2, b'Iris-setosa'),\n",
       "       (4.8, 3.4, 1.6, 0.2, b'Iris-setosa'),\n",
       "       (4.8, 3.0, 1.4, 0.1, b'Iris-setosa'),\n",
       "       (4.3, 3.0, 1.1, 0.1, b'Iris-setosa'),\n",
       "       (5.8, 4.0, 1.2, 0.2, b'Iris-setosa'),\n",
       "       (5.7, 4.4, 1.5, 0.4, b'Iris-setosa'),\n",
       "       (5.4, 3.9, 1.3, 0.4, b'Iris-setosa'),\n",
       "       (5.1, 3.5, 1.4, 0.3, b'Iris-setosa'),\n",
       "       (5.7, 3.8, 1.7, 0.3, b'Iris-setosa'),\n",
       "       (5.1, 3.8, 1.5, 0.3, b'Iris-setosa'),\n",
       "       (5.4, 3.4, 1.7, 0.2, b'Iris-setosa'),\n",
       "       (5.1, 3.7, 1.5, 0.4, b'Iris-setosa'),\n",
       "       (4.6, 3.6, 1.0, 0.2, b'Iris-setosa'),\n",
       "       (5.1, 3.3, 1.7, 0.5, b'Iris-setosa'),\n",
       "       (4.8, 3.4, 1.9, 0.2, b'Iris-setosa'),\n",
       "       (5.0, 3.0, 1.6, 0.2, b'Iris-setosa'),\n",
       "       (5.0, 3.4, 1.6, 0.4, b'Iris-setosa'),\n",
       "       (5.2, 3.5, 1.5, 0.2, b'Iris-setosa'),\n",
       "       (5.2, 3.4, 1.4, 0.2, b'Iris-setosa'),\n",
       "       (4.7, 3.2, 1.6, 0.2, b'Iris-setosa'),\n",
       "       (4.8, 3.1, 1.6, 0.2, b'Iris-setosa'),\n",
       "       (5.4, 3.4, 1.5, 0.4, b'Iris-setosa'),\n",
       "       (5.2, 4.1, 1.5, 0.1, b'Iris-setosa'),\n",
       "       (5.5, 4.2, 1.4, 0.2, b'Iris-setosa'),\n",
       "       (4.9, 3.1, 1.5, 0.1, b'Iris-setosa'),\n",
       "       (5.0, 3.2, 1.2, 0.2, b'Iris-setosa'),\n",
       "       (5.5, 3.5, 1.3, 0.2, b'Iris-setosa'),\n",
       "       (4.9, 3.1, 1.5, 0.1, b'Iris-setosa'),\n",
       "       (4.4, 3.0, 1.3, 0.2, b'Iris-setosa'),\n",
       "       (5.1, 3.4, 1.5, 0.2, b'Iris-setosa'),\n",
       "       (5.0, 3.5, 1.3, 0.3, b'Iris-setosa'),\n",
       "       (4.5, 2.3, 1.3, 0.3, b'Iris-setosa'),\n",
       "       (4.4, 3.2, 1.3, 0.2, b'Iris-setosa'),\n",
       "       (5.0, 3.5, 1.6, 0.6, b'Iris-setosa'),\n",
       "       (5.1, 3.8, 1.9, 0.4, b'Iris-setosa'),\n",
       "       (4.8, 3.0, 1.4, 0.3, b'Iris-setosa'),\n",
       "       (5.1, 3.8, 1.6, 0.2, b'Iris-setosa'),\n",
       "       (4.6, 3.2, 1.4, 0.2, b'Iris-setosa'),\n",
       "       (5.3, 3.7, 1.5, 0.2, b'Iris-setosa'),\n",
       "       (5.0, 3.3, 1.4, 0.2, b'Iris-setosa'),\n",
       "       (7.0, 3.2, 4.7, 1.4, b'Iris-versicolor'),\n",
       "       (6.4, 3.2, 4.5, 1.5, b'Iris-versicolor'),\n",
       "       (6.9, 3.1, 4.9, 1.5, b'Iris-versicolor'),\n",
       "       (5.5, 2.3, 4.0, 1.3, b'Iris-versicolor'),\n",
       "       (6.5, 2.8, 4.6, 1.5, b'Iris-versicolor'),\n",
       "       (5.7, 2.8, 4.5, 1.3, b'Iris-versicolor'),\n",
       "       (6.3, 3.3, 4.7, 1.6, b'Iris-versicolor'),\n",
       "       (4.9, 2.4, 3.3, 1.0, b'Iris-versicolor'),\n",
       "       (6.6, 2.9, 4.6, 1.3, b'Iris-versicolor'),\n",
       "       (5.2, 2.7, 3.9, 1.4, b'Iris-versicolor'),\n",
       "       (5.0, 2.0, 3.5, 1.0, b'Iris-versicolor'),\n",
       "       (5.9, 3.0, 4.2, 1.5, b'Iris-versicolor'),\n",
       "       (6.0, 2.2, 4.0, 1.0, b'Iris-versicolor'),\n",
       "       (6.1, 2.9, 4.7, 1.4, b'Iris-versicolor'),\n",
       "       (5.6, 2.9, 3.6, 1.3, b'Iris-versicolor'),\n",
       "       (6.7, 3.1, 4.4, 1.4, b'Iris-versicolor'),\n",
       "       (5.6, 3.0, 4.5, 1.5, b'Iris-versicolor'),\n",
       "       (5.8, 2.7, 4.1, 1.0, b'Iris-versicolor'),\n",
       "       (6.2, 2.2, 4.5, 1.5, b'Iris-versicolor'),\n",
       "       (5.6, 2.5, 3.9, 1.1, b'Iris-versicolor'),\n",
       "       (5.9, 3.2, 4.8, 1.8, b'Iris-versicolor'),\n",
       "       (6.1, 2.8, 4.0, 1.3, b'Iris-versicolor'),\n",
       "       (6.3, 2.5, 4.9, 1.5, b'Iris-versicolor'),\n",
       "       (6.1, 2.8, 4.7, 1.2, b'Iris-versicolor'),\n",
       "       (6.4, 2.9, 4.3, 1.3, b'Iris-versicolor'),\n",
       "       (6.6, 3.0, 4.4, 1.4, b'Iris-versicolor'),\n",
       "       (6.8, 2.8, 4.8, 1.4, b'Iris-versicolor'),\n",
       "       (6.7, 3.0, 5.0, 1.7, b'Iris-versicolor'),\n",
       "       (6.0, 2.9, 4.5, 1.5, b'Iris-versicolor'),\n",
       "       (5.7, 2.6, 3.5, 1.0, b'Iris-versicolor'),\n",
       "       (5.5, 2.4, 3.8, 1.1, b'Iris-versicolor'),\n",
       "       (5.5, 2.4, 3.7, 1.0, b'Iris-versicolor'),\n",
       "       (5.8, 2.7, 3.9, 1.2, b'Iris-versicolor'),\n",
       "       (6.0, 2.7, 5.1, 1.6, b'Iris-versicolor'),\n",
       "       (5.4, 3.0, 4.5, 1.5, b'Iris-versicolor'),\n",
       "       (6.0, 3.4, 4.5, 1.6, b'Iris-versicolor'),\n",
       "       (6.7, 3.1, 4.7, 1.5, b'Iris-versicolor'),\n",
       "       (6.3, 2.3, 4.4, 1.3, b'Iris-versicolor'),\n",
       "       (5.6, 3.0, 4.1, 1.3, b'Iris-versicolor'),\n",
       "       (5.5, 2.5, 4.0, 1.3, b'Iris-versicolor'),\n",
       "       (5.5, 2.6, 4.4, 1.2, b'Iris-versicolor'),\n",
       "       (6.1, 3.0, 4.6, 1.4, b'Iris-versicolor'),\n",
       "       (5.8, 2.6, 4.0, 1.2, b'Iris-versicolor'),\n",
       "       (5.0, 2.3, 3.3, 1.0, b'Iris-versicolor'),\n",
       "       (5.6, 2.7, 4.2, 1.3, b'Iris-versicolor'),\n",
       "       (5.7, 3.0, 4.2, 1.2, b'Iris-versicolor'),\n",
       "       (5.7, 2.9, 4.2, 1.3, b'Iris-versicolor'),\n",
       "       (6.2, 2.9, 4.3, 1.3, b'Iris-versicolor'),\n",
       "       (5.1, 2.5, 3.0, 1.1, b'Iris-versicolor'),\n",
       "       (5.7, 2.8, 4.1, 1.3, b'Iris-versicolor'),\n",
       "       (6.3, 3.3, 6.0, 2.5, b'Iris-virginica'),\n",
       "       (5.8, 2.7, 5.1, 1.9, b'Iris-virginica'),\n",
       "       (7.1, 3.0, 5.9, 2.1, b'Iris-virginica'),\n",
       "       (6.3, 2.9, 5.6, 1.8, b'Iris-virginica'),\n",
       "       (6.5, 3.0, 5.8, 2.2, b'Iris-virginica'),\n",
       "       (7.6, 3.0, 6.6, 2.1, b'Iris-virginica'),\n",
       "       (4.9, 2.5, 4.5, 1.7, b'Iris-virginica'),\n",
       "       (7.3, 2.9, 6.3, 1.8, b'Iris-virginica'),\n",
       "       (6.7, 2.5, 5.8, 1.8, b'Iris-virginica'),\n",
       "       (7.2, 3.6, 6.1, 2.5, b'Iris-virginica'),\n",
       "       (6.5, 3.2, 5.1, 2.0, b'Iris-virginica'),\n",
       "       (6.4, 2.7, 5.3, 1.9, b'Iris-virginica'),\n",
       "       (6.8, 3.0, 5.5, 2.1, b'Iris-virginica'),\n",
       "       (5.7, 2.5, 5.0, 2.0, b'Iris-virginica'),\n",
       "       (5.8, 2.8, 5.1, 2.4, b'Iris-virginica'),\n",
       "       (6.4, 3.2, 5.3, 2.3, b'Iris-virginica'),\n",
       "       (6.5, 3.0, 5.5, 1.8, b'Iris-virginica'),\n",
       "       (7.7, 3.8, 6.7, 2.2, b'Iris-virginica'),\n",
       "       (7.7, 2.6, 6.9, 2.3, b'Iris-virginica'),\n",
       "       (6.0, 2.2, 5.0, 1.5, b'Iris-virginica'),\n",
       "       (6.9, 3.2, 5.7, 2.3, b'Iris-virginica'),\n",
       "       (5.6, 2.8, 4.9, 2.0, b'Iris-virginica'),\n",
       "       (7.7, 2.8, 6.7, 2.0, b'Iris-virginica'),\n",
       "       (6.3, 2.7, 4.9, 1.8, b'Iris-virginica'),\n",
       "       (6.7, 3.3, 5.7, 2.1, b'Iris-virginica'),\n",
       "       (7.2, 3.2, 6.0, 1.8, b'Iris-virginica'),\n",
       "       (6.2, 2.8, 4.8, 1.8, b'Iris-virginica'),\n",
       "       (6.1, 3.0, 4.9, 1.8, b'Iris-virginica'),\n",
       "       (6.4, 2.8, 5.6, 2.1, b'Iris-virginica'),\n",
       "       (7.2, 3.0, 5.8, 1.6, b'Iris-virginica'),\n",
       "       (7.4, 2.8, 6.1, 1.9, b'Iris-virginica'),\n",
       "       (7.9, 3.8, 6.4, 2.0, b'Iris-virginica'),\n",
       "       (6.4, 2.8, 5.6, 2.2, b'Iris-virginica'),\n",
       "       (6.3, 2.8, 5.1, 1.5, b'Iris-virginica'),\n",
       "       (6.1, 2.6, 5.6, 1.4, b'Iris-virginica'),\n",
       "       (7.7, 3.0, 6.1, 2.3, b'Iris-virginica'),\n",
       "       (6.3, 3.4, 5.6, 2.4, b'Iris-virginica'),\n",
       "       (6.4, 3.1, 5.5, 1.8, b'Iris-virginica'),\n",
       "       (6.0, 3.0, 4.8, 1.8, b'Iris-virginica'),\n",
       "       (6.9, 3.1, 5.4, 2.1, b'Iris-virginica'),\n",
       "       (6.7, 3.1, 5.6, 2.4, b'Iris-virginica'),\n",
       "       (6.9, 3.1, 5.1, 2.3, b'Iris-virginica'),\n",
       "       (5.8, 2.7, 5.1, 1.9, b'Iris-virginica'),\n",
       "       (6.8, 3.2, 5.9, 2.3, b'Iris-virginica'),\n",
       "       (6.7, 3.3, 5.7, 2.5, b'Iris-virginica'),\n",
       "       (6.7, 3.0, 5.2, 2.3, b'Iris-virginica'),\n",
       "       (6.3, 2.5, 5.0, 1.9, b'Iris-virginica'),\n",
       "       (6.5, 3.0, 5.2, 2.0, b'Iris-virginica'),\n",
       "       (6.2, 3.4, 5.4, 2.3, b'Iris-virginica'),\n",
       "       (5.9, 3.0, 5.1, 1.8, b'Iris-virginica')],\n",
       "      dtype=[('sepallength', 'O'), ('sepalwidth', 'O'), ('petallength', 'O'), ('petalwidth', 'O'), ('species', 'O')])"
      ]
     },
     "execution_count": 115,
     "metadata": {},
     "output_type": "execute_result"
    }
   ],
   "source": [
    "## 方法一，使用逻辑函数 nan_to_num\n",
    "np.nan_to_num(data)\n",
    "\n"
   ]
  },
  {
   "cell_type": "markdown",
   "metadata": {},
   "source": [
    "### 12. 找出鸢尾属植物物种中的唯一值和唯一值出现的数量。\n",
    "\n",
    "【知识点：数组操作】\n",
    "\n",
    "如何在numpy数组中查找唯一值的计数？"
   ]
  },
  {
   "cell_type": "code",
   "execution_count": 123,
   "metadata": {},
   "outputs": [
    {
     "data": {
      "text/plain": [
       "{b'Iris-setosa': 50, b'Iris-versicolor': 50, b'Iris-virginica': 50}"
      ]
     },
     "execution_count": 123,
     "metadata": {},
     "output_type": "execute_result"
    }
   ],
   "source": [
    "s_counts = {}\n",
    "for s in data['species']:\n",
    "    s_counts[s]=s_counts.get(s,0)+1\n",
    "\n",
    "s_counts"
   ]
  },
  {
   "cell_type": "markdown",
   "metadata": {},
   "source": [
    "### 13. 将 iris_data 的花瓣长度（第3列）以形成分类变量的形式显示。定义：Less than 3 --> ‘small’；3-5 --> ‘medium’；’>=5 --> ‘large’。\n",
    "\n",
    "【知识点：统计相关】\n",
    "\n",
    "如何将数字转换为分类（文本）数组？"
   ]
  },
  {
   "cell_type": "code",
   "execution_count": 140,
   "metadata": {},
   "outputs": [
    {
     "data": {
      "text/plain": [
       "['small',\n",
       " 'small',\n",
       " 'small',\n",
       " 'small',\n",
       " 'small',\n",
       " 'small',\n",
       " 'small',\n",
       " 'small',\n",
       " 'small',\n",
       " 'small',\n",
       " 'small',\n",
       " 'small',\n",
       " 'small',\n",
       " 'small',\n",
       " 'small',\n",
       " 'small',\n",
       " 'small',\n",
       " 'small',\n",
       " 'small',\n",
       " 'small',\n",
       " 'small',\n",
       " 'small',\n",
       " 'small',\n",
       " 'small',\n",
       " 'small',\n",
       " 'small',\n",
       " 'small',\n",
       " 'small',\n",
       " 'small',\n",
       " 'small',\n",
       " 'small',\n",
       " 'small',\n",
       " 'small',\n",
       " 'small',\n",
       " 'small',\n",
       " 'small',\n",
       " 'small',\n",
       " 'small',\n",
       " 'small',\n",
       " 'small',\n",
       " 'small',\n",
       " 'small',\n",
       " 'small',\n",
       " 'small',\n",
       " 'small',\n",
       " 'small',\n",
       " 'small',\n",
       " 'small',\n",
       " 'small',\n",
       " 'small',\n",
       " 'medium',\n",
       " 'medium',\n",
       " 'medium',\n",
       " 'medium',\n",
       " 'medium',\n",
       " 'medium',\n",
       " 'medium',\n",
       " 'medium',\n",
       " 'medium',\n",
       " 'medium',\n",
       " 'medium',\n",
       " 'medium',\n",
       " 'medium',\n",
       " 'medium',\n",
       " 'medium',\n",
       " 'medium',\n",
       " 'medium',\n",
       " 'medium',\n",
       " 'medium',\n",
       " 'medium',\n",
       " 'medium',\n",
       " 'medium',\n",
       " 'medium',\n",
       " 'medium',\n",
       " 'medium',\n",
       " 'medium',\n",
       " 'medium',\n",
       " 'large',\n",
       " 'medium',\n",
       " 'medium',\n",
       " 'medium',\n",
       " 'medium',\n",
       " 'medium',\n",
       " 'large',\n",
       " 'medium',\n",
       " 'medium',\n",
       " 'medium',\n",
       " 'medium',\n",
       " 'medium',\n",
       " 'medium',\n",
       " 'medium',\n",
       " 'medium',\n",
       " 'medium',\n",
       " 'medium',\n",
       " 'medium',\n",
       " 'medium',\n",
       " 'medium',\n",
       " 'medium',\n",
       " 'medium',\n",
       " 'medium',\n",
       " 'large',\n",
       " 'large',\n",
       " 'large',\n",
       " 'large',\n",
       " 'large',\n",
       " 'large',\n",
       " 'medium',\n",
       " 'large',\n",
       " 'large',\n",
       " 'large',\n",
       " 'large',\n",
       " 'large',\n",
       " 'large',\n",
       " 'large',\n",
       " 'large',\n",
       " 'large',\n",
       " 'large',\n",
       " 'large',\n",
       " 'large',\n",
       " 'large',\n",
       " 'large',\n",
       " 'medium',\n",
       " 'large',\n",
       " 'medium',\n",
       " 'large',\n",
       " 'large',\n",
       " 'medium',\n",
       " 'medium',\n",
       " 'large',\n",
       " 'large',\n",
       " 'large',\n",
       " 'large',\n",
       " 'large',\n",
       " 'large',\n",
       " 'large',\n",
       " 'large',\n",
       " 'large',\n",
       " 'large',\n",
       " 'medium',\n",
       " 'large',\n",
       " 'large',\n",
       " 'large',\n",
       " 'large',\n",
       " 'large',\n",
       " 'large',\n",
       " 'large',\n",
       " 'large',\n",
       " 'large',\n",
       " 'large',\n",
       " 'large']"
      ]
     },
     "execution_count": 140,
     "metadata": {},
     "output_type": "execute_result"
    }
   ],
   "source": [
    "\n",
    "\n",
    "# 排序\n",
    "petallength = np.digitize(data['petallength'].astype('float'), [0,3,5,10], right=False)\n",
    "\n",
    "label_map = {1: 'small', 2: 'medium', 3: 'large', 4: np.nan}\n",
    "\n",
    "petallength_map = [label_map[x] for x in petallength]\n",
    "\n",
    "petallength_map "
   ]
  },
  {
   "cell_type": "markdown",
   "metadata": {},
   "source": [
    "### 14. 在 iris_data 中创建一个新列，其中 volume 是 (pi x petallength x sepallength ^ 2）/ 3。\n",
    "\n",
    "【知识点：数组操作】\n",
    "\n",
    "如何从numpy数组的现有列创建新列？"
   ]
  },
  {
   "cell_type": "code",
   "execution_count": 192,
   "metadata": {},
   "outputs": [
    {
     "data": {
      "text/plain": [
       "array([1.4, 1.4, 1.3, 1.5, 1.4, 1.7, 1.4, 1.5, 1.4, 1.5, 1.5, 1.6, 1.4,\n",
       "       1.1, 1.2, 1.5, 1.3, 1.4, 1.7, 1.5, 1.7, 1.5, 1.0, 1.7, 1.9, 1.6,\n",
       "       1.6, 1.5, 1.4, 1.6, 1.6, 1.5, 1.5, 1.4, 1.5, 1.2, 1.3, 1.5, 1.3,\n",
       "       1.5, 1.3, 1.3, 1.3, 1.6, 1.9, 1.4, 1.6, 1.4, 1.5, 1.4, 4.7, 4.5,\n",
       "       4.9, 4.0, 4.6, 4.5, 4.7, 3.3, 4.6, 3.9, 3.5, 4.2, 4.0, 4.7, 3.6,\n",
       "       4.4, 4.5, 4.1, 4.5, 3.9, 4.8, 4.0, 4.9, 4.7, 4.3, 4.4, 4.8, 5.0,\n",
       "       4.5, 3.5, 3.8, 3.7, 3.9, 5.1, 4.5, 4.5, 4.7, 4.4, 4.1, 4.0, 4.4,\n",
       "       4.6, 4.0, 3.3, 4.2, 4.2, 4.2, 4.3, 3.0, 4.1, 6.0, 5.1, 5.9, 5.6,\n",
       "       5.8, 6.6, 4.5, 6.3, 5.8, 6.1, 5.1, 5.3, 5.5, 5.0, 5.1, 5.3, 5.5,\n",
       "       6.7, 6.9, 5.0, 5.7, 4.9, 6.7, 4.9, 5.7, 6.0, 4.8, 4.9, 5.6, 5.8,\n",
       "       6.1, 6.4, 5.6, 5.1, 5.6, 6.1, 5.6, 5.5, 4.8, 5.4, 5.6, 5.1, 5.1,\n",
       "       5.9, 5.7, 5.2, 5.0, 5.2, 5.4, 5.1], dtype=object)"
      ]
     },
     "execution_count": 192,
     "metadata": {},
     "output_type": "execute_result"
    }
   ],
   "source": [
    "data['petallength']"
   ]
  },
  {
   "cell_type": "code",
   "execution_count": 207,
   "metadata": {},
   "outputs": [],
   "source": [
    "# 计算新的一列的数值\n",
    "\n",
    "petallength = data['petallength'].astype('float')\n",
    "sepallength = data['sepallength'].astype('float')\n",
    "\n",
    "new_volume = (np.pi * petallength * (sepallength **2))/3\n",
    "\n",
    "new_volume = new_volume.astype('object')"
   ]
  },
  {
   "cell_type": "code",
   "execution_count": 211,
   "metadata": {},
   "outputs": [],
   "source": [
    "# \n",
    "new_data =  np.column_stack((data,new_volume.T))"
   ]
  },
  {
   "cell_type": "code",
   "execution_count": 216,
   "metadata": {},
   "outputs": [
    {
     "data": {
      "text/plain": [
       "array([38.13265162927291, 35.200498485922445, 30.0723720777127,\n",
       "       33.238050274980004], dtype=object)"
      ]
     },
     "execution_count": 216,
     "metadata": {},
     "output_type": "execute_result"
    }
   ],
   "source": [
    "new_data[:4,1]"
   ]
  },
  {
   "cell_type": "markdown",
   "metadata": {},
   "source": [
    "### 15. 随机抽鸢尾属植物的种类，使得Iris-setosa的数量是Iris-versicolor和Iris-virginica数量的两倍。\n",
    "\n",
    "【知识点：随机抽样】\n",
    "\n",
    "如何在numpy中进行概率抽样？"
   ]
  },
  {
   "cell_type": "code",
   "execution_count": null,
   "metadata": {},
   "outputs": [],
   "source": []
  },
  {
   "cell_type": "markdown",
   "metadata": {},
   "source": [
    "### 16. 根据 sepallength 列对数据集进行排序。\n",
    "\n",
    "【知识点：排序】\n",
    "\n",
    "如何按列对2D数组进行排序？"
   ]
  },
  {
   "cell_type": "code",
   "execution_count": 220,
   "metadata": {},
   "outputs": [],
   "source": [
    "sort_data = sorted(data,key = lambda x:x[0])"
   ]
  },
  {
   "cell_type": "markdown",
   "metadata": {},
   "source": [
    "### 17. 在鸢尾属植物数据集中找到最常见的花瓣长度值（第3列）。\n",
    "\n",
    "【知识点：数组操作】\n",
    "\n",
    "如何在numpy数组中找出出现次数最多的值？"
   ]
  },
  {
   "cell_type": "code",
   "execution_count": 223,
   "metadata": {},
   "outputs": [],
   "source": [
    "petallength = list( data['petallength'])"
   ]
  },
  {
   "cell_type": "code",
   "execution_count": 234,
   "metadata": {},
   "outputs": [
    {
     "data": {
      "text/plain": [
       "1.5"
      ]
     },
     "execution_count": 234,
     "metadata": {},
     "output_type": "execute_result"
    }
   ],
   "source": [
    "petallength_count = {}\n",
    "\n",
    "for p in petallength :\n",
    "    petallength_count[p] = petallength_count.get(p,0)+1\n",
    "    \n",
    "petallength_count = sorted(petallength_count.items(),key = lambda x:-x[1])\n",
    "petallength_count[0][0]"
   ]
  },
  {
   "cell_type": "code",
   "execution_count": 238,
   "metadata": {},
   "outputs": [
    {
     "name": "stdout",
     "output_type": "stream",
     "text": [
      "[1.0 1.1 1.2 1.3 1.4 1.5 1.6 1.7 1.9 3.0 3.3 3.5 3.6 3.7 3.8 3.9 4.0 4.1\n",
      " 4.2 4.3 4.4 4.5 4.6 4.7 4.8 4.9 5.0 5.1 5.2 5.3 5.4 5.5 5.6 5.7 5.8 5.9\n",
      " 6.0 6.1 6.3 6.4 6.6 6.7 6.9] [ 1  1  2  7 12 14  7  4  2  1  2  2  1  1  1  3  5  3  4  2  4  8  3  5\n",
      "  4  5  4  8  2  2  2  3  6  3  3  2  2  3  1  1  1  2  1]\n"
     ]
    }
   ],
   "source": [
    "\n",
    "vals, counts = np.unique(data['petallength'], return_counts=True)\n",
    "print(vals,counts)\n",
    "\n",
    "np.argmax()"
   ]
  },
  {
   "cell_type": "markdown",
   "metadata": {},
   "source": [
    "### 18. 在鸢尾花数据集的 petalwidth（第4列）中查找第一次出现的值大于1.0的位置。\n",
    "\n",
    "【知识点：搜索】\n",
    "\n",
    "如何找到第一次出现大于给定值的位置？"
   ]
  },
  {
   "cell_type": "code",
   "execution_count": 239,
   "metadata": {},
   "outputs": [
    {
     "data": {
      "text/plain": [
       "array([50], dtype=int64)"
      ]
     },
     "execution_count": 239,
     "metadata": {},
     "output_type": "execute_result"
    }
   ],
   "source": [
    "\n",
    "np.argwhere(data['petalwidth'].astype(float) > 1.0)[0]\n"
   ]
  },
  {
   "cell_type": "code",
   "execution_count": null,
   "metadata": {},
   "outputs": [],
   "source": []
  }
 ],
 "metadata": {
  "kernelspec": {
   "display_name": "Python 3",
   "language": "python",
   "name": "python3"
  },
  "language_info": {
   "codemirror_mode": {
    "name": "ipython",
    "version": 3
   },
   "file_extension": ".py",
   "mimetype": "text/x-python",
   "name": "python",
   "nbconvert_exporter": "python",
   "pygments_lexer": "ipython3",
   "version": "3.6.5"
  }
 },
 "nbformat": 4,
 "nbformat_minor": 2
}
