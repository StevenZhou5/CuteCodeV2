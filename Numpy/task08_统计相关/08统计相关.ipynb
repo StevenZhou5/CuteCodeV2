{
 "cells": [
  {
   "cell_type": "markdown",
   "metadata": {},
   "source": [
    "## 08.统计相关\n",
    "\n",
    "* 次序统计\n",
    "\n",
    "> * 计算最小值 numpy.amin\n",
    "> * 计算最大值 numpy.amax\n",
    "> * 计算极差 numpy.ptp\n",
    "> * 计算分位数 numpy.percentile\n",
    "\n",
    "* 均值与方差\n",
    "\n",
    "> * 计算中位数 numpy.media\n",
    "> * 计算平均值 numpy.mean\n",
    "> * 计算加权平均值 numpy.average\n",
    "> * 计算方差 numpy.var\n",
    "> * 计算标准差 numpy.std\n",
    "\n",
    "\n",
    "* 相关\n",
    "\n",
    "> * 计算协方差矩阵 numpy.cov\n",
    "> * 计算相关系数 numpy.corrcoef\n",
    "> * 直方图 numpy.digitize\n"
   ]
  },
  {
   "cell_type": "markdown",
   "metadata": {},
   "source": [
    "### 8.1 次序统计\n",
    "\n",
    "**a. 计算最小值**\n",
    "\n",
    "* numpy函数说明\n",
    "\n",
    "  numpy.amin(a,axis=None,out=None,keepdims=np._NoValue, initial=np._NoValue, where=np._NoValue)\n",
    "  \n",
    "  按照axis维度返回数组最小值\n",
    "  \n",
    "  参数说明:\n",
    "  \n",
    "  * a: 数组\n",
    "  \n",
    "  * axis: 不指定表示返回整体的最小值，axis = 0 返回每列的最小值（len（返回数组） = len（原数组[0]）） ,axis=1返回每行的最小值\n",
    "  \n",
    "  * out:\n",
    "  \n",
    "  * keepdims:\n",
    "  \n",
    "  \n",
    " 【例1】计算最小值"
   ]
  },
  {
   "cell_type": "code",
   "execution_count": 24,
   "metadata": {},
   "outputs": [],
   "source": [
    "import numpy as np\n",
    "\n",
    "x = np.array([[0,2,3,4],\n",
    "            [2,0,1,1],\n",
    "            [12,11,0,14],\n",
    "            [15,16,17,18],\n",
    "            [19,20,21,0]])"
   ]
  },
  {
   "cell_type": "code",
   "execution_count": 12,
   "metadata": {},
   "outputs": [
    {
     "data": {
      "text/plain": [
       "1"
      ]
     },
     "execution_count": 12,
     "metadata": {},
     "output_type": "execute_result"
    }
   ],
   "source": [
    "# 基本使用\n",
    "np.amin(x)"
   ]
  },
  {
   "cell_type": "code",
   "execution_count": 25,
   "metadata": {},
   "outputs": [
    {
     "data": {
      "text/plain": [
       "array([0, 0, 0, 0])"
      ]
     },
     "execution_count": 25,
     "metadata": {},
     "output_type": "execute_result"
    }
   ],
   "source": [
    "# axis = 0 返回每列的最小值，\n",
    "np.amin(x,axis=0)"
   ]
  },
  {
   "cell_type": "code",
   "execution_count": 20,
   "metadata": {},
   "outputs": [
    {
     "data": {
      "text/plain": [
       "array([ 1,  1, 11, 15, 19])"
      ]
     },
     "execution_count": 20,
     "metadata": {},
     "output_type": "execute_result"
    }
   ],
   "source": [
    "# axis = 1 返回每行的最小值\n",
    "np.amin(x,axis=1)"
   ]
  },
  {
   "cell_type": "markdown",
   "metadata": {},
   "source": [
    "**b. 计算最大值**\n",
    "​\n",
    "* numpy函数说明\n",
    "​\n",
    "  numpy.amax(a,axis=None,out=None,keepdims=np._NoValue, initial=np._NoValue, where=np._NoValue)\n",
    "  \n",
    "  按照axis维度返回数组最大值（同最小值）\n",
    "  \n",
    "  参数说明:\n",
    "  \n",
    "  * a: 数组\n",
    "  \n",
    "  * axis: 不指定表示返回整体的最大值，axis = 0 返回每列的最大值（len（返回数组） = len（原数组[0]）） ,axis=1返回每行的最大值\n",
    "  \n",
    "  * out:\n",
    "  \n",
    "  * keepdims:\n",
    "  \n",
    "  \n",
    " 【例2】计算最大值\n"
   ]
  },
  {
   "cell_type": "code",
   "execution_count": 26,
   "metadata": {},
   "outputs": [],
   "source": [
    "x = np.array([[0,2,3,4],\n",
    "            [2,0,1,1],\n",
    "            [12,11,0,14],\n",
    "            [15,16,17,18],\n",
    "            [19,20,21,0]])"
   ]
  },
  {
   "cell_type": "code",
   "execution_count": 27,
   "metadata": {},
   "outputs": [
    {
     "data": {
      "text/plain": [
       "21"
      ]
     },
     "execution_count": 27,
     "metadata": {},
     "output_type": "execute_result"
    }
   ],
   "source": [
    "# 整体的最大值\n",
    "\n",
    "np.amax(x)"
   ]
  },
  {
   "cell_type": "code",
   "execution_count": 28,
   "metadata": {},
   "outputs": [
    {
     "data": {
      "text/plain": [
       "array([19, 20, 21, 18])"
      ]
     },
     "execution_count": 28,
     "metadata": {},
     "output_type": "execute_result"
    }
   ],
   "source": [
    "# axis = 0 ，返回每列的最大值  （len（返回数组） = len（原数组[0]））\n",
    "\n",
    "np.amax(x, axis=0)"
   ]
  },
  {
   "cell_type": "code",
   "execution_count": 29,
   "metadata": {},
   "outputs": [
    {
     "data": {
      "text/plain": [
       "array([ 4,  2, 14, 18, 21])"
      ]
     },
     "execution_count": 29,
     "metadata": {},
     "output_type": "execute_result"
    }
   ],
   "source": [
    "# # axis = 1，返回每行的最大值  （len（返回数组） = len（原数组））\n",
    "\n",
    "np.amax(x,axis = 1)"
   ]
  },
  {
   "cell_type": "markdown",
   "metadata": {},
   "source": [
    "**c. 计算极差**\n",
    "​\n",
    "* numpy函数说明\n",
    "​\n",
    "  numpy.ptp(a,axis=None,out=None,keepdims=np._NoValue)\n",
    "  \n",
    "  按照axis维度返回数组极差\n",
    "  \n",
    "  参数说明:\n",
    "  \n",
    "  * a: 数组\n",
    "  \n",
    "  * axis: 不指定表示返回整体的极差，axis = 0 返回每列的极差（len（返回数组） = len（原数组[0]）） ,axis=1返回每行的极差\n",
    "  \n",
    "  * out:\n",
    "  \n",
    "  * keepdims:\n",
    "  \n",
    "  \n",
    " 【例3】计算极差\n"
   ]
  },
  {
   "cell_type": "code",
   "execution_count": 31,
   "metadata": {},
   "outputs": [
    {
     "data": {
      "text/plain": [
       "array([[ 0,  8,  3],\n",
       "       [ 3,  3,  7],\n",
       "       [16,  0, 10],\n",
       "       [ 9, 19, 11],\n",
       "       [18,  3,  6]])"
      ]
     },
     "execution_count": 31,
     "metadata": {},
     "output_type": "execute_result"
    }
   ],
   "source": [
    "np.random.seed(2020)\n",
    "x = np.random.randint(0,20,size = (5,3))\n",
    "x"
   ]
  },
  {
   "cell_type": "code",
   "execution_count": 32,
   "metadata": {},
   "outputs": [
    {
     "data": {
      "text/plain": [
       "19"
      ]
     },
     "execution_count": 32,
     "metadata": {},
     "output_type": "execute_result"
    }
   ],
   "source": [
    "# 返回总体极差\n",
    "\n",
    "np.ptp(x)"
   ]
  },
  {
   "cell_type": "code",
   "execution_count": 33,
   "metadata": {},
   "outputs": [
    {
     "data": {
      "text/plain": [
       "array([18, 19,  8])"
      ]
     },
     "execution_count": 33,
     "metadata": {},
     "output_type": "execute_result"
    }
   ],
   "source": [
    "# 按axis = 0 返回极差\n",
    "np.ptp(x,axis=0)"
   ]
  },
  {
   "cell_type": "code",
   "execution_count": 34,
   "metadata": {},
   "outputs": [
    {
     "data": {
      "text/plain": [
       "array([ 8,  4, 16, 10, 15])"
      ]
     },
     "execution_count": 34,
     "metadata": {},
     "output_type": "execute_result"
    }
   ],
   "source": [
    "# 按axis = 1返回极差\n",
    "np.ptp(x,axis=1)"
   ]
  },
  {
   "cell_type": "markdown",
   "metadata": {},
   "source": [
    "**d. 计算分位数**\n",
    "​\n",
    "* numpy函数说明\n",
    "​\n",
    "  numpy.percentile(a,q,axis=None,out = None,overwrite_input=False, interpolation='linear', keepdims=False)\n",
    "  \n",
    "  按照axis维度返回数组分位数\n",
    "  \n",
    "  参数说明:\n",
    "  \n",
    "  * a: array，数组\n",
    "  \n",
    "  * q: 介于[0-100]的float，计算几分位的参数，可以同时计算多个分位数，例计算[25,50]，百分之25和百分之50的分位数\n",
    "  \n",
    "  * axis: 计算分位数的维度，axis = 0/1\n",
    "\n",
    "   **问题：分数位的计算？**\n",
    "   \n",
    "   参考文章 https://www.cnblogs.com/gispathfinder/p/5770091.html\n",
    "  \n",
    " 【例4】计算分位数\n"
   ]
  },
  {
   "cell_type": "code",
   "execution_count": 36,
   "metadata": {},
   "outputs": [
    {
     "data": {
      "text/plain": [
       "array([[ 0,  8,  3],\n",
       "       [ 3,  3,  7],\n",
       "       [16,  0, 10],\n",
       "       [ 9, 19, 11],\n",
       "       [18,  3,  6]])"
      ]
     },
     "execution_count": 36,
     "metadata": {},
     "output_type": "execute_result"
    }
   ],
   "source": [
    "np.random.seed(2020)\n",
    "x = np.random.randint(0,20,size = (5,3))\n",
    "x"
   ]
  },
  {
   "cell_type": "code",
   "execution_count": 38,
   "metadata": {},
   "outputs": [
    {
     "data": {
      "text/plain": [
       "array([3., 7.])"
      ]
     },
     "execution_count": 38,
     "metadata": {},
     "output_type": "execute_result"
    }
   ],
   "source": [
    "# 计算整体数组的25%和 50%分位数\n",
    "\n",
    "np.percentile(x,[25,50])"
   ]
  },
  {
   "cell_type": "code",
   "execution_count": 41,
   "metadata": {},
   "outputs": [
    {
     "data": {
      "text/plain": [
       "array([[3., 3., 6.],\n",
       "       [9., 3., 7.]])"
      ]
     },
     "execution_count": 41,
     "metadata": {},
     "output_type": "execute_result"
    }
   ],
   "source": [
    "# 计算axis = 0 的分位数\n",
    "np.percentile(x,[25,50],axis = 0)"
   ]
  },
  {
   "cell_type": "code",
   "execution_count": 40,
   "metadata": {},
   "outputs": [
    {
     "data": {
      "text/plain": [
       "array([[ 1.5,  3. ,  5. , 10. ,  4.5],\n",
       "       [ 3. ,  3. , 10. , 11. ,  6. ]])"
      ]
     },
     "execution_count": 40,
     "metadata": {},
     "output_type": "execute_result"
    }
   ],
   "source": [
    "# 计算axis = 1 的分位数\n",
    "np.percentile(x,[25,50],axis = 1)"
   ]
  },
  {
   "cell_type": "code",
   "execution_count": 47,
   "metadata": {},
   "outputs": [
    {
     "data": {
      "text/plain": [
       "1.0"
      ]
     },
     "execution_count": 47,
     "metadata": {},
     "output_type": "execute_result"
    }
   ],
   "source": [
    "## \n",
    "\n",
    "a = np.array([1,1,1,2,4])\n",
    "\n",
    "np.percentile(a,20)"
   ]
  },
  {
   "cell_type": "markdown",
   "metadata": {},
   "source": [
    "### 8.2 均值和方差\n",
    "\n",
    "**a. 计算中位数**\n",
    "\n",
    "* numpy函数说明\n",
    "\n",
    "  numpy.median(a, axis=None, out=None, overwrite_input=False, keepdims=False)\n",
    "  \n",
    "  按照axis维度返回数组中位数\n",
    "  \n",
    "  参数说明:\n",
    "  \n",
    "  * a: 数组\n",
    "  \n",
    "  * axis: 不指定表示返回整体的中位数，axis = 0 返回每列的中位数（len（返回数组） = len（原数组[0]）） ,axis=1返回每行的中位数\n",
    "  \n",
    "  * out:\n",
    "  \n",
    "  * overwrite_input：\n",
    "  \n",
    "  * keepdims:\n",
    "  \n",
    "  \n",
    " 【例5】计算中位数"
   ]
  },
  {
   "cell_type": "code",
   "execution_count": 49,
   "metadata": {},
   "outputs": [
    {
     "data": {
      "text/plain": [
       "array([[ 0,  8,  3,  3],\n",
       "       [ 3,  7, 16,  0],\n",
       "       [10,  9, 19, 11],\n",
       "       [18,  3,  6,  5],\n",
       "       [16,  8,  6,  1]])"
      ]
     },
     "execution_count": 49,
     "metadata": {},
     "output_type": "execute_result"
    }
   ],
   "source": [
    "np.random.seed(2020)\n",
    "x = np.random.randint(0,20,size=(5,4))\n",
    "x"
   ]
  },
  {
   "cell_type": "code",
   "execution_count": 50,
   "metadata": {},
   "outputs": [
    {
     "data": {
      "text/plain": [
       "6.5"
      ]
     },
     "execution_count": 50,
     "metadata": {},
     "output_type": "execute_result"
    }
   ],
   "source": [
    "# 计算整体的中位数\n",
    "np.median(x)"
   ]
  },
  {
   "cell_type": "code",
   "execution_count": 51,
   "metadata": {},
   "outputs": [
    {
     "data": {
      "text/plain": [
       "array([10.,  8.,  6.,  3.])"
      ]
     },
     "execution_count": 51,
     "metadata": {},
     "output_type": "execute_result"
    }
   ],
   "source": [
    "# 计算axis = 0 的中位数\n",
    "np.median(x,axis=0)"
   ]
  },
  {
   "cell_type": "code",
   "execution_count": 52,
   "metadata": {},
   "outputs": [
    {
     "data": {
      "text/plain": [
       "array([ 3. ,  5. , 10.5,  5.5,  7. ])"
      ]
     },
     "execution_count": 52,
     "metadata": {},
     "output_type": "execute_result"
    }
   ],
   "source": [
    "# 计算axis = 1中位数\n",
    "np.median(x,axis = 1)"
   ]
  },
  {
   "cell_type": "markdown",
   "metadata": {},
   "source": [
    "**b. 计算平均值**\n",
    "\n",
    "* numpy函数说明\n",
    "\n",
    "  numpy.mean(a, axis=None, dtype = None , out=None,  keepdims=False)\n",
    "  \n",
    "  按照axis维度返回数组中的平均值\n",
    "  "
   ]
  },
  {
   "cell_type": "markdown",
   "metadata": {},
   "source": [
    "**b. 计算加权平均数**\n",
    "\n",
    "* numpy函数说明\n",
    "\n",
    "  numpy.average(a, axis=None, weight = None, returned = False)\n",
    "  \n",
    "  按照axis维度返回数组中的加权平均值\n",
    "  \n",
    "  不加权的情况下,average函数和mean是一致的\n"
   ]
  },
  {
   "cell_type": "markdown",
   "metadata": {},
   "source": [
    "**c. 计算方差和标准差**\n",
    "\n",
    "* numpy函数说明\n",
    "\n",
    "  方差 numpy.val(a[, axis=None, dtype=None, out=None, ddof=0, keepdims=np._NoValue])\n",
    "  \n",
    "  标准差 numpy.std(a[, axis=None, dtype=None, out=None, ddof=0, keepdims=np._NoValue])\n",
    "  "
   ]
  },
  {
   "cell_type": "markdown",
   "metadata": {},
   "source": [
    "### 8.3 相关\n",
    "\n",
    "**a. 协方差矩阵**\n",
    "\n",
    "* numpy函数说明\n",
    "\n",
    "  numpy.cov(m, y=None, rowvar=True, bias=False, ddof=None, fweights=None,aweights=None)\n",
    "  \n",
    "  返回协方差矩阵,\n",
    "  \n",
    "  协方差表示的两个变量,变化趋势的相同程度，0表示 变量变化趋势相同，>0 表示 变化趋势是相同的， < 0 表示 变化趋势相反\n",
    "  \n",
    "\n",
    "  【例6】计算协方差"
   ]
  },
  {
   "cell_type": "code",
   "execution_count": 53,
   "metadata": {},
   "outputs": [],
   "source": [
    "x = [1,2,4,5,6]\n",
    "y = [0,2,5,6,7]"
   ]
  },
  {
   "cell_type": "code",
   "execution_count": 60,
   "metadata": {},
   "outputs": [
    {
     "data": {
      "text/plain": [
       "4.3"
      ]
     },
     "execution_count": 60,
     "metadata": {},
     "output_type": "execute_result"
    }
   ],
   "source": [
    "np.var(x,ddof=1)"
   ]
  },
  {
   "cell_type": "code",
   "execution_count": 56,
   "metadata": {},
   "outputs": [
    {
     "data": {
      "text/plain": [
       "array(8.5)"
      ]
     },
     "execution_count": 56,
     "metadata": {},
     "output_type": "execute_result"
    }
   ],
   "source": [
    "np.cov(y)"
   ]
  },
  {
   "cell_type": "code",
   "execution_count": 54,
   "metadata": {},
   "outputs": [
    {
     "data": {
      "text/plain": [
       "array([[4.3, 6. ],\n",
       "       [6. , 8.5]])"
      ]
     },
     "execution_count": 54,
     "metadata": {},
     "output_type": "execute_result"
    }
   ],
   "source": [
    "np.cov(x,y)"
   ]
  },
  {
   "cell_type": "markdown",
   "metadata": {},
   "source": [
    "**b. 计算相关系数**\n",
    "\n",
    "* numpy函数说明\n",
    "\n",
    "  numpy.corrcoef(x, y=None, rowvar=True, bias=np._NoValue, ddof=np._NoValue)\n",
    "  \n",
    "  相关系数 就是正则化后的协方差\n",
    "  \n",
    "  【例6】计算相关系数"
   ]
  },
  {
   "cell_type": "code",
   "execution_count": 61,
   "metadata": {},
   "outputs": [
    {
     "data": {
      "text/plain": [
       "array([[1.        , 0.99244754],\n",
       "       [0.99244754, 1.        ]])"
      ]
     },
     "execution_count": 61,
     "metadata": {},
     "output_type": "execute_result"
    }
   ],
   "source": [
    "np.corrcoef(x,y)"
   ]
  },
  {
   "cell_type": "markdown",
   "metadata": {},
   "source": [
    "**c. 直方图**\n",
    "\n",
    "* numpy函数说明\n",
    "\n",
    "  numpy.digitize(x, bins, right=False)\n",
    "  \n",
    "  x: numpy数组\n",
    "  \n",
    "  bins: 一维单调数组\n",
    "  \n",
    "  right: 间隔是否包含最右\n",
    "  \n",
    "  返回值:  x按照bins的升序或者降序排序后的索引号\n",
    "  \n",
    "  【例7】计算直方图"
   ]
  },
  {
   "cell_type": "code",
   "execution_count": 62,
   "metadata": {},
   "outputs": [
    {
     "data": {
      "text/plain": [
       "array([1, 4, 3, 2], dtype=int64)"
      ]
     },
     "execution_count": 62,
     "metadata": {},
     "output_type": "execute_result"
    }
   ],
   "source": [
    "x = np.array([0.2,6.4,3.0,1.6])\n",
    "bins = np.array([0.0,1.0,2.5,4.0,10.0])\n",
    "\n",
    "inds = np.digitize(x,bins)\n"
   ]
  },
  {
   "cell_type": "code",
   "execution_count": null,
   "metadata": {},
   "outputs": [],
   "source": []
  }
 ],
 "metadata": {
  "kernelspec": {
   "display_name": "Python 3",
   "language": "python",
   "name": "python3"
  },
  "language_info": {
   "codemirror_mode": {
    "name": "ipython",
    "version": 3
   },
   "file_extension": ".py",
   "mimetype": "text/x-python",
   "name": "python",
   "nbconvert_exporter": "python",
   "pygments_lexer": "ipython3",
   "version": "3.6.5"
  }
 },
 "nbformat": 4,
 "nbformat_minor": 2
}
