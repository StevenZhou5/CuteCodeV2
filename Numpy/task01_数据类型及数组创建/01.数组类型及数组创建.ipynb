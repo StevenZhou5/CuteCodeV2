{
 "cells": [
  {
   "cell_type": "markdown",
   "metadata": {},
   "source": [
    "## 01.numpy中的常量\n",
    "\n",
    "* 空值      numpy.nan\n",
    "* 无穷大   numpy.inf\n",
    "* 圆周率   numpy.pi\n",
    "* 自然对数 numpy.e\n",
    "\n",
    "## 02. numpy中的数据类型\n",
    "\n",
    "* 常见数据类型\n",
    "* 创建数据类型\n",
    "* 数据类型信息\n",
    "\n",
    "## 03. numpy中的时间日期和时间增量\n",
    "\n",
    "## 04.numpy中数组的创建"
   ]
  },
  {
   "cell_type": "markdown",
   "metadata": {},
   "source": [
    "### 01.numpy中的变量\n",
    "\n",
    "### np.nan\n",
    "\n",
    " 两个np.nan 是不相等的\n",
    " \n",
    " 【例】"
   ]
  },
  {
   "cell_type": "code",
   "execution_count": 2,
   "metadata": {},
   "outputs": [
    {
     "data": {
      "text/plain": [
       "False"
      ]
     },
     "execution_count": 2,
     "metadata": {},
     "output_type": "execute_result"
    }
   ],
   "source": [
    "import numpy as np\n",
    "\n",
    "np.nan == np.nan"
   ]
  },
  {
   "cell_type": "markdown",
   "metadata": {},
   "source": [
    "### np.isnan \n",
    "\n",
    "判断是否存在空值\n",
    "\n",
    " 【例】"
   ]
  },
  {
   "cell_type": "code",
   "execution_count": 6,
   "metadata": {},
   "outputs": [
    {
     "name": "stdout",
     "output_type": "stream",
     "text": [
      "y [False False  True False]\n",
      "z 1\n"
     ]
    }
   ],
   "source": [
    "x = np.array([1,2,np.nan,9])\n",
    "y = np.isnan(x)\n",
    "print('y',y)\n",
    "\n",
    "z = np.count_nonzero(y)\n",
    "print('z',z)"
   ]
  },
  {
   "cell_type": "markdown",
   "metadata": {},
   "source": [
    "### np.pi\n",
    "\n",
    "圆周率\n",
    "\n",
    "【例】"
   ]
  },
  {
   "cell_type": "code",
   "execution_count": 7,
   "metadata": {},
   "outputs": [
    {
     "data": {
      "text/plain": [
       "3.141592653589793"
      ]
     },
     "execution_count": 7,
     "metadata": {},
     "output_type": "execute_result"
    }
   ],
   "source": [
    "np.pi"
   ]
  },
  {
   "cell_type": "markdown",
   "metadata": {},
   "source": [
    "### np.e\n",
    "\n",
    "自然对数\n",
    "\n",
    "【例】"
   ]
  },
  {
   "cell_type": "code",
   "execution_count": 8,
   "metadata": {},
   "outputs": [
    {
     "data": {
      "text/plain": [
       "2.718281828459045"
      ]
     },
     "execution_count": 8,
     "metadata": {},
     "output_type": "execute_result"
    }
   ],
   "source": [
    "np.e"
   ]
  },
  {
   "cell_type": "markdown",
   "metadata": {},
   "source": [
    "### 02.numpy中的数据类型\n",
    "\n",
    "### 常见数据类型\n",
    "\n",
    "\n",
    "| 类型| 备注 |说明|\n",
    "| ----| ---- | ---- |\n",
    "| bool_| 8位 | 布尔值 |\n",
    "| int8 = byte| 8位 | 8位整数型 |\n",
    "| int16 =short | 16位 |  16位整数型 |\n",
    "| int32 = int |  32位 |32位整数型|\n",
    "| int64 =long| 64|  64数型 |\n",
    "| uint8 =  ubyte| 8位 |无符号 8位整数型 |\n",
    "| uint16 =ushort | 16位 |  无符号16位整数型 |\n",
    "| uint32 = uint |  32位 |无符号32位整数型|\n",
    "| uint64 =ulong| 64|  无符号64数型 |\n",
    "|  float16 =half | 16位 |  16位浮点型  |\n",
    "| float32 = single |  32位 |32位浮点型 |\n",
    "| float64 = double| 64|  64数型 |\n",
    "| str_ = unicode|   | 字符串 |\n",
    "| datetime64|   | 时期时间类型 |\n",
    "| timedelta|  | 表示两个时间之间的间隔 |\n"
   ]
  },
  {
   "cell_type": "code",
   "execution_count": 5,
   "metadata": {},
   "outputs": [
    {
     "data": {
      "text/plain": [
       "1"
      ]
     },
     "execution_count": 5,
     "metadata": {},
     "output_type": "execute_result"
    }
   ],
   "source": [
    "x = np.dtype(bool)\n",
    "x.type\n",
    "x.itemsize"
   ]
  },
  {
   "cell_type": "code",
   "execution_count": 16,
   "metadata": {},
   "outputs": [
    {
     "name": "stdout",
     "output_type": "stream",
     "text": [
      "zzw是狗蛋\n",
      "str1 3\n",
      "str2 9\n"
     ]
    }
   ],
   "source": [
    "str1 = \"zzw\"\n",
    "str2 = \"是狗蛋\"\n",
    "\n",
    "print(str1+str2)\n",
    "print('str1',len(str1.encode()))\n",
    "print('str2',len(str2.encode()))"
   ]
  },
  {
   "cell_type": "code",
   "execution_count": 15,
   "metadata": {},
   "outputs": [
    {
     "data": {
      "text/plain": [
       "100"
      ]
     },
     "execution_count": 15,
     "metadata": {},
     "output_type": "execute_result"
    }
   ],
   "source": [
    "ord('d')"
   ]
  },
  {
   "cell_type": "markdown",
   "metadata": {},
   "source": [
    "### 数据类型信息\n",
    "\n",
    "查看数据表示范围\n",
    "【例】"
   ]
  },
  {
   "cell_type": "code",
   "execution_count": 21,
   "metadata": {},
   "outputs": [
    {
     "name": "stdout",
     "output_type": "stream",
     "text": [
      "16\n",
      "-32768\n",
      "32767\n"
     ]
    }
   ],
   "source": [
    "iint16  = np.iinfo(np.int16)\n",
    "\n",
    "print(iint16.bits)\n",
    "print(iint16.min)\n",
    "print(iint16.max)"
   ]
  },
  {
   "cell_type": "code",
   "execution_count": 37,
   "metadata": {},
   "outputs": [
    {
     "name": "stdout",
     "output_type": "stream",
     "text": [
      "64\n",
      "-1.7976931348623157e+308\n",
      "1.7976931348623157e+308\n"
     ]
    }
   ],
   "source": [
    "ffloat64  = np.finfo(np.float64)\n",
    "\n",
    "print(ffloat64.bits)\n",
    "print(ffloat64.min)\n",
    "print(ffloat64.max)"
   ]
  },
  {
   "cell_type": "code",
   "execution_count": 43,
   "metadata": {},
   "outputs": [
    {
     "data": {
      "text/plain": [
       "179769313486231590772930519078902473361797697894230657273430081157732675805500963132708477322407536021120113879871393357658789768814416622492847430639474124377767893424865485276302219601246094119453082952085005768838150682342462881473913110540827237163350510684586298239947245938479716304835356329624224137216"
      ]
     },
     "execution_count": 43,
     "metadata": {},
     "output_type": "execute_result"
    }
   ],
   "source": [
    "2**1024"
   ]
  },
  {
   "cell_type": "code",
   "execution_count": null,
   "metadata": {},
   "outputs": [],
   "source": []
  }
 ],
 "metadata": {
  "kernelspec": {
   "display_name": "Python 3",
   "language": "python",
   "name": "python3"
  },
  "language_info": {
   "codemirror_mode": {
    "name": "ipython",
    "version": 3
   },
   "file_extension": ".py",
   "mimetype": "text/x-python",
   "name": "python",
   "nbconvert_exporter": "python",
   "pygments_lexer": "ipython3",
   "version": "3.6.5"
  }
 },
 "nbformat": 4,
 "nbformat_minor": 2
}
