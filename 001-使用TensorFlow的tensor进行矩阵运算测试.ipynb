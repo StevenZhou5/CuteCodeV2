{
 "cells": [
  {
   "cell_type": "code",
   "execution_count": 1,
   "metadata": {
    "ExecuteTime": {
     "end_time": "2021-04-29T06:12:09.761035Z",
     "start_time": "2021-04-29T06:12:06.277131Z"
    }
   },
   "outputs": [],
   "source": [
    "import tensorflow as tf\n",
    "import numpy as np\n",
    "import random"
   ]
  },
  {
   "cell_type": "markdown",
   "metadata": {},
   "source": [
    "# tf.matmul 矩阵相乘"
   ]
  },
  {
   "cell_type": "code",
   "execution_count": 13,
   "metadata": {},
   "outputs": [],
   "source": [
    "# 1. 矩阵相乘 A_{a*b}\\ast B_{b*c}=C_{a*c}\n",
    "\n",
    "# 根据矩阵相乘的匹配原则，左乘矩阵的列数要等于右乘矩阵的行数。\n",
    "\n",
    "# 在多维（三维、四维）矩阵的相乘中，需要最后两维满足匹配原则。\n",
    "\n",
    "# 可以将多维矩阵理解成：（矩阵排列，矩阵），即后两维为矩阵，前面的维度为矩阵的排列。\n",
    "\n",
    "# 比如对于（2，2，4）来说，视为2个（2，4）矩阵。\n",
    "\n",
    "# 对于（2，2，2，4）来说，视为2*2个（2，4）矩阵。"
   ]
  },
  {
   "cell_type": "code",
   "execution_count": 9,
   "metadata": {},
   "outputs": [
    {
     "data": {
      "text/plain": [
       "<tf.Tensor: shape=(2, 4), dtype=int32, numpy=\n",
       "array([[6, 6, 6, 6],\n",
       "       [6, 6, 6, 6]], dtype=int32)>"
      ]
     },
     "execution_count": 9,
     "metadata": {},
     "output_type": "execute_result"
    }
   ],
   "source": [
    "a_2d = tf.constant([1]*6, shape=[2, 3])\n",
    "b_2d = tf.constant([2]*12, shape=[3, 4])\n",
    "c_2d = tf.matmul(a_2d, b_2d)\n",
    "c_2d"
   ]
  },
  {
   "cell_type": "code",
   "execution_count": 10,
   "metadata": {},
   "outputs": [
    {
     "data": {
      "text/plain": [
       "<tf.Tensor: shape=(2, 2, 4), dtype=int32, numpy=\n",
       "array([[[6, 6, 6, 6],\n",
       "        [6, 6, 6, 6]],\n",
       "\n",
       "       [[6, 6, 6, 6],\n",
       "        [6, 6, 6, 6]]], dtype=int32)>"
      ]
     },
     "execution_count": 10,
     "metadata": {},
     "output_type": "execute_result"
    }
   ],
   "source": [
    "a_3d = tf.constant([1]*12, shape=[2, 2, 3]) # 2个 [2,3] 的矩阵\n",
    "b_3d = tf.constant([2]*24, shape=[2, 3, 4]) # 2个 [3,4] 的矩阵\n",
    "c_3d = tf.matmul(a_3d, b_3d)\n",
    "c_3d"
   ]
  },
  {
   "cell_type": "code",
   "execution_count": 11,
   "metadata": {},
   "outputs": [
    {
     "data": {
      "text/plain": [
       "<tf.Tensor: shape=(2, 2, 2, 4), dtype=int32, numpy=\n",
       "array([[[[6, 6, 6, 6],\n",
       "         [6, 6, 6, 6]],\n",
       "\n",
       "        [[6, 6, 6, 6],\n",
       "         [6, 6, 6, 6]]],\n",
       "\n",
       "\n",
       "       [[[6, 6, 6, 6],\n",
       "         [6, 6, 6, 6]],\n",
       "\n",
       "        [[6, 6, 6, 6],\n",
       "         [6, 6, 6, 6]]]], dtype=int32)>"
      ]
     },
     "execution_count": 11,
     "metadata": {},
     "output_type": "execute_result"
    }
   ],
   "source": [
    "a_4d = tf.constant([1]*24, shape=[2, 2, 2, 3]) # 2*2个 [2,3] 的矩阵\n",
    "b_4d = tf.constant([2]*48, shape=[2, 2, 3, 4]) # 2*2个 [3,4] 的矩阵\n",
    "c_4d = tf.matmul(a_4d, b_4d)\n",
    "c_4d"
   ]
  },
  {
   "cell_type": "markdown",
   "metadata": {},
   "source": [
    "# reduce_sum 操作"
   ]
  },
  {
   "cell_type": "code",
   "execution_count": 2,
   "metadata": {},
   "outputs": [
    {
     "name": "stdout",
     "output_type": "stream",
     "text": [
      "tf.Tensor(\n",
      "[[1 2]\n",
      " [3 4]], shape=(2, 2), dtype=int32)\n",
      "tf.Tensor(\n",
      "[[1 2]\n",
      " [3 4]], shape=(2, 2), dtype=int32)\n"
     ]
    }
   ],
   "source": [
    "a = tf.constant([1,2,3,4],shape=[2,2])\n",
    "print(a)\n",
    "b = tf.constant([1,2,3,4],shape=[2,2])\n",
    "print(b)"
   ]
  },
  {
   "cell_type": "code",
   "execution_count": 3,
   "metadata": {},
   "outputs": [
    {
     "data": {
      "text/plain": [
       "<tf.Tensor: shape=(2,), dtype=int32, numpy=array([3, 7], dtype=int32)>"
      ]
     },
     "execution_count": 3,
     "metadata": {},
     "output_type": "execute_result"
    }
   ],
   "source": [
    "# 默认会消除一个维度\n",
    "tf.reduce_sum(a,axis=1)"
   ]
  },
  {
   "cell_type": "code",
   "execution_count": 5,
   "metadata": {},
   "outputs": [
    {
     "data": {
      "text/plain": [
       "<tf.Tensor: shape=(2, 1), dtype=int32, numpy=\n",
       "array([[3],\n",
       "       [7]], dtype=int32)>"
      ]
     },
     "execution_count": 5,
     "metadata": {},
     "output_type": "execute_result"
    }
   ],
   "source": [
    "# 可以保持那个维度\n",
    "tf.reduce_sum(a,axis=1,keepdims=True)"
   ]
  },
  {
   "cell_type": "code",
   "execution_count": 6,
   "metadata": {},
   "outputs": [
    {
     "data": {
      "text/plain": [
       "<tf.Tensor: shape=(1, 2), dtype=int32, numpy=array([[4, 6]], dtype=int32)>"
      ]
     },
     "execution_count": 6,
     "metadata": {},
     "output_type": "execute_result"
    }
   ],
   "source": [
    "tf.reduce_sum(a,axis=0,keepdims=True)"
   ]
  },
  {
   "cell_type": "markdown",
   "metadata": {},
   "source": [
    "# tf.reduce_mean 操作 "
   ]
  },
  {
   "cell_type": "code",
   "execution_count": 9,
   "metadata": {
    "ExecuteTime": {
     "end_time": "2021-04-19T08:42:41.581918Z",
     "start_time": "2021-04-19T08:42:41.576166Z"
    }
   },
   "outputs": [
    {
     "name": "stdout",
     "output_type": "stream",
     "text": [
      "tf.Tensor(5, shape=(), dtype=int32)\n"
     ]
    }
   ],
   "source": [
    "a = tf.reduce_sum([\n",
    "    [[1,2],[6,0]],\n",
    "    [[2,1],[3,5]]\n",
    "]) -  tf.reduce_sum([\n",
    "    [[1,2],[6,0]],\n",
    "    [[2,1],[3,0]]\n",
    "])\n",
    "print(a)"
   ]
  },
  {
   "cell_type": "code",
   "execution_count": 3,
   "metadata": {
    "ExecuteTime": {
     "end_time": "2021-04-06T08:11:35.679614Z",
     "start_time": "2021-04-06T08:11:35.668047Z"
    }
   },
   "outputs": [
    {
     "name": "stdout",
     "output_type": "stream",
     "text": [
      "tf.Tensor([1 0 1 0], shape=(4,), dtype=int32)\n"
     ]
    },
    {
     "data": {
      "text/plain": [
       "<tf.Tensor: shape=(), dtype=int32, numpy=0>"
      ]
     },
     "execution_count": 3,
     "metadata": {},
     "output_type": "execute_result"
    }
   ],
   "source": [
    "a = tf.constant([1,0,1,0])\n",
    "print(a)\n",
    "tf.reduce_mean(a)"
   ]
  },
  {
   "cell_type": "code",
   "execution_count": 4,
   "metadata": {
    "ExecuteTime": {
     "end_time": "2021-04-06T08:11:54.925953Z",
     "start_time": "2021-04-06T08:11:54.920111Z"
    }
   },
   "outputs": [
    {
     "name": "stdout",
     "output_type": "stream",
     "text": [
      "tf.Tensor([1. 0. 1. 0.], shape=(4,), dtype=float32)\n"
     ]
    },
    {
     "data": {
      "text/plain": [
       "<tf.Tensor: shape=(), dtype=float32, numpy=0.5>"
      ]
     },
     "execution_count": 4,
     "metadata": {},
     "output_type": "execute_result"
    }
   ],
   "source": [
    "a = tf.constant([1.0,0.,1.,0.])\n",
    "print(a)\n",
    "tf.reduce_mean(a)"
   ]
  },
  {
   "cell_type": "code",
   "execution_count": 10,
   "metadata": {
    "ExecuteTime": {
     "end_time": "2021-04-06T08:15:01.130193Z",
     "start_time": "2021-04-06T08:15:01.123268Z"
    }
   },
   "outputs": [
    {
     "name": "stdout",
     "output_type": "stream",
     "text": [
      "tf.Tensor(\n",
      "[[1. 1. 1. 1.]\n",
      " [0. 1. 2. 3.]], shape=(2, 4), dtype=float32)\n",
      "tf.Tensor(1.25, shape=(), dtype=float32)\n",
      "tf.Tensor([1.  1.5], shape=(2,), dtype=float32)\n",
      "tf.Tensor([0.5 1.  1.5 2. ], shape=(4,), dtype=float32)\n"
     ]
    }
   ],
   "source": [
    "a = tf.constant([1,1,1,1,0,1,2,3.],shape=[2,4])\n",
    "print(a)\n",
    "print(tf.reduce_mean(a))\n",
    "print(tf.reduce_mean(a,axis=-1))\n",
    "print(tf.reduce_mean(a,axis=0))"
   ]
  },
  {
   "cell_type": "markdown",
   "metadata": {},
   "source": [
    "# tf.square 求平方操作"
   ]
  },
  {
   "cell_type": "code",
   "execution_count": 8,
   "metadata": {},
   "outputs": [
    {
     "name": "stdout",
     "output_type": "stream",
     "text": [
      "tf.Tensor(\n",
      "[[0 1]\n",
      " [2 3]], shape=(2, 2), dtype=int32)\n"
     ]
    }
   ],
   "source": [
    "a = tf.constant([i for i in range(4)],shape=[2,2])\n",
    "print(a)"
   ]
  },
  {
   "cell_type": "code",
   "execution_count": 9,
   "metadata": {},
   "outputs": [
    {
     "data": {
      "text/plain": [
       "<tf.Tensor: shape=(2, 2), dtype=int32, numpy=\n",
       "array([[0, 1],\n",
       "       [4, 9]], dtype=int32)>"
      ]
     },
     "execution_count": 9,
     "metadata": {},
     "output_type": "execute_result"
    }
   ],
   "source": [
    "tf.square(a)"
   ]
  },
  {
   "cell_type": "markdown",
   "metadata": {},
   "source": [
    "# tf.tensordot 矩阵相乘在相加并消除对应维度操作：相当于指定维度进行矩阵相乘"
   ]
  },
  {
   "cell_type": "code",
   "execution_count": 10,
   "metadata": {},
   "outputs": [
    {
     "name": "stdout",
     "output_type": "stream",
     "text": [
      "tf.Tensor(\n",
      "[[[[0 1]\n",
      "   [2 1]\n",
      "   [3 4]]]\n",
      "\n",
      "\n",
      " [[[5 2]\n",
      "   [3 4]\n",
      "   [5 0]]]], shape=(2, 1, 3, 2), dtype=int32)\n",
      "tf.Tensor(\n",
      "[[[1]\n",
      "  [3]\n",
      "  [2]]\n",
      "\n",
      " [[3]\n",
      "  [1]\n",
      "  [2]]], shape=(2, 3, 1), dtype=int32)\n"
     ]
    }
   ],
   "source": [
    "a = tf.constant([0,1,2,1,3,4,5,2,3,4,5,0],shape=[2,1,3,2])\n",
    "print(a)\n",
    "b =tf.constant([1,3,2,3,1,2],shape=[2,3,1])\n",
    "print(b)"
   ]
  },
  {
   "cell_type": "code",
   "execution_count": 11,
   "metadata": {},
   "outputs": [
    {
     "data": {
      "text/plain": [
       "<tf.Tensor: shape=(1, 2, 1), dtype=int32, numpy=\n",
       "array([[[40],\n",
       "        [22]]], dtype=int32)>"
      ]
     },
     "execution_count": 11,
     "metadata": {},
     "output_type": "execute_result"
    }
   ],
   "source": [
    "# 将a的第0维和第2维concat然后打平是1*1*6 =1*6， 将b的前两维concat然后打平是1*6；最后把这四个维度消除掉，最后变为(1,2,1) \n",
    "# [0,2,3,5,3,5] 点成 [1,3,2,3,1,2] = 0+6+6+15+3+10 = 40\n",
    "# [1,1,4,2,4,0] 点成 [1,3,2,3,1,2] = 1+3+8+6+4+0 = 22\n",
    "res3 = tf.tensordot(a,b,axes=([0,2],[0,1]))\n",
    "res3"
   ]
  },
  {
   "cell_type": "code",
   "execution_count": 12,
   "metadata": {},
   "outputs": [
    {
     "data": {
      "text/plain": [
       "<tf.Tensor: shape=(2, 1, 1), dtype=int32, numpy=\n",
       "array([[[21]],\n",
       "\n",
       "       [[34]]], dtype=int32)>"
      ]
     },
     "execution_count": 12,
     "metadata": {},
     "output_type": "execute_result"
    }
   ],
   "source": [
    "# 将a的最后两维concat然后打平是6*1维度 ， 将b的前两维度concat然后打平是6*1； 最后把这四个维度消除掉，然后最后为(2,1,1)\n",
    "# [0,1,2,1,3,4] 点成 [1,3,2,3,1,2] = 0+3+4+3+3+8 =21\n",
    "# [5,2,3,4,5,0] 点成 [1,3,2,3,1,2] = 5+6+6+12+5+0 =34\n",
    "res2 = tf.tensordot(a,b,axes=2)\n",
    "res2"
   ]
  },
  {
   "cell_type": "code",
   "execution_count": 13,
   "metadata": {},
   "outputs": [
    {
     "data": {
      "text/plain": [
       "<tf.Tensor: shape=(2, 1, 3, 3, 1), dtype=int32, numpy=\n",
       "array([[[[[ 3],\n",
       "          [ 1],\n",
       "          [ 2]],\n",
       "\n",
       "         [[ 5],\n",
       "          [ 7],\n",
       "          [ 6]],\n",
       "\n",
       "         [[15],\n",
       "          [13],\n",
       "          [14]]]],\n",
       "\n",
       "\n",
       "\n",
       "       [[[[11],\n",
       "          [17],\n",
       "          [14]],\n",
       "\n",
       "         [[15],\n",
       "          [13],\n",
       "          [14]],\n",
       "\n",
       "         [[ 5],\n",
       "          [15],\n",
       "          [10]]]]], dtype=int32)>"
      ]
     },
     "execution_count": 13,
     "metadata": {},
     "output_type": "execute_result"
    }
   ],
   "source": [
    "# 将a的最后一维与b的第一维进行点成对应位置相乘再相加消除掉这两个维度，最终维度变为（2，1，3，3，1）\n",
    "# 0*1 + 1*3 = 3;0*3 + 1*1=1; 0*2+1*2 = 2; [3],[1],[2]\n",
    "# 2*1 + 1*3 = 5;2*3+1*1 = 7; 2*2+1*2 = 6; [5],[7],[6] \n",
    "res1 = tf.tensordot(a,b,axes=1)\n",
    "res1"
   ]
  },
  {
   "cell_type": "markdown",
   "metadata": {},
   "source": [
    "# tf.squeeze 消除维度为1的维度"
   ]
  },
  {
   "cell_type": "code",
   "execution_count": 3,
   "metadata": {
    "ExecuteTime": {
     "end_time": "2021-02-22T03:05:34.704893Z",
     "start_time": "2021-02-22T03:05:34.698686Z"
    }
   },
   "outputs": [
    {
     "name": "stdout",
     "output_type": "stream",
     "text": [
      "tf.Tensor(\n",
      "[[-0.06166652]\n",
      " [-0.04255655]\n",
      " [-0.77434984]\n",
      " [-0.96464352]\n",
      " [ 1.16836593]], shape=(5, 1), dtype=float64)\n"
     ]
    },
    {
     "data": {
      "text/plain": [
       "<tf.Tensor: shape=(5,), dtype=float64, numpy=array([-0.06166652, -0.04255655, -0.77434984, -0.96464352,  1.16836593])>"
      ]
     },
     "execution_count": 3,
     "metadata": {},
     "output_type": "execute_result"
    }
   ],
   "source": [
    "test01 = tf.constant(np.random.randn(5,1))\n",
    "print(test01)\n",
    "tf.squeeze(test01,axis=-1)"
   ]
  },
  {
   "cell_type": "code",
   "execution_count": 25,
   "metadata": {},
   "outputs": [
    {
     "name": "stdout",
     "output_type": "stream",
     "text": [
      "tf.Tensor(\n",
      "[[[[0]\n",
      "   [1]]]\n",
      "\n",
      "\n",
      " [[[2]\n",
      "   [3]]]], shape=(2, 1, 2, 1), dtype=int32)\n"
     ]
    }
   ],
   "source": [
    "a = tf.constant([i for i in range(4)],shape=[2,1,2,1])\n",
    "print(a)"
   ]
  },
  {
   "cell_type": "code",
   "execution_count": 26,
   "metadata": {},
   "outputs": [
    {
     "data": {
      "text/plain": [
       "<tf.Tensor: shape=(2, 2), dtype=int32, numpy=\n",
       "array([[0, 1],\n",
       "       [2, 3]], dtype=int32)>"
      ]
     },
     "execution_count": 26,
     "metadata": {},
     "output_type": "execute_result"
    }
   ],
   "source": [
    "# 默认是把所有维度为1的维度消除掉\n",
    "tf.squeeze(a)"
   ]
  },
  {
   "cell_type": "code",
   "execution_count": 29,
   "metadata": {},
   "outputs": [
    {
     "data": {
      "text/plain": [
       "<tf.Tensor: shape=(2, 2, 1), dtype=int32, numpy=\n",
       "array([[[0],\n",
       "        [1]],\n",
       "\n",
       "       [[2],\n",
       "        [3]]], dtype=int32)>"
      ]
     },
     "execution_count": 29,
     "metadata": {},
     "output_type": "execute_result"
    }
   ],
   "source": [
    "# 消除指定的维度，消除第二维\n",
    "tf.squeeze(a,axis=1)"
   ]
  },
  {
   "cell_type": "code",
   "execution_count": 30,
   "metadata": {},
   "outputs": [
    {
     "data": {
      "text/plain": [
       "<tf.Tensor: shape=(2, 1, 2), dtype=int32, numpy=\n",
       "array([[[0, 1]],\n",
       "\n",
       "       [[2, 3]]], dtype=int32)>"
      ]
     },
     "execution_count": 30,
     "metadata": {},
     "output_type": "execute_result"
    }
   ],
   "source": [
    "# 消除指定的维度，消除最后一维\n",
    "tf.squeeze(a,axis=-1)"
   ]
  },
  {
   "cell_type": "markdown",
   "metadata": {},
   "source": [
    "# tf.expand_dim 扩维"
   ]
  },
  {
   "cell_type": "code",
   "execution_count": 26,
   "metadata": {},
   "outputs": [
    {
     "name": "stdout",
     "output_type": "stream",
     "text": [
      "tf.Tensor(\n",
      "[[[ 5  5  5  5  0]\n",
      "  [ 7  7  2  3  7]]\n",
      "\n",
      " [[10  2  4  5  5]\n",
      "  [ 4  4 10  5  6]]], shape=(2, 2, 5), dtype=int32)\n"
     ]
    },
    {
     "data": {
      "text/plain": [
       "<tf.Tensor: shape=(2, 1, 2, 5), dtype=int32, numpy=\n",
       "array([[[[ 5,  5,  5,  5,  0],\n",
       "         [ 7,  7,  2,  3,  7]]],\n",
       "\n",
       "\n",
       "       [[[10,  2,  4,  5,  5],\n",
       "         [ 4,  4, 10,  5,  6]]]], dtype=int32)>"
      ]
     },
     "execution_count": 26,
     "metadata": {},
     "output_type": "execute_result"
    }
   ],
   "source": [
    "a = tf.constant([random.randint(0,10) for _ in range(20)],shape=[2,2,5])\n",
    "print(a)\n",
    "\n",
    "tf.expand_dims(a,axis=1)"
   ]
  },
  {
   "cell_type": "code",
   "execution_count": null,
   "metadata": {},
   "outputs": [],
   "source": [
    "tf.reshape(x,)"
   ]
  },
  {
   "cell_type": "markdown",
   "metadata": {},
   "source": [
    "# tf.multiply 对应位置相乘，会自扩维"
   ]
  },
  {
   "cell_type": "code",
   "execution_count": 6,
   "metadata": {},
   "outputs": [
    {
     "name": "stdout",
     "output_type": "stream",
     "text": [
      "tf.Tensor(\n",
      "[[6 9]\n",
      " [1 7]], shape=(2, 2), dtype=int32)\n",
      "tf.Tensor([[4 9]], shape=(1, 2), dtype=int32)\n"
     ]
    }
   ],
   "source": [
    "a = tf.constant([random.randint(0,10) for _ in range(4)],shape=[2,2])\n",
    "b = tf.constant([random.randint(0,10) for _ in range(2)],shape=[1,2])\n",
    "print(a)\n",
    "print(b)"
   ]
  },
  {
   "cell_type": "code",
   "execution_count": 7,
   "metadata": {},
   "outputs": [
    {
     "data": {
      "text/plain": [
       "<tf.Tensor: shape=(2, 2), dtype=int32, numpy=\n",
       "array([[24, 81],\n",
       "       [ 4, 63]], dtype=int32)>"
      ]
     },
     "execution_count": 7,
     "metadata": {},
     "output_type": "execute_result"
    }
   ],
   "source": [
    "tf.multiply(a,b)"
   ]
  },
  {
   "cell_type": "markdown",
   "metadata": {},
   "source": [
    "# tf.transpose转置操作测试"
   ]
  },
  {
   "cell_type": "code",
   "execution_count": 2,
   "metadata": {},
   "outputs": [
    {
     "name": "stdout",
     "output_type": "stream",
     "text": [
      "tf.Tensor(\n",
      "[[10  8  9 10  4]\n",
      " [ 2  4  2  0  4]\n",
      " [ 5  2  1  7  8]], shape=(3, 5), dtype=int32)\n",
      "tf.Tensor(\n",
      "[[10  2  5]\n",
      " [ 8  4  2]\n",
      " [ 9  2  1]\n",
      " [10  0  7]\n",
      " [ 4  4  8]], shape=(5, 3), dtype=int32)\n"
     ]
    }
   ],
   "source": [
    "a = tf.constant([random.randint(0,10) for _ in range(15)],shape=[3,5])\n",
    "print(a)\n",
    "print(tf.transpose(a))"
   ]
  },
  {
   "cell_type": "code",
   "execution_count": 5,
   "metadata": {},
   "outputs": [
    {
     "name": "stdout",
     "output_type": "stream",
     "text": [
      "tf.Tensor(\n",
      "[[[ 2]\n",
      "  [ 9]\n",
      "  [ 7]\n",
      "  [ 2]\n",
      "  [ 0]]\n",
      "\n",
      " [[ 0]\n",
      "  [10]\n",
      "  [ 0]\n",
      "  [ 4]\n",
      "  [ 9]]\n",
      "\n",
      " [[ 1]\n",
      "  [10]\n",
      "  [ 1]\n",
      "  [ 5]\n",
      "  [ 5]]], shape=(3, 5, 1), dtype=int32)\n",
      "tf.Tensor(\n",
      "[[[ 2  9  7  2  0]\n",
      "  [ 0 10  0  4  9]\n",
      "  [ 1 10  1  5  5]]], shape=(1, 3, 5), dtype=int32)\n"
     ]
    }
   ],
   "source": [
    "a = tf.constant([random.randint(0,10) for _ in range(15)], shape=[3,5,1])\n",
    "print(a)\n",
    "print(tf.transpose(a,perm=[2,0,1])) # 把原先的第三维变为第一维，第一维变为第二维，第二维变为第三维"
   ]
  },
  {
   "cell_type": "markdown",
   "metadata": {},
   "source": [
    "# tf.linalg.band_part 构建上/下三角矩阵操作\n",
    "```python\n",
    "tf.linalg.band_part(\n",
    "    input,\n",
    "    num_lower,\n",
    "    num_upper,\n",
    "    name=None\n",
    ")\n",
    "```\n",
    "### 作用：主要功能是以对角线为中心，取它的副对角线部分，其他部分用0填充。\n",
    "### input:输入的张量.\n",
    "### num_lower:下三角矩阵保留的副对角线数量，从主对角线开始计算，相当于下三角的带宽。取值为负数时，则全部保留。\n",
    "### num_upper:上三角矩阵保留的副对角线数量，从主对角线开始计算，相当于上三角的带宽。取值为负数时，则全部保留。"
   ]
  },
  {
   "cell_type": "code",
   "execution_count": 16,
   "metadata": {},
   "outputs": [
    {
     "name": "stdout",
     "output_type": "stream",
     "text": [
      "原始矩阵：\n",
      " tf.Tensor(\n",
      "[[[[1. 1. 1. 1. 1.]\n",
      "   [1. 1. 1. 1. 1.]\n",
      "   [1. 1. 1. 1. 1.]\n",
      "   [1. 1. 1. 1. 1.]\n",
      "   [1. 1. 1. 1. 1.]]]], shape=(1, 1, 5, 5), dtype=float32) \n",
      "\n",
      "只保留主对角线：\n",
      " tf.Tensor(\n",
      "[[[[1. 0. 0. 0. 0.]\n",
      "   [0. 1. 0. 0. 0.]\n",
      "   [0. 0. 1. 0. 0.]\n",
      "   [0. 0. 0. 1. 0.]\n",
      "   [0. 0. 0. 0. 1.]]]], shape=(1, 1, 5, 5), dtype=float32) \n",
      "\n",
      "只保留对角线以上元素： tf.Tensor(\n",
      "[[[[1. 1. 1. 1. 1.]\n",
      "   [0. 1. 1. 1. 1.]\n",
      "   [0. 0. 1. 1. 1.]\n",
      "   [0. 0. 0. 1. 1.]\n",
      "   [0. 0. 0. 0. 1.]]]], shape=(1, 1, 5, 5), dtype=float32) \n",
      "\n",
      "只保留对角线一下的元素： tf.Tensor(\n",
      "[[[[1. 0. 0. 0. 0.]\n",
      "   [1. 1. 0. 0. 0.]\n",
      "   [1. 1. 1. 0. 0.]\n",
      "   [1. 1. 1. 1. 0.]\n",
      "   [1. 1. 1. 1. 1.]]]], shape=(1, 1, 5, 5), dtype=float32) \n",
      "\n",
      "对角线一下的保留一行，对角线以上的保留两行： tf.Tensor(\n",
      "[[[[1. 1. 1. 0. 0.]\n",
      "   [1. 1. 1. 1. 0.]\n",
      "   [0. 1. 1. 1. 1.]\n",
      "   [0. 0. 1. 1. 1.]\n",
      "   [0. 0. 0. 1. 1.]]]], shape=(1, 1, 5, 5), dtype=float32) \n",
      "\n",
      "可以通过减法实现去除主对角线的矩阵：\n",
      " tf.Tensor(\n",
      "[[[[0. 1. 1. 1. 1.]\n",
      "   [0. 0. 1. 1. 1.]\n",
      "   [0. 0. 0. 1. 1.]\n",
      "   [0. 0. 0. 0. 1.]\n",
      "   [0. 0. 0. 0. 0.]]]], shape=(1, 1, 5, 5), dtype=float32) \n",
      "\n"
     ]
    }
   ],
   "source": [
    "a = tf.ones([1, 1, 5, 5])\n",
    "print(\"原始矩阵：\\n\",a,\"\\n\")\n",
    "\n",
    "b =tf.linalg.band_part(a,0,0)\n",
    "print(\"只保留主对角线：\\n\",b,\"\\n\")\n",
    "\n",
    "c = tf.linalg.band_part(a,0,-1)\n",
    "print(\"只保留对角线以上元素：\",c,\"\\n\")\n",
    "\n",
    "d = tf.linalg.band_part(a,-1,0)\n",
    "print(\"只保留对角线一下的元素：\",d,\"\\n\")\n",
    "\n",
    "e = tf.linalg.band_part(a,1,2)\n",
    "print(\"对角线一下的保留一行，对角线以上的保留两行：\",e,\"\\n\")\n",
    "\n",
    "f = 1 - tf.linalg.band_part(a,-1,0)\n",
    "print(\"可以通过减法实现去除主对角线的矩阵：\\n\",f,\"\\n\")"
   ]
  },
  {
   "cell_type": "markdown",
   "metadata": {},
   "source": [
    "# tf.split 把某一维度分割成多个维度"
   ]
  },
  {
   "cell_type": "code",
   "execution_count": 18,
   "metadata": {},
   "outputs": [
    {
     "name": "stdout",
     "output_type": "stream",
     "text": [
      "tf.Tensor(\n",
      "[[[5 6 7 8 9]\n",
      "  [6 2 0 0 3]]\n",
      "\n",
      " [[7 7 1 9 2]\n",
      "  [3 8 0 1 6]]], shape=(2, 2, 5), dtype=int32)\n"
     ]
    }
   ],
   "source": [
    "a = tf.constant([random.randint(0,10) for _ in range(20)],shape= [2,2,5])\n",
    "print(a)"
   ]
  },
  {
   "cell_type": "code",
   "execution_count": 19,
   "metadata": {},
   "outputs": [
    {
     "data": {
      "text/plain": [
       "[<tf.Tensor: shape=(2, 2, 1), dtype=int32, numpy=\n",
       " array([[[5],\n",
       "         [6]],\n",
       " \n",
       "        [[7],\n",
       "         [3]]], dtype=int32)>, <tf.Tensor: shape=(2, 2, 1), dtype=int32, numpy=\n",
       " array([[[6],\n",
       "         [2]],\n",
       " \n",
       "        [[7],\n",
       "         [8]]], dtype=int32)>, <tf.Tensor: shape=(2, 2, 1), dtype=int32, numpy=\n",
       " array([[[7],\n",
       "         [0]],\n",
       " \n",
       "        [[1],\n",
       "         [0]]], dtype=int32)>, <tf.Tensor: shape=(2, 2, 1), dtype=int32, numpy=\n",
       " array([[[8],\n",
       "         [0]],\n",
       " \n",
       "        [[9],\n",
       "         [1]]], dtype=int32)>, <tf.Tensor: shape=(2, 2, 1), dtype=int32, numpy=\n",
       " array([[[9],\n",
       "         [3]],\n",
       " \n",
       "        [[2],\n",
       "         [6]]], dtype=int32)>]"
      ]
     },
     "execution_count": 19,
     "metadata": {},
     "output_type": "execute_result"
    }
   ],
   "source": [
    "# 将a的第三维分割成5组\n",
    "tf.split(a,5,axis=2)"
   ]
  },
  {
   "cell_type": "code",
   "execution_count": 24,
   "metadata": {},
   "outputs": [
    {
     "data": {
      "text/plain": [
       "<tf.Tensor: shape=(10, 2, 1), dtype=int32, numpy=\n",
       "array([[[5],\n",
       "        [6]],\n",
       "\n",
       "       [[7],\n",
       "        [3]],\n",
       "\n",
       "       [[6],\n",
       "        [2]],\n",
       "\n",
       "       [[7],\n",
       "        [8]],\n",
       "\n",
       "       [[7],\n",
       "        [0]],\n",
       "\n",
       "       [[1],\n",
       "        [0]],\n",
       "\n",
       "       [[8],\n",
       "        [0]],\n",
       "\n",
       "       [[9],\n",
       "        [1]],\n",
       "\n",
       "       [[9],\n",
       "        [3]],\n",
       "\n",
       "       [[2],\n",
       "        [6]]], dtype=int32)>"
      ]
     },
     "execution_count": 24,
     "metadata": {},
     "output_type": "execute_result"
    }
   ],
   "source": [
    "# 将a的第三维分割成5组，然后\n",
    "tf.concat(tf.split(a,5,axis=2),axis=0)"
   ]
  },
  {
   "cell_type": "markdown",
   "metadata": {},
   "source": [
    "# tf.einsum 操作测试,自定义指定维度运算"
   ]
  },
  {
   "cell_type": "code",
   "execution_count": 11,
   "metadata": {
    "ExecuteTime": {
     "end_time": "2021-02-23T02:19:16.439900Z",
     "start_time": "2021-02-23T02:19:16.435483Z"
    }
   },
   "outputs": [
    {
     "name": "stdout",
     "output_type": "stream",
     "text": [
      "tf.Tensor(\n",
      "[[ 1.44847293  0.69530925]\n",
      " [-1.11874498  1.52765233]\n",
      " [-0.76490646 -0.05232171]], shape=(3, 2), dtype=float64)\n",
      "tf.Tensor(\n",
      "[[[-1.0008997 ]\n",
      "  [ 1.61986336]]\n",
      "\n",
      " [[-0.23082717]\n",
      "  [ 0.22685664]]], shape=(2, 2, 1), dtype=float64)\n"
     ]
    }
   ],
   "source": [
    "a = tf.constant(np.random.randn(3,2))\n",
    "print(a)\n",
    "b = tf.constant(np.random.randn(2,2,1))\n",
    "print(b)"
   ]
  },
  {
   "cell_type": "code",
   "execution_count": 12,
   "metadata": {
    "ExecuteTime": {
     "end_time": "2021-02-23T02:19:40.792864Z",
     "start_time": "2021-02-23T02:19:40.788215Z"
    }
   },
   "outputs": [
    {
     "data": {
      "text/plain": [
       "<tf.Tensor: shape=(2, 3, 1), dtype=float64, numpy=\n",
       "array([[[-0.32347016],\n",
       "        [ 3.59433954],\n",
       "        [ 0.68084063]],\n",
       "\n",
       "       [[-0.17661139],\n",
       "        [ 0.60479481],\n",
       "        [ 0.16469167]]])>"
      ]
     },
     "execution_count": 12,
     "metadata": {},
     "output_type": "execute_result"
    }
   ],
   "source": [
    "tf.einsum('ij,bjk->bik',a,b)"
   ]
  },
  {
   "cell_type": "code",
   "execution_count": 6,
   "metadata": {
    "ExecuteTime": {
     "end_time": "2021-03-29T06:05:13.883805Z",
     "start_time": "2021-03-29T06:05:13.879311Z"
    }
   },
   "outputs": [
    {
     "data": {
      "text/plain": [
       "<tf.Tensor: shape=(1,), dtype=int32, numpy=array([0], dtype=int32)>"
      ]
     },
     "execution_count": 6,
     "metadata": {},
     "output_type": "execute_result"
    }
   ],
   "source": [
    "tf.nn.relu([-5])"
   ]
  },
  {
   "cell_type": "markdown",
   "metadata": {},
   "source": [
    "# tf.concat 操作测试"
   ]
  },
  {
   "cell_type": "code",
   "execution_count": 5,
   "metadata": {
    "ExecuteTime": {
     "end_time": "2021-04-23T03:29:11.587220Z",
     "start_time": "2021-04-23T03:29:11.581824Z"
    }
   },
   "outputs": [
    {
     "data": {
      "text/plain": [
       "<tf.Tensor: shape=(2,), dtype=float32, numpy=array([1. , 0.1], dtype=float32)>"
      ]
     },
     "execution_count": 5,
     "metadata": {},
     "output_type": "execute_result"
    }
   ],
   "source": [
    "a = tf.constant([1],dtype=tf.float32)\n",
    "b = tf.constant([0.1])\n",
    "tf.concat([a,b],axis=-1) # dtype必须相同"
   ]
  },
  {
   "cell_type": "code",
   "execution_count": 3,
   "metadata": {
    "ExecuteTime": {
     "end_time": "2021-04-29T06:13:24.775870Z",
     "start_time": "2021-04-29T06:13:24.765387Z"
    }
   },
   "outputs": [
    {
     "data": {
      "text/plain": [
       "<tf.Tensor: shape=(2, 4), dtype=int32, numpy=\n",
       "array([[1, 1, 1, 2],\n",
       "       [2, 1, 2, 4]], dtype=int32)>"
      ]
     },
     "execution_count": 3,
     "metadata": {},
     "output_type": "execute_result"
    }
   ],
   "source": [
    "a = tf.constant([[1],[2]])\n",
    "b = tf.constant([[1,2],[2,4]])\n",
    "tf.concat([a,b],axis=-1) # shape处理concat的维度外，其他必须保持一致"
   ]
  },
  {
   "cell_type": "code",
   "execution_count": 8,
   "metadata": {
    "ExecuteTime": {
     "end_time": "2021-04-29T07:01:36.436084Z",
     "start_time": "2021-04-29T07:01:36.428414Z"
    }
   },
   "outputs": [
    {
     "name": "stdout",
     "output_type": "stream",
     "text": [
      "tf.Tensor(\n",
      "[[1. 1.]\n",
      " [2. 2.]\n",
      " [1. 2.]\n",
      " [2. 4.]], shape=(4, 2), dtype=float32)\n"
     ]
    },
    {
     "data": {
      "text/plain": [
       "<tf.Tensor: shape=(1, 2), dtype=float32, numpy=array([[1.5 , 2.25]], dtype=float32)>"
      ]
     },
     "execution_count": 8,
     "metadata": {},
     "output_type": "execute_result"
    }
   ],
   "source": [
    "a = tf.constant([[1.,1],[2,2]])\n",
    "b = tf.constant([[1.,2],[2,4]])\n",
    "c = tf.concat([a,b],axis=0)\n",
    "print(c)\n",
    "tf.reduce_mean(c,axis=0,keepdims=True)"
   ]
  },
  {
   "cell_type": "code",
   "execution_count": null,
   "metadata": {},
   "outputs": [],
   "source": []
  },
  {
   "cell_type": "code",
   "execution_count": null,
   "metadata": {},
   "outputs": [],
   "source": []
  }
 ],
 "metadata": {
  "kernelspec": {
   "display_name": "Python 3",
   "language": "python",
   "name": "python3"
  },
  "language_info": {
   "codemirror_mode": {
    "name": "ipython",
    "version": 3
   },
   "file_extension": ".py",
   "mimetype": "text/x-python",
   "name": "python",
   "nbconvert_exporter": "python",
   "pygments_lexer": "ipython3",
   "version": "3.7.4"
  },
  "toc": {
   "base_numbering": 1,
   "nav_menu": {},
   "number_sections": true,
   "sideBar": true,
   "skip_h1_title": false,
   "title_cell": "Table of Contents",
   "title_sidebar": "Contents",
   "toc_cell": false,
   "toc_position": {
    "height": "calc(100% - 180px)",
    "left": "10px",
    "top": "150px",
    "width": "229.091px"
   },
   "toc_section_display": true,
   "toc_window_display": false
  },
  "varInspector": {
   "cols": {
    "lenName": 16,
    "lenType": 16,
    "lenVar": 40
   },
   "kernels_config": {
    "python": {
     "delete_cmd_postfix": "",
     "delete_cmd_prefix": "del ",
     "library": "var_list.py",
     "varRefreshCmd": "print(var_dic_list())"
    },
    "r": {
     "delete_cmd_postfix": ") ",
     "delete_cmd_prefix": "rm(",
     "library": "var_list.r",
     "varRefreshCmd": "cat(var_dic_list()) "
    }
   },
   "types_to_exclude": [
    "module",
    "function",
    "builtin_function_or_method",
    "instance",
    "_Feature"
   ],
   "window_display": false
  }
 },
 "nbformat": 4,
 "nbformat_minor": 4
}
