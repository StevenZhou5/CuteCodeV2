{
 "cells": [
  {
   "cell_type": "code",
   "execution_count": 1,
   "metadata": {},
   "outputs": [
    {
     "name": "stdout",
     "output_type": "stream",
     "text": [
      "连接服务器 127.0.0.1...\n",
      "执行任务：1112 * 1112\n",
      "执行任务：3474 * 3474\n",
      "执行任务：7582 * 7582\n",
      "执行任务：6742 * 6742\n",
      "执行任务：3123 * 3123\n",
      "执行任务：4102 * 4102\n",
      "执行任务：3960 * 3960\n",
      "执行任务：1252 * 1252\n",
      "执行任务：4769 * 4769\n",
      "执行任务：9829 * 9829\n",
      "client任务结束\n"
     ]
    }
   ],
   "source": [
    "# 然后，在另一台机器上启动任务进程（本机上启动也可以）：\n",
    "# task_worker.py\n",
    "import time,sys,queue\n",
    "from multiprocessing.managers import BaseManager\n",
    "\n",
    "# 创建类似的QueueManager\n",
    "class QueueManager(BaseManager):\n",
    "    pass\n",
    "\n",
    "# 由于这个QueueManager只从网络上获取Queue，所以注册时只提供名字：\n",
    "QueueManager.register('get_task_queue')\n",
    "QueueManager.register('get_result_queue')\n",
    "\n",
    "# 连接到服务器，也就是运行task_master.py的机器：\n",
    "server_addr = '127.0.0.1'\n",
    "print('连接服务器 %s...' % server_addr)\n",
    "# 端口和验证码注意保持与task_master.py设置的完全一致：\n",
    "m = QueueManager(address=(server_addr,5000),authkey=b'abc')\n",
    "# 网络连接：\n",
    "m.connect()\n",
    "# 获取Queue的对象：\n",
    "task_clent = m.get_task_queue()\n",
    "result_clent = m.get_result_queue()\n",
    "# 从task队列取出任务，并把结果写入result队列：\n",
    "for i in range(10):\n",
    "    try:\n",
    "        n = task_clent.get(timeout=1)\n",
    "        print('执行任务：%d * %d' % (n,n))\n",
    "        r = '%d * %d = %d' % (n,n,n*n)\n",
    "        time.sleep(1)\n",
    "        result_clent.put(r)\n",
    "    except queue.Empty:\n",
    "        print(\"任务Queue为空！\")\n",
    "# 处理结束：\n",
    "print(\"client任务结束\")"
   ]
  },
  {
   "cell_type": "code",
   "execution_count": null,
   "metadata": {},
   "outputs": [],
   "source": []
  }
 ],
 "metadata": {
  "kernelspec": {
   "display_name": "Python 3",
   "language": "python",
   "name": "python3"
  },
  "language_info": {
   "codemirror_mode": {
    "name": "ipython",
    "version": 3
   },
   "file_extension": ".py",
   "mimetype": "text/x-python",
   "name": "python",
   "nbconvert_exporter": "python",
   "pygments_lexer": "ipython3",
   "version": "3.7.4"
  }
 },
 "nbformat": 4,
 "nbformat_minor": 2
}
