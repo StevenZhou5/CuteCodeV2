{
 "cells": [
  {
   "cell_type": "code",
   "execution_count": 13,
   "metadata": {},
   "outputs": [
    {
     "name": "stdout",
     "output_type": "stream",
     "text": [
      "Student\n",
      "stu1\n",
      "Student\n",
      "Student\n",
      "Student \n",
      "\n",
      "\n",
      "\n",
      "2\n"
     ]
    }
   ],
   "source": [
    "# 示例属性和类属性\n",
    "class Student(object):\n",
    "    count = 0 # 类属性相当于java中的全局静态变量\n",
    "    name = \"Student\" # 定义在类中的是类属性，所有是实例都可以访问\n",
    "    \n",
    "    def __init__(self):\n",
    "        Student.count += 1 # 每创建一个学生实例，统计count就加1\n",
    "        \n",
    "stu1 = Student()\n",
    "print(stu1.name) # 实例1可以访问类属性\n",
    "stu1.name = 'stu1'# 给实例绑定name属性，那么name属性就变成了一个实例属性\n",
    "print(stu1.name) # 实例属性的优先级高于类属性\n",
    "print(Student.name) # 实例属性并没有消失\n",
    "del stu1.name # 如果删除stu1的实例属性\n",
    "print(stu1.name) # 那么再次访问将会访问到类属性\n",
    "# 从这个例子中我们知道，在实际项目中千万不要将实例属性名称和类属性名称取一样，不然实例属性名会覆盖类属性名\n",
    "\n",
    "stu2 = Student()\n",
    "print(stu2.name,'\\n\\n\\n') # 实例2可以访问类属性\n",
    "\n",
    "\n",
    "# 输出现在的学生数目\n",
    "print(Student.count)"
   ]
  },
  {
   "cell_type": "code",
   "execution_count": 16,
   "metadata": {},
   "outputs": [
    {
     "name": "stdout",
     "output_type": "stream",
     "text": [
      "18\n",
      "25\n",
      "\n",
      "\n",
      "\n",
      "Student\n",
      "88\n"
     ]
    }
   ],
   "source": [
    "# 动态语言的强大之一是可以先创建类，让后动态的添加属性和方法\n",
    "class Student(object):\n",
    "    name = \"Student\"\n",
    "stu1 = Student()\n",
    "stu1.age = 18 # 动态的stu1添加一个示例属性\n",
    "print(stu1.age)\n",
    "def set_age(self,age): # 定义一个设置年龄的方法做为示例的方法\n",
    "    self.age = age\n",
    "\n",
    "from types import MethodType\n",
    "stu1.set_age = MethodType(set_age,stu1) # 给实例绑定一个方法\n",
    "stu1.set_age(25) # 调用实例上动态绑定的方法\n",
    "print(stu1.age) # 测试结果输出\n",
    "print('\\n\\n')\n",
    "\n",
    "stu2 = Student()\n",
    "print(stu2.name)\n",
    "\n",
    "\n",
    "# 但是给一个示例设置的方法对另外一个实例是不生效的，如果想要所有实例生效，我们需要给类动态绑定属性或方法\n",
    "def set_score(self,score):\n",
    "    self.score = score # 这里相当于也给类动态设置的属性score\n",
    "Student.set_score = set_score # 给类动态添加set_score这个方法\n",
    "\n",
    "stu2.set_score(88) # 调用set_score方法\n",
    "print(stu2.score)"
   ]
  },
  {
   "cell_type": "code",
   "execution_count": 21,
   "metadata": {},
   "outputs": [],
   "source": [
    "# 使用__slots__ 显示class示例能够添加的属性\n",
    "class Student(object):\n",
    "    __slots__ = ('name','age') # 用tuple定义允许绑定的属性名称\n",
    "s = Student()\n",
    "s.name = \"Steven\" # 绑定name属性\n",
    "s.age = 28 # 绑定age属性\n",
    "# s.score = 88 # 绑定score属性：会发生AttributeError：'Student' object has no attribute 'score'\n",
    "\n",
    "#     使用__slots__要注意，__slots__定义的属性仅对当前类实例起作用，对继承的子类是不起作用的：\n",
    "class GraduateStudent(Student):\n",
    "    pass\n",
    "g = GraduateStudent()\n",
    "g.score = 99 # 在子类的实例中可以不受父类__slots__的限制"
   ]
  },
  {
   "cell_type": "code",
   "execution_count": 33,
   "metadata": {},
   "outputs": [
    {
     "name": "stdout",
     "output_type": "stream",
     "text": [
      "1991\n",
      "28\n"
     ]
    }
   ],
   "source": [
    "# 使用@property来定义私有属性，并增加读写限制，省去手动写setter个getter方法\n",
    "class Studnet1(object):\n",
    "    @property\n",
    "    def birth(self): # 相当于定义了self._birth的getter方法\n",
    "        return self._birth\n",
    "    \n",
    "    @birth.setter\n",
    "    def birth(self,value): # 相当于定义了self._birth的setter方法\n",
    "        self._birth = value\n",
    "    \n",
    "    @property\n",
    "    def age(self): # age只有getter方法，相当于age属性就是一个只读属性\n",
    "        return 2019 - self._birth\n",
    "s = Studnet1()\n",
    "s.birth = 1991 # 此时相当于调用了s.set_birth(1991)的setter方法，当然实际上不能直接调用s.set_birth(1991)\n",
    "print(s.birth) # 读出birth\n",
    "print(s.age) # 读出age属性 "
   ]
  },
  {
   "cell_type": "code",
   "execution_count": 41,
   "metadata": {},
   "outputs": [
    {
     "name": "stdout",
     "output_type": "stream",
     "text": [
      "奔跑吧, 狗子\n",
      "飞翔吧, 蝙蝠\n"
     ]
    }
   ],
   "source": [
    "# 多重继承：和C++类似，为了避免设置繁杂的父子类关系，采用的一个主类继承，多个功能辅类的MixIn，\n",
    "# 在java中不允许多继承，所以java中采用的使用实现接口的方法来达到MixIn辅助功能的效果\n",
    "class Animal(object): # 最底层基类：动物\n",
    "    def __init__(self,name):\n",
    "        self.name = name\n",
    "    pass\n",
    "# 大类\n",
    "class Mammal(Animal): # 哺乳动物\n",
    "    pass\n",
    "class Bird(Animal): # 鸟类\n",
    "    pass\n",
    "\n",
    "# MixIn的辅类\n",
    "class RunnableMixIn(object):\n",
    "    def run(self):\n",
    "        print(\"奔跑吧,\",self.name)\n",
    "class FlyableMixIn(object):\n",
    "    def fly(self):\n",
    "        print(\"飞翔吧,\",self.name)\n",
    "\n",
    "# 各种具体的动物\n",
    "class Dog(Mammal,RunnableMixIn): # 狗是哺乳动物，并且会奔跑\n",
    "    def __init__(self):\n",
    "        super(Dog,self).__init__(\"狗子\")\n",
    "class Bat(Mammal,FlyableMixIn): #  蝙蝠也是哺乳动物，并且会飞行\n",
    "    def __init__(self):\n",
    "        super(Bat,self).__init__(\"蝙蝠\")\n",
    "dog = Dog()\n",
    "dog.run()\n",
    "\n",
    "bat = Bat()\n",
    "bat.fly()\n",
    "# dir(bat)"
   ]
  },
  {
   "cell_type": "code",
   "execution_count": 46,
   "metadata": {},
   "outputs": [
    {
     "name": "stdout",
     "output_type": "stream",
     "text": [
      "张三同学\n"
     ]
    },
    {
     "data": {
      "text/plain": [
       "张三同学"
      ]
     },
     "execution_count": 46,
     "metadata": {},
     "output_type": "execute_result"
    }
   ],
   "source": [
    "# 定制类\n",
    "class Student2(object):\n",
    "    def __init__(self,name):\n",
    "        self.name = name\n",
    "    \n",
    "    def __str__(self): # 重写str方法\n",
    "        return self.name+\"同学\"\n",
    "    \n",
    "#     def __repr__(self): # 重写__repr__方法：\n",
    "#         return self.name+\"同学\"\n",
    "    # 因为__repr__方法和__str__方法是一样的，所以还可以用下面这种写法\n",
    "    __repr__ = __str__\n",
    "    \n",
    "s = Student2(\"张三\")\n",
    "print(str(s))\n",
    "# __str__()返回用户看到的字符串，\n",
    "# 而__repr__()返回程序开发者看到的字符串，也就是说，__repr__()是为调试服务的。\n",
    "s # 此时调用的是__repr__()方法，所以需要重写__repr__()方法"
   ]
  },
  {
   "cell_type": "code",
   "execution_count": 47,
   "metadata": {},
   "outputs": [
    {
     "name": "stdout",
     "output_type": "stream",
     "text": [
      "a:6;b:5\n"
     ]
    }
   ],
   "source": [
    "a = 5\n",
    "b = 6\n",
    "a,b = b,a # 这种方法叫魂a,b的值，可以不用创建临时变量tem\n",
    "print('a:%s;b:%s'%(a,b))"
   ]
  },
  {
   "cell_type": "code",
   "execution_count": 48,
   "metadata": {},
   "outputs": [
    {
     "name": "stdout",
     "output_type": "stream",
     "text": [
      "1\n",
      "1\n",
      "2\n",
      "3\n",
      "5\n",
      "8\n",
      "13\n",
      "21\n",
      "34\n",
      "55\n",
      "89\n",
      "144\n",
      "233\n",
      "377\n",
      "610\n",
      "987\n"
     ]
    }
   ],
   "source": [
    "# 定制类：自定义一个可迭代对象\n",
    "# 如果一个类想被用于for ... in循环，类似list或tuple那样，\n",
    "# 就必须实现一个__iter__()方法，该方法返回一个迭代对象，\n",
    "# 然后，Python的for循环就会不断调用该迭代对象的__next__()方法拿到循环的下一个值，\n",
    "# 直到遇到StopIteration错误时退出循环。\n",
    "\n",
    "# 我们以斐波那契数列为例，写一个Fib类，可以作用于for循环：\n",
    "class Fib(object):\n",
    "    def __init__(self):\n",
    "        self.a,self.b = 0,1\n",
    "        \n",
    "    def __iter__(self):\n",
    "        return self\n",
    "    \n",
    "    def __next__(self):\n",
    "        self.a,self.b = self.b,self.a + self.b # 这样不用创建临时变量就可以正确计算出新的a,b的值\n",
    "        if self.a > 1000: # 退出循环的条件\n",
    "            raise StopIteration()\n",
    "        return self.a\n",
    "for n in Fib():\n",
    "    print(n)"
   ]
  },
  {
   "cell_type": "code",
   "execution_count": 57,
   "metadata": {},
   "outputs": [
    {
     "name": "stdout",
     "output_type": "stream",
     "text": [
      "1\n",
      "1\n",
      "2\n",
      "3\n",
      "5\n",
      "8\n"
     ]
    }
   ],
   "source": [
    "# 定制类：一个可以向list一样取出数据的自定义类\n",
    "class FibList(object):\n",
    "    def __getitem__(self,n):\n",
    "        a,b = 0,1\n",
    "        for _ in range(n):\n",
    "            a,b = b,a+b\n",
    "        return b\n",
    "fl = FibList()\n",
    "print(fl[0]) # 此时就是调用的fl.__getitem__(0)方法\n",
    "print(fl[1])\n",
    "print(fl[2])\n",
    "print(fl[3])\n",
    "print(fl[4])\n",
    "print(fl[5])"
   ]
  },
  {
   "cell_type": "code",
   "execution_count": 61,
   "metadata": {},
   "outputs": [
    {
     "data": {
      "text/plain": [
       "[3, 5, 8, 13, 21]"
      ]
     },
     "execution_count": 61,
     "metadata": {},
     "output_type": "execute_result"
    }
   ],
   "source": [
    "# 定制类：但是如果想实现一个带有切片功能的list的话，需要针对slice对象做处理\n",
    "class FibListSlice(object):\n",
    "    def __getitem__(self,n):\n",
    "        if isinstance(n,int):\n",
    "            a,b = 1,1\n",
    "            for _ in range(n):\n",
    "                a,b = b,a+b\n",
    "            return b\n",
    "        if isinstance(n,slice):\n",
    "            start = n.start\n",
    "            stop = n.stop\n",
    "            if start is None:\n",
    "                start = 0\n",
    "            a,b = 1,1\n",
    "            L = []\n",
    "            for x in range(stop):\n",
    "                if x >= start:\n",
    "                    L.append(a)\n",
    "                a,b = b, a+b\n",
    "            return L\n",
    "fls = FibListSlice()\n",
    "fls[3:8]"
   ]
  },
  {
   "cell_type": "code",
   "execution_count": 81,
   "metadata": {},
   "outputs": [
    {
     "name": "stdout",
     "output_type": "stream",
     "text": [
      "/status/user/timeline/list\n"
     ]
    },
    {
     "data": {
      "text/plain": [
       "/users/:steven/infos"
      ]
     },
     "execution_count": 81,
     "metadata": {},
     "output_type": "execute_result"
    }
   ],
   "source": [
    "# 定制类：利用__getattr__()方法来处理当属性不存在的时候的处理\n",
    "class ChainUrl(object):\n",
    "    def __init__(self,path=''):\n",
    "        self._path = path\n",
    "    \n",
    "    def __getattr__(self,path): # 当对应的path找不到时才会调用词方法\n",
    "        return ChainUrl('%s/%s' % (self._path,path))\n",
    "    \n",
    "    def __str__(self):\n",
    "        return self._path\n",
    "    \n",
    "    __repr__ = __str__\n",
    "    \n",
    "    def users(self,user_name):\n",
    "        return ChainUrl('%s/users/:%s' % (self._path,user_name))\n",
    "\n",
    "print(str(ChainUrl().status.user.timeline.list))\n",
    "ChainUrl().users('steven').infos"
   ]
  },
  {
   "cell_type": "code",
   "execution_count": 95,
   "metadata": {},
   "outputs": [
    {
     "name": "stdout",
     "output_type": "stream",
     "text": [
      "My Name is 张三\n",
      "True\n",
      "False\n",
      "True\n",
      "True\n",
      "False\n"
     ]
    }
   ],
   "source": [
    "# 定制类：__call__\n",
    "# 一个对象实例可以有自己的属性和方法，当我们调用实例方法时，我们用instance.method()来调用。\n",
    "# 能不能直接在实例本身上调用呢？在Python中，答案是肯定的。\n",
    "\n",
    "# 任何类，只需要定义一个__call__()方法，就可以直接对实例进行调用。请看示例：\n",
    "class MyCall(object):\n",
    "    def __init__(self,name):\n",
    "        self.name = name\n",
    "    \n",
    "    def print_name(self):\n",
    "        print(\"My Name is\",self.name)\n",
    "    \n",
    "    def __call__(self):\n",
    "        self.print_name()\n",
    "my_call = MyCall(\"张三\")\n",
    "my_call() # 不指定方法是，就会自动调用my_call.__call__()方法\n",
    "\n",
    "class MyNoCall(object):\n",
    "    def test():\n",
    "        pass\n",
    "my_no_call = MyNoCall()\n",
    "\n",
    "# 通过callable()来判断一个对象是否是Callable对象，即为是否是可被调用的对象\n",
    "print(callable(my_call)) # 实现了__call__的实例本身就是可以直接被调用的\n",
    "print(callable(my_no_call)) # 没有实现__call__的实例对象本身是不可以被直接调用的\n",
    "print(callable(my_no_call.test)) # 一个实例的方法是可以被调用的\n",
    "print(callable(max)) # max本身就是一个方法，它是可以被调用的\n",
    "print(callable([3,5,8])) # 一个List数据本身是不可以被调用的"
   ]
  },
  {
   "cell_type": "code",
   "execution_count": 99,
   "metadata": {},
   "outputs": [
    {
     "name": "stdout",
     "output_type": "stream",
     "text": [
      "Jan => Month.Jan , 1\n",
      "Feb => Month.Feb , 2\n",
      "Mar => Month.Mar , 3\n",
      "Apr => Month.Apr , 4\n",
      "May => Month.May , 5\n",
      "Jun => Month.Jun , 6\n",
      "Jul => Month.Jul , 7\n",
      "Aug => Month.Aug , 8\n",
      "Sep => Month.Sep , 9\n",
      "Oct => Month.Oct , 10\n",
      "Nov => Month.Nov , 11\n",
      "Doc => Month.Doc , 12\n"
     ]
    }
   ],
   "source": [
    "# 使用枚举类\n",
    "from enum import Enum\n",
    "# 使用枚举类来定义常量\n",
    "Month = Enum('Month',('Jan','Feb','Mar','Apr','May','Jun','Jul','Aug','Sep','Oct','Nov','Doc'))\n",
    "# 这样我们就获得了Month类型的枚举类，可以直接使用Month.Jan来引用一个常量，或者枚举它的所有成员：\n",
    "Month.Jan # <Month.Jan: 1>\n",
    "for name,member in Month.__members__.items():\n",
    "    # value属性则是自动赋给成员的int常量，默认从1开始计数。\n",
    "    print(name,'=>',member,',',member.value)"
   ]
  },
  {
   "cell_type": "code",
   "execution_count": 111,
   "metadata": {},
   "outputs": [
    {
     "name": "stdout",
     "output_type": "stream",
     "text": [
      "Weekday.Mon\n",
      "Weekday.Tue\n",
      "Weekday.Wed\n",
      "4\n",
      "True\n",
      "False\n",
      "Weekday.Mon\n",
      "True\n",
      "\n",
      "\n",
      "Sun => Weekday.Sun\n",
      "Mon => Weekday.Mon\n",
      "Tue => Weekday.Tue\n",
      "Wed => Weekday.Wed\n",
      "Thu => Weekday.Thu\n",
      "Fri => Weekday.Fri\n",
      "Sat => Weekday.Sat\n"
     ]
    }
   ],
   "source": [
    "# 使用枚举类\n",
    "from enum import Enum,unique\n",
    "# 如果需要更精确的控制枚举类型，可以从Enum派生出自定义类：\n",
    "@unique # @unique装饰器可以帮助我们检查保证没有重复值\n",
    "class Weekday(Enum):\n",
    "    Sun = 0 # 把Sun的value设定为0\n",
    "    Mon = 1\n",
    "    Tue = 2\n",
    "    Wed = 3\n",
    "    Thu = 4\n",
    "    Fri = 5\n",
    "    Sat = 6\n",
    "day1 = Weekday.Mon\n",
    "print(day1)\n",
    "print(Weekday.Tue)\n",
    "print(Weekday['Wed'])\n",
    "print(Weekday.Thu.value) # 可以用枚举常量取得value\n",
    "\n",
    "print(day1 == Weekday.Mon)\n",
    "print(day1 == Weekday.Tue)\n",
    "\n",
    "print(Weekday(1)) # 可以用value取得枚举常量\n",
    "print(day1 == Weekday(1))\n",
    "# print(Weekday(7)) # 不存在的访问会抛异常：ValueError: 7 is not a valid Weekday\n",
    "\n",
    "print('\\n')\n",
    "for name,member in Weekday.__members__.items():\n",
    "    print(name,'=>',member)\n"
   ]
  },
  {
   "cell_type": "code",
   "execution_count": 123,
   "metadata": {},
   "outputs": [
    {
     "name": "stdout",
     "output_type": "stream",
     "text": [
      "Hello , World\n",
      "<class '__main__.Hello'>\n",
      "<class '__main__.Hello'>\n",
      "<class 'type'>\n",
      "\n",
      "\n",
      "\n",
      "Hello, Type World\n",
      "<class '__main__.HelloType'>\n",
      "<class '__main__.HelloType'>\n",
      "<class 'type'>\n"
     ]
    }
   ],
   "source": [
    "# 使用元类:type()可以创建类\n",
    "class Hello(object):\n",
    "    def hello(self,name = 'World'):\n",
    "        print('Hello , %s' % name)\n",
    "h = Hello()\n",
    "h.hello()\n",
    "# type()函数可以查看一个类型或变量的类型，Hello是一个class，它的类型就是type，\n",
    "# 而h是一个实例，它的类型就是class Hello。\n",
    "print(type(h))\n",
    "print(Hello)\n",
    "print(type(Hello))\n",
    "print(\"\\n\\n\")\n",
    "\n",
    "# 我们说class的定义是运行时动态创建的，而创建class的方法就是使用type()函数。\n",
    "# type()函数既可以返回一个对象的类型，又可以创建出新的类型，\n",
    "# 比如，我们可以通过type()函数创建出Hello类，而无需通过class Hello(object)...的定义：\n",
    "def fn(self,name = 'Type World'): # 先定义函数\n",
    "    print('Hello, %s' % name)\n",
    "# 要创建一个class对象，type()函数依次传入3个参数：\n",
    "# 1:class的名称；\n",
    "# 2:继承的父类集合，注意Python支持多重继承，如果只有一个父类，别忘了tuple的单元素写法；\n",
    "# 3:class的方法名称与函数绑定，这里我们把函数fn绑定到方法名hello上。\n",
    "HelloType = type('HelloType',(object,),dict(hello=fn)) # 使用type()创建HelloType class\n",
    "ht = HelloType()\n",
    "ht.hello()\n",
    "print(type(ht))\n",
    "print(HelloType)\n",
    "print(type(HelloType))\n",
    "\n",
    "通过type()函数创建的类和直接写class是完全一样的，因为Python解释器遇到class定义时，仅仅是扫描一下class定义的语法，然后调用type()函数创建出class。\n",
    "\n",
    "# 正常情况下，我们都用class Xxx...来定义类，但是，type()函数也允许我们动态创建出类来，\n",
    "# 也就是说，动态语言本身支持运行期动态创建类，这和静态语言有非常大的不同，要在静态语言运行期创建类，\n",
    "# 必须构造源代码字符串再调用编译器，或者借助一些工具生成字节码实现，本质上都是动态编译，会非常复杂。"
   ]
  },
  {
   "cell_type": "code",
   "execution_count": 1,
   "metadata": {},
   "outputs": [
    {
     "data": {
      "text/plain": [
       "[1]"
      ]
     },
     "execution_count": 1,
     "metadata": {},
     "output_type": "execute_result"
    }
   ],
   "source": [
    "# 使用元类:metaclass是Python中非常具有魔术性的对象，它可以改变类创建时的行为。这种强大的功能使用起来务必小心。\n",
    "# 除了使用type()动态创建类以外，要控制类的创建行为，还可以使用metaclass。\n",
    "\n",
    "# metaclass，直译为元类，简单的解释就是：\n",
    "\n",
    "# 当我们定义了类以后，就可以根据这个类创建出实例，所以：先定义类，然后创建实例。\n",
    "\n",
    "# 但是如果我们想创建出类呢？那就必须根据metaclass创建出类，所以：先定义metaclass，然后创建类。\n",
    "\n",
    "# 连接起来就是：先定义metaclass，就可以创建类，最后创建实例。\n",
    "\n",
    "# 所以，metaclass允许你创建类或者修改类。换句话说，你可以把类看成是metaclass创建出来的“实例”。\n",
    "\n",
    "# metaclass是Python面向对象里最难理解，也是最难使用的魔术代码。正常情况下，\n",
    "# 你不会碰到需要使用metaclass的情况，所以，以下内容看不懂也没关系，因为基本上你不会用到。\n",
    "\n",
    "# 我们先看一个简单的例子，这个metaclass可以给我们自定义的MyList增加一个add方法：\n",
    "\n",
    "# 定义ListMetaclass，按照默认习惯，metaclass的类名总是以Metaclass结尾，以便清楚地表示这是一个metaclass：\n",
    "\n",
    "# metaclass是类的模板，所以必须从'type'类型派生：\n",
    "class ListMetaclass(type):\n",
    "    def __new__(cls,name,bases,attrs):\n",
    "        attrs['add'] = lambda self,value:self.append(value) # 自定义一个add方法\n",
    "        return type.__new__(cls,name,bases,attrs)\n",
    "# 有了ListMetaclass，我们在定义类的时候还要指示使用ListMetaclass来定制类，传入关键字参数metaclass：\n",
    "class MyList(list,metaclass = ListMetaclass): \n",
    "    pass\n",
    "# 当我们传入关键字参数metaclass时，魔术就生效了，它指示Python解释器在创建MyList时，\n",
    "# 要通过ListMetaclass.__new__()来创建，在此，我们可以修改类的定义，\n",
    "# 比如，加上新的方法，然后，返回修改后的定义。\n",
    "\n",
    "# __new__()方法接收到的参数依次是：\n",
    "\n",
    "# 当前准备创建的类的对象；\n",
    "\n",
    "# 类的名字；\n",
    "\n",
    "# 类继承的父类集合；bases\n",
    "\n",
    "# 类的方法集合。attrs\n",
    "\n",
    "# 测试一下MyList是否可以调用add()方法：\n",
    "my_list = MyList()\n",
    "my_list.add(1) # 普通的List是没有add方法的\n",
    "my_list"
   ]
  },
  {
   "cell_type": "code",
   "execution_count": 4,
   "metadata": {},
   "outputs": [
    {
     "name": "stdout",
     "output_type": "stream",
     "text": [
      "try...\n",
      "result: 2.0\n",
      "no errot\n",
      "finally...\n",
      "END\n"
     ]
    }
   ],
   "source": [
    "# 错误、调试和测试\n",
    "# 错误码：成功返回一个标识入1,错误返回一个错误码如-1，但是这种正确与错误混合在一起的方式不是很好\n",
    "# try...except...finally的错误处理机制：\n",
    "try:\n",
    "    print('try...')\n",
    "#     r = 10/0\n",
    "#     r = 10/int('a')\n",
    "    r = 10/5\n",
    "    print('result:',r)\n",
    "# 如果发生了不同类型的错误，应该由不同的except语句块处理,可以有多个except来捕获不同类型的错误\n",
    "except ValueError as e:\n",
    "    print('ValueError:',e)\n",
    "except ZeroDivisionError as e:\n",
    "    print('ZeroDivisionError:',e)\n",
    "except UnicodeError as e: \n",
    "    # except永远也捕获不到UnicodeError，因为UnicodeError是ValueError的子类，如果有，也被第一个except给捕获了\n",
    "    print('UnicodeError')\n",
    "else: # 如果没有发生错误，会自动执行else\n",
    "    print('no errot')\n",
    "finally: # 不管正确与否都会走\n",
    "    print('finally...')\n",
    "print('END')"
   ]
  },
  {
   "cell_type": "code",
   "execution_count": 5,
   "metadata": {},
   "outputs": [
    {
     "ename": "NameError",
     "evalue": "name 'e' is not defined",
     "output_type": "error",
     "traceback": [
      "\u001b[0;31m---------------------------------------------------------------------------\u001b[0m",
      "\u001b[0;31mZeroDivisionError\u001b[0m                         Traceback (most recent call last)",
      "\u001b[0;32m<ipython-input-5-6417cb4ac08f>\u001b[0m in \u001b[0;36mmain\u001b[0;34m()\u001b[0m\n\u001b[1;32m     12\u001b[0m     \u001b[0;32mtry\u001b[0m\u001b[0;34m:\u001b[0m\u001b[0;34m\u001b[0m\u001b[0;34m\u001b[0m\u001b[0m\n\u001b[0;32m---> 13\u001b[0;31m         \u001b[0mbar\u001b[0m\u001b[0;34m(\u001b[0m\u001b[0;34m'0'\u001b[0m\u001b[0;34m)\u001b[0m\u001b[0;34m\u001b[0m\u001b[0;34m\u001b[0m\u001b[0m\n\u001b[0m\u001b[1;32m     14\u001b[0m     \u001b[0;32mexcept\u001b[0m\u001b[0;34m:\u001b[0m\u001b[0;34m\u001b[0m\u001b[0;34m\u001b[0m\u001b[0m\n",
      "\u001b[0;32m<ipython-input-5-6417cb4ac08f>\u001b[0m in \u001b[0;36mbar\u001b[0;34m(s)\u001b[0m\n\u001b[1;32m      9\u001b[0m \u001b[0;32mdef\u001b[0m \u001b[0mbar\u001b[0m\u001b[0;34m(\u001b[0m\u001b[0ms\u001b[0m\u001b[0;34m)\u001b[0m\u001b[0;34m:\u001b[0m\u001b[0;34m\u001b[0m\u001b[0;34m\u001b[0m\u001b[0m\n\u001b[0;32m---> 10\u001b[0;31m     \u001b[0;32mreturn\u001b[0m \u001b[0mfoo\u001b[0m\u001b[0;34m(\u001b[0m\u001b[0ms\u001b[0m\u001b[0;34m)\u001b[0m\u001b[0;34m\u001b[0m\u001b[0;34m\u001b[0m\u001b[0m\n\u001b[0m\u001b[1;32m     11\u001b[0m \u001b[0;32mdef\u001b[0m \u001b[0mmain\u001b[0m\u001b[0;34m(\u001b[0m\u001b[0;34m)\u001b[0m\u001b[0;34m:\u001b[0m\u001b[0;34m\u001b[0m\u001b[0;34m\u001b[0m\u001b[0m\n",
      "\u001b[0;32m<ipython-input-5-6417cb4ac08f>\u001b[0m in \u001b[0;36mfoo\u001b[0;34m(s)\u001b[0m\n\u001b[1;32m      7\u001b[0m \u001b[0;32mdef\u001b[0m \u001b[0mfoo\u001b[0m\u001b[0;34m(\u001b[0m\u001b[0ms\u001b[0m\u001b[0;34m)\u001b[0m\u001b[0;34m:\u001b[0m\u001b[0;34m\u001b[0m\u001b[0;34m\u001b[0m\u001b[0m\n\u001b[0;32m----> 8\u001b[0;31m     \u001b[0;32mreturn\u001b[0m \u001b[0;36m10\u001b[0m\u001b[0;34m/\u001b[0m\u001b[0mint\u001b[0m\u001b[0;34m(\u001b[0m\u001b[0ms\u001b[0m\u001b[0;34m)\u001b[0m\u001b[0;34m\u001b[0m\u001b[0;34m\u001b[0m\u001b[0m\n\u001b[0m\u001b[1;32m      9\u001b[0m \u001b[0;32mdef\u001b[0m \u001b[0mbar\u001b[0m\u001b[0;34m(\u001b[0m\u001b[0ms\u001b[0m\u001b[0;34m)\u001b[0m\u001b[0;34m:\u001b[0m\u001b[0;34m\u001b[0m\u001b[0;34m\u001b[0m\u001b[0m\n",
      "\u001b[0;31mZeroDivisionError\u001b[0m: division by zero",
      "\nDuring handling of the above exception, another exception occurred:\n",
      "\u001b[0;31mNameError\u001b[0m                                 Traceback (most recent call last)",
      "\u001b[0;32m<ipython-input-5-6417cb4ac08f>\u001b[0m in \u001b[0;36m<module>\u001b[0;34m\u001b[0m\n\u001b[1;32m     14\u001b[0m     \u001b[0;32mexcept\u001b[0m\u001b[0;34m:\u001b[0m\u001b[0;34m\u001b[0m\u001b[0;34m\u001b[0m\u001b[0m\n\u001b[1;32m     15\u001b[0m         \u001b[0mlogging\u001b[0m\u001b[0;34m.\u001b[0m\u001b[0mexception\u001b[0m\u001b[0;34m(\u001b[0m\u001b[0me\u001b[0m\u001b[0;34m)\u001b[0m\u001b[0;34m\u001b[0m\u001b[0;34m\u001b[0m\u001b[0m\n\u001b[0;32m---> 16\u001b[0;31m \u001b[0mmain\u001b[0m\u001b[0;34m(\u001b[0m\u001b[0;34m)\u001b[0m\u001b[0;34m\u001b[0m\u001b[0;34m\u001b[0m\u001b[0m\n\u001b[0m\u001b[1;32m     17\u001b[0m \u001b[0mprint\u001b[0m\u001b[0;34m(\u001b[0m\u001b[0;34m'END'\u001b[0m\u001b[0;34m)\u001b[0m\u001b[0;34m\u001b[0m\u001b[0;34m\u001b[0m\u001b[0m\n",
      "\u001b[0;32m<ipython-input-5-6417cb4ac08f>\u001b[0m in \u001b[0;36mmain\u001b[0;34m()\u001b[0m\n\u001b[1;32m     13\u001b[0m         \u001b[0mbar\u001b[0m\u001b[0;34m(\u001b[0m\u001b[0;34m'0'\u001b[0m\u001b[0;34m)\u001b[0m\u001b[0;34m\u001b[0m\u001b[0;34m\u001b[0m\u001b[0m\n\u001b[1;32m     14\u001b[0m     \u001b[0;32mexcept\u001b[0m\u001b[0;34m:\u001b[0m\u001b[0;34m\u001b[0m\u001b[0;34m\u001b[0m\u001b[0m\n\u001b[0;32m---> 15\u001b[0;31m         \u001b[0mlogging\u001b[0m\u001b[0;34m.\u001b[0m\u001b[0mexception\u001b[0m\u001b[0;34m(\u001b[0m\u001b[0me\u001b[0m\u001b[0;34m)\u001b[0m\u001b[0;34m\u001b[0m\u001b[0;34m\u001b[0m\u001b[0m\n\u001b[0m\u001b[1;32m     16\u001b[0m \u001b[0mmain\u001b[0m\u001b[0;34m(\u001b[0m\u001b[0;34m)\u001b[0m\u001b[0;34m\u001b[0m\u001b[0;34m\u001b[0m\u001b[0m\n\u001b[1;32m     17\u001b[0m \u001b[0mprint\u001b[0m\u001b[0;34m(\u001b[0m\u001b[0;34m'END'\u001b[0m\u001b[0;34m)\u001b[0m\u001b[0;34m\u001b[0m\u001b[0;34m\u001b[0m\u001b[0m\n",
      "\u001b[0;31mNameError\u001b[0m: name 'e' is not defined"
     ]
    }
   ],
   "source": [
    "# 打印错误栈\n",
    "# 如果不捕获错误，自然可以让Python解释器来打印出错误堆栈，但程序也被结束了。\n",
    "# 既然我们能捕获错误，就可以把错误堆栈打印出来，然后分析错误原因，同时，让程序继续执行下去。\n",
    "\n",
    "# Python内置的logging模块可以非常容易地记录错误信息：\n",
    "import logging\n",
    "def foo(s):\n",
    "    return 10/int(s)\n",
    "def bar(s):\n",
    "    return foo(s)\n",
    "def main():\n",
    "    try:\n",
    "        bar('0')\n",
    "    except:\n",
    "        logging.exception(e) # 调用logging.exception把错误栈打印出来\n",
    "main()\n",
    "print('END')\n",
    "# 通过配置，logging还可以把错误记录到日志文件里，方便事后排查。"
   ]
  },
  {
   "cell_type": "code",
   "execution_count": 7,
   "metadata": {},
   "outputs": [
    {
     "ename": "FooError",
     "evalue": "自定义的错误：0",
     "output_type": "error",
     "traceback": [
      "\u001b[0;31m---------------------------------------------------------------------------\u001b[0m",
      "\u001b[0;31mFooError\u001b[0m                                  Traceback (most recent call last)",
      "\u001b[0;32m<ipython-input-7-486799622118>\u001b[0m in \u001b[0;36m<module>\u001b[0;34m\u001b[0m\n\u001b[1;32m     12\u001b[0m         \u001b[0;32mraise\u001b[0m \u001b[0mFooError\u001b[0m\u001b[0;34m(\u001b[0m\u001b[0;34m'自定义的错误：%s'\u001b[0m \u001b[0;34m%\u001b[0m \u001b[0ms\u001b[0m\u001b[0;34m)\u001b[0m\u001b[0;34m\u001b[0m\u001b[0;34m\u001b[0m\u001b[0m\n\u001b[1;32m     13\u001b[0m     \u001b[0;32mreturn\u001b[0m \u001b[0;36m10\u001b[0m\u001b[0;34m/\u001b[0m\u001b[0mn\u001b[0m\u001b[0;34m\u001b[0m\u001b[0;34m\u001b[0m\u001b[0m\n\u001b[0;32m---> 14\u001b[0;31m \u001b[0mfoo\u001b[0m\u001b[0;34m(\u001b[0m\u001b[0;34m'0'\u001b[0m\u001b[0;34m)\u001b[0m\u001b[0;34m\u001b[0m\u001b[0;34m\u001b[0m\u001b[0m\n\u001b[0m",
      "\u001b[0;32m<ipython-input-7-486799622118>\u001b[0m in \u001b[0;36mfoo\u001b[0;34m(s)\u001b[0m\n\u001b[1;32m     10\u001b[0m     \u001b[0mn\u001b[0m \u001b[0;34m=\u001b[0m \u001b[0mint\u001b[0m\u001b[0;34m(\u001b[0m\u001b[0ms\u001b[0m\u001b[0;34m)\u001b[0m\u001b[0;34m\u001b[0m\u001b[0;34m\u001b[0m\u001b[0m\n\u001b[1;32m     11\u001b[0m     \u001b[0;32mif\u001b[0m \u001b[0mn\u001b[0m\u001b[0;34m==\u001b[0m\u001b[0;36m0\u001b[0m\u001b[0;34m:\u001b[0m\u001b[0;34m\u001b[0m\u001b[0;34m\u001b[0m\u001b[0m\n\u001b[0;32m---> 12\u001b[0;31m         \u001b[0;32mraise\u001b[0m \u001b[0mFooError\u001b[0m\u001b[0;34m(\u001b[0m\u001b[0;34m'自定义的错误：%s'\u001b[0m \u001b[0;34m%\u001b[0m \u001b[0ms\u001b[0m\u001b[0;34m)\u001b[0m\u001b[0;34m\u001b[0m\u001b[0;34m\u001b[0m\u001b[0m\n\u001b[0m\u001b[1;32m     13\u001b[0m     \u001b[0;32mreturn\u001b[0m \u001b[0;36m10\u001b[0m\u001b[0;34m/\u001b[0m\u001b[0mn\u001b[0m\u001b[0;34m\u001b[0m\u001b[0;34m\u001b[0m\u001b[0m\n\u001b[1;32m     14\u001b[0m \u001b[0mfoo\u001b[0m\u001b[0;34m(\u001b[0m\u001b[0;34m'0'\u001b[0m\u001b[0;34m)\u001b[0m\u001b[0;34m\u001b[0m\u001b[0;34m\u001b[0m\u001b[0m\n",
      "\u001b[0;31mFooError\u001b[0m: 自定义的错误：0"
     ]
    }
   ],
   "source": [
    "# 抛出错误：\n",
    "# 因为错误是class，捕获一个错误就是捕获到该class的一个实例。因此，错误并不是凭空产生的，\n",
    "# 而是有意创建并抛出的。Python的内置函数会抛出很多类型的错误，我们自己编写的函数也可以抛出错误。\n",
    "\n",
    "# 如果要抛出错误，首先根据需要，可以定义一个错误的class，选择好继承关系，然后，用raise语句抛出一个错误的实例：\n",
    "class FooError(ValueError): # 自定义错误\n",
    "    pass\n",
    "\n",
    "def foo(s):\n",
    "    n = int(s)\n",
    "    if n==0:\n",
    "        raise FooError('自定义的错误：%s' % s) # 使用raise抛出自定义的错误\n",
    "    return 10/n\n",
    "foo('0')\n",
    "# 只有在必要的时候才定义我们自己的错误类型。\n",
    "# 如果可以选择Python已有的内置的错误类型（比如ValueError，TypeError），尽量使用Python内置的错误类型。"
   ]
  },
  {
   "cell_type": "code",
   "execution_count": 12,
   "metadata": {},
   "outputs": [
    {
     "name": "stdout",
     "output_type": "stream",
     "text": [
      "值错误\n"
     ]
    },
    {
     "ename": "ValueError",
     "evalue": "不合法的值：0",
     "output_type": "error",
     "traceback": [
      "\u001b[0;31m---------------------------------------------------------------------------\u001b[0m",
      "\u001b[0;31mValueError\u001b[0m                                Traceback (most recent call last)",
      "\u001b[0;32m<ipython-input-12-8b98004f563f>\u001b[0m in \u001b[0;36m<module>\u001b[0;34m\u001b[0m\n\u001b[1;32m     13\u001b[0m         \u001b[0;32mraise\u001b[0m\u001b[0;34m\u001b[0m\u001b[0;34m\u001b[0m\u001b[0m\n\u001b[1;32m     14\u001b[0m \u001b[0;34m\u001b[0m\u001b[0m\n\u001b[0;32m---> 15\u001b[0;31m \u001b[0mbar\u001b[0m\u001b[0;34m(\u001b[0m\u001b[0;34m)\u001b[0m\u001b[0;34m\u001b[0m\u001b[0;34m\u001b[0m\u001b[0m\n\u001b[0m",
      "\u001b[0;32m<ipython-input-12-8b98004f563f>\u001b[0m in \u001b[0;36mbar\u001b[0;34m()\u001b[0m\n\u001b[1;32m      8\u001b[0m \u001b[0;32mdef\u001b[0m \u001b[0mbar\u001b[0m\u001b[0;34m(\u001b[0m\u001b[0;34m)\u001b[0m\u001b[0;34m:\u001b[0m\u001b[0;34m\u001b[0m\u001b[0;34m\u001b[0m\u001b[0m\n\u001b[1;32m      9\u001b[0m     \u001b[0;32mtry\u001b[0m\u001b[0;34m:\u001b[0m\u001b[0;34m\u001b[0m\u001b[0;34m\u001b[0m\u001b[0m\n\u001b[0;32m---> 10\u001b[0;31m         \u001b[0mfoo\u001b[0m\u001b[0;34m(\u001b[0m\u001b[0;34m'0'\u001b[0m\u001b[0;34m)\u001b[0m\u001b[0;34m\u001b[0m\u001b[0;34m\u001b[0m\u001b[0m\n\u001b[0m\u001b[1;32m     11\u001b[0m     \u001b[0;32mexcept\u001b[0m \u001b[0mValueError\u001b[0m \u001b[0;32mas\u001b[0m \u001b[0me\u001b[0m\u001b[0;34m:\u001b[0m\u001b[0;34m\u001b[0m\u001b[0;34m\u001b[0m\u001b[0m\n\u001b[1;32m     12\u001b[0m         \u001b[0mprint\u001b[0m\u001b[0;34m(\u001b[0m\u001b[0;34m\"值错误\"\u001b[0m\u001b[0;34m)\u001b[0m\u001b[0;34m\u001b[0m\u001b[0;34m\u001b[0m\u001b[0m\n",
      "\u001b[0;32m<ipython-input-12-8b98004f563f>\u001b[0m in \u001b[0;36mfoo\u001b[0;34m(s)\u001b[0m\n\u001b[1;32m      3\u001b[0m     \u001b[0mn\u001b[0m \u001b[0;34m=\u001b[0m \u001b[0mint\u001b[0m\u001b[0;34m(\u001b[0m\u001b[0ms\u001b[0m\u001b[0;34m)\u001b[0m\u001b[0;34m\u001b[0m\u001b[0;34m\u001b[0m\u001b[0m\n\u001b[1;32m      4\u001b[0m     \u001b[0;32mif\u001b[0m \u001b[0mn\u001b[0m \u001b[0;34m==\u001b[0m \u001b[0;36m0\u001b[0m\u001b[0;34m:\u001b[0m\u001b[0;34m\u001b[0m\u001b[0;34m\u001b[0m\u001b[0m\n\u001b[0;32m----> 5\u001b[0;31m         \u001b[0;32mraise\u001b[0m \u001b[0mValueError\u001b[0m\u001b[0;34m(\u001b[0m\u001b[0;34m'不合法的值：%s'\u001b[0m \u001b[0;34m%\u001b[0m \u001b[0ms\u001b[0m\u001b[0;34m)\u001b[0m \u001b[0;31m# 直接上抛一个指定的错误\u001b[0m\u001b[0;34m\u001b[0m\u001b[0;34m\u001b[0m\u001b[0m\n\u001b[0m\u001b[1;32m      6\u001b[0m     \u001b[0;32mreturn\u001b[0m \u001b[0;36m10\u001b[0m\u001b[0;34m/\u001b[0m\u001b[0mn\u001b[0m\u001b[0;34m\u001b[0m\u001b[0;34m\u001b[0m\u001b[0m\n\u001b[1;32m      7\u001b[0m \u001b[0;34m\u001b[0m\u001b[0m\n",
      "\u001b[0;31mValueError\u001b[0m: 不合法的值：0"
     ]
    }
   ],
   "source": [
    "# 错误上抛是常见的做法：\n",
    "def foo(s):\n",
    "    n = int(s)\n",
    "    if n == 0:\n",
    "        raise ValueError('不合法的值：%s' % s) # 直接上抛一个指定的错误\n",
    "    return 10/n\n",
    "\n",
    "def bar():\n",
    "    try:\n",
    "        foo('0')\n",
    "    except ValueError as e:\n",
    "        print(\"值错误\")\n",
    "        raise # raise语句如果不带参数，就会把当前错误原样抛出\n",
    "\n",
    "bar()\n",
    "# 在bar()函数中，我们明明已经捕获了错误，但是，打印一个ValueError!后，\n",
    "# 又把错误通过raise语句抛出去了，这不有病么？\n",
    "\n",
    "# 其实这种错误处理方式不但没病，而且相当常见。捕获错误目的只是记录一下，便于后续追踪。\n",
    "# 但是，由于当前函数不知道应该怎么处理该错误，所以，最恰当的方式是继续往上抛，让顶层调用者去处理。\n",
    "# 好比一个员工处理不了一个问题时，就把问题抛给他的老板，如果他的老板也处理不了，就一直往上抛，最终会抛给CEO去处理。"
   ]
  },
  {
   "cell_type": "code",
   "execution_count": 13,
   "metadata": {},
   "outputs": [
    {
     "ename": "ValueError",
     "evalue": "input error",
     "output_type": "error",
     "traceback": [
      "\u001b[0;31m---------------------------------------------------------------------------\u001b[0m",
      "\u001b[0;31mZeroDivisionError\u001b[0m                         Traceback (most recent call last)",
      "\u001b[0;32m<ipython-input-13-5a22e91fae38>\u001b[0m in \u001b[0;36m<module>\u001b[0;34m\u001b[0m\n\u001b[1;32m      2\u001b[0m \u001b[0;32mtry\u001b[0m\u001b[0;34m:\u001b[0m\u001b[0;34m\u001b[0m\u001b[0;34m\u001b[0m\u001b[0m\n\u001b[0;32m----> 3\u001b[0;31m     \u001b[0;36m10\u001b[0m\u001b[0;34m/\u001b[0m\u001b[0;36m0\u001b[0m\u001b[0;34m\u001b[0m\u001b[0;34m\u001b[0m\u001b[0m\n\u001b[0m\u001b[1;32m      4\u001b[0m \u001b[0;32mexcept\u001b[0m \u001b[0mZeroDivisionError\u001b[0m\u001b[0;34m:\u001b[0m\u001b[0;34m\u001b[0m\u001b[0;34m\u001b[0m\u001b[0m\n",
      "\u001b[0;31mZeroDivisionError\u001b[0m: division by zero",
      "\nDuring handling of the above exception, another exception occurred:\n",
      "\u001b[0;31mValueError\u001b[0m                                Traceback (most recent call last)",
      "\u001b[0;32m<ipython-input-13-5a22e91fae38>\u001b[0m in \u001b[0;36m<module>\u001b[0;34m\u001b[0m\n\u001b[1;32m      3\u001b[0m     \u001b[0;36m10\u001b[0m\u001b[0;34m/\u001b[0m\u001b[0;36m0\u001b[0m\u001b[0;34m\u001b[0m\u001b[0;34m\u001b[0m\u001b[0m\n\u001b[1;32m      4\u001b[0m \u001b[0;32mexcept\u001b[0m \u001b[0mZeroDivisionError\u001b[0m\u001b[0;34m:\u001b[0m\u001b[0;34m\u001b[0m\u001b[0;34m\u001b[0m\u001b[0m\n\u001b[0;32m----> 5\u001b[0;31m     \u001b[0;32mraise\u001b[0m \u001b[0mValueError\u001b[0m\u001b[0;34m(\u001b[0m\u001b[0;34m'input error'\u001b[0m\u001b[0;34m)\u001b[0m\u001b[0;34m\u001b[0m\u001b[0;34m\u001b[0m\u001b[0m\n\u001b[0m",
      "\u001b[0;31mValueError\u001b[0m: input error"
     ]
    }
   ],
   "source": [
    "# 在except中的raise一个Error，还可以把一种类型的错误转化成另一种类型：\n",
    "try:\n",
    "    10/0\n",
    "except ZeroDivisionError:\n",
    "    raise ValueError('input error')\n",
    "# 只要是合理的转换逻辑就可以，但是，决不应该把一个IOError转换成毫不相干的ValueError。"
   ]
  },
  {
   "cell_type": "code",
   "execution_count": 17,
   "metadata": {},
   "outputs": [
    {
     "ename": "AssertionError",
     "evalue": "n 为零了",
     "output_type": "error",
     "traceback": [
      "\u001b[0;31m---------------------------------------------------------------------------\u001b[0m",
      "\u001b[0;31mAssertionError\u001b[0m                            Traceback (most recent call last)",
      "\u001b[0;32m<ipython-input-17-3e56a28ac293>\u001b[0m in \u001b[0;36m<module>\u001b[0;34m\u001b[0m\n\u001b[1;32m      8\u001b[0m \u001b[0;32mdef\u001b[0m \u001b[0mmain\u001b[0m\u001b[0;34m(\u001b[0m\u001b[0;34m)\u001b[0m\u001b[0;34m:\u001b[0m\u001b[0;34m\u001b[0m\u001b[0;34m\u001b[0m\u001b[0m\n\u001b[1;32m      9\u001b[0m     \u001b[0mfoo\u001b[0m\u001b[0;34m(\u001b[0m\u001b[0;34m'0'\u001b[0m\u001b[0;34m)\u001b[0m\u001b[0;34m\u001b[0m\u001b[0;34m\u001b[0m\u001b[0m\n\u001b[0;32m---> 10\u001b[0;31m \u001b[0mmain\u001b[0m\u001b[0;34m(\u001b[0m\u001b[0;34m)\u001b[0m\u001b[0;34m\u001b[0m\u001b[0;34m\u001b[0m\u001b[0m\n\u001b[0m",
      "\u001b[0;32m<ipython-input-17-3e56a28ac293>\u001b[0m in \u001b[0;36mmain\u001b[0;34m()\u001b[0m\n\u001b[1;32m      7\u001b[0m     \u001b[0;32mreturn\u001b[0m \u001b[0;36m10\u001b[0m\u001b[0;34m/\u001b[0m\u001b[0mn\u001b[0m\u001b[0;34m\u001b[0m\u001b[0;34m\u001b[0m\u001b[0m\n\u001b[1;32m      8\u001b[0m \u001b[0;32mdef\u001b[0m \u001b[0mmain\u001b[0m\u001b[0;34m(\u001b[0m\u001b[0;34m)\u001b[0m\u001b[0;34m:\u001b[0m\u001b[0;34m\u001b[0m\u001b[0;34m\u001b[0m\u001b[0m\n\u001b[0;32m----> 9\u001b[0;31m     \u001b[0mfoo\u001b[0m\u001b[0;34m(\u001b[0m\u001b[0;34m'0'\u001b[0m\u001b[0;34m)\u001b[0m\u001b[0;34m\u001b[0m\u001b[0;34m\u001b[0m\u001b[0m\n\u001b[0m\u001b[1;32m     10\u001b[0m \u001b[0mmain\u001b[0m\u001b[0;34m(\u001b[0m\u001b[0;34m)\u001b[0m\u001b[0;34m\u001b[0m\u001b[0;34m\u001b[0m\u001b[0m\n",
      "\u001b[0;32m<ipython-input-17-3e56a28ac293>\u001b[0m in \u001b[0;36mfoo\u001b[0;34m(s)\u001b[0m\n\u001b[1;32m      4\u001b[0m \u001b[0;32mdef\u001b[0m \u001b[0mfoo\u001b[0m\u001b[0;34m(\u001b[0m\u001b[0ms\u001b[0m\u001b[0;34m)\u001b[0m\u001b[0;34m:\u001b[0m\u001b[0;34m\u001b[0m\u001b[0;34m\u001b[0m\u001b[0m\n\u001b[1;32m      5\u001b[0m     \u001b[0mn\u001b[0m \u001b[0;34m=\u001b[0m \u001b[0mint\u001b[0m\u001b[0;34m(\u001b[0m\u001b[0ms\u001b[0m\u001b[0;34m)\u001b[0m\u001b[0;34m\u001b[0m\u001b[0;34m\u001b[0m\u001b[0m\n\u001b[0;32m----> 6\u001b[0;31m     \u001b[0;32massert\u001b[0m \u001b[0mn\u001b[0m \u001b[0;34m!=\u001b[0m \u001b[0;36m0\u001b[0m\u001b[0;34m,\u001b[0m \u001b[0;34m'n 为零了'\u001b[0m\u001b[0;34m\u001b[0m\u001b[0;34m\u001b[0m\u001b[0m\n\u001b[0m\u001b[1;32m      7\u001b[0m     \u001b[0;32mreturn\u001b[0m \u001b[0;36m10\u001b[0m\u001b[0;34m/\u001b[0m\u001b[0mn\u001b[0m\u001b[0;34m\u001b[0m\u001b[0;34m\u001b[0m\u001b[0m\n\u001b[1;32m      8\u001b[0m \u001b[0;32mdef\u001b[0m \u001b[0mmain\u001b[0m\u001b[0;34m(\u001b[0m\u001b[0;34m)\u001b[0m\u001b[0;34m:\u001b[0m\u001b[0;34m\u001b[0m\u001b[0;34m\u001b[0m\u001b[0m\n",
      "\u001b[0;31mAssertionError\u001b[0m: n 为零了"
     ]
    }
   ],
   "source": [
    "# 调试：\n",
    "# 第一种方法简单直接粗暴有效，就是用print()把可能有问题的变量打印出来看看：\n",
    "# 断言：凡是用print()来辅助查看的地方，都可以用断言（assert）来替代：\n",
    "def foo(s):\n",
    "    n = int(s)\n",
    "    assert n != 0, 'n 为零了' # 断言失败，会抛出：AssertionError: n 为零了\n",
    "    return 10/n\n",
    "def main():\n",
    "    foo('0')\n",
    "main()\n",
    "\n",
    "# 程序中如果到处充斥着assert，和print()相比也好不到哪去。不过，启动Python解释器时可以用-O参数来关闭assert：\n",
    "# python -O err.py\n",
    "#  注意：断言的开关“-O”是英文大写字母O，不是数字0。\n",
    "# 关闭后，你可以把所有的assert语句当成pass来看。"
   ]
  },
  {
   "cell_type": "code",
   "execution_count": 25,
   "metadata": {},
   "outputs": [
    {
     "ename": "ZeroDivisionError",
     "evalue": "division by zero",
     "output_type": "error",
     "traceback": [
      "\u001b[0;31m---------------------------------------------------------------------------\u001b[0m",
      "\u001b[0;31mZeroDivisionError\u001b[0m                         Traceback (most recent call last)",
      "\u001b[0;32m<ipython-input-25-3c7245b11adc>\u001b[0m in \u001b[0;36m<module>\u001b[0;34m\u001b[0m\n\u001b[1;32m     10\u001b[0m \u001b[0mn\u001b[0m \u001b[0;34m=\u001b[0m \u001b[0mint\u001b[0m\u001b[0;34m(\u001b[0m\u001b[0ms\u001b[0m\u001b[0;34m)\u001b[0m\u001b[0;34m\u001b[0m\u001b[0;34m\u001b[0m\u001b[0m\n\u001b[1;32m     11\u001b[0m \u001b[0mlogging\u001b[0m\u001b[0;34m.\u001b[0m\u001b[0minfo\u001b[0m\u001b[0;34m(\u001b[0m\u001b[0;34m'n = %d'\u001b[0m \u001b[0;34m%\u001b[0m \u001b[0mn\u001b[0m\u001b[0;34m)\u001b[0m\u001b[0;34m\u001b[0m\u001b[0;34m\u001b[0m\u001b[0m\n\u001b[0;32m---> 12\u001b[0;31m \u001b[0mprint\u001b[0m\u001b[0;34m(\u001b[0m\u001b[0;36m10\u001b[0m\u001b[0;34m/\u001b[0m\u001b[0mn\u001b[0m\u001b[0;34m)\u001b[0m\u001b[0;34m\u001b[0m\u001b[0;34m\u001b[0m\u001b[0m\n\u001b[0m",
      "\u001b[0;31mZeroDivisionError\u001b[0m: division by zero"
     ]
    }
   ],
   "source": [
    "# 调试之使用logging\n",
    "# 把print()替换为logging是第3种方式，和assert比，logging不会抛出错误，而且可以输出到文件：\n",
    "import logging\n",
    "# logging.info()就可以输出一段文本。运行，发现除了ZeroDivisionError，没有任何信息。怎么回事？\n",
    "\n",
    "# 别急，在import logging之后添加一行配置再试试：\n",
    "logging.basicConfig(level=logging.INFO)# 好像并没有用\n",
    "\n",
    "s = '0'\n",
    "n = int(s)\n",
    "logging.info('n = %d' % n)\n",
    "print(10/n)\n",
    "\n",
    "# 这就是logging的好处，它允许你指定记录信息的级别，有debug，info，warning，error等几个级别，\n",
    "# 当我们指定level=INFO时，logging.debug就不起作用了。\n",
    "# 同理，指定level=WARNING后，debug和info就不起作用了。这样一来，你可以放心地输出不同级别的信息，\n",
    "# 也不用删除，最后统一控制输出哪个级别的信息。\n",
    "\n",
    "# logging的另一个好处是通过简单的配置，一条语句可以同时输出到不同的地方，比如console和文件。"
   ]
  },
  {
   "cell_type": "code",
   "execution_count": 24,
   "metadata": {},
   "outputs": [
    {
     "name": "stderr",
     "output_type": "stream",
     "text": [
      "WARNING:root:n = 0\n"
     ]
    },
    {
     "ename": "ZeroDivisionError",
     "evalue": "division by zero",
     "output_type": "error",
     "traceback": [
      "\u001b[0;31m---------------------------------------------------------------------------\u001b[0m",
      "\u001b[0;31mZeroDivisionError\u001b[0m                         Traceback (most recent call last)",
      "\u001b[0;32m<ipython-input-24-a2c44e2b03fc>\u001b[0m in \u001b[0;36m<module>\u001b[0;34m\u001b[0m\n\u001b[1;32m      5\u001b[0m \u001b[0mn\u001b[0m \u001b[0;34m=\u001b[0m \u001b[0mint\u001b[0m\u001b[0;34m(\u001b[0m\u001b[0ms\u001b[0m\u001b[0;34m)\u001b[0m\u001b[0;34m\u001b[0m\u001b[0;34m\u001b[0m\u001b[0m\n\u001b[1;32m      6\u001b[0m \u001b[0mlogging\u001b[0m\u001b[0;34m.\u001b[0m\u001b[0mwarning\u001b[0m\u001b[0;34m(\u001b[0m\u001b[0;34m'n = %d'\u001b[0m \u001b[0;34m%\u001b[0m \u001b[0mn\u001b[0m\u001b[0;34m)\u001b[0m\u001b[0;34m\u001b[0m\u001b[0;34m\u001b[0m\u001b[0m\n\u001b[0;32m----> 7\u001b[0;31m \u001b[0mprint\u001b[0m\u001b[0;34m(\u001b[0m\u001b[0;36m10\u001b[0m \u001b[0;34m/\u001b[0m \u001b[0mn\u001b[0m\u001b[0;34m)\u001b[0m\u001b[0;34m\u001b[0m\u001b[0;34m\u001b[0m\u001b[0m\n\u001b[0m",
      "\u001b[0;31mZeroDivisionError\u001b[0m: division by zero"
     ]
    }
   ],
   "source": [
    "import logging\n",
    "logging.basicConfig(level=logging.WARNING) # WARNING是起作用的\n",
    "\n",
    "s = '0'\n",
    "n = int(s)\n",
    "logging.warning('n = %d' % n)\n",
    "print(10 / n)"
   ]
  },
  {
   "cell_type": "code",
   "execution_count": null,
   "metadata": {},
   "outputs": [],
   "source": [
    "# 调试：使用调试器pdb\n",
    "# 第四种方式是启动Python调试器pdb，让程序以单步方式运行，可以随时产看运行状态。\n",
    "# 可以在下面廖雪峰老师的Python教学链接中查看\n",
    "# https://www.liaoxuefeng.com/wiki/1016959663602400/1017602696742912 \n",
    "\n",
    "# 不过调试的最好办法还是用IDE"
   ]
  },
  {
   "cell_type": "code",
   "execution_count": 26,
   "metadata": {},
   "outputs": [
    {
     "name": "stderr",
     "output_type": "stream",
     "text": [
      "E\n",
      "======================================================================\n",
      "ERROR: /Users/zhenwuzhou/Library/Jupyter/runtime/kernel-afc58492-c621-4cf6-a9a1-18e6ca8c910e (unittest.loader._FailedTest)\n",
      "----------------------------------------------------------------------\n",
      "AttributeError: module '__main__' has no attribute '/Users/zhenwuzhou/Library/Jupyter/runtime/kernel-afc58492-c621-4cf6-a9a1-18e6ca8c910e'\n",
      "\n",
      "----------------------------------------------------------------------\n",
      "Ran 1 test in 0.001s\n",
      "\n",
      "FAILED (errors=1)\n"
     ]
    },
    {
     "ename": "SystemExit",
     "evalue": "True",
     "output_type": "error",
     "traceback": [
      "An exception has occurred, use %tb to see the full traceback.\n",
      "\u001b[0;31mSystemExit\u001b[0m\u001b[0;31m:\u001b[0m True\n"
     ]
    },
    {
     "name": "stderr",
     "output_type": "stream",
     "text": [
      "/Library/Frameworks/Python.framework/Versions/3.7/lib/python3.7/site-packages/IPython/core/interactiveshell.py:3334: UserWarning: To exit: use 'exit', 'quit', or Ctrl-D.\n",
      "  warn(\"To exit: use 'exit', 'quit', or Ctrl-D.\", stacklevel=1)\n"
     ]
    }
   ],
   "source": [
    "# 单元测试 \n",
    "# 编写功能代码；编写测试用例代码；如果测试用例代码通过说明功能代码ok，否则功能代码有问题；\n",
    "# 当功能代码修改时，重新跑测试用例代码，如果不通过要么是功能代码有问题，要么需要修改测试用例代码\n",
    "# 现在我们编写一个Dict类，这个类和dict一致，但是可以通过属性来访问\n",
    "class Dict(dict):\n",
    "    def __init__(self,**kw):\n",
    "        super().__init__(**kw)\n",
    "    \n",
    "    def __getattr__(self,key): # 当找不到对应方法和属性时就会走到这个方法\n",
    "        try:\n",
    "            return self[key]\n",
    "        except KeyError:\n",
    "            raise AttributeError(r\"'Dict'中没有属性：%s\" % key)\n",
    "    \n",
    "    def __setattr__(self,key,value):\n",
    "        self[key] = value\n",
    "# 下面我们就要编写单元测试来验证我们的Dict类是否正确\n",
    "# 为了编写单元测试，我们需要引入Python自带的unittest模块，编写mydict_test.py如下：\n",
    "import unittest\n",
    "\n",
    "# 编写单元测试时，我们需要编写一个测试类，从unittest.TestCase继承。\n",
    "\n",
    "# 以test开头的方法就是测试方法，不以test开头的方法不被认为是测试方法，测试的时候不会被执行。\n",
    "\n",
    "# 对每一类测试都需要编写一个test_xxx()方法。由于unittest.TestCase提供了很多内置的条件判断\n",
    "# ，我们只需要调用这些方法就可以断言输出是否是我们所期望的。 \n",
    "class TestDict(unittest.TestCase):\n",
    "    def test_init(self):\n",
    "        d = Dict(a=1,b='test')\n",
    "        self.assertEqual(d.a,1) # 断言量这个值相等\n",
    "        self.assertEqual(d.b,'test')\n",
    "        self.assertTrue(isinstance(d,dict)) # 断言结果为True\n",
    "    \n",
    "    def test_key(self):\n",
    "        d = Dict()\n",
    "        d['key'] = 'value'\n",
    "        self.assertEqual(d.key,'value')\n",
    "    \n",
    "    def test_attr(self):\n",
    "        d = Dict()\n",
    "        d.key = 'value'\n",
    "        self.assertTrue('key' in d)\n",
    "        self.assertEqual(d['key'],'value')\n",
    "        \n",
    "    def test_keyerror(self):\n",
    "        d = Dict()\n",
    "        # 另一种重要的断言就是期待抛出指定类型的Error，\n",
    "        # 比如通过d['empty']访问不存在的key时，断言会抛出KeyError：\n",
    "        with self.assertRaises(KeyError): \n",
    "            value = d['empty']\n",
    "    \n",
    "    def test_attrerror(self):\n",
    "        d = Dict()\n",
    "        # 通过d.empty访问不存在的key时，我们期待抛出AttributeError：\n",
    "        with self.assertRaises(AttributeError):\n",
    "            value = d.empty\n",
    "# 运行单元测试\n",
    "# 一旦编写好单元测试，我们就可以运行单元测试。最简单的运行方式是在mydict_test.py的最后加上两行代码：\n",
    "if __name__ == '__main__':\n",
    "    unittest.main()\n",
    "\n",
    "# 这样就可以把mydict_test.py当做正常的python脚本运行：\n"
   ]
  },
  {
   "cell_type": "code",
   "execution_count": null,
   "metadata": {},
   "outputs": [],
   "source": [
    "# 文档测试 : Dict\n",
    "# 查看很多Api文档时，方法或者类下面都是测试示例的注释，这些就是文档注释\n",
    "# 文档注释可以更明确的告诉函数的调用者改函数的期望输入和输出\n",
    "# https://www.liaoxuefeng.com/wiki/1016959663602400/1017605739507840"
   ]
  }
 ],
 "metadata": {
  "kernelspec": {
   "display_name": "Python 3",
   "language": "python",
   "name": "python3"
  },
  "language_info": {
   "codemirror_mode": {
    "name": "ipython",
    "version": 3
   },
   "file_extension": ".py",
   "mimetype": "text/x-python",
   "name": "python",
   "nbconvert_exporter": "python",
   "pygments_lexer": "ipython3",
   "version": "3.7.4"
  }
 },
 "nbformat": 4,
 "nbformat_minor": 2
}
