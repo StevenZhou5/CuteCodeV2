{
 "cells": [
  {
   "cell_type": "markdown",
   "metadata": {},
   "source": [
    "# 访问数据库\n",
    "```python\n",
    "程序运行的时候，数据都是在内存中的。当程序终止的时候，通常都需要将数据保存到磁盘上，无论是保存到本地磁盘，还是通过网络保存到服务器上，最终都会将数据写入磁盘文件。\n",
    "\n",
    "而如何定义数据的存储格式就是一个大问题。如果我们自己来定义存储格式，比如保存一个班级所有学生的成绩单：\n",
    "\n",
    "名字\t成绩\n",
    "Michael\t99\n",
    "Bob\t85\n",
    "Bart\t59\n",
    "Lisa\t87\n",
    "你可以用一个文本文件保存，一行保存一个学生，用,隔开：\n",
    "\n",
    "Michael,99\n",
    "Bob,85\n",
    "Bart,59\n",
    "Lisa,87\n",
    "\n",
    "你还可以用JSON格式保存，也是文本文件：\n",
    "\n",
    "[\n",
    "    {\"name\":\"Michael\",\"score\":99},\n",
    "    {\"name\":\"Bob\",\"score\":85},\n",
    "    {\"name\":\"Bart\",\"score\":59},\n",
    "    {\"name\":\"Lisa\",\"score\":87}\n",
    "]\n",
    "你还可以定义各种保存格式，但是问题来了：\n",
    "\n",
    "存储和读取需要自己实现，JSON还是标准，自己定义的格式就各式各样了；\n",
    "\n",
    "不能做快速查询，只有把数据全部读到内存中才能自己遍历，但有时候数据的大小远远超过了内存（比如蓝光电影，40GB的数据），根本无法全部读入内存。\n",
    "\n",
    "为了便于程序保存和读取数据，而且，能直接通过条件快速查询到指定的数据，就出现了数据库（Database）这种专门用于集中存储和查询的软件。\n",
    "\n",
    "数据库软件诞生的历史非常久远，早在1950年数据库就诞生了。经历了网状数据库，层次数据库，我们现在广泛使用的关系数据库是20世纪70年代基于关系模型的基础上诞生的。\n",
    "\n",
    "关系模型有一套复杂的数学理论，但是从概念上是十分容易理解的。举个学校的例子：\n",
    "\n",
    "假设某个XX省YY市ZZ县第一实验小学有3个年级，要表示出这3个年级，可以在Excel中用一个表格画出来：\n",
    "\n",
    "grade\n",
    "\n",
    "每个年级又有若干个班级，要把所有班级表示出来，可以在Excel中再画一个表格：\n",
    "\n",
    "class\n",
    "\n",
    "这两个表格有个映射关系，就是根据Grade_ID可以在班级表中查找到对应的所有班级：\n",
    "\n",
    "grade-classes\n",
    "\n",
    "也就是Grade表的每一行对应Class表的多行，在关系数据库中，这种基于表（Table）的一对多的关系就是关系数据库的基础。\n",
    "\n",
    "根据某个年级的ID就可以查找所有班级的行，这种查询语句在关系数据库中称为SQL语句，可以写成：\n",
    "\n",
    "SELECT * FROM classes WHERE grade_id = '1';\n",
    "结果也是一个表：\n",
    "\n",
    "---------+----------+----------\n",
    "grade_id | class_id | name\n",
    "---------+----------+----------\n",
    "1        | 11       | 一年级一班\n",
    "---------+----------+----------\n",
    "1        | 12       | 一年级二班\n",
    "---------+----------+----------\n",
    "1        | 13       | 一年级三班\n",
    "---------+----------+----------\n",
    "类似的，Class表的一行记录又可以关联到Student表的多行记录：\n",
    "\n",
    "class-students\n",
    "```\n",
    "由于本教程不涉及到关系数据库的详细内容，如果你想从零学习关系数据库和基本的SQL语句，如果你想从零学习关系数据库和基本的SQL语句，请参考[SQL教程](https://www.liaoxuefeng.com/wiki/1177760294764384)。\n",
    "\n",
    "# NoSQL\n",
    "你也许还听说过NoSQL数据库，很多NoSQL宣传其速度和规模远远超过关系数据库，所以很多同学觉得有了NoSQL是否就不需要SQL了呢？千万不要被他们忽悠了，连SQL都不明白怎么可能搞明白NoSQL呢？\n",
    "\n",
    "# 数据库类别\n",
    "既然我们要使用关系数据库，就必须选择一个关系数据库。目前广泛使用的关系数据库也就这么几种：\n",
    "\n",
    "付费的商用数据库：\n",
    "\n",
    "Oracle，典型的高富帅；\n",
    "\n",
    "SQL Server，微软自家产品，Windows定制专款；\n",
    "\n",
    "DB2，IBM的产品，听起来挺高端；\n",
    "\n",
    "Sybase，曾经跟微软是好基友，后来关系破裂，现在家境惨淡。\n",
    "\n",
    "这些数据库都是不开源而且付费的，最大的好处是花了钱出了问题可以找厂家解决，不过在Web的世界里，常常需要部署成千上万的数据库服务器，当然不能把大把大把的银子扔给厂家，所以，无论是Google、Facebook，还是国内的BAT，无一例外都选择了免费的开源数据库：\n",
    "\n",
    "MySQL，大家都在用，一般错不了；\n",
    "\n",
    "PostgreSQL，学术气息有点重，其实挺不错，但知名度没有MySQL高；\n",
    "\n",
    "sqlite，嵌入式数据库，适合桌面和移动应用。\n",
    "\n",
    "作为Python开发工程师，选择哪个免费数据库呢？当然是MySQL。因为MySQL普及率最高，出了错，可以很容易找到解决方法。而且，围绕MySQL有一大堆监控和运维的工具，安装和使用很方便。\n",
    "\n",
    "为了能继续后面的学习，你需要从MySQL官方网站下载并安装MySQL Community Server 5.6，这个版本是免费的，其他高级版本是要收钱的（请放心，收钱的功能我们用不上）。"
   ]
  },
  {
   "cell_type": "markdown",
   "metadata": {},
   "source": [
    "\n"
   ]
  },
  {
   "cell_type": "markdown",
   "metadata": {},
   "source": [
    "# 一、使用SQLite\n",
    "SQLite是一种嵌入式数据库，它的数据库就是一个文件。由于SQLite本身是C写的，而且体积很小，所以，经常被集成到各种应用程序中，甚至在iOS和Android的App中都可以集成。\n",
    "\n",
    "Python就内置了SQLite3，所以，在Python中使用SQLite，不需要安装任何东西，直接使用。\n",
    "\n",
    "在使用SQLite前，我们先要搞清楚几个概念：\n",
    "\n",
    "表是数据库中存放关系数据的集合，一个数据库里面通常都包含多个表，比如学生的表，班级的表，学校的表，等等。表和表之间通过外键关联。\n",
    "\n",
    "要操作关系数据库，首先需要连接到数据库，一个数据库连接称为Connection；\n",
    "\n",
    "连接到数据库后，需要打开游标，称之为Cursor，通过Cursor执行SQL语句，然后，获得执行结果。\n",
    "\n",
    "Python定义了一套操作数据库的API接口，任何数据库要连接到Python，只需要提供符合Python标准的数据库驱动即可。\n",
    "\n",
    "由于SQLite的驱动内置在Python标准库中，所以我们可以直接来操作SQLite数据库。"
   ]
  },
  {
   "cell_type": "code",
   "execution_count": 2,
   "metadata": {},
   "outputs": [
    {
     "data": {
      "text/plain": [
       "<sqlite3.Cursor at 0x110844650>"
      ]
     },
     "execution_count": 2,
     "metadata": {},
     "output_type": "execute_result"
    }
   ],
   "source": [
    "# 我们在Python中实践一下：\n",
    "import sqlite3 # 导入SQLite驱动\n",
    "# 连接到SQLite数据库\n",
    "# 数据库文件是test.db\n",
    "# 如果文件不存在，会自动在当前目录创建:\n",
    "conn = sqlite3.connect('test.db')\n",
    "\n",
    "# 创建一个Cursor\n",
    "cursor = conn.cursor()\n",
    "# 执行一条SQL语句，创建user表：\n",
    "cursor.execute('create table user (id varchar(20) primary key, name varchar(20))')"
   ]
  },
  {
   "cell_type": "code",
   "execution_count": 3,
   "metadata": {},
   "outputs": [
    {
     "data": {
      "text/plain": [
       "<sqlite3.Cursor at 0x110844650>"
      ]
     },
     "execution_count": 3,
     "metadata": {},
     "output_type": "execute_result"
    }
   ],
   "source": [
    "# 继续执行有一条SQL语句，插入一条记录\n",
    "cursor.execute('insert into user (id, name) values (\\'1\\',\\'Alice\\')')"
   ]
  },
  {
   "cell_type": "code",
   "execution_count": 4,
   "metadata": {},
   "outputs": [
    {
     "data": {
      "text/plain": [
       "1"
      ]
     },
     "execution_count": 4,
     "metadata": {},
     "output_type": "execute_result"
    }
   ],
   "source": [
    "# 通过rowcount获得插入的行数\n",
    "cursor.rowcount"
   ]
  },
  {
   "cell_type": "code",
   "execution_count": 5,
   "metadata": {},
   "outputs": [],
   "source": [
    "#关闭Cursor:\n",
    "cursor.close()"
   ]
  },
  {
   "cell_type": "code",
   "execution_count": 6,
   "metadata": {},
   "outputs": [],
   "source": [
    "#提交事务\n",
    "conn.commit()"
   ]
  },
  {
   "cell_type": "code",
   "execution_count": 7,
   "metadata": {},
   "outputs": [],
   "source": [
    "# 关闭Connection\n",
    "conn.close()"
   ]
  },
  {
   "cell_type": "code",
   "execution_count": 8,
   "metadata": {},
   "outputs": [
    {
     "data": {
      "text/plain": [
       "<sqlite3.Cursor at 0x1109f1a40>"
      ]
     },
     "execution_count": 8,
     "metadata": {},
     "output_type": "execute_result"
    }
   ],
   "source": [
    "# 我们在实时查询记录\n",
    "import sqlite3\n",
    "conn = sqlite3.connect('test.db')\n",
    "cursor = conn.cursor()\n",
    "# 执行查询语句：\n",
    "cursor.execute('select * from user where id=?',('1',))"
   ]
  },
  {
   "cell_type": "code",
   "execution_count": 9,
   "metadata": {},
   "outputs": [
    {
     "data": {
      "text/plain": [
       "[('1', 'Alice')]"
      ]
     },
     "execution_count": 9,
     "metadata": {},
     "output_type": "execute_result"
    }
   ],
   "source": [
    "values = cursor.fetchall()\n",
    "values"
   ]
  },
  {
   "cell_type": "code",
   "execution_count": 10,
   "metadata": {},
   "outputs": [],
   "source": [
    "cursor.close()\n",
    "conn.close()"
   ]
  },
  {
   "cell_type": "markdown",
   "metadata": {},
   "source": [
    "```python\n",
    "使用Python的DB-API时，只要搞清楚Connection和Cursor对象，打开后一定记得关闭，就可以放心地使用。\n",
    "使用Cursor对象执行insert，update，delete语句时，执行结果由rowcount返回影响的行数，就可以拿到执行结果。\n",
    "\n",
    "使用Cursor对象执行select语句时，通过featchall()可以拿到结果集。结果集是一个list，每个元素都是一个tuple，对应一行记录。\n",
    "\n",
    "如果SQL语句带有参数，那么需要把参数按照位置传递给execute()方法，有几个?占位符就必须对应几个参数，例如：\n",
    "\n",
    "cursor.execute('select * from user where name=? and pwd=?', ('abc', 'password'))\n",
    "SQLite支持常见的标准SQL语句以及几种常见的数据类型。具体文档请参阅SQLite官方网站。\n",
    "```\n",
    "# 小结\n",
    "在Python中操作数据库时，要先导入数据库对应的驱动，然后，通过Connection对象和Cursor对象操作数据。\n",
    "\n",
    "要确保打开的Connection对象和Cursor对象都正确地被关闭，否则，资源就会泄露。\n",
    "\n",
    "如何才能确保出错的情况下也关闭掉Connection对象和Cursor对象呢？请回忆try:...except:...finally:...的用法。"
   ]
  },
  {
   "cell_type": "code",
   "execution_count": null,
   "metadata": {},
   "outputs": [],
   "source": [
    "\n",
    "\n"
   ]
  },
  {
   "cell_type": "markdown",
   "metadata": {},
   "source": [
    "# 二、使用MySQL\n",
    "MySQL是Web世界中使用最广泛的数据库服务器。SQLite的特点是轻量级、可嵌入，但不能承受高并发访问，适合桌面和移动应用。而MySQL是为服务器端设计的数据库，能承受高并发访问，同时占用的内存也远远大于SQLite。\n",
    "\n",
    "此外，MySQL内部有多种数据库引擎，最常用的引擎是支持数据库事务的InnoDB。\n",
    "\n",
    "## [安装MySql](https://juejin.im/post/5cc2a52ce51d456e7079f27f)\n",
    "\n",
    "## 安装MySQL驱动\n",
    "```python\n",
    "pip install pymysql\n",
    "```"
   ]
  },
  {
   "cell_type": "code",
   "execution_count": 12,
   "metadata": {},
   "outputs": [
    {
     "name": "stderr",
     "output_type": "stream",
     "text": [
      "/Library/Frameworks/Python.framework/Versions/3.7/lib/python3.7/site-packages/pymysql/cursors.py:329: Warning: (3719, \"'utf8' is currently an alias for the character set UTF8MB3, but will be an alias for UTF8MB4 in a future release. Please consider using UTF8MB4 in order to be unambiguous.\")\n",
      "  self._do_get_result()\n"
     ]
    }
   ],
   "source": [
    "# 我们演示如何连接到MySQL服务器的test数据库：\n",
    "import pymysql\n",
    "# 创建数据库连接，注意这里加入了charset和cursorclass参数\n",
    "conn = pymysql.connect(\n",
    "    host = '127.0.0.1',\n",
    "    user = 'root',\n",
    "    password = '891208',\n",
    "    database = 'test',\n",
    "    charset = 'utf8',\n",
    "    cursorclass = pymysql.cursors.DictCursor)\n",
    "\n",
    "# 获取游标\n",
    "cursor = conn.cursor()\n",
    "# 构建数据表的sql语句\n",
    "sql = '''\n",
    "CREATE TABLE para5(\n",
    "    id int UNSIGNED AUTO_INCREMENT  ,\n",
    "    name varchar(30) NOT NULL,\n",
    "    age int NOT NULL,\n",
    "    PRIMARY KEY(id)\n",
    ")ENGINE=INNODB DEFAULT charset=utf8;\n",
    "'''\n",
    "\n",
    "try:\n",
    "    # 执行sql语句\n",
    "    cursor.execute(sql)\n",
    "    # 提交运行\n",
    "    conn.commit()\n",
    "except Exception as e:\n",
    "    # 如果执行sql语句出现问题，则执行回滚操作\n",
    "    conn.rollback()\n",
    "    print(e)\n",
    "finally:\n",
    "    # 不论执行成功与否，都要关闭游标和数据库连接\n",
    "    cursor.close()\n",
    "    conn.close()"
   ]
  },
  {
   "cell_type": "code",
   "execution_count": 17,
   "metadata": {},
   "outputs": [],
   "source": [
    "# 向MySql数据库中插入数据\n",
    "import pymysql\n",
    "conn = pymysql.connect(\n",
    "    host = 'localhost',\n",
    "    user = 'root',\n",
    "    password = '891208',\n",
    "    database = 'test',\n",
    "    charset = 'utf8',\n",
    "    cursorclass = pymysql.cursors.DictCursor)\n",
    "# 获取游标\n",
    "cursor = conn.cursor()\n",
    "\n",
    "# 构建一条插入语句的sql:有几个%s就对应几个参数\n",
    "insert_sql = '''\n",
    "INSERT INTO para5(name,age) VALUES(%s,%s);\n",
    "'''\n",
    "try:\n",
    "    # 执行多次insert并返回受影响的行数\n",
    "    cursor.executemany(insert_sql,[('张三','12'),('李四','15'),('王五','18')])\n",
    "    # 提交执行\n",
    "    conn.commit()\n",
    "except Exception as e:\n",
    "    # 如果出现问题，进行回滚\n",
    "    conn.rollback()\n",
    "    print(e)\n",
    "finally:\n",
    "    # 关闭游标和数据库连接\n",
    "    cursor.close()\n",
    "    conn.close()"
   ]
  },
  {
   "cell_type": "code",
   "execution_count": 21,
   "metadata": {},
   "outputs": [
    {
     "name": "stdout",
     "output_type": "stream",
     "text": [
      "{'id': 4, 'name': '张三', 'age': 12}\n",
      "[{'id': 5, 'name': '李四', 'age': 15}, {'id': 6, 'name': '王五', 'age': 18}]\n",
      "id: 5; name: 李四, age:15\n",
      "id: 6; name: 王五, age:18\n"
     ]
    }
   ],
   "source": [
    "# 从MySql数据库查询数据\n",
    "import pymysql\n",
    "# 创建数据库连接，\n",
    "conn = pymysql.connect(\n",
    "    host = '127.0.0.1',\n",
    "    user = 'root',\n",
    "    password = '891208',\n",
    "    database = 'test',\n",
    "    charset = 'utf8',\n",
    "    cursorclass = pymysql.cursors.DictCursor)\n",
    "\n",
    "# 获取游标\n",
    "cursor = conn.cursor()\n",
    "# 构建查询数据的sql\n",
    "query_sql = '''\n",
    "SELECT * FROM para5;\n",
    "'''\n",
    "# 执行查询\n",
    "cursor.execute(query_sql)\n",
    "\n",
    "# cursor.fetchone():查询一条数据出来，这条查询出来的数据，后续在用这个cursor是查不多出来了\n",
    "one_result = cursor.fetchone()\n",
    "print(one_result)\n",
    "\n",
    "# fetchall():获取所有数据，默认以元组的方式返回，\n",
    "# 如果你指定了cursorclass = pymysql.cursors.DictCursor，则以dict的方式返回\n",
    "result = cursor.fetchall()\n",
    "print(result)\n",
    "for row in result:\n",
    "    print('id: %s; name: %s, age:%s' % (row['id'],row['name'],row['age']))\n",
    "\n",
    "cursor.close()\n",
    "conn.close()"
   ]
  },
  {
   "cell_type": "code",
   "execution_count": null,
   "metadata": {},
   "outputs": [],
   "source": [
    "# pymysql中有几个方法的参数构造上很容易和字符串格式化相互混淆\n",
    "self.cur.execute(query,params)\n",
    "self.cur.executemany(query,params)\n",
    "\n",
    "# 构造：\n",
    "cursor.execute(\"INSERT INTO para5(name,age) VALUES(%s,%s);\",('次牛','12'))\n",
    "cursor.executemany(\"INSERT INTO para5(name,age) VALUES(%s,%s);\", [('次牛444', '12'), (\"次牛2\", '11'), ('次牛3', '10')])\n",
    "\n",
    "# 注意：这里没有字符串格式化里面的%d，%f，只有%s"
   ]
  },
  {
   "cell_type": "code",
   "execution_count": null,
   "metadata": {},
   "outputs": [],
   "source": [
    "\n",
    "\n"
   ]
  },
  {
   "cell_type": "markdown",
   "metadata": {},
   "source": [
    "# 使用SQLAlchemy\n"
   ]
  }
 ],
 "metadata": {
  "kernelspec": {
   "display_name": "Python 3",
   "language": "python",
   "name": "python3"
  },
  "language_info": {
   "codemirror_mode": {
    "name": "ipython",
    "version": 3
   },
   "file_extension": ".py",
   "mimetype": "text/x-python",
   "name": "python",
   "nbconvert_exporter": "python",
   "pygments_lexer": "ipython3",
   "version": "3.7.4"
  }
 },
 "nbformat": 4,
 "nbformat_minor": 2
}
