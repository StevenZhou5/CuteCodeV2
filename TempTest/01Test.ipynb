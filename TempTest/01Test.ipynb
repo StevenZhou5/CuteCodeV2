{
 "cells": [
  {
   "cell_type": "code",
   "execution_count": 1,
   "metadata": {},
   "outputs": [],
   "source": [
    "import numpy as np\n",
    "import re"
   ]
  },
  {
   "cell_type": "code",
   "execution_count": 10,
   "metadata": {},
   "outputs": [
    {
     "name": "stdout",
     "output_type": "stream",
     "text": [
      ",\n",
      "['1', '2', '3', '4', '5', '', '6']\n",
      "3\n",
      "1,2,3,4,5,,6\n",
      "['1', '2', '3,4,5,,6']\n",
      "['1,2', ',3,', '4,5', ',,6']\n",
      "1,2,3\n",
      "1,2,3,4,5,,6\n",
      ",\n"
     ]
    }
   ],
   "source": [
    "# 字符串分割的方法\n",
    "source = \"1,2,3,4,5,,6\"\n",
    "print(source[1])\n",
    "source_splits = source.split(',')\n",
    "print(source_splits) # 按某个分割符分割\n",
    "\n",
    "print(source.split(',')[2]) # 按照索引取出分割后列表中的某个值\n",
    "\n",
    "print(','.join(source_splits)) # 把分割后的数据在拼接成字符串\n",
    "\n",
    "# str.split(str=\"\", num=string.count(str)). \n",
    "#str -- 分隔符，默认为所有的空字符，包括空格、换行(\\n)、制表符(\\t)等。\n",
    "# num -- 分割次数。默认为 -1, 即分隔所有。\n",
    "print(source.split(',',2)) # 以','为分割符，分割成3个字符串\n",
    "\n",
    "print(re.findall(r'.{3}',source)) # 利用re函数将字符串按照长度为3一组进行分割\n",
    "\n",
    "# [from : to] \n",
    "print(source[0:5]) # 取出索引位置0至索引位置5的字符串\n",
    "\n",
    "s_list = source[::]\n",
    "print(s_list)\n",
    "print(s_list[-2])"
   ]
  },
  {
   "cell_type": "code",
   "execution_count": 22,
   "metadata": {},
   "outputs": [
    {
     "data": {
      "text/plain": [
       "True"
      ]
     },
     "execution_count": 22,
     "metadata": {},
     "output_type": "execute_result"
    }
   ],
   "source": [
    "# 判断一个字符串是否可以被一个词表中的词表示出来\n",
    "vocab = ['a','ab','c','s','d']\n",
    "def isCanOutput(s):\n",
    "    # 如果在词表中直接返回\n",
    "    if s in vocab:\n",
    "#         print(s)\n",
    "        return True\n",
    "    \n",
    "    # 按照索引位置分割成两个字符串，如果两个字符串都能被字典表示则整个字符串可以被字典表示\n",
    "    s_len = len(s)\n",
    "    for i in range(1,s_len): # 从索引位置1开始\n",
    "        # 按照位置索引分割成两个字符串\n",
    "        s1 = s[0:i] \n",
    "        s2 = s[i:s_len]\n",
    "#         print(s1)\n",
    "#         print(s2)\n",
    "        if isCanOutput(s1) and isCanOutput(s2):\n",
    "            return True\n",
    "    \n",
    "    # 当所有分割情况下都不能被表示则说明不能被字典表示\n",
    "    return False \n",
    "        \n",
    "isCanOutput(\"absdsd\")"
   ]
  },
  {
   "cell_type": "code",
   "execution_count": 38,
   "metadata": {},
   "outputs": [
    {
     "name": "stdout",
     "output_type": "stream",
     "text": [
      "[36, 71, 30, 12, 62, 53, 98, 53, 76, 65, 'haha', 'xixi']\n",
      "[36, 71, 30, 12, 62, 53, 98, 53, 76, 65, 'haha', 'xixi', 'aiyou']\n",
      "[36, 53, 98, 53, 76, 65, 'haha', 'xixi']\n",
      "[36, 53, 98, 53, 76, 65, 'haha']\n",
      "[]\n"
     ]
    }
   ],
   "source": [
    "# 根据目标元素所在位置的索引值进行删除，可使用 del 语句；\n",
    "# 根据元素的值进行删除，可使用列表（list类型）提供的 remove() 方法；\n",
    "# 将列表中所有元素全部删除，可使用列表（list类型）提供的 clear() 方法。\n",
    "# A = [1,2,3,4,5,6,7,8,9,\"haha\",\"xixi\",\"aiyou\"]\n",
    "A = np.random.randint(100,size=10).tolist()\n",
    "A.append(\"haha\")\n",
    "A.append(\"xixi\")\n",
    "A.append(\"aiyou\")\n",
    "copyA = A.copy()\n",
    "def delLastItem(a):\n",
    "#     a = a.copy() # 如果使用copy数据，将不会影响原来的A\n",
    "    del a[-1] # 删除最后一个元素\n",
    "delLastItem(A)\n",
    "print(A)\n",
    "print(copyA)\n",
    "\n",
    "del A[1:5] # 删除索引为1到索引为5-1的元素，左闭右开\n",
    "print(A)\n",
    "\n",
    "A.remove(\"xixi\") # 删除“xixi”这个元素\n",
    "print(A)\n",
    "\n",
    "A.clear() # 清空列表\n",
    "print(A)"
   ]
  },
  {
   "cell_type": "code",
   "execution_count": 30,
   "metadata": {},
   "outputs": [
    {
     "data": {
      "text/plain": [
       "5"
      ]
     },
     "execution_count": 30,
     "metadata": {},
     "output_type": "execute_result"
    }
   ],
   "source": [
    "max(3,5)"
   ]
  },
  {
   "cell_type": "code",
   "execution_count": 42,
   "metadata": {},
   "outputs": [
    {
     "name": "stdout",
     "output_type": "stream",
     "text": [
      "[17, 4, 95, 65, 57, 17, 26, 83, 72, 25]\n",
      "277\n"
     ]
    }
   ],
   "source": [
    "# 小偷偷东西：价值最大化，房间串联，不能偷连续的两家\n",
    "\n",
    "def getMaxValue(rooms,isStealLastRoom):\n",
    "    \"\"\"\n",
    "    rooms:剩下要偷的房间数\n",
    "    isStealLastRoom：是否偷了前面一家的用户\n",
    "    \"\"\"\n",
    "    rooms = rooms.copy() # 为了不影响原始数据这里需要对数据进行copy\n",
    "    room_count = len(rooms)\n",
    "    if room_count == 0:\n",
    "        return 0\n",
    "    \n",
    "    # 房间为1\n",
    "    if room_count == 1: \n",
    "        if isStealLastRoom: \n",
    "            return 0\n",
    "        else:\n",
    "            return rooms[0]\n",
    "    \n",
    "    \n",
    "    if isStealLastRoom: # 如果投了前面一家，这家一定不能偷\n",
    "        del rooms[0] \n",
    "        return getMaxValue(rooms,False)\n",
    "    else: # 没有偷上一家\n",
    "        current_value = rooms[0]\n",
    "        del rooms[0]\n",
    "        return max(current_value+getMaxValue(rooms,True),getMaxValue(rooms,False))\n",
    "rooms = np.random.randint(100,size=10).tolist()\n",
    "print(rooms)\n",
    "maxValue = getMaxValue(rooms,False)\n",
    "print(maxValue)"
   ]
  },
  {
   "cell_type": "code",
   "execution_count": 45,
   "metadata": {},
   "outputs": [
    {
     "name": "stdout",
     "output_type": "stream",
     "text": [
      "[1, 'haha']\n"
     ]
    }
   ],
   "source": [
    "# python List指定索引位置添加\n",
    "A = [1,2,3,4]\n",
    "A.insert(1,\"haha\") # 在位置1上上插入元素“haha”\n",
    "print(A)"
   ]
  },
  {
   "cell_type": "code",
   "execution_count": 48,
   "metadata": {},
   "outputs": [],
   "source": [
    "for i in range(1,1):\n",
    "    print(i)"
   ]
  },
  {
   "cell_type": "code",
   "execution_count": 56,
   "metadata": {},
   "outputs": [
    {
     "name": "stdout",
     "output_type": "stream",
     "text": [
      "1\n",
      "4\n",
      "\n",
      "2\n",
      "2\n",
      "\n",
      "3\n",
      "2\n",
      "\n"
     ]
    }
   ],
   "source": [
    "# 利用Counter来统计出现次数从高到底的(value，出现的次数)\n",
    "from collections import Counter\n",
    "A = [1,1,1,1,2,2,3,3]   \n",
    "for i, j in Counter(A).most_common():\n",
    "    print(i)\n",
    "    print(j)\n",
    "    print()"
   ]
  },
  {
   "cell_type": "code",
   "execution_count": 74,
   "metadata": {},
   "outputs": [
    {
     "name": "stdout",
     "output_type": "stream",
     "text": [
      "[1, 0, 5, 0, 5, 0, 6, 0, 4, 0]\n",
      "[1, -1, 5, -1, 5, -1, 6, -1, 4, -1]\n"
     ]
    }
   ],
   "source": [
    "# 在列表中插入值的测试\n",
    "ans = [0] * 10\n",
    "ans [::2] = [1,5,5,6,4] # 从位置0开始，每隔一个数插入一个值\n",
    "print(ans)\n",
    "ans [1::2] = [-1,-1,-1,-1,-1] # 从位置1开始，每隔一个数插入一个值\n",
    "print(ans)"
   ]
  },
  {
   "cell_type": "code",
   "execution_count": 60,
   "metadata": {},
   "outputs": [
    {
     "name": "stdout",
     "output_type": "stream",
     "text": [
      "data: [1, 1, 1, 1, 2, 2, 3, 3, 4, 4]\n",
      "ans: [0, 0, 0, 0, 0, 0, 0, 0, 0, 0]\n",
      "ans: [1, 0, 1, 0, 1, 0, 1, 0, 2, 0]\n"
     ]
    },
    {
     "data": {
      "text/plain": [
       "[1, 2, 1, 3, 1, 3, 1, 4, 2, 4]"
      ]
     },
     "execution_count": 60,
     "metadata": {},
     "output_type": "execute_result"
    }
   ],
   "source": [
    "def rearrangeBarcodes(barcodes):\n",
    "        from collections import Counter\n",
    "        # 先按照出现次数从高到底排序\n",
    "        data = []\n",
    "        for i, j in Counter(barcodes).most_common():\n",
    "            data += [i] * j\n",
    "        l = len(data)\n",
    "        \n",
    "        # 将前一半数从0位置，间隔一个位置依次插入；将剩下的一半的数依次插入到间隔位置\n",
    "        ans = [0] * l\n",
    "        print(\"data:\",data)\n",
    "        print(\"ans:\",ans)\n",
    "        ans[::2] = data[:(l+1)//2] # 取出data的前面一半的数依次插入ans列表:规则是从位置0开始隔一个数插入一个值\n",
    "        print(\"ans:\",ans)\n",
    "        ans[1::2] = data[(l+1)//2:] # 取出后面一半的数依次插入：规则是从位置1开始每隔一个数插入一个值\n",
    "        return ans\n",
    "rearrangeBarcodes([1,1,1,1,2,2,3,3,4,4])\n",
    "    "
   ]
  },
  {
   "cell_type": "code",
   "execution_count": 75,
   "metadata": {},
   "outputs": [
    {
     "data": {
      "text/plain": [
       "4"
      ]
     },
     "execution_count": 75,
     "metadata": {},
     "output_type": "execute_result"
    }
   ],
   "source": [
    "max([1, 2, 1, 3, 1, 3, 1, 4, 2, 4])"
   ]
  },
  {
   "cell_type": "code",
   "execution_count": 94,
   "metadata": {},
   "outputs": [
    {
     "name": "stdout",
     "output_type": "stream",
     "text": [
      "[[32, 16], [35, 23], [37, 33]]\n",
      "48\n"
     ]
    }
   ],
   "source": [
    "# 条件过滤\n",
    "A = [[20,48],[12,35],[32,16],[30,17],[35,23],[37,33],[14,10],[23,31],[8,7],[17,6],[6,19],[3,6],[22,34],[10,26],[16,46]]\n",
    "B = [[item[0],item[1]]  for item in A if item[0]>30 and item[1]>15]\n",
    "print(B)\n",
    "print(A[0][1])"
   ]
  },
  {
   "cell_type": "code",
   "execution_count": 93,
   "metadata": {},
   "outputs": [
    {
     "name": "stdout",
     "output_type": "stream",
     "text": [
      "{'A': 5, '[32, 16]': 5}\n",
      "True\n"
     ]
    }
   ],
   "source": [
    "A= {}\n",
    "A ['A'] = 5\n",
    "A[str([32,16])] = 5\n",
    "print(A)\n",
    "print('A' in A)"
   ]
  },
  {
   "cell_type": "code",
   "execution_count": 14,
   "metadata": {},
   "outputs": [
    {
     "name": "stdout",
     "output_type": "stream",
     "text": [
      "坐标： 2 , 1\n",
      "16\n",
      "坐标： 14 , 0\n",
      "16\n",
      "[[20]]\n"
     ]
    }
   ],
   "source": [
    "A = [[20,48],[12,35],[32,16],[30,17],[35,23],[37,33],[14,10],[23,31],[8,7],[17,6],[6,19],[3,6],[22,34],[10,26],[16,46]]\n",
    "for idx1, value1 in enumerate(A):\n",
    "    for idx2 ,value2 in enumerate(value1):\n",
    "        if value2 == 16:\n",
    "            print(\"坐标：\",idx1,\",\",idx2)\n",
    "            print(value2)\n",
    "B = [[value2 for idx2,value2 in enumerate(value1) if idx2 ==0] for idx1, value1 in enumerate(A) if idx1 ==0]\n",
    "print(B)\n",
    "# C =  [value1 for  value1 in A if value1[i for i in range(len(value1))]==48]\n",
    "# print(C)"
   ]
  },
  {
   "cell_type": "code",
   "execution_count": 18,
   "metadata": {},
   "outputs": [
    {
     "data": {
      "text/plain": [
       "10"
      ]
     },
     "execution_count": 18,
     "metadata": {},
     "output_type": "execute_result"
    }
   ],
   "source": [
    "100//10"
   ]
  },
  {
   "cell_type": "code",
   "execution_count": 47,
   "metadata": {},
   "outputs": [
    {
     "name": "stdout",
     "output_type": "stream",
     "text": [
      "1 ; 2\n",
      "1\n"
     ]
    }
   ],
   "source": [
    "# 获得一个10叉数节点的个数\n",
    "def get_count(cur,n):\n",
    "    \"\"\"\n",
    "    current: 当前节点的数值\n",
    "    n:最大节点的数值\n",
    "    \"\"\"\n",
    "    # 思路：用同一层的下一个节点的数值来辅助计算：如果在不超过n的时候(满树)，每一层往下下去都增加了10^(L+1)个数\n",
    "    nxt = cur + 1  # 一开始是10^0个数\n",
    "    \n",
    "    count = 0\n",
    "    while(cur <= n):\n",
    "        print(cur,\";\",nxt)\n",
    "        if nxt <= n: # 如果next的值任然比n小：则用nxt-cur可以得到这层的结点总数\n",
    "            count += nxt - cur\n",
    "        else: # 如果此时next已经大于n了，那么这层的所有结点数为\n",
    "            count += (n+1) - cur # 最后一层的结点数\n",
    "        \n",
    "        cur *= 10\n",
    "        nxt *= 10\n",
    "    \n",
    "    return count\n",
    "\n",
    "print(get_count(1,2))"
   ]
  },
  {
   "cell_type": "code",
   "execution_count": 51,
   "metadata": {},
   "outputs": [
    {
     "name": "stdout",
     "output_type": "stream",
     "text": [
      "10\n"
     ]
    }
   ],
   "source": [
    "# 找出字典序中第K小的数字\n",
    "def get_count(cur,n):\n",
    "    nxt = cur + 1\n",
    "    count = 0\n",
    "    while(cur <= n):\n",
    "        if nxt <= n:\n",
    "            count += nxt - cur\n",
    "        else:\n",
    "            count += (n+1) - cur\n",
    "        \n",
    "        cur *= 10\n",
    "        nxt *= 10\n",
    "    return count\n",
    "\n",
    "n = 10 \n",
    "k = 2\n",
    "\n",
    "cur = 1 # 先从第一个结点开始找\n",
    "while(k > 0):\n",
    "    value = cur\n",
    "    count = get_count(cur,n)\n",
    "    if count >= k: # 说明此时要找的点就在这个结点的下\n",
    "        cur *= 10\n",
    "        k -=1\n",
    "    else: # 说明没有找到\n",
    "        cur +=1\n",
    "        k -= count\n",
    "    \n",
    "    \n",
    "print(value)\n"
   ]
  },
  {
   "cell_type": "code",
   "execution_count": 57,
   "metadata": {},
   "outputs": [
    {
     "name": "stdout",
     "output_type": "stream",
     "text": [
      "1\n",
      "3\n"
     ]
    }
   ],
   "source": [
    "# range 的顺序遍历\n",
    "for i in range(1,5):\n",
    "    print(i)"
   ]
  },
  {
   "cell_type": "code",
   "execution_count": 56,
   "metadata": {},
   "outputs": [
    {
     "name": "stdout",
     "output_type": "stream",
     "text": [
      "5\n",
      "4\n",
      "3\n",
      "2\n",
      "1\n",
      "0\n"
     ]
    }
   ],
   "source": [
    "# range 的倒序遍历\n",
    "for i in range(5,-1,-1): # 从5到-1，依次步伐为-1\n",
    "    print(i)"
   ]
  },
  {
   "cell_type": "code",
   "execution_count": 63,
   "metadata": {},
   "outputs": [
    {
     "name": "stdout",
     "output_type": "stream",
     "text": [
      "[1, 2, 3, 1, 1, 1, 1]\n",
      "[1, 1, 1, 1, 3, 2, 1]\n",
      "[1, 2, 3, 1, 3, 2, 1]\n"
     ]
    },
    {
     "data": {
      "text/plain": [
       "13"
      ]
     },
     "execution_count": 63,
     "metadata": {},
     "output_type": "execute_result"
    }
   ],
   "source": [
    "# 糖果分发算法\n",
    "def candy(ratings):\n",
    "    stu_nums = len(ratings)\n",
    "    left_to_right = [1] * stu_nums\n",
    "    right_to_left = [1] * stu_nums\n",
    "    \n",
    "    for i in range(stu_nums-1):\n",
    "        if ratings[i+1] > ratings[i]:\n",
    "            left_to_right[i+1] = left_to_right[i] + 1\n",
    "    \n",
    "    for i in range(stu_nums-1,0,-1):\n",
    "        if ratings[i-1] > ratings[i]:\n",
    "            right_to_left[i-1] = right_to_left[i] +1\n",
    "    \n",
    "    print(left_to_right)\n",
    "    print(right_to_left)\n",
    "    \n",
    "    result = [max(left_to_right[i],right_to_left[i]) for i in range(stu_nums)]\n",
    "    print(result)\n",
    "    return sum(result)\n",
    "candy([1,2,87,87,87,2,1])"
   ]
  },
  {
   "cell_type": "code",
   "execution_count": 7,
   "metadata": {},
   "outputs": [
    {
     "name": "stdout",
     "output_type": "stream",
     "text": [
      "B [178, 2, 3, 1, 3, 2, 1]\n"
     ]
    },
    {
     "data": {
      "text/plain": [
       "[]"
      ]
     },
     "execution_count": 7,
     "metadata": {},
     "output_type": "execute_result"
    }
   ],
   "source": [
    "A = [1, 2, 3, 1, 3, 2, 178]\n",
    "B = [A[i] for i in range(len(A)-1,-1,-1)]\n",
    "print(\"B\",B)\n",
    "A.clear()\n",
    "A"
   ]
  },
  {
   "cell_type": "code",
   "execution_count": 9,
   "metadata": {},
   "outputs": [
    {
     "name": "stdout",
     "output_type": "stream",
     "text": [
      "1\n",
      "2\n",
      "3\n",
      "1\n",
      "3\n",
      "2\n",
      "178\n"
     ]
    }
   ],
   "source": [
    "A = [1, 2, 3, 1, 3, 2, 178]\n",
    "for i in A:\n",
    "    print(i)"
   ]
  },
  {
   "cell_type": "code",
   "execution_count": 13,
   "metadata": {},
   "outputs": [
    {
     "data": {
      "text/plain": [
       "6"
      ]
     },
     "execution_count": 13,
     "metadata": {},
     "output_type": "execute_result"
    }
   ],
   "source": [
    "# 接雨水\n",
    "def trap(height):\n",
    "    def get_pool_water(pool):\n",
    "        \"\"\"\n",
    "        获取池子中的水\n",
    "        \"\"\"\n",
    "        height = min(pool[0],pool[-1])\n",
    "        water = 0\n",
    "        for i in range(1,len(pool)-1):\n",
    "            water += height - pool[i]\n",
    "        return water\n",
    "        \n",
    "    total_water = 0\n",
    "    pool = [] # 初始化一个池子，用来接雨水\n",
    "    \n",
    "    for h in height: # 依次取出每个柱子的高度\n",
    "        if len(pool) == 0: # 如果现在池子是空的，需要用柱子来构成池子\n",
    "            if h != 0: # 构成池子的第一根柱子的高度不能为零，\n",
    "                pool.append(h)\n",
    "            continue\n",
    "        else: # 此时池子至少有一根柱子了\n",
    "            if len(pool) == 1: # 如果池子只有一根柱子\n",
    "                if h >= pool[0]: # 如果后面相邻的柱子比池子的第一根柱子高，那么需要更新第一根柱子\n",
    "                    pool[0] = h\n",
    "                else: # 如果比池子的第一根柱子矮，那么需要将它加入构成池子的第二根柱子\n",
    "                    pool.append(h)\n",
    "            else: # 如果池子的柱子数目大于1\n",
    "                if h >= pool[0]: # 构成完整的池子的条件是后面的柱子比第一根柱子高:此时需要把height[i]加入池子\n",
    "                    pool.append(h)\n",
    "                    total_water += get_pool_water(pool)\n",
    "                    # 计算完水量后，构建新池子：此时新池子只有height[i]一根柱子\n",
    "                    pool.clear()\n",
    "                    pool.append(h)\n",
    "                else: # 其他时候说明要继续构建池子:把height[i]添加进去\n",
    "                    pool.append(h)\n",
    "    \n",
    "    if len(pool) <2: # 如果最后的泳池剩下的柱子不足两根，那么说明无法继续构建泳池，此时的装水量达到上限\n",
    "        return total_water\n",
    "    else: # 如果大于两根，此时第一根柱子一定是最长的，现在只要把柱子的顺序颠倒在带到trip(height)中就能得到剩余的装水量了\n",
    "        new_height = [ pool[i]for i in range(len(pool)-1,-1,-1)]\n",
    "        return total_water+trap(new_height)\n",
    "            \n",
    "\n",
    "trap([0,1,0,2,1,0,1,3,2,1,2,1])"
   ]
  },
  {
   "cell_type": "code",
   "execution_count": 3,
   "metadata": {},
   "outputs": [
    {
     "name": "stdout",
     "output_type": "stream",
     "text": [
      "{'2': '嘻嘻', '3': 2165, 1: '哈哈'}\n",
      "-1\n",
      "{'2': '嘻嘻', '3': 2165}\n",
      "{'3': 2165}\n",
      "{'3': 2165, 'pop': '这是一个要测试pop的项'}\n",
      "{'3': 2165}\n",
      "0\n"
     ]
    }
   ],
   "source": [
    "map={}\n",
    "map['2'] = \"嘻嘻\"\n",
    "map['3'] = 2165\n",
    "map[1] = \"哈哈\"\n",
    "print(map)\n",
    "# print(map['sd']) # 如果不在map中也无法访问\n",
    "print(map.get('sd',-1)) # 可以用这种方法来获取对应key的值，如果找不到key，可以返回一个默认值，这里设置的默认值为-1\n",
    "map.popitem()\n",
    "print(map)\n",
    "\n",
    "del map['2'] # 删除字典中的某个key\n",
    "print(map)\n",
    "\n",
    "map['pop'] = \"这是一个要测试pop的项\"\n",
    "print(map)\n",
    "map.pop('pop') # 可以通过key值，调用pop方法移除map中的某一项\n",
    "print(map)\n",
    "\n",
    "map.popitem()\n",
    "print(len(map))\n",
    "# map.popitem() # 如果已经没有元素了，执行这个操作也会报错"
   ]
  },
  {
   "cell_type": "code",
   "execution_count": 24,
   "metadata": {},
   "outputs": [
    {
     "name": "stdout",
     "output_type": "stream",
     "text": [
      "['a', 'b', 'c']\n",
      "['a', 'b']\n"
     ]
    }
   ],
   "source": [
    "# 堆栈\n",
    "stake = []\n",
    "stake.append(\"a\")\n",
    "stake.append(\"b\")\n",
    "stake.append(\"c\")\n",
    "print(stake)\n",
    "stake.pop() # 默认就是后进先出\n",
    "print(stake)"
   ]
  },
  {
   "cell_type": "code",
   "execution_count": 51,
   "metadata": {},
   "outputs": [
    {
     "name": "stdout",
     "output_type": "stream",
     "text": [
      "['a', 'b', 'c']\n",
      "['b', 'c']\n",
      "['b', 'a']\n",
      "['d', 'b', 'a']\n"
     ]
    }
   ],
   "source": [
    "# 队列\n",
    "queue = []\n",
    "queue.append(\"a\")\n",
    "queue.append(\"b\")\n",
    "queue.append(\"c\")\n",
    "print(queue)\n",
    "queue.pop(0) # 如果是从第一个移除就变成的了队列\n",
    "print(queue)\n",
    "\n",
    "queue.append(\"a\")\n",
    "queue.pop(1) # 移除指定索引位置值\n",
    "print(queue)\n",
    "# queue.remove('d') # 如果不在list中不能直接移除\n",
    "# print(queue)\n",
    "queue.insert(0,'d')\n",
    "print(queue)"
   ]
  },
  {
   "cell_type": "code",
   "execution_count": 31,
   "metadata": {},
   "outputs": [
    {
     "name": "stdout",
     "output_type": "stream",
     "text": [
      "还没满了\n"
     ]
    }
   ],
   "source": [
    "def is_full():\n",
    "    return False\n",
    "if not is_full():\n",
    "    print(\"还没满了\")"
   ]
  },
  {
   "cell_type": "code",
   "execution_count": null,
   "metadata": {},
   "outputs": [],
   "source": [
    "# LRUCache： 采用队列的方式，插入和删除可以做到O(1)；但是在更新列表已经存在的key值的访问顺序的时候需要找到key值的位置，这个时间复杂度为O(n)\n",
    "class LRUCache:\n",
    "\n",
    "    def __init__(self, capacity: int):\n",
    "        self.capacity = capacity\n",
    "        self.used = 0\n",
    "        self.map = {}\n",
    "        self.key_queue = []\n",
    "        \n",
    "\n",
    "    def get(self, key: int) -> int:\n",
    "        if key not in self.map: # 未找到值返回-1\n",
    "            return -1 \n",
    "        if key in self.key_queue: # 如果key在访问列表中，将其移除\n",
    "            self.key_queue.remove(key)\n",
    "        self.key_queue.append(key) # 现在的key变为最近访问的了\n",
    "        return self.map[key]\n",
    "    \n",
    "    def is_full(self):\n",
    "        return self.used >= self.capacity\n",
    "    \n",
    "    def pop_one(self): \n",
    "        # 如果访问列表为空，则map主动删除一个\n",
    "        if len(self.key_queue) == 0: \n",
    "            self.map.popitem()\n",
    "            self.used -=1\n",
    "            return\n",
    "        \n",
    "        # 如果访问列表不为空，移除最久未被访问的那一个\n",
    "        key = self.key_queue[0]\n",
    "        self.key_queue.pop(0)\n",
    "\n",
    "        del self.map[key]\n",
    "        self.used -=1\n",
    "        \n",
    "\n",
    "    def put(self, key: int, value: int) -> None:\n",
    "        if key in self.map: # 如果要put的key已经在缓存中\n",
    "            self.map[key] = value # 更新缓存值\n",
    "            return\n",
    "        \n",
    "        if not self.is_full(): # 如果缓存还没有满,也直接添加缓存\n",
    "            self.map[key] = value\n",
    "            self.used +=1\n",
    "            self.key_queue.append(key) # 需要保证所有的key都在队列中\n",
    "            return\n",
    "        \n",
    "        self.pop_one() # 先删除一个\n",
    "        self.map[key] = value\n",
    "        self.key_queue.append(key) # 需要保证所有的key都在队列中\n",
    "        self.used +=1\n",
    "        \n",
    "        \n",
    "        "
   ]
  },
  {
   "cell_type": "code",
   "execution_count": null,
   "metadata": {},
   "outputs": [],
   "source": [
    "# 采用双向链表实现O(1)复杂度的更新已有key值的访问顺序\n",
    "class ListNode:\n",
    "    def __init__(self,key=None,value=None):\n",
    "        self.key = key\n",
    "        self.value = value\n",
    "        self.pre = None # 前一个结点\n",
    "        self.next = None # 后面一个结点\n",
    "\n",
    "class LRUCache:\n",
    "    def __init__(self,capacity:int):\n",
    "        self.capacity = capacity\n",
    "        self.hashmap = {} # 这个字典的键值是需要缓存数据的key，但是value是一个ListNode，这个node中\n",
    "        \n",
    "        # 初始化一个头结点和一个尾结点\n",
    "        self.head = ListNode()\n",
    "        self.tail = ListNode()\n",
    "        \n",
    "        # 连接头尾\n",
    "        self.head.next = self.tail\n",
    "        self.tail.pre = self.head\n",
    "    \n",
    "    def move_node_to_list_end_by_key(self,key):\n",
    "        # 把key为key的结点移动只链表的尾部\n",
    "        key_node = self.hashmap[key] # 取出当前key结点\n",
    "        # 将key_node从列表中取出\n",
    "        key_pre = key_node.pre\n",
    "        key_next = key_node.next\n",
    "        key_pre.next = key_next\n",
    "        key_next.pre = key_pre\n",
    "        \n",
    "        # 将key_node放置链表尾部\n",
    "        self.tail.pre = self.tail.pre\n",
    "        \n",
    "        key_node.pre = self.tail.pre\n",
    "        key_node.next = self.tail\n",
    "        \n",
    "        self.tail.pre.next = key_node\n",
    "        self.tail.pre = key_node\n",
    "        \n",
    "    \n",
    "    def get(self, key: int) -> int:\n",
    "        if key in self.hashmap:\n",
    "            # 如果key已经在缓存中存在，需要将其移动到链表的尾部，做为最新访问结点\n",
    "            self.move_node_to_list_end_by_key(key)\n",
    "        \n",
    "        result = self.hashmap.get(key,-1) # 如果存在把结点取出，否则的话的返回-1\n",
    "        if result == -1: # 不存在返回-1\n",
    "            return result\n",
    "        # 存在返回node中的value值\n",
    "        return result.value\n",
    "        \n",
    "    \n",
    "    def put(self, key: int, value: int) -> None:\n",
    "        if key in self.hashmap: # 如果要插入的key已经在缓存中了\n",
    "            # 更新缓存中的值\n",
    "            self.hashmap[key].value = value\n",
    "            # 将其移动到链表尾部\n",
    "            self.move_node_to_list_end_by_key(key)\n",
    "            return\n",
    "        \n",
    "        # 如果key不在缓存中\n",
    "        if len(self.hashmap) == self.capacity: # 如果容量已满，需要移除一个最久为使用的\n",
    "            # 移除hash表中对应的项\n",
    "            self.hashmap.pop(self.head.next.key)\n",
    "            # 从列表中的最久未被访问的项目：即head的next\n",
    "            self.head.next = self.head.next.next\n",
    "            self.head.next.pre = self.head\n",
    "        \n",
    "        # 将新结点插入\n",
    "        # 初始化一个结点\n",
    "        new_node = ListNode(key,value)\n",
    "        self.hashmap[key] = new_node\n",
    "        # 将结点插入链表的尾部\n",
    "        new_node.pre = self.tail.pre\n",
    "        new_node.next = self.tail\n",
    "        self.tail.pre.next = new_node\n",
    "        self.tail.pre = new_node\n",
    "\n",
    "# Your LRUCache object will be instantiated and called as such:\n",
    "# obj = LRUCache(capacity)\n",
    "# param_1 = obj.get(key)\n",
    "# obj.put(key,value)\n",
    "            \n",
    "        "
   ]
  },
  {
   "cell_type": "code",
   "execution_count": 45,
   "metadata": {},
   "outputs": [
    {
     "name": "stdout",
     "output_type": "stream",
     "text": [
      "['0', '0', '0', '0']\n",
      "0.0.0.0\n"
     ]
    }
   ],
   "source": [
    "original_str = \"0000\"\n",
    "str_list = list(original_str)\n",
    "print(str_list)\n",
    "idx1 = 1\n",
    "idx2 = 2\n",
    "idx3 = 3\n",
    "num1 = int(original_str[:idx1])\n",
    "num2 = int(original_str[idx1:idx2])\n",
    "num3 = int(original_str[idx2:idx3])\n",
    "num4 = int(original_str[idx3:])\n",
    "print(str(num1)+\".\"+str(num2)+\".\"+str(num3)+\".\"+str(num4))"
   ]
  },
  {
   "cell_type": "code",
   "execution_count": 69,
   "metadata": {},
   "outputs": [
    {
     "name": "stdout",
     "output_type": "stream",
     "text": [
      "['255.255.11.135', '255.255.111.35']\n",
      "['0.0.0.0']\n"
     ]
    },
    {
     "data": {
      "text/plain": [
       "['0.10.0.10', '0.100.1.0']"
      ]
     },
     "execution_count": 69,
     "metadata": {},
     "output_type": "execute_result"
    }
   ],
   "source": [
    "# Ip地址复原\n",
    "def restoreIpAddresses(s: str):\n",
    "    result = []\n",
    "    max_split_idx = len(s) -1  \n",
    "    \n",
    "    def is_sum_ip_avilable(sub_ip): # 判断分割后的子ip是否有效\n",
    "        # 首先看是否连着超过两位时，第一位是否为零\n",
    "        if (sub_ip[0] == \"0\" and len(sub_ip)>1) or int(sub_ip)>255:\n",
    "            return False\n",
    "        return True\n",
    "    \n",
    "    # 把字符串分成三段，需要用3个分割符\n",
    "    for  split1 in range(1,4): # 第一个分割符，\n",
    "        if split1 >= max_split_idx:\n",
    "            continue\n",
    "        for split2 in range(split1+1,split1+4): # 第二个分割符\n",
    "            if split2 >= max_split_idx:\n",
    "                continue\n",
    "            for split3 in range(split2+1,split2+4): # 第三个分割符\n",
    "                if split3 > max_split_idx:\n",
    "                    continue\n",
    "                if  max_split_idx - split3 >=3: # 如果第四个数大于3位，也不合法\n",
    "                    continue\n",
    "#                 print(\"分隔符位置为:\",split1,split2,split3)\n",
    "                # 当有效的分割成了四组数之后\n",
    "                ip1 = s[:split1]\n",
    "                if not is_sum_ip_avilable(ip1):\n",
    "                    continue\n",
    "                ip2 =s[split1:split2]\n",
    "                if not is_sum_ip_avilable(ip2):\n",
    "                    continue\n",
    "                ip3 = s[split2:split3]\n",
    "                if not is_sum_ip_avilable(ip3):\n",
    "                    continue\n",
    "                ip4 = s[split3:]\n",
    "                if not is_sum_ip_avilable(ip4):\n",
    "                    continue\n",
    "                vaild_ip = ip1+\".\"+ip2+\".\"+ip3+\".\"+ip4\n",
    "                result.append(vaild_ip)\n",
    "#                 print(vaild_ip)\n",
    "    return result\n",
    "\n",
    "print(restoreIpAddresses(\"25525511135\"))\n",
    "print(restoreIpAddresses(\"0000\"))\n",
    "\n",
    "restoreIpAddresses(\"010010\")"
   ]
  },
  {
   "cell_type": "code",
   "execution_count": 86,
   "metadata": {},
   "outputs": [
    {
     "name": "stdout",
     "output_type": "stream",
     "text": [
      "5 => 8 => 4\n",
      "4 => 8 => 5\n"
     ]
    }
   ],
   "source": [
    "# 单链表翻转测试\n",
    "class ListNode:\n",
    "    def __init__(self, x):\n",
    "        self.val = x\n",
    "        self.next = None\n",
    "        \n",
    "def turn_list(head): # 单链表翻转，并返回新列表的头结点和尾结点\n",
    "    pre_node = None # 前一个所以\n",
    "    cur_node = head # 当前节点索引\n",
    "    while(cur_node != None): # 只要后面还有结点就继续\n",
    "        # 第一步现将cur_node.next记录下来\n",
    "        next_node = cur_node.next\n",
    "        # 第二步是先将cur的next翻转指向pre\n",
    "        cur_node.next = pre_node\n",
    "        # pre_node用完了，可以更新了\n",
    "        pre_node = cur_node\n",
    "        # cur_node也用完了，可以更新了\n",
    "        cur_node = next_node\n",
    "        \n",
    "    return pre_node\n",
    "head = ListNode(5)\n",
    "node2 = head.next = ListNode(8)\n",
    "node2.next = ListNode(4)\n",
    "print(head.val,\"=>\",head.next.val,\"=>\",head.next.next.val)\n",
    "\n",
    "new_head = turn_list(head)\n",
    "print(new_head.val,\"=>\",new_head.next.val,\"=>\",new_head.next.next.val)\n"
   ]
  },
  {
   "cell_type": "code",
   "execution_count": 1,
   "metadata": {},
   "outputs": [
    {
     "name": "stdout",
     "output_type": "stream",
     "text": [
      "4 => 8 => 5 => 6 => 7\n"
     ]
    }
   ],
   "source": [
    "# K个结点一组的单链表翻转，不够K个的不动\n",
    "class ListNode:\n",
    "    def __init__(self, x):\n",
    "        self.val = x\n",
    "        self.next = None\n",
    "        \n",
    "def reverseKGroup(head: ListNode, k: int):\n",
    "    # 思路\n",
    "    # 1：链表分成四个部分：已转，待转，未转\n",
    "    # 2：每次翻转的子链必须长度要达到k\n",
    "    # 3：必须记录翻转完链表的头结点和尾结点，以方便将其链接会原来的链表中(这两个结点不用全局变量，每次循环体中计算即可)\n",
    "    # 4：需要已翻转完链表的尾部结点：start，用来链接翻转完的链表，\n",
    "    # 5：需要未翻转链表的头结点：nxt，已用来下一次构建翻转链表\n",
    "    # 6：当翻转长度不足k是，这时不需要翻转，\n",
    "    \n",
    "    dummy = ListNode(0) # 一个用来记录头节点的假节点\n",
    "    dummy.next = head\n",
    "    \n",
    "    pre = dummy # 用来构建翻转链表是的记录待翻转链表的开始结点\n",
    "    end = pre # 记录待翻转链表的结束结点\n",
    "    \n",
    "    def turn_list(head): # 单链表翻转，并返回新列表的头结点和尾结点\n",
    "        pre_node = None # 前一个所以\n",
    "        cur_node = head # 当前节点索引\n",
    "        while(cur_node != None): # 只要后面还有结点就继续\n",
    "            # 第一步现将cur_node.next记录下来\n",
    "            next_node = cur_node.next\n",
    "            # 第二步是先将cur的next翻转指向pre\n",
    "            cur_node.next = pre_node\n",
    "            # pre_node用完了，可以更新了\n",
    "            pre_node = cur_node\n",
    "            # cur_node也用完了，可以更新了\n",
    "            cur_node = next_node\n",
    "        return pre_node\n",
    "    \n",
    "    while(end.next != None): # 只要后面还有结点就继续\n",
    "        for _ in range(k): # 循环k次找到K个结点\n",
    "            if end == None:\n",
    "                break\n",
    "            # 循环结束是end就是第k个结点\n",
    "            end = end.next\n",
    "        \n",
    "        # 不足k个的时候end为null，直接返回\n",
    "        if end == None:\n",
    "            break\n",
    "            \n",
    "        start = pre.next # 待翻转链表的头结点\n",
    "        nxt = end.next # 未反转链表的头结点\n",
    "        \n",
    "        end.next = None # 将待翻转链表的尾结点置为None\n",
    "        \n",
    "        # 开始翻转链表,并将翻转完的链表连接回主链表\n",
    "        pre.next = turn_list(start)\n",
    "        start.next = nxt #翻转后的已翻转链表的尾部结点就是start，需要把它与后面的nxt接上\n",
    "        \n",
    "        # 现在需要重置pre和end的指向:然后进行下一轮翻转\n",
    "        pre = start\n",
    "        end = pre\n",
    "        \n",
    "        \n",
    "    return dummy.next\n",
    "head = ListNode(5)\n",
    "node2 = head.next = ListNode(8)\n",
    "node3 = node2.next = ListNode(4)\n",
    "node4 = node3.next = ListNode(6)\n",
    "node5 = node4.next = ListNode(7)\n",
    "new_head = reverseKGroup(head,3)\n",
    "print(new_head.val,\"=>\",new_head.next.val,\"=>\",new_head.next.next.val,\"=>\",new_head.next.next.next.val,\"=>\",new_head.next.next.next.next.val)\n"
   ]
  },
  {
   "cell_type": "code",
   "execution_count": 3,
   "metadata": {},
   "outputs": [
    {
     "name": "stdout",
     "output_type": "stream",
     "text": [
      "1\n",
      "4\n"
     ]
    }
   ],
   "source": [
    "# 移位运算\n",
    "print(2 >>1)\n",
    "print(2 <<1)"
   ]
  },
  {
   "cell_type": "code",
   "execution_count": 3,
   "metadata": {},
   "outputs": [
    {
     "name": "stdout",
     "output_type": "stream",
     "text": [
      "{1: 5}\n",
      "{1: 5, 2: 6}\n"
     ]
    }
   ],
   "source": [
    "# dict() 测试\n",
    "test = dict()\n",
    "test.setdefault(1,5) # 先放入(1,5)\n",
    "print(test)\n",
    "test.setdefault(1,8) # 如果已经有key值为1的值了，不会覆盖\n",
    "test.setdefault(2,6) # key为2的值没有，所以可以放进去\n",
    "print(test)"
   ]
  },
  {
   "cell_type": "code",
   "execution_count": 11,
   "metadata": {},
   "outputs": [
    {
     "ename": "SyntaxError",
     "evalue": "invalid syntax (<ipython-input-11-7e7dc14e8209>, line 2)",
     "output_type": "error",
     "traceback": [
      "\u001b[0;36m  File \u001b[0;32m\"<ipython-input-11-7e7dc14e8209>\"\u001b[0;36m, line \u001b[0;32m2\u001b[0m\n\u001b[0;31m    head ++\u001b[0m\n\u001b[0m           ^\u001b[0m\n\u001b[0;31mSyntaxError\u001b[0m\u001b[0;31m:\u001b[0m invalid syntax\n"
     ]
    }
   ],
   "source": [
    "head = 0\n",
    "head ++\n",
    "print(head)"
   ]
  },
  {
   "cell_type": "code",
   "execution_count": 15,
   "metadata": {},
   "outputs": [
    {
     "name": "stdout",
     "output_type": "stream",
     "text": [
      "去除前面的空格后： hello  \n",
      "去除后面的空格后： hello\n",
      "去除前面的空格后： hello\n",
      "去除后面的空格后： hello\n",
      "去除前面的空格后： hello  \n",
      "去除后面的空格后： hello\n",
      "去除前面的空格后： hello  world  \n",
      "去除后面的空格后： hello  world\n",
      "去除前面的空格后： \n",
      "去除后面的空格后： \n",
      "去除前面的空格后： \n",
      "去除后面的空格后： \n",
      "测试成功!\n"
     ]
    }
   ],
   "source": [
    "# 去除字符串开头和结尾的空格\n",
    "def trim(s):\n",
    "    head =0\n",
    "    for i in range(len(s)):\n",
    "        if s[i] == \" \":\n",
    "            head +=1;\n",
    "        else:\n",
    "            break\n",
    "    s = s[head:]\n",
    "    print(\"去除前面的空格后：\",s)\n",
    "    \n",
    "    tail = len(s)\n",
    "    for i in range(len(s)-1,-1,-1):\n",
    "        if s[i] == \" \":\n",
    "            tail -=1\n",
    "        else:\n",
    "            break\n",
    "    s = s[:tail]\n",
    "    print(\"去除后面的空格后：\",s)\n",
    "    return s\n",
    "\n",
    "# 测试:\n",
    "if trim('hello  ') != 'hello':\n",
    "    print('测试失败!')\n",
    "elif trim('  hello') != 'hello':\n",
    "    print('测试失败!')\n",
    "elif trim('  hello  ') != 'hello':\n",
    "    print('测试失败!')\n",
    "elif trim('  hello  world  ') != 'hello  world':\n",
    "    print('测试失败!')\n",
    "elif trim('') != '':\n",
    "    print('测试失败!')\n",
    "elif trim('    ') != '':\n",
    "    print('测试失败!')\n",
    "else:\n",
    "    print('测试成功!')"
   ]
  },
  {
   "cell_type": "code",
   "execution_count": 17,
   "metadata": {},
   "outputs": [
    {
     "name": "stdout",
     "output_type": "stream",
     "text": [
      "s\n",
      "d\n",
      "s\n",
      "a\n",
      "d\n",
      "你\n",
      "好\n",
      "呀\n",
      "！\n"
     ]
    }
   ],
   "source": [
    "# for循环遍历一个字符串的所有字符\n",
    "for char in \"sdsad你好呀！\":\n",
    "    print(char)"
   ]
  },
  {
   "cell_type": "code",
   "execution_count": 20,
   "metadata": {},
   "outputs": [
    {
     "name": "stdout",
     "output_type": "stream",
     "text": [
      "字符串是否可迭代： True\n",
      "整数是否可迭代： False\n"
     ]
    }
   ],
   "source": [
    "# 判断是否可迭代：使用collections模块的Iterable类型判断：\n",
    "from collections import Iterable\n",
    "print(\"字符串是否可迭代：\",isinstance('abc', Iterable)) # 字符串是可以迭代的\n",
    "print(\"整数是否可迭代：\",isinstance(4545,Iterable)) # 整数是不可以迭代的"
   ]
  },
  {
   "cell_type": "code",
   "execution_count": 78,
   "metadata": {},
   "outputs": [
    {
     "name": "stdout",
     "output_type": "stream",
     "text": [
      "False\n",
      "True\n",
      "False\n",
      "False\n",
      "False\n"
     ]
    }
   ],
   "source": [
    "# 可以使用isinstance()判断一个对象是否是Iterator对象：\n",
    "from collections import Iterator\n",
    "print(isinstance([x for x in range(10)],Iterator))\n",
    "print(isinstance((x for x in range(10)),Iterator)) # 只有生成器generator是Iterator的对象\n",
    "print(isinstance({},Iterator))\n",
    "print(isinstance([],Iterator))\n",
    "print(isinstance(\"asd\",Iterator))\n",
    "# 你可能会问，为什么list、dict、str等数据类型不是Iterator？\n",
    "\n",
    "# 这是因为Python的Iterator对象表示的是一个数据流，Iterator对象可以被next()函数调用并不断返回下一个数据，\n",
    "# 直到没有数据时抛出StopIteration错误。可以把这个数据流看做是一个有序序列，但我们却不能提前知道序列的长度，\n",
    "# 只能不断通过next()函数实现按需计算下一个数据，所以Iterator的计算是惰性的，\n",
    "# 只有在需要返回下一个数据时它才会计算。\n",
    "\n",
    "# Iterator甚至可以表示一个无限大的数据流，例如全体自然数。而使用list是永远不可能存储全体自然数的。"
   ]
  },
  {
   "cell_type": "code",
   "execution_count": null,
   "metadata": {},
   "outputs": [],
   "source": [
    "# 小结\n",
    "# 凡是可作用于for循环的对象都是Iterable类型；\n",
    "\n",
    "# 凡是可作用于next()函数的对象都是Iterator类型，它们表示一个惰性计算的序列；\n",
    "\n",
    "# 集合数据类型如list、dict、str等是Iterable但不是Iterator，不过可以通过iter()函数获得一个Iterator对象。\n",
    "\n",
    "# Python的for循环本质上就是通过不断调用next()函数实现的，例如："
   ]
  },
  {
   "cell_type": "code",
   "execution_count": 25,
   "metadata": {},
   "outputs": [
    {
     "name": "stdout",
     "output_type": "stream",
     "text": [
      "[1, 2, 3, 4, 5, 6, 7, 8, 9, 10]\n",
      "[1, 4, 9, 16, 25, 36, 49, 64, 81, 100]\n",
      "[4, 16, 36, 64, 100]\n",
      "['Aa', 'Ab', 'Ac', 'Ba', 'Bb', 'Bc', 'Ca', 'Cb', 'Cc']\n"
     ]
    }
   ],
   "source": [
    "# 列表生成：\n",
    "print(list(range(1,11))) # 1-11的数字列表\n",
    "print([x**2 for x in range(1,11)]) # 1^2 - 11^2的数字列表\n",
    "print([x**2 for x in range(1,11)if x % 2 ==0]) # 1^2 - 11^2的数字列表：只要偶数\n",
    "print([m + n for m in \"ABC\" for n in \"abc\"]) # 双层for循环的列表生成全排列"
   ]
  },
  {
   "cell_type": "code",
   "execution_count": 39,
   "metadata": {},
   "outputs": [
    {
     "name": "stdout",
     "output_type": "stream",
     "text": [
      "abcABCasds\n",
      "abcACBasds\n",
      "abcBACasds\n",
      "abcBCAasds\n",
      "abcCBAasds\n",
      "abcCABasds\n"
     ]
    }
   ],
   "source": [
    "# 字符串的全排列\n",
    "def all_permutation(s_list,begin,length):\n",
    "    \"\"\"\n",
    "    s : 是当前要处理的字符串\n",
    "    begin: 从这个位置开始，后面的字符依次要交换到这个地方固定\n",
    "    length: 需要它与beigin构成了需要全排列的区间，在[begin,length)这些位置的字符串要进行全排列\n",
    "    \"\"\"\n",
    "    if(begin == length -1):# 因为左开右闭，所以是length -1\n",
    "#         print(s_list)\n",
    "        print(\"\".join(s_list))\n",
    "    \n",
    "    # 从第beigin的位置开始，依次把后面的字符与交换到beigin位置然后固定，在对begin+1后面的做全排列\n",
    "    for i in range(begin,length): # i代表了第几个位置固定\n",
    "        swap(s_list,begin,i)\n",
    "        all_permutation(s_list,begin +1, length)\n",
    "        \n",
    "        # 回溯法：将交换的位置还原\n",
    "        swap(s_list,begin,i)\n",
    "\n",
    "def swap(s_list,idx1,idx2):\n",
    "    temp = s_list[idx1]\n",
    "    s_list[idx1]=s_list[idx2]\n",
    "    s_list[idx2]=temp\n",
    "\n",
    "test_s = \"abcABCasds\"\n",
    "s_list = list(test_s)\n",
    "# begin = 0 # 全排列的开始位置为零\n",
    "# length = len(s_list) # 结束位置为最后一个字符的位置\n",
    "begin = 3\n",
    "length = 6\n",
    "all_permutation(s_list,begin,length)"
   ]
  },
  {
   "cell_type": "code",
   "execution_count": 41,
   "metadata": {},
   "outputs": [
    {
     "data": {
      "text/plain": [
       "['.localized', 'Shared', 'zhenwuzhou']"
      ]
     },
     "execution_count": 41,
     "metadata": {},
     "output_type": "execute_result"
    }
   ],
   "source": [
    "# 列出指定路径下所有文件的名称\n",
    "import os\n",
    "[f_name for f_name in os.listdir('/Users')]"
   ]
  },
  {
   "cell_type": "code",
   "execution_count": 43,
   "metadata": {},
   "outputs": [
    {
     "data": {
      "text/plain": [
       "['hello', 'world', 'apple']"
      ]
     },
     "execution_count": 43,
     "metadata": {},
     "output_type": "execute_result"
    }
   ],
   "source": [
    "# 使用条件判断来讲无法小写的类型过滤\n",
    "L = ['Hello', 'World', 18, 'Apple', None]\n",
    "[s.lower() for s in L if isinstance(s,str)]"
   ]
  },
  {
   "cell_type": "code",
   "execution_count": 48,
   "metadata": {},
   "outputs": [
    {
     "name": "stdout",
     "output_type": "stream",
     "text": [
      "<generator object <genexpr> at 0x125a45550>\n",
      "1\n",
      "\n",
      "4\n",
      "9\n",
      "16\n",
      "25\n",
      "36\n",
      "49\n",
      "64\n",
      "81\n"
     ]
    }
   ],
   "source": [
    "# generator 生成器，动态计算需要的元素，而不是使用大量的内存空间去存储创建好的列表\n",
    "g = (x **2 for x in range(1,10)) # 这种方式只能创建简单计算规则的generator\n",
    "print(g) \n",
    "print(next(g))\n",
    "print()\n",
    "for n in g:\n",
    "    print(n)"
   ]
  },
  {
   "cell_type": "code",
   "execution_count": 59,
   "metadata": {},
   "outputs": [
    {
     "name": "stdout",
     "output_type": "stream",
     "text": [
      "<generator object fib at 0x127754e50>\n",
      "1\n",
      "2\n",
      "3\n",
      "5\n",
      "8\n",
      "g2: 1\n",
      "g2: 1\n",
      "g2: 2\n",
      "Generator return value: done\n"
     ]
    }
   ],
   "source": [
    "# 如果generator的next()的值取决于之前计算结果，这种复杂的generator可以使用函数加yield关键字来创建\n",
    "def fib(max_count): # 函数式generator生成斐波那契数列\n",
    "    num_idx,pre,cur = 0,0,1\n",
    "    while num_idx < max_count:\n",
    "        yield cur # 每次在调用next()的时候,遇到yield语句返回，再次执行时从上次返回的yield语句处继续执行。\n",
    "        pre,cur = cur, pre + cur\n",
    "        num_idx +=1\n",
    "    return 'done'\n",
    "\n",
    "g_fib = fib(6)\n",
    "print(g_fib)\n",
    "next(g_fib)\n",
    "\n",
    "for n in g_fib:\n",
    "    print(n)\n",
    "    \n",
    "# 直接的for循环是拿不到generator的return语句的返回值的，需要捕获StopIteration错误，\n",
    "# 返回值包含在StopIteration的value中：\n",
    "g2 = fib(3)\n",
    "while True:\n",
    "    try:\n",
    "        print('g2:',next(g2))\n",
    "    except StopIteration as e:\n",
    "        print('Generator return value:',e.value)\n",
    "        break"
   ]
  },
  {
   "cell_type": "code",
   "execution_count": 71,
   "metadata": {},
   "outputs": [
    {
     "name": "stdout",
     "output_type": "stream",
     "text": [
      "[1]\n",
      "[1, 1]\n",
      "[1, 2, 1]\n",
      "[1, 3, 3, 1]\n",
      "[1, 4, 6, 4, 1]\n"
     ]
    }
   ],
   "source": [
    "def trangleles(max_layer_count):\n",
    "    layer_idx,cur = 0, [1]\n",
    "    while layer_idx < max_layer_count:\n",
    "        yield cur\n",
    "        pre = cur.copy()\n",
    "        cur.clear()\n",
    "        for i in range(len(pre)+1):\n",
    "            if i==0:\n",
    "                num1 =0\n",
    "            else:\n",
    "                num1 = pre[i-1]\n",
    "            \n",
    "            if i == len(pre):\n",
    "                num2 = 0\n",
    "            else:\n",
    "                num2 = pre[i]\n",
    "            num_result = num1 + num2\n",
    "#             print(num_result)\n",
    "            cur.append(num_result)\n",
    "        layer_idx +=1\n",
    "    return 'done'\n",
    "for item in trangleles(5):\n",
    "    print(item)"
   ]
  },
  {
   "cell_type": "code",
   "execution_count": 82,
   "metadata": {},
   "outputs": [
    {
     "name": "stdout",
     "output_type": "stream",
     "text": [
      "[0, 1, 2, 3, 4, 5, 6, 7, 8, 9]\n",
      "<map object at 0x127c45190>\n",
      "[0, 1, 4, 9, 16, 25, 36, 49, 64, 81]\n"
     ]
    }
   ],
   "source": [
    "# 函数式编程：函数可以作为参数，也可以作为返回值\n",
    "# map/reduce\n",
    "def f(x):\n",
    "    return x**2\n",
    "a = [i for i in range(10)]\n",
    "print(a)\n",
    "b = map(f,a) # map可以对Iterable中所有的元素进行单独用函数f计算，然后在返回一个新的Iterator(注意不是Iterable)，类似于np的广播\n",
    "print(b)\n",
    "print(list(b))"
   ]
  },
  {
   "cell_type": "code",
   "execution_count": 94,
   "metadata": {},
   "outputs": [
    {
     "name": "stdout",
     "output_type": "stream",
     "text": [
      "Sdsd\n",
      "SDSD\n"
     ]
    }
   ],
   "source": [
    "# 首字母变大写\n",
    "print(\"sdsd\".capitalize()) # 首字母变大写\n",
    "\n",
    "print(\"sdsd\".upper()) # 全部变大写"
   ]
  },
  {
   "cell_type": "code",
   "execution_count": 95,
   "metadata": {},
   "outputs": [
    {
     "name": "stdout",
     "output_type": "stream",
     "text": [
      "Sdssf\n"
     ]
    }
   ],
   "source": [
    "# map() 将字符串首字母变成大写，其他小写\n",
    "def cap_Fist(s):\n",
    "    return s[0].upper() + s[1:].lower()\n",
    "print(cap_Fist(\"sdSsf\"))\n"
   ]
  },
  {
   "cell_type": "code",
   "execution_count": 96,
   "metadata": {},
   "outputs": [
    {
     "name": "stdout",
     "output_type": "stream",
     "text": [
      "[1, 2, 3, 4, 5, 6, 7, 8, 9]\n",
      "362880\n",
      "362880\n"
     ]
    }
   ],
   "source": [
    "# reduce操作，相当于链式计算 ：reduce(f, [x1, x2, x3, x4]) = f(f(f(x1, x2), x3), x4)\n",
    "from functools import reduce\n",
    "def multiply(x1,x2):\n",
    "    return x1 * x2\n",
    "a = list(range(1,10))\n",
    "print(a)\n",
    "print(reduce(multiply,a)) # 利用reduce来进行阶乘计算\n",
    "\n",
    "# 或者用lambda表达式来实现匿名函数\n",
    "print(reduce(lambda x1 , x2 : x1*x2, a))"
   ]
  },
  {
   "cell_type": "code",
   "execution_count": 97,
   "metadata": {},
   "outputs": [
    {
     "data": {
      "text/plain": [
       "3"
      ]
     },
     "execution_count": 97,
     "metadata": {},
     "output_type": "execute_result"
    }
   ],
   "source": [
    "\"123.59\".index('.')"
   ]
  },
  {
   "cell_type": "code",
   "execution_count": 1,
   "metadata": {},
   "outputs": [
    {
     "name": "stdout",
     "output_type": "stream",
     "text": [
      "['1', '2', '3', '.', '5', '9']\n"
     ]
    },
    {
     "data": {
      "text/plain": [
       "3"
      ]
     },
     "execution_count": 1,
     "metadata": {},
     "output_type": "execute_result"
    }
   ],
   "source": [
    "s_list = list(\"123.59\")\n",
    "print(s_list)\n",
    "s_list.index('.')"
   ]
  },
  {
   "cell_type": "code",
   "execution_count": 98,
   "metadata": {},
   "outputs": [
    {
     "data": {
      "text/plain": [
       "3.56"
      ]
     },
     "execution_count": 98,
     "metadata": {},
     "output_type": "execute_result"
    }
   ],
   "source": [
    "356/100"
   ]
  },
  {
   "cell_type": "code",
   "execution_count": 9,
   "metadata": {},
   "outputs": [
    {
     "name": "stdout",
     "output_type": "stream",
     "text": [
      "[1, 3, 5, 2, 6, 5]\n"
     ]
    },
    {
     "data": {
      "text/plain": [
       "135.265"
      ]
     },
     "execution_count": 9,
     "metadata": {},
     "output_type": "execute_result"
    }
   ],
   "source": [
    "# 把一个字符串转换成浮点数\n",
    "from functools import reduce\n",
    "\n",
    "def str2float(s):\n",
    "    s_list = list(s)\n",
    "    divide = 10 ** (len(s_list) - s_list.index('.')-1)\n",
    "    \n",
    "    s_list.remove('.')\n",
    "    \n",
    "    dic = {'0':0,'1':1,'2':2,'3':3,'4':4,'5':5,'6':6,'7':7,'8':8,'9':9}\n",
    "    i_list = list(map(lambda x:dic[x],s_list))\n",
    "    print(i_list)\n",
    "    \n",
    "    return reduce(lambda x1,x2:x1*10+x2,i_list)/divide\n",
    "    \n",
    "str2float(\"135.265\")"
   ]
  },
  {
   "cell_type": "code",
   "execution_count": 10,
   "metadata": {},
   "outputs": [
    {
     "data": {
      "text/plain": [
       "[2, 4, 6, 8, 10, 12, 14, 16, 18]"
      ]
     },
     "execution_count": 10,
     "metadata": {},
     "output_type": "execute_result"
    }
   ],
   "source": [
    "# filter() 是一个帅选函数，接受参数类型与map类似，把list中满足函数条件的数据帅选出来\n",
    "\n",
    "list(filter(lambda x:x%2 ==0 , list(range(1,20)))) # 过滤出1-20左右的偶数\n"
   ]
  },
  {
   "cell_type": "code",
   "execution_count": 7,
   "metadata": {},
   "outputs": [
    {
     "name": "stdout",
     "output_type": "stream",
     "text": [
      "2\n",
      "3\n",
      "5\n",
      "7\n",
      "11\n",
      "13\n",
      "17\n",
      "19\n",
      "23\n",
      "29\n",
      "31\n",
      "37\n",
      "41\n",
      "43\n",
      "47\n",
      "53\n",
      "59\n",
      "61\n",
      "67\n",
      "71\n",
      "73\n",
      "79\n",
      "83\n",
      "89\n",
      "97\n",
      "101\n",
      "103\n",
      "107\n",
      "109\n",
      "113\n",
      "127\n",
      "131\n",
      "137\n",
      "139\n",
      "149\n",
      "151\n",
      "157\n",
      "163\n",
      "167\n",
      "173\n",
      "179\n",
      "181\n",
      "191\n",
      "193\n",
      "197\n",
      "199\n",
      "211\n",
      "223\n",
      "227\n",
      "229\n",
      "233\n",
      "239\n",
      "241\n",
      "251\n",
      "257\n",
      "263\n",
      "269\n",
      "271\n",
      "277\n",
      "281\n",
      "283\n",
      "293\n",
      "307\n",
      "311\n",
      "313\n",
      "317\n",
      "331\n",
      "337\n",
      "347\n",
      "349\n",
      "353\n",
      "359\n",
      "367\n",
      "373\n",
      "379\n",
      "383\n",
      "389\n",
      "397\n",
      "401\n",
      "409\n",
      "419\n",
      "421\n",
      "431\n",
      "433\n",
      "439\n",
      "443\n",
      "449\n",
      "457\n",
      "461\n",
      "463\n",
      "467\n",
      "479\n",
      "487\n",
      "491\n",
      "499\n",
      "503\n",
      "509\n",
      "521\n",
      "523\n",
      "541\n",
      "547\n",
      "557\n",
      "563\n",
      "569\n",
      "571\n",
      "577\n",
      "587\n",
      "593\n",
      "599\n",
      "601\n",
      "607\n",
      "613\n",
      "617\n",
      "619\n",
      "631\n",
      "641\n",
      "643\n",
      "647\n",
      "653\n",
      "659\n",
      "661\n",
      "673\n",
      "677\n",
      "683\n",
      "691\n",
      "701\n",
      "709\n",
      "719\n",
      "727\n",
      "733\n",
      "739\n",
      "743\n",
      "751\n",
      "757\n",
      "761\n",
      "769\n",
      "773\n",
      "787\n",
      "797\n",
      "809\n",
      "811\n",
      "821\n",
      "823\n",
      "827\n",
      "829\n",
      "839\n",
      "853\n",
      "857\n",
      "859\n",
      "863\n",
      "877\n",
      "881\n",
      "883\n",
      "887\n",
      "907\n",
      "911\n",
      "919\n",
      "929\n",
      "937\n",
      "941\n",
      "947\n",
      "953\n",
      "967\n",
      "971\n",
      "977\n",
      "983\n",
      "991\n",
      "997\n",
      "1009\n",
      "1013\n",
      "1019\n",
      "1021\n",
      "1031\n",
      "1033\n",
      "1039\n",
      "1049\n",
      "1051\n",
      "1061\n",
      "1063\n",
      "1069\n",
      "1087\n",
      "1091\n",
      "1093\n",
      "1097\n",
      "1103\n",
      "1109\n",
      "1117\n",
      "1123\n",
      "1129\n",
      "1151\n",
      "1153\n",
      "1163\n",
      "1171\n",
      "1181\n",
      "1187\n",
      "1193\n",
      "1201\n",
      "1213\n",
      "1217\n",
      "1223\n",
      "1229\n",
      "1231\n",
      "1237\n",
      "1249\n",
      "1259\n",
      "1277\n",
      "1279\n",
      "1283\n",
      "1289\n",
      "1291\n",
      "1297\n",
      "1301\n",
      "1303\n",
      "1307\n",
      "1319\n",
      "1321\n",
      "1327\n",
      "1361\n",
      "1367\n",
      "1373\n",
      "1381\n",
      "1399\n",
      "1409\n",
      "1423\n",
      "1427\n",
      "1429\n",
      "1433\n",
      "1439\n",
      "1447\n",
      "1451\n",
      "1453\n",
      "1459\n",
      "1471\n",
      "1481\n",
      "1483\n",
      "1487\n",
      "1489\n",
      "1493\n",
      "1499\n",
      "1511\n",
      "1523\n",
      "1531\n",
      "1543\n",
      "1549\n",
      "1553\n",
      "1559\n",
      "1567\n",
      "1571\n",
      "1579\n",
      "1583\n",
      "1597\n",
      "1601\n",
      "1607\n",
      "1609\n",
      "1613\n",
      "1619\n",
      "1621\n",
      "1627\n",
      "1637\n",
      "1657\n",
      "1663\n",
      "1667\n",
      "1669\n",
      "1693\n",
      "1697\n",
      "1699\n",
      "1709\n",
      "1721\n",
      "1723\n",
      "1733\n",
      "1741\n",
      "1747\n",
      "1753\n",
      "1759\n",
      "1777\n",
      "1783\n",
      "1787\n",
      "1789\n",
      "1801\n",
      "1811\n",
      "1823\n",
      "1831\n",
      "1847\n",
      "1861\n",
      "1867\n",
      "1871\n",
      "1873\n",
      "1877\n",
      "1879\n",
      "1889\n",
      "1901\n",
      "1907\n",
      "1913\n",
      "1931\n",
      "1933\n",
      "1949\n",
      "1951\n",
      "1973\n",
      "1979\n",
      "1987\n"
     ]
    },
    {
     "data": {
      "text/plain": [
       "1993"
      ]
     },
     "execution_count": 7,
     "metadata": {},
     "output_type": "execute_result"
    }
   ],
   "source": [
    "# 利用filter()来生成素数(质数)\n",
    "def _odd_iter(): # 质数一定是奇数，所以先定义一个奇数生成器\n",
    "    n = 1\n",
    "    while True:\n",
    "        n +=2\n",
    "        yield n\n",
    "# next(_odd_iter())\n",
    "\n",
    "def _not_divisible(n):\n",
    "    return lambda x: x % n > 0\n",
    "\n",
    "def primes_iter(): # 定义一个素数生成器\n",
    "    yield 2 # 第一个素数是2\n",
    "    it = _odd_iter() # 用奇数生成器初始化数据\n",
    "    while True:\n",
    "        n = next(it) # 因为\n",
    "        yield n # 第一次这里会返回三，后面\n",
    "#         it = filter(lambda x : x % n > 0, it) # 这里不能这么写，这么写只能满足除以上一次的n除不尽即可\n",
    "        it = filter(_not_divisible(n), it) # 构造新数列，新数列必须满足除以前面所有数都除不尽\n",
    "    \n",
    "g_primes = primes_iter()\n",
    "\n",
    "for _ in range(300):\n",
    "    print(next(g_primes))\n",
    "\n",
    "next(g_primes)"
   ]
  },
  {
   "cell_type": "code",
   "execution_count": 7,
   "metadata": {},
   "outputs": [
    {
     "name": "stdout",
     "output_type": "stream",
     "text": [
      "4\n"
     ]
    },
    {
     "data": {
      "text/plain": [
       "'4'"
      ]
     },
     "execution_count": 7,
     "metadata": {},
     "output_type": "execute_result"
    }
   ],
   "source": [
    "n = 456\n",
    "str_n = str(n)\n",
    "print(str_n[0])\n",
    "n_list = list(str_n)\n",
    "n_list[0]"
   ]
  },
  {
   "cell_type": "code",
   "execution_count": 12,
   "metadata": {},
   "outputs": [
    {
     "name": "stdout",
     "output_type": "stream",
     "text": [
      "[1, 2, 3, 4, 5, 6, 7, 8, 9, 11, 22, 33, 44, 55, 66, 77, 88, 99, 101, 111, 121, 131, 141, 151, 161, 171, 181, 191, 202, 212, 222, 232, 242, 252, 262, 272, 282, 292, 303, 313, 323, 333, 343, 353, 363, 373, 383, 393, 404, 414, 424, 434, 444, 454, 464, 474, 484, 494, 505, 515, 525, 535, 545, 555, 565, 575, 585, 595, 606, 616, 626, 636, 646, 656, 666, 676, 686, 696, 707, 717, 727, 737, 747, 757, 767, 777, 787, 797, 808, 818, 828, 838, 848, 858, 868, 878, 888, 898, 909, 919, 929, 939, 949, 959, 969, 979, 989, 999]\n"
     ]
    }
   ],
   "source": [
    "# 利用filter筛选出回数\n",
    "def is_palindrome(n):\n",
    "    str_n = str(n)\n",
    "    \n",
    "    for i in range(len(str_n)):\n",
    "        if str_n[i] != str_n[len(str_n)-1-i]:\n",
    "            return False\n",
    "    return True\n",
    "\n",
    "output = filter(is_palindrome,range(1,1000))\n",
    "print(list(output))"
   ]
  },
  {
   "cell_type": "code",
   "execution_count": 21,
   "metadata": {},
   "outputs": [
    {
     "name": "stdout",
     "output_type": "stream",
     "text": [
      "[-28, -5, 10, 15, 36, 42]\n",
      "[-5, 10, 15, -28, 36, 42]\n",
      "==========================\n",
      "['Credit', 'Zoo', 'about', 'bob']\n",
      "['about', 'bob', 'Credit', 'Zoo']\n",
      "['Zoo', 'Credit', 'bob', 'about']\n"
     ]
    }
   ],
   "source": [
    "# sorted() 排序\n",
    "A = [15,-28,36,42,10,-5]\n",
    "print(sorted(A)) # 默认从大到小排序\n",
    "print(sorted(A,key = abs)) # 可以用个关键字abs指定按照绝对值排序\n",
    "print(\"==========================\")\n",
    "\n",
    "\n",
    "# 字符串排序\n",
    "S = ['bob', 'about', 'Zoo', 'Credit']\n",
    "print(sorted(S)) # 默认是按照ASCII的大小比较的，由于'Z' < 'a'，结果，大写字母Z会排在小写字母a的前面\n",
    "print(sorted(S,key=str.lower)) # 可以通过忽略大小写进行排序\n",
    "print(sorted(S,key=str.lower,reverse=True)) # 忽略大小写，并且倒序"
   ]
  },
  {
   "cell_type": "code",
   "execution_count": 7,
   "metadata": {},
   "outputs": [
    {
     "name": "stdout",
     "output_type": "stream",
     "text": [
      "[('Adam', 92), ('Bart', 66), ('Bob', 75), ('Lisa', 88)]\n",
      "[('Adam', 92), ('Lisa', 88), ('Bob', 75), ('Bart', 66)]\n"
     ]
    }
   ],
   "source": [
    "# sorted() 排序 自定义排序的的key函数\n",
    "L = [('Bob', 75), ('Adam', 92), ('Bart', 66), ('Lisa', 88)]\n",
    "def by_name(t):\n",
    "#     print(t) #('Bob', 75)\n",
    "    return t[0]\n",
    "\n",
    "L2 = sorted(L,key = by_name)\n",
    "print(L2) # 按名字的字母排序\n",
    "\n",
    "def by_score(t):\n",
    "    return t[1]\n",
    "\n",
    "L3 = sorted(L,key = by_score, reverse=True)\n",
    "print(L3) # 按照分数从高到底排序"
   ]
  },
  {
   "cell_type": "code",
   "execution_count": 10,
   "metadata": {},
   "outputs": [
    {
     "name": "stdout",
     "output_type": "stream",
     "text": [
      "<function lazy_sum.<locals>.sum_all at 0x7f8c0f85aae8>\n",
      "25\n"
     ]
    }
   ],
   "source": [
    "# 将函数作为返回值\n",
    "from functools import reduce\n",
    "def lazy_sum(*args):\n",
    "    def sum_all():\n",
    "        return reduce(lambda x1,x2 : x1 + x2,args) # 内部函数可以使用外部函数的参数和局部变量，这种是闭包机制\n",
    "    return sum_all\n",
    "\n",
    "f_lazy_sum = lazy_sum(1, 3, 5, 7, 9)\n",
    "print(f_lazy_sum) # 这是函数是不会执行的\n",
    "print(f_lazy_sum()) # 这样函数才会真正的执行"
   ]
  },
  {
   "cell_type": "code",
   "execution_count": 15,
   "metadata": {},
   "outputs": [
    {
     "name": "stdout",
     "output_type": "stream",
     "text": [
      "<function f_list.<locals>.<lambda> at 0x7f2b0e424d08>\n",
      "9\n",
      "<function f_list.<locals>.<lambda> at 0x7f2b0e4248c8>\n",
      "9\n",
      "<function f_list.<locals>.<lambda> at 0x7f2b0e424e18>\n",
      "9 \n",
      "\n",
      "\n",
      "\n",
      "如果一定要引用循环变量怎么办？方法是再创建一个函数 \n",
      "       用该函数的参数绑定循环变量当前的值，无论该循环变量后续如何更改，已绑定到函数参数的值不变\n",
      "<function f_list2.<locals>.f.<locals>.<lambda> at 0x7f2b0e0be1e0>\n",
      "1\n",
      "<function f_list2.<locals>.f.<locals>.<lambda> at 0x7f2b0e0be158>\n",
      "4\n",
      "<function f_list2.<locals>.f.<locals>.<lambda> at 0x7f2b0e0be0d0>\n",
      "9\n"
     ]
    }
   ],
   "source": [
    "# 将函数列表返回：理解闭包中子函数对父函数参数和局部变量的引用机制\n",
    "def f_list():\n",
    "    fs = []\n",
    "    for i in range(1,4):\n",
    "        def f():\n",
    "            return i * i\n",
    "        fs.append(f) # 将三个内部范数加入到fs中\n",
    "    return fs\n",
    "f1,f2,f3 = f_list()\n",
    "# 你可能认为调用f1()，f2()和f3()结果应该是1，4，9，但实际结果是：三个都是9\n",
    "# 原因就在于返回的函数引用了变量i，但它并非立刻执行。等到3个函数都返回时，它们所引用的变量i已经变成了3，因此最终结果为9。\n",
    "print(f1)\n",
    "print(f1()) # 实际结果三个都是9\n",
    "print(f2)\n",
    "print(f2())\n",
    "print(f3)\n",
    "print(f3(),\"\\n\\n\\n\")\n",
    "\n",
    "\n",
    "\n",
    "print(\"如果一定要引用循环变量怎么办？方法是再创建一个函数 \\n\\\n",
    "       用该函数的参数绑定循环变量当前的值，无论该循环变量后续如何更改，已绑定到函数参数的值不变\")\n",
    "def f_list2():\n",
    "    def f(i): # 这里会绑定这个i的值\n",
    "        return lambda :i * i # 这里可以用lambda表达式简化，注意因为这里直接用的是外部函数的参数，所以这个匿名函数不需要参数\n",
    "    \n",
    "    fs = []\n",
    "    for i in range(1,4):\n",
    "        fs.append(f(i)) # 如果想保持i可以是1，2，3的话需要将i再传入到另外一个函数中，\n",
    "    return fs\n",
    "f1,f2,f3 = f_list2() # 此时参数返回：1，4，9\n",
    "print(f1)\n",
    "print(f1()) \n",
    "print(f2)\n",
    "print(f2())\n",
    "print(f3)\n",
    "print(f3())"
   ]
  },
  {
   "cell_type": "code",
   "execution_count": 48,
   "metadata": {},
   "outputs": [
    {
     "name": "stdout",
     "output_type": "stream",
     "text": [
      "1 2 3 4 5\n"
     ]
    }
   ],
   "source": [
    "#利用闭包返回一个计数器函数，每次调用它返回递增整数：\n",
    "def createCounter():\n",
    "    count = [0] # 这里必须要用数组或者字典，不能直接用数字，不然的话是不能再子函数中去改变int的值的，但是可以改变list中item的值\n",
    "    def counter_plus():\n",
    "        count[0] = count[0] +1\n",
    "        return count[0]\n",
    "    return counter_plus\n",
    "counterA = createCounter()\n",
    "print(counterA(), counterA(), counterA(), counterA(), counterA())"
   ]
  },
  {
   "cell_type": "code",
   "execution_count": 6,
   "metadata": {},
   "outputs": [
    {
     "name": "stdout",
     "output_type": "stream",
     "text": [
      "0 轮: 3 ; 0\n",
      "1 轮: 3 ; -2\n",
      "2 轮: 3 ; -2\n",
      "3 轮: 6 ; -2\n",
      "4 轮: 6 ; -2\n",
      "5 轮: 7 ; -2\n",
      "7\n"
     ]
    }
   ],
   "source": [
    "# 最大加和数\n",
    "A = [3,-5,3,3,-1,2]\n",
    "pre_i = 0 # 前面i-1项目所有值的加和\n",
    "min_i = 0 # 到i为止，前面所有项顺序相加的最小值\n",
    "max_i = 0 # 到i为止：用所有加和的值cur_i-min_i此时就是前面i项中最大加和数\n",
    "for i in range(len(A)):\n",
    "    cur_i = pre_i + A[i] # 计算出当前到i为止所有项相加之和\n",
    "    pre_i = cur_i # 更新前一项：类似于指数加权平均数的上一次v_t和s_t\n",
    "    d_i = cur_i - min_i # 如果减去前面所有连加之和最小的值，那么当前可以剩余的最大加和为多少\n",
    "    max_i = d_i if d_i > max_i else max_i # 如果当前剩余最大加和比之前能产生的最大加和都大则进行更新\n",
    "    min_i = cur_i if cur_i < min_i else min_i # 最后要更新min_i\n",
    "    print(i,\"轮:\",max_i,\";\",min_i)\n",
    "print(max_i)    "
   ]
  },
  {
   "cell_type": "code",
   "execution_count": 53,
   "metadata": {},
   "outputs": [
    {
     "name": "stdout",
     "output_type": "stream",
     "text": [
      "[1, 3, 5, 7, 9, 11, 13, 15, 17, 19]\n"
     ]
    }
   ],
   "source": [
    "# lambad 表达式的匿名函数\n",
    "# 关键字lambda表示匿名函数，冒号前面的x表示函数参数。\n",
    "# 匿名函数有个限制，就是只能有一个表达式，不用写return，返回值就是该表达式的结果。\n",
    "# 利用匿名函数过滤出1-20的所有奇数\n",
    "l_odd = list(filter(lambda x:x%2 ==1,range(1,21)))\n",
    "print(l_odd)"
   ]
  },
  {
   "cell_type": "code",
   "execution_count": 73,
   "metadata": {},
   "outputs": [
    {
     "name": "stdout",
     "output_type": "stream",
     "text": [
      "<function now at 0x7f2b0dc71ae8>\n",
      "now\n",
      "now \n",
      "\n",
      "\n",
      "\n",
      "调用了方法： now\n",
      "2019.12.15\n",
      "调用了方法： now2\n",
      "2019.12.15\n",
      "wrapper2\n",
      "\n",
      "\n",
      "log2可以接收参数： log2装饰器\n",
      "2019.12.15\n",
      "wrapper3 \n",
      "\n",
      "\n",
      "\n",
      "===========================下面才是真正实际中使用的方式===============================\n",
      "log4可以接收参数： log4装饰器\n",
      "2019.12.15\n",
      "now4\n"
     ]
    }
   ],
   "source": [
    "# 装饰器: 跟设计模式中的装饰器模式一样，可以在不影响原方法的情况下，动态添加新功能到原方法中去\n",
    "def now():\n",
    "    print('2019.12.15')\n",
    "f = now # 可以将函数赋值给变量\n",
    "print(f)\n",
    "print(now.__name__)\n",
    "print(f.__name__,\"\\n\\n\\n\") # 可以通过变量名获得函数名\n",
    "\n",
    "\n",
    "# 定义一个在函数调用前可以打log的装饰器方法\n",
    "def log(func): # 用普通的方法定义实现装饰器，此时的log是不需要接收参数的\n",
    "    def wrapper2(*args,**kw):\n",
    "        print('调用了方法：',func.__name__)\n",
    "        return func(*args,**kw)\n",
    "    return wrapper2\n",
    "f  = log(now) # 这里就相当于用log去装饰的now方法\n",
    "f() \n",
    "\n",
    "@log # 借助Python的@语法，把decorator置于函数的定义处：\n",
    "def now2():\n",
    "    print('2019.12.15')\n",
    "now2() # 此时相当于：log(now)\n",
    "print(now2.__name__) # 被装饰后的名字是对应wrapper的名字\n",
    "print(\"\\n\")\n",
    "\n",
    "\n",
    "# 如果log本身需要接收参数，\n",
    "def log2(log_txt):\n",
    "    def decorator(func):\n",
    "        def wrapper3(*args,**kw):\n",
    "            print(\"log2可以接收参数：\",log_txt)\n",
    "            return func(*args,**kw)\n",
    "        return wrapper3\n",
    "        \n",
    "    return decorator\n",
    "@log2('log2装饰器')\n",
    "def now3():\n",
    "    print('2019.12.15')\n",
    "now3() # 此时相当于三层嵌套：log2('log2装饰器')(now3)\n",
    "print(now3.__name__,\"\\n\\n\\n\")\n",
    "\n",
    "\n",
    "print(\"===========================下面才是真正实际中使用的方式===============================\")\n",
    "# 因为返回的那个wrapper()函数名字就是'wrapper'，所以，需要把原始函数的__name__等属性复制到wrapper()函数中，\n",
    "# 否则，有些依赖函数签名的代码执行就会出错。\n",
    "\n",
    "# 不需要编写wrapper.__name__ = func.__name__这样的代码，Python内置的functools.wraps就是干这个事的，\n",
    "# 所以，一个完整的decorator的写法如下：\n",
    "import functools\n",
    "def log4(log_txt):\n",
    "    def decorator(func):\n",
    "        @functools.wraps(func) # 利用注解的方式防止func名字被wrapper覆盖\n",
    "        def wrapper(*args,**kw):\n",
    "            print(\"log4可以接收参数：\",log_txt)\n",
    "            return func(*args,**kw)\n",
    "        return wrapper\n",
    "    return decorator\n",
    "@log4('log4装饰器')\n",
    "def now4():\n",
    "    print('2019.12.15')\n",
    "now4()\n",
    "print(now4.__name__) # 此时的名字才是正确的now4"
   ]
  },
  {
   "cell_type": "code",
   "execution_count": 15,
   "metadata": {},
   "outputs": [
    {
     "name": "stdout",
     "output_type": "stream",
     "text": [
      "fast_test 执行耗时为: 0:00:00.001265\n",
      "slow_test 执行耗时为: 0:00:00.010153\n"
     ]
    }
   ],
   "source": [
    "# 设计一个可以打印出方法执行时间的装饰器\n",
    "import time\n",
    "import datetime\n",
    "import functools\n",
    "def log_exe_time(func):\n",
    "    @functools.wraps(func)\n",
    "    def wrapper(*args,**kw):\n",
    "        start_time = datetime.datetime.now() # 程序开始执行时间\n",
    "        func(*args,**kw) # 程序执行\n",
    "        over_time = datetime.datetime.now() # 程序执行结束时间\n",
    "        print(func.__name__,\"执行耗时为:\",over_time-start_time)\n",
    "    return wrapper\n",
    "\n",
    "@log_exe_time\n",
    "def fast_test(x, y):\n",
    "    time.sleep(0.0012) # 设置延迟\n",
    "    return x + y\n",
    "fast_test(10,25) \n",
    "\n",
    "@log_exe_time\n",
    "def slow_test(x,y):\n",
    "    time.sleep(0.01) # 设置延迟\n",
    "    return x + y\n",
    "slow_test(1,2) "
   ]
  },
  {
   "cell_type": "code",
   "execution_count": 27,
   "metadata": {},
   "outputs": [
    {
     "name": "stdout",
     "output_type": "stream",
     "text": [
      "107\n"
     ]
    }
   ],
   "source": [
    "import time\n",
    "A = time.time()\n",
    "time.sleep(0.0105)\n",
    "B = time.time()\n",
    "print(int((B-A)*10000))"
   ]
  },
  {
   "cell_type": "code",
   "execution_count": 2,
   "metadata": {},
   "outputs": [
    {
     "name": "stdout",
     "output_type": "stream",
     "text": [
      "['1', '2']\n"
     ]
    },
    {
     "data": {
      "text/plain": [
       "1"
      ]
     },
     "execution_count": 2,
     "metadata": {},
     "output_type": "execute_result"
    }
   ],
   "source": [
    "A = \"1 2\"\n",
    "print(A.split(' '))\n",
    "int(A[0])"
   ]
  },
  {
   "cell_type": "code",
   "execution_count": 11,
   "metadata": {},
   "outputs": [
    {
     "name": "stdout",
     "output_type": "stream",
     "text": [
      "['b', 'a', 'c']\n",
      "5\n"
     ]
    }
   ],
   "source": [
    "dic = {'a': 5, \"b\":4,\"c\":6}\n",
    "print(sorted(dic,key=lambda k:dic[k]))\n",
    "if dic['a'] > 6:\n",
    "    dic['a'] = 8 \n",
    "print(dic['a'])"
   ]
  },
  {
   "cell_type": "code",
   "execution_count": 23,
   "metadata": {},
   "outputs": [
    {
     "name": "stdout",
     "output_type": "stream",
     "text": [
      "['9', '7', '5', '4', '1']\n",
      "9   0\n",
      "7   5\n",
      "4   6\n"
     ]
    }
   ],
   "source": [
    "dic = {'1':2,'5':3,'4':6,'7':5,'9':0}\n",
    "sort_key_list = sorted(dic,key=lambda k:k,reverse=True)\n",
    "print(sort_key_list)\n",
    "max_y = -1\n",
    "for key in sort_key_list:\n",
    "#     print(key)\n",
    "    if dic[key] > max_y:\n",
    "        print(key,' ',dic[key])\n",
    "        max_y = dic[key]"
   ]
  },
  {
   "cell_type": "code",
   "execution_count": 36,
   "metadata": {},
   "outputs": [
    {
     "name": "stdout",
     "output_type": "stream",
     "text": [
      "[1, 3, 5]\n",
      "[1, 3, 5, 2, [6, 8], 4]\n"
     ]
    }
   ],
   "source": [
    "# list的extend函数相当于java中的addAll方法，会把另外一个list中的每个元素分别加入到列表中去 \n",
    "A = [1,3,5]\n",
    "B = [2,[6,8],4]\n",
    "A.extend([])\n",
    "print(A)\n",
    "A.extend(B)\n",
    "print(A)"
   ]
  },
  {
   "cell_type": "code",
   "execution_count": 9,
   "metadata": {},
   "outputs": [
    {
     "name": "stdout",
     "output_type": "stream",
     "text": [
      "a b c\n"
     ]
    }
   ],
   "source": [
    "\n",
    "\n",
    "# 二叉树相关\n",
    "\n",
    "class TreeNode:\n",
    "    def __init__(self,val):\n",
    "        self.val = val\n",
    "        self.l_child = None\n",
    "        self.r_child = None\n",
    "\n",
    "v_list = ['a','b','c','d','e','f','g','h'] # 按照从上到下的\n",
    "node_list = [TreeNode(v) for v in v_list]\n",
    "# for node in node_list:\n",
    "#     print(node.val)\n",
    "    \n",
    "root = node_list[0]\n",
    "total_count = len(node_list)\n",
    "for i in range(total_count):\n",
    "    node = node_list[i]\n",
    "    l_child_idx = (i << 1) +1\n",
    "    if l_child_idx < total_count:\n",
    "        node.l_child = node_list[l_child_idx]\n",
    "    r_child_idx = (i << 1) +2\n",
    "    if r_child_idx < total_count:\n",
    "        node.r_child = node_list[r_child_idx]\n",
    "print(root.val,root.l_child.val,root.r_child.val)"
   ]
  },
  {
   "cell_type": "code",
   "execution_count": 10,
   "metadata": {},
   "outputs": [
    {
     "name": "stdout",
     "output_type": "stream",
     "text": [
      "先序遍历： ['a', 'b', 'd', 'h', 'e', 'c', 'f', 'g']\n",
      "后序遍历： ['h', 'd', 'e', 'b', 'f', 'g', 'c', 'a']\n",
      "中序遍历： ['h', 'd', 'b', 'e', 'a', 'f', 'c', 'g']\n",
      "查找树的深度： 4\n",
      "广度优先按行遍历： ['a', 'b', 'c', 'd', 'e', 'f', 'g', 'h']\n",
      "深度优先按垂直方向的深度进行遍历： ['h', 'd', 'e', 'b', 'f', 'g', 'c', 'a']\n",
      "\n",
      "\n",
      "\n",
      "\n",
      "['a']\n",
      "['b', 'c']\n",
      "['d', 'e', 'f', 'g']\n",
      "['h']\n"
     ]
    }
   ],
   "source": [
    "# 二叉树的先序遍历：\n",
    "def pro_order(tree_node): # 采用递归的方式进行先序遍历\n",
    "    list_val = []\n",
    "    if tree_node == None or tree_node.val == None:\n",
    "        return list_val\n",
    "    list_val.append(tree_node.val) # 先添加根节点\n",
    "    list_val.extend(pro_order(tree_node.l_child)) # 在extend左结点列表\n",
    "    list_val.extend(pro_order(tree_node.r_child)) # 在extend有结点列表\n",
    "    return list_val\n",
    "print('先序遍历：',pro_order(root))\n",
    "\n",
    "def pos_order(tree_node): # 采用递归的方式进行后序遍历\n",
    "    list_val = []\n",
    "    if tree_node == None or tree_node.val == None:\n",
    "        return list_val\n",
    "    list_val.extend(pos_order(tree_node.l_child)) # 先添加左结点\n",
    "    list_val.extend(pos_order(tree_node.r_child)) # 再添加右结点\n",
    "    list_val.append(tree_node.val) # 最后添加父结点\n",
    "    return list_val\n",
    "print(\"后序遍历：\",pos_order(root))\n",
    "\n",
    "def mid_order(tree_node): # 采用递归的方式进行中序遍历\n",
    "    list_val = []\n",
    "    if tree_node == None or tree_node.val == None:\n",
    "        return list_val\n",
    "    list_val.extend(mid_order(tree_node.l_child)) # 先添加左结点\n",
    "    list_val.append(tree_node.val) # 添加父节点\n",
    "    list_val.extend(mid_order(tree_node.r_child))\n",
    "    return list_val\n",
    "print(\"中序遍历：\",mid_order(root))\n",
    "\n",
    "def get_deepth(tree_node): # 采用递归的方式获取树的深度\n",
    "    if tree_node == None:\n",
    "        return 0\n",
    "    if tree_node.l_child == None and tree_node.r_child == None:\n",
    "        return 1\n",
    "    left_deepth = 0 if tree_node.l_child == None else get_deepth(tree_node.l_child)\n",
    "    right_deepth = 0 if tree_node.r_child == None else get_deepth(tree_node.r_child)\n",
    "    return max(left_deepth,right_deepth)+1\n",
    "print(\"查找树的深度：\",get_deepth(root))\n",
    "\n",
    "def row_order(tree_node): # 广度优先的层次遍历：采用队列queue实现\n",
    "    \n",
    "    result_val_list = []\n",
    "    queue = []\n",
    "    queue.append(tree_node) # 首先先把根节点放入队列\n",
    "    while len(queue) > 0:\n",
    "        # step1: 从队列中取出一个结点\n",
    "        node = queue.pop(0) # 队列要先进先出\n",
    "        # step2: 将结点的值加入最终结果列表中\n",
    "        result_val_list.append(node.val) # 把从队列取出的结点的val值加入结果队列中\n",
    "        \n",
    "        # step3:将不为空的左右子节点依次加入到队列中去\n",
    "        if node.l_child != None:\n",
    "            queue.append(node.l_child) \n",
    "        if node.r_child != None:\n",
    "            queue.append(node.r_child)\n",
    "    return result_val_list\n",
    "print(\"广度优先按行遍历：\",row_order(root))\n",
    "\n",
    "def column_order(tree_node): # 深度优先的列遍历：采用堆栈stack实现\n",
    "    result_val_list = []\n",
    "    stack = []\n",
    "    stack.append(tree_node) # 首先把根节点放入堆栈\n",
    "    while len(stack) > 0:\n",
    "        # step1: 从堆栈中取出一个结点：后进先出\n",
    "        node = stack.pop()\n",
    "        # step2: 将取出的值加入最终结果列表的头部，因为越后加进去的要越先输出\n",
    "        result_val_list.insert(0,node.val)\n",
    "        \n",
    "        # step3:将不为空的左右子节点依次加入到队列中去\n",
    "        if node.l_child != None:\n",
    "            stack.append(node.l_child)\n",
    "        if node.r_child != None:\n",
    "            stack.append(node.r_child)\n",
    "    return result_val_list\n",
    "print(\"深度优先按垂直方向的深度进行遍历：\",column_order(root))\n",
    "print('\\n\\n\\n')\n",
    "\n",
    "\n",
    "\n",
    "\n",
    "#================ 基于二叉树的遍历算法进行拓展 =====================\n",
    "def z_shape_out(tree_node): # 利用广度优先遍历进行扩展，实现’Z‘字形(每一层正向-反向交替输出)输出\n",
    "    result_val_dic = {} # 用字典保存每一层的输出：key为层数，val为这一层的从左往右的结点列表\n",
    "    queue = [] # 此时的队列里面存放的是一个元组数据(0,root):第一位置代表结点的当前层数，第二个位置代表结点\n",
    "    queue.append((0,tree_node))\n",
    "    while len(queue) > 0:\n",
    "        # step1：任然是从队列中取出一个元组对象\n",
    "        layer,node = queue.pop(0)\n",
    "        # step2: 将取出的数据加入结果字典\n",
    "        if layer not in result_val_dic:\n",
    "            result_val_dic[layer] = [node.val] # 如果这层的数据还不在字典中，那么构建字典的k-v对，并放入对应的数据\n",
    "        else:\n",
    "            result_val_dic[layer].append(node.val) # 如果这层的数据已经在字典中，那么向对应val列表中加入新的数据值\n",
    "        \n",
    "        # step3:将不为空的左右子结点依次加入到队列中去\n",
    "        if node.l_child != None:\n",
    "            queue.append((layer+1,node.l_child))\n",
    "        if node.r_child != None:\n",
    "            queue.append((layer+1,node.r_child))\n",
    "    return result_val_dic\n",
    "z_shape_dic = z_shape_out(root)\n",
    "is_reverse = False\n",
    "for i in range(len(z_shape_dic)):\n",
    "    if is_reverse:\n",
    "        print(list(reversed(z_shape_dic[i])))\n",
    "    else:\n",
    "        print(z_shape_dic[i])\n",
    "    is_reverse != is_reverse\n",
    "\n",
    "    \n"
   ]
  },
  {
   "cell_type": "code",
   "execution_count": 3,
   "metadata": {},
   "outputs": [
    {
     "name": "stdout",
     "output_type": "stream",
     "text": [
      "3 hahac\n"
     ]
    }
   ],
   "source": [
    "A= (3,\"haha\")\n",
    "a,b = A\n",
    "print(a,b+'c')"
   ]
  },
  {
   "cell_type": "code",
   "execution_count": 16,
   "metadata": {},
   "outputs": [
    {
     "name": "stdout",
     "output_type": "stream",
     "text": [
      "寻找最长公共子串： dljlkgd   7\n",
      "寻找最长公共子序列： adljlkgdfj\n",
      "得到字符串的全排列： ['abc', 'acb', 'bac', 'bca', 'cab', 'cba']\n",
      "最长不重复子串为: dacsbe\n"
     ]
    }
   ],
   "source": [
    "# 字符串专题:和字符串处理相关的算法\n",
    "def get_longest_common_sub_str(str1,str2): # 利用矩阵得到两个字符串的最长公共子串\n",
    "    len1 = len(str1)\n",
    "    len2 = len(str2)\n",
    "    m = [[0 for _ in range(len2+1)] for _ in range(len1+1)] # 注意len2列在前，len1行在后\n",
    "    max_len = 0 # 最长子串的长度\n",
    "    last_idx = 0 # 最后子串的最后一个字符在str1中的索引位置\n",
    "    for i in range(len1):\n",
    "        for j in range(len2):\n",
    "            if str1[i] == str2[j]:\n",
    "                m[i+1][j+1] = m[i][j] +1\n",
    "                if m[i+1][j+1] > max_len:\n",
    "                    max_len = m[i+1][j+1]\n",
    "                    last_idx = i+1\n",
    "    return str1[last_idx-max_len:last_idx],max_len\n",
    "com_str,max_len = get_longest_common_sub_str(\"sajkdljlkgdfjlkgf\",\"sdadljlkgddsafds\")\n",
    "print(\"寻找最长公共子串：\",com_str,\" \",max_len)\n",
    "\n",
    "def get_longest_common_sub_seq(str1,str2): # 利用矩阵寻找两个字符串的最长公共子序列\n",
    "    len1 = len(str1)\n",
    "    len2 = len(str2)\n",
    "    m = [[0 for _ in range(len2+1)] for _ in range(len1+1)] # 用来记录到每一个(i,j)位置的两个字符串前面匹配的序列最长的长度\n",
    "    d = [[None for _ in range(len2+1)] for _ in range(len1+1)] # 用来记录操作\"ok\"：i,j相等，'left'左边大，’up'上面大\n",
    "    for i in range(len1):\n",
    "        for j in range(len2):\n",
    "            if str1[i] == str2[j]:\n",
    "                m[i+1][j+1] = m[i][j]+1\n",
    "                d[i+1][j+1] = 'ok'\n",
    "            elif m[i+1][j] > m[i][j+1]: # 左边大于上边\n",
    "                m[i+1][j+1] = m[i+1][j]\n",
    "                d[i+1][j+1] = 'left'\n",
    "            else: # 上边的值大于左边\n",
    "                m[i+1][j+1] = m[i][j+1]\n",
    "                d[i+1][j+1] = 'up'\n",
    "    \n",
    "    # 从最后一个位置向前找\n",
    "    p1 = len1\n",
    "    p2 = len2\n",
    "    res_seq = '' \n",
    "    \n",
    "    while p1>0 and p2>0:\n",
    "        if d[p1][p2] == 'ok': # 如果匹配，词将匹配的字符串加入结果，然后p1,p2各自向前移动一格\n",
    "            res_seq = str1[p1] + res_seq\n",
    "            p1 -=1\n",
    "            p2 -=1\n",
    "        elif d[p1][p2] == 'left': # 如果是复制的左边的值\n",
    "            p2 -=1 # 行不变，列-1\n",
    "        elif d[p1][p2] == 'up':\n",
    "            p1 -=1 # 列不变，行-1\n",
    "    \n",
    "    return res_seq\n",
    "print(\"寻找最长公共子序列：\",get_longest_common_sub_seq(\"sadjkdljlkgdfjlkgf\",\"sdadljlkgddsafds\"))\n",
    "                \n",
    "\n",
    "def get_all_permutation(ss): # 寻找字符串的全排列\n",
    "    def exchange(ss,idx1,idx2): # 交换位置1和位置2的的字符\n",
    "        tem = ss[idx1]\n",
    "        ss[idx1] = ss[idx2]\n",
    "        ss[idx2] = tem\n",
    "        \n",
    "    def all_permutation(ss,start_idx):\n",
    "        list_str = []\n",
    "        if start_idx == len(ss) -1: # 如果start_idx字符串的最后一个字符，返回输出\n",
    "#             print(ss)\n",
    "#             print(\"\".join(ss))\n",
    "            ss = \"\".join(ss)\n",
    "            list_str.append(ss)\n",
    "            return list_str\n",
    "        \n",
    "        for i in range(start_idx,len(ss)):\n",
    "            exchange(ss,start_idx,i) # 交换\n",
    "            list_str.extend(all_permutation(ss,start_idx+1)) # 递归\n",
    "            \n",
    "            exchange(ss,start_idx,i) # 还原\n",
    "        return list_str\n",
    "    return sorted(all_permutation(ss,0)) # 最后给数据排个序\n",
    "list_all = get_all_permutation(list(\"abc\"))\n",
    "print(\"得到字符串的全排列：\",list_all)\n",
    "\n",
    "# 寻找字符串的最长不重复子串\n",
    "def get_max_uncommon_sub_str(ss):\n",
    "    # sdsdadfdsa\n",
    "    len_str = len(ss)\n",
    "    \n",
    "    max_str = ss[0]\n",
    "    \n",
    "    start_idx = 0 # 开始指针的位置索引\n",
    "    end_idx = 1 # 结束位置的指针索引\n",
    "    cur_str = ss[start_idx]\n",
    "    while end_idx < len_str:\n",
    "        if cur_str.__contains__(ss[end_idx]): # 如果包含说明有重复\n",
    "            idx = cur_str.index(ss[end_idx]) # 找到索引位置\n",
    "            start_idx += idx+1 # 更新开始位置索引指针\n",
    "            cur_str = ss[start_idx:end_idx+1] # 更新当前字符串，这个字符串肯定不是最大子串\n",
    "        else: # 如果不包含，说明可以加上这个字符然后继续向后找\n",
    "            cur_str +=  ss[end_idx]\n",
    "            if (len(cur_str) > len(max_str)): # 如果当前不重复子串比最大子串大那么更新最大子串 \n",
    "                max_str = cur_str\n",
    "        end_idx += 1 # 更新结束位置索引\n",
    "    return max_str\n",
    "print(\"最长不重复子串为:\",get_max_uncommon_sub_str(\"sdacsbed\"))\n"
   ]
  },
  {
   "cell_type": "code",
   "execution_count": 8,
   "metadata": {},
   "outputs": [
    {
     "data": {
      "text/plain": [
       "False"
      ]
     },
     "execution_count": 8,
     "metadata": {},
     "output_type": "execute_result"
    }
   ],
   "source": [
    "\"dsdas\".__contains__('l')"
   ]
  },
  {
   "cell_type": "code",
   "execution_count": 11,
   "metadata": {},
   "outputs": [
    {
     "data": {
      "text/plain": [
       "'sbc'"
      ]
     },
     "execution_count": 11,
     "metadata": {},
     "output_type": "execute_result"
    }
   ],
   "source": [
    "a= 's'\n",
    "a +='b'+'c'\n",
    "a"
   ]
  },
  {
   "cell_type": "code",
   "execution_count": 6,
   "metadata": {},
   "outputs": [
    {
     "data": {
      "text/plain": [
       "[]"
      ]
     },
     "execution_count": 6,
     "metadata": {},
     "output_type": "execute_result"
    }
   ],
   "source": [
    "A = [3,5,6]\n",
    "A = A[3:]\n",
    "A"
   ]
  },
  {
   "cell_type": "code",
   "execution_count": 7,
   "metadata": {},
   "outputs": [
    {
     "name": "stdout",
     "output_type": "stream",
     "text": [
      "963570\n",
      "[9, 8, 5]\n",
      "[7, 9, 5, 3, 7, 2, 1]\n",
      "[9, 8, 8, 9, 2, 1, 5, 5, 5, 0, 7, 4]\n",
      "[9, 9, 9, 8, 6, 8]\n"
     ]
    }
   ],
   "source": [
    "from functools import reduce\n",
    "# 使用列表1和列表2中的数字去构建一个位数为K的数，使其的值最大\n",
    "def get_max(list1,list2,k):\n",
    "    len1 = len(list1)\n",
    "    len2 = len(list2)\n",
    "    if k == 0:\n",
    "        return []\n",
    "    \n",
    "    k -=1\n",
    "    \n",
    "    max_1 = 0 # 列表一中最大的值\n",
    "    idx1 = 0 # 列表一中最大的值的位置索引\n",
    "    # 如果len2>=k的话，那么len1中的元素都选；如果len2<k的话:len1后面的数要留够能把k位补全的数\n",
    "    max1_count = len1 if len2 >=k else len1-(k-len2)\n",
    "    for i in range(max1_count): # \n",
    "        if list1[i] > max_1:\n",
    "            max_1 = list1[i]\n",
    "            idx1 = i+1\n",
    "            \n",
    "    max_2 = 0 # 列表二中最大的值\n",
    "    idx2 = 0 # 列表二中最大的值的位置索引\n",
    "    max2_count = len2 if len1 >=k else len2 - (k-len1)\n",
    "    for j in range(max2_count):\n",
    "        if list2[j] > max_2:\n",
    "            max_2 = list2[j]\n",
    "            idx2 = j+1\n",
    "#     print(max_int)\n",
    "\n",
    "    res_list = [max(max_1,max_2)]\n",
    "    if max_1 > max_2: # 最大值在列表1中\n",
    "        list1 = list1[idx1:]\n",
    "        res_list.extend(get_max(list1,list2,k))\n",
    "    elif max_2 > max_1: # 最大值在列表2中\n",
    "        list2 = list2[idx2:]\n",
    "        res_list.extend(get_max(list1,list2,k))\n",
    "    else: # 列表1和列表2的最大值相等\n",
    "        list1_last = list1[idx1:]\n",
    "        res_list1 = get_max(list1_last,list2,k) # 得到取列表1的结果\n",
    "        \n",
    "        list2_last = list2[idx2:]\n",
    "        res_list2 = get_max(list1,list2_last,k) # 得到取列表2的结果\n",
    "        \n",
    "        # 判断哪个结果更大\n",
    "        is_list1_bigger = True\n",
    "        for i in range(k):\n",
    "            if res_list2[i] > res_list1[i]:\n",
    "                is_list1_bigger = False\n",
    "                break\n",
    "        \n",
    "        res_list.extend(res_list1 if is_list1_bigger else res_list2)\n",
    "    return res_list\n",
    "    \n",
    "print(reduce(lambda x1,x2:x1*10+x2,get_max([6,3,8,9,4,6,0],[3,5,7],6)))\n",
    "print(get_max([2,6,8,4,3],[6,9,2,5],3))\n",
    "print(get_max([3,7,2],[7,9,5,1],7))\n",
    "print(get_max([7,8,7,7,4,4,9,1,5,5,5],[8,2,9,8,2,0,7,4],12))\n",
    "print(get_max([5,9,7,5,3,9,0,5,5,6,3,2,6,8],[9,1,4,8],6))"
   ]
  },
  {
   "cell_type": "code",
   "execution_count": 37,
   "metadata": {},
   "outputs": [
    {
     "name": "stdout",
     "output_type": "stream",
     "text": [
      "[2, 1]\n"
     ]
    }
   ],
   "source": [
    "A = [2,1]\n",
    "B = []\n",
    "A.extend(B)\n",
    "print(A)"
   ]
  },
  {
   "cell_type": "code",
   "execution_count": 3,
   "metadata": {},
   "outputs": [
    {
     "name": "stdout",
     "output_type": "stream",
     "text": [
      "0\n"
     ]
    }
   ],
   "source": [
    "for i in range(-1):\n",
    "    print(i)"
   ]
  },
  {
   "cell_type": "code",
   "execution_count": 23,
   "metadata": {},
   "outputs": [
    {
     "name": "stdout",
     "output_type": "stream",
     "text": [
      "12345\n",
      "20\n",
      "4 \n",
      "\n",
      "\n",
      "\n",
      "16\n",
      "10\n",
      "10\n",
      "10\n"
     ]
    }
   ],
   "source": [
    "# 偏函数（Partial function）\n",
    "# 利用int()偏函数把一个N进制的字符串转换成10进制的数字\n",
    "print(int(12345)) # 默认是将10进制的字符串转换成10进制的数字\n",
    "print(int('010100',base=2)) # 这样的话是把2进制的字符串转成10进制的数字\n",
    "\n",
    "def int_2(int_s,base=2): # 通过这种方式定义一个二进制字符串转10进制数字的方法\n",
    "    return int(int_s,base) \n",
    "print(int_2('0100'),\"\\n\\n\\n\") # 使用自定义的二进制转换函数\n",
    "\n",
    "\n",
    "# functools.partial就是帮助我们创建一个偏函数的，\n",
    "# 不需要我们自己定义int2()，可以直接使用下面的代码创建一个新的函数int2：\n",
    "import functools\n",
    "int2 = functools.partial(int,base=2) # 偏斜类其实就是把一个函数的某些参数固定住：然后返回一个新函数\n",
    "print(int2('10000'))\n",
    "# 偏函数有点类似于java中的同名不同参的函数扩展方式，是的使用起来更加简单，只是Python中必须不同名称\n",
    "\n",
    "# 最后，创建偏函数时，实际上可以接收函数对象、*args和**kw这3个参数，当传入：\n",
    "max10 = functools.partial(max,10) # 其实相当于默认max()函数最左边传入了一个10\n",
    "print(max10(3,5,8)) # 相当于max(10,3,5,8)\n",
    "print(max(10,3,5,8))\n",
    "args = {10,3,5,8}\n",
    "print(max(args))\n",
    "\n",
    "# 当函数的参数个数太多，需要简化时，使用functools.partial可以创建一个新的函数，\n",
    "# 这个新函数可以固定住原函数的部分参数，从而在调用时更简单。"
   ]
  },
  {
   "cell_type": "code",
   "execution_count": 11,
   "metadata": {},
   "outputs": [
    {
     "ename": "ValueError",
     "evalue": "invalid literal for int() with base 8: '800'",
     "output_type": "error",
     "traceback": [
      "\u001b[0;31m---------------------------------------------------------------------------\u001b[0m",
      "\u001b[0;31mValueError\u001b[0m                                Traceback (most recent call last)",
      "\u001b[0;32m<ipython-input-11-71e77df3063f>\u001b[0m in \u001b[0;36m<module>\u001b[0;34m\u001b[0m\n\u001b[0;32m----> 1\u001b[0;31m \u001b[0mint\u001b[0m\u001b[0;34m(\u001b[0m\u001b[0;34m'800'\u001b[0m\u001b[0;34m,\u001b[0m \u001b[0mbase\u001b[0m\u001b[0;34m=\u001b[0m\u001b[0;36m8\u001b[0m\u001b[0;34m)\u001b[0m\u001b[0;34m\u001b[0m\u001b[0;34m\u001b[0m\u001b[0m\n\u001b[0m",
      "\u001b[0;31mValueError\u001b[0m: invalid literal for int() with base 8: '800'"
     ]
    }
   ],
   "source": [
    "int('800', base=8) # 8进制的字符串最大数字应该是7，此时传入不合法的字符串会抛异常"
   ]
  },
  {
   "cell_type": "code",
   "execution_count": null,
   "metadata": {},
   "outputs": [],
   "source": [
    "# 函数的作用域\n",
    "# 正常的函数和变量名是公开的（public），可以被直接引用，比如：abc，x123，PI等；\n",
    "\n",
    "# __xxx__ 这样的是特殊变量(系统默认有定义)，如__author__，__name__;\n",
    "# 模块定义的文档注释也可以用特殊变量__doc__访问，我们自己的变量一般不要用这种变量名\n",
    "\n",
    "# _xxx和__xxx这样的函数或变量就是非公开的(private),不应该被直接引用\n",
    "def _private_1(name):\n",
    "    return 'Hello, %s' % name\n",
    "def _private_2(name):\n",
    "    return 'Hi,%s' % name\n",
    "\n",
    "def greeting(name): # 外部值调用greeting方法，而不用关心里面的具体逻辑\n",
    "    if len(name) > 3:\n",
    "        return _private_1(name)\n",
    "    else:\n",
    "        return _private_2(name)"
   ]
  },
  {
   "cell_type": "code",
   "execution_count": 24,
   "metadata": {},
   "outputs": [
    {
     "name": "stdout",
     "output_type": "stream",
     "text": [
      "['/Users/zhenwuzhou/Ai/Test', '/Library/Frameworks/Python.framework/Versions/3.7/lib/python37.zip', '/Library/Frameworks/Python.framework/Versions/3.7/lib/python3.7', '/Library/Frameworks/Python.framework/Versions/3.7/lib/python3.7/lib-dynload', '', '/Library/Frameworks/Python.framework/Versions/3.7/lib/python3.7/site-packages', '/Library/Frameworks/Python.framework/Versions/3.7/lib/python3.7/site-packages/IPython/extensions', '/Users/zhenwuzhou/.ipython']\n"
     ]
    }
   ],
   "source": [
    "import sys\n",
    "# 默认情况下，Python解释器会搜索当前目录、\n",
    "# 所有已安装的内置模块和第三方模块，搜索路径存放在sys模块的path变量中：\n",
    "print(sys.path)\n",
    "\n",
    "# 也可以用过下面这种方式添加要搜索的目录：\n",
    "sys.path.append('/Users/zzw/xx') # 填写对应需要的路径path"
   ]
  },
  {
   "cell_type": "code",
   "execution_count": 38,
   "metadata": {},
   "outputs": [
    {
     "name": "stdout",
     "output_type": "stream",
     "text": [
      "<__main__.User object at 0x10a968190>\n",
      "张三:18\n",
      "李四:25\n",
      "21\n",
      "张三儿:18\n",
      "18\n"
     ]
    }
   ],
   "source": [
    "# 面向对象编程\n",
    "class User(object):\n",
    "    def __init__(self,name,age):\n",
    "        self.name = name\n",
    "        self.__age = age # 通过这种方式可以把变量设置为私有的\n",
    "    \n",
    "    def print_age(self):\n",
    "        print('%s:%s'%(self.name,self.__age))\n",
    "    \n",
    "    def set_age(age): # 通过这种方法可以在方法内部对赋值的合理性进行判断\n",
    "        if age < 0 or age > 100:\n",
    "            print(\"年龄值不合法\")\n",
    "        else:\n",
    "            self.__age = age \n",
    "    \n",
    "    def get_age():\n",
    "        return self.__age # 可以通过get方法来获取私有变量的值\n",
    "user1 = User('张三',18)\n",
    "user2 = User('李四',25)\n",
    "print(user1)\n",
    "user1.print_age()\n",
    "user2.print_age()\n",
    "\n",
    "user1.name = '张三儿'\n",
    "user1.age = 16 # 因为age为私有属性，这样是改不了的\n",
    "user1.__age = 21 # 这样也是改不了的，\n",
    "print(user1.__age) # 上面只是给user1新增了一个__age的变量，并不是原来类中的那个变量\n",
    "user1.print_age()\n",
    "print(user1._User__age) # 仍然可以通过这种方来访问user1的的私有变量，但是强烈建议不要这么做，因为不同版本的Python解释器可能会把__name改成不同的变量名。\n"
   ]
  },
  {
   "cell_type": "code",
   "execution_count": 27,
   "metadata": {},
   "outputs": [
    {
     "name": "stdout",
     "output_type": "stream",
     "text": [
      "<class 'int'>\n",
      "<class 'str'>\n",
      "<class 'NoneType'>\n",
      "<class 'builtin_function_or_method'> \n",
      "\n",
      "\n",
      "True\n",
      "False\n",
      "True\n",
      "False \n",
      "\n",
      "\n",
      "True\n",
      "True\n",
      "True\n",
      "True\n",
      "\n",
      "\n",
      "\n",
      "True\n",
      "True\n",
      "True\n",
      "\n",
      "\n",
      "\n",
      "['__add__', '__class__', '__contains__', '__delattr__', '__dir__', '__doc__', '__eq__', '__format__', '__ge__', '__getattribute__', '__getitem__', '__getnewargs__', '__gt__', '__hash__', '__init__', '__init_subclass__', '__iter__', '__le__', '__len__', '__lt__', '__mod__', '__mul__', '__ne__', '__new__', '__reduce__', '__reduce_ex__', '__repr__', '__rmod__', '__rmul__', '__setattr__', '__sizeof__', '__str__', '__subclasshook__', 'capitalize', 'casefold', 'center', 'count', 'encode', 'endswith', 'expandtabs', 'find', 'format', 'format_map', 'index', 'isalnum', 'isalpha', 'isdecimal', 'isdigit', 'isidentifier', 'islower', 'isnumeric', 'isprintable', 'isspace', 'istitle', 'isupper', 'join', 'ljust', 'lower', 'lstrip', 'maketrans', 'partition', 'replace', 'rfind', 'rindex', 'rjust', 'rpartition', 'rsplit', 'rstrip', 'split', 'splitlines', 'startswith', 'strip', 'swapcase', 'title', 'translate', 'upper', 'zfill'] \n",
      "\n",
      "100\n",
      "100\n",
      "True\n",
      "False\n",
      "True\n",
      "9\n",
      "19\n",
      "19\n",
      "404\n",
      "\n",
      "\n",
      "True\n",
      "<bound method MyObject.power of <__main__.MyObject object at 0x7f6511b33240>>\n",
      "<bound method MyObject.power of <__main__.MyObject object at 0x7f6511b33240>>\n",
      "81\n"
     ]
    }
   ],
   "source": [
    "# 获取对象信息\n",
    "print(type(125))\n",
    "print(type(\"dsd\"))\n",
    "print(type(None))\n",
    "\n",
    "# 如果一个变量指向函数或者类，也可以用type()判断：\n",
    "print(type(max),\"\\n\\n\") \n",
    "\n",
    "# 类型比较\n",
    "print(type(564) == type(357))\n",
    "print(type(564) == type('sds'))\n",
    "# 判断基本数据类型可以直接写int，str等\n",
    "print(type(564) == int) \n",
    "print(type(564) == str,\"\\n\\n\")\n",
    "\n",
    "#如果要判断一个对象是否是函数，则可以使用types模型中定义的常量:\n",
    "import types\n",
    "def fn_test():\n",
    "    pass\n",
    "print(type(fn_test) == types.FunctionType) # 是否是一个函数\n",
    "print(type(max) == types.BuiltinFunctionType) # 是否是Python内部函数\n",
    "print(type(lambda x:x) == types.LambdaType) # 是否是lambda匿名函数\n",
    "print(type((x for x in range(10))) == types.GeneratorType) # 是否是生成器函数\n",
    "print(\"\\n\\n\")\n",
    "\n",
    "\n",
    "# isinstance()可以进行类的判断和基本类型的判断\n",
    "class Student(object):\n",
    "    def __init__(self):\n",
    "        pass\n",
    "stu = Student()\n",
    "print(isinstance(stu,Student))\n",
    "print(isinstance(\"sds\",str)) # 利用isinstance来判断是否是字符串\n",
    "print(isinstance([1,3,5],(list,tuple))) # 还可以判断是否是集中类型中的某一种\n",
    "print('\\n\\n')\n",
    "\n",
    "\n",
    "# 如果要获得一个对象的所有属性和方法，可以使用dir()函数，\n",
    "# 它返回一个包含字符串的list，比如，获得一个str对象的所有属性和方法：\n",
    "print(dir(\"sds\"),'\\n')\n",
    "\n",
    "# 类似__xxx__的属性和方法在Python中都是有特殊用途的，比如__len__方法返回长度。在Python中，如果你调用len()函数试图获取一个对象的长度，\n",
    "# 实际上，在len()函数内部，它自动去调用该对象的__len__()方法，所以，下面的代码是等价的：\n",
    "class LenTest(object):\n",
    "    def __len__(self):\n",
    "        return 100\n",
    "len_test = LenTest()\n",
    "print(len_test.__len__()) \n",
    "print(len(len_test)) # len方法其实就是调用了len_test.__len__()\n",
    "\n",
    "# 仅仅把属性和方法列出来是不够的，配合getattr()、setattr()以及hasattr()，我们可以直接操作一个对象的状态：\n",
    "class MyObject(object):\n",
    "    def __init__(self):\n",
    "        self.a = 9\n",
    "    \n",
    "    def power(self):\n",
    "        return self.a * self.a\n",
    "my_obj = MyObject()\n",
    "print(hasattr(my_obj,'a')) # 是否有属性a\n",
    "print(hasattr(my_obj,'b')) # 是否有属性b\n",
    "setattr(my_obj,'b',19) # 给my_obj设置一个属性b\n",
    "print(hasattr(my_obj,'b')) # 现在在看是否有属性b\n",
    "print(getattr(my_obj,'a')) # 获取my_obj的属性a的值\n",
    "print(getattr(my_obj,'b')) # 获取my_obj的属性b的值\n",
    "print(my_obj.b) # 获取my_obj的属性b的值\n",
    "# print(getattr(my_obj,'z')) # 如果获取没有的属性会抛异常：AttributeError\n",
    "print(getattr(my_obj,'z',404)) # 但是可以跟找不到的属性设置一个默认值\n",
    "print(\"\\n\")\n",
    "# 也是使用getattr()、setattr()以及hasattr()来对方法进行操作\n",
    "print(hasattr(my_obj,'power')) # 是否有方法power\n",
    "print(getattr(my_obj,'power')) # 获取'power'属性：即这个方法\n",
    "fn = getattr(my_obj,'power') # 获取'power‘这个方法并赋值给fn\n",
    "print(fn)\n",
    "print(fn()) # 可以调用这个方法"
   ]
  },
  {
   "cell_type": "code",
   "execution_count": 69,
   "metadata": {},
   "outputs": [
    {
     "name": "stdout",
     "output_type": "stream",
     "text": [
      "True\n"
     ]
    },
    {
     "data": {
      "text/plain": [
       "3"
      ]
     },
     "execution_count": 69,
     "metadata": {},
     "output_type": "execute_result"
    }
   ],
   "source": [
    "print(\"sdsds\".__contains__(\"ds\"))\n",
    "len(\"sds\")"
   ]
  },
  {
   "cell_type": "code",
   "execution_count": 72,
   "metadata": {},
   "outputs": [
    {
     "data": {
      "text/plain": [
       "100"
      ]
     },
     "execution_count": 72,
     "metadata": {},
     "output_type": "execute_result"
    }
   ],
   "source": [
    "class MyDog(object):\n",
    "     def __len__(self):\n",
    "         return 100\n",
    "\n",
    "dog = MyDog()\n",
    "len(dog)"
   ]
  }
 ],
 "metadata": {
  "kernelspec": {
   "display_name": "Python 3",
   "language": "python",
   "name": "python3"
  },
  "language_info": {
   "codemirror_mode": {
    "name": "ipython",
    "version": 3
   },
   "file_extension": ".py",
   "mimetype": "text/x-python",
   "name": "python",
   "nbconvert_exporter": "python",
   "pygments_lexer": "ipython3",
   "version": "3.7.4"
  }
 },
 "nbformat": 4,
 "nbformat_minor": 2
}
