{
 "cells": [
  {
   "cell_type": "code",
   "execution_count": 1,
   "metadata": {},
   "outputs": [],
   "source": [
    "import tensorflow as tf\n",
    "from tensorflow import keras\n",
    "from tensorflow.keras import datasets,layers,optimizers\n",
    "import matplotlib.pyplot as plt\n",
    "import numpy as np"
   ]
  },
  {
   "cell_type": "code",
   "execution_count": 3,
   "metadata": {},
   "outputs": [],
   "source": [
    "(train_images,train_labels),(test_images,test_labels) = datasets.fashion_mnist.load_data()"
   ]
  },
  {
   "cell_type": "code",
   "execution_count": 9,
   "metadata": {},
   "outputs": [
    {
     "name": "stdout",
     "output_type": "stream",
     "text": [
      "(60000, 28, 28, 1)\n",
      "(10000, 28, 28, 1)\n"
     ]
    }
   ],
   "source": [
    "X_train = train_images/255\n",
    "X_train = X_train.reshape((-1,28,28,1),)\n",
    "X_test = test_images/255\n",
    "X_test = X_test.reshape((-1,28,28,1))\n",
    "print(X_train.shape)\n",
    "print(X_test.shape)"
   ]
  },
  {
   "cell_type": "code",
   "execution_count": 6,
   "metadata": {},
   "outputs": [
    {
     "name": "stdout",
     "output_type": "stream",
     "text": [
      "(60000,)\n",
      "(60000, 10)\n",
      "(10000, 10)\n"
     ]
    }
   ],
   "source": [
    "print(train_labels.shape)\n",
    "Y_train = keras.utils.to_categorical(train_labels)\n",
    "Y_test = keras.utils.to_categorical(test_labels)\n",
    "print(Y_train.shape)\n",
    "print(Y_test.shape)"
   ]
  },
  {
   "cell_type": "code",
   "execution_count": 49,
   "metadata": {},
   "outputs": [
    {
     "name": "stdout",
     "output_type": "stream",
     "text": [
      "_________________________________________________________________\n",
      "Layer (type)                 Output Shape              Param #   \n",
      "=================================================================\n",
      "input_17 (InputLayer)        (None, 28, 28, 1)         0         \n",
      "_________________________________________________________________\n",
      "conv2d_24 (Conv2D)           (None, 28, 28, 32)        320       \n",
      "_________________________________________________________________\n",
      "conv2d_25 (Conv2D)           (None, 28, 28, 64)        18496     \n",
      "_________________________________________________________________\n",
      "max_pooling2d_23 (MaxPooling (None, 14, 14, 64)        0         \n",
      "_________________________________________________________________\n",
      "dropout_6 (Dropout)          (None, 14, 14, 64)        0         \n",
      "_________________________________________________________________\n",
      "flatten_16 (Flatten)         (None, 12544)             0         \n",
      "_________________________________________________________________\n",
      "dense_32 (Dense)             (None, 128)               1605760   \n",
      "_________________________________________________________________\n",
      "dropout_7 (Dropout)          (None, 128)               0         \n",
      "_________________________________________________________________\n",
      "dense_33 (Dense)             (None, 10)                1290      \n",
      "=================================================================\n",
      "Total params: 1,625,866\n",
      "Trainable params: 1,625,866\n",
      "Non-trainable params: 0\n",
      "_________________________________________________________________\n"
     ]
    }
   ],
   "source": [
    "# Teacher Model # 老师模型\n",
    "def TeacherModel():\n",
    "    input_layer = keras.layers.Input(shape=(28,28,1))\n",
    "    conv_layer1 = keras.layers.Conv2D(filters=32,\n",
    "                                      kernel_size=[3,3],\n",
    "                                      padding='same',\n",
    "                                      input_shape=(28,28,1),\n",
    "                                      activation='relu')(input_layer)\n",
    "    conv_layer2 = keras.layers.Conv2D(filters=64,\n",
    "                                      kernel_size=[3,3],\n",
    "                                      padding='same',\n",
    "                                      activation='relu'\n",
    "                                     )(conv_layer1)\n",
    "    max_pooling2 = keras.layers.MaxPool2D(pool_size=(2,2))(conv_layer2)\n",
    "    dropout1 = keras.layers.Dropout(0.35)(max_pooling2)\n",
    "    flatten_layer = keras.layers.Flatten()(dropout1)\n",
    "    hidden_layer1 = keras.layers.Dense(128,activation='relu')(flatten_layer)\n",
    "    dropout2 = keras.layers.Dropout(0.5)(hidden_layer1)\n",
    "    ouput_layer = keras.layers.Dense(10,activation='softmax')(dropout2)\n",
    "    \n",
    "    model = keras.models.Model(inputs = [input_layer],\n",
    "                               outputs = ouput_layer)\n",
    "    return model\n",
    "teacher_model = TeacherModel()\n",
    "teacher_model.summary()\n",
    "\n",
    "teacher_model.compile(optimizer=optimizers.Adam(),loss=\"categorical_crossentropy\",metrics=['acc'])"
   ]
  },
  {
   "cell_type": "code",
   "execution_count": 50,
   "metadata": {},
   "outputs": [
    {
     "name": "stdout",
     "output_type": "stream",
     "text": [
      "Train on 60000 samples, validate on 10000 samples\n",
      "Epoch 1/20\n",
      "60000/60000 [==============================] - 37s 611us/sample - loss: 0.6259 - acc: 0.7778 - val_loss: 0.3811 - val_acc: 0.8645\n",
      "Epoch 2/20\n",
      "60000/60000 [==============================] - 36s 603us/sample - loss: 0.3807 - acc: 0.8655 - val_loss: 0.3209 - val_acc: 0.8798\n",
      "Epoch 3/20\n",
      "60000/60000 [==============================] - 36s 604us/sample - loss: 0.3283 - acc: 0.8834 - val_loss: 0.2828 - val_acc: 0.8974\n",
      "Epoch 4/20\n",
      "60000/60000 [==============================] - 36s 604us/sample - loss: 0.2950 - acc: 0.8950 - val_loss: 0.2769 - val_acc: 0.8980\n",
      "Epoch 5/20\n",
      "60000/60000 [==============================] - 36s 603us/sample - loss: 0.2721 - acc: 0.9008 - val_loss: 0.2515 - val_acc: 0.9060\n",
      "Epoch 6/20\n",
      "60000/60000 [==============================] - 36s 604us/sample - loss: 0.2557 - acc: 0.9088 - val_loss: 0.2425 - val_acc: 0.9095\n",
      "Epoch 7/20\n",
      "60000/60000 [==============================] - 36s 603us/sample - loss: 0.2411 - acc: 0.9124 - val_loss: 0.2416 - val_acc: 0.9127\n",
      "Epoch 8/20\n",
      "60000/60000 [==============================] - 36s 601us/sample - loss: 0.2277 - acc: 0.9159 - val_loss: 0.2381 - val_acc: 0.9136\n",
      "Epoch 9/20\n",
      "60000/60000 [==============================] - 36s 604us/sample - loss: 0.2149 - acc: 0.9216 - val_loss: 0.2303 - val_acc: 0.9171\n",
      "Epoch 10/20\n",
      "60000/60000 [==============================] - 36s 603us/sample - loss: 0.2058 - acc: 0.9245 - val_loss: 0.2278 - val_acc: 0.9187\n",
      "Epoch 11/20\n",
      "60000/60000 [==============================] - 36s 598us/sample - loss: 0.1953 - acc: 0.9277 - val_loss: 0.2260 - val_acc: 0.9169\n",
      "Epoch 12/20\n",
      "60000/60000 [==============================] - 37s 610us/sample - loss: 0.1844 - acc: 0.9310 - val_loss: 0.2304 - val_acc: 0.9161\n",
      "Epoch 13/20\n",
      "60000/60000 [==============================] - 36s 604us/sample - loss: 0.1748 - acc: 0.9342 - val_loss: 0.2183 - val_acc: 0.9188\n",
      "Epoch 14/20\n",
      "60000/60000 [==============================] - 36s 600us/sample - loss: 0.1675 - acc: 0.9387 - val_loss: 0.2099 - val_acc: 0.9269\n",
      "Epoch 15/20\n",
      "60000/60000 [==============================] - 36s 597us/sample - loss: 0.1620 - acc: 0.9402 - val_loss: 0.2096 - val_acc: 0.9260\n",
      "Epoch 16/20\n",
      "60000/60000 [==============================] - 36s 600us/sample - loss: 0.1573 - acc: 0.9412 - val_loss: 0.2114 - val_acc: 0.9254\n",
      "Epoch 17/20\n",
      "60000/60000 [==============================] - 36s 598us/sample - loss: 0.1486 - acc: 0.9450 - val_loss: 0.2205 - val_acc: 0.9252\n",
      "Epoch 18/20\n",
      "60000/60000 [==============================] - 36s 601us/sample - loss: 0.1440 - acc: 0.9456 - val_loss: 0.2148 - val_acc: 0.9281\n",
      "Epoch 19/20\n",
      "60000/60000 [==============================] - 36s 596us/sample - loss: 0.1379 - acc: 0.9482 - val_loss: 0.2188 - val_acc: 0.9291\n",
      "Epoch 20/20\n",
      "60000/60000 [==============================] - 36s 596us/sample - loss: 0.1344 - acc: 0.9488 - val_loss: 0.2195 - val_acc: 0.9269\n"
     ]
    },
    {
     "data": {
      "text/plain": [
       "<tensorflow.python.keras.callbacks.History at 0x7febe681e898>"
      ]
     },
     "execution_count": 50,
     "metadata": {},
     "output_type": "execute_result"
    }
   ],
   "source": [
    "teacher_model.fit(X_train,Y_train,batch_size=512,epochs=20,validation_data=(X_test,Y_test))"
   ]
  },
  {
   "cell_type": "code",
   "execution_count": 52,
   "metadata": {},
   "outputs": [],
   "source": [
    "Y_teacher_train = teacher_model.predict(X_train)"
   ]
  },
  {
   "cell_type": "code",
   "execution_count": 53,
   "metadata": {},
   "outputs": [
    {
     "data": {
      "text/plain": [
       "(60000, 10)"
      ]
     },
     "execution_count": 53,
     "metadata": {},
     "output_type": "execute_result"
    }
   ],
   "source": [
    "Y_teacher_train.shape"
   ]
  },
  {
   "cell_type": "code",
   "execution_count": null,
   "metadata": {},
   "outputs": [],
   "source": []
  },
  {
   "cell_type": "code",
   "execution_count": 37,
   "metadata": {},
   "outputs": [
    {
     "name": "stdout",
     "output_type": "stream",
     "text": [
      "_________________________________________________________________\n",
      "Layer (type)                 Output Shape              Param #   \n",
      "=================================================================\n",
      "input_11 (InputLayer)        (None, 28, 28, 1)         0         \n",
      "_________________________________________________________________\n",
      "conv2d_16 (Conv2D)           (None, 28, 28, 2)         34        \n",
      "_________________________________________________________________\n",
      "max_pooling2d_16 (MaxPooling (None, 14, 14, 2)         0         \n",
      "_________________________________________________________________\n",
      "flatten_10 (Flatten)         (None, 392)               0         \n",
      "_________________________________________________________________\n",
      "dense_20 (Dense)             (None, 16)                6288      \n",
      "_________________________________________________________________\n",
      "dense_21 (Dense)             (None, 10)                170       \n",
      "=================================================================\n",
      "Total params: 6,492\n",
      "Trainable params: 6,492\n",
      "Non-trainable params: 0\n",
      "_________________________________________________________________\n"
     ]
    }
   ],
   "source": [
    "# Student Model # 学生模型\n",
    "def StudentModel():\n",
    "    input_layer = keras.layers.Input(shape=(28,28,1))\n",
    "    conv_layer1 = keras.layers.Conv2D(filters=2,\n",
    "                                      kernel_size=[4,4],\n",
    "                                      padding='same',\n",
    "                                      input_shape=(28,28,1),\n",
    "                                      activation='relu')(input_layer)\n",
    "    max_pooling1 = keras.layers.MaxPool2D(pool_size=(2,2),\n",
    "                                          strides=2, # 步长\n",
    "                                         )(conv_layer1)\n",
    "    flatten_layer = keras.layers.Flatten()(max_pooling1)\n",
    "    hidden_layer1 = keras.layers.Dense(16,activation='relu')(flatten_layer)\n",
    "    ouput_layer = keras.layers.Dense(10,activation='softmax')(hidden_layer1)\n",
    "    \n",
    "    model = keras.models.Model(inputs = [input_layer],\n",
    "                               outputs = ouput_layer)\n",
    "    return model\n",
    "student_model = StudentModel()\n",
    "student_model.summary()\n",
    "student_model.compile(optimizer=optimizers.Adam(),loss=\"categorical_crossentropy\",metrics=['acc'])"
   ]
  },
  {
   "cell_type": "code",
   "execution_count": 38,
   "metadata": {},
   "outputs": [
    {
     "name": "stdout",
     "output_type": "stream",
     "text": [
      "Train on 60000 samples, validate on 10000 samples\n",
      "Epoch 1/10\n",
      "60000/60000 [==============================] - 4s 60us/sample - loss: 1.4613 - acc: 0.5172 - val_loss: 0.7661 - val_acc: 0.7453\n",
      "Epoch 2/10\n",
      "60000/60000 [==============================] - 3s 55us/sample - loss: 0.6172 - acc: 0.7823 - val_loss: 0.5731 - val_acc: 0.7946\n",
      "Epoch 3/10\n",
      "60000/60000 [==============================] - 3s 54us/sample - loss: 0.5121 - acc: 0.8208 - val_loss: 0.5062 - val_acc: 0.8207\n",
      "Epoch 4/10\n",
      "60000/60000 [==============================] - 3s 54us/sample - loss: 0.4728 - acc: 0.8338 - val_loss: 0.4841 - val_acc: 0.8313\n",
      "Epoch 5/10\n",
      "60000/60000 [==============================] - 3s 55us/sample - loss: 0.4489 - acc: 0.8439 - val_loss: 0.4669 - val_acc: 0.8334\n",
      "Epoch 6/10\n",
      "60000/60000 [==============================] - 3s 54us/sample - loss: 0.4349 - acc: 0.8486 - val_loss: 0.4541 - val_acc: 0.8410\n",
      "Epoch 7/10\n",
      "60000/60000 [==============================] - 3s 54us/sample - loss: 0.4225 - acc: 0.8518 - val_loss: 0.4483 - val_acc: 0.8465\n",
      "Epoch 8/10\n",
      "60000/60000 [==============================] - 3s 53us/sample - loss: 0.4136 - acc: 0.8550 - val_loss: 0.4347 - val_acc: 0.8498\n",
      "Epoch 9/10\n",
      "60000/60000 [==============================] - 3s 55us/sample - loss: 0.4071 - acc: 0.8585 - val_loss: 0.4360 - val_acc: 0.8513\n",
      "Epoch 10/10\n",
      "60000/60000 [==============================] - 3s 53us/sample - loss: 0.4005 - acc: 0.8607 - val_loss: 0.4311 - val_acc: 0.8494\n"
     ]
    },
    {
     "data": {
      "text/plain": [
       "<tensorflow.python.keras.callbacks.History at 0x7febe8c70710>"
      ]
     },
     "execution_count": 38,
     "metadata": {},
     "output_type": "execute_result"
    }
   ],
   "source": [
    "# 直接使用原始数据进行训练的结果\n",
    "student_model.fit(X_train,Y_train,batch_size=512,epochs=10,validation_data=(X_test,Y_test))"
   ]
  },
  {
   "cell_type": "code",
   "execution_count": 54,
   "metadata": {},
   "outputs": [
    {
     "name": "stdout",
     "output_type": "stream",
     "text": [
      "_________________________________________________________________\n",
      "Layer (type)                 Output Shape              Param #   \n",
      "=================================================================\n",
      "input_18 (InputLayer)        (None, 28, 28, 1)         0         \n",
      "_________________________________________________________________\n",
      "conv2d_26 (Conv2D)           (None, 28, 28, 2)         34        \n",
      "_________________________________________________________________\n",
      "max_pooling2d_24 (MaxPooling (None, 14, 14, 2)         0         \n",
      "_________________________________________________________________\n",
      "flatten_17 (Flatten)         (None, 392)               0         \n",
      "_________________________________________________________________\n",
      "dense_34 (Dense)             (None, 16)                6288      \n",
      "_________________________________________________________________\n",
      "dense_35 (Dense)             (None, 10)                170       \n",
      "=================================================================\n",
      "Total params: 6,492\n",
      "Trainable params: 6,492\n",
      "Non-trainable params: 0\n",
      "_________________________________________________________________\n"
     ]
    }
   ],
   "source": [
    "# 创建跟随老师学习的模型\n",
    "floow_teacher_model = StudentModel()\n",
    "floow_teacher_model.summary()\n",
    "floow_teacher_model.compile(optimizer=optimizers.Adam(),loss=\"categorical_crossentropy\",metrics=['acc'])"
   ]
  },
  {
   "cell_type": "code",
   "execution_count": 55,
   "metadata": {},
   "outputs": [
    {
     "name": "stdout",
     "output_type": "stream",
     "text": [
      "Train on 60000 samples, validate on 10000 samples\n",
      "Epoch 1/10\n",
      "60000/60000 [==============================] - 4s 64us/sample - loss: 1.3540 - acc: 0.5637 - val_loss: 0.7397 - val_acc: 0.7468\n",
      "Epoch 2/10\n",
      "60000/60000 [==============================] - 3s 53us/sample - loss: 0.6048 - acc: 0.7973 - val_loss: 0.5910 - val_acc: 0.7945\n",
      "Epoch 3/10\n",
      "60000/60000 [==============================] - 3s 54us/sample - loss: 0.5163 - acc: 0.8286 - val_loss: 0.5373 - val_acc: 0.8141\n",
      "Epoch 4/10\n",
      "60000/60000 [==============================] - 3s 54us/sample - loss: 0.4771 - acc: 0.8440 - val_loss: 0.5167 - val_acc: 0.8237\n",
      "Epoch 5/10\n",
      "60000/60000 [==============================] - 3s 54us/sample - loss: 0.4550 - acc: 0.8506 - val_loss: 0.4914 - val_acc: 0.8325\n",
      "Epoch 6/10\n",
      "60000/60000 [==============================] - 3s 55us/sample - loss: 0.4396 - acc: 0.8567 - val_loss: 0.4877 - val_acc: 0.8309\n",
      "Epoch 7/10\n",
      "60000/60000 [==============================] - 3s 55us/sample - loss: 0.4278 - acc: 0.8600 - val_loss: 0.4763 - val_acc: 0.8359\n",
      "Epoch 8/10\n",
      "60000/60000 [==============================] - 3s 54us/sample - loss: 0.4173 - acc: 0.8641 - val_loss: 0.4707 - val_acc: 0.8371\n",
      "Epoch 9/10\n",
      "60000/60000 [==============================] - 3s 54us/sample - loss: 0.4077 - acc: 0.8677 - val_loss: 0.4578 - val_acc: 0.8442\n",
      "Epoch 10/10\n",
      "60000/60000 [==============================] - 3s 54us/sample - loss: 0.4009 - acc: 0.8704 - val_loss: 0.4505 - val_acc: 0.8454\n"
     ]
    },
    {
     "data": {
      "text/plain": [
       "<tensorflow.python.keras.callbacks.History at 0x7febe6177cf8>"
      ]
     },
     "execution_count": 55,
     "metadata": {},
     "output_type": "execute_result"
    }
   ],
   "source": [
    "# 使用老师的数据进行学习:在验证集上学习效果明显变好，测试集因为老师学的还不够好，没有明显优势，但如果老师学习的足够好，将会有更大的提升\n",
    "floow_teacher_model.fit(X_train,Y_teacher_train,batch_size=512,epochs=10,validation_data=(X_test,Y_test))"
   ]
  },
  {
   "cell_type": "code",
   "execution_count": null,
   "metadata": {},
   "outputs": [],
   "source": []
  }
 ],
 "metadata": {
  "kernelspec": {
   "display_name": "Python 3",
   "language": "python",
   "name": "python3"
  },
  "language_info": {
   "codemirror_mode": {
    "name": "ipython",
    "version": 3
   },
   "file_extension": ".py",
   "mimetype": "text/x-python",
   "name": "python",
   "nbconvert_exporter": "python",
   "pygments_lexer": "ipython3",
   "version": "3.7.4"
  }
 },
 "nbformat": 4,
 "nbformat_minor": 4
}
