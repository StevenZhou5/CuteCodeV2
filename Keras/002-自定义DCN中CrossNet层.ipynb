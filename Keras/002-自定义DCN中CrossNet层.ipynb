{
 "cells": [
  {
   "cell_type": "code",
   "execution_count": 13,
   "metadata": {},
   "outputs": [],
   "source": [
    "import tensorflow as tf\n",
    "import numpy as np\n",
    "\n",
    "from tensorflow.python.keras.initializers import (Zeros, glorot_normal,\n",
    "                                                  glorot_uniform)\n",
    "from tensorflow.python.keras.regularizers import l2\n",
    "from tensorflow.python.keras import backend as K"
   ]
  },
  {
   "cell_type": "code",
   "execution_count": 28,
   "metadata": {},
   "outputs": [],
   "source": [
    "class CrossNet(tf.keras.layers.Layer):\n",
    "    def __init__(self,layer_num=1, l2_reg=0, seed=1024, **kwargs):\n",
    "        self.layer_num = layer_num\n",
    "        self.l2_reg = l2_reg\n",
    "        self.seed = seed\n",
    "        super(CrossNet,self).__init__(**kwargs)\n",
    "    \n",
    "    def build(self,input_shape):\n",
    "        print(\"build input_shape\",input_shape)\n",
    "        \n",
    "        if len(input_shape) != 2:\n",
    "            raise ValueError(\n",
    "                \"Unexpected inputs dimensions %d, expect to be 2 dimensions\" % (len(input_shape),))\n",
    "        \n",
    "        dim = int(input_shape[-1])\n",
    "        self.kernels = [self.add_weight(name='kernel' + str(i),\n",
    "                                        shape=(dim, 1),\n",
    "                                        initializer=glorot_normal(\n",
    "                                            seed=self.seed),\n",
    "                                        regularizer=l2(self.l2_reg),\n",
    "                                        trainable=True) for i in range(self.layer_num)]\n",
    "        self.bias = [self.add_weight(name='bias' + str(i),\n",
    "                                     shape=(dim, 1),\n",
    "                                     initializer=Zeros(),\n",
    "                                     trainable=True) for i in range(self.layer_num)]\n",
    "        # Be sure to call this somewhere!\n",
    "        super(CrossNet, self).build(input_shape)\n",
    "    \n",
    "    def call(self, inputs, **kwargs):\n",
    "        if K.ndim(inputs) != 2:\n",
    "            raise ValueError(\n",
    "                \"Unexpected inputs dimensions %d, expect to be 2 dimensions\" % (K.ndim(inputs)))\n",
    "        \n",
    "        print(\"call inputs.shape\",inputs.shape)\n",
    "        x_0 = tf.expand_dims(inputs, axis=2)\n",
    "        x_l = x_0\n",
    "        print(\"call x_0.shape:\",x_0.shape)\n",
    "        for i in range(self.layer_num):\n",
    "            xl_w = tf.tensordot(x_l, self.kernels[i], axes=(1, 0))# x_l的第一维和self.kernels[i]的第0维度进行点成(相乘在相加)\n",
    "            print(\"self.kernel shape:\",self.kernels[i].shape)\n",
    "            print(\"xl_w shape:\",xl_w.shape)\n",
    "            dot_ = tf.matmul(x_0, xl_w)\n",
    "            print(\"dot_ shape:\",dot_.shape)\n",
    "            x_l = dot_ + self.bias[i] + x_l\n",
    "        x_l = tf.squeeze(x_l, axis=2)\n",
    "        return x_l\n",
    "\n",
    "    def get_config(self, ):\n",
    "\n",
    "        config = {'layer_num': self.layer_num,\n",
    "                  'l2_reg': self.l2_reg, 'seed': self.seed}\n",
    "        base_config = super(CrossNet, self).get_config()\n",
    "        return dict(list(base_config.items()) + list(config.items()))\n",
    "\n",
    "    def compute_output_shape(self, input_shape):\n",
    "        return input_shape"
   ]
  },
  {
   "cell_type": "code",
   "execution_count": 59,
   "metadata": {},
   "outputs": [
    {
     "name": "stdout",
     "output_type": "stream",
     "text": [
      "build input_shape (None, 6)\n",
      "call inputs.shape (None, 6)\n",
      "call x_0.shape: (None, 6, 1)\n",
      "self.kernel shape: (6, 1)\n",
      "xl_w shape: (None, 1, 1)\n",
      "dot_ shape: (None, 6, 1)\n"
     ]
    }
   ],
   "source": [
    "input1 = tf.keras.layers.Input(shape=(3,))\n",
    "input2 = tf.keras.layers.Input(shape=(3,))\n",
    "concatenate_layer = tf.keras.layers.concatenate([input1,input2])\n",
    "\n",
    "output = CrossNet()(concatenate_layer)"
   ]
  },
  {
   "cell_type": "code",
   "execution_count": null,
   "metadata": {},
   "outputs": [],
   "source": []
  }
 ],
 "metadata": {
  "kernelspec": {
   "display_name": "Python 3",
   "language": "python",
   "name": "python3"
  },
  "language_info": {
   "codemirror_mode": {
    "name": "ipython",
    "version": 3
   },
   "file_extension": ".py",
   "mimetype": "text/x-python",
   "name": "python",
   "nbconvert_exporter": "python",
   "pygments_lexer": "ipython3",
   "version": "3.7.4"
  }
 },
 "nbformat": 4,
 "nbformat_minor": 4
}
