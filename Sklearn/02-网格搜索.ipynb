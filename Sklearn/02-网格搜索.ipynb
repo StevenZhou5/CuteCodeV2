{
 "cells": [
  {
   "cell_type": "code",
   "execution_count": 11,
   "metadata": {},
   "outputs": [],
   "source": [
    "import pandas as pd\n",
    "import numpy as np\n",
    "import sklearn \n",
    "from sklearn.tree import DecisionTreeClassifier\n",
    "from sklearn.model_selection import train_test_split,GridSearchCV\n",
    "from sklearn.datasets import load_wine"
   ]
  },
  {
   "cell_type": "code",
   "execution_count": 8,
   "metadata": {},
   "outputs": [],
   "source": [
    "wine = load_wine()\n",
    "Xtrain, Xtest, Ytrain, Ytest = train_test_split(wine.data,wine.target,test_size = 0.3)"
   ]
  },
  {
   "cell_type": "code",
   "execution_count": 18,
   "metadata": {},
   "outputs": [],
   "source": [
    "# 网格搜索：能够帮助我们同时调整多个残值的技术，枚举技术\n",
    "\n",
    "# 这些都是要搜索的参数，网格搜索会搜索出其中组合效果最好的一组参数组合\n",
    "gini_threholds = np.linspace(0,0.5,50) # 在0至0.5之间，随机依次递增取50个数\n",
    "parameters = {\"criterion\":(\"gini\",\"entropy\"),\n",
    "              \"splitter\":(\"best\",\"random\"),\n",
    "              \"max_depth\":[*range(1,10)],\n",
    "              \"min_samples_leaf\":[*range(1,50,5)],\n",
    "              \"min_impurity_decrease\":gini_threholds # 信息增益的最小值，当信息增益(父节点信息熵-子节点信息熵的和)小于这个值时将不再进行分支\n",
    "             }\n",
    "\n",
    "clf = DecisionTreeClassifier(random_state=25)\n",
    "GS = GridSearchCV(clf,parameters,)\n",
    "GS = GS.fit(Xtrain,Ytrain) # 用网格搜索去fit"
   ]
  },
  {
   "cell_type": "code",
   "execution_count": 19,
   "metadata": {},
   "outputs": [
    {
     "data": {
      "text/plain": [
       "{'criterion': 'entropy',\n",
       " 'max_depth': 6,\n",
       " 'min_impurity_decrease': 0.0,\n",
       " 'min_samples_leaf': 6,\n",
       " 'splitter': 'random'}"
      ]
     },
     "execution_count": 19,
     "metadata": {},
     "output_type": "execute_result"
    }
   ],
   "source": [
    "GS.best_params_ # 从我们的输入参数和参数取值的列表中，返回最佳组合"
   ]
  },
  {
   "cell_type": "code",
   "execution_count": 20,
   "metadata": {},
   "outputs": [
    {
     "data": {
      "text/plain": [
       "0.9276666666666668"
      ]
     },
     "execution_count": 20,
     "metadata": {},
     "output_type": "execute_result"
    }
   ],
   "source": [
    "GS.best_score_ # 最好的评分"
   ]
  },
  {
   "cell_type": "code",
   "execution_count": null,
   "metadata": {},
   "outputs": [],
   "source": []
  }
 ],
 "metadata": {
  "kernelspec": {
   "display_name": "Python 3",
   "language": "python",
   "name": "python3"
  },
  "language_info": {
   "codemirror_mode": {
    "name": "ipython",
    "version": 3
   },
   "file_extension": ".py",
   "mimetype": "text/x-python",
   "name": "python",
   "nbconvert_exporter": "python",
   "pygments_lexer": "ipython3",
   "version": "3.6.9"
  }
 },
 "nbformat": 4,
 "nbformat_minor": 2
}
