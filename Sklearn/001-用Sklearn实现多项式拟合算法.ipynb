{
 "cells": [
  {
   "cell_type": "code",
   "execution_count": 33,
   "metadata": {},
   "outputs": [],
   "source": [
    "from sklearn import linear_model\n",
    "import pandas as pd\n",
    "import numpy as np\n",
    "# 导入线性模型和多项式特征构造模块\n",
    "from sklearn.preprocessing import PolynomialFeatures"
   ]
  },
  {
   "cell_type": "code",
   "execution_count": 22,
   "metadata": {},
   "outputs": [
    {
     "name": "stdout",
     "output_type": "stream",
     "text": [
      "[65 74 60 23 40 54 89 68 51 84]\n",
      "[0.39765947 0.69907803 0.20187787 0.6397397  0.49946947 0.19304582\n",
      " 0.90708979 0.49251924 0.54829239 0.95576409]\n",
      "[195.79531895 223.39815606 180.40375574  70.2794794  120.99893894\n",
      " 162.38609164 268.81417958 204.98503848 154.09658478 253.91152818]\n"
     ]
    }
   ],
   "source": [
    "size = 10\n",
    "X1 = np.random.randint(10,100,size)\n",
    "print(X1)\n",
    "X2 = np.random.rand(size)\n",
    "print(X2)\n",
    "\n",
    "Y = 3*X1 + 2*X2\n",
    "print(Y)"
   ]
  },
  {
   "cell_type": "code",
   "execution_count": 32,
   "metadata": {},
   "outputs": [
    {
     "data": {
      "text/plain": [
       "array([[65.        ,  0.39765947],\n",
       "       [74.        ,  0.69907803],\n",
       "       [60.        ,  0.20187787],\n",
       "       [23.        ,  0.6397397 ],\n",
       "       [40.        ,  0.49946947],\n",
       "       [54.        ,  0.19304582],\n",
       "       [89.        ,  0.90708979],\n",
       "       [68.        ,  0.49251924],\n",
       "       [51.        ,  0.54829239],\n",
       "       [84.        ,  0.95576409]])"
      ]
     },
     "execution_count": 32,
     "metadata": {},
     "output_type": "execute_result"
    }
   ],
   "source": [
    "trainX = np.concatenate((X1.reshape(-1,1),X2.reshape(-1,1)),axis=1)\n",
    "trainX"
   ]
  },
  {
   "cell_type": "code",
   "execution_count": 39,
   "metadata": {},
   "outputs": [
    {
     "data": {
      "text/plain": [
       "array([[1.00000000e+00, 6.50000000e+01, 3.97659474e-01, 4.22500000e+03,\n",
       "        2.58478658e+01, 1.58133057e-01],\n",
       "       [1.00000000e+00, 7.40000000e+01, 6.99078029e-01, 5.47600000e+03,\n",
       "        5.17317741e+01, 4.88710090e-01],\n",
       "       [1.00000000e+00, 6.00000000e+01, 2.01877868e-01, 3.60000000e+03,\n",
       "        1.21126721e+01, 4.07546734e-02],\n",
       "       [1.00000000e+00, 2.30000000e+01, 6.39739699e-01, 5.29000000e+02,\n",
       "        1.47140131e+01, 4.09266882e-01],\n",
       "       [1.00000000e+00, 4.00000000e+01, 4.99469470e-01, 1.60000000e+03,\n",
       "        1.99787788e+01, 2.49469751e-01],\n",
       "       [1.00000000e+00, 5.40000000e+01, 1.93045818e-01, 2.91600000e+03,\n",
       "        1.04244742e+01, 3.72666878e-02],\n",
       "       [1.00000000e+00, 8.90000000e+01, 9.07089788e-01, 7.92100000e+03,\n",
       "        8.07309912e+01, 8.22811884e-01],\n",
       "       [1.00000000e+00, 6.80000000e+01, 4.92519242e-01, 4.62400000e+03,\n",
       "        3.34913084e+01, 2.42575203e-01],\n",
       "       [1.00000000e+00, 5.10000000e+01, 5.48292388e-01, 2.60100000e+03,\n",
       "        2.79629118e+01, 3.00624542e-01],\n",
       "       [1.00000000e+00, 8.40000000e+01, 9.55764092e-01, 7.05600000e+03,\n",
       "        8.02841837e+01, 9.13484999e-01]])"
      ]
     },
     "execution_count": 39,
     "metadata": {},
     "output_type": "execute_result"
    }
   ],
   "source": [
    "# degree=2表示建立datasets_X的二 次多项式特征X_poly\n",
    "poly_reg = PolynomialFeatures(degree=2)\n",
    "X_poly = poly_reg.fit_transform(trainX)\n",
    "X_poly"
   ]
  },
  {
   "cell_type": "code",
   "execution_count": 40,
   "metadata": {},
   "outputs": [
    {
     "data": {
      "text/plain": [
       "LinearRegression(copy_X=True, fit_intercept=True, n_jobs=None, normalize=False)"
      ]
     },
     "execution_count": 40,
     "metadata": {},
     "output_type": "execute_result"
    }
   ],
   "source": [
    "# 创建线性回归模型\n",
    "lin_reg_2 = linear_model.LinearRegression()\n",
    "lin_reg_2.fit(X_poly,Y)"
   ]
  },
  {
   "cell_type": "code",
   "execution_count": 41,
   "metadata": {},
   "outputs": [
    {
     "data": {
      "text/plain": [
       "array([ 0.00000000e+00,  3.00000000e+00,  2.00000000e+00,  0.00000000e+00,\n",
       "       -1.17128529e-14, -3.17610088e-13])"
      ]
     },
     "execution_count": 41,
     "metadata": {},
     "output_type": "execute_result"
    }
   ],
   "source": [
    "# 查看回归方程系数\n",
    "lin_reg_2.coef_"
   ]
  },
  {
   "cell_type": "code",
   "execution_count": 43,
   "metadata": {},
   "outputs": [
    {
     "data": {
      "text/plain": [
       "array([8.])"
      ]
     },
     "execution_count": 43,
     "metadata": {},
     "output_type": "execute_result"
    }
   ],
   "source": [
    "lin_reg_2.predict([[1,2,1,4,2,1]])"
   ]
  },
  {
   "cell_type": "code",
   "execution_count": 44,
   "metadata": {},
   "outputs": [
    {
     "data": {
      "text/plain": [
       "2.3305801732931286e-12"
      ]
     },
     "execution_count": 44,
     "metadata": {},
     "output_type": "execute_result"
    }
   ],
   "source": [
    "# 查看回归方程截距\n",
    "lin_reg_2.intercept_"
   ]
  },
  {
   "cell_type": "code",
   "execution_count": 45,
   "metadata": {},
   "outputs": [
    {
     "data": {
      "text/plain": [
       "1.0"
      ]
     },
     "execution_count": 45,
     "metadata": {},
     "output_type": "execute_result"
    }
   ],
   "source": [
    "lin_reg_2.score(X_poly,Y)"
   ]
  },
  {
   "cell_type": "code",
   "execution_count": null,
   "metadata": {},
   "outputs": [],
   "source": []
  }
 ],
 "metadata": {
  "kernelspec": {
   "display_name": "Python 3",
   "language": "python",
   "name": "python3"
  },
  "language_info": {
   "codemirror_mode": {
    "name": "ipython",
    "version": 3
   },
   "file_extension": ".py",
   "mimetype": "text/x-python",
   "name": "python",
   "nbconvert_exporter": "python",
   "pygments_lexer": "ipython3",
   "version": "3.6.9"
  }
 },
 "nbformat": 4,
 "nbformat_minor": 2
}
