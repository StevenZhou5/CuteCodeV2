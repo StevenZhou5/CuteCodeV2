{
 "cells": [
  {
   "cell_type": "code",
   "execution_count": 1,
   "metadata": {
    "ExecuteTime": {
     "end_time": "2022-08-26T07:34:46.442720Z",
     "start_time": "2022-08-26T07:34:46.440428Z"
    }
   },
   "outputs": [],
   "source": [
    "# 滑动窗口一般是暴力解法的优化；\n",
    "# 滑动窗口一般用于解决连续区间问题（如76. 最小覆盖子串）\n"
   ]
  },
  {
   "cell_type": "code",
   "execution_count": 2,
   "metadata": {
    "ExecuteTime": {
     "end_time": "2022-08-28T03:50:43.900419Z",
     "start_time": "2022-08-28T03:50:43.890820Z"
    }
   },
   "outputs": [],
   "source": [
    "# 滑动窗口通用解法归纳：\n",
    "# step1: 定义滑动计数map、距离统计distance、左右边界、结果计算变量；\n",
    "# step2：右边界移动，一般没有条件限制，每次向右移动一格；同时需要更新计数和距离；\n",
    "# step3: 左边界移动，一般有条件限制，满足条件时才移动；同时需要更新计数和距离;\n",
    "# # step4: 结果更新，一般在左边界移动过程中或移动结束后更新\n",
    "class Solution:\n",
    "    def slidingWindow(self, s: str, t: str) -> str:\n",
    "        \n",
    "        n = len(s)  # s 字符串的长度\n",
    "        counter_t = collections.Counter(t)  # \n",
    "\n",
    "        # step1: 定义滑动计数map、距离统计distance、左右边界、结果计算变量；\n",
    "        counter_s = {}  # 滑动计数map\n",
    "        distince = len(t)  # 距离统计\n",
    "        l, r = 0, 0  # 左右边界指针\n",
    "        res_l, res_len = 0, n + 1  # 结果结算遍历\n",
    "        while r < n:\n",
    "            # step2：右边界移动，一般没有条件限制，每次向右移动一格\n",
    "            if s[r] not in counter_t:  # 如果字符不是t种的目标字符，不用关心\n",
    "                r += 1\n",
    "                continue\n",
    "            # step2-2：更新计数和距离\n",
    "            counter_s[s[r]] = counter_s.get(s[r], 0) + 1\n",
    "            if counter_s[s[r]] <= counter_t[s[r]]:  # 只有counter_s[s[r]] 的个数<= counter_t[s[r]] 才可以在添加一个字符的时候减少距离\n",
    "                distince -= 1\n",
    "            r += 1\n",
    "\n",
    "            # step3: 左边界移动，一般有条件限制，满足条件时才移动\n",
    "            while distince == 0:\n",
    "                if s[l] not in counter_t:\n",
    "                    l += 1\n",
    "                    continue\n",
    "                # print(l, r)\n",
    "                # 在窗口左移的时候会产生最小覆盖子串，所以在这个时候进行判断\n",
    "                if (r - l) < res_len:\n",
    "                    # print(l, r)\n",
    "                    res_l, res_len = l, r - l\n",
    "                # step3-2：更新计数和距离\n",
    "                counter_s[s[l]] = counter_s.get(s[l], 0) - 1\n",
    "                if counter_s[s[l]] < counter_t[s[l]]:  # s[l] 的在窗口中的字符频数已经不足时增加distance\n",
    "                    distince += 1\n",
    "                l += 1\n",
    "        \n",
    "        # step4: 结果更新，一般在左边界移动过程中或移动结束后更新\n",
    "        # print(res_l, res_len)\n",
    "        return s[res_l: res_l + res_len] if res_len <= n else \"\""
   ]
  },
  {
   "cell_type": "code",
   "execution_count": null,
   "metadata": {},
   "outputs": [],
   "source": []
  }
 ],
 "metadata": {
  "kernelspec": {
   "display_name": "Python 3",
   "language": "python",
   "name": "python3"
  },
  "language_info": {
   "codemirror_mode": {
    "name": "ipython",
    "version": 3
   },
   "file_extension": ".py",
   "mimetype": "text/x-python",
   "name": "python",
   "nbconvert_exporter": "python",
   "pygments_lexer": "ipython3",
   "version": "3.7.4"
  },
  "toc": {
   "base_numbering": 1,
   "nav_menu": {},
   "number_sections": true,
   "sideBar": true,
   "skip_h1_title": false,
   "title_cell": "Table of Contents",
   "title_sidebar": "Contents",
   "toc_cell": false,
   "toc_position": {},
   "toc_section_display": true,
   "toc_window_display": false
  },
  "varInspector": {
   "cols": {
    "lenName": 16,
    "lenType": 16,
    "lenVar": 40
   },
   "kernels_config": {
    "python": {
     "delete_cmd_postfix": "",
     "delete_cmd_prefix": "del ",
     "library": "var_list.py",
     "varRefreshCmd": "print(var_dic_list())"
    },
    "r": {
     "delete_cmd_postfix": ") ",
     "delete_cmd_prefix": "rm(",
     "library": "var_list.r",
     "varRefreshCmd": "cat(var_dic_list()) "
    }
   },
   "types_to_exclude": [
    "module",
    "function",
    "builtin_function_or_method",
    "instance",
    "_Feature"
   ],
   "window_display": false
  }
 },
 "nbformat": 4,
 "nbformat_minor": 2
}
