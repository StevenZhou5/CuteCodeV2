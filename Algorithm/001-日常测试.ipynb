{
 "cells": [
  {
   "cell_type": "code",
   "execution_count": 1,
   "metadata": {
    "ExecuteTime": {
     "end_time": "2020-12-21T15:10:46.354825Z",
     "start_time": "2020-12-21T15:10:45.777846Z"
    }
   },
   "outputs": [],
   "source": [
    "import numpy as np\n",
    "from collections import Counter\n",
    "import pandas as pd"
   ]
  },
  {
   "cell_type": "code",
   "execution_count": 43,
   "metadata": {
    "ExecuteTime": {
     "end_time": "2021-11-11T09:34:45.916115Z",
     "start_time": "2021-11-11T09:34:45.912332Z"
    }
   },
   "outputs": [
    {
     "data": {
      "text/plain": [
       "{'a': 4}"
      ]
     },
     "execution_count": 43,
     "metadata": {},
     "output_type": "execute_result"
    }
   ],
   "source": [
    "a = {}\n",
    "a['a'] = 4\n",
    "a"
   ]
  },
  {
   "cell_type": "code",
   "execution_count": 44,
   "metadata": {
    "ExecuteTime": {
     "end_time": "2021-11-11T09:35:40.890465Z",
     "start_time": "2021-11-11T09:35:40.886238Z"
    }
   },
   "outputs": [
    {
     "data": {
      "text/plain": [
       "{}"
      ]
     },
     "execution_count": 44,
     "metadata": {},
     "output_type": "execute_result"
    }
   ],
   "source": [
    "a.pop('a')\n",
    "a"
   ]
  },
  {
   "cell_type": "code",
   "execution_count": 18,
   "metadata": {
    "ExecuteTime": {
     "end_time": "2021-08-23T14:11:23.754582Z",
     "start_time": "2021-08-23T14:11:23.747518Z"
    }
   },
   "outputs": [
    {
     "data": {
      "text/plain": [
       "[1, 4]"
      ]
     },
     "execution_count": 18,
     "metadata": {},
     "output_type": "execute_result"
    }
   ],
   "source": [
    "class Solution:\n",
    "    def twoSum(self, nums, target):\n",
    "        num_to_idx = {}\n",
    "        for idx,num in enumerate(nums):\n",
    "            num_to_idx[num] = idx\n",
    "        \n",
    "        for idx,num in enumerate(nums):\n",
    "            s_tar = target-num\n",
    "            if num_to_idx.get(s_tar,None):\n",
    "                return [idx,num_to_idx[s_tar]]\n",
    "        return None\n",
    "S = Solution()\n",
    "S.twoSum([1,5,60,7,5],10)"
   ]
  },
  {
   "cell_type": "code",
   "execution_count": null,
   "metadata": {},
   "outputs": [],
   "source": [
    "from collections import defaultdict"
   ]
  },
  {
   "cell_type": "code",
   "execution_count": 13,
   "metadata": {},
   "outputs": [
    {
     "name": "stdout",
     "output_type": "stream",
     "text": [
      "deque([1, 2, 3])\n",
      "None\n"
     ]
    },
    {
     "data": {
      "text/plain": [
       "deque([1, 2, 3, 4, 5])"
      ]
     },
     "execution_count": 13,
     "metadata": {},
     "output_type": "execute_result"
    }
   ],
   "source": [
    "from collections import deque\n",
    "l = deque([1,2,3])\n",
    "print(l)\n",
    "l.extend([4,5])\n",
    "\n",
    "print()\n",
    "l"
   ]
  },
  {
   "cell_type": "code",
   "execution_count": 17,
   "metadata": {},
   "outputs": [
    {
     "data": {
      "text/plain": [
       "[0, 0, 0, 0, 0, 1, 0, 0, 0, 0, 0, 0, 0, 0, 0, 0, 0, 0, 0, 0, 0, 0, 0, 0, 0, 0]"
      ]
     },
     "execution_count": 17,
     "metadata": {},
     "output_type": "execute_result"
    }
   ],
   "source": [
    "[0 if i != 5 else 1 for i in range(26)]"
   ]
  },
  {
   "cell_type": "code",
   "execution_count": 18,
   "metadata": {},
   "outputs": [
    {
     "data": {
      "text/plain": [
       "[0, 0, 0, 0, 0, 1, 0, 0, 0, 0, 0, 0, 1, 0]"
      ]
     },
     "execution_count": 18,
     "metadata": {},
     "output_type": "execute_result"
    }
   ],
   "source": [
    "[0, 0, 0, 0, 0, 1, 0] + [0, 0, 0, 0, 0, 1, 0]"
   ]
  },
  {
   "cell_type": "code",
   "execution_count": 1,
   "metadata": {},
   "outputs": [
    {
     "data": {
      "text/plain": [
       "False"
      ]
     },
     "execution_count": 1,
     "metadata": {},
     "output_type": "execute_result"
    }
   ],
   "source": [
    "dic = {}\n",
    "1 in dic"
   ]
  },
  {
   "cell_type": "code",
   "execution_count": 21,
   "metadata": {},
   "outputs": [
    {
     "name": "stdout",
     "output_type": "stream",
     "text": [
      "8 []\n",
      "[]\n",
      "7 [8]\n",
      "[8]\n",
      "9 [8, 7]\n",
      "xx 9 [8, 7]\n",
      "xx 9 [8]\n",
      "[]\n"
     ]
    },
    {
     "data": {
      "text/plain": [
       "[9]"
      ]
     },
     "execution_count": 21,
     "metadata": {},
     "output_type": "execute_result"
    }
   ],
   "source": [
    "def get_max_nums(nums,n):\n",
    "            if not n :\n",
    "                return []\n",
    "            if len(nums) <= n:\n",
    "                return nums\n",
    "            res = []\n",
    "            max_remove_count = len(nums) - n\n",
    "            for num in nums:\n",
    "                print(num,res)\n",
    "                while max_remove_count > 0 and res and num > res[-1]:\n",
    "                    print(\"xx\",num,res)\n",
    "                    res.pop()\n",
    "                    max_remove_count -=1\n",
    "                print(res)\n",
    "                res.append(num)\n",
    "            return res[:n]\n",
    "get_max_nums([8,7,9],1)"
   ]
  },
  {
   "cell_type": "code",
   "execution_count": 23,
   "metadata": {},
   "outputs": [
    {
     "name": "stdout",
     "output_type": "stream",
     "text": [
      "[[7, 7, 12], [13, 11, 6], [8, 13, 13]]\n",
      "[[[7], [7], [5, 7]], [[2, 4, 7], [4, 7], [6]], [[8], [2, 4, 7], [0, 2, 4, 7]]]\n"
     ]
    },
    {
     "data": {
      "text/plain": [
       "[2, 4, 7]"
      ]
     },
     "execution_count": 23,
     "metadata": {},
     "output_type": "execute_result"
    }
   ],
   "source": [
    "# 值最大值的递增路径\n",
    "def longestIncreasingPath(matrix):\n",
    "        rows = len(matrix)\n",
    "        columns = len(matrix[0])\n",
    "#         print(rows)\n",
    "#         print(columns)\n",
    "        max_val_matrix = [[matrix[i][j] for j in range(columns)] for i in range(rows) ]\n",
    "        max_path_matrix = [[[matrix[i][j]] for j in range(columns)] for i in range(rows) ]\n",
    "#         print(max_val_matrix)\n",
    "#         print(max_path_matrix)\n",
    "        max_sum_val = 0\n",
    "        ans_path = []\n",
    "        passed = []\n",
    "        def reset_longest_path(row_idx,columns_idx):\n",
    "            if (row_idx,columns_idx) in passed:\n",
    "                return\n",
    "            cur_val = matrix[row_idx][columns_idx]\n",
    "            max_val = 0\n",
    "            max_path = []\n",
    "            # 上\n",
    "            if (row_idx-1) >= 0 and matrix[row_idx-1][columns_idx]>cur_val:\n",
    "                reset_longest_path(row_idx-1,columns_idx)\n",
    "                new_val = max_val_matrix[row_idx-1][columns_idx]\n",
    "                if new_val > max_val:\n",
    "                    max_val = new_val\n",
    "                    max_path = max_path_matrix[row_idx-1][columns_idx]\n",
    "                \n",
    "            # 下\n",
    "            if (row_idx+1) < rows and matrix[row_idx+1][columns_idx]>cur_val:\n",
    "                reset_longest_path(row_idx+1,columns_idx)\n",
    "                new_val = max_val_matrix[row_idx+1][columns_idx]\n",
    "                if new_val > max_val:\n",
    "                    max_val = new_val\n",
    "                    max_path = max_path_matrix[row_idx+1][columns_idx]\n",
    "\n",
    "            # 左\n",
    "            if (columns_idx-1) >= 0 and matrix[row_idx][columns_idx-1]>cur_val:\n",
    "                reset_longest_path(row_idx,columns_idx-1)\n",
    "                new_val = max_val_matrix[row_idx][columns_idx-1]\n",
    "                if new_val > max_val:\n",
    "                    max_val = new_val\n",
    "                    max_path = max_path_matrix[row_idx][columns_idx-1]\n",
    "\n",
    "            # 右\n",
    "            if (columns_idx+1) < columns and matrix[row_idx][columns_idx+1]>cur_val:\n",
    "                reset_longest_path(row_idx,columns_idx+1)\n",
    "                new_val = max_val_matrix[row_idx][columns_idx+1]\n",
    "                if new_val > max_val:\n",
    "                    max_val = new_val\n",
    "                    max_path = max_path_matrix[row_idx][columns_idx+1]\n",
    "            \n",
    "            max_val_matrix[row_idx][columns_idx] += max_val\n",
    "            max_path_matrix[row_idx][columns_idx].extend(max_path)\n",
    "            passed.append((row_idx,columns_idx))\n",
    "            \n",
    "            \n",
    "        \n",
    "        for i in range(rows):\n",
    "            for j in range(columns):\n",
    "                if (i,j) not in passed:\n",
    "                    reset_longest_path(i,j)\n",
    "                if max_val_matrix[i][j] > max_sum_val:\n",
    "                    max_sum_val = max_val_matrix[i][j]\n",
    "                    ans_path = max_path_matrix[i][j]\n",
    "        print(max_val_matrix)\n",
    "        print(max_path_matrix)\n",
    "        return ans_path\n",
    "        \n",
    "# longestIncreasingPath([\n",
    "#   [9,9,4],\n",
    "#   [6,6,8],\n",
    "#   [2,1,1]\n",
    "# ] )\n",
    "longestIncreasingPath([[7,7,5],[2,4,6],[8,2,0]])\n"
   ]
  },
  {
   "cell_type": "code",
   "execution_count": 29,
   "metadata": {},
   "outputs": [
    {
     "name": "stdout",
     "output_type": "stream",
     "text": [
      "[[1, 1, 2], [3, 2, 1], [1, 3, 4]]\n"
     ]
    },
    {
     "data": {
      "text/plain": [
       "4"
      ]
     },
     "execution_count": 29,
     "metadata": {},
     "output_type": "execute_result"
    }
   ],
   "source": [
    "# 路径最长的递增路径\n",
    "def longestIncreasingPath(matrix):\n",
    "        rows = len(matrix)\n",
    "        columns = len(matrix[0])\n",
    "        max_path_len_matrix = [[1 for j in range(columns)] for i in range(rows) ]\n",
    "        passed = []\n",
    "        def reset_longest_path(row_idx,columns_idx):\n",
    "            if (row_idx,columns_idx) in passed:\n",
    "                return\n",
    "            cur_val = matrix[row_idx][columns_idx]\n",
    "            max_len = 0\n",
    "            max_path = []\n",
    "            # 上\n",
    "            if (row_idx-1) >= 0 and matrix[row_idx-1][columns_idx]>cur_val:\n",
    "                reset_longest_path(row_idx-1,columns_idx)\n",
    "                cur_path_len = max_path_len_matrix[row_idx-1][columns_idx]\n",
    "                if cur_path_len > max_len:\n",
    "                    max_len = cur_path_len\n",
    "                \n",
    "            # 下\n",
    "            if (row_idx+1) < rows and matrix[row_idx+1][columns_idx]>cur_val:\n",
    "                reset_longest_path(row_idx+1,columns_idx)\n",
    "                cur_path_len = max_path_len_matrix[row_idx+1][columns_idx]\n",
    "                if cur_path_len > max_len:\n",
    "                    max_len = cur_path_len\n",
    "\n",
    "            # 左\n",
    "            if (columns_idx-1) >= 0 and matrix[row_idx][columns_idx-1]>cur_val:\n",
    "                reset_longest_path(row_idx,columns_idx-1)\n",
    "                cur_path_len = max_path_len_matrix[row_idx][columns_idx-1]\n",
    "                if cur_path_len > max_len:\n",
    "                    max_len = cur_path_len\n",
    "\n",
    "            # 右\n",
    "            if (columns_idx+1) < columns and matrix[row_idx][columns_idx+1]>cur_val:\n",
    "                reset_longest_path(row_idx,columns_idx+1)\n",
    "                cur_path_len = max_path_len_matrix[row_idx][columns_idx+1]\n",
    "                if cur_path_len > max_len:\n",
    "                    max_len = cur_path_len\n",
    "            \n",
    "            max_path_len_matrix[row_idx][columns_idx]+=max_len\n",
    "            passed.append((row_idx,columns_idx))\n",
    "            \n",
    "            \n",
    "        ans = 0\n",
    "        for i in range(rows):\n",
    "            for j in range(columns):\n",
    "                if (i,j) not in passed:\n",
    "                    reset_longest_path(i,j)\n",
    "                if max_path_len_matrix[i][j] > ans:\n",
    "                    ans = max_path_len_matrix[i][j]\n",
    "        print(max_path_len_matrix)\n",
    "        return ans\n",
    "longestIncreasingPath([[7,7,5],[2,4,6],[8,2,0]])"
   ]
  },
  {
   "cell_type": "code",
   "execution_count": 35,
   "metadata": {},
   "outputs": [
    {
     "name": "stdout",
     "output_type": "stream",
     "text": [
      "13230\n"
     ]
    }
   ],
   "source": [
    "A = [[0,0],\n",
    "     [0,0],\n",
    "     [0,0]]\n",
    "rows = len(A)\n",
    "columns = len(A[0])\n",
    "count = 0\n",
    "positions = [(0,0),(0,1),(1,0),(1,1),(2,0),(2,1)]\n",
    "position_count = len(positions)\n",
    "def cover_current_area(position):\n",
    "    i,j = positions[position]\n",
    "    global count \n",
    "    vals = [1,2,3,4,5,6]\n",
    "    if i-1 >= 0 and A[i-1][j] in vals:\n",
    "        vals.remove(A[i-1][j])\n",
    "    if i+1 < rows and A[i+1][j] in vals:\n",
    "        vals.remove(A[i+1][j])\n",
    "    if j-1 >= 0 and A[i][j-1] in vals:\n",
    "        vals.remove(A[i][j-1])\n",
    "    if j+1 < columns and A[i][j+1] in vals:\n",
    "        vals.remove(A[i][j+1])\n",
    "    for val in vals:\n",
    "        A[i][j] = val\n",
    "        if position == position_count-1:\n",
    "            count +=1\n",
    "#             print(count)\n",
    "            A[i][j] = 0\n",
    "            continue\n",
    "        cover_current_area(position+1)\n",
    "        A[i][j] = 0\n",
    "        \n",
    "cover_current_area(0)\n",
    "    \n",
    "# for v00 in [1,2,3,4,5,6]:\n",
    "#     A = [[0,0],\n",
    "#          [0,0],\n",
    "#          [0,0]]\n",
    "    \n",
    "#     A[0][0] = v00\n",
    "#     vals2 = [1,2,3,4,5,6]\n",
    "#     vals2.remove(A[0][0])\n",
    "#     for v01 in vals2:\n",
    "#         A[0][1] = v01\n",
    "#         vals3 = [1,2,3,4,5,6]\n",
    "#         vals3.remove(A[0][0])\n",
    "#         for v10 in vals3:\n",
    "#             A[1][0] = v10\n",
    "#             vals4 = [1,2,3,4,5,6]\n",
    "#             if A[0][1] == A[1][0]:\n",
    "#                 vals4.remove(A[0][1])\n",
    "#             else:\n",
    "#                 vals4.remove(A[0][1])\n",
    "#                 vals4.remove(A[1][0])\n",
    "#             for v11 in vals4:\n",
    "#                 A[1][1] = v11\n",
    "#                 vals5 = [1,2,3,4,5,6]\n",
    "#                 vals5.remove(A[1][0])\n",
    "#                 for v21 in vals5:\n",
    "#                     A[2][0] = v21\n",
    "#                     vals6 = [1,2,3,4,5,6]\n",
    "#                     if A[1][1] == A[2][0]:\n",
    "#                         vals6.remove(A[1][1])\n",
    "#                     else:\n",
    "#                         vals6.remove(A[1][1])\n",
    "#                         vals6.remove(A[2][0])\n",
    "#                     for v22 in vals6:\n",
    "#                         A[2][1] = v22\n",
    "#                         if count < 10:\n",
    "#                             print(A)\n",
    "#                         count += 1\n",
    "            \n",
    "print(count)"
   ]
  },
  {
   "cell_type": "code",
   "execution_count": 1,
   "metadata": {},
   "outputs": [
    {
     "data": {
      "text/plain": [
       "[3]"
      ]
     },
     "execution_count": 1,
     "metadata": {},
     "output_type": "execute_result"
    }
   ],
   "source": [
    "a = [3,5]\n",
    "a.remove(5)\n",
    "a"
   ]
  },
  {
   "cell_type": "code",
   "execution_count": 28,
   "metadata": {},
   "outputs": [],
   "source": [
    "count = 0"
   ]
  },
  {
   "cell_type": "code",
   "execution_count": 43,
   "metadata": {},
   "outputs": [
    {
     "name": "stdout",
     "output_type": "stream",
     "text": [
      "[(1, 2), (2, 3), (3, 4)]\n",
      "[(1, 5), (2, 6), (3, 7)]\n",
      "[(1, 2, 3), (2, 3, 4)]\n"
     ]
    }
   ],
   "source": [
    "a = [1,2,3]\n",
    "b = [2,3,4]\n",
    "c = [5,6,7,8]\n",
    "zipped = list(zip(a,b))\n",
    "print(zipped)\n",
    "print(list(zip(a,c))) # 当长度不一会的时候以短的为主\n",
    "print(list(zip(*zipped)))"
   ]
  },
  {
   "cell_type": "code",
   "execution_count": 5,
   "metadata": {},
   "outputs": [
    {
     "name": "stdout",
     "output_type": "stream",
     "text": [
      "0.0031999999999999806 0.0034162485320806883\n",
      "0.0013000000000000789 0.0014164305949009358\n",
      "0.0027000000000000357 0.0037411666897603376\n"
     ]
    }
   ],
   "source": [
    "base = [0.9367,0.9178,0.7217]\n",
    "real = [0.9399,0.9191,0.7244]\n",
    "for i in range(3):\n",
    "    d1 = real[i] - base[i]\n",
    "    d1_rate = d1 / base[i]\n",
    "    print(d1,d1_rate)"
   ]
  },
  {
   "cell_type": "code",
   "execution_count": 1,
   "metadata": {},
   "outputs": [
    {
     "data": {
      "text/plain": [
       "2422"
      ]
     },
     "execution_count": 1,
     "metadata": {},
     "output_type": "execute_result"
    }
   ],
   "source": [
    "1600771438 - 1600769016"
   ]
  },
  {
   "cell_type": "code",
   "execution_count": 2,
   "metadata": {},
   "outputs": [
    {
     "data": {
      "text/plain": [
       "(40, 22)"
      ]
     },
     "execution_count": 2,
     "metadata": {},
     "output_type": "execute_result"
    }
   ],
   "source": [
    "divmod(2422,60)"
   ]
  },
  {
   "cell_type": "code",
   "execution_count": null,
   "metadata": {},
   "outputs": [],
   "source": []
  },
  {
   "cell_type": "code",
   "execution_count": 39,
   "metadata": {},
   "outputs": [
    {
     "data": {
      "text/plain": [
       "True"
      ]
     },
     "execution_count": 39,
     "metadata": {},
     "output_type": "execute_result"
    }
   ],
   "source": [
    "a_list.next == c"
   ]
  },
  {
   "cell_type": "code",
   "execution_count": 42,
   "metadata": {},
   "outputs": [],
   "source": [
    "def print_list(node):\n",
    "    cur = node\n",
    "    print(cur.val)\n",
    "    while cur.next:\n",
    "        cur = cur.next\n",
    "        print(cur.val)"
   ]
  },
  {
   "cell_type": "code",
   "execution_count": 43,
   "metadata": {},
   "outputs": [
    {
     "name": "stdout",
     "output_type": "stream",
     "text": [
      "1\n",
      "3\n",
      "4\n"
     ]
    }
   ],
   "source": [
    "print_list(a_list)"
   ]
  },
  {
   "cell_type": "code",
   "execution_count": 44,
   "metadata": {},
   "outputs": [
    {
     "name": "stdout",
     "output_type": "stream",
     "text": [
      "2\n",
      "3\n",
      "4\n"
     ]
    }
   ],
   "source": [
    "print_list(b_list)"
   ]
  },
  {
   "cell_type": "code",
   "execution_count": 45,
   "metadata": {},
   "outputs": [
    {
     "data": {
      "text/plain": [
       "True"
      ]
     },
     "execution_count": 45,
     "metadata": {},
     "output_type": "execute_result"
    }
   ],
   "source": [
    "e == c"
   ]
  },
  {
   "cell_type": "code",
   "execution_count": 46,
   "metadata": {},
   "outputs": [
    {
     "data": {
      "text/plain": [
       "True"
      ]
     },
     "execution_count": 46,
     "metadata": {},
     "output_type": "execute_result"
    }
   ],
   "source": [
    "e == f"
   ]
  },
  {
   "cell_type": "code",
   "execution_count": 47,
   "metadata": {},
   "outputs": [
    {
     "data": {
      "text/plain": [
       "True"
      ]
     },
     "execution_count": 47,
     "metadata": {},
     "output_type": "execute_result"
    }
   ],
   "source": [
    "f == c"
   ]
  },
  {
   "cell_type": "code",
   "execution_count": 4,
   "metadata": {},
   "outputs": [
    {
     "data": {
      "text/plain": [
       "[1]"
      ]
     },
     "execution_count": 4,
     "metadata": {},
     "output_type": "execute_result"
    }
   ],
   "source": [
    "[1,2,3][0:1]"
   ]
  },
  {
   "cell_type": "code",
   "execution_count": 4,
   "metadata": {},
   "outputs": [
    {
     "data": {
      "text/plain": [
       "[0, 0, 1, 1, 1]"
      ]
     },
     "execution_count": 4,
     "metadata": {},
     "output_type": "execute_result"
    }
   ],
   "source": [
    "a = [0,0,0,1,1,1]\n",
    "a.remove(0)\n",
    "a"
   ]
  },
  {
   "cell_type": "code",
   "execution_count": 5,
   "metadata": {},
   "outputs": [
    {
     "data": {
      "text/plain": [
       "[0, 0, 1, 1]"
      ]
     },
     "execution_count": 5,
     "metadata": {},
     "output_type": "execute_result"
    }
   ],
   "source": [
    "a.remove(1)\n",
    "a"
   ]
  },
  {
   "cell_type": "code",
   "execution_count": 7,
   "metadata": {},
   "outputs": [
    {
     "data": {
      "text/plain": [
       "4"
      ]
     },
     "execution_count": 7,
     "metadata": {},
     "output_type": "execute_result"
    }
   ],
   "source": [
    "import random\n",
    "random.randint(0,10)"
   ]
  },
  {
   "cell_type": "code",
   "execution_count": 9,
   "metadata": {},
   "outputs": [
    {
     "data": {
      "text/plain": [
       "2"
      ]
     },
     "execution_count": 9,
     "metadata": {},
     "output_type": "execute_result"
    }
   ],
   "source": [
    "random.randint(0,10)"
   ]
  },
  {
   "cell_type": "code",
   "execution_count": 12,
   "metadata": {},
   "outputs": [
    {
     "data": {
      "text/plain": [
       "9"
      ]
     },
     "execution_count": 12,
     "metadata": {},
     "output_type": "execute_result"
    }
   ],
   "source": [
    "random.choice([1, 2, 3, 4, 5, 6, 7, 8, 9, 0]) "
   ]
  },
  {
   "cell_type": "code",
   "execution_count": 14,
   "metadata": {},
   "outputs": [
    {
     "data": {
      "text/plain": [
       "True"
      ]
     },
     "execution_count": 14,
     "metadata": {},
     "output_type": "execute_result"
    }
   ],
   "source": [
    "not None"
   ]
  },
  {
   "cell_type": "code",
   "execution_count": 1,
   "metadata": {},
   "outputs": [],
   "source": [
    "a = {1:5,2:6}"
   ]
  },
  {
   "cell_type": "code",
   "execution_count": 4,
   "metadata": {},
   "outputs": [
    {
     "name": "stdout",
     "output_type": "stream",
     "text": [
      "5\n",
      "6\n"
     ]
    }
   ],
   "source": [
    "for v in a.values():\n",
    "    print(v)"
   ]
  },
  {
   "cell_type": "code",
   "execution_count": 11,
   "metadata": {},
   "outputs": [
    {
     "name": "stdout",
     "output_type": "stream",
     "text": [
      "8\n"
     ]
    }
   ],
   "source": [
    "g = 8 \n",
    "def test():\n",
    "    global g \n",
    "    g = max(3,g)\n",
    "    print(g)\n",
    "test()"
   ]
  },
  {
   "cell_type": "code",
   "execution_count": 12,
   "metadata": {},
   "outputs": [],
   "source": [
    "a = [1, 2, 3, 4, 5, 6, 7, 8, 9, 0]\n",
    "a.clear()"
   ]
  },
  {
   "cell_type": "code",
   "execution_count": 13,
   "metadata": {},
   "outputs": [
    {
     "data": {
      "text/plain": [
       "[]"
      ]
     },
     "execution_count": 13,
     "metadata": {},
     "output_type": "execute_result"
    }
   ],
   "source": [
    "a"
   ]
  },
  {
   "cell_type": "code",
   "execution_count": 9,
   "metadata": {},
   "outputs": [
    {
     "name": "stdout",
     "output_type": "stream",
     "text": [
      "346\n",
      "654\n"
     ]
    }
   ],
   "source": [
    "import random\n",
    "random.randint(0,2)\n",
    "\n",
    "time = 1000\n",
    "win100_count = 0\n",
    "win101_count = 0\n",
    "while time > 0:\n",
    "    time -= 1 \n",
    "    win100 = False\n",
    "    win101 = False\n",
    "    res_list = [random.randint(0,2) for _ in range(3)]\n",
    "    while not win100 and not win101:\n",
    "        if res_list[-3] == 1 and res_list[-2] == 0:\n",
    "            if res_list[-1] == 0:\n",
    "                win100 = True\n",
    "                win100_count += 1\n",
    "            else:\n",
    "                win101 = True\n",
    "                win101_count += 1\n",
    "        else:\n",
    "            res_list.append(random.randint(0,2))\n",
    "print(win100_count)\n",
    "print(win101_count)"
   ]
  },
  {
   "cell_type": "code",
   "execution_count": 2,
   "metadata": {},
   "outputs": [
    {
     "name": "stdout",
     "output_type": "stream",
     "text": [
      "(1, 4) (2, 5) (3, 6)\n"
     ]
    }
   ],
   "source": [
    "print(*zip([1,2,3],[4,5,6]))"
   ]
  },
  {
   "cell_type": "code",
   "execution_count": 5,
   "metadata": {},
   "outputs": [
    {
     "data": {
      "text/plain": [
       "[(1, 2, 3), (4, 5, 6)]"
      ]
     },
     "execution_count": 5,
     "metadata": {},
     "output_type": "execute_result"
    }
   ],
   "source": [
    "list(zip((1, 4),(2, 5),(3, 6)))"
   ]
  },
  {
   "cell_type": "code",
   "execution_count": 11,
   "metadata": {},
   "outputs": [
    {
     "name": "stdout",
     "output_type": "stream",
     "text": [
      "小明 16\n",
      "小明 16\n",
      "age name\n"
     ]
    }
   ],
   "source": [
    "def print_info(name,age):\n",
    "    print(name,age)\n",
    "print_info(\"小明\",16)\n",
    "print_info(*[\"小明\",16])\n",
    "print_info(*{\"age\":16,\"name\":\"小明\"})"
   ]
  },
  {
   "cell_type": "code",
   "execution_count": 5,
   "metadata": {
    "ExecuteTime": {
     "end_time": "2020-12-17T03:49:12.760193Z",
     "start_time": "2020-12-17T03:49:12.756119Z"
    }
   },
   "outputs": [
    {
     "data": {
      "text/plain": [
       "[0, 1, 2, 3, 4]"
      ]
     },
     "execution_count": 5,
     "metadata": {},
     "output_type": "execute_result"
    }
   ],
   "source": [
    "a[:][0]"
   ]
  },
  {
   "cell_type": "code",
   "execution_count": 2,
   "metadata": {
    "ExecuteTime": {
     "end_time": "2020-12-18T15:52:19.605033Z",
     "start_time": "2020-12-18T15:52:19.600661Z"
    }
   },
   "outputs": [
    {
     "data": {
      "text/plain": [
       "1.628894626777442"
      ]
     },
     "execution_count": 2,
     "metadata": {},
     "output_type": "execute_result"
    }
   ],
   "source": [
    "1.05 ** 10"
   ]
  },
  {
   "cell_type": "code",
   "execution_count": 2,
   "metadata": {
    "ExecuteTime": {
     "end_time": "2021-08-31T12:07:30.919084Z",
     "start_time": "2021-08-31T12:07:30.914961Z"
    }
   },
   "outputs": [],
   "source": [
    "class ListNode:\n",
    "    def __init__(self,val=0,nxt=None):\n",
    "        self.val = val\n",
    "        self.next = nxt\n",
    "        \n",
    "    def set_val(self,val):\n",
    "        self.val = val\n",
    "        \n",
    "    def set_next(self,nxt):\n",
    "        self.next = nxt"
   ]
  },
  {
   "cell_type": "code",
   "execution_count": 7,
   "metadata": {
    "ExecuteTime": {
     "end_time": "2021-08-31T12:10:08.433027Z",
     "start_time": "2021-08-31T12:10:08.429295Z"
    }
   },
   "outputs": [],
   "source": [
    "list_node1 = ListNode(5)\n",
    "list_node1.next = ListNode(3)\n",
    "list_node1.next.next = ListNode(2)\n",
    "list_node2 = ListNode(3)\n",
    "list_node2.next = ListNode(9)"
   ]
  },
  {
   "cell_type": "code",
   "execution_count": 34,
   "metadata": {
    "ExecuteTime": {
     "end_time": "2021-09-01T02:18:04.628920Z",
     "start_time": "2021-09-01T02:18:04.615501Z"
    }
   },
   "outputs": [
    {
     "name": "stdout",
     "output_type": "stream",
     "text": [
      "8\n",
      "2\n",
      "3\n",
      "=== 8\n",
      "=== 2\n",
      "=== 3\n",
      "**** 3\n",
      "**** 2\n",
      "**** 8\n"
     ]
    }
   ],
   "source": [
    "cur_node1 = list_node1\n",
    "cur_node2 = list_node2\n",
    "next_pre = 0\n",
    "count = 0\n",
    "res_head = None\n",
    "res_list = None\n",
    "while cur_node1 or cur_node2 or next_pre:\n",
    "    sum_val = (cur_node1.val if cur_node1 else 0) + (cur_node2.val if cur_node2 else 0) + next_pre\n",
    "    next_pre,res=divmod(sum_val,10)\n",
    "    print(res)\n",
    "    if not res_list:\n",
    "        res_list = ListNode(res)\n",
    "        res_head = res_list\n",
    "    else:\n",
    "        res_list.next = ListNode(res)\n",
    "        res_list = res_list.next\n",
    "    cur_node1,cur_node2 = cur_node1.next if cur_node1 else None, cur_node2.next if cur_node2 else None\n",
    "    count += 1\n",
    "\n",
    "cur_res_node = res_head\n",
    "while cur_res_node:\n",
    "    print(\"===\",cur_res_node.val)\n",
    "    cur_res_node = cur_res_node.next\n",
    "\n",
    "pre = None\n",
    "cur = res_head\n",
    "while cur:\n",
    "    tmp = cur.next\n",
    "    cur.next = pre\n",
    "    pre = cur\n",
    "    cur = tmp\n",
    "\n",
    "final_res_node = pre\n",
    "while final_res_node:\n",
    "    print(\"****\",final_res_node.val)\n",
    "    final_res_node = final_res_node.next"
   ]
  },
  {
   "cell_type": "code",
   "execution_count": 6,
   "metadata": {
    "ExecuteTime": {
     "end_time": "2021-09-01T12:02:33.187999Z",
     "start_time": "2021-09-01T12:02:33.181730Z"
    }
   },
   "outputs": [
    {
     "name": "stdout",
     "output_type": "stream",
     "text": [
      "PIN\n",
      "ALSIG\n",
      "YAHR\n",
      "PI\n"
     ]
    }
   ],
   "source": [
    "# P A H N\n",
    "# APLSIIG\n",
    "# Y I R\n",
    "def z_trans(s,numRows):\n",
    "    sub_dict = {}\n",
    "    for i in range(numRows):\n",
    "        sub_dict[i] = \"\"\n",
    "    cur_step = 1\n",
    "    cur_idx = 0\n",
    "    max_idx = numRows -1\n",
    "    for i in range(len(s)):\n",
    "        sub_dict[cur_idx] += s[i]\n",
    "        cur_idx += cur_step\n",
    "        if cur_idx == max_idx:\n",
    "            cur_step = - 1\n",
    "        if cur_idx == 0:\n",
    "            cur_step = 1\n",
    "    for i in range(numRows):\n",
    "        print(sub_dict[i])\n",
    "z_trans(\"PAYPALISHIRING\",4)"
   ]
  },
  {
   "cell_type": "code",
   "execution_count": 31,
   "metadata": {
    "ExecuteTime": {
     "end_time": "2021-09-01T12:35:45.807147Z",
     "start_time": "2021-09-01T12:35:45.798476Z"
    }
   },
   "outputs": [
    {
     "name": "stdout",
     "output_type": "stream",
     "text": [
      "-55\n"
     ]
    },
    {
     "data": {
      "text/plain": [
       "-55"
      ]
     },
     "execution_count": 31,
     "metadata": {},
     "output_type": "execute_result"
    }
   ],
   "source": [
    "def myAtoi(s):\n",
    "    pos_or_neg = 1\n",
    "    num = 0\n",
    "    for char in s:\n",
    "        if char.isdigit(): \n",
    "            num = num * 10 + int(char)\n",
    "        else:\n",
    "            if num != 0:\n",
    "                break\n",
    "            if char == ' ' and pos_or_neg == 1:\n",
    "                continue\n",
    "            if char == '-':\n",
    "                pos_or_neg = -1\n",
    "            else:\n",
    "                break\n",
    "    max_num = 2 ** 31 - 1\n",
    "    min_num = -(2**31)\n",
    "    num = pos_or_neg * num\n",
    "    print(num)\n",
    "    if num < min_num :\n",
    "        return min_num\n",
    "    elif num > max_num:\n",
    "        return max_num\n",
    "    else:\n",
    "        return num\n",
    "myAtoi(\"   -00055 ss 33\")"
   ]
  },
  {
   "cell_type": "code",
   "execution_count": 50,
   "metadata": {
    "ExecuteTime": {
     "end_time": "2021-09-01T13:20:25.630866Z",
     "start_time": "2021-09-01T13:20:25.620695Z"
    }
   },
   "outputs": [
    {
     "name": "stdout",
     "output_type": "stream",
     "text": [
      "[1, 8, 8, 8, 8, 8, 8, 8, 8]\n",
      "[8, 8, 8, 8, 8, 8, 8, 7, 7]\n"
     ]
    },
    {
     "data": {
      "text/plain": [
       "19"
      ]
     },
     "execution_count": 50,
     "metadata": {},
     "output_type": "execute_result"
    }
   ],
   "source": [
    "# 接雨水问题\n",
    "# [1,8,6,2,5,4,8,3,7] : 49\n",
    "# [4,3,2,1,4] : 16\n",
    "def maxAreaHard(nums):\n",
    "    l2r = [0]\n",
    "    r2l = [0]\n",
    "    for i in range(len(nums)):\n",
    "        l2r.append(max(l2r[-1],nums[i]))\n",
    "    for i in range(len(nums)-1,-1,-1):\n",
    "        r2l.insert(0,max(r2l[0],nums[i]))\n",
    "    l2r.pop(0)\n",
    "    r2l.pop(-1)\n",
    "    print(l2r)\n",
    "    print(r2l)\n",
    "    all_area = 0\n",
    "    for i in range(len(nums)):\n",
    "        all_area += min(l2r[i],r2l[i]) - nums[i]\n",
    "    return all_area\n",
    "maxAreaHard([1,8,6,2,5,4,8,3,7])"
   ]
  },
  {
   "cell_type": "code",
   "execution_count": 53,
   "metadata": {
    "ExecuteTime": {
     "end_time": "2021-09-01T13:22:07.169222Z",
     "start_time": "2021-09-01T13:22:07.161384Z"
    }
   },
   "outputs": [
    {
     "name": "stdout",
     "output_type": "stream",
     "text": [
      "16\n",
      "12\n",
      "6\n",
      "2\n"
     ]
    },
    {
     "data": {
      "text/plain": [
       "16"
      ]
     },
     "execution_count": 53,
     "metadata": {},
     "output_type": "execute_result"
    }
   ],
   "source": [
    "# 最大储水量，贪心o(1)时间复杂度\n",
    "# [1,8,6,2,5,4,8,3,7] : 49\n",
    "# [4,3,2,1,4] : 16\n",
    "# 左右同时移动，谁小谁移动\n",
    "def maxAreaMedium(nums):\n",
    "    curArea = 0\n",
    "    left_idx = 0\n",
    "    right_idx = len(nums) - 1\n",
    "    maxArea = curArea\n",
    "    while left_idx < right_idx:\n",
    "        curArea = (right_idx - left_idx) * min(nums[left_idx],nums[right_idx])\n",
    "        print(curArea)\n",
    "        maxArea = max(maxArea,curArea)\n",
    "        if nums[left_idx] < nums[right_idx]:\n",
    "            left_idx += 1\n",
    "        else:\n",
    "            right_idx -= 1\n",
    "    return maxArea\n",
    "maxAreaMedium([4,3,2,8,4])"
   ]
  },
  {
   "cell_type": "code",
   "execution_count": 68,
   "metadata": {
    "ExecuteTime": {
     "end_time": "2021-09-01T13:48:46.671463Z",
     "start_time": "2021-09-01T13:48:46.657568Z"
    }
   },
   "outputs": [
    {
     "data": {
      "text/plain": [
       "'XL'"
      ]
     },
     "execution_count": 68,
     "metadata": {},
     "output_type": "execute_result"
    }
   ],
   "source": [
    "# 整型转估罗马\n",
    "def int2Roman(num):\n",
    "    dict_origin = {\n",
    "            1:\"I\",\n",
    "            4:\"IV\",       \n",
    "            5:\"V\",\n",
    "            9:\"IX\",\n",
    "            10:\"X\",\n",
    "            40:\"XL\",\n",
    "            50:\"L\",\n",
    "            90:\"XC\",\n",
    "            100:\"C\",\n",
    "            400:\"CD\",\n",
    "            500:\"D\",\n",
    "            900:\"CM\",\n",
    "            1000:\"M\",\n",
    "            }\n",
    "#     if dict_origin.get(num,False):\n",
    "#         return dict_origin[num]\n",
    "    res = \"\"\n",
    "    cnt, num = divmod(num,1000)\n",
    "    res += cnt * dict_origin[1000]\n",
    "    cnt, num = divmod(num,900)\n",
    "    res += cnt * dict_origin[900]\n",
    "    cnt, num = divmod(num,500)\n",
    "    res += cnt * dict_origin[500]\n",
    "    cnt, num = divmod(num,400)\n",
    "    res += cnt * dict_origin[400]\n",
    "    cnt, num = divmod(num,100)\n",
    "    res += cnt * dict_origin[100]\n",
    "    cnt, num = divmod(num,90)\n",
    "    res += cnt * dict_origin[90]\n",
    "    cnt, num = divmod(num,50)\n",
    "    res += cnt * dict_origin[50]\n",
    "    cnt, num = divmod(num,40)\n",
    "    res += cnt * dict_origin[40]\n",
    "    cnt, num = divmod(num,10)\n",
    "    res += cnt * dict_origin[10]\n",
    "    cnt, num = divmod(num,9)\n",
    "    res += cnt * dict_origin[9]\n",
    "    cnt, num = divmod(num,5)\n",
    "    res += cnt * dict_origin[5]\n",
    "    cnt, num = divmod(num,4)\n",
    "    res += cnt * dict_origin[4]\n",
    "    res += num * dict_origin[1]\n",
    "    return res\n",
    "int2Roman(40)"
   ]
  },
  {
   "cell_type": "code",
   "execution_count": 16,
   "metadata": {
    "ExecuteTime": {
     "end_time": "2021-09-02T12:50:20.866352Z",
     "start_time": "2021-09-02T12:50:20.855754Z"
    }
   },
   "outputs": [
    {
     "data": {
      "text/plain": [
       "{(-4, 0, 4), (-4, 2, 2), (-2, -2, 4), (-2, 0, 2), (-1, -1, 2), (-1, 0, 1)}"
      ]
     },
     "execution_count": 16,
     "metadata": {},
     "output_type": "execute_result"
    }
   ],
   "source": [
    "# [-1,0,1,-1,2,4]\n",
    "def threeSum(nums):\n",
    "    nums = sorted(nums)\n",
    "    res = []\n",
    "    for i in range(len(nums)-2):\n",
    "        if nums[i] > 0:\n",
    "            break\n",
    "        for j in range(i+1,len(nums) -1):\n",
    "            if (nums[i] + nums[j]) > 0 :\n",
    "                break\n",
    "            for k in range(j+1,len(nums)):\n",
    "                if (nums[i] + nums[j] + nums[k]) == 0:\n",
    "                    res.append((nums[i],nums[j],nums[k]))\n",
    "                elif (nums[i] + nums[j] + nums[k]) > 0:\n",
    "                    break\n",
    "    return set(res)\n",
    "threeSum([-1,0,1,-1,2,4,-4,-2,2,-2])"
   ]
  },
  {
   "cell_type": "code",
   "execution_count": 1,
   "metadata": {
    "ExecuteTime": {
     "end_time": "2021-09-14T09:36:02.030534Z",
     "start_time": "2021-09-14T09:36:02.026741Z"
    }
   },
   "outputs": [],
   "source": [
    "def is_prime(n):\n",
    "    if n < 2:\n",
    "        return False\n",
    "    for i in range(2, int(n ** 0.5 + 1)):\n",
    "        if n % i == 0:\n",
    "            return False\n",
    "    return True"
   ]
  },
  {
   "cell_type": "code",
   "execution_count": 4,
   "metadata": {
    "ExecuteTime": {
     "end_time": "2021-09-14T09:37:14.052046Z",
     "start_time": "2021-09-14T09:37:14.048222Z"
    }
   },
   "outputs": [
    {
     "data": {
      "text/plain": [
       "True"
      ]
     },
     "execution_count": 4,
     "metadata": {},
     "output_type": "execute_result"
    }
   ],
   "source": [
    "is_prime(10009)"
   ]
  },
  {
   "cell_type": "code",
   "execution_count": 2,
   "metadata": {
    "ExecuteTime": {
     "end_time": "2021-09-28T12:58:46.858334Z",
     "start_time": "2021-09-28T12:58:46.827693Z"
    }
   },
   "outputs": [
    {
     "data": {
      "text/plain": [
       "TensorShape([2, 4])"
      ]
     },
     "execution_count": 2,
     "metadata": {},
     "output_type": "execute_result"
    }
   ],
   "source": [
    "from tensorflow.keras.layers import Layer\n",
    "import tensorflow as tf\n",
    "class Linear(Layer):\n",
    "    \"\"\" y = w.x + b \"\"\"\n",
    "    \n",
    "    def __init__(self, units=32):\n",
    "        super(Linear, self).__init__()\n",
    "        self.units = units\n",
    "        \n",
    "    def build(self, input_shape):\n",
    "        self.w = self.add_weight(shape=(input_shape[-1], self.units),\n",
    "                                initializer='random_normal',\n",
    "                                trainable=True)\n",
    "        self.b = self.add_weight(shape=(self.units,),\n",
    "                                initializer='random_normal',\n",
    "                                trainable=True)\n",
    "        super(Linear, self).build(input_shape)\n",
    "        \n",
    "        \n",
    "    def call(self, inputs):\n",
    "        return tf.matmul(inputs, self.w) + self.b\n",
    "    \n",
    "# Instantiate our layer\n",
    "linear_layer = Linear(4)\n",
    "\n",
    "# This will also call 'bulid(intput_shape)' and create the weights\n",
    "y = linear_layer(tf.ones((2, 2)))\n",
    "y.shape"
   ]
  }
 ],
 "metadata": {
  "kernelspec": {
   "display_name": "Python 3",
   "language": "python",
   "name": "python3"
  },
  "language_info": {
   "codemirror_mode": {
    "name": "ipython",
    "version": 3
   },
   "file_extension": ".py",
   "mimetype": "text/x-python",
   "name": "python",
   "nbconvert_exporter": "python",
   "pygments_lexer": "ipython3",
   "version": "3.7.4"
  },
  "toc": {
   "base_numbering": 1,
   "nav_menu": {},
   "number_sections": true,
   "sideBar": true,
   "skip_h1_title": false,
   "title_cell": "Table of Contents",
   "title_sidebar": "Contents",
   "toc_cell": false,
   "toc_position": {},
   "toc_section_display": true,
   "toc_window_display": false
  },
  "varInspector": {
   "cols": {
    "lenName": 16,
    "lenType": 16,
    "lenVar": 40
   },
   "kernels_config": {
    "python": {
     "delete_cmd_postfix": "",
     "delete_cmd_prefix": "del ",
     "library": "var_list.py",
     "varRefreshCmd": "print(var_dic_list())"
    },
    "r": {
     "delete_cmd_postfix": ") ",
     "delete_cmd_prefix": "rm(",
     "library": "var_list.r",
     "varRefreshCmd": "cat(var_dic_list()) "
    }
   },
   "types_to_exclude": [
    "module",
    "function",
    "builtin_function_or_method",
    "instance",
    "_Feature"
   ],
   "window_display": false
  }
 },
 "nbformat": 4,
 "nbformat_minor": 4
}
