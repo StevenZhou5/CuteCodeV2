{
 "cells": [
  {
   "cell_type": "code",
   "execution_count": 1,
   "metadata": {
    "ExecuteTime": {
     "end_time": "2022-10-19T07:32:00.861444Z",
     "start_time": "2022-10-19T07:32:00.180714Z"
    }
   },
   "outputs": [],
   "source": [
    "import numpy as np\n",
    "from collections import Counter\n",
    "import pandas as pd\n",
    "import math\n",
    "from collections import deque\n",
    "\n",
    "import heapq # 优先队列\n",
    "import numpy as np\n",
    "import matplotlib.pyplot as plt\n",
    "import collections\n",
    "\n",
    "# 这个设置才可以让Mac下可以显示中文\n",
    "plt.rcParams['font.sans-serif'] = ['Arial Unicode MS']\n",
    "\n",
    "plt.rcParams['figure.figsize'] = (100,50) # 设置图像的显示区域\n",
    "# https://oi-wiki.org/string/kmp/ "
   ]
  },
  {
   "cell_type": "code",
   "execution_count": 6,
   "metadata": {
    "ExecuteTime": {
     "end_time": "2022-11-11T03:04:40.296772Z",
     "start_time": "2022-11-11T03:04:40.293051Z"
    }
   },
   "outputs": [
    {
     "data": {
      "text/plain": [
       "{'a', 'd', 's'}"
      ]
     },
     "execution_count": 6,
     "metadata": {},
     "output_type": "execute_result"
    }
   ],
   "source": [
    "a = set(\"aaasd\")\n",
    "a"
   ]
  },
  {
   "cell_type": "code",
   "execution_count": 5,
   "metadata": {
    "ExecuteTime": {
     "end_time": "2022-11-11T03:03:26.304119Z",
     "start_time": "2022-11-11T03:03:26.299849Z"
    }
   },
   "outputs": [
    {
     "name": "stdout",
     "output_type": "stream",
     "text": [
      "0\n",
      "5\n",
      "1\n",
      "5\n",
      "2\n",
      "5\n"
     ]
    }
   ],
   "source": [
    "a = 5 \n",
    "for m in range(3):\n",
    "    print(m)\n",
    "    for i in range(10):\n",
    "        if a == i:\n",
    "            print(a)\n",
    "            break\n",
    "    else:\n",
    "        print('asds')"
   ]
  },
  {
   "cell_type": "code",
   "execution_count": 74,
   "metadata": {
    "ExecuteTime": {
     "end_time": "2022-09-07T14:15:05.509963Z",
     "start_time": "2022-09-07T14:15:05.507320Z"
    }
   },
   "outputs": [],
   "source": [
    "heapq._heapify_max(a)"
   ]
  },
  {
   "cell_type": "code",
   "execution_count": 1,
   "metadata": {
    "ExecuteTime": {
     "end_time": "2022-06-21T07:42:31.835352Z",
     "start_time": "2022-06-21T07:42:31.824988Z"
    }
   },
   "outputs": [
    {
     "data": {
      "text/plain": [
       "-0.13902107713107942"
      ]
     },
     "execution_count": 1,
     "metadata": {},
     "output_type": "execute_result"
    }
   ],
   "source": [
    "{'rec': 356025,\n",
    "  'sume': 130047,\n",
    "  'gsume': 60062,\n",
    "  'like': 3903,\n",
    "  'dislike': 102,\n",
    "  'share': 62,\n",
    "  'review': 345,\n",
    "  'stay_time': 10325049.683989763,\n",
    "  'detail': 81022,\n",
    "  'view_img_dur': 142687.75100000005,\n",
    "  'like_attitude2': 36,\n",
    "  'like_attitude3': 19,\n",
    "  'like_attitude4': 63,\n",
    "  'last_expose_t': 1655796341,\n",
    "  'detail_dur': 2729112,\n",
    "  'play_review_video_dur': 226881.03400000016,\n",
    "  'play_review_video': 24788,\n",
    "  'like_review_retained': 7271,\n",
    "  'reply_review': 18,\n",
    "  'pgod_like': 375}"
   ]
  },
  {
   "cell_type": "code",
   "execution_count": 3,
   "metadata": {
    "ExecuteTime": {
     "end_time": "2022-06-21T08:29:31.922126Z",
     "start_time": "2022-06-21T08:29:31.918316Z"
    }
   },
   "outputs": [
    {
     "data": {
      "text/plain": [
       "0.020422723123376167"
      ]
     },
     "execution_count": 3,
     "metadata": {},
     "output_type": "execute_result"
    }
   ],
   "source": [
    "7271 / 356025"
   ]
  },
  {
   "cell_type": "code",
   "execution_count": null,
   "metadata": {},
   "outputs": [],
   "source": [
    "[AllUserDetailSessionGsume:0.3052418581399092 AllUserDurHashBigBang:0.9224883317381647 AllUserLikeHashBigBang:1.3556630515241115 AllUserPrateSessionNewV2:0.37612554774239104 AllUserReviewContinue:2.3374208324880996 AllUserShareHashBigBang:0.8734723105754632]]"
   ]
  },
  {
   "cell_type": "code",
   "execution_count": 73,
   "metadata": {
    "ExecuteTime": {
     "end_time": "2022-05-07T03:40:19.281688Z",
     "start_time": "2022-05-07T03:40:19.265520Z"
    }
   },
   "outputs": [
    {
     "data": {
      "text/html": [
       "<div>\n",
       "<style scoped>\n",
       "    .dataframe tbody tr th:only-of-type {\n",
       "        vertical-align: middle;\n",
       "    }\n",
       "\n",
       "    .dataframe tbody tr th {\n",
       "        vertical-align: top;\n",
       "    }\n",
       "\n",
       "    .dataframe thead th {\n",
       "        text-align: right;\n",
       "    }\n",
       "</style>\n",
       "<table border=\"1\" class=\"dataframe\">\n",
       "  <thead>\n",
       "    <tr style=\"text-align: right;\">\n",
       "      <th></th>\n",
       "      <th>date</th>\n",
       "      <th>hight_count</th>\n",
       "      <th>low_count</th>\n",
       "      <th>hight_rate</th>\n",
       "      <th>low_rate</th>\n",
       "    </tr>\n",
       "  </thead>\n",
       "  <tbody>\n",
       "    <tr>\n",
       "      <th>0</th>\n",
       "      <td>2022-04-22</td>\n",
       "      <td>316941</td>\n",
       "      <td>18910</td>\n",
       "      <td>0.943695</td>\n",
       "      <td>0.056305</td>\n",
       "    </tr>\n",
       "    <tr>\n",
       "      <th>1</th>\n",
       "      <td>2022-04-23</td>\n",
       "      <td>319131</td>\n",
       "      <td>20554</td>\n",
       "      <td>0.939491</td>\n",
       "      <td>0.060509</td>\n",
       "    </tr>\n",
       "    <tr>\n",
       "      <th>2</th>\n",
       "      <td>2022-04-24</td>\n",
       "      <td>317432</td>\n",
       "      <td>18807</td>\n",
       "      <td>0.944067</td>\n",
       "      <td>0.055933</td>\n",
       "    </tr>\n",
       "    <tr>\n",
       "      <th>3</th>\n",
       "      <td>2022-04-25</td>\n",
       "      <td>316104</td>\n",
       "      <td>17359</td>\n",
       "      <td>0.947943</td>\n",
       "      <td>0.052057</td>\n",
       "    </tr>\n",
       "    <tr>\n",
       "      <th>4</th>\n",
       "      <td>2022-04-26</td>\n",
       "      <td>316084</td>\n",
       "      <td>17132</td>\n",
       "      <td>0.948586</td>\n",
       "      <td>0.051414</td>\n",
       "    </tr>\n",
       "  </tbody>\n",
       "</table>\n",
       "</div>"
      ],
      "text/plain": [
       "          date  hight_count  low_count  hight_rate  low_rate\n",
       "0   2022-04-22       316941      18910    0.943695  0.056305\n",
       "1   2022-04-23       319131      20554    0.939491  0.060509\n",
       "2   2022-04-24       317432      18807    0.944067  0.055933\n",
       "3   2022-04-25       316104      17359    0.947943  0.052057\n",
       "4  2022-04-26        316084      17132    0.948586  0.051414"
      ]
     },
     "execution_count": 73,
     "metadata": {},
     "output_type": "execute_result"
    }
   ],
   "source": [
    "# 原始 高低活比例\n",
    "df_before = pd.DataFrame(\n",
    "    {\"date\":[\"2022-04-22\",\"2022-04-23\",\"2022-04-24\",\"2022-04-25\",\"2022-04-26 \"],\n",
    "     \"hight_count\":[316941,319131,317432,316104,316084],\n",
    "     \"low_count\":[18910,20554,18807,17359,17132]\n",
    "    }\n",
    ")\n",
    "df_before[\"hight_rate\"] = df_before[\"hight_count\"] / (df_before[\"hight_count\"] + df_before[\"low_count\"])\n",
    "df_before[\"low_rate\"] = df_before[\"low_count\"] / (df_before[\"hight_count\"] + df_before[\"low_count\"])\n",
    "df_before"
   ]
  },
  {
   "cell_type": "code",
   "execution_count": 77,
   "metadata": {
    "ExecuteTime": {
     "end_time": "2022-05-07T03:49:09.194899Z",
     "start_time": "2022-05-07T03:49:09.179921Z"
    }
   },
   "outputs": [
    {
     "data": {
      "text/html": [
       "<div>\n",
       "<style scoped>\n",
       "    .dataframe tbody tr th:only-of-type {\n",
       "        vertical-align: middle;\n",
       "    }\n",
       "\n",
       "    .dataframe tbody tr th {\n",
       "        vertical-align: top;\n",
       "    }\n",
       "\n",
       "    .dataframe thead th {\n",
       "        text-align: right;\n",
       "    }\n",
       "</style>\n",
       "<table border=\"1\" class=\"dataframe\">\n",
       "  <thead>\n",
       "    <tr style=\"text-align: right;\">\n",
       "      <th></th>\n",
       "      <th>date</th>\n",
       "      <th>hight_count</th>\n",
       "      <th>low_count</th>\n",
       "      <th>hight_rate</th>\n",
       "      <th>low_rate</th>\n",
       "    </tr>\n",
       "  </thead>\n",
       "  <tbody>\n",
       "    <tr>\n",
       "      <th>0</th>\n",
       "      <td>2022-04-28</td>\n",
       "      <td>317822</td>\n",
       "      <td>17424</td>\n",
       "      <td>0.948026</td>\n",
       "      <td>0.051974</td>\n",
       "    </tr>\n",
       "    <tr>\n",
       "      <th>1</th>\n",
       "      <td>2022-04-29</td>\n",
       "      <td>318900</td>\n",
       "      <td>19380</td>\n",
       "      <td>0.942710</td>\n",
       "      <td>0.057290</td>\n",
       "    </tr>\n",
       "    <tr>\n",
       "      <th>2</th>\n",
       "      <td>2022-04-30</td>\n",
       "      <td>321668</td>\n",
       "      <td>21497</td>\n",
       "      <td>0.937357</td>\n",
       "      <td>0.062643</td>\n",
       "    </tr>\n",
       "    <tr>\n",
       "      <th>3</th>\n",
       "      <td>2022-05-01</td>\n",
       "      <td>321333</td>\n",
       "      <td>21638</td>\n",
       "      <td>0.936910</td>\n",
       "      <td>0.063090</td>\n",
       "    </tr>\n",
       "    <tr>\n",
       "      <th>4</th>\n",
       "      <td>2022-05-02</td>\n",
       "      <td>318809</td>\n",
       "      <td>20709</td>\n",
       "      <td>0.939005</td>\n",
       "      <td>0.060995</td>\n",
       "    </tr>\n",
       "    <tr>\n",
       "      <th>5</th>\n",
       "      <td>2022-05-03</td>\n",
       "      <td>318322</td>\n",
       "      <td>19958</td>\n",
       "      <td>0.941002</td>\n",
       "      <td>0.058998</td>\n",
       "    </tr>\n",
       "    <tr>\n",
       "      <th>6</th>\n",
       "      <td>2022-05-04</td>\n",
       "      <td>318321</td>\n",
       "      <td>19632</td>\n",
       "      <td>0.941909</td>\n",
       "      <td>0.058091</td>\n",
       "    </tr>\n",
       "    <tr>\n",
       "      <th>7</th>\n",
       "      <td>2022-05-05</td>\n",
       "      <td>314705</td>\n",
       "      <td>17018</td>\n",
       "      <td>0.948698</td>\n",
       "      <td>0.051302</td>\n",
       "    </tr>\n",
       "    <tr>\n",
       "      <th>8</th>\n",
       "      <td>2022-05-06</td>\n",
       "      <td>315832</td>\n",
       "      <td>17073</td>\n",
       "      <td>0.948715</td>\n",
       "      <td>0.051285</td>\n",
       "    </tr>\n",
       "  </tbody>\n",
       "</table>\n",
       "</div>"
      ],
      "text/plain": [
       "         date  hight_count  low_count  hight_rate  low_rate\n",
       "0  2022-04-28       317822      17424    0.948026  0.051974\n",
       "1  2022-04-29       318900      19380    0.942710  0.057290\n",
       "2  2022-04-30       321668      21497    0.937357  0.062643\n",
       "3  2022-05-01       321333      21638    0.936910  0.063090\n",
       "4  2022-05-02       318809      20709    0.939005  0.060995\n",
       "5  2022-05-03       318322      19958    0.941002  0.058998\n",
       "6  2022-05-04       318321      19632    0.941909  0.058091\n",
       "7  2022-05-05       314705      17018    0.948698  0.051302\n",
       "8  2022-05-06       315832      17073    0.948715  0.051285"
      ]
     },
     "execution_count": 77,
     "metadata": {},
     "output_type": "execute_result"
    }
   ],
   "source": [
    "df_after = pd.DataFrame(\n",
    "    {\"date\":[\"2022-04-28\",\"2022-04-29\",\"2022-04-30\",\"2022-05-01\",\"2022-05-02\",\"2022-05-03\",\"2022-05-04\",\"2022-05-05\",\"2022-05-06\"],\n",
    "     \"hight_count\":[317822,318900,321668,321333,318809,318322,318321,314705,315832],\n",
    "     \"low_count\":[17424,19380,21497,21638,20709,19958,19632,17018,17073]}\n",
    ")\n",
    "df_after[\"hight_rate\"] = df_after[\"hight_count\"] / (df_after[\"hight_count\"] + df_after[\"low_count\"])\n",
    "df_after[\"low_rate\"] = df_after[\"low_count\"] / (df_after[\"hight_count\"] + df_after[\"low_count\"])\n",
    "df_after"
   ]
  },
  {
   "cell_type": "code",
   "execution_count": 21,
   "metadata": {
    "ExecuteTime": {
     "end_time": "2022-03-07T13:17:41.728295Z",
     "start_time": "2022-03-07T13:17:41.721815Z"
    }
   },
   "outputs": [],
   "source": [
    "def max_distance(s1, s2):\n",
    "    row = len(s1)\n",
    "    col = len(s2)\n",
    "    if not s1 or not s2:\n",
    "        return row + col\n",
    "    dp = [[(i + j if i == 0 or j == 0 else float('inf')) for j in range(col + 1)] for i in range(row + 1)]\n",
    "    print(dp)\n",
    "    for i in range(1, row + 1):\n",
    "        for j in range(1, col + 1):\n",
    "            min_dis = min(dp[i - 1][j], dp[i][j - 1],dp[i-1][j-1]) + 1\n",
    "            if s1[i - 1] == s2[j - 1]:\n",
    "                min_dis = min(dp[i - 1][j - 1], min_dis)\n",
    "            dp[i][j] = min_dis\n",
    "    print(dp)\n",
    "    return dp[-1][-1]"
   ]
  },
  {
   "cell_type": "code",
   "execution_count": 37,
   "metadata": {
    "ExecuteTime": {
     "end_time": "2022-03-08T01:57:03.276767Z",
     "start_time": "2022-03-08T01:57:03.269643Z"
    }
   },
   "outputs": [],
   "source": [
    "def all_vaild(n):\n",
    "    res = []\n",
    "    def recursion(left_use,right_used,cur_str):\n",
    "        if left_use == right_used == n:\n",
    "            res.append(cur_str)\n",
    "            return \n",
    "        if left_use == n:\n",
    "            recursion(left_use,right_used+1,cur_str+\")\")\n",
    "            return \n",
    "        if left_use == right_used: \n",
    "            recursion(left_use+1,right_used,cur_str+\"(\")\n",
    "            return\n",
    "#         if left_use > right_used:\n",
    "        recursion(left_use+1,right_used,cur_str+\"(\")\n",
    "        recursion(left_use,right_used+1,cur_str+\")\")\n",
    "        \n",
    "    recursion(0,0,\"\")\n",
    "    return res"
   ]
  },
  {
   "cell_type": "code",
   "execution_count": 39,
   "metadata": {
    "ExecuteTime": {
     "end_time": "2022-03-08T01:57:07.848404Z",
     "start_time": "2022-03-08T01:57:07.843904Z"
    }
   },
   "outputs": [
    {
     "data": {
      "text/plain": [
       "['((()))', '(()())', '(())()', '()(())', '()()()']"
      ]
     },
     "execution_count": 39,
     "metadata": {},
     "output_type": "execute_result"
    }
   ],
   "source": [
    "all_vaild(3)"
   ]
  },
  {
   "cell_type": "code",
   "execution_count": 27,
   "metadata": {
    "ExecuteTime": {
     "end_time": "2022-03-02T12:26:16.327064Z",
     "start_time": "2022-03-02T12:26:16.322831Z"
    }
   },
   "outputs": [
    {
     "data": {
      "text/plain": [
       "'a'"
      ]
     },
     "execution_count": 27,
     "metadata": {},
     "output_type": "execute_result"
    }
   ],
   "source": [
    "list(a.keys())[0]"
   ]
  },
  {
   "cell_type": "code",
   "execution_count": 16,
   "metadata": {
    "ExecuteTime": {
     "end_time": "2022-03-02T12:21:05.292833Z",
     "start_time": "2022-03-02T12:21:05.288797Z"
    }
   },
   "outputs": [
    {
     "data": {
      "text/plain": [
       "{}"
      ]
     },
     "execution_count": 16,
     "metadata": {},
     "output_type": "execute_result"
    }
   ],
   "source": [
    "a"
   ]
  },
  {
   "cell_type": "code",
   "execution_count": 31,
   "metadata": {
    "ExecuteTime": {
     "end_time": "2022-03-02T12:27:57.198630Z",
     "start_time": "2022-03-02T12:27:57.189210Z"
    }
   },
   "outputs": [
    {
     "name": "stdout",
     "output_type": "stream",
     "text": [
      "init trie: {'f': {'l': {'o': {'w': {'e': {'r': {}}}}}}}\n",
      "final trie: {'f': {'l': {}}}\n",
      "res: fl\n"
     ]
    }
   ],
   "source": [
    "class Solution:\n",
    "    def __init__(self):\n",
    "        return\n",
    "\n",
    "    def get_max_prefix_sub_str(self, strs):\n",
    "        n = len(strs)\n",
    "        if not n:\n",
    "            return \"\"\n",
    "        \n",
    "        trie = {}\n",
    "        cur_level_trie = trie\n",
    "        for char in strs[0]:\n",
    "            cur_level_trie[char] = {}\n",
    "            cur_level_trie = cur_level_trie[char]\n",
    "\n",
    "        print(\"init trie:\", trie)\n",
    "\n",
    "        for i in range(1, n):\n",
    "            cur_trie = trie\n",
    "            for char in strs[i]:\n",
    "                if not cur_trie.get(char, None):  # 如果不存在\n",
    "                    cur_trie.clear()\n",
    "                    break\n",
    "                cur_trie = cur_trie[char]\n",
    "        print(\"final trie:\", trie)\n",
    "        res = \"\"\n",
    "        cur_final_trie = trie\n",
    "        while cur_final_trie :\n",
    "            res = res +  list(cur_final_trie.keys())[0]\n",
    "            cur_final_trie = cur_final_trie[list(cur_final_trie.keys())[0]]\n",
    "        return res \n",
    "\n",
    "\n",
    "strs = [\"flower\", \"flow\", \"flight\"]\n",
    "solu = Solution()\n",
    "print(\"res:\", solu.get_max_prefix_sub_str(strs))"
   ]
  },
  {
   "cell_type": "markdown",
   "metadata": {},
   "source": [
    "# 时间计算"
   ]
  },
  {
   "cell_type": "code",
   "execution_count": 2,
   "metadata": {
    "ExecuteTime": {
     "end_time": "2022-03-04T09:31:37.173691Z",
     "start_time": "2022-03-04T09:31:37.168393Z"
    }
   },
   "outputs": [
    {
     "name": "stdout",
     "output_type": "stream",
     "text": [
      "now time:  2022-03-04 17:31:37.171154\n",
      "end date:  2021-12-04\n"
     ]
    }
   ],
   "source": [
    "import datetime\n",
    " \n",
    "# 获取当前时间\n",
    "now_time = datetime.datetime.now()\n",
    "print(\"now time: \",now_time)\n",
    " \n",
    "# 获取前一天时间\n",
    "end_time = now_time + datetime.timedelta(days = -90)\n",
    " \n",
    "# 前一天时间只保留 年-月-日\n",
    "enddate = end_time.strftime('%Y-%m-%d') #格式化输出\n",
    "print(\"end date: \",enddate)\n",
    " \n",
    "# 获取前 15 天时间\n",
    "start_time = now_time + datetime.timedelta(days = -15)\n",
    " \n",
    "# 前 15 天时间只保留 年-月-日\n",
    "startdate = start_time.strftime('%Y-%m-%d') #格式化输出"
   ]
  },
  {
   "cell_type": "code",
   "execution_count": 9,
   "metadata": {
    "ExecuteTime": {
     "end_time": "2021-12-29T06:13:43.369230Z",
     "start_time": "2021-12-29T06:13:43.362226Z"
    }
   },
   "outputs": [
    {
     "name": "stdout",
     "output_type": "stream",
     "text": [
      "False\n",
      "True\n",
      "True\n",
      "Labour Day Labour Day\n",
      "False\n",
      "False\n"
     ]
    }
   ],
   "source": [
    "import datetime\n",
    "\n",
    "# 判断 2018年4月30号 是不是节假日\n",
    "from chinese_calendar import is_workday, is_holiday\n",
    "april_last = datetime.date(2018, 4, 30)\n",
    "print(is_workday(april_last))\n",
    "print(is_holiday(april_last))\n",
    "\n",
    "# 或者在判断的同时，获取节日名\n",
    "import chinese_calendar as calendar  # 也可以这样 import\n",
    "on_holiday, holiday_name = calendar.get_holiday_detail(april_last)\n",
    "print(on_holiday)\n",
    "print(calendar.Holiday.labour_day.value, holiday_name)\n",
    "\n",
    "# 还能判断法定节假日是不是调休\n",
    "import chinese_calendar\n",
    "print(chinese_calendar.is_in_lieu(datetime.date(2006, 1, 1)))\n",
    "print(chinese_calendar.is_in_lieu(datetime.date(2006, 1, 2)))"
   ]
  },
  {
   "cell_type": "code",
   "execution_count": 13,
   "metadata": {
    "ExecuteTime": {
     "end_time": "2021-12-29T06:18:42.854945Z",
     "start_time": "2021-12-29T06:18:42.851815Z"
    }
   },
   "outputs": [
    {
     "name": "stdout",
     "output_type": "stream",
     "text": [
      "False\n",
      "True\n"
     ]
    }
   ],
   "source": [
    "april_last = datetime.date(2022, 1, 31)\n",
    "print(is_workday(april_last))\n",
    "print(is_holiday(april_last))"
   ]
  },
  {
   "cell_type": "code",
   "execution_count": 9,
   "metadata": {
    "ExecuteTime": {
     "end_time": "2021-11-29T07:35:07.512999Z",
     "start_time": "2021-11-29T07:35:07.504925Z"
    }
   },
   "outputs": [
    {
     "name": "stdout",
     "output_type": "stream",
     "text": [
      "[(-inf, 0), (-inf, 1), (-inf, 2), (-inf, 3), (-inf, 4)]\n",
      "(-inf, 0)\n",
      "(-inf, 1)\n",
      "(-inf, 2)\n",
      "(-inf, 3)\n",
      "(-inf, 4)\n",
      "(4, 1)\n",
      "(4, 2)\n",
      "(8, 6)\n",
      "(12, 8)\n",
      "(13, 0)\n",
      "[(14, 4), (14, 5), (16, 9), (15, 7), (18, 3)]\n"
     ]
    },
    {
     "data": {
      "text/plain": [
       "[(14, 4), (14, 5), (15, 7), (16, 9), (18, 3)]"
      ]
     },
     "execution_count": 9,
     "metadata": {},
     "output_type": "execute_result"
    }
   ],
   "source": [
    "# 优先队列, 只保留 top K 的值\n",
    "import heapq # 使用数组构建二叉堆\n",
    "from random import randint\n",
    "heap_size = 5\n",
    "heap_list = [(float(\"-inf\"),i) for i in range(heap_size)]\n",
    "print(heap_list)\n",
    "for i in range(10):\n",
    "    # heappushpop(list,itemi)先把itemi push进去，然后在pop出item[0] 最小的item，保持容量不变\n",
    "    print(heapq.heappushpop(heap_list,(randint(0,20),i))) \n",
    "print(heap_list) # 默认还是二叉堆的顺序\n",
    "sorted(heap_list)"
   ]
  },
  {
   "cell_type": "code",
   "execution_count": 18,
   "metadata": {
    "ExecuteTime": {
     "end_time": "2021-08-23T14:11:23.754582Z",
     "start_time": "2021-08-23T14:11:23.747518Z"
    }
   },
   "outputs": [
    {
     "data": {
      "text/plain": [
       "[1, 4]"
      ]
     },
     "execution_count": 18,
     "metadata": {},
     "output_type": "execute_result"
    }
   ],
   "source": [
    "class Solution:\n",
    "    def twoSum(self, nums, target):\n",
    "        num_to_idx = {}\n",
    "        for idx,num in enumerate(nums):\n",
    "            num_to_idx[num] = idx\n",
    "        \n",
    "        for idx,num in enumerate(nums):\n",
    "            s_tar = target-num\n",
    "            if num_to_idx.get(s_tar,None):\n",
    "                return [idx,num_to_idx[s_tar]]\n",
    "        return None\n",
    "S = Solution()\n",
    "S.twoSum([1,5,60,7,5],10)"
   ]
  },
  {
   "cell_type": "code",
   "execution_count": null,
   "metadata": {},
   "outputs": [],
   "source": [
    "from collections import defaultdict"
   ]
  },
  {
   "cell_type": "code",
   "execution_count": 13,
   "metadata": {},
   "outputs": [
    {
     "name": "stdout",
     "output_type": "stream",
     "text": [
      "deque([1, 2, 3])\n",
      "None\n"
     ]
    },
    {
     "data": {
      "text/plain": [
       "deque([1, 2, 3, 4, 5])"
      ]
     },
     "execution_count": 13,
     "metadata": {},
     "output_type": "execute_result"
    }
   ],
   "source": [
    "from collections import deque\n",
    "l = deque([1,2,3])\n",
    "print(l)\n",
    "l.extend([4,5])\n",
    "\n",
    "print()\n",
    "l"
   ]
  },
  {
   "cell_type": "code",
   "execution_count": 17,
   "metadata": {},
   "outputs": [
    {
     "data": {
      "text/plain": [
       "[0, 0, 0, 0, 0, 1, 0, 0, 0, 0, 0, 0, 0, 0, 0, 0, 0, 0, 0, 0, 0, 0, 0, 0, 0, 0]"
      ]
     },
     "execution_count": 17,
     "metadata": {},
     "output_type": "execute_result"
    }
   ],
   "source": [
    "[0 if i != 5 else 1 for i in range(26)]"
   ]
  },
  {
   "cell_type": "code",
   "execution_count": 18,
   "metadata": {},
   "outputs": [
    {
     "data": {
      "text/plain": [
       "[0, 0, 0, 0, 0, 1, 0, 0, 0, 0, 0, 0, 1, 0]"
      ]
     },
     "execution_count": 18,
     "metadata": {},
     "output_type": "execute_result"
    }
   ],
   "source": [
    "[0, 0, 0, 0, 0, 1, 0] + [0, 0, 0, 0, 0, 1, 0]"
   ]
  },
  {
   "cell_type": "code",
   "execution_count": 1,
   "metadata": {},
   "outputs": [
    {
     "data": {
      "text/plain": [
       "False"
      ]
     },
     "execution_count": 1,
     "metadata": {},
     "output_type": "execute_result"
    }
   ],
   "source": [
    "dic = {}\n",
    "1 in dic"
   ]
  },
  {
   "cell_type": "code",
   "execution_count": 21,
   "metadata": {},
   "outputs": [
    {
     "name": "stdout",
     "output_type": "stream",
     "text": [
      "8 []\n",
      "[]\n",
      "7 [8]\n",
      "[8]\n",
      "9 [8, 7]\n",
      "xx 9 [8, 7]\n",
      "xx 9 [8]\n",
      "[]\n"
     ]
    },
    {
     "data": {
      "text/plain": [
       "[9]"
      ]
     },
     "execution_count": 21,
     "metadata": {},
     "output_type": "execute_result"
    }
   ],
   "source": [
    "def get_max_nums(nums,n):\n",
    "            if not n :\n",
    "                return []\n",
    "            if len(nums) <= n:\n",
    "                return nums\n",
    "            res = []\n",
    "            max_remove_count = len(nums) - n\n",
    "            for num in nums:\n",
    "                print(num,res)\n",
    "                while max_remove_count > 0 and res and num > res[-1]:\n",
    "                    print(\"xx\",num,res)\n",
    "                    res.pop()\n",
    "                    max_remove_count -=1\n",
    "                print(res)\n",
    "                res.append(num)\n",
    "            return res[:n]\n",
    "get_max_nums([8,7,9],1)"
   ]
  },
  {
   "cell_type": "code",
   "execution_count": 23,
   "metadata": {},
   "outputs": [
    {
     "name": "stdout",
     "output_type": "stream",
     "text": [
      "[[7, 7, 12], [13, 11, 6], [8, 13, 13]]\n",
      "[[[7], [7], [5, 7]], [[2, 4, 7], [4, 7], [6]], [[8], [2, 4, 7], [0, 2, 4, 7]]]\n"
     ]
    },
    {
     "data": {
      "text/plain": [
       "[2, 4, 7]"
      ]
     },
     "execution_count": 23,
     "metadata": {},
     "output_type": "execute_result"
    }
   ],
   "source": [
    "# 值最大值的递增路径\n",
    "def longestIncreasingPath(matrix):\n",
    "        rows = len(matrix)\n",
    "        columns = len(matrix[0])\n",
    "#         print(rows)\n",
    "#         print(columns)\n",
    "        max_val_matrix = [[matrix[i][j] for j in range(columns)] for i in range(rows) ]\n",
    "        max_path_matrix = [[[matrix[i][j]] for j in range(columns)] for i in range(rows) ]\n",
    "#         print(max_val_matrix)\n",
    "#         print(max_path_matrix)\n",
    "        max_sum_val = 0\n",
    "        ans_path = []\n",
    "        passed = []\n",
    "        def reset_longest_path(row_idx,columns_idx):\n",
    "            if (row_idx,columns_idx) in passed:\n",
    "                return\n",
    "            cur_val = matrix[row_idx][columns_idx]\n",
    "            max_val = 0\n",
    "            max_path = []\n",
    "            # 上\n",
    "            if (row_idx-1) >= 0 and matrix[row_idx-1][columns_idx]>cur_val:\n",
    "                reset_longest_path(row_idx-1,columns_idx)\n",
    "                new_val = max_val_matrix[row_idx-1][columns_idx]\n",
    "                if new_val > max_val:\n",
    "                    max_val = new_val\n",
    "                    max_path = max_path_matrix[row_idx-1][columns_idx]\n",
    "                \n",
    "            # 下\n",
    "            if (row_idx+1) < rows and matrix[row_idx+1][columns_idx]>cur_val:\n",
    "                reset_longest_path(row_idx+1,columns_idx)\n",
    "                new_val = max_val_matrix[row_idx+1][columns_idx]\n",
    "                if new_val > max_val:\n",
    "                    max_val = new_val\n",
    "                    max_path = max_path_matrix[row_idx+1][columns_idx]\n",
    "\n",
    "            # 左\n",
    "            if (columns_idx-1) >= 0 and matrix[row_idx][columns_idx-1]>cur_val:\n",
    "                reset_longest_path(row_idx,columns_idx-1)\n",
    "                new_val = max_val_matrix[row_idx][columns_idx-1]\n",
    "                if new_val > max_val:\n",
    "                    max_val = new_val\n",
    "                    max_path = max_path_matrix[row_idx][columns_idx-1]\n",
    "\n",
    "            # 右\n",
    "            if (columns_idx+1) < columns and matrix[row_idx][columns_idx+1]>cur_val:\n",
    "                reset_longest_path(row_idx,columns_idx+1)\n",
    "                new_val = max_val_matrix[row_idx][columns_idx+1]\n",
    "                if new_val > max_val:\n",
    "                    max_val = new_val\n",
    "                    max_path = max_path_matrix[row_idx][columns_idx+1]\n",
    "            \n",
    "            max_val_matrix[row_idx][columns_idx] += max_val\n",
    "            max_path_matrix[row_idx][columns_idx].extend(max_path)\n",
    "            passed.append((row_idx,columns_idx))\n",
    "            \n",
    "            \n",
    "        \n",
    "        for i in range(rows):\n",
    "            for j in range(columns):\n",
    "                if (i,j) not in passed:\n",
    "                    reset_longest_path(i,j)\n",
    "                if max_val_matrix[i][j] > max_sum_val:\n",
    "                    max_sum_val = max_val_matrix[i][j]\n",
    "                    ans_path = max_path_matrix[i][j]\n",
    "        print(max_val_matrix)\n",
    "        print(max_path_matrix)\n",
    "        return ans_path\n",
    "        \n",
    "# longestIncreasingPath([\n",
    "#   [9,9,4],\n",
    "#   [6,6,8],\n",
    "#   [2,1,1]\n",
    "# ] )\n",
    "longestIncreasingPath([[7,7,5],[2,4,6],[8,2,0]])\n"
   ]
  },
  {
   "cell_type": "code",
   "execution_count": 29,
   "metadata": {},
   "outputs": [
    {
     "name": "stdout",
     "output_type": "stream",
     "text": [
      "[[1, 1, 2], [3, 2, 1], [1, 3, 4]]\n"
     ]
    },
    {
     "data": {
      "text/plain": [
       "4"
      ]
     },
     "execution_count": 29,
     "metadata": {},
     "output_type": "execute_result"
    }
   ],
   "source": [
    "# 路径最长的递增路径\n",
    "def longestIncreasingPath(matrix):\n",
    "        rows = len(matrix)\n",
    "        columns = len(matrix[0])\n",
    "        max_path_len_matrix = [[1 for j in range(columns)] for i in range(rows) ]\n",
    "        passed = []\n",
    "        def reset_longest_path(row_idx,columns_idx):\n",
    "            if (row_idx,columns_idx) in passed:\n",
    "                return\n",
    "            cur_val = matrix[row_idx][columns_idx]\n",
    "            max_len = 0\n",
    "            max_path = []\n",
    "            # 上\n",
    "            if (row_idx-1) >= 0 and matrix[row_idx-1][columns_idx]>cur_val:\n",
    "                reset_longest_path(row_idx-1,columns_idx)\n",
    "                cur_path_len = max_path_len_matrix[row_idx-1][columns_idx]\n",
    "                if cur_path_len > max_len:\n",
    "                    max_len = cur_path_len\n",
    "                \n",
    "            # 下\n",
    "            if (row_idx+1) < rows and matrix[row_idx+1][columns_idx]>cur_val:\n",
    "                reset_longest_path(row_idx+1,columns_idx)\n",
    "                cur_path_len = max_path_len_matrix[row_idx+1][columns_idx]\n",
    "                if cur_path_len > max_len:\n",
    "                    max_len = cur_path_len\n",
    "\n",
    "            # 左\n",
    "            if (columns_idx-1) >= 0 and matrix[row_idx][columns_idx-1]>cur_val:\n",
    "                reset_longest_path(row_idx,columns_idx-1)\n",
    "                cur_path_len = max_path_len_matrix[row_idx][columns_idx-1]\n",
    "                if cur_path_len > max_len:\n",
    "                    max_len = cur_path_len\n",
    "\n",
    "            # 右\n",
    "            if (columns_idx+1) < columns and matrix[row_idx][columns_idx+1]>cur_val:\n",
    "                reset_longest_path(row_idx,columns_idx+1)\n",
    "                cur_path_len = max_path_len_matrix[row_idx][columns_idx+1]\n",
    "                if cur_path_len > max_len:\n",
    "                    max_len = cur_path_len\n",
    "            \n",
    "            max_path_len_matrix[row_idx][columns_idx]+=max_len\n",
    "            passed.append((row_idx,columns_idx))\n",
    "            \n",
    "            \n",
    "        ans = 0\n",
    "        for i in range(rows):\n",
    "            for j in range(columns):\n",
    "                if (i,j) not in passed:\n",
    "                    reset_longest_path(i,j)\n",
    "                if max_path_len_matrix[i][j] > ans:\n",
    "                    ans = max_path_len_matrix[i][j]\n",
    "        print(max_path_len_matrix)\n",
    "        return ans\n",
    "longestIncreasingPath([[7,7,5],[2,4,6],[8,2,0]])"
   ]
  },
  {
   "cell_type": "code",
   "execution_count": 35,
   "metadata": {},
   "outputs": [
    {
     "name": "stdout",
     "output_type": "stream",
     "text": [
      "13230\n"
     ]
    }
   ],
   "source": [
    "A = [[0,0],\n",
    "     [0,0],\n",
    "     [0,0]]\n",
    "rows = len(A)\n",
    "columns = len(A[0])\n",
    "count = 0\n",
    "positions = [(0,0),(0,1),(1,0),(1,1),(2,0),(2,1)]\n",
    "position_count = len(positions)\n",
    "def cover_current_area(position):\n",
    "    i,j = positions[position]\n",
    "    global count \n",
    "    vals = [1,2,3,4,5,6]\n",
    "    if i-1 >= 0 and A[i-1][j] in vals:\n",
    "        vals.remove(A[i-1][j])\n",
    "    if i+1 < rows and A[i+1][j] in vals:\n",
    "        vals.remove(A[i+1][j])\n",
    "    if j-1 >= 0 and A[i][j-1] in vals:\n",
    "        vals.remove(A[i][j-1])\n",
    "    if j+1 < columns and A[i][j+1] in vals:\n",
    "        vals.remove(A[i][j+1])\n",
    "    for val in vals:\n",
    "        A[i][j] = val\n",
    "        if position == position_count-1:\n",
    "            count +=1\n",
    "#             print(count)\n",
    "            A[i][j] = 0\n",
    "            continue\n",
    "        cover_current_area(position+1)\n",
    "        A[i][j] = 0\n",
    "        \n",
    "cover_current_area(0)\n",
    "    \n",
    "# for v00 in [1,2,3,4,5,6]:\n",
    "#     A = [[0,0],\n",
    "#          [0,0],\n",
    "#          [0,0]]\n",
    "    \n",
    "#     A[0][0] = v00\n",
    "#     vals2 = [1,2,3,4,5,6]\n",
    "#     vals2.remove(A[0][0])\n",
    "#     for v01 in vals2:\n",
    "#         A[0][1] = v01\n",
    "#         vals3 = [1,2,3,4,5,6]\n",
    "#         vals3.remove(A[0][0])\n",
    "#         for v10 in vals3:\n",
    "#             A[1][0] = v10\n",
    "#             vals4 = [1,2,3,4,5,6]\n",
    "#             if A[0][1] == A[1][0]:\n",
    "#                 vals4.remove(A[0][1])\n",
    "#             else:\n",
    "#                 vals4.remove(A[0][1])\n",
    "#                 vals4.remove(A[1][0])\n",
    "#             for v11 in vals4:\n",
    "#                 A[1][1] = v11\n",
    "#                 vals5 = [1,2,3,4,5,6]\n",
    "#                 vals5.remove(A[1][0])\n",
    "#                 for v21 in vals5:\n",
    "#                     A[2][0] = v21\n",
    "#                     vals6 = [1,2,3,4,5,6]\n",
    "#                     if A[1][1] == A[2][0]:\n",
    "#                         vals6.remove(A[1][1])\n",
    "#                     else:\n",
    "#                         vals6.remove(A[1][1])\n",
    "#                         vals6.remove(A[2][0])\n",
    "#                     for v22 in vals6:\n",
    "#                         A[2][1] = v22\n",
    "#                         if count < 10:\n",
    "#                             print(A)\n",
    "#                         count += 1\n",
    "            \n",
    "print(count)"
   ]
  },
  {
   "cell_type": "code",
   "execution_count": 1,
   "metadata": {},
   "outputs": [
    {
     "data": {
      "text/plain": [
       "[3]"
      ]
     },
     "execution_count": 1,
     "metadata": {},
     "output_type": "execute_result"
    }
   ],
   "source": [
    "a = [3,5]\n",
    "a.remove(5)\n",
    "a"
   ]
  },
  {
   "cell_type": "code",
   "execution_count": 28,
   "metadata": {},
   "outputs": [],
   "source": [
    "count = 0"
   ]
  },
  {
   "cell_type": "code",
   "execution_count": 43,
   "metadata": {},
   "outputs": [
    {
     "name": "stdout",
     "output_type": "stream",
     "text": [
      "[(1, 2), (2, 3), (3, 4)]\n",
      "[(1, 5), (2, 6), (3, 7)]\n",
      "[(1, 2, 3), (2, 3, 4)]\n"
     ]
    }
   ],
   "source": [
    "a = [1,2,3]\n",
    "b = [2,3,4]\n",
    "c = [5,6,7,8]\n",
    "zipped = list(zip(a,b))\n",
    "print(zipped)\n",
    "print(list(zip(a,c))) # 当长度不一会的时候以短的为主\n",
    "print(list(zip(*zipped)))"
   ]
  },
  {
   "cell_type": "code",
   "execution_count": 5,
   "metadata": {},
   "outputs": [
    {
     "name": "stdout",
     "output_type": "stream",
     "text": [
      "0.0031999999999999806 0.0034162485320806883\n",
      "0.0013000000000000789 0.0014164305949009358\n",
      "0.0027000000000000357 0.0037411666897603376\n"
     ]
    }
   ],
   "source": [
    "base = [0.9367,0.9178,0.7217]\n",
    "real = [0.9399,0.9191,0.7244]\n",
    "for i in range(3):\n",
    "    d1 = real[i] - base[i]\n",
    "    d1_rate = d1 / base[i]\n",
    "    print(d1,d1_rate)"
   ]
  },
  {
   "cell_type": "code",
   "execution_count": 1,
   "metadata": {},
   "outputs": [
    {
     "data": {
      "text/plain": [
       "2422"
      ]
     },
     "execution_count": 1,
     "metadata": {},
     "output_type": "execute_result"
    }
   ],
   "source": [
    "1600771438 - 1600769016"
   ]
  },
  {
   "cell_type": "code",
   "execution_count": 2,
   "metadata": {},
   "outputs": [
    {
     "data": {
      "text/plain": [
       "(40, 22)"
      ]
     },
     "execution_count": 2,
     "metadata": {},
     "output_type": "execute_result"
    }
   ],
   "source": [
    "divmod(2422,60)"
   ]
  },
  {
   "cell_type": "code",
   "execution_count": null,
   "metadata": {},
   "outputs": [],
   "source": []
  },
  {
   "cell_type": "code",
   "execution_count": 39,
   "metadata": {},
   "outputs": [
    {
     "data": {
      "text/plain": [
       "True"
      ]
     },
     "execution_count": 39,
     "metadata": {},
     "output_type": "execute_result"
    }
   ],
   "source": [
    "a_list.next == c"
   ]
  },
  {
   "cell_type": "code",
   "execution_count": 42,
   "metadata": {},
   "outputs": [],
   "source": [
    "def print_list(node):\n",
    "    cur = node\n",
    "    print(cur.val)\n",
    "    while cur.next:\n",
    "        cur = cur.next\n",
    "        print(cur.val)"
   ]
  },
  {
   "cell_type": "code",
   "execution_count": 43,
   "metadata": {},
   "outputs": [
    {
     "name": "stdout",
     "output_type": "stream",
     "text": [
      "1\n",
      "3\n",
      "4\n"
     ]
    }
   ],
   "source": [
    "print_list(a_list)"
   ]
  },
  {
   "cell_type": "code",
   "execution_count": 44,
   "metadata": {},
   "outputs": [
    {
     "name": "stdout",
     "output_type": "stream",
     "text": [
      "2\n",
      "3\n",
      "4\n"
     ]
    }
   ],
   "source": [
    "print_list(b_list)"
   ]
  },
  {
   "cell_type": "code",
   "execution_count": 45,
   "metadata": {},
   "outputs": [
    {
     "data": {
      "text/plain": [
       "True"
      ]
     },
     "execution_count": 45,
     "metadata": {},
     "output_type": "execute_result"
    }
   ],
   "source": [
    "e == c"
   ]
  },
  {
   "cell_type": "code",
   "execution_count": 46,
   "metadata": {},
   "outputs": [
    {
     "data": {
      "text/plain": [
       "True"
      ]
     },
     "execution_count": 46,
     "metadata": {},
     "output_type": "execute_result"
    }
   ],
   "source": [
    "e == f"
   ]
  },
  {
   "cell_type": "code",
   "execution_count": 47,
   "metadata": {},
   "outputs": [
    {
     "data": {
      "text/plain": [
       "True"
      ]
     },
     "execution_count": 47,
     "metadata": {},
     "output_type": "execute_result"
    }
   ],
   "source": [
    "f == c"
   ]
  },
  {
   "cell_type": "code",
   "execution_count": 4,
   "metadata": {},
   "outputs": [
    {
     "data": {
      "text/plain": [
       "[1]"
      ]
     },
     "execution_count": 4,
     "metadata": {},
     "output_type": "execute_result"
    }
   ],
   "source": [
    "[1,2,3][0:1]"
   ]
  },
  {
   "cell_type": "code",
   "execution_count": 4,
   "metadata": {},
   "outputs": [
    {
     "data": {
      "text/plain": [
       "[0, 0, 1, 1, 1]"
      ]
     },
     "execution_count": 4,
     "metadata": {},
     "output_type": "execute_result"
    }
   ],
   "source": [
    "a = [0,0,0,1,1,1]\n",
    "a.remove(0)\n",
    "a"
   ]
  },
  {
   "cell_type": "code",
   "execution_count": 5,
   "metadata": {},
   "outputs": [
    {
     "data": {
      "text/plain": [
       "[0, 0, 1, 1]"
      ]
     },
     "execution_count": 5,
     "metadata": {},
     "output_type": "execute_result"
    }
   ],
   "source": [
    "a.remove(1)\n",
    "a"
   ]
  },
  {
   "cell_type": "code",
   "execution_count": 7,
   "metadata": {},
   "outputs": [
    {
     "data": {
      "text/plain": [
       "4"
      ]
     },
     "execution_count": 7,
     "metadata": {},
     "output_type": "execute_result"
    }
   ],
   "source": [
    "import random\n",
    "random.randint(0,10)"
   ]
  },
  {
   "cell_type": "code",
   "execution_count": 9,
   "metadata": {},
   "outputs": [
    {
     "data": {
      "text/plain": [
       "2"
      ]
     },
     "execution_count": 9,
     "metadata": {},
     "output_type": "execute_result"
    }
   ],
   "source": [
    "random.randint(0,10)"
   ]
  },
  {
   "cell_type": "code",
   "execution_count": 12,
   "metadata": {},
   "outputs": [
    {
     "data": {
      "text/plain": [
       "9"
      ]
     },
     "execution_count": 12,
     "metadata": {},
     "output_type": "execute_result"
    }
   ],
   "source": [
    "random.choice([1, 2, 3, 4, 5, 6, 7, 8, 9, 0]) "
   ]
  },
  {
   "cell_type": "code",
   "execution_count": 14,
   "metadata": {},
   "outputs": [
    {
     "data": {
      "text/plain": [
       "True"
      ]
     },
     "execution_count": 14,
     "metadata": {},
     "output_type": "execute_result"
    }
   ],
   "source": [
    "not None"
   ]
  },
  {
   "cell_type": "code",
   "execution_count": 1,
   "metadata": {},
   "outputs": [],
   "source": [
    "a = {1:5,2:6}"
   ]
  },
  {
   "cell_type": "code",
   "execution_count": 4,
   "metadata": {},
   "outputs": [
    {
     "name": "stdout",
     "output_type": "stream",
     "text": [
      "5\n",
      "6\n"
     ]
    }
   ],
   "source": [
    "for v in a.values():\n",
    "    print(v)"
   ]
  },
  {
   "cell_type": "code",
   "execution_count": 11,
   "metadata": {},
   "outputs": [
    {
     "name": "stdout",
     "output_type": "stream",
     "text": [
      "8\n"
     ]
    }
   ],
   "source": [
    "g = 8 \n",
    "def test():\n",
    "    global g \n",
    "    g = max(3,g)\n",
    "    print(g)\n",
    "test()"
   ]
  },
  {
   "cell_type": "code",
   "execution_count": 12,
   "metadata": {},
   "outputs": [],
   "source": [
    "a = [1, 2, 3, 4, 5, 6, 7, 8, 9, 0]\n",
    "a.clear()"
   ]
  },
  {
   "cell_type": "code",
   "execution_count": 13,
   "metadata": {},
   "outputs": [
    {
     "data": {
      "text/plain": [
       "[]"
      ]
     },
     "execution_count": 13,
     "metadata": {},
     "output_type": "execute_result"
    }
   ],
   "source": [
    "a"
   ]
  },
  {
   "cell_type": "code",
   "execution_count": 9,
   "metadata": {},
   "outputs": [
    {
     "name": "stdout",
     "output_type": "stream",
     "text": [
      "346\n",
      "654\n"
     ]
    }
   ],
   "source": [
    "import random\n",
    "random.randint(0,2)\n",
    "\n",
    "time = 1000\n",
    "win100_count = 0\n",
    "win101_count = 0\n",
    "while time > 0:\n",
    "    time -= 1 \n",
    "    win100 = False\n",
    "    win101 = False\n",
    "    res_list = [random.randint(0,2) for _ in range(3)]\n",
    "    while not win100 and not win101:\n",
    "        if res_list[-3] == 1 and res_list[-2] == 0:\n",
    "            if res_list[-1] == 0:\n",
    "                win100 = True\n",
    "                win100_count += 1\n",
    "            else:\n",
    "                win101 = True\n",
    "                win101_count += 1\n",
    "        else:\n",
    "            res_list.append(random.randint(0,2))\n",
    "print(win100_count)\n",
    "print(win101_count)"
   ]
  },
  {
   "cell_type": "code",
   "execution_count": 2,
   "metadata": {},
   "outputs": [
    {
     "name": "stdout",
     "output_type": "stream",
     "text": [
      "(1, 4) (2, 5) (3, 6)\n"
     ]
    }
   ],
   "source": [
    "print(*zip([1,2,3],[4,5,6]))"
   ]
  },
  {
   "cell_type": "code",
   "execution_count": 5,
   "metadata": {},
   "outputs": [
    {
     "data": {
      "text/plain": [
       "[(1, 2, 3), (4, 5, 6)]"
      ]
     },
     "execution_count": 5,
     "metadata": {},
     "output_type": "execute_result"
    }
   ],
   "source": [
    "list(zip((1, 4),(2, 5),(3, 6)))"
   ]
  },
  {
   "cell_type": "code",
   "execution_count": 11,
   "metadata": {},
   "outputs": [
    {
     "name": "stdout",
     "output_type": "stream",
     "text": [
      "小明 16\n",
      "小明 16\n",
      "age name\n"
     ]
    }
   ],
   "source": [
    "def print_info(name,age):\n",
    "    print(name,age)\n",
    "print_info(\"小明\",16)\n",
    "print_info(*[\"小明\",16])\n",
    "print_info(*{\"age\":16,\"name\":\"小明\"})"
   ]
  },
  {
   "cell_type": "code",
   "execution_count": 5,
   "metadata": {
    "ExecuteTime": {
     "end_time": "2020-12-17T03:49:12.760193Z",
     "start_time": "2020-12-17T03:49:12.756119Z"
    }
   },
   "outputs": [
    {
     "data": {
      "text/plain": [
       "[0, 1, 2, 3, 4]"
      ]
     },
     "execution_count": 5,
     "metadata": {},
     "output_type": "execute_result"
    }
   ],
   "source": [
    "a[:][0]"
   ]
  },
  {
   "cell_type": "code",
   "execution_count": 2,
   "metadata": {
    "ExecuteTime": {
     "end_time": "2020-12-18T15:52:19.605033Z",
     "start_time": "2020-12-18T15:52:19.600661Z"
    }
   },
   "outputs": [
    {
     "data": {
      "text/plain": [
       "1.628894626777442"
      ]
     },
     "execution_count": 2,
     "metadata": {},
     "output_type": "execute_result"
    }
   ],
   "source": [
    "1.05 ** 10"
   ]
  },
  {
   "cell_type": "code",
   "execution_count": 2,
   "metadata": {
    "ExecuteTime": {
     "end_time": "2021-08-31T12:07:30.919084Z",
     "start_time": "2021-08-31T12:07:30.914961Z"
    }
   },
   "outputs": [],
   "source": [
    "class ListNode:\n",
    "    def __init__(self,val=0,nxt=None):\n",
    "        self.val = val\n",
    "        self.next = nxt\n",
    "        \n",
    "    def set_val(self,val):\n",
    "        self.val = val\n",
    "        \n",
    "    def set_next(self,nxt):\n",
    "        self.next = nxt"
   ]
  },
  {
   "cell_type": "code",
   "execution_count": 7,
   "metadata": {
    "ExecuteTime": {
     "end_time": "2021-08-31T12:10:08.433027Z",
     "start_time": "2021-08-31T12:10:08.429295Z"
    }
   },
   "outputs": [],
   "source": [
    "list_node1 = ListNode(5)\n",
    "list_node1.next = ListNode(3)\n",
    "list_node1.next.next = ListNode(2)\n",
    "list_node2 = ListNode(3)\n",
    "list_node2.next = ListNode(9)"
   ]
  },
  {
   "cell_type": "code",
   "execution_count": 34,
   "metadata": {
    "ExecuteTime": {
     "end_time": "2021-09-01T02:18:04.628920Z",
     "start_time": "2021-09-01T02:18:04.615501Z"
    }
   },
   "outputs": [
    {
     "name": "stdout",
     "output_type": "stream",
     "text": [
      "8\n",
      "2\n",
      "3\n",
      "=== 8\n",
      "=== 2\n",
      "=== 3\n",
      "**** 3\n",
      "**** 2\n",
      "**** 8\n"
     ]
    }
   ],
   "source": [
    "cur_node1 = list_node1\n",
    "cur_node2 = list_node2\n",
    "next_pre = 0\n",
    "count = 0\n",
    "res_head = None\n",
    "res_list = None\n",
    "while cur_node1 or cur_node2 or next_pre:\n",
    "    sum_val = (cur_node1.val if cur_node1 else 0) + (cur_node2.val if cur_node2 else 0) + next_pre\n",
    "    next_pre,res=divmod(sum_val,10)\n",
    "    print(res)\n",
    "    if not res_list:\n",
    "        res_list = ListNode(res)\n",
    "        res_head = res_list\n",
    "    else:\n",
    "        res_list.next = ListNode(res)\n",
    "        res_list = res_list.next\n",
    "    cur_node1,cur_node2 = cur_node1.next if cur_node1 else None, cur_node2.next if cur_node2 else None\n",
    "    count += 1\n",
    "\n",
    "cur_res_node = res_head\n",
    "while cur_res_node:\n",
    "    print(\"===\",cur_res_node.val)\n",
    "    cur_res_node = cur_res_node.next\n",
    "\n",
    "pre = None\n",
    "cur = res_head\n",
    "while cur:\n",
    "    tmp = cur.next\n",
    "    cur.next = pre\n",
    "    pre = cur\n",
    "    cur = tmp\n",
    "\n",
    "final_res_node = pre\n",
    "while final_res_node:\n",
    "    print(\"****\",final_res_node.val)\n",
    "    final_res_node = final_res_node.next"
   ]
  },
  {
   "cell_type": "code",
   "execution_count": 6,
   "metadata": {
    "ExecuteTime": {
     "end_time": "2021-09-01T12:02:33.187999Z",
     "start_time": "2021-09-01T12:02:33.181730Z"
    }
   },
   "outputs": [
    {
     "name": "stdout",
     "output_type": "stream",
     "text": [
      "PIN\n",
      "ALSIG\n",
      "YAHR\n",
      "PI\n"
     ]
    }
   ],
   "source": [
    "# P A H N\n",
    "# APLSIIG\n",
    "# Y I R\n",
    "def z_trans(s,numRows):\n",
    "    sub_dict = {}\n",
    "    for i in range(numRows):\n",
    "        sub_dict[i] = \"\"\n",
    "    cur_step = 1\n",
    "    cur_idx = 0\n",
    "    max_idx = numRows -1\n",
    "    for i in range(len(s)):\n",
    "        sub_dict[cur_idx] += s[i]\n",
    "        cur_idx += cur_step\n",
    "        if cur_idx == max_idx:\n",
    "            cur_step = - 1\n",
    "        if cur_idx == 0:\n",
    "            cur_step = 1\n",
    "    for i in range(numRows):\n",
    "        print(sub_dict[i])\n",
    "z_trans(\"PAYPALISHIRING\",4)"
   ]
  },
  {
   "cell_type": "code",
   "execution_count": 31,
   "metadata": {
    "ExecuteTime": {
     "end_time": "2021-09-01T12:35:45.807147Z",
     "start_time": "2021-09-01T12:35:45.798476Z"
    }
   },
   "outputs": [
    {
     "name": "stdout",
     "output_type": "stream",
     "text": [
      "-55\n"
     ]
    },
    {
     "data": {
      "text/plain": [
       "-55"
      ]
     },
     "execution_count": 31,
     "metadata": {},
     "output_type": "execute_result"
    }
   ],
   "source": [
    "def myAtoi(s):\n",
    "    pos_or_neg = 1\n",
    "    num = 0\n",
    "    for char in s:\n",
    "        if char.isdigit(): \n",
    "            num = num * 10 + int(char)\n",
    "        else:\n",
    "            if num != 0:\n",
    "                break\n",
    "            if char == ' ' and pos_or_neg == 1:\n",
    "                continue\n",
    "            if char == '-':\n",
    "                pos_or_neg = -1\n",
    "            else:\n",
    "                break\n",
    "    max_num = 2 ** 31 - 1\n",
    "    min_num = -(2**31)\n",
    "    num = pos_or_neg * num\n",
    "    print(num)\n",
    "    if num < min_num :\n",
    "        return min_num\n",
    "    elif num > max_num:\n",
    "        return max_num\n",
    "    else:\n",
    "        return num\n",
    "myAtoi(\"   -00055 ss 33\")"
   ]
  },
  {
   "cell_type": "code",
   "execution_count": 50,
   "metadata": {
    "ExecuteTime": {
     "end_time": "2021-09-01T13:20:25.630866Z",
     "start_time": "2021-09-01T13:20:25.620695Z"
    }
   },
   "outputs": [
    {
     "name": "stdout",
     "output_type": "stream",
     "text": [
      "[1, 8, 8, 8, 8, 8, 8, 8, 8]\n",
      "[8, 8, 8, 8, 8, 8, 8, 7, 7]\n"
     ]
    },
    {
     "data": {
      "text/plain": [
       "19"
      ]
     },
     "execution_count": 50,
     "metadata": {},
     "output_type": "execute_result"
    }
   ],
   "source": [
    "# 接雨水问题\n",
    "# [1,8,6,2,5,4,8,3,7] : 49\n",
    "# [4,3,2,1,4] : 16\n",
    "def maxAreaHard(nums):\n",
    "    l2r = [0]\n",
    "    r2l = [0]\n",
    "    for i in range(len(nums)):\n",
    "        l2r.append(max(l2r[-1],nums[i]))\n",
    "    for i in range(len(nums)-1,-1,-1):\n",
    "        r2l.insert(0,max(r2l[0],nums[i]))\n",
    "    l2r.pop(0)\n",
    "    r2l.pop(-1)\n",
    "    print(l2r)\n",
    "    print(r2l)\n",
    "    all_area = 0\n",
    "    for i in range(len(nums)):\n",
    "        all_area += min(l2r[i],r2l[i]) - nums[i]\n",
    "    return all_area\n",
    "maxAreaHard([1,8,6,2,5,4,8,3,7])"
   ]
  },
  {
   "cell_type": "code",
   "execution_count": 53,
   "metadata": {
    "ExecuteTime": {
     "end_time": "2021-09-01T13:22:07.169222Z",
     "start_time": "2021-09-01T13:22:07.161384Z"
    }
   },
   "outputs": [
    {
     "name": "stdout",
     "output_type": "stream",
     "text": [
      "16\n",
      "12\n",
      "6\n",
      "2\n"
     ]
    },
    {
     "data": {
      "text/plain": [
       "16"
      ]
     },
     "execution_count": 53,
     "metadata": {},
     "output_type": "execute_result"
    }
   ],
   "source": [
    "# 最大储水量，贪心o(1)时间复杂度\n",
    "# [1,8,6,2,5,4,8,3,7] : 49\n",
    "# [4,3,2,1,4] : 16\n",
    "# 左右同时移动，谁小谁移动\n",
    "def maxAreaMedium(nums):\n",
    "    curArea = 0\n",
    "    left_idx = 0\n",
    "    right_idx = len(nums) - 1\n",
    "    maxArea = curArea\n",
    "    while left_idx < right_idx:\n",
    "        curArea = (right_idx - left_idx) * min(nums[left_idx],nums[right_idx])\n",
    "        print(curArea)\n",
    "        maxArea = max(maxArea,curArea)\n",
    "        if nums[left_idx] < nums[right_idx]:\n",
    "            left_idx += 1\n",
    "        else:\n",
    "            right_idx -= 1\n",
    "    return maxArea\n",
    "maxAreaMedium([4,3,2,8,4])"
   ]
  },
  {
   "cell_type": "code",
   "execution_count": 68,
   "metadata": {
    "ExecuteTime": {
     "end_time": "2021-09-01T13:48:46.671463Z",
     "start_time": "2021-09-01T13:48:46.657568Z"
    }
   },
   "outputs": [
    {
     "data": {
      "text/plain": [
       "'XL'"
      ]
     },
     "execution_count": 68,
     "metadata": {},
     "output_type": "execute_result"
    }
   ],
   "source": [
    "# 整型转估罗马\n",
    "def int2Roman(num):\n",
    "    dict_origin = {\n",
    "            1:\"I\",\n",
    "            4:\"IV\",       \n",
    "            5:\"V\",\n",
    "            9:\"IX\",\n",
    "            10:\"X\",\n",
    "            40:\"XL\",\n",
    "            50:\"L\",\n",
    "            90:\"XC\",\n",
    "            100:\"C\",\n",
    "            400:\"CD\",\n",
    "            500:\"D\",\n",
    "            900:\"CM\",\n",
    "            1000:\"M\",\n",
    "            }\n",
    "#     if dict_origin.get(num,False):\n",
    "#         return dict_origin[num]\n",
    "    res = \"\"\n",
    "    cnt, num = divmod(num,1000)\n",
    "    res += cnt * dict_origin[1000]\n",
    "    cnt, num = divmod(num,900)\n",
    "    res += cnt * dict_origin[900]\n",
    "    cnt, num = divmod(num,500)\n",
    "    res += cnt * dict_origin[500]\n",
    "    cnt, num = divmod(num,400)\n",
    "    res += cnt * dict_origin[400]\n",
    "    cnt, num = divmod(num,100)\n",
    "    res += cnt * dict_origin[100]\n",
    "    cnt, num = divmod(num,90)\n",
    "    res += cnt * dict_origin[90]\n",
    "    cnt, num = divmod(num,50)\n",
    "    res += cnt * dict_origin[50]\n",
    "    cnt, num = divmod(num,40)\n",
    "    res += cnt * dict_origin[40]\n",
    "    cnt, num = divmod(num,10)\n",
    "    res += cnt * dict_origin[10]\n",
    "    cnt, num = divmod(num,9)\n",
    "    res += cnt * dict_origin[9]\n",
    "    cnt, num = divmod(num,5)\n",
    "    res += cnt * dict_origin[5]\n",
    "    cnt, num = divmod(num,4)\n",
    "    res += cnt * dict_origin[4]\n",
    "    res += num * dict_origin[1]\n",
    "    return res\n",
    "int2Roman(40)"
   ]
  },
  {
   "cell_type": "code",
   "execution_count": 16,
   "metadata": {
    "ExecuteTime": {
     "end_time": "2021-09-02T12:50:20.866352Z",
     "start_time": "2021-09-02T12:50:20.855754Z"
    }
   },
   "outputs": [
    {
     "data": {
      "text/plain": [
       "{(-4, 0, 4), (-4, 2, 2), (-2, -2, 4), (-2, 0, 2), (-1, -1, 2), (-1, 0, 1)}"
      ]
     },
     "execution_count": 16,
     "metadata": {},
     "output_type": "execute_result"
    }
   ],
   "source": [
    "# [-1,0,1,-1,2,4]\n",
    "def threeSum(nums):\n",
    "    nums = sorted(nums)\n",
    "    res = []\n",
    "    for i in range(len(nums)-2):\n",
    "        if nums[i] > 0:\n",
    "            break\n",
    "        for j in range(i+1,len(nums) -1):\n",
    "            if (nums[i] + nums[j]) > 0 :\n",
    "                break\n",
    "            for k in range(j+1,len(nums)):\n",
    "                if (nums[i] + nums[j] + nums[k]) == 0:\n",
    "                    res.append((nums[i],nums[j],nums[k]))\n",
    "                elif (nums[i] + nums[j] + nums[k]) > 0:\n",
    "                    break\n",
    "    return set(res)\n",
    "threeSum([-1,0,1,-1,2,4,-4,-2,2,-2])"
   ]
  },
  {
   "cell_type": "code",
   "execution_count": 1,
   "metadata": {
    "ExecuteTime": {
     "end_time": "2021-09-14T09:36:02.030534Z",
     "start_time": "2021-09-14T09:36:02.026741Z"
    }
   },
   "outputs": [],
   "source": [
    "def is_prime(n):\n",
    "    if n < 2:\n",
    "        return False\n",
    "    for i in range(2, int(n ** 0.5 + 1)):\n",
    "        if n % i == 0:\n",
    "            return False\n",
    "    return True"
   ]
  },
  {
   "cell_type": "code",
   "execution_count": 4,
   "metadata": {
    "ExecuteTime": {
     "end_time": "2021-09-14T09:37:14.052046Z",
     "start_time": "2021-09-14T09:37:14.048222Z"
    }
   },
   "outputs": [
    {
     "data": {
      "text/plain": [
       "True"
      ]
     },
     "execution_count": 4,
     "metadata": {},
     "output_type": "execute_result"
    }
   ],
   "source": [
    "is_prime(10009)"
   ]
  },
  {
   "cell_type": "code",
   "execution_count": 2,
   "metadata": {
    "ExecuteTime": {
     "end_time": "2021-09-28T12:58:46.858334Z",
     "start_time": "2021-09-28T12:58:46.827693Z"
    }
   },
   "outputs": [
    {
     "data": {
      "text/plain": [
       "TensorShape([2, 4])"
      ]
     },
     "execution_count": 2,
     "metadata": {},
     "output_type": "execute_result"
    }
   ],
   "source": [
    "from tensorflow.keras.layers import Layer\n",
    "import tensorflow as tf\n",
    "class Linear(Layer):\n",
    "    \"\"\" y = w.x + b \"\"\"\n",
    "    \n",
    "    def __init__(self, units=32):\n",
    "        super(Linear, self).__init__()\n",
    "        self.units = units\n",
    "        \n",
    "    def build(self, input_shape):\n",
    "        self.w = self.add_weight(shape=(input_shape[-1], self.units),\n",
    "                                initializer='random_normal',\n",
    "                                trainable=True)\n",
    "        self.b = self.add_weight(shape=(self.units,),\n",
    "                                initializer='random_normal',\n",
    "                                trainable=True)\n",
    "        super(Linear, self).build(input_shape)\n",
    "        \n",
    "        \n",
    "    def call(self, inputs):\n",
    "        return tf.matmul(inputs, self.w) + self.b\n",
    "    \n",
    "# Instantiate our layer\n",
    "linear_layer = Linear(4)\n",
    "\n",
    "# This will also call 'bulid(intput_shape)' and create the weights\n",
    "y = linear_layer(tf.ones((2, 2)))\n",
    "y.shape"
   ]
  }
 ],
 "metadata": {
  "kernelspec": {
   "display_name": "Python 3",
   "language": "python",
   "name": "python3"
  },
  "language_info": {
   "codemirror_mode": {
    "name": "ipython",
    "version": 3
   },
   "file_extension": ".py",
   "mimetype": "text/x-python",
   "name": "python",
   "nbconvert_exporter": "python",
   "pygments_lexer": "ipython3",
   "version": "3.7.4"
  },
  "toc": {
   "base_numbering": 1,
   "nav_menu": {},
   "number_sections": true,
   "sideBar": true,
   "skip_h1_title": false,
   "title_cell": "Table of Contents",
   "title_sidebar": "Contents",
   "toc_cell": false,
   "toc_position": {},
   "toc_section_display": true,
   "toc_window_display": false
  },
  "varInspector": {
   "cols": {
    "lenName": 16,
    "lenType": 16,
    "lenVar": 40
   },
   "kernels_config": {
    "python": {
     "delete_cmd_postfix": "",
     "delete_cmd_prefix": "del ",
     "library": "var_list.py",
     "varRefreshCmd": "print(var_dic_list())"
    },
    "r": {
     "delete_cmd_postfix": ") ",
     "delete_cmd_prefix": "rm(",
     "library": "var_list.r",
     "varRefreshCmd": "cat(var_dic_list()) "
    }
   },
   "types_to_exclude": [
    "module",
    "function",
    "builtin_function_or_method",
    "instance",
    "_Feature"
   ],
   "window_display": false
  }
 },
 "nbformat": 4,
 "nbformat_minor": 4
}
