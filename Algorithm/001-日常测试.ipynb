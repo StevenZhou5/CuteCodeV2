{
 "cells": [
  {
   "cell_type": "code",
   "execution_count": 1,
   "metadata": {
    "ExecuteTime": {
     "end_time": "2020-12-21T15:10:46.354825Z",
     "start_time": "2020-12-21T15:10:45.777846Z"
    }
   },
   "outputs": [],
   "source": [
    "import numpy as np\n",
    "from collections import Counter\n",
    "import pandas as pd"
   ]
  },
  {
   "cell_type": "code",
   "execution_count": 3,
   "metadata": {
    "ExecuteTime": {
     "end_time": "2020-12-21T05:33:22.330700Z",
     "start_time": "2020-12-21T05:33:22.320872Z"
    }
   },
   "outputs": [
    {
     "data": {
      "text/plain": [
       "Counter({'a': 2, 'd': 1, 's': 3})"
      ]
     },
     "execution_count": 3,
     "metadata": {},
     "output_type": "execute_result"
    }
   ],
   "source": [
    "Counter(['a', 'a', 'd', 's', 's', 's'])"
   ]
  },
  {
   "cell_type": "code",
   "execution_count": 3,
   "metadata": {
    "ExecuteTime": {
     "end_time": "2020-12-21T15:12:43.307003Z",
     "start_time": "2020-12-21T15:12:43.299893Z"
    }
   },
   "outputs": [
    {
     "data": {
      "text/html": [
       "<div>\n",
       "<style scoped>\n",
       "    .dataframe tbody tr th:only-of-type {\n",
       "        vertical-align: middle;\n",
       "    }\n",
       "\n",
       "    .dataframe tbody tr th {\n",
       "        vertical-align: top;\n",
       "    }\n",
       "\n",
       "    .dataframe thead th {\n",
       "        text-align: right;\n",
       "    }\n",
       "</style>\n",
       "<table border=\"1\" class=\"dataframe\">\n",
       "  <thead>\n",
       "    <tr style=\"text-align: right;\">\n",
       "      <th></th>\n",
       "      <th>data1</th>\n",
       "      <th>data2</th>\n",
       "    </tr>\n",
       "  </thead>\n",
       "  <tbody>\n",
       "    <tr>\n",
       "      <th>0</th>\n",
       "      <td>1</td>\n",
       "      <td>3</td>\n",
       "    </tr>\n",
       "    <tr>\n",
       "      <th>1</th>\n",
       "      <td>2</td>\n",
       "      <td>4</td>\n",
       "    </tr>\n",
       "  </tbody>\n",
       "</table>\n",
       "</div>"
      ],
      "text/plain": [
       "   data1  data2\n",
       "0      1      3\n",
       "1      2      4"
      ]
     },
     "execution_count": 3,
     "metadata": {},
     "output_type": "execute_result"
    }
   ],
   "source": [
    "pd.DataFrame({\"data1\":[1,2],\n",
    "              \"data2\":[3,4]},dtype=np.int16)"
   ]
  },
  {
   "cell_type": "code",
   "execution_count": 2,
   "metadata": {
    "ExecuteTime": {
     "end_time": "2020-12-18T03:08:01.350380Z",
     "start_time": "2020-12-18T03:08:01.346212Z"
    }
   },
   "outputs": [
    {
     "data": {
      "text/plain": [
       "['a', 'a', 'd', 's', 's', 's']"
      ]
     },
     "execution_count": 2,
     "metadata": {},
     "output_type": "execute_result"
    }
   ],
   "source": [
    "s= \"sssaad\"\n",
    "s_list = sorted(s)\n",
    "s_list"
   ]
  },
  {
   "cell_type": "code",
   "execution_count": null,
   "metadata": {},
   "outputs": [],
   "source": [
    "#阿斯克码\n",
    "ord('z') - ord('a')"
   ]
  },
  {
   "cell_type": "code",
   "execution_count": 7,
   "metadata": {
    "ExecuteTime": {
     "end_time": "2020-12-21T12:47:04.194592Z",
     "start_time": "2020-12-21T12:47:04.190223Z"
    }
   },
   "outputs": [
    {
     "name": "stdout",
     "output_type": "stream",
     "text": [
      "2020-12-21\n"
     ]
    },
    {
     "data": {
      "text/plain": [
       "datetime.date(2020, 8, 27)"
      ]
     },
     "execution_count": 7,
     "metadata": {},
     "output_type": "execute_result"
    }
   ],
   "source": [
    "from datetime import date,timedelta\n",
    "\n",
    "today = date.today()\n",
    "print(today)\n",
    "\n",
    "day_after100 = today - timedelta(days=116)\n",
    "day_after100"
   ]
  },
  {
   "cell_type": "code",
   "execution_count": 14,
   "metadata": {},
   "outputs": [
    {
     "data": {
      "text/plain": [
       "True"
      ]
     },
     "execution_count": 14,
     "metadata": {},
     "output_type": "execute_result"
    }
   ],
   "source": [
    "'1' > ''"
   ]
  },
  {
   "cell_type": "code",
   "execution_count": 16,
   "metadata": {},
   "outputs": [
    {
     "data": {
      "text/plain": [
       "10"
      ]
     },
     "execution_count": 16,
     "metadata": {},
     "output_type": "execute_result"
    }
   ],
   "source": [
    "int('0010')"
   ]
  },
  {
   "cell_type": "code",
   "execution_count": 14,
   "metadata": {},
   "outputs": [
    {
     "data": {
      "text/plain": [
       "0.015199999999999991"
      ]
     },
     "execution_count": 14,
     "metadata": {},
     "output_type": "execute_result"
    }
   ],
   "source": [
    "0.6942 - 0.679"
   ]
  },
  {
   "cell_type": "code",
   "execution_count": 13,
   "metadata": {},
   "outputs": [
    {
     "data": {
      "text/plain": [
       "0.02238586156111928"
      ]
     },
     "execution_count": 13,
     "metadata": {},
     "output_type": "execute_result"
    }
   ],
   "source": [
    "() / 0.679"
   ]
  },
  {
   "cell_type": "code",
   "execution_count": 12,
   "metadata": {},
   "outputs": [
    {
     "data": {
      "text/plain": [
       "5.623413251903491"
      ]
     },
     "execution_count": 12,
     "metadata": {},
     "output_type": "execute_result"
    }
   ],
   "source": [
    "1000**0.25"
   ]
  },
  {
   "cell_type": "code",
   "execution_count": 11,
   "metadata": {},
   "outputs": [
    {
     "data": {
      "text/plain": [
       "6.907755278982137"
      ]
     },
     "execution_count": 11,
     "metadata": {},
     "output_type": "execute_result"
    }
   ],
   "source": [
    "import numpy as np\n",
    "np.log(1000)"
   ]
  },
  {
   "cell_type": "code",
   "execution_count": 5,
   "metadata": {},
   "outputs": [
    {
     "data": {
      "text/plain": [
       "[0, 1, 2, 3, 4]"
      ]
     },
     "execution_count": 5,
     "metadata": {},
     "output_type": "execute_result"
    }
   ],
   "source": [
    "a = [0,1,2]\n",
    "a.extend([3,4])\n",
    "a"
   ]
  },
  {
   "cell_type": "code",
   "execution_count": 19,
   "metadata": {},
   "outputs": [
    {
     "data": {
      "text/plain": [
       "1"
      ]
     },
     "execution_count": 19,
     "metadata": {},
     "output_type": "execute_result"
    }
   ],
   "source": [
    "\"dsd\".index('s')"
   ]
  },
  {
   "cell_type": "code",
   "execution_count": 3,
   "metadata": {},
   "outputs": [
    {
     "data": {
      "text/plain": [
       "[0, 1, 2]"
      ]
     },
     "execution_count": 3,
     "metadata": {},
     "output_type": "execute_result"
    }
   ],
   "source": [
    "[0,1,2,4][:-1]"
   ]
  },
  {
   "cell_type": "code",
   "execution_count": null,
   "metadata": {},
   "outputs": [],
   "source": [
    "from collections import defaultdict"
   ]
  },
  {
   "cell_type": "code",
   "execution_count": 13,
   "metadata": {},
   "outputs": [
    {
     "name": "stdout",
     "output_type": "stream",
     "text": [
      "deque([1, 2, 3])\n",
      "None\n"
     ]
    },
    {
     "data": {
      "text/plain": [
       "deque([1, 2, 3, 4, 5])"
      ]
     },
     "execution_count": 13,
     "metadata": {},
     "output_type": "execute_result"
    }
   ],
   "source": [
    "from collections import deque\n",
    "l = deque([1,2,3])\n",
    "print(l)\n",
    "l.extend([4,5])\n",
    "\n",
    "print()\n",
    "l"
   ]
  },
  {
   "cell_type": "code",
   "execution_count": 17,
   "metadata": {},
   "outputs": [
    {
     "data": {
      "text/plain": [
       "[0, 0, 0, 0, 0, 1, 0, 0, 0, 0, 0, 0, 0, 0, 0, 0, 0, 0, 0, 0, 0, 0, 0, 0, 0, 0]"
      ]
     },
     "execution_count": 17,
     "metadata": {},
     "output_type": "execute_result"
    }
   ],
   "source": [
    "[0 if i != 5 else 1 for i in range(26)]"
   ]
  },
  {
   "cell_type": "code",
   "execution_count": 18,
   "metadata": {},
   "outputs": [
    {
     "data": {
      "text/plain": [
       "[0, 0, 0, 0, 0, 1, 0, 0, 0, 0, 0, 0, 1, 0]"
      ]
     },
     "execution_count": 18,
     "metadata": {},
     "output_type": "execute_result"
    }
   ],
   "source": [
    "[0, 0, 0, 0, 0, 1, 0] + [0, 0, 0, 0, 0, 1, 0]"
   ]
  },
  {
   "cell_type": "code",
   "execution_count": 1,
   "metadata": {},
   "outputs": [
    {
     "data": {
      "text/plain": [
       "False"
      ]
     },
     "execution_count": 1,
     "metadata": {},
     "output_type": "execute_result"
    }
   ],
   "source": [
    "dic = {}\n",
    "1 in dic"
   ]
  },
  {
   "cell_type": "code",
   "execution_count": 6,
   "metadata": {},
   "outputs": [
    {
     "data": {
      "text/plain": [
       "[6, 0, 2, 3, 4]"
      ]
     },
     "execution_count": 6,
     "metadata": {},
     "output_type": "execute_result"
    }
   ],
   "source": [
    "a = [6,0,1,2,3,4]\n",
    "a.remove(1)\n",
    "a"
   ]
  },
  {
   "cell_type": "code",
   "execution_count": 8,
   "metadata": {},
   "outputs": [
    {
     "data": {
      "text/plain": [
       "'123'"
      ]
     },
     "execution_count": 8,
     "metadata": {},
     "output_type": "execute_result"
    }
   ],
   "source": [
    "\"\".join([\"1\",\"2\",\"3\"])"
   ]
  },
  {
   "cell_type": "code",
   "execution_count": 21,
   "metadata": {},
   "outputs": [
    {
     "name": "stdout",
     "output_type": "stream",
     "text": [
      "8 []\n",
      "[]\n",
      "7 [8]\n",
      "[8]\n",
      "9 [8, 7]\n",
      "xx 9 [8, 7]\n",
      "xx 9 [8]\n",
      "[]\n"
     ]
    },
    {
     "data": {
      "text/plain": [
       "[9]"
      ]
     },
     "execution_count": 21,
     "metadata": {},
     "output_type": "execute_result"
    }
   ],
   "source": [
    "def get_max_nums(nums,n):\n",
    "            if not n :\n",
    "                return []\n",
    "            if len(nums) <= n:\n",
    "                return nums\n",
    "            res = []\n",
    "            max_remove_count = len(nums) - n\n",
    "            for num in nums:\n",
    "                print(num,res)\n",
    "                while max_remove_count > 0 and res and num > res[-1]:\n",
    "                    print(\"xx\",num,res)\n",
    "                    res.pop()\n",
    "                    max_remove_count -=1\n",
    "                print(res)\n",
    "                res.append(num)\n",
    "            return res[:n]\n",
    "get_max_nums([8,7,9],1)"
   ]
  },
  {
   "cell_type": "code",
   "execution_count": 5,
   "metadata": {},
   "outputs": [
    {
     "data": {
      "text/plain": [
       "True"
      ]
     },
     "execution_count": 5,
     "metadata": {},
     "output_type": "execute_result"
    }
   ],
   "source": [
    "[1,2,3] > [0,1,4]"
   ]
  },
  {
   "cell_type": "code",
   "execution_count": 8,
   "metadata": {},
   "outputs": [
    {
     "data": {
      "text/plain": [
       "True"
      ]
     },
     "execution_count": 8,
     "metadata": {},
     "output_type": "execute_result"
    }
   ],
   "source": [
    "[7, 6, 0, 4] > [6, 7, 6, 0, 4]"
   ]
  },
  {
   "cell_type": "code",
   "execution_count": 15,
   "metadata": {},
   "outputs": [
    {
     "data": {
      "text/plain": [
       "[6, 0, 4]"
      ]
     },
     "execution_count": 15,
     "metadata": {},
     "output_type": "execute_result"
    }
   ],
   "source": [
    "[7, 6, 0, 4][-3:]"
   ]
  },
  {
   "cell_type": "code",
   "execution_count": 7,
   "metadata": {},
   "outputs": [
    {
     "name": "stdout",
     "output_type": "stream",
     "text": [
      "a\n"
     ]
    }
   ],
   "source": [
    "if not []:\n",
    "    print(\"a\")"
   ]
  },
  {
   "cell_type": "code",
   "execution_count": 15,
   "metadata": {},
   "outputs": [
    {
     "data": {
      "text/plain": [
       "[1, 2, 3, 4, 5]"
      ]
     },
     "execution_count": 15,
     "metadata": {},
     "output_type": "execute_result"
    }
   ],
   "source": [
    "a = [i for i in range(5,0,-1)]\n",
    "a.reverse()\n",
    "a"
   ]
  },
  {
   "cell_type": "code",
   "execution_count": 2,
   "metadata": {},
   "outputs": [
    {
     "data": {
      "text/plain": [
       "3"
      ]
     },
     "execution_count": 2,
     "metadata": {},
     "output_type": "execute_result"
    }
   ],
   "source": [
    "(8-1)>>1"
   ]
  },
  {
   "cell_type": "code",
   "execution_count": 1,
   "metadata": {},
   "outputs": [
    {
     "data": {
      "text/plain": [
       "14"
      ]
     },
     "execution_count": 1,
     "metadata": {},
     "output_type": "execute_result"
    }
   ],
   "source": [
    "(8-1)<<1"
   ]
  },
  {
   "cell_type": "code",
   "execution_count": 6,
   "metadata": {},
   "outputs": [
    {
     "data": {
      "text/plain": [
       "2"
      ]
     },
     "execution_count": 6,
     "metadata": {},
     "output_type": "execute_result"
    }
   ],
   "source": [
    "round(3**0.5)"
   ]
  },
  {
   "cell_type": "code",
   "execution_count": 2,
   "metadata": {},
   "outputs": [],
   "source": [
    "for i in range(2,1):\n",
    "    print(i)"
   ]
  },
  {
   "cell_type": "code",
   "execution_count": 5,
   "metadata": {},
   "outputs": [
    {
     "data": {
      "text/plain": [
       "2"
      ]
     },
     "execution_count": 5,
     "metadata": {},
     "output_type": "execute_result"
    }
   ],
   "source": [
    "(10-1)>>1 +1"
   ]
  },
  {
   "cell_type": "code",
   "execution_count": 7,
   "metadata": {},
   "outputs": [
    {
     "data": {
      "text/plain": [
       "0"
      ]
     },
     "execution_count": 7,
     "metadata": {},
     "output_type": "execute_result"
    }
   ],
   "source": [
    "34 % 10^4"
   ]
  },
  {
   "cell_type": "code",
   "execution_count": 1,
   "metadata": {},
   "outputs": [
    {
     "data": {
      "text/plain": [
       "{'a', 'b'}"
      ]
     },
     "execution_count": 1,
     "metadata": {},
     "output_type": "execute_result"
    }
   ],
   "source": [
    "a = set()\n",
    "a.add('b')\n",
    "a.add('a')\n",
    "a"
   ]
  },
  {
   "cell_type": "code",
   "execution_count": 5,
   "metadata": {},
   "outputs": [
    {
     "data": {
      "text/plain": [
       "'ba'"
      ]
     },
     "execution_count": 5,
     "metadata": {},
     "output_type": "execute_result"
    }
   ],
   "source": [
    "\"\".join(sorted(a,reverse=True))"
   ]
  },
  {
   "cell_type": "code",
   "execution_count": 11,
   "metadata": {},
   "outputs": [
    {
     "data": {
      "text/plain": [
       "{'a'}"
      ]
     },
     "execution_count": 11,
     "metadata": {},
     "output_type": "execute_result"
    }
   ],
   "source": [
    "a.add('a')\n",
    "a"
   ]
  },
  {
   "cell_type": "code",
   "execution_count": 6,
   "metadata": {},
   "outputs": [
    {
     "data": {
      "text/plain": [
       "-5"
      ]
     },
     "execution_count": 6,
     "metadata": {},
     "output_type": "execute_result"
    }
   ],
   "source": [
    "a= 5\n",
    "-a"
   ]
  },
  {
   "cell_type": "code",
   "execution_count": 13,
   "metadata": {},
   "outputs": [
    {
     "name": "stdout",
     "output_type": "stream",
     "text": [
      "a\n",
      "s\n",
      "d\n",
      "s\n"
     ]
    }
   ],
   "source": [
    "for c in \"asds\":\n",
    "    print(c)"
   ]
  },
  {
   "cell_type": "code",
   "execution_count": 16,
   "metadata": {},
   "outputs": [
    {
     "data": {
      "text/plain": [
       "'<reversed object at 0x7fafa4933610>'"
      ]
     },
     "execution_count": 16,
     "metadata": {},
     "output_type": "execute_result"
    }
   ],
   "source": [
    "a = str(reversed(\"aasd\"))\n",
    "a"
   ]
  },
  {
   "cell_type": "code",
   "execution_count": 17,
   "metadata": {},
   "outputs": [
    {
     "data": {
      "text/plain": [
       "'dsaa'"
      ]
     },
     "execution_count": 17,
     "metadata": {},
     "output_type": "execute_result"
    }
   ],
   "source": [
    "a = \"aasd\"\n",
    "a[::-1]"
   ]
  },
  {
   "cell_type": "code",
   "execution_count": 6,
   "metadata": {},
   "outputs": [
    {
     "data": {
      "text/plain": [
       "[(0, 0),\n",
       " (0, 1),\n",
       " (0, 2),\n",
       " (0, 3),\n",
       " (0, 4),\n",
       " (1, 0),\n",
       " (1, 1),\n",
       " (1, 2),\n",
       " (1, 3),\n",
       " (1, 4),\n",
       " (2, 0),\n",
       " (2, 1),\n",
       " (2, 2),\n",
       " (2, 3),\n",
       " (2, 4)]"
      ]
     },
     "execution_count": 6,
     "metadata": {},
     "output_type": "execute_result"
    }
   ],
   "source": [
    "[(i,j) for i in range(3) for j in range(5)]"
   ]
  },
  {
   "cell_type": "code",
   "execution_count": 23,
   "metadata": {},
   "outputs": [
    {
     "name": "stdout",
     "output_type": "stream",
     "text": [
      "[[7, 7, 12], [13, 11, 6], [8, 13, 13]]\n",
      "[[[7], [7], [5, 7]], [[2, 4, 7], [4, 7], [6]], [[8], [2, 4, 7], [0, 2, 4, 7]]]\n"
     ]
    },
    {
     "data": {
      "text/plain": [
       "[2, 4, 7]"
      ]
     },
     "execution_count": 23,
     "metadata": {},
     "output_type": "execute_result"
    }
   ],
   "source": [
    "# 值最大值的递增路径\n",
    "def longestIncreasingPath(matrix):\n",
    "        rows = len(matrix)\n",
    "        columns = len(matrix[0])\n",
    "#         print(rows)\n",
    "#         print(columns)\n",
    "        max_val_matrix = [[matrix[i][j] for j in range(columns)] for i in range(rows) ]\n",
    "        max_path_matrix = [[[matrix[i][j]] for j in range(columns)] for i in range(rows) ]\n",
    "#         print(max_val_matrix)\n",
    "#         print(max_path_matrix)\n",
    "        max_sum_val = 0\n",
    "        ans_path = []\n",
    "        passed = []\n",
    "        def reset_longest_path(row_idx,columns_idx):\n",
    "            if (row_idx,columns_idx) in passed:\n",
    "                return\n",
    "            cur_val = matrix[row_idx][columns_idx]\n",
    "            max_val = 0\n",
    "            max_path = []\n",
    "            # 上\n",
    "            if (row_idx-1) >= 0 and matrix[row_idx-1][columns_idx]>cur_val:\n",
    "                reset_longest_path(row_idx-1,columns_idx)\n",
    "                new_val = max_val_matrix[row_idx-1][columns_idx]\n",
    "                if new_val > max_val:\n",
    "                    max_val = new_val\n",
    "                    max_path = max_path_matrix[row_idx-1][columns_idx]\n",
    "                \n",
    "            # 下\n",
    "            if (row_idx+1) < rows and matrix[row_idx+1][columns_idx]>cur_val:\n",
    "                reset_longest_path(row_idx+1,columns_idx)\n",
    "                new_val = max_val_matrix[row_idx+1][columns_idx]\n",
    "                if new_val > max_val:\n",
    "                    max_val = new_val\n",
    "                    max_path = max_path_matrix[row_idx+1][columns_idx]\n",
    "\n",
    "            # 左\n",
    "            if (columns_idx-1) >= 0 and matrix[row_idx][columns_idx-1]>cur_val:\n",
    "                reset_longest_path(row_idx,columns_idx-1)\n",
    "                new_val = max_val_matrix[row_idx][columns_idx-1]\n",
    "                if new_val > max_val:\n",
    "                    max_val = new_val\n",
    "                    max_path = max_path_matrix[row_idx][columns_idx-1]\n",
    "\n",
    "            # 右\n",
    "            if (columns_idx+1) < columns and matrix[row_idx][columns_idx+1]>cur_val:\n",
    "                reset_longest_path(row_idx,columns_idx+1)\n",
    "                new_val = max_val_matrix[row_idx][columns_idx+1]\n",
    "                if new_val > max_val:\n",
    "                    max_val = new_val\n",
    "                    max_path = max_path_matrix[row_idx][columns_idx+1]\n",
    "            \n",
    "            max_val_matrix[row_idx][columns_idx] += max_val\n",
    "            max_path_matrix[row_idx][columns_idx].extend(max_path)\n",
    "            passed.append((row_idx,columns_idx))\n",
    "            \n",
    "            \n",
    "        \n",
    "        for i in range(rows):\n",
    "            for j in range(columns):\n",
    "                if (i,j) not in passed:\n",
    "                    reset_longest_path(i,j)\n",
    "                if max_val_matrix[i][j] > max_sum_val:\n",
    "                    max_sum_val = max_val_matrix[i][j]\n",
    "                    ans_path = max_path_matrix[i][j]\n",
    "        print(max_val_matrix)\n",
    "        print(max_path_matrix)\n",
    "        return ans_path\n",
    "        \n",
    "# longestIncreasingPath([\n",
    "#   [9,9,4],\n",
    "#   [6,6,8],\n",
    "#   [2,1,1]\n",
    "# ] )\n",
    "longestIncreasingPath([[7,7,5],[2,4,6],[8,2,0]])\n"
   ]
  },
  {
   "cell_type": "code",
   "execution_count": 29,
   "metadata": {},
   "outputs": [
    {
     "name": "stdout",
     "output_type": "stream",
     "text": [
      "[[1, 1, 2], [3, 2, 1], [1, 3, 4]]\n"
     ]
    },
    {
     "data": {
      "text/plain": [
       "4"
      ]
     },
     "execution_count": 29,
     "metadata": {},
     "output_type": "execute_result"
    }
   ],
   "source": [
    "# 路径最长的递增路径\n",
    "def longestIncreasingPath(matrix):\n",
    "        rows = len(matrix)\n",
    "        columns = len(matrix[0])\n",
    "        max_path_len_matrix = [[1 for j in range(columns)] for i in range(rows) ]\n",
    "        passed = []\n",
    "        def reset_longest_path(row_idx,columns_idx):\n",
    "            if (row_idx,columns_idx) in passed:\n",
    "                return\n",
    "            cur_val = matrix[row_idx][columns_idx]\n",
    "            max_len = 0\n",
    "            max_path = []\n",
    "            # 上\n",
    "            if (row_idx-1) >= 0 and matrix[row_idx-1][columns_idx]>cur_val:\n",
    "                reset_longest_path(row_idx-1,columns_idx)\n",
    "                cur_path_len = max_path_len_matrix[row_idx-1][columns_idx]\n",
    "                if cur_path_len > max_len:\n",
    "                    max_len = cur_path_len\n",
    "                \n",
    "            # 下\n",
    "            if (row_idx+1) < rows and matrix[row_idx+1][columns_idx]>cur_val:\n",
    "                reset_longest_path(row_idx+1,columns_idx)\n",
    "                cur_path_len = max_path_len_matrix[row_idx+1][columns_idx]\n",
    "                if cur_path_len > max_len:\n",
    "                    max_len = cur_path_len\n",
    "\n",
    "            # 左\n",
    "            if (columns_idx-1) >= 0 and matrix[row_idx][columns_idx-1]>cur_val:\n",
    "                reset_longest_path(row_idx,columns_idx-1)\n",
    "                cur_path_len = max_path_len_matrix[row_idx][columns_idx-1]\n",
    "                if cur_path_len > max_len:\n",
    "                    max_len = cur_path_len\n",
    "\n",
    "            # 右\n",
    "            if (columns_idx+1) < columns and matrix[row_idx][columns_idx+1]>cur_val:\n",
    "                reset_longest_path(row_idx,columns_idx+1)\n",
    "                cur_path_len = max_path_len_matrix[row_idx][columns_idx+1]\n",
    "                if cur_path_len > max_len:\n",
    "                    max_len = cur_path_len\n",
    "            \n",
    "            max_path_len_matrix[row_idx][columns_idx]+=max_len\n",
    "            passed.append((row_idx,columns_idx))\n",
    "            \n",
    "            \n",
    "        ans = 0\n",
    "        for i in range(rows):\n",
    "            for j in range(columns):\n",
    "                if (i,j) not in passed:\n",
    "                    reset_longest_path(i,j)\n",
    "                if max_path_len_matrix[i][j] > ans:\n",
    "                    ans = max_path_len_matrix[i][j]\n",
    "        print(max_path_len_matrix)\n",
    "        return ans\n",
    "longestIncreasingPath([[7,7,5],[2,4,6],[8,2,0]])"
   ]
  },
  {
   "cell_type": "code",
   "execution_count": 35,
   "metadata": {},
   "outputs": [
    {
     "name": "stdout",
     "output_type": "stream",
     "text": [
      "13230\n"
     ]
    }
   ],
   "source": [
    "A = [[0,0],\n",
    "     [0,0],\n",
    "     [0,0]]\n",
    "rows = len(A)\n",
    "columns = len(A[0])\n",
    "count = 0\n",
    "positions = [(0,0),(0,1),(1,0),(1,1),(2,0),(2,1)]\n",
    "position_count = len(positions)\n",
    "def cover_current_area(position):\n",
    "    i,j = positions[position]\n",
    "    global count \n",
    "    vals = [1,2,3,4,5,6]\n",
    "    if i-1 >= 0 and A[i-1][j] in vals:\n",
    "        vals.remove(A[i-1][j])\n",
    "    if i+1 < rows and A[i+1][j] in vals:\n",
    "        vals.remove(A[i+1][j])\n",
    "    if j-1 >= 0 and A[i][j-1] in vals:\n",
    "        vals.remove(A[i][j-1])\n",
    "    if j+1 < columns and A[i][j+1] in vals:\n",
    "        vals.remove(A[i][j+1])\n",
    "    for val in vals:\n",
    "        A[i][j] = val\n",
    "        if position == position_count-1:\n",
    "            count +=1\n",
    "#             print(count)\n",
    "            A[i][j] = 0\n",
    "            continue\n",
    "        cover_current_area(position+1)\n",
    "        A[i][j] = 0\n",
    "        \n",
    "cover_current_area(0)\n",
    "    \n",
    "# for v00 in [1,2,3,4,5,6]:\n",
    "#     A = [[0,0],\n",
    "#          [0,0],\n",
    "#          [0,0]]\n",
    "    \n",
    "#     A[0][0] = v00\n",
    "#     vals2 = [1,2,3,4,5,6]\n",
    "#     vals2.remove(A[0][0])\n",
    "#     for v01 in vals2:\n",
    "#         A[0][1] = v01\n",
    "#         vals3 = [1,2,3,4,5,6]\n",
    "#         vals3.remove(A[0][0])\n",
    "#         for v10 in vals3:\n",
    "#             A[1][0] = v10\n",
    "#             vals4 = [1,2,3,4,5,6]\n",
    "#             if A[0][1] == A[1][0]:\n",
    "#                 vals4.remove(A[0][1])\n",
    "#             else:\n",
    "#                 vals4.remove(A[0][1])\n",
    "#                 vals4.remove(A[1][0])\n",
    "#             for v11 in vals4:\n",
    "#                 A[1][1] = v11\n",
    "#                 vals5 = [1,2,3,4,5,6]\n",
    "#                 vals5.remove(A[1][0])\n",
    "#                 for v21 in vals5:\n",
    "#                     A[2][0] = v21\n",
    "#                     vals6 = [1,2,3,4,5,6]\n",
    "#                     if A[1][1] == A[2][0]:\n",
    "#                         vals6.remove(A[1][1])\n",
    "#                     else:\n",
    "#                         vals6.remove(A[1][1])\n",
    "#                         vals6.remove(A[2][0])\n",
    "#                     for v22 in vals6:\n",
    "#                         A[2][1] = v22\n",
    "#                         if count < 10:\n",
    "#                             print(A)\n",
    "#                         count += 1\n",
    "            \n",
    "print(count)"
   ]
  },
  {
   "cell_type": "code",
   "execution_count": 1,
   "metadata": {},
   "outputs": [
    {
     "data": {
      "text/plain": [
       "[3]"
      ]
     },
     "execution_count": 1,
     "metadata": {},
     "output_type": "execute_result"
    }
   ],
   "source": [
    "a = [3,5]\n",
    "a.remove(5)\n",
    "a"
   ]
  },
  {
   "cell_type": "code",
   "execution_count": 28,
   "metadata": {},
   "outputs": [],
   "source": [
    "count = 0"
   ]
  },
  {
   "cell_type": "code",
   "execution_count": 43,
   "metadata": {},
   "outputs": [
    {
     "name": "stdout",
     "output_type": "stream",
     "text": [
      "[(1, 2), (2, 3), (3, 4)]\n",
      "[(1, 5), (2, 6), (3, 7)]\n",
      "[(1, 2, 3), (2, 3, 4)]\n"
     ]
    }
   ],
   "source": [
    "a = [1,2,3]\n",
    "b = [2,3,4]\n",
    "c = [5,6,7,8]\n",
    "zipped = list(zip(a,b))\n",
    "print(zipped)\n",
    "print(list(zip(a,c))) # 当长度不一会的时候以短的为主\n",
    "print(list(zip(*zipped)))"
   ]
  },
  {
   "cell_type": "code",
   "execution_count": 5,
   "metadata": {},
   "outputs": [
    {
     "name": "stdout",
     "output_type": "stream",
     "text": [
      "0.0031999999999999806 0.0034162485320806883\n",
      "0.0013000000000000789 0.0014164305949009358\n",
      "0.0027000000000000357 0.0037411666897603376\n"
     ]
    }
   ],
   "source": [
    "base = [0.9367,0.9178,0.7217]\n",
    "real = [0.9399,0.9191,0.7244]\n",
    "for i in range(3):\n",
    "    d1 = real[i] - base[i]\n",
    "    d1_rate = d1 / base[i]\n",
    "    print(d1,d1_rate)"
   ]
  },
  {
   "cell_type": "code",
   "execution_count": 1,
   "metadata": {},
   "outputs": [
    {
     "data": {
      "text/plain": [
       "2422"
      ]
     },
     "execution_count": 1,
     "metadata": {},
     "output_type": "execute_result"
    }
   ],
   "source": [
    "1600771438 - 1600769016"
   ]
  },
  {
   "cell_type": "code",
   "execution_count": 2,
   "metadata": {},
   "outputs": [
    {
     "data": {
      "text/plain": [
       "(40, 22)"
      ]
     },
     "execution_count": 2,
     "metadata": {},
     "output_type": "execute_result"
    }
   ],
   "source": [
    "divmod(2422,60)"
   ]
  },
  {
   "cell_type": "code",
   "execution_count": 49,
   "metadata": {},
   "outputs": [
    {
     "ename": "SyntaxError",
     "evalue": "invalid syntax (<ipython-input-49-7e1f08831ff4>, line 6)",
     "output_type": "error",
     "traceback": [
      "\u001b[0;36m  File \u001b[0;32m\"<ipython-input-49-7e1f08831ff4>\"\u001b[0;36m, line \u001b[0;32m6\u001b[0m\n\u001b[0;31m    def __==__(self,node):\u001b[0m\n\u001b[0m           ^\u001b[0m\n\u001b[0;31mSyntaxError\u001b[0m\u001b[0;31m:\u001b[0m invalid syntax\n"
     ]
    }
   ],
   "source": [
    "class ListNode:\n",
    "    def __init__(self,val):\n",
    "        self.val = val\n",
    "        self.next = None\n",
    "    \n",
    "    def __==__(self,node):\n",
    "        if self.val == node.val:\n",
    "            retur True\n",
    "        return False\n",
    "\n",
    "a_list = ListNode(1) # a_list : 1->3->4\n",
    "\n",
    "b_list = ListNode(1) # b_list : 1->3->4\n",
    "\n",
    "c = ListNode(3)\n",
    "d = ListNode(4)\n",
    "\n",
    "a_list.next = c\n",
    "b_list.next = c\n",
    "c.next = d\n",
    "\n",
    "e = a_list.next\n",
    "f = b_list.next"
   ]
  },
  {
   "cell_type": "code",
   "execution_count": null,
   "metadata": {},
   "outputs": [],
   "source": []
  },
  {
   "cell_type": "code",
   "execution_count": 39,
   "metadata": {},
   "outputs": [
    {
     "data": {
      "text/plain": [
       "True"
      ]
     },
     "execution_count": 39,
     "metadata": {},
     "output_type": "execute_result"
    }
   ],
   "source": [
    "a_list.next == c"
   ]
  },
  {
   "cell_type": "code",
   "execution_count": 42,
   "metadata": {},
   "outputs": [],
   "source": [
    "def print_list(node):\n",
    "    cur = node\n",
    "    print(cur.val)\n",
    "    while cur.next:\n",
    "        cur = cur.next\n",
    "        print(cur.val)"
   ]
  },
  {
   "cell_type": "code",
   "execution_count": 43,
   "metadata": {},
   "outputs": [
    {
     "name": "stdout",
     "output_type": "stream",
     "text": [
      "1\n",
      "3\n",
      "4\n"
     ]
    }
   ],
   "source": [
    "print_list(a_list)"
   ]
  },
  {
   "cell_type": "code",
   "execution_count": 44,
   "metadata": {},
   "outputs": [
    {
     "name": "stdout",
     "output_type": "stream",
     "text": [
      "2\n",
      "3\n",
      "4\n"
     ]
    }
   ],
   "source": [
    "print_list(b_list)"
   ]
  },
  {
   "cell_type": "code",
   "execution_count": 45,
   "metadata": {},
   "outputs": [
    {
     "data": {
      "text/plain": [
       "True"
      ]
     },
     "execution_count": 45,
     "metadata": {},
     "output_type": "execute_result"
    }
   ],
   "source": [
    "e == c"
   ]
  },
  {
   "cell_type": "code",
   "execution_count": 46,
   "metadata": {},
   "outputs": [
    {
     "data": {
      "text/plain": [
       "True"
      ]
     },
     "execution_count": 46,
     "metadata": {},
     "output_type": "execute_result"
    }
   ],
   "source": [
    "e == f"
   ]
  },
  {
   "cell_type": "code",
   "execution_count": 47,
   "metadata": {},
   "outputs": [
    {
     "data": {
      "text/plain": [
       "True"
      ]
     },
     "execution_count": 47,
     "metadata": {},
     "output_type": "execute_result"
    }
   ],
   "source": [
    "f == c"
   ]
  },
  {
   "cell_type": "code",
   "execution_count": 4,
   "metadata": {},
   "outputs": [
    {
     "data": {
      "text/plain": [
       "[1]"
      ]
     },
     "execution_count": 4,
     "metadata": {},
     "output_type": "execute_result"
    }
   ],
   "source": [
    "[1,2,3][0:1]"
   ]
  },
  {
   "cell_type": "code",
   "execution_count": 4,
   "metadata": {},
   "outputs": [
    {
     "data": {
      "text/plain": [
       "[0, 0, 1, 1, 1]"
      ]
     },
     "execution_count": 4,
     "metadata": {},
     "output_type": "execute_result"
    }
   ],
   "source": [
    "a = [0,0,0,1,1,1]\n",
    "a.remove(0)\n",
    "a"
   ]
  },
  {
   "cell_type": "code",
   "execution_count": 5,
   "metadata": {},
   "outputs": [
    {
     "data": {
      "text/plain": [
       "[0, 0, 1, 1]"
      ]
     },
     "execution_count": 5,
     "metadata": {},
     "output_type": "execute_result"
    }
   ],
   "source": [
    "a.remove(1)\n",
    "a"
   ]
  },
  {
   "cell_type": "code",
   "execution_count": 7,
   "metadata": {},
   "outputs": [
    {
     "data": {
      "text/plain": [
       "4"
      ]
     },
     "execution_count": 7,
     "metadata": {},
     "output_type": "execute_result"
    }
   ],
   "source": [
    "import random\n",
    "random.randint(0,10)"
   ]
  },
  {
   "cell_type": "code",
   "execution_count": 9,
   "metadata": {},
   "outputs": [
    {
     "data": {
      "text/plain": [
       "2"
      ]
     },
     "execution_count": 9,
     "metadata": {},
     "output_type": "execute_result"
    }
   ],
   "source": [
    "random.randint(0,10)"
   ]
  },
  {
   "cell_type": "code",
   "execution_count": 12,
   "metadata": {},
   "outputs": [
    {
     "data": {
      "text/plain": [
       "9"
      ]
     },
     "execution_count": 12,
     "metadata": {},
     "output_type": "execute_result"
    }
   ],
   "source": [
    "random.choice([1, 2, 3, 4, 5, 6, 7, 8, 9, 0]) "
   ]
  },
  {
   "cell_type": "code",
   "execution_count": 14,
   "metadata": {},
   "outputs": [
    {
     "data": {
      "text/plain": [
       "True"
      ]
     },
     "execution_count": 14,
     "metadata": {},
     "output_type": "execute_result"
    }
   ],
   "source": [
    "not None"
   ]
  },
  {
   "cell_type": "code",
   "execution_count": 1,
   "metadata": {},
   "outputs": [],
   "source": [
    "a = {1:5,2:6}"
   ]
  },
  {
   "cell_type": "code",
   "execution_count": 4,
   "metadata": {},
   "outputs": [
    {
     "name": "stdout",
     "output_type": "stream",
     "text": [
      "5\n",
      "6\n"
     ]
    }
   ],
   "source": [
    "for v in a.values():\n",
    "    print(v)"
   ]
  },
  {
   "cell_type": "code",
   "execution_count": 11,
   "metadata": {},
   "outputs": [
    {
     "name": "stdout",
     "output_type": "stream",
     "text": [
      "8\n"
     ]
    }
   ],
   "source": [
    "g = 8 \n",
    "def test():\n",
    "    global g \n",
    "    g = max(3,g)\n",
    "    print(g)\n",
    "test()"
   ]
  },
  {
   "cell_type": "code",
   "execution_count": 12,
   "metadata": {},
   "outputs": [],
   "source": [
    "a = [1, 2, 3, 4, 5, 6, 7, 8, 9, 0]\n",
    "a.clear()"
   ]
  },
  {
   "cell_type": "code",
   "execution_count": 13,
   "metadata": {},
   "outputs": [
    {
     "data": {
      "text/plain": [
       "[]"
      ]
     },
     "execution_count": 13,
     "metadata": {},
     "output_type": "execute_result"
    }
   ],
   "source": [
    "a"
   ]
  },
  {
   "cell_type": "code",
   "execution_count": 9,
   "metadata": {},
   "outputs": [
    {
     "name": "stdout",
     "output_type": "stream",
     "text": [
      "346\n",
      "654\n"
     ]
    }
   ],
   "source": [
    "import random\n",
    "random.randint(0,2)\n",
    "\n",
    "time = 1000\n",
    "win100_count = 0\n",
    "win101_count = 0\n",
    "while time > 0:\n",
    "    time -= 1 \n",
    "    win100 = False\n",
    "    win101 = False\n",
    "    res_list = [random.randint(0,2) for _ in range(3)]\n",
    "    while not win100 and not win101:\n",
    "        if res_list[-3] == 1 and res_list[-2] == 0:\n",
    "            if res_list[-1] == 0:\n",
    "                win100 = True\n",
    "                win100_count += 1\n",
    "            else:\n",
    "                win101 = True\n",
    "                win101_count += 1\n",
    "        else:\n",
    "            res_list.append(random.randint(0,2))\n",
    "print(win100_count)\n",
    "print(win101_count)"
   ]
  },
  {
   "cell_type": "code",
   "execution_count": 2,
   "metadata": {},
   "outputs": [
    {
     "name": "stdout",
     "output_type": "stream",
     "text": [
      "(1, 4) (2, 5) (3, 6)\n"
     ]
    }
   ],
   "source": [
    "print(*zip([1,2,3],[4,5,6]))"
   ]
  },
  {
   "cell_type": "code",
   "execution_count": 5,
   "metadata": {},
   "outputs": [
    {
     "data": {
      "text/plain": [
       "[(1, 2, 3), (4, 5, 6)]"
      ]
     },
     "execution_count": 5,
     "metadata": {},
     "output_type": "execute_result"
    }
   ],
   "source": [
    "list(zip((1, 4),(2, 5),(3, 6)))"
   ]
  },
  {
   "cell_type": "code",
   "execution_count": 11,
   "metadata": {},
   "outputs": [
    {
     "name": "stdout",
     "output_type": "stream",
     "text": [
      "小明 16\n",
      "小明 16\n",
      "age name\n"
     ]
    }
   ],
   "source": [
    "def print_info(name,age):\n",
    "    print(name,age)\n",
    "print_info(\"小明\",16)\n",
    "print_info(*[\"小明\",16])\n",
    "print_info(*{\"age\":16,\"name\":\"小明\"})"
   ]
  },
  {
   "cell_type": "code",
   "execution_count": 1,
   "metadata": {
    "ExecuteTime": {
     "end_time": "2020-12-17T03:43:37.138316Z",
     "start_time": "2020-12-17T03:43:37.029859Z"
    }
   },
   "outputs": [
    {
     "ename": "NameError",
     "evalue": "name 'inf' is not defined",
     "output_type": "error",
     "traceback": [
      "\u001b[0;31m---------------------------------------------------------------------------\u001b[0m",
      "\u001b[0;31mNameError\u001b[0m                                 Traceback (most recent call last)",
      "\u001b[0;32m<ipython-input-1-ed9be42ae27c>\u001b[0m in \u001b[0;36m<module>\u001b[0;34m\u001b[0m\n\u001b[0;32m----> 1\u001b[0;31m [[-inf, 0,    -1,    5,   1,    6], \n\u001b[0m\u001b[1;32m      2\u001b[0m  \u001b[0;34m[\u001b[0m\u001b[0;34m-\u001b[0m\u001b[0minf\u001b[0m\u001b[0;34m,\u001b[0m \u001b[0;34m-\u001b[0m\u001b[0minf\u001b[0m\u001b[0;34m,\u001b[0m \u001b[0;34m-\u001b[0m\u001b[0;36m3\u001b[0m\u001b[0;34m,\u001b[0m    \u001b[0;36m3\u001b[0m\u001b[0;34m,\u001b[0m   \u001b[0;34m-\u001b[0m\u001b[0;36m1\u001b[0m\u001b[0;34m,\u001b[0m   \u001b[0;36m4\u001b[0m\u001b[0;34m]\u001b[0m\u001b[0;34m,\u001b[0m\u001b[0;34m\u001b[0m\u001b[0;34m\u001b[0m\u001b[0m\n\u001b[1;32m      3\u001b[0m  \u001b[0;34m[\u001b[0m\u001b[0;34m-\u001b[0m\u001b[0minf\u001b[0m\u001b[0;34m,\u001b[0m \u001b[0;34m-\u001b[0m\u001b[0minf\u001b[0m\u001b[0;34m,\u001b[0m \u001b[0;34m-\u001b[0m\u001b[0minf\u001b[0m\u001b[0;34m,\u001b[0m  \u001b[0;36m4\u001b[0m\u001b[0;34m,\u001b[0m   \u001b[0;36m0\u001b[0m\u001b[0;34m,\u001b[0m    \u001b[0;36m5\u001b[0m\u001b[0;34m]\u001b[0m\u001b[0;34m,\u001b[0m\u001b[0;34m\u001b[0m\u001b[0;34m\u001b[0m\u001b[0m\n\u001b[1;32m      4\u001b[0m  \u001b[0;34m[\u001b[0m\u001b[0;34m-\u001b[0m\u001b[0minf\u001b[0m\u001b[0;34m,\u001b[0m \u001b[0;34m-\u001b[0m\u001b[0minf\u001b[0m\u001b[0;34m,\u001b[0m \u001b[0;34m-\u001b[0m\u001b[0minf\u001b[0m\u001b[0;34m,\u001b[0m \u001b[0;34m-\u001b[0m\u001b[0minf\u001b[0m\u001b[0;34m,\u001b[0m \u001b[0;34m-\u001b[0m\u001b[0;36m6\u001b[0m\u001b[0;34m,\u001b[0m   \u001b[0;34m-\u001b[0m\u001b[0;36m1\u001b[0m\u001b[0;34m]\u001b[0m\u001b[0;34m,\u001b[0m\u001b[0;34m\u001b[0m\u001b[0;34m\u001b[0m\u001b[0m\n\u001b[1;32m      5\u001b[0m  \u001b[0;34m[\u001b[0m\u001b[0;34m-\u001b[0m\u001b[0minf\u001b[0m\u001b[0;34m,\u001b[0m \u001b[0;34m-\u001b[0m\u001b[0minf\u001b[0m\u001b[0;34m,\u001b[0m \u001b[0;34m-\u001b[0m\u001b[0minf\u001b[0m\u001b[0;34m,\u001b[0m \u001b[0;34m-\u001b[0m\u001b[0minf\u001b[0m\u001b[0;34m,\u001b[0m \u001b[0;34m-\u001b[0m\u001b[0minf\u001b[0m\u001b[0;34m,\u001b[0m \u001b[0;36m3\u001b[0m\u001b[0;34m]\u001b[0m\u001b[0;34m,\u001b[0m\u001b[0;34m\u001b[0m\u001b[0;34m\u001b[0m\u001b[0m\n",
      "\u001b[0;31mNameError\u001b[0m: name 'inf' is not defined"
     ]
    }
   ],
   "source": [
    "[[-inf, 0,    -1,    5,   1,    6], \n",
    " [-inf, -inf, -3,    3,   -1,   4], \n",
    " [-inf, -inf, -inf,  4,   0,    5], \n",
    " [-inf, -inf, -inf, -inf, -6,   -1], \n",
    " [-inf, -inf, -inf, -inf, -inf, 3], \n",
    " [-inf, -inf, -inf, -inf, -inf, -inf]]\n",
    "[[-inf, 0,    -1,    5,   1,    6],\n",
    " [-inf, -inf, -3,    3,   -1,   4], \n",
    " [-inf, -inf, -inf,  8,   4,    9], \n",
    " [-inf, -inf, -inf, -inf, 3,    8], \n",
    " [-inf, -inf, -inf, -inf, -inf, 11], \n",
    " [-inf, -inf, -inf, -inf, -inf, -inf]]\n",
    "\n"
   ]
  },
  {
   "cell_type": "code",
   "execution_count": 4,
   "metadata": {
    "ExecuteTime": {
     "end_time": "2020-12-17T03:49:09.543022Z",
     "start_time": "2020-12-17T03:49:09.538306Z"
    }
   },
   "outputs": [
    {
     "data": {
      "text/plain": [
       "[[0, 1, 2, 3, 4],\n",
       " [0, 1, 2, 3, 4],\n",
       " [0, 1, 2, 3, 4],\n",
       " [0, 1, 2, 3, 4],\n",
       " [0, 1, 2, 3, 4]]"
      ]
     },
     "execution_count": 4,
     "metadata": {},
     "output_type": "execute_result"
    }
   ],
   "source": [
    "a = [[j for j in range(5)]for i in range(5)]\n",
    "a"
   ]
  },
  {
   "cell_type": "code",
   "execution_count": 5,
   "metadata": {
    "ExecuteTime": {
     "end_time": "2020-12-17T03:49:12.760193Z",
     "start_time": "2020-12-17T03:49:12.756119Z"
    }
   },
   "outputs": [
    {
     "data": {
      "text/plain": [
       "[0, 1, 2, 3, 4]"
      ]
     },
     "execution_count": 5,
     "metadata": {},
     "output_type": "execute_result"
    }
   ],
   "source": [
    "a[:][0]"
   ]
  },
  {
   "cell_type": "code",
   "execution_count": 2,
   "metadata": {
    "ExecuteTime": {
     "end_time": "2020-12-18T15:52:19.605033Z",
     "start_time": "2020-12-18T15:52:19.600661Z"
    }
   },
   "outputs": [
    {
     "data": {
      "text/plain": [
       "1.628894626777442"
      ]
     },
     "execution_count": 2,
     "metadata": {},
     "output_type": "execute_result"
    }
   ],
   "source": [
    "1.05 ** 10"
   ]
  },
  {
   "cell_type": "code",
   "execution_count": null,
   "metadata": {},
   "outputs": [],
   "source": []
  }
 ],
 "metadata": {
  "kernelspec": {
   "display_name": "Python 3",
   "language": "python",
   "name": "python3"
  },
  "language_info": {
   "codemirror_mode": {
    "name": "ipython",
    "version": 3
   },
   "file_extension": ".py",
   "mimetype": "text/x-python",
   "name": "python",
   "nbconvert_exporter": "python",
   "pygments_lexer": "ipython3",
   "version": "3.7.4"
  },
  "toc": {
   "base_numbering": 1,
   "nav_menu": {},
   "number_sections": true,
   "sideBar": true,
   "skip_h1_title": false,
   "title_cell": "Table of Contents",
   "title_sidebar": "Contents",
   "toc_cell": false,
   "toc_position": {},
   "toc_section_display": true,
   "toc_window_display": false
  },
  "varInspector": {
   "cols": {
    "lenName": 16,
    "lenType": 16,
    "lenVar": 40
   },
   "kernels_config": {
    "python": {
     "delete_cmd_postfix": "",
     "delete_cmd_prefix": "del ",
     "library": "var_list.py",
     "varRefreshCmd": "print(var_dic_list())"
    },
    "r": {
     "delete_cmd_postfix": ") ",
     "delete_cmd_prefix": "rm(",
     "library": "var_list.r",
     "varRefreshCmd": "cat(var_dic_list()) "
    }
   },
   "types_to_exclude": [
    "module",
    "function",
    "builtin_function_or_method",
    "instance",
    "_Feature"
   ],
   "window_display": false
  }
 },
 "nbformat": 4,
 "nbformat_minor": 4
}
