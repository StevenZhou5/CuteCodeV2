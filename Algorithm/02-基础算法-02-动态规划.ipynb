{
 "cells": [
  {
   "cell_type": "code",
   "execution_count": 6,
   "metadata": {},
   "outputs": [],
   "source": [
    "# 你正在使用一堆木板建造跳水板。有两种类型的木板，其中长度较短的木板长度为shorter，长度较长的木板长度为longer。你必须正好使用k块木板。编写一个方法，生成跳水板所有可能的长度。\n",
    "\n",
    "# 返回的长度需要从小到大排列。\n",
    "\n",
    "# 来源：力扣（LeetCode）\n",
    "# 链接：https://leetcode-cn.com/problems/diving-board-lcci\n",
    "# 著作权归领扣网络所有。商业转载请联系官方授权，非商业转载请注明出处。\n",
    "class Solution:\n",
    "    def divingBoard(self, shorter: int, longer: int, k: int) -> List[int]:\n",
    "        if k == 0:\n",
    "            return []\n",
    "        d = longer-shorter\n",
    "        if d == 0:\n",
    "            return [k*shorter]\n",
    "        return list(range(k*shorter,k*shorter+d*(k+1),d))"
   ]
  },
  {
   "cell_type": "code",
   "execution_count": 3,
   "metadata": {},
   "outputs": [
    {
     "data": {
      "text/plain": [
       "[]"
      ]
     },
     "execution_count": 3,
     "metadata": {},
     "output_type": "execute_result"
    }
   ],
   "source": [
    "# 309. 最佳买卖股票时机含冷冻期\n",
    "# 给定一个整数数组，其中第 i 个元素代表了第 i 天的股票价格 。​\n",
    "\n",
    "# 设计一个算法计算出最大利润。在满足以下约束条件下，你可以尽可能地完成更多的交易（多次买卖一支股票）:\n",
    "\n",
    "# 你不能同时参与多笔交易（你必须在再次购买前出售掉之前的股票）。\n",
    "# 卖出股票后，你无法在第二天买入股票 (即冷冻期为 1 天)。\n",
    "# 示例:\n",
    "\n",
    "# 输入: [1,2,3,0,2]\n",
    "# 输出: 3 \n",
    "# 解释: 对应的交易状态为: [买入, 卖出, 冷冻期, 买入, 卖出]\n",
    "\n",
    "# 来源：力扣（LeetCode）\n",
    "# 链接：https://leetcode-cn.com/problems/best-time-to-buy-and-sell-stock-with-cooldown\n",
    "# 著作权归领扣网络所有。商业转载请联系官方授权，非商业转载请注明出处。\n",
    "class Solution:\n",
    "    def maxProfit(self, prices: List[int]) -> int:\n",
    "        if not prices:\n",
    "            return 0 \n",
    "        # state0 代表今天过后持有股票，且收益最大的情况\n",
    "        last_state0 = -prices[0] # 第一天只能是当天买了股票\n",
    "\n",
    "        # state1 代表今天过后没有持有股票-处于冷冻期，且收益最大的情况\n",
    "        last_state1 = 0 # 第一天不可能卖股票，所以也初始化为0\n",
    "\n",
    "        # state2 代表今天过后没有持有股票-不处于冷冻期，且收益最大的情况\n",
    "        last_state2 = 0 # 第一天什么都不做\n",
    "\n",
    "        for i in range(1,len(prices)):\n",
    "            # 如果今天过后是状态0->持有股票:1昨天就持有了；2今天持有的-昨天过后没持有且不出于冷冻期\n",
    "            cur_state0 = max(last_state0,last_state2-prices[i])\n",
    "\n",
    "            # 今天过后是状态1->没有股票且处于冷冻期：就是今天卖了股票-昨天过后持有股票\n",
    "            cur_state1 = prices[i] + last_state0\n",
    "\n",
    "            # 今天过后是状态2->没有持有股票且不处于冷冻期：今天不能买股票也不能买股票->昨天过后没有股票\n",
    "            cur_state2 = max(last_state1,last_state2) \n",
    "\n",
    "            last_state0 = cur_state0\n",
    "            last_state1 = cur_state1\n",
    "            last_state2 = cur_state2\n",
    "        \n",
    "        # 最后一天不需要买股票\n",
    "        return max(last_state1,last_state2)"
   ]
  },
  {
   "cell_type": "code",
   "execution_count": null,
   "metadata": {},
   "outputs": [],
   "source": [
    "# 打家劫舍三\n",
    "# 在上次打劫完一条街道之后和一圈房屋后，小偷又发现了一个新的可行窃的地区。这个地区只有一个入口，我们称之为“根”。 除了“根”之外，每栋房子有且只有一个“父“房子与之相连。一番侦察之后，聪明的小偷意识到“这个地方的所有房屋的排列类似于一棵二叉树”。 如果两个直接相连的房子在同一天晚上被打劫，房屋将自动报警。\n",
    "\n",
    "# 计算在不触动警报的情况下，小偷一晚能够盗取的最高金额。\n",
    "# 示例 1:\n",
    "\n",
    "# 输入: [3,2,3,null,3,null,1]\n",
    "\n",
    "#      3\n",
    "#     / \\\n",
    "#    2   3\n",
    "#     \\   \\ \n",
    "#      3   1\n",
    "\n",
    "# 输出: 7 \n",
    "# 解释: 小偷一晚能够盗取的最高金额 = 3 + 3 + 1 = 7.\n",
    "# 示例 2:\n",
    "\n",
    "# 输入: [3,4,5,1,3,null,1]\n",
    "\n",
    "#      3\n",
    "#     / \\\n",
    "#    4   5\n",
    "#   / \\   \\ \n",
    "#  1   3   1\n",
    "\n",
    "# 输出: 9\n",
    "# 解释: 小偷一晚能够盗取的最高金额 = 4 + 5 = 9.\n",
    "\n",
    "# 来源：力扣（LeetCode）\n",
    "# 链接：https://leetcode-cn.com/problems/house-robber-iii\n",
    "# 著作权归领扣网络所有。商业转载请联系官方授权，非商业转载请注明出处。\n",
    "# Definition for a binary tree node.\n",
    "class TreeNode:\n",
    "    def __init__(self, x):\n",
    "        self.val = x\n",
    "        self.left = None\n",
    "        self.right = None\n",
    "\n",
    "class Solution:\n",
    "    def rob(self, root: TreeNode) -> int:\n",
    "        def max_val(curNode,isRobThis):\n",
    "            if not curNode:\n",
    "                return 0\n",
    "            left_1 = max_val(curNode.left,False)\n",
    "            right_1 = max_val(curNode.right,False)\n",
    "            if isRobThis:\n",
    "                return curNode.val + left_1 + right_1\n",
    "            left_2 = max_val(curNode.left,True)\n",
    "            right_2 = max_val(curNode.right,True)\n",
    "            return (max(left_1,left_2) + max(right_1,right_2))\n",
    "        return max(max_val(root,True),max_val(root,False))\n",
    "\n"
   ]
  },
  {
   "cell_type": "code",
   "execution_count": null,
   "metadata": {},
   "outputs": [],
   "source": [
    "#最长回文子串\n",
    "class Solution:\n",
    "    def longestPalindrome(self, s: str) -> str:\n",
    "        len_s = len(s)\n",
    "        if len_s < 2: # 小于长度2的时候直接返回即可\n",
    "            return s\n",
    "\n",
    "        # 动态规划\n",
    "        # 状态转移方程-dp[i][j]从i到j组成的子串是否是回文子串：dp[i][j] = s[i] == s[j] and dp[i+1][j-1]\n",
    "        dp = [[True if i==j else False for j in range(len_s)]for i in range(len_s)]\n",
    "        max_l = 0\n",
    "        max_start = 0\n",
    "        # 要竖着一列一列遍历：因为要用到[i+1][j-1]-前一列的后一行\n",
    "        for j in range(len_s):# 从第0列到最后一列\n",
    "            cur_len = j\n",
    "            for i in range(j): # 从第0行到低j行就可以了\n",
    "                dp[i][j] = s[i] == s[j] if cur_len==1 else (s[i] == s[j] and dp[i+1][j-1])\n",
    "                if dp[i][j] and cur_len > max_l:\n",
    "                    # print(i,j)\n",
    "                    max_l = cur_len\n",
    "                    max_start = i\n",
    "                cur_len -=1\n",
    "        # print(dp)\n",
    "        return s[max_start:max_start+max_l+1]\n",
    "\n",
    "class Solution:\n",
    "    def longestPalindrome(self, s: str) -> str:\n",
    "        len_s = len(s)\n",
    "        if len_s < 2: # 小于长度2的时候直接返回即可\n",
    "            return s\n",
    "\n",
    "        # 中心扩散\n",
    "        middle_idx = 0\n",
    "        max_l = 0\n",
    "        # 奇数中心扩散\n",
    "        for i in range(1,len_s-1):\n",
    "            start = i-1\n",
    "            end = i+1\n",
    "            cur_l = 1\n",
    "            while start>=0 and end <= len_s-1:\n",
    "                if s[start] == s[end]:\n",
    "                    cur_l +=2\n",
    "                    start -= 1\n",
    "                    end +=1\n",
    "                else:\n",
    "                    break\n",
    "            if cur_l > max_l:\n",
    "                max_l = cur_l\n",
    "                middle_idx = i\n",
    "\n",
    "        # 偶数中心扩散\n",
    "        for i in range(1,len_s):\n",
    "            if s[i] == s[i-1]:\n",
    "                start = i-2\n",
    "                end = i+1\n",
    "                cur_l = 2\n",
    "                while start>=0 and end <=len_s-1:\n",
    "                    if s[start] == s[end]:\n",
    "                        cur_l +=2\n",
    "                        start -=1\n",
    "                        end +=1\n",
    "                    else:\n",
    "                        break\n",
    "                if cur_l > max_l:\n",
    "                    max_l = cur_l\n",
    "                    middle_idx = i\n",
    "        # print(max_l)\n",
    "        # print(middle_idx)\n",
    "        start = middle_idx - max_l//2\n",
    "        return s[start:start+max_l] if max_l > 0 else s[0]"
   ]
  },
  {
   "cell_type": "code",
   "execution_count": null,
   "metadata": {},
   "outputs": [],
   "source": [
    "# 72. 编辑距离\n",
    "# 给你两个单词 word1 和 word2，请你计算出将 word1 转换成 word2 所使用的最少操作数 。\n",
    "\n",
    "# 你可以对一个单词进行如下三种操作：\n",
    "\n",
    "# 插入一个字符\n",
    "# 删除一个字符\n",
    "# 替换一个字符\n",
    " \n",
    "\n",
    "# 示例 1：\n",
    "\n",
    "# 输入：word1 = \"horse\", word2 = \"ros\"\n",
    "# 输出：3\n",
    "# 解释：\n",
    "# horse -> rorse (将 'h' 替换为 'r')\n",
    "# rorse -> rose (删除 'r')\n",
    "# rose -> ros (删除 'e')\n",
    "# 示例 2：\n",
    "\n",
    "# 输入：word1 = \"intention\", word2 = \"execution\"\n",
    "# 输出：5\n",
    "# 解释：\n",
    "# intention -> inention (删除 't')\n",
    "# inention -> enention (将 'i' 替换为 'e')\n",
    "# enention -> exention (将 'n' 替换为 'x')\n",
    "# exention -> exection (将 'n' 替换为 'c')\n",
    "# exection -> execution (插入 'u')\n",
    " \n",
    "\n",
    "# 提示：\n",
    "\n",
    "# 0 <= word1.length, word2.length <= 500\n",
    "# word1 和 word2 由小写英文字母组成\n",
    "class Solution:\n",
    "    def minDistance(self, word1: str, word2: str) -> int:\n",
    "        if not word1 or not word2:\n",
    "            return max(len(word1),len(word2))\n",
    "        # 矩阵法动态规划:矩阵中op[i][j] 代表把word1的前j个字符组成的子串变为word2的前i个字符组成的子串所需要的操作步数\n",
    "        op = [[0 for _ in range(len(word1))]for _ in range(len(word2))]\n",
    "        for row in range(len(word2)):\n",
    "            for col in range(len(word1)):\n",
    "                if word1[col] == word2[row]: # 如果字符串相同，那么所需要的操作步骤和\n",
    "                    if row == 0 or col == 0: # 如果有任意一个字符串的长度为1，那么总步数=较长的那个字符串长度-1\n",
    "                        op[row][col] = max(row,col)\n",
    "                    else:\n",
    "                        op[row][col] = op[row-1][col-1] # 等于各自减去一个字符串的操作\n",
    "                else: # 如果当前不等,\n",
    "                    if row == 0 and col == 0: # 如果有任意一个字符串的长度为1，那么总步数=较长的那个字符串长度\n",
    "                        op[row][col] = max(row,col) + 1\n",
    "                    else:\n",
    "                        op[row][col] = min(op[row-1][col] if row>0 else float('inf'),\n",
    "                        op[row][col-1] if col>0 else float('inf'),\n",
    "                        op[row-1][col-1] if row>0 and col>0 else float('inf')) + 1\n",
    "        # print(op)\n",
    "        return op[-1][-1]"
   ]
  },
  {
   "cell_type": "code",
   "execution_count": 4,
   "metadata": {},
   "outputs": [
    {
     "name": "stdout",
     "output_type": "stream",
     "text": [
      "[[1, 5], [2, 3], [4, 6], [4, 6]]\n",
      "[11, 17]\n"
     ]
    },
    {
     "data": {
      "text/plain": [
       "17"
      ]
     },
     "execution_count": 4,
     "metadata": {},
     "output_type": "execute_result"
    }
   ],
   "source": [
    "# 矩阵左上角走到右下角的最短距离\n",
    "class Solution:\n",
    "    def min_path(self,matrix):\n",
    "        if not matrix:\n",
    "            return 0\n",
    "        print(matrix)\n",
    "        len_rows = len(matrix)\n",
    "        len_cols = len(matrix[0])\n",
    "        step_matrix = [float('inf') for _ in range(len_cols)]\n",
    "        step_matrix[0] = 0\n",
    "        for row in range(len_rows):\n",
    "            for col in range(len_cols):\n",
    "                cur_num = matrix[row][col]\n",
    "                pre_step = step_matrix[col] if col == 0 else min(step_matrix[col],step_matrix[col-1])\n",
    "                step_matrix[col] = cur_num + pre_step\n",
    "        print(step_matrix)\n",
    "        return step_matrix[-1]\n",
    "s = Solution()\n",
    "s.min_path([[1,5],[2,3],[4,6],[4,6]])"
   ]
  },
  {
   "cell_type": "code",
   "execution_count": 14,
   "metadata": {},
   "outputs": [
    {
     "name": "stdout",
     "output_type": "stream",
     "text": [
      "1\n"
     ]
    },
    {
     "data": {
      "text/plain": [
       "[1, 1]"
      ]
     },
     "execution_count": 14,
     "metadata": {},
     "output_type": "execute_result"
    }
   ],
   "source": [
    "class Solution:\n",
    "    def searchRange(self, nums, target: int):\n",
    "        if not nums:\n",
    "            return [-1,-1]\n",
    "        start_idx = 0\n",
    "        end_idx = len(nums) - 1 \n",
    "        first_poi = 0\n",
    "        while start_idx <= end_idx:\n",
    "            first_poi = start_idx + (end_idx - start_idx) // 2\n",
    "            if nums[first_poi] == target:\n",
    "                break\n",
    "            if nums[first_poi] > target:\n",
    "                end_idx = first_poi - 1 \n",
    "            else:\n",
    "                start_idx = first_poi + 1\n",
    "        if nums[first_poi] != target:\n",
    "            return [-1,-1]\n",
    "        print(first_poi) \n",
    "        left_idx = first_poi\n",
    "        while left_idx >= 0:\n",
    "            left_idx = left_idx - 1\n",
    "            if left_idx >= 0 and  nums[left_idx] != target:\n",
    "                break\n",
    "        \n",
    "        right_idx = first_poi\n",
    "        while right_idx < len(nums) :\n",
    "            right_idx = right_idx + 1\n",
    "            if right_idx < len(nums) and nums[right_idx] != target:\n",
    "                break\n",
    "        return [left_idx + 1, right_idx -1]\n",
    "s = Solution()\n",
    "# s.searchRange( [5,7,7,8,8,10],8)\n",
    "# s.searchRange( [1],1)\n",
    "# s.searchRange( [1,4],4)"
   ]
  },
  {
   "cell_type": "code",
   "execution_count": 2,
   "metadata": {},
   "outputs": [
    {
     "name": "stdout",
     "output_type": "stream",
     "text": [
      "[1, 0, 3, 4, 9, 7, 5, 3, 0, 6]\n"
     ]
    },
    {
     "data": {
      "text/plain": [
       "[1, 0, 9, 0, 6]"
      ]
     },
     "execution_count": 2,
     "metadata": {},
     "output_type": "execute_result"
    }
   ],
   "source": [
    "# 拍动序列：贪心加动态规划\n",
    "import random\n",
    "a = [random.randint(0,10) for _ in range(10)]\n",
    "print(a)\n",
    "res = []\n",
    "state = -1 # -1大小都可以；0：只能加入一个更小值；1：只能加入一个更大值\n",
    "for i in a:\n",
    "    if not res:\n",
    "        res.append(i)\n",
    "        continue\n",
    "    if i == res[-1]:\n",
    "        continue\n",
    "        \n",
    "    if state == -1:\n",
    "        if i > res[-1]:\n",
    "            state = 0 \n",
    "        else:\n",
    "            state = 1\n",
    "        res.append(i)\n",
    "    elif state == 0: # 只能加入一个更小的值\n",
    "        if i < res[-1]:\n",
    "            state = 1\n",
    "            res.append(i)\n",
    "        else:\n",
    "            res[-1] = i # 如果把它变成一个更大的值，那么后面就更容易找到小的值\n",
    "    else:\n",
    "        if i > res[-1]: # 只能加入一个更大的值\n",
    "            state = 0\n",
    "            res.append(i)\n",
    "        else:\n",
    "            res[-1] = i\n",
    "res"
   ]
  },
  {
   "cell_type": "code",
   "execution_count": 3,
   "metadata": {
    "ExecuteTime": {
     "end_time": "2021-08-31T03:22:38.328092Z",
     "start_time": "2021-08-31T03:22:38.324450Z"
    }
   },
   "outputs": [
    {
     "name": "stdout",
     "output_type": "stream",
     "text": [
      "division by zero\n"
     ]
    }
   ],
   "source": [
    "try:\n",
    "    a = 10 /0\n",
    "except Exception as e:\n",
    "    print(str(e))"
   ]
  },
  {
   "cell_type": "code",
   "execution_count": null,
   "metadata": {},
   "outputs": [],
   "source": []
  }
 ],
 "metadata": {
  "kernelspec": {
   "display_name": "Python 3",
   "language": "python",
   "name": "python3"
  },
  "language_info": {
   "codemirror_mode": {
    "name": "ipython",
    "version": 3
   },
   "file_extension": ".py",
   "mimetype": "text/x-python",
   "name": "python",
   "nbconvert_exporter": "python",
   "pygments_lexer": "ipython3",
   "version": "3.7.4"
  },
  "toc": {
   "base_numbering": 1,
   "nav_menu": {},
   "number_sections": true,
   "sideBar": true,
   "skip_h1_title": false,
   "title_cell": "Table of Contents",
   "title_sidebar": "Contents",
   "toc_cell": false,
   "toc_position": {},
   "toc_section_display": true,
   "toc_window_display": false
  },
  "varInspector": {
   "cols": {
    "lenName": 16,
    "lenType": 16,
    "lenVar": 40
   },
   "kernels_config": {
    "python": {
     "delete_cmd_postfix": "",
     "delete_cmd_prefix": "del ",
     "library": "var_list.py",
     "varRefreshCmd": "print(var_dic_list())"
    },
    "r": {
     "delete_cmd_postfix": ") ",
     "delete_cmd_prefix": "rm(",
     "library": "var_list.r",
     "varRefreshCmd": "cat(var_dic_list()) "
    }
   },
   "types_to_exclude": [
    "module",
    "function",
    "builtin_function_or_method",
    "instance",
    "_Feature"
   ],
   "window_display": false
  }
 },
 "nbformat": 4,
 "nbformat_minor": 4
}
