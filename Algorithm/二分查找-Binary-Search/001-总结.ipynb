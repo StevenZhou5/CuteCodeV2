{
 "cells": [
  {
   "cell_type": "code",
   "execution_count": 1,
   "metadata": {
    "ExecuteTime": {
     "end_time": "2022-08-18T01:59:27.778377Z",
     "start_time": "2022-08-18T01:59:27.776147Z"
    }
   },
   "outputs": [],
   "source": [
    "#1、 适用条件：1-Sorted（单调递增 或者 单调递减）； 2-Bounded（存在上下界）； 3-Accessible by index(能够通过索引访问)"
   ]
  },
  {
   "cell_type": "code",
   "execution_count": 2,
   "metadata": {
    "ExecuteTime": {
     "end_time": "2022-08-18T02:00:40.415218Z",
     "start_time": "2022-08-18T02:00:40.409828Z"
    }
   },
   "outputs": [],
   "source": [
    "# 二分查找模板\n",
    "def search(nums, target):\n",
    "    # 1、初始确定左右边界\n",
    "    left, right = 0, len(nums) - 1\n",
    "\n",
    "    while left <= right:  # 2、一定是小于等于\n",
    "        # 3、中间索引计算\n",
    "        mid = left + (right - left >> 1)  # 整数情况下,注意位运算的优先级低，一定要用括号括起来\n",
    "        # mid = left + (right - left) / 2 # 浮点数情况：比如开根号\n",
    "\n",
    "        # 4、判断\n",
    "        if nums[mid] == target:  # 4-1：找到\n",
    "            return mid\n",
    "        # 4-*：注意，如果存在重复元素，或者找第一个大于或者第一个小于目标值的时候，== 的判断要视情况和某一个大于/等于条件在一起\n",
    "        if nums[mid] > target:  # 4-2：中间值大了，更新右边界\n",
    "            right = mid - 1\n",
    "        else:  # 中间值小了更新左边界\n",
    "            left = mid + 1\n",
    "\n",
    "    return -1"
   ]
  },
  {
   "cell_type": "code",
   "execution_count": null,
   "metadata": {},
   "outputs": [],
   "source": []
  }
 ],
 "metadata": {
  "kernelspec": {
   "display_name": "Python 3",
   "language": "python",
   "name": "python3"
  },
  "language_info": {
   "codemirror_mode": {
    "name": "ipython",
    "version": 3
   },
   "file_extension": ".py",
   "mimetype": "text/x-python",
   "name": "python",
   "nbconvert_exporter": "python",
   "pygments_lexer": "ipython3",
   "version": "3.7.4"
  },
  "toc": {
   "base_numbering": 1,
   "nav_menu": {},
   "number_sections": true,
   "sideBar": true,
   "skip_h1_title": false,
   "title_cell": "Table of Contents",
   "title_sidebar": "Contents",
   "toc_cell": false,
   "toc_position": {},
   "toc_section_display": true,
   "toc_window_display": false
  },
  "varInspector": {
   "cols": {
    "lenName": 16,
    "lenType": 16,
    "lenVar": 40
   },
   "kernels_config": {
    "python": {
     "delete_cmd_postfix": "",
     "delete_cmd_prefix": "del ",
     "library": "var_list.py",
     "varRefreshCmd": "print(var_dic_list())"
    },
    "r": {
     "delete_cmd_postfix": ") ",
     "delete_cmd_prefix": "rm(",
     "library": "var_list.r",
     "varRefreshCmd": "cat(var_dic_list()) "
    }
   },
   "types_to_exclude": [
    "module",
    "function",
    "builtin_function_or_method",
    "instance",
    "_Feature"
   ],
   "window_display": false
  }
 },
 "nbformat": 4,
 "nbformat_minor": 2
}
