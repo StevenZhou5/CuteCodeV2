{
 "cells": [
  {
   "cell_type": "markdown",
   "metadata": {},
   "source": [
    "# 数据结构优缺点"
   ]
  },
  {
   "cell_type": "markdown",
   "metadata": {
    "ExecuteTime": {
     "end_time": "2022-08-05T01:13:32.971481Z",
     "start_time": "2022-08-05T01:13:32.967209Z"
    }
   },
   "source": [
    "#特点：LRU(Least Recently used)最近最少使用；O(1)的查询时间复杂度，O(1)的修改和更新速度"
   ]
  },
  {
   "cell_type": "markdown",
   "metadata": {},
   "source": [
    "# 和其他数据结构的关系"
   ]
  },
  {
   "cell_type": "markdown",
   "metadata": {
    "ExecuteTime": {
     "end_time": "2022-08-05T02:14:12.530000Z",
     "start_time": "2022-08-05T02:14:12.527465Z"
    }
   },
   "source": [
    "#1、一般使用双向链表Double LinkedList 来实现"
   ]
  },
  {
   "cell_type": "markdown",
   "metadata": {},
   "source": [
    "# 常用于解决什么样的问题"
   ]
  },
  {
   "cell_type": "markdown",
   "metadata": {},
   "source": [
    "#1、"
   ]
  },
  {
   "cell_type": "markdown",
   "metadata": {},
   "source": [
    "# 常用的实现方式"
   ]
  },
  {
   "cell_type": "code",
   "execution_count": 1,
   "metadata": {
    "ExecuteTime": {
     "end_time": "2022-08-26T09:01:02.152580Z",
     "start_time": "2022-08-26T09:01:02.138036Z"
    }
   },
   "outputs": [],
   "source": [
    "# 采用双向链表实现O(1)复杂度的更新已有key值的访问顺序\n",
    "class ListNode:\n",
    "    def __init__(self,key=None,value=None):\n",
    "        self.key = key\n",
    "        self.value = value\n",
    "        self.pre = None # 前一个结点\n",
    "        self.next = None # 后面一个结点\n",
    "\n",
    "class LRUCache:\n",
    "    def __init__(self,capacity:int):\n",
    "        self.capacity = capacity\n",
    "        self.hashmap = {} # 这个字典的键值是需要缓存数据的key，但是value是一个ListNode，这个node中\n",
    "        \n",
    "        # 初始化一个头结点和一个尾结点\n",
    "        self.head = ListNode()\n",
    "        self.tail = ListNode()\n",
    "        \n",
    "        # 连接头尾\n",
    "        self.head.next = self.tail\n",
    "        self.tail.pre = self.head\n",
    "    \n",
    "    def move_node_to_list_end_by_key(self,key):\n",
    "        # 把key为key的结点移动到链表的尾部\n",
    "        key_node = self.hashmap[key] # 取出当前key结点\n",
    "        # 将key_node从列表中取出\n",
    "        key_pre = key_node.pre\n",
    "        key_next = key_node.next\n",
    "        key_pre.next = key_next\n",
    "        key_next.pre = key_pre\n",
    "        \n",
    "        # 将key_node放置链表尾部\n",
    "        key_node.pre = self.tail.pre\n",
    "        key_node.next = self.tail\n",
    "        \n",
    "        self.tail.pre.next = key_node\n",
    "        self.tail.pre = key_node\n",
    "        \n",
    "    \n",
    "    def get(self, key: int) -> int:\n",
    "        if key in self.hashmap:\n",
    "            # 如果key已经在缓存中存在，需要将其移动到链表的尾部，做为最新访问结点\n",
    "            self.move_node_to_list_end_by_key(key)\n",
    "        \n",
    "        result = self.hashmap.get(key,-1) # 如果存在把结点取出，否则的话的返回-1\n",
    "        if result == -1: # 不存在返回-1\n",
    "            return result\n",
    "        # 存在返回node中的value值\n",
    "        return result.value\n",
    "        \n",
    "    \n",
    "    def put(self, key: int, value: int) -> None:\n",
    "        if key in self.hashmap: # 如果要插入的key已经在缓存中了\n",
    "            # 更新缓存中的值\n",
    "            self.hashmap[key].value = value\n",
    "            # 将其移动到链表尾部\n",
    "            self.move_node_to_list_end_by_key(key)\n",
    "            return\n",
    "        \n",
    "        # 如果key不在缓存中\n",
    "        if len(self.hashmap) == self.capacity: # 如果容量已满，需要移除一个最久为使用的\n",
    "            # 移除hash表中对应的项\n",
    "            self.hashmap.pop(self.head.next.key)\n",
    "            # 从列表中的最久未被访问的项目：即head的next\n",
    "            self.head.next = self.head.next.next\n",
    "            self.head.next.pre = self.head\n",
    "        \n",
    "        # 将新结点插入\n",
    "        # 初始化一个结点\n",
    "        new_node = ListNode(key,value)\n",
    "        self.hashmap[key] = new_node\n",
    "        # 将结点插入链表的尾部\n",
    "        new_node.pre = self.tail.pre\n",
    "        new_node.next = self.tail\n",
    "        self.tail.pre.next = new_node\n",
    "        self.tail.pre = new_node\n",
    "\n",
    "# Your LRUCache object will be instantiated and called as such:\n",
    "# obj = LRUCache(capacity)\n",
    "# param_1 = obj.get(key)\n",
    "# obj.put(key,value)"
   ]
  },
  {
   "cell_type": "code",
   "execution_count": null,
   "metadata": {},
   "outputs": [],
   "source": []
  }
 ],
 "metadata": {
  "kernelspec": {
   "display_name": "Python 3",
   "language": "python",
   "name": "python3"
  },
  "language_info": {
   "codemirror_mode": {
    "name": "ipython",
    "version": 3
   },
   "file_extension": ".py",
   "mimetype": "text/x-python",
   "name": "python",
   "nbconvert_exporter": "python",
   "pygments_lexer": "ipython3",
   "version": "3.7.4"
  },
  "toc": {
   "base_numbering": 1,
   "nav_menu": {},
   "number_sections": true,
   "sideBar": true,
   "skip_h1_title": false,
   "title_cell": "Table of Contents",
   "title_sidebar": "Contents",
   "toc_cell": false,
   "toc_position": {},
   "toc_section_display": true,
   "toc_window_display": false
  },
  "varInspector": {
   "cols": {
    "lenName": 16,
    "lenType": 16,
    "lenVar": 40
   },
   "kernels_config": {
    "python": {
     "delete_cmd_postfix": "",
     "delete_cmd_prefix": "del ",
     "library": "var_list.py",
     "varRefreshCmd": "print(var_dic_list())"
    },
    "r": {
     "delete_cmd_postfix": ") ",
     "delete_cmd_prefix": "rm(",
     "library": "var_list.r",
     "varRefreshCmd": "cat(var_dic_list()) "
    }
   },
   "types_to_exclude": [
    "module",
    "function",
    "builtin_function_or_method",
    "instance",
    "_Feature"
   ],
   "window_display": false
  }
 },
 "nbformat": 4,
 "nbformat_minor": 2
}
