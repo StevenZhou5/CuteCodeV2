{
 "cells": [
  {
   "cell_type": "markdown",
   "metadata": {},
   "source": [
    "# 数据结构优缺点"
   ]
  },
  {
   "cell_type": "markdown",
   "metadata": {
    "ExecuteTime": {
     "end_time": "2022-08-05T01:13:32.971481Z",
     "start_time": "2022-08-05T01:13:32.967209Z"
    }
   },
   "source": [
    "#优点：可以按索引随机快速访问每个位置上的元素，查询速度快；\n",
    "#缺点：插入和删除操作需要进行多个元素的位置的移动，插入和查询速度较慢；扩容需要重新复制元素；\n",
    "#特点：需要连续的内存地址空间；"
   ]
  },
  {
   "cell_type": "markdown",
   "metadata": {},
   "source": [
    "#空间复杂度(space)：O(n);\n",
    "#插入头位置时间复杂度(prepend)：O(n)；\n",
    "#插入末尾位置的时间复杂度(append)：O(1);\n",
    "#查询时间复杂度(Access)：O(1);\n",
    "#平均插入时间复杂度(Insert)：O(n);\n",
    "#平均删除时间复杂度(Insert)：O(n);"
   ]
  },
  {
   "cell_type": "markdown",
   "metadata": {},
   "source": [
    "# 和其他数据结构的关系"
   ]
  },
  {
   "cell_type": "code",
   "execution_count": null,
   "metadata": {},
   "outputs": [],
   "source": []
  },
  {
   "cell_type": "markdown",
   "metadata": {},
   "source": [
    "# 常用于解决什么样的问题"
   ]
  },
  {
   "cell_type": "markdown",
   "metadata": {},
   "source": [
    "#1、对查询速度要求高，对插入和删除操作要求低的场景；\n",
    "#2、查询操作频繁，插入和删除操作不频繁的场景；\n",
    "#3、元素总个数确定；"
   ]
  },
  {
   "cell_type": "markdown",
   "metadata": {},
   "source": [
    "# 常用的实现方式"
   ]
  },
  {
   "cell_type": "code",
   "execution_count": 11,
   "metadata": {
    "ExecuteTime": {
     "end_time": "2022-08-05T01:24:29.097355Z",
     "start_time": "2022-08-05T01:24:29.090884Z"
    }
   },
   "outputs": [
    {
     "name": "stdout",
     "output_type": "stream",
     "text": [
      "[0, 1, 2, 3, 4, 5, 6, 7, 8, 9]\n",
      "5\n",
      "[0, 1, 2, 3, 4, 5, 6, 7, 8, 9, 15]\n",
      "[0, 1, 2, 3, 4, 'a', 5, 6, 7, 8, 9, 15]\n",
      "[0, 1, 2, 3, 4, 5, 6, 7, 8, 9, 15]\n",
      "[0, 1, 2, 3, 4, 5, 6, 7, 8, 9]\n",
      "[0, 1, 2, 3, 4, 6, 7, 8, 9]\n"
     ]
    }
   ],
   "source": [
    "a = [i for i in range(10)]\n",
    "print(a)\n",
    "print(a[5]) # 查询 O(1)\n",
    "a.append(15) # 插入末尾O(1)\n",
    "print(a)\n",
    "a.insert(5,'a') # 插入指定位置O(n)\n",
    "print(a)\n",
    "a.remove('a') # 移除指定元素O(n)\n",
    "print(a)\n",
    "a.pop() # 移除末尾元素O(1)\n",
    "print(a)\n",
    "del a[5] # 删除指定索引位置元素O(n)\n",
    "print(a)"
   ]
  }
 ],
 "metadata": {
  "kernelspec": {
   "display_name": "Python 3",
   "language": "python",
   "name": "python3"
  },
  "language_info": {
   "codemirror_mode": {
    "name": "ipython",
    "version": 3
   },
   "file_extension": ".py",
   "mimetype": "text/x-python",
   "name": "python",
   "nbconvert_exporter": "python",
   "pygments_lexer": "ipython3",
   "version": "3.7.4"
  },
  "toc": {
   "base_numbering": 1,
   "nav_menu": {},
   "number_sections": true,
   "sideBar": true,
   "skip_h1_title": false,
   "title_cell": "Table of Contents",
   "title_sidebar": "Contents",
   "toc_cell": false,
   "toc_position": {},
   "toc_section_display": true,
   "toc_window_display": false
  },
  "varInspector": {
   "cols": {
    "lenName": 16,
    "lenType": 16,
    "lenVar": 40
   },
   "kernels_config": {
    "python": {
     "delete_cmd_postfix": "",
     "delete_cmd_prefix": "del ",
     "library": "var_list.py",
     "varRefreshCmd": "print(var_dic_list())"
    },
    "r": {
     "delete_cmd_postfix": ") ",
     "delete_cmd_prefix": "rm(",
     "library": "var_list.r",
     "varRefreshCmd": "cat(var_dic_list()) "
    }
   },
   "types_to_exclude": [
    "module",
    "function",
    "builtin_function_or_method",
    "instance",
    "_Feature"
   ],
   "window_display": false
  }
 },
 "nbformat": 4,
 "nbformat_minor": 2
}
