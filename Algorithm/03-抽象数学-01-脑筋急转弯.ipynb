{
 "cells": [
  {
   "cell_type": "code",
   "execution_count": null,
   "metadata": {},
   "outputs": [],
   "source": []
  },
  {
   "cell_type": "code",
   "execution_count": 13,
   "metadata": {},
   "outputs": [
    {
     "name": "stdout",
     "output_type": "stream",
     "text": [
      "第 1 个灯泡是亮的；\n",
      "总共有 1 个灯泡会变亮；\n",
      "\n",
      "第 1 个灯泡是亮的；\n",
      "第 4 个灯泡是亮的；\n",
      "总共有 2 个灯泡会变亮；\n",
      "\n",
      "第 1 个灯泡是亮的；\n",
      "第 4 个灯泡是亮的；\n",
      "总共有 2 个灯泡会变亮；\n",
      "\n",
      "第 1 个灯泡是亮的；\n",
      "第 4 个灯泡是亮的；\n",
      "第 9 个灯泡是亮的；\n",
      "总共有 3 个灯泡会变亮；\n",
      "\n",
      "第 1 个灯泡是亮的；\n",
      "第 4 个灯泡是亮的；\n",
      "第 9 个灯泡是亮的；\n",
      "第 16 个灯泡是亮的；\n",
      "第 25 个灯泡是亮的；\n",
      "第 36 个灯泡是亮的；\n",
      "第 49 个灯泡是亮的；\n",
      "第 64 个灯泡是亮的；\n",
      "第 81 个灯泡是亮的；\n",
      "总共有 9 个灯泡会变亮；\n"
     ]
    }
   ],
   "source": [
    "# 灯泡开关\n",
    "# 只有完全平方数索引位置的灯才会亮\n",
    "def get_light(n):\n",
    "    for i in range(1,n+1):\n",
    "        sqrt_i = i ** 0.5\n",
    "        if sqrt_i == int(sqrt_i):\n",
    "            print(\"第 %s 个灯泡是亮的；\"%(i))\n",
    "    # (int(n ** 0.5)) 等于小于等于n的数字中完全平方数的个数\n",
    "    print(\"总共有 %s 个灯泡会变亮；\"%(int(n ** 0.5)))\n",
    "get_light(3)\n",
    "print()\n",
    "get_light(4)\n",
    "print()\n",
    "get_light(5)\n",
    "print()\n",
    "get_light(9)\n",
    "print()\n",
    "get_light(81)"
   ]
  },
  {
   "cell_type": "code",
   "execution_count": 6,
   "metadata": {},
   "outputs": [
    {
     "data": {
      "text/plain": [
       "3.0"
      ]
     },
     "execution_count": 6,
     "metadata": {},
     "output_type": "execute_result"
    }
   ],
   "source": [
    "a = 9\n",
    "a ** 0.5"
   ]
  },
  {
   "cell_type": "markdown",
   "metadata": {},
   "source": [
    "# 去除前k个字符的一招鲜方法 https://leetcode-cn.com/problems/remove-k-digits/solution/yi-zhao-chi-bian-li-kou-si-dao-ti-ma-ma-zai-ye-b-5/"
   ]
  },
  {
   "cell_type": "code",
   "execution_count": 6,
   "metadata": {},
   "outputs": [
    {
     "data": {
      "text/plain": [
       "'200'"
      ]
     },
     "execution_count": 6,
     "metadata": {},
     "output_type": "execute_result"
    }
   ],
   "source": [
    "# 给定一个以字符串表示的非负整数 num，移除这个数中的 k 位数字，使得剩下的数字最小。\n",
    "\n",
    "# 注意:\n",
    "\n",
    "# num 的长度小于 10002 且 ≥ k。\n",
    "# num 不会包含任何前导零。\n",
    "# 示例 1 :\n",
    "\n",
    "# 输入: num = \"1432219\", k = 3\n",
    "# 输出: \"1219\"\n",
    "# 解释: 移除掉三个数字 4, 3, 和 2 形成一个新的最小的数字 1219。\n",
    "# 示例 2 :\n",
    "\n",
    "# 输入: num = \"10200\", k = 1\n",
    "# 输出: \"200\"\n",
    "# 解释: 移掉首位的 1 剩下的数字为 200. 注意输出不能有任何前导零。\n",
    "# 示例 3 :\n",
    "\n",
    "# 输入: num = \"10\", k = 2\n",
    "# 输出: \"0\"\n",
    "# 解释: 从原数字移除所有的数字，剩余为空就是0。\n",
    "\n",
    "# 来源：力扣（LeetCode）\n",
    "# 链接：https://leetcode-cn.com/problems/remove-k-digits\n",
    "# 著作权归领扣网络所有。商业转载请联系官方授权，非商业转载请注明出处。\n",
    "class Solution:\n",
    "    def removeKdigits(self, num: str, k: int) -> str:\n",
    "       # 算法思路：我们从左往右遍历：\n",
    "       # 如果上一个数比当前遍历到的数大，则删除上一个数，同时k-1；\n",
    "       # 结束条件1：当删除k个之后终止遍历；\n",
    "       # 结束条件2：当遍历完成，但没有删除够k个数:此时我们取前len(num) - k 个数即可；例如一个从小到大排列的数:123456\n",
    "       stack=[]\n",
    "       count = len(num)-k\n",
    "       for n in num:\n",
    "            while k and stack and stack[-1] > n:\n",
    "               stack.pop()\n",
    "               k -= 1\n",
    "            stack.append(n)\n",
    "       #print(stack)\n",
    "       res = \"\".join(stack[:count]).lstrip('0')\n",
    "       return res if res else \"0\"\n",
    "s = Solution()\n",
    "s.removeKdigits(\"10200\",1)"
   ]
  },
  {
   "cell_type": "code",
   "execution_count": 2,
   "metadata": {},
   "outputs": [
    {
     "name": "stdout",
     "output_type": "stream",
     "text": [
      "3354\n",
      "6646\n"
     ]
    }
   ],
   "source": [
    "# 泡硬币，正面1，反面0\n",
    "# 连续抛，先出现100则算a赢；先出现101则算b赢\n",
    "import random\n",
    "random.randint(0,2)\n",
    "\n",
    "time = 1000\n",
    "win100_count = 0\n",
    "win101_count = 0\n",
    "while time > 0:\n",
    "    time -= 1 \n",
    "    win100 = False\n",
    "    win101 = False\n",
    "    res_list = [random.randint(0,2) for _ in range(3)]\n",
    "    while not win100 and not win101:\n",
    "        if res_list[-3] == 1 and res_list[-2] == 0:\n",
    "            if res_list[-1] == 0:\n",
    "                win100 = True\n",
    "                win100_count += 1\n",
    "            else:\n",
    "                win101 = True\n",
    "                win101_count += 1\n",
    "        else:\n",
    "            res_list.append(random.randint(0,2))\n",
    "print(win100_count)\n",
    "print(win101_count)"
   ]
  },
  {
   "cell_type": "code",
   "execution_count": null,
   "metadata": {},
   "outputs": [],
   "source": []
  }
 ],
 "metadata": {
  "kernelspec": {
   "display_name": "Python 3",
   "language": "python",
   "name": "python3"
  },
  "language_info": {
   "codemirror_mode": {
    "name": "ipython",
    "version": 3
   },
   "file_extension": ".py",
   "mimetype": "text/x-python",
   "name": "python",
   "nbconvert_exporter": "python",
   "pygments_lexer": "ipython3",
   "version": "3.7.4"
  }
 },
 "nbformat": 4,
 "nbformat_minor": 4
}
