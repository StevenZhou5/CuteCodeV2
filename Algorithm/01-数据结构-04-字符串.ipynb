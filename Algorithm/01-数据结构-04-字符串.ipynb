{
 "cells": [
  {
   "cell_type": "markdown",
   "metadata": {},
   "source": [
    "# 正则表达式"
   ]
  },
  {
   "cell_type": "code",
   "execution_count": 5,
   "metadata": {},
   "outputs": [
    {
     "name": "stdout",
     "output_type": "stream",
     "text": [
      "ab ; ab*\n",
      "b ; b*\n",
      " ; b*\n",
      " ; \n"
     ]
    },
    {
     "data": {
      "text/plain": [
       "True"
      ]
     },
     "execution_count": 5,
     "metadata": {},
     "output_type": "execute_result"
    }
   ],
   "source": [
    "# 正则表达式\n",
    "class Solution():\n",
    "    def isMatch(self,s:str,p:str)->bool:\n",
    "        print(s,\";\",p)\n",
    "        # 如果p为空，那么s必须为空才能匹配；如果s为空，p不一定要为空，所以不要把s为空作为判断条件\n",
    "        if not p:\n",
    "            return not s\n",
    "        \n",
    "        # 我们判断首字符是否匹配:s和p必须同时都不为空才能匹配，因为p不为空，所以不需要单独为p判空\n",
    "        isFirstMathch = len(s)>0 and p[0] in ['.',s[0]]\n",
    "        if isFirstMathch: # 如果匹配则会有两种情况，一种是使用p[0] ； 一种是删除p[0]\n",
    "            # 但是无论是使用p[0]还是删除p[0] 我们都必须要知道p[1]是否为*\n",
    "            if len(p)>1 and p[1]==\"*\":\n",
    "                # 使用p[0]的话p不需要删除任何元素,s需要删除第一个元素； or 不使用p[0]的话p需要删除两个元素，s不需要删除\n",
    "                return self.isMatch(s[1:] if len(s)>1 else \"\",p) or self.isMatch(s,p[2:] if len(p)>2 else \"\")\n",
    "            else: # 如果p[1]不是“*”的话：s和p都只需要向后移动一个字符\n",
    "                return self.isMatch(s[1:] if len(s)>1 else \"\",p[1:] if len(p)>1 else \"\")\n",
    "        else:\n",
    "            # 如果没有匹配的话，则需要看是否可以删除掉p[0]: 要么直接删除p[0]，要么p[0]和p[1]一起删除\n",
    "            if p[0] == \"*\": # 如果p[0] == \"*\" 可以直接删除\n",
    "                return self.isMatch(s,p[1:] if len(p)>1 else \"\")\n",
    "            elif len(p)>1 and p[1]==\"*\": # 如果p[1]==\"*\"则可以删除掉p[0]\n",
    "                return self.isMatch(s,p[2:] if len(p)>2 else \"\")\n",
    "            else:# 否则删除不了的话返回False\n",
    "                return False\n",
    "soltuion = Solution()\n",
    "soltuion.isMatch(\"ab\",\"ab*\")"
   ]
  },
  {
   "cell_type": "code",
   "execution_count": 6,
   "metadata": {},
   "outputs": [
    {
     "data": {
      "text/plain": [
       "True"
      ]
     },
     "execution_count": 6,
     "metadata": {},
     "output_type": "execute_result"
    }
   ],
   "source": [
    "#通配符匹配\n",
    "class Solution:\n",
    "    def isMatch(self, s: str, p: str) -> bool:\n",
    "        m,n = len(p)+1,len(s)+1\n",
    "        # 矩阵法: 矩阵要的行列要比s和p的长度多一，用于处理s为\"\"或p为\"\"的边界条件\n",
    "        matrix = [[False for _ in range(n) ] for _ in range(m)]\n",
    "        # print(matrix)\n",
    "        # 边界条件初始化：即第0行和第0列\n",
    "        matrix[0][0] = True # 都为空的时候为True\n",
    "        # 当p为空，s不为空的时候，始终为False，所以第0行不需要额外初始化了\n",
    "        # 当p不为空，s为空的时候，必须p的所有字符都为“*”才可以,所以初始化第0列\n",
    "        for i in range(1,m):\n",
    "            matrix[i][0] = p[i-1] == \"*\" and matrix[i-1][0]\n",
    "        # print(matrix)\n",
    "        for i in range(1,m):\n",
    "            for j in range(1,n):\n",
    "                if p[i-1] == '?' or p[i-1] == s[j-1]: # 单一匹配的话，前面的所有字符都必须可以匹配\n",
    "                    matrix[i][j] = matrix[i-1][j-1] \n",
    "                elif p[i-1] == '*': \n",
    "                    # 不使用*的话：只要前面i-1个和j个能匹配上=matrix[i-1][j]； \n",
    "                    # 如果使用*的话*可以匹配任意多个，只要前面第[i-1]行中有一个可以满足的就行了，而matrix[i][j-1] 可以传递对应matrix[i-1][j-1]的值，\n",
    "                    # 所以只要matrix[i][j-1] 为True即可\n",
    "                    matrix[i][j] = matrix[i-1][j] or matrix[i][j-1] \n",
    "                else:\n",
    "                    matrix[i][j] = False\n",
    "        # print(matrix)\n",
    "        return matrix[-1][-1]\n",
    "s = Solution()\n",
    "s.isMatch(\"aa\",\"a*a\")"
   ]
  },
  {
   "cell_type": "code",
   "execution_count": 5,
   "metadata": {},
   "outputs": [
    {
     "data": {
      "text/plain": [
       "4"
      ]
     },
     "execution_count": 5,
     "metadata": {},
     "output_type": "execute_result"
    }
   ],
   "source": [
    "# 5461. 仅含 1 的子串数\n",
    "# 给你一个二进制字符串 s（仅由 '0' 和 '1' 组成的字符串）。\n",
    "\n",
    "# 返回所有字符都为 1 的子字符串的数目。\n",
    "\n",
    "# 由于答案可能很大，请你将它对 10^9 + 7 取模后返回。\n",
    "\n",
    " \n",
    "\n",
    "# 示例 1：\n",
    "\n",
    "# 输入：s = \"0110111\"\n",
    "# 输出：9\n",
    "# 解释：共有 9 个子字符串仅由 '1' 组成\n",
    "# \"1\" -> 5 次\n",
    "# \"11\" -> 3 次\n",
    "# \"111\" -> 1 次\n",
    "class Solution:\n",
    "    def numSub(self, s: str) -> int:\n",
    "        if not s:\n",
    "            return 0\n",
    "        s += '0'\n",
    "        start_idx = 0\n",
    "        end_idx = 1 \n",
    "        count = 0\n",
    "        while start_idx <= end_idx < len(s):\n",
    "            if s[start_idx] == '0':\n",
    "                start_idx +=1\n",
    "                end_idx = start_idx+1\n",
    "                continue \n",
    "            if s[start_idx] == '1' and  s[end_idx] == '1':\n",
    "                end_idx +=1\n",
    "                continue\n",
    "            if s[start_idx] == '1' and s[end_idx] == '0':\n",
    "                # count 是等差数列的连加：’1111‘ = 4+3+2+1\n",
    "                max_len = end_idx - start_idx\n",
    "                count += (max_len+1)*max_len >>1\n",
    "                start_idx = end_idx + 1\n",
    "                end_idx = start_idx+1\n",
    "        return count % (10**9 +7)"
   ]
  },
  {
   "cell_type": "code",
   "execution_count": 8,
   "metadata": {},
   "outputs": [
    {
     "data": {
      "text/plain": [
       "True"
      ]
     },
     "execution_count": 8,
     "metadata": {},
     "output_type": "execute_result"
    }
   ],
   "source": [
    "# 给定三个字符串 s1, s2, s3, 验证 s3 是否是由 s1 和 s2 交错组成的。\n",
    "\n",
    "# 示例 1:\n",
    "\n",
    "# 输入: s1 = \"aabcc\", s2 = \"dbbca\", s3 = \"aadbbcbcac\"\n",
    "# 输出: true\n",
    "# 示例 2:\n",
    "\n",
    "# 输入: s1 = \"aabcc\", s2 = \"dbbca\", s3 = \"aadbbbaccc\"\n",
    "# 输出: false\n",
    "\n",
    "# 来源：力扣（LeetCode）\n",
    "# 链接：https://leetcode-cn.com/problems/interleaving-string\n",
    "# 著作权归领扣网络所有。商业转载请联系官方授权，非商业转载请注明出处。\n",
    "class Solution:\n",
    "    def isInterleave(self, s1: str, s2: str, s3: str) -> bool:\n",
    "        m,n = len(s1),len(s2)\n",
    "        if m+n != len(s3):\n",
    "            return False\n",
    "        \n",
    "        # 使用滚动数组做递归\n",
    "        # 如果s1[i] == s3[i+j]: ans = dp[i-1][j] \n",
    "        # or s2[j] == s[i+j] ans= dp[i][j-1]  \n",
    "        dp = [False for _ in range(n+1)] # 滚动数组只用记住上一行的值\n",
    "        dp[0] = True\n",
    "        for i in range(m+1):\n",
    "            for j in range(n+1):\n",
    "                if j==0: # 如果第二个字符串一个也不取，那么只和当前s1[i-1]是否等于tar_char=s3[i-1] 以及上一次dp[0]有关\n",
    "                    dp[j] = (i==0 or s1[i-1] == s3[i-1]) and dp[0]\n",
    "                    continue\n",
    "                tar_char = s3[i+j-1]\n",
    "                ans1=False\n",
    "                if i>0 and s1[i-1]==tar_char:\n",
    "                    ans1 = dp[j]\n",
    "                ans2=False\n",
    "                if s2[j-1]==tar_char:\n",
    "                    ans2 = dp[j-1] # 上一个状态就存在dp[j-1中]\n",
    "                dp[j] = ans1 or ans2\n",
    "        \n",
    "        return dp[-1]\n",
    "s = Solution()\n",
    "s.isInterleave(\"abc\",\"dbr\",\"abdbrc\")"
   ]
  },
  {
   "cell_type": "code",
   "execution_count": null,
   "metadata": {},
   "outputs": [],
   "source": [
    "#最长回文子串\n",
    "class Solution:\n",
    "    def longestPalindrome(self, s: str) -> str:\n",
    "        len_s = len(s)\n",
    "        if len_s < 2: # 小于长度2的时候直接返回即可\n",
    "            return s\n",
    "\n",
    "        # 动态规划\n",
    "        # 状态转移方程-dp[i][j]从i到j组成的子串是否是回文子串：dp[i][j] = s[i] == s[j] and dp[i+1][j-1]\n",
    "        dp = [[True if i==j else False for j in range(len_s)]for i in range(len_s)]\n",
    "        max_l = 0\n",
    "        max_start = 0\n",
    "        # 要竖着一列一列遍历：因为要用到[i+1][j-1]-前一列的后一行\n",
    "        for j in range(len_s):# 从第0列到最后一列\n",
    "            cur_len = j\n",
    "            for i in range(j): # 从第0行到低j行就可以了\n",
    "                dp[i][j] = s[i] == s[j] if cur_len==1 else (s[i] == s[j] and dp[i+1][j-1])\n",
    "                if dp[i][j] and cur_len > max_l:\n",
    "                    # print(i,j)\n",
    "                    max_l = cur_len\n",
    "                    max_start = i\n",
    "                cur_len -=1\n",
    "        # print(dp)\n",
    "        return s[max_start:max_start+max_l+1]\n",
    "\n",
    "class Solution:\n",
    "    def longestPalindrome(self, s: str) -> str:\n",
    "        len_s = len(s)\n",
    "        if len_s < 2: # 小于长度2的时候直接返回即可\n",
    "            return s\n",
    "\n",
    "        # 中心扩散\n",
    "        middle_idx = 0\n",
    "        max_l = 0\n",
    "        # 奇数中心扩散\n",
    "        for i in range(1,len_s-1):\n",
    "            start = i-1\n",
    "            end = i+1\n",
    "            cur_l = 1\n",
    "            while start>=0 and end <= len_s-1:\n",
    "                if s[start] == s[end]:\n",
    "                    cur_l +=2\n",
    "                    start -= 1\n",
    "                    end +=1\n",
    "                else:\n",
    "                    break\n",
    "            if cur_l > max_l:\n",
    "                max_l = cur_l\n",
    "                middle_idx = i\n",
    "\n",
    "        # 偶数中心扩散\n",
    "        for i in range(1,len_s):\n",
    "            if s[i] == s[i-1]:\n",
    "                start = i-2\n",
    "                end = i+1\n",
    "                cur_l = 2\n",
    "                while start>=0 and end <=len_s-1:\n",
    "                    if s[start] == s[end]:\n",
    "                        cur_l +=2\n",
    "                        start -=1\n",
    "                        end +=1\n",
    "                    else:\n",
    "                        break\n",
    "                if cur_l > max_l:\n",
    "                    max_l = cur_l\n",
    "                    middle_idx = i\n",
    "        # print(max_l)\n",
    "        # print(middle_idx)\n",
    "        start = middle_idx - max_l//2\n",
    "        return s[start:start+max_l] if max_l > 0 else s[0]"
   ]
  },
  {
   "cell_type": "code",
   "execution_count": null,
   "metadata": {},
   "outputs": [],
   "source": [
    "# 72. 编辑距离\n",
    "# 给你两个单词 word1 和 word2，请你计算出将 word1 转换成 word2 所使用的最少操作数 。\n",
    "\n",
    "# 你可以对一个单词进行如下三种操作：\n",
    "\n",
    "# 插入一个字符\n",
    "# 删除一个字符\n",
    "# 替换一个字符\n",
    " \n",
    "\n",
    "# 示例 1：\n",
    "\n",
    "# 输入：word1 = \"horse\", word2 = \"ros\"\n",
    "# 输出：3\n",
    "# 解释：\n",
    "# horse -> rorse (将 'h' 替换为 'r')\n",
    "# rorse -> rose (删除 'r')\n",
    "# rose -> ros (删除 'e')\n",
    "# 示例 2：\n",
    "\n",
    "# 输入：word1 = \"intention\", word2 = \"execution\"\n",
    "# 输出：5\n",
    "# 解释：\n",
    "# intention -> inention (删除 't')\n",
    "# inention -> enention (将 'i' 替换为 'e')\n",
    "# enention -> exention (将 'n' 替换为 'x')\n",
    "# exention -> exection (将 'n' 替换为 'c')\n",
    "# exection -> execution (插入 'u')\n",
    "class Solution:\n",
    "    def minDistance(self, word1: str, word2: str) -> int:\n",
    "        if not word1 or not word2:\n",
    "            return max(len(word1),len(word2))\n",
    "        # 矩阵法动态规划:矩阵中op[i][j] 代表把word1的前j个字符组成的子串变为word2的前i个字符组成的子串所需要的操作步数\n",
    "        op = [[0 for _ in range(len(word1))]for _ in range(len(word2))]\n",
    "        for row in range(len(word2)):\n",
    "            for col in range(len(word1)):\n",
    "                if word1[col] == word2[row]: # 如果字符串相同，那么所需要的操作步骤和\n",
    "                    if row == 0 or col == 0: # 如果有任意一个字符串的长度为1，那么总步数=较长的那个字符串长度-1\n",
    "                        op[row][col] = max(row,col)\n",
    "                    else:\n",
    "                        op[row][col] = op[row-1][col-1] # 等于各自减去一个字符串的操作\n",
    "                else: # 如果当前不等,\n",
    "                    if row == 0 and col == 0: # 如果有两个字符串的长度都为1，那么总步数=较长的那个字符串长度\n",
    "                        op[row][col] = max(row,col) + 1\n",
    "                    else:\n",
    "                        op[row][col] = min(op[row-1][col] if row>0 else float('inf'),\n",
    "                        op[row][col-1] if col>0 else float('inf'),\n",
    "                        op[row-1][col-1] if row>0 and col>0 else float('inf')) + 1\n",
    "        # print(op)\n",
    "        return op[-1][-1]"
   ]
  },
  {
   "cell_type": "code",
   "execution_count": 37,
   "metadata": {},
   "outputs": [
    {
     "name": "stdout",
     "output_type": "stream",
     "text": [
      "['g', 'g', 'g', 'g', 'n', 'n', 'n', 'n', 'r', 'r', 'r', 'r', 'a', 'a', 'a', 'm', 'm', 'm', 'q', 'q', 'q', 't', 't', 't', 'w', 'w', 'w', 'z', 'z', 'z', 'f', 'f', 'i', 'i', 'k', 'k', 'o', 'o', 'u', 'u', 'x', 'x', 'b', 'c', 'd', 'e', 'j', 'l', 'v', 'y']\n",
      "g\n",
      "gy\n",
      "gyg\n",
      "gygv\n",
      "gygvg\n",
      "gygvgl\n",
      "gygvglg\n",
      "gygvglgn\n",
      "gygvglgnj\n",
      "gygvglgnjn\n",
      "gygvglgnjne\n",
      "gygvglgnjnen\n",
      "gygvglgnjnend\n",
      "gygvglgnjnendn\n",
      "gygvglgnjnendnr\n",
      "gygvglgnjnendnrc\n",
      "gygvglgnjnendnrcr\n",
      "gygvglgnjnendnrcrb\n",
      "gygvglgnjnendnrcrbr\n",
      "gygvglgnjnendnrcrbrx\n",
      "gygvglgnjnendnrcrbrxr\n",
      "gygvglgnjnendnrcrbrxra\n",
      "gygvglgnjnendnrcrbrxrax\n",
      "gygvglgnjnendnrcrbrxraxa\n",
      "gygvglgnjnendnrcrbrxraxau\n",
      "gygvglgnjnendnrcrbrxraxaua\n",
      "gygvglgnjnendnrcrbrxraxauam\n",
      "gygvglgnjnendnrcrbrxraxauamu\n",
      "gygvglgnjnendnrcrbrxraxauamum\n",
      "gygvglgnjnendnrcrbrxraxauamumo\n",
      "gygvglgnjnendnrcrbrxraxauamumom\n",
      "gygvglgnjnendnrcrbrxraxauamumomq\n",
      "gygvglgnjnendnrcrbrxraxauamumomqo\n",
      "gygvglgnjnendnrcrbrxraxauamumomqoq\n",
      "gygvglgnjnendnrcrbrxraxauamumomqoqk\n",
      "gygvglgnjnendnrcrbrxraxauamumomqoqkq\n",
      "gygvglgnjnendnrcrbrxraxauamumomqoqkqt\n",
      "gygvglgnjnendnrcrbrxraxauamumomqoqkqtk\n",
      "gygvglgnjnendnrcrbrxraxauamumomqoqkqtkt\n",
      "gygvglgnjnendnrcrbrxraxauamumomqoqkqtkti\n",
      "gygvglgnjnendnrcrbrxraxauamumomqoqkqtktit\n",
      "gygvglgnjnendnrcrbrxraxauamumomqoqkqtktitw\n",
      "gygvglgnjnendnrcrbrxraxauamumomqoqkqtktitwi\n",
      "gygvglgnjnendnrcrbrxraxauamumomqoqkqtktitwiw\n",
      "gygvglgnjnendnrcrbrxraxauamumomqoqkqtktitwiwf\n",
      "gygvglgnjnendnrcrbrxraxauamumomqoqkqtktitwiwfw\n",
      "gygvglgnjnendnrcrbrxraxauamumomqoqkqtktitwiwfwz\n",
      "gygvglgnjnendnrcrbrxraxauamumomqoqkqtktitwiwfwzf\n",
      "gygvglgnjnendnrcrbrxraxauamumomqoqkqtktitwiwfwzfz\n"
     ]
    },
    {
     "data": {
      "text/plain": [
       "'zgygvglgnjnendnrcrbrxraxauamumomqoqkqtktitwiwfwzfz'"
      ]
     },
     "execution_count": 37,
     "metadata": {},
     "output_type": "execute_result"
    }
   ],
   "source": [
    "# 给定一个字符串S，检查是否能重新排布其中的字母，使得两相邻的字符不同。\n",
    "\n",
    "# 若可行，输出任意可行的结果。若不可行，返回空字符串。\n",
    "\n",
    "# 示例 1:\n",
    "\n",
    "# 输入: S = \"aab\"\n",
    "# 输出: \"aba\"\n",
    "# 示例 2:\n",
    "\n",
    "# 输入: S = \"aaab\"\n",
    "# 输出: \"\"\n",
    "\n",
    "# 来源：力扣（LeetCode）\n",
    "# 链接：https://leetcode-cn.com/problems/reorganize-string\n",
    "# 著作权归领扣网络所有。商业转载请联系官方授权，非商业转载请注明出处。\n",
    "\n",
    "class Solution:\n",
    "    def reorganizeString(self, S: str) -> str:\n",
    "        if not S:\n",
    "            return \"\"\n",
    "        S_list = sorted(S)\n",
    "        S_list = sorted(S_list,key=lambda char:S.count(char),reverse=True)\n",
    "        print(S_list)\n",
    "        res = S_list.pop(0)\n",
    "        while S_list:\n",
    "            print(res)\n",
    "            if S_list[0] != res[-1]:\n",
    "                res += S_list.pop(0)\n",
    "            elif S_list[-1] != res[-1]:\n",
    "                res += S_list.pop()\n",
    "            elif S_list[0] != res[0]:\n",
    "                res = S_list.pop(0) + res\n",
    "            elif S_list[-1] != res[0]:\n",
    "                res = S_list.pop() + res\n",
    "            else:\n",
    "                return \"\"\n",
    "        return res\n",
    "s = Solution()\n",
    "# s.reorganizeString(\"sssaa\")\n",
    "# s.reorganizeString(\"vvvlo\")\n",
    "# s.reorganizeString(\"aaaaaabbbbbabababbba\")\n",
    "# s.reorganizeString(\"kkkkzrkatkwpkkkktrq\")\n",
    "s.reorganizeString(\"xgtrkgxyfdiztzwmloftcanbguarnwqeqwgmikmorvquzanjnr\")"
   ]
  },
  {
   "cell_type": "code",
   "execution_count": 8,
   "metadata": {},
   "outputs": [
    {
     "data": {
      "text/plain": [
       "'a'"
      ]
     },
     "execution_count": 8,
     "metadata": {},
     "output_type": "execute_result"
    }
   ],
   "source": [
    "s = \"\"\n",
    "s += ['a', 'a', 's', 's', 's'].pop(0)\n",
    "s"
   ]
  },
  {
   "cell_type": "code",
   "execution_count": 14,
   "metadata": {},
   "outputs": [
    {
     "data": {
      "text/plain": [
       "4"
      ]
     },
     "execution_count": 14,
     "metadata": {},
     "output_type": "execute_result"
    }
   ],
   "source": [
    "\"ssss\".count('s')"
   ]
  },
  {
   "cell_type": "code",
   "execution_count": 29,
   "metadata": {},
   "outputs": [
    {
     "name": "stdout",
     "output_type": "stream",
     "text": [
      "a 10\n",
      "a 10\n",
      "a 10\n",
      "a 10\n",
      "a 10\n",
      "a 10\n",
      "b 10\n",
      "b 10\n",
      "b 10\n",
      "b 10\n",
      "b 10\n",
      "a 10\n",
      "b 10\n",
      "a 10\n",
      "b 10\n",
      "a 10\n",
      "b 10\n",
      "b 10\n",
      "b 10\n",
      "a 10\n"
     ]
    },
    {
     "data": {
      "text/plain": [
       "['b',\n",
       " 'b',\n",
       " 'b',\n",
       " 'b',\n",
       " 'b',\n",
       " 'b',\n",
       " 'b',\n",
       " 'b',\n",
       " 'b',\n",
       " 'b',\n",
       " 'a',\n",
       " 'a',\n",
       " 'a',\n",
       " 'a',\n",
       " 'a',\n",
       " 'a',\n",
       " 'a',\n",
       " 'a',\n",
       " 'a',\n",
       " 'a']"
      ]
     },
     "execution_count": 29,
     "metadata": {},
     "output_type": "execute_result"
    }
   ],
   "source": [
    "S = ['a',\n",
    " 'a',\n",
    " 'a',\n",
    " 'a',\n",
    " 'a',\n",
    " 'a',\n",
    " 'b',\n",
    " 'b',\n",
    " 'b',\n",
    " 'b',\n",
    " 'b',\n",
    " 'a',\n",
    " 'b',\n",
    " 'a',\n",
    " 'b',\n",
    " 'a',\n",
    " 'b',\n",
    " 'b',\n",
    " 'b',\n",
    " 'a']\n",
    "def count_char(char):\n",
    "    print(char,S.count(char))\n",
    "    return str(S.count(char)) + char\n",
    "sorted(S,key=count_char,reverse=True)"
   ]
  },
  {
   "cell_type": "code",
   "execution_count": null,
   "metadata": {},
   "outputs": [],
   "source": []
  }
 ],
 "metadata": {
  "kernelspec": {
   "display_name": "Python 3",
   "language": "python",
   "name": "python3"
  },
  "language_info": {
   "codemirror_mode": {
    "name": "ipython",
    "version": 3
   },
   "file_extension": ".py",
   "mimetype": "text/x-python",
   "name": "python",
   "nbconvert_exporter": "python",
   "pygments_lexer": "ipython3",
   "version": "3.7.4"
  }
 },
 "nbformat": 4,
 "nbformat_minor": 4
}
