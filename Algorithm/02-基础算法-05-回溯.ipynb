{
 "cells": [
  {
   "cell_type": "code",
   "execution_count": null,
   "metadata": {},
   "outputs": [],
   "source": []
  },
  {
   "cell_type": "markdown",
   "metadata": {},
   "source": [
    "# 与四色问题类似的6中农作物种植问题"
   ]
  },
  {
   "cell_type": "code",
   "execution_count": 11,
   "metadata": {},
   "outputs": [
    {
     "name": "stdout",
     "output_type": "stream",
     "text": [
      "13230\n"
     ]
    }
   ],
   "source": [
    "A = [[0,0],\n",
    "     [0,0],\n",
    "     [0,0]]\n",
    "rows = len(A)\n",
    "columns = len(A[0])\n",
    "count = 0\n",
    "positions = [(0,0),(0,1),(1,0),(1,1),(2,0),(2,1)]\n",
    "position_count = len(positions)\n",
    "def cover_current_area(position_idx):\n",
    "    i,j = positions[position_idx]\n",
    "    global count \n",
    "    vals = [1,2,3,4,5,6] # 备选农作物\n",
    "    # 将四周已有的农作物全部剔除\n",
    "    if i-1 >= 0 and A[i-1][j] in vals:\n",
    "        vals.remove(A[i-1][j])\n",
    "    if i+1 < rows and A[i+1][j] in vals:\n",
    "        vals.remove(A[i+1][j])\n",
    "    if j-1 >= 0 and A[i][j-1] in vals:\n",
    "        vals.remove(A[i][j-1])\n",
    "    if j+1 < columns and A[i][j+1] in vals:\n",
    "        vals.remove(A[i][j+1])\n",
    "    # 尝试在可选农作物中把每种农作物都试一遍\n",
    "    for val in vals:\n",
    "        A[i][j] = val\n",
    "        if position_idx == position_count-1: # 如果当前种的是最后一个位置\n",
    "            count +=1 # 记数加1，说明一种种植情况出来了\n",
    "#             print(count)\n",
    "            A[i][j] = 0 # 回溯的关键：重置这个位置\n",
    "            continue\n",
    "        cover_current_area(position_idx+1) # 种植下一个位置\n",
    "        A[i][j] = 0 # 在换另外一种可选农作物时，需要回溯这个位置，不然会影响外层循环的选择\n",
    "        \n",
    "cover_current_area(0)\n",
    "print(count)"
   ]
  },
  {
   "cell_type": "code",
   "execution_count": 1,
   "metadata": {},
   "outputs": [
    {
     "data": {
      "text/plain": [
       "[[1, 2, 3, 4],\n",
       " [1, 2, 4, 3],\n",
       " [1, 3, 2, 4],\n",
       " [1, 3, 4, 2],\n",
       " [1, 4, 3, 2],\n",
       " [1, 4, 2, 3],\n",
       " [2, 1, 3, 4],\n",
       " [2, 1, 4, 3],\n",
       " [2, 3, 1, 4],\n",
       " [2, 3, 4, 1],\n",
       " [2, 4, 3, 1],\n",
       " [2, 4, 1, 3],\n",
       " [3, 2, 1, 4],\n",
       " [3, 2, 4, 1],\n",
       " [3, 1, 2, 4],\n",
       " [3, 1, 4, 2],\n",
       " [3, 4, 1, 2],\n",
       " [3, 4, 2, 1],\n",
       " [4, 2, 3, 1],\n",
       " [4, 2, 1, 3],\n",
       " [4, 3, 2, 1],\n",
       " [4, 3, 1, 2],\n",
       " [4, 1, 3, 2],\n",
       " [4, 1, 2, 3]]"
      ]
     },
     "execution_count": 1,
     "metadata": {},
     "output_type": "execute_result"
    }
   ],
   "source": [
    "# 全排列组合：顺序数\n",
    "def all_list(nums):\n",
    "    result = []\n",
    "    def resove(idx): # 从idx后面的数进行全排列\n",
    "        if idx == len(nums)-1:\n",
    "#             print(nums)\n",
    "            result.append(nums.copy()) # 这里必须copy一下\n",
    "            return \n",
    "        for i in range(idx,len(nums)):\n",
    "            nums[idx],nums[i] = nums[i],nums[idx] # 把idx后面每一个位置上的数都放到idx上一次，第一次就是自身因为i==idx\n",
    "            resove(idx+1) # 将idx后面的数进行全排列\n",
    "            nums[i],nums[idx] = nums[idx],nums[i] # 回溯：在把i做首位，所有全排列都排外之后，需要把位置还原\n",
    "    resove(0)\n",
    "    return result\n",
    "all_list([i for i in range(1,5)])"
   ]
  },
  {
   "cell_type": "code",
   "execution_count": null,
   "metadata": {},
   "outputs": [],
   "source": []
  }
 ],
 "metadata": {
  "kernelspec": {
   "display_name": "Python 3",
   "language": "python",
   "name": "python3"
  },
  "language_info": {
   "codemirror_mode": {
    "name": "ipython",
    "version": 3
   },
   "file_extension": ".py",
   "mimetype": "text/x-python",
   "name": "python",
   "nbconvert_exporter": "python",
   "pygments_lexer": "ipython3",
   "version": "3.7.4"
  }
 },
 "nbformat": 4,
 "nbformat_minor": 4
}
