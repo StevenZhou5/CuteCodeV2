{
 "cells": [
  {
   "cell_type": "code",
   "execution_count": null,
   "metadata": {},
   "outputs": [],
   "source": []
  },
  {
   "cell_type": "code",
   "execution_count": 6,
   "metadata": {},
   "outputs": [
    {
     "name": "stdout",
     "output_type": "stream",
     "text": [
      "graph: [(1, 2), (2, 4), (2, 5), (4, 8), (5, 8), (1, 3), (3, 6), (3, 7), (6, 7)]\n",
      "graph_dict: {1: [2, 3], 2: [1, 4, 5], 4: [2, 8], 5: [2, 8], 8: [4, 5], 3: [1, 6, 7], 6: [3, 7], 7: [3, 6]}\n"
     ]
    },
    {
     "data": {
      "text/plain": [
       "[1, 2, 3, 4, 5, 6, 7, 8]"
      ]
     },
     "execution_count": 6,
     "metadata": {},
     "output_type": "execute_result"
    }
   ],
   "source": [
    "# 广度优先遍历图\n",
    "from collections import deque\n",
    "graph = [(1,2),(2,4),(2,5),(4,8),(5,8),(1,3),(3,6),(3,7),(6,7)]\n",
    "print(\"graph:\",graph)\n",
    "\n",
    "graph_dict = {}\n",
    "for node1,node2 in graph:\n",
    "    # node1的所有下一个结点列表初始化\n",
    "    node1_next_list = graph_dict.get(node1,[])\n",
    "    node1_next_list.append(node2)\n",
    "    graph_dict[node1] = node1_next_list\n",
    "    \n",
    "    # node2的所有下一个结点列表初始化\n",
    "    node2_next_list = graph_dict.get(node2,[])\n",
    "    node2_next_list.append(node1)\n",
    "    graph_dict[node2] = node2_next_list\n",
    "print(\"graph_dict:\",graph_dict)\n",
    "\n",
    "start = 1\n",
    "graph_deque = deque([start])\n",
    "visited = [start]\n",
    "while graph_deque:\n",
    "    cur_node = graph_deque.popleft()\n",
    "    if cur_node not in visited:\n",
    "        visited.append(cur_node)\n",
    "    \n",
    "    cur_next_list = graph_dict.get(cur_node,[])\n",
    "    while cur_next_list:\n",
    "        cur_next = cur_next_list.pop(0) # 可以从第0位取，也可以从最后一位取\n",
    "        if cur_next not in visited:\n",
    "            graph_deque.append(cur_next)\n",
    "visited"
   ]
  },
  {
   "cell_type": "code",
   "execution_count": null,
   "metadata": {},
   "outputs": [],
   "source": [
    "# 给你一棵树（即，一个连通的无环无向图），这棵树由编号从 0  到 n - 1 的 n 个节点组成，且恰好有 n - 1 条 edges 。树的根节点为节点 0 ，树上的每一个节点都有一个标签，也就是字符串 labels 中的一个小写字符（编号为 i 的 节点的标签就是 labels[i] ）\n",
    "\n",
    "# 边数组 edges 以 edges[i] = [ai, bi] 的形式给出，该格式表示节点 ai 和 bi 之间存在一条边。\n",
    "\n",
    "# 返回一个大小为 n 的数组，其中 ans[i] 表示第 i 个节点的子树中与节点 i 标签相同的节点数。\n",
    "\n",
    "# 树 T 中的子树是由 T 中的某个节点及其所有后代节点组成的树。\n",
    "\n",
    "# 来源：力扣（LeetCode）\n",
    "# 链接：https://leetcode-cn.com/problems/number-of-nodes-in-the-sub-tree-with-the-same-label\n",
    "# 著作权归领扣网络所有。商业转载请联系官方授权，非商业转载请注明出处。\n",
    "class Solution:\n",
    "    def countSubTrees(self, n: int, edges: List[List[int]], labels: str) -> List[int]:\n",
    "        from collections import defaultdict,deque\n",
    "        treeMap = defaultdict(list)\n",
    "        for edge in edges:\n",
    "            if edge[1] in treeMap or edge[1]==0:\n",
    "                treeMap[edge[1]].append(edge[0])\n",
    "                treeMap[edge[0]]\n",
    "                continue\n",
    "            treeMap[edge[0]].append(edge[1])\n",
    "            treeMap[edge[1]]\n",
    "        \n",
    "        # print(treeMap)\n",
    "        # 从根结点开始进行广度优先遍历\n",
    "        ans = [0 for _ in range(n)]\n",
    "        def get_label_list(node:int) -> List[int]:\n",
    "            # 获得某个结点下所有a-z标签的个数\n",
    "            # print(node)\n",
    "            idx = ord(labels[node]) - ord('a')\n",
    "            res = [1 if i==idx else 0 for i in range(26)]\n",
    "            if len(treeMap[node])==0: # 如果是叶子结点\n",
    "                ans[node] = 1\n",
    "                return res\n",
    "            \n",
    "            for childNode in treeMap[node]:\n",
    "                res = [i+j for i, j in zip(res,get_label_list(childNode))]\n",
    "            ans[node] = res[idx]\n",
    "            return res\n",
    "        \n",
    "        get_label_list(0)\n",
    "        return ans"
   ]
  }
 ],
 "metadata": {
  "kernelspec": {
   "display_name": "Python 3",
   "language": "python",
   "name": "python3"
  },
  "language_info": {
   "codemirror_mode": {
    "name": "ipython",
    "version": 3
   },
   "file_extension": ".py",
   "mimetype": "text/x-python",
   "name": "python",
   "nbconvert_exporter": "python",
   "pygments_lexer": "ipython3",
   "version": "3.7.4"
  }
 },
 "nbformat": 4,
 "nbformat_minor": 4
}
