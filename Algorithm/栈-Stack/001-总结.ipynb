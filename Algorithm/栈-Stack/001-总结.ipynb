{
 "cells": [
  {
   "cell_type": "markdown",
   "metadata": {},
   "source": [
    "# 数据结构优缺点"
   ]
  },
  {
   "cell_type": "markdown",
   "metadata": {
    "ExecuteTime": {
     "end_time": "2022-08-05T01:13:32.971481Z",
     "start_time": "2022-08-05T01:13:32.967209Z"
    }
   },
   "source": [
    "#特点：先进后出；"
   ]
  },
  {
   "cell_type": "markdown",
   "metadata": {},
   "source": [
    "#空间复杂度(space)：O(n);\n",
    "#插入头位置时间复杂度(prepend)：O(n)；\n",
    "#插入末尾位置的时间复杂度(append)：O(1);"
   ]
  },
  {
   "cell_type": "markdown",
   "metadata": {},
   "source": [
    "# 和其他数据结构的关系"
   ]
  },
  {
   "cell_type": "markdown",
   "metadata": {
    "ExecuteTime": {
     "end_time": "2022-08-05T02:14:12.530000Z",
     "start_time": "2022-08-05T02:14:12.527465Z"
    }
   },
   "source": [
    "#1、和队列的进出规则刚好相反"
   ]
  },
  {
   "cell_type": "markdown",
   "metadata": {},
   "source": [
    "# 常用于解决什么样的问题"
   ]
  },
  {
   "cell_type": "markdown",
   "metadata": {},
   "source": [
    "#1、深度优先搜索（DFS）\n",
    "#2、字符串或元素匹配（如括号匹配）"
   ]
  },
  {
   "cell_type": "markdown",
   "metadata": {},
   "source": [
    "# 常用的实现方式"
   ]
  },
  {
   "cell_type": "code",
   "execution_count": 2,
   "metadata": {
    "ExecuteTime": {
     "end_time": "2022-08-07T02:02:55.426594Z",
     "start_time": "2022-08-07T02:02:55.422116Z"
    }
   },
   "outputs": [
    {
     "name": "stdout",
     "output_type": "stream",
     "text": [
      "['(', ')']\n",
      "['(']\n"
     ]
    }
   ],
   "source": [
    "stack = []\n",
    "stack.append('(')\n",
    "stack.append(')')\n",
    "print(stack)\n",
    "stack.pop()\n",
    "print(stack)"
   ]
  },
  {
   "cell_type": "markdown",
   "metadata": {},
   "source": [
    "# 个人总结"
   ]
  },
  {
   "cell_type": "code",
   "execution_count": 2,
   "metadata": {
    "ExecuteTime": {
     "end_time": "2022-08-17T01:13:33.941755Z",
     "start_time": "2022-08-17T01:13:33.939652Z"
    }
   },
   "outputs": [],
   "source": [
    "#1、stack在实现的时候可以用数组来实现；\n",
    "#2、遇到深度优先问题（DFS）需要想到用递归或者栈实现；\n",
    "#3、需要成对匹配的问题时需要想到是否可以用栈来简化实现方式；\n",
    "#4、用栈处理字符串+数字的问题时，最好使用while循环，因为里面数字的解析从高位到低位会比较方便，\n",
    "#   这时候会在循环内部套循环，但内外循环共用索引i"
   ]
  },
  {
   "cell_type": "markdown",
   "metadata": {},
   "source": [
    "# 常用变量命名（名字即为注释）"
   ]
  },
  {
   "cell_type": "code",
   "execution_count": 6,
   "metadata": {
    "ExecuteTime": {
     "end_time": "2022-08-08T02:51:16.028112Z",
     "start_time": "2022-08-08T02:51:16.020523Z"
    }
   },
   "outputs": [],
   "source": [
    "#1、作为栈使用：stack;\n",
    "#2、输入输出栈：stack_in、stack_out;\n",
    "#3、特定功能占：stack_opt（符号）操作栈；\n",
    "#4、单调栈：stack_increase 单调递增栈；stack_decrease 单调递减栈；"
   ]
  },
  {
   "cell_type": "code",
   "execution_count": null,
   "metadata": {},
   "outputs": [],
   "source": []
  }
 ],
 "metadata": {
  "kernelspec": {
   "display_name": "Python 3",
   "language": "python",
   "name": "python3"
  },
  "language_info": {
   "codemirror_mode": {
    "name": "ipython",
    "version": 3
   },
   "file_extension": ".py",
   "mimetype": "text/x-python",
   "name": "python",
   "nbconvert_exporter": "python",
   "pygments_lexer": "ipython3",
   "version": "3.7.4"
  },
  "toc": {
   "base_numbering": 1,
   "nav_menu": {},
   "number_sections": true,
   "sideBar": true,
   "skip_h1_title": false,
   "title_cell": "Table of Contents",
   "title_sidebar": "Contents",
   "toc_cell": false,
   "toc_position": {},
   "toc_section_display": true,
   "toc_window_display": false
  },
  "varInspector": {
   "cols": {
    "lenName": 16,
    "lenType": 16,
    "lenVar": 40
   },
   "kernels_config": {
    "python": {
     "delete_cmd_postfix": "",
     "delete_cmd_prefix": "del ",
     "library": "var_list.py",
     "varRefreshCmd": "print(var_dic_list())"
    },
    "r": {
     "delete_cmd_postfix": ") ",
     "delete_cmd_prefix": "rm(",
     "library": "var_list.r",
     "varRefreshCmd": "cat(var_dic_list()) "
    }
   },
   "types_to_exclude": [
    "module",
    "function",
    "builtin_function_or_method",
    "instance",
    "_Feature"
   ],
   "window_display": false
  }
 },
 "nbformat": 4,
 "nbformat_minor": 2
}
