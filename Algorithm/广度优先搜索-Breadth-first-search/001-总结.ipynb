{
 "cells": [
  {
   "cell_type": "code",
   "execution_count": 1,
   "metadata": {
    "ExecuteTime": {
     "end_time": "2022-08-16T09:20:15.698174Z",
     "start_time": "2022-08-16T09:20:15.695749Z"
    }
   },
   "outputs": [],
   "source": [
    "#1、 广队列，广度优先搜索，通常会使用队列来实现；\n",
    "#2、 使用队列时，多数情况下逐层遍历和添加元素会使问题简化；而逐层遍历的时候遍历次数可以取当前层的len(queue)来确定;"
   ]
  },
  {
   "cell_type": "code",
   "execution_count": 2,
   "metadata": {
    "ExecuteTime": {
     "end_time": "2022-08-16T09:27:27.747891Z",
     "start_time": "2022-08-16T09:27:27.740804Z"
    }
   },
   "outputs": [],
   "source": [
    "def BFS(graph, start, end):\n",
    "    from collections import deque\n",
    "    queue = deque()\n",
    "    queue.append(start)\n",
    "    visted = set()\n",
    "    \n",
    "    while queue:\n",
    "        cur_node = queue.popleft() # 队列要先进先出\n",
    "        visted.append(cur_node)\n",
    "        process(node) \n",
    "        \n",
    "        # 添加下一层子节点\n",
    "        for child_node in cur_node.childs:\n",
    "            if child_node not in visted: # 如果是有环的图，只要位被访问的结点\n",
    "                queue.append(child_node)\n",
    "\n",
    "def BFS_BATCH(graph, start, end):\n",
    "    from collections import deque\n",
    "    queue = deque()\n",
    "    queue.append(start)\n",
    "    visted = set()\n",
    "    \n",
    "    while queue:\n",
    "        for _ in range(len(queue)): # 逐层遍历，当需要根据层数做一些操作时，可以简化问题\n",
    "            cur_node = queue.popleft() # 队列要先进先出\n",
    "            visted.append(cur_node)\n",
    "            process(node) \n",
    "\n",
    "            # 添加下一层子节点\n",
    "            for child_node in cur_node.childs:\n",
    "                if child_node not in visted: # 如果是有环的图，只要位被访问的结点\n",
    "                    queue.append(child_node)"
   ]
  },
  {
   "cell_type": "code",
   "execution_count": null,
   "metadata": {},
   "outputs": [],
   "source": []
  }
 ],
 "metadata": {
  "kernelspec": {
   "display_name": "Python 3",
   "language": "python",
   "name": "python3"
  },
  "language_info": {
   "codemirror_mode": {
    "name": "ipython",
    "version": 3
   },
   "file_extension": ".py",
   "mimetype": "text/x-python",
   "name": "python",
   "nbconvert_exporter": "python",
   "pygments_lexer": "ipython3",
   "version": "3.7.4"
  },
  "toc": {
   "base_numbering": 1,
   "nav_menu": {},
   "number_sections": true,
   "sideBar": true,
   "skip_h1_title": false,
   "title_cell": "Table of Contents",
   "title_sidebar": "Contents",
   "toc_cell": false,
   "toc_position": {},
   "toc_section_display": true,
   "toc_window_display": false
  },
  "varInspector": {
   "cols": {
    "lenName": 16,
    "lenType": 16,
    "lenVar": 40
   },
   "kernels_config": {
    "python": {
     "delete_cmd_postfix": "",
     "delete_cmd_prefix": "del ",
     "library": "var_list.py",
     "varRefreshCmd": "print(var_dic_list())"
    },
    "r": {
     "delete_cmd_postfix": ") ",
     "delete_cmd_prefix": "rm(",
     "library": "var_list.r",
     "varRefreshCmd": "cat(var_dic_list()) "
    }
   },
   "types_to_exclude": [
    "module",
    "function",
    "builtin_function_or_method",
    "instance",
    "_Feature"
   ],
   "window_display": false
  }
 },
 "nbformat": 4,
 "nbformat_minor": 2
}
