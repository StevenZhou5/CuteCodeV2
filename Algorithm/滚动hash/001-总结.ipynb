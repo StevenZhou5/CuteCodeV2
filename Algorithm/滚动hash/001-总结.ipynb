{
 "cells": [
  {
   "cell_type": "markdown",
   "metadata": {},
   "source": [
    "# why - 常用于解决的问题\n",
    "1、解决字符串匹配问题，典型的是在长字符串中找短字符串是否存在"
   ]
  },
  {
   "cell_type": "markdown",
   "metadata": {},
   "source": [
    "# how - 怎么用\n",
    "    # rabin-karp 拉宾-卡普算法：base进制的字符串表示法 + 滚动增加计算；再加上质数取模；\n",
    "    # hash算法： 找一个base ，利用base进制表示一段字符串\n",
    "    # 例如 假设base = 3， 字符a=0 ; 字符b=1; 字符c=2;\n",
    "    # 那么 abca = 1231 的三进制数，转换为十进制= 1*(3^0) + 3*(3^1) + 2*(3^2) + 1 *(3^3) =\n",
    "\n",
    "    # 核心 base 值 (至少要大于所有字符种类的数目，比如字符串中总共有26种字符，那么base至少要大于26)，\n",
    "    # 用于取模的 mod 值，最好选用质数，且 要大于字典容量值，比如总工有100个词，那么mod必须要大于100 ，不然就容易产生hash冲突，而且最好远大于字典容量\n",
    "\n",
    "    # ord('a') = 97 ,做一我们要求一个字符的base进制的数 = ord(chr) - 96\n",
    "    \n",
    "    # 注意：hash值如果不一样，说明一定不匹配；hash值一样说明可能匹配，此时我们还要做一次完整的字符串校验"
   ]
  },
  {
   "cell_type": "markdown",
   "metadata": {},
   "source": [
    "# 举例\n",
    "28. 找出字符串中第一个匹配项的下标\n",
    "给你两个字符串 haystack 和 needle ，请你在 haystack 字符串中找出 needle 字符串的第一个匹配项的下标（下标从 0 开始）。如果 needle 不是 haystack 的一部分，则返回  -1 。\n",
    "\n",
    " \n",
    "\n",
    "示例 1：\n",
    "\n",
    "输入：haystack = \"sadbutsad\", needle = \"sad\"\n",
    "输出：0\n",
    "解释：\"sad\" 在下标 0 和 6 处匹配。\n",
    "第一个匹配项的下标是 0 ，所以返回 0 。\n",
    "示例 2：\n",
    "\n",
    "输入：haystack = \"leetcode\", needle = \"leeto\"\n",
    "输出：-1\n",
    "解释：\"leeto\" 没有在 \"leetcode\" 中出现，所以返回 -1 。\n",
    " \n",
    "\n",
    "提示：\n",
    "\n",
    "1 <= haystack.length, needle.length <= 104\n",
    "haystack 和 needle 仅由小写英文字符组成"
   ]
  },
  {
   "cell_type": "code",
   "execution_count": 3,
   "metadata": {
    "ExecuteTime": {
     "end_time": "2022-10-30T05:14:28.636343Z",
     "start_time": "2022-10-30T05:14:28.626905Z"
    }
   },
   "outputs": [],
   "source": [
    "class Solution:\n",
    "    def strStr(self, haystack: str, needle: str) -> int:\n",
    "        # 滚动hash\n",
    "        # 时间复杂度 ：O(m + n), 如果mod取值合理，没有冲突或者冲突较少的情况下 haystack 遍历一次O(m), needle 最多遍历k次 k * O(n)\n",
    "        # 空间复杂度 ：O(1)\n",
    "        m = len(haystack)\n",
    "        n = len(needle)\n",
    "        if m < n:\n",
    "            return -1\n",
    "        base = 30 # 核心参数1\n",
    "        mod = 999983 # 核心参数2\n",
    "        tar_hash = 0 \n",
    "        ord_a = ord('a')\n",
    "        #  step 1 ： 计算目标 hash值\n",
    "        for c in needle:\n",
    "            tar_hash = (tar_hash * base) % mod + ((ord(c) - ord_a) * base) % mod \n",
    "        # print(tar_hash)\n",
    "        \n",
    "        #  step2 : 根据目标字符串长度n计算n_base\n",
    "        n_base = 1\n",
    "        for _ in range(n):\n",
    "            n_base = (n_base * base) % mod \n",
    "        # print(n_base)\n",
    "\n",
    "        #  step3： 滚动计算子串hash值\n",
    "        cur_hash = 0\n",
    "        for l in range(m - n + 1):\n",
    "            if l == 0:\n",
    "                for i in range(n):\n",
    "                    cur_hash = (cur_hash * base) % mod + ((ord(haystack[i]) - ord_a) * base) % mod \n",
    "            else:\n",
    "                cur_hash = cur_hash - ((ord(haystack[l-1]) - ord_a) * n_base) % mod # n_base初始为1则先减去左边界，再加上右边界；否则先加右边界，再减去左边界\n",
    "                cur_hash = (cur_hash * base) % mod + ((ord(haystack[l + n - 1]) - ord_a) * base) % mod \n",
    "                \n",
    "            # print(l, cur_hash, tar_hash)\n",
    "            if cur_hash == tar_hash and haystack[l : l + n] == needle:\n",
    "                return l \n",
    "        \n",
    "        return -1 "
   ]
  },
  {
   "cell_type": "code",
   "execution_count": null,
   "metadata": {},
   "outputs": [],
   "source": []
  }
 ],
 "metadata": {
  "kernelspec": {
   "display_name": "Python 3",
   "language": "python",
   "name": "python3"
  },
  "language_info": {
   "codemirror_mode": {
    "name": "ipython",
    "version": 3
   },
   "file_extension": ".py",
   "mimetype": "text/x-python",
   "name": "python",
   "nbconvert_exporter": "python",
   "pygments_lexer": "ipython3",
   "version": "3.7.4"
  },
  "toc": {
   "base_numbering": 1,
   "nav_menu": {},
   "number_sections": true,
   "sideBar": true,
   "skip_h1_title": false,
   "title_cell": "Table of Contents",
   "title_sidebar": "Contents",
   "toc_cell": false,
   "toc_position": {},
   "toc_section_display": true,
   "toc_window_display": false
  },
  "varInspector": {
   "cols": {
    "lenName": 16,
    "lenType": 16,
    "lenVar": 40
   },
   "kernels_config": {
    "python": {
     "delete_cmd_postfix": "",
     "delete_cmd_prefix": "del ",
     "library": "var_list.py",
     "varRefreshCmd": "print(var_dic_list())"
    },
    "r": {
     "delete_cmd_postfix": ") ",
     "delete_cmd_prefix": "rm(",
     "library": "var_list.r",
     "varRefreshCmd": "cat(var_dic_list()) "
    }
   },
   "types_to_exclude": [
    "module",
    "function",
    "builtin_function_or_method",
    "instance",
    "_Feature"
   ],
   "window_display": false
  }
 },
 "nbformat": 4,
 "nbformat_minor": 2
}
