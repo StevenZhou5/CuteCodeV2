{
 "cells": [
  {
   "cell_type": "markdown",
   "metadata": {},
   "source": [
    "# 数据结构优缺点"
   ]
  },
  {
   "cell_type": "markdown",
   "metadata": {
    "ExecuteTime": {
     "end_time": "2022-08-05T01:13:32.971481Z",
     "start_time": "2022-08-05T01:13:32.967209Z"
    }
   },
   "source": [
    "#优点：插入和删除速度快；\n",
    "#缺点：查询速度慢；\n",
    "#特点：不需要连续的地址空间；"
   ]
  },
  {
   "cell_type": "markdown",
   "metadata": {},
   "source": [
    "#空间复杂度(space)：O(n);\n",
    "#插入头位置时间复杂度(prepend)：O(1)；\n",
    "#插入末尾位置的时间复杂度(append)：O(1);\n",
    "#平均查询时间复杂度(Access)：O(n);\n",
    "#平均插入时间复杂度(Insert)：O(1);\n",
    "#平均删除时间复杂度(delete)：O(1);"
   ]
  },
  {
   "cell_type": "markdown",
   "metadata": {},
   "source": [
    "# 和其他数据结构的关系"
   ]
  },
  {
   "cell_type": "markdown",
   "metadata": {
    "ExecuteTime": {
     "end_time": "2022-08-05T02:14:12.530000Z",
     "start_time": "2022-08-05T02:14:12.527465Z"
    }
   },
   "source": [
    "#为了改善数组插入和删除操作性能低的问题而产生的"
   ]
  },
  {
   "cell_type": "markdown",
   "metadata": {},
   "source": [
    "# 常用于解决什么样的问题"
   ]
  },
  {
   "cell_type": "markdown",
   "metadata": {},
   "source": [
    "#1、对插入和删除操作性能要求高，对查询性能要求低；\n",
    "#2、插入和删除操作频率高，查询操作频率低；\n",
    "#3、不确定元素个数时；"
   ]
  },
  {
   "cell_type": "markdown",
   "metadata": {},
   "source": [
    "# 常用的实现方式"
   ]
  },
  {
   "cell_type": "code",
   "execution_count": 10,
   "metadata": {
    "ExecuteTime": {
     "end_time": "2022-08-05T01:59:16.157722Z",
     "start_time": "2022-08-05T01:59:16.152652Z"
    }
   },
   "outputs": [
    {
     "name": "stdout",
     "output_type": "stream",
     "text": [
      "0 1 2\n"
     ]
    }
   ],
   "source": [
    "# 单向链表\n",
    "class ListNode():\n",
    "    def __init__(self,val):\n",
    "        self.val = val\n",
    "        self.next = None\n",
    "\n",
    "root = ListNode(0)\n",
    "root.next = ListNode(1)\n",
    "root.next.next = ListNode(2)\n",
    "print(root.val,root.next.val,root.next.next.val)"
   ]
  },
  {
   "cell_type": "markdown",
   "metadata": {},
   "source": [
    "# 个人总结"
   ]
  },
  {
   "cell_type": "markdown",
   "metadata": {
    "ExecuteTime": {
     "end_time": "2022-08-07T01:37:08.320751Z",
     "start_time": "2022-08-07T01:37:08.318332Z"
    }
   },
   "source": [
    "#1、常用双指针方法解决问题；\n",
    "#2、需要使用临时变量存储下一轮迭代的起始节点；\n",
    "#3、在赋值是一定要注意顺序：赋值时对应的值在之前没有被修改过；*****\n",
    "#4、通常可以使用递归或迭代来实现，两者时间复杂度多数情况下一致，空间复杂度上递归因为调用栈的原因取决于递归的深度通常是O(n)或O(log n),而迭代法则是O(1);\n",
    "#5、使用迭代法时pre变量初始时有时可以赋值为一个ListNode而不是空，这样可以减少后续的判空处理；\n",
    "#6、在循环操作链表的部分时，一般需要把操作的头尾节点和上一次操作的尾结点和下一次操作的头节点这四个关键结点的关系搞清楚，并记录好；\n",
    "#7、一般遇到环的情况下需要使用快慢指针；"
   ]
  },
  {
   "cell_type": "markdown",
   "metadata": {},
   "source": [
    "# 常用变量命名（名字即为注释）"
   ]
  },
  {
   "cell_type": "markdown",
   "metadata": {
    "ExecuteTime": {
     "end_time": "2022-08-07T01:37:38.129519Z",
     "start_time": "2022-08-07T01:37:38.127571Z"
    }
   },
   "source": [
    "#1、当前迭代下的节点：pre-上一个节点、cur-当前节点、next-下一个节点；\n",
    "#2、上一轮迭代的节点：pre_start-上一轮迭代的开始节点、pre_end-上一轮迭代的结束节点；\n",
    "#3、下一轮迭代的节点：next_start-下一轮迭代的开始节点、next-end-下一轮迭代的结束节点；\n",
    "#4、用于初始头结点的前继节点(通常也是最终结果的前继节点)：res_pre;(注意如果使用递归法时如果res就是最终结果，则不要加_pre后缀)\n",
    "#5、快慢指针命名：slow-慢指针；fast-快指针；"
   ]
  },
  {
   "cell_type": "code",
   "execution_count": null,
   "metadata": {},
   "outputs": [],
   "source": []
  }
 ],
 "metadata": {
  "kernelspec": {
   "display_name": "Python 3",
   "language": "python",
   "name": "python3"
  },
  "language_info": {
   "codemirror_mode": {
    "name": "ipython",
    "version": 3
   },
   "file_extension": ".py",
   "mimetype": "text/x-python",
   "name": "python",
   "nbconvert_exporter": "python",
   "pygments_lexer": "ipython3",
   "version": "3.7.4"
  },
  "toc": {
   "base_numbering": 1,
   "nav_menu": {},
   "number_sections": true,
   "sideBar": true,
   "skip_h1_title": false,
   "title_cell": "Table of Contents",
   "title_sidebar": "Contents",
   "toc_cell": false,
   "toc_position": {},
   "toc_section_display": true,
   "toc_window_display": false
  },
  "varInspector": {
   "cols": {
    "lenName": 16,
    "lenType": 16,
    "lenVar": 40
   },
   "kernels_config": {
    "python": {
     "delete_cmd_postfix": "",
     "delete_cmd_prefix": "del ",
     "library": "var_list.py",
     "varRefreshCmd": "print(var_dic_list())"
    },
    "r": {
     "delete_cmd_postfix": ") ",
     "delete_cmd_prefix": "rm(",
     "library": "var_list.r",
     "varRefreshCmd": "cat(var_dic_list()) "
    }
   },
   "types_to_exclude": [
    "module",
    "function",
    "builtin_function_or_method",
    "instance",
    "_Feature"
   ],
   "window_display": false
  }
 },
 "nbformat": 4,
 "nbformat_minor": 2
}
