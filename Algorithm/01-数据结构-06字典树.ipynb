{
 "cells": [
  {
   "cell_type": "code",
   "execution_count": 17,
   "metadata": {},
   "outputs": [
    {
     "name": "stdout",
     "output_type": "stream",
     "text": [
      "[None, None, None, None, None, None, None, None, None, None, None, None, None, None, None, None, None, None, None, None, None, None, None, None, None, None] False\n",
      "[<__main__.Trie object at 0x7ffe4ad6fa10>, None, None, None, None, None, None, None, None, None, None, None, None, None, None, None, None, None, None, None, None, None, None, None, None, None] False\n",
      "[None, None, None, None, None, None, None, None, None, None, None, None, None, None, None, None, None, None, None, None, None, None, None, None, None, None] True\n"
     ]
    }
   ],
   "source": [
    "# 字典树的定义\n",
    "class Trie(object):\n",
    "    def __init__(self):\n",
    "        self.next = [None for _ in range(26)]\n",
    "        self.is_end = False\n",
    "    \n",
    "    def insert(self, s:str):\n",
    "        idx_a = ord('a')\n",
    "        cur_trie = self\n",
    "        for char in list(s):\n",
    "            idx = ord(char) - idx_a\n",
    "            if not cur_trie.next[idx]:\n",
    "                cur_trie.next[idx] = Trie()\n",
    "            cur_trie = cur_trie.next[idx]\n",
    "        cur_trie.is_end = True\n",
    "\n",
    "root_trie = Trie()\n",
    "print(root_trie.next,root_trie.is_end)\n",
    "root_trie.insert(\"a\")\n",
    "print(root_trie.next,root_trie.is_end)\n",
    "print(root_trie.next[0].next,root_trie.next[0].is_end)"
   ]
  },
  {
   "cell_type": "code",
   "execution_count": 18,
   "metadata": {},
   "outputs": [],
   "source": [
    "# 使用字典树来恢复空格\n",
    "class Solution:\n",
    "    def respace(self, dictionary: List[str], sentence: str) -> int:\n",
    "        root_trie = Trie()\n",
    "        for s in dictionary:\n",
    "            root_trie.insert(s)\n",
    "        d = [0 for _ in range(len(sentence)+1)]\n",
    "        sub_str = \"\"\n",
    "        for i in range(1,len(sentence)+1):\n",
    "            d[i] = d[i-1] + 1  # 如果没有子字符串在字典中，那么d[i]=d[i-1]+1\n",
    "            sub_str = sentence[i-1] + sub_str\n",
    "            # print(sub_str)\n",
    "            # 判断 sub_str从字符串后缀匹配，能否找到在字典中的子串\n",
    "            cur_trie = root_trie\n",
    "            cur_len = 0 # 当前子串在字典中匹配到的字符串长度\n",
    "            for j in range(len(sub_str)):\n",
    "                idx = ord(sub_str[j]) - ord('a')\n",
    "                if not cur_trie.next_trie[idx]: # 如果为next_trie[idx]为None，则跳出循环\n",
    "                    break \n",
    "                # 如果不为None，则匹配下一个字符\n",
    "                cur_trie = cur_trie.next_trie[idx]\n",
    "                cur_len += 1\n",
    "                if cur_trie.is_end: # \n",
    "                    d[i] = min(d[i],d[i-cur_len])\n",
    "        # print(d)\n",
    "        return d[-1]\n",
    "\n",
    "\n",
    "\n",
    "\n",
    "class Trie:\n",
    "    # 定义字典树\n",
    "    def __init__(self):\n",
    "        self.next_trie = [None for _ in range(26)]\n",
    "        self.is_end = False\n",
    "\n",
    "    def insert(self,s:str):\n",
    "        cur_trie = self\n",
    "        # 倒序插入\n",
    "        for i in range(len(s)-1,-1,-1):\n",
    "            idx = ord(s[i]) - ord('a')\n",
    "            if not cur_trie.next_trie[idx]:\n",
    "                cur_trie.next_trie[idx] = Trie()\n",
    "            cur_trie = cur_trie.next_trie[idx]\n",
    "        cur_trie.is_end = True\n"
   ]
  },
  {
   "cell_type": "code",
   "execution_count": 19,
   "metadata": {},
   "outputs": [
    {
     "data": {
      "text/plain": [
       "''"
      ]
     },
     "execution_count": 19,
     "metadata": {},
     "output_type": "execute_result"
    }
   ],
   "source": [
    "\"ssd\"[-1:1]"
   ]
  },
  {
   "cell_type": "code",
   "execution_count": null,
   "metadata": {},
   "outputs": [],
   "source": []
  }
 ],
 "metadata": {
  "kernelspec": {
   "display_name": "Python 3",
   "language": "python",
   "name": "python3"
  },
  "language_info": {
   "codemirror_mode": {
    "name": "ipython",
    "version": 3
   },
   "file_extension": ".py",
   "mimetype": "text/x-python",
   "name": "python",
   "nbconvert_exporter": "python",
   "pygments_lexer": "ipython3",
   "version": "3.7.4"
  }
 },
 "nbformat": 4,
 "nbformat_minor": 4
}
