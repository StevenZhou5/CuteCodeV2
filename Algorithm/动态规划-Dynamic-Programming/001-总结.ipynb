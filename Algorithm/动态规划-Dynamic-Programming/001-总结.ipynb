{
 "cells": [
  {
   "cell_type": "markdown",
   "metadata": {},
   "source": [
    "# 动态规划的四个核心要点\n",
    "\n",
    "## 递归 + 记忆化  ==> 递推到动态规划\n",
    "## 状态的定义：opt[n]、dp[n]、fib[n]...\n",
    "## 状态转义方程：dp[n] = best_of(dp[n-1], dp[n-2], ...)\n",
    "## 最优子结构: 在解决最终问题时中介的子问题也都是最优解，即要得到最优的dp[n], dp[0]到dp[n-1]这些子问题也都是最优解；"
   ]
  },
  {
   "cell_type": "markdown",
   "metadata": {},
   "source": [
    "# 动态规划 VS 递归+回溯 VS 贪心\n",
    "## 递归+回溯：有重复计算；\n",
    "## 贪心：不向前回看，永远都是局部最优；\n",
    "## DP：每个子问题都是最优，向前回看子问题，由子问题的最优解推导出最终问题的最优解；"
   ]
  },
  {
   "cell_type": "markdown",
   "metadata": {},
   "source": [
    "# 动态规划的通常代码结构\n",
    "\n",
    "```python\n",
    "# Dynamic Programming：自底向上\n",
    "def dynamic_programming(m, n):\n",
    "    # 1、状态的定义：初始状态:根据最优子结构可以减少状态的存储\n",
    "    dp = [[0] * n] * m\n",
    "    dp[0][0] = 0\n",
    "    dp[0][1] = 1\n",
    "\n",
    "    # 2、状态转义方程:遍历方向依赖 状态转义方程的依赖关系\n",
    "    for i in range(n):\n",
    "        for j in range(n):\n",
    "            dp[i][j] = min(dp[i - 1][j], dp[i][j - 1])\n",
    "\n",
    "    return dp[m][n]  # 最优解\n",
    "```"
   ]
  },
  {
   "cell_type": "code",
   "execution_count": null,
   "metadata": {},
   "outputs": [],
   "source": []
  }
 ],
 "metadata": {
  "kernelspec": {
   "display_name": "Python 3",
   "language": "python",
   "name": "python3"
  },
  "language_info": {
   "codemirror_mode": {
    "name": "ipython",
    "version": 3
   },
   "file_extension": ".py",
   "mimetype": "text/x-python",
   "name": "python",
   "nbconvert_exporter": "python",
   "pygments_lexer": "ipython3",
   "version": "3.7.4"
  },
  "toc": {
   "base_numbering": 1,
   "nav_menu": {},
   "number_sections": true,
   "sideBar": true,
   "skip_h1_title": false,
   "title_cell": "Table of Contents",
   "title_sidebar": "Contents",
   "toc_cell": false,
   "toc_position": {},
   "toc_section_display": true,
   "toc_window_display": false
  },
  "varInspector": {
   "cols": {
    "lenName": 16,
    "lenType": 16,
    "lenVar": 40
   },
   "kernels_config": {
    "python": {
     "delete_cmd_postfix": "",
     "delete_cmd_prefix": "del ",
     "library": "var_list.py",
     "varRefreshCmd": "print(var_dic_list())"
    },
    "r": {
     "delete_cmd_postfix": ") ",
     "delete_cmd_prefix": "rm(",
     "library": "var_list.r",
     "varRefreshCmd": "cat(var_dic_list()) "
    }
   },
   "types_to_exclude": [
    "module",
    "function",
    "builtin_function_or_method",
    "instance",
    "_Feature"
   ],
   "window_display": false
  }
 },
 "nbformat": 4,
 "nbformat_minor": 2
}
