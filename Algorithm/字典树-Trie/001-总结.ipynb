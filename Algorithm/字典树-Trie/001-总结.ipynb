{
 "cells": [
  {
   "cell_type": "markdown",
   "metadata": {},
   "source": [
    "# 数据结构优缺点"
   ]
  },
  {
   "cell_type": "markdown",
   "metadata": {
    "ExecuteTime": {
     "end_time": "2022-08-05T01:13:32.971481Z",
     "start_time": "2022-08-05T01:13:32.967209Z"
    }
   },
   "source": [
    "#优点：最大限度的减少无谓的字符串比较，查询效率比哈希表更高；\n",
    "#特点：1、用空间换时间；2、利用字符串的前缀来降低查询时间的开销以达到提高效率的目的；3、根节点不包含字符，除根节点外每个结点都只包含一个字符；4、从根节点到某一节点，路径上经过的字符连接起来，为该节点对应的字符串；5、每个结点的所有子节点包含的字符都不相同；"
   ]
  },
  {
   "cell_type": "markdown",
   "metadata": {},
   "source": [
    "# 和其他数据结构的关系"
   ]
  },
  {
   "cell_type": "markdown",
   "metadata": {
    "ExecuteTime": {
     "end_time": "2022-08-05T02:14:12.530000Z",
     "start_time": "2022-08-05T02:14:12.527465Z"
    }
   },
   "source": [
    "#1、他本质上也是一个树，但是叶子结点的个数可以是固定的也可以是不固定的；且结点不存储字符，字符是用边来存储的；"
   ]
  },
  {
   "cell_type": "markdown",
   "metadata": {},
   "source": [
    "# 常用于解决什么样的问题"
   ]
  },
  {
   "cell_type": "markdown",
   "metadata": {},
   "source": [
    "#1、高效的字符串存储、查找、匹配问题；"
   ]
  },
  {
   "cell_type": "markdown",
   "metadata": {},
   "source": [
    "# 常用的实现方式"
   ]
  },
  {
   "cell_type": "code",
   "execution_count": 2,
   "metadata": {
    "ExecuteTime": {
     "end_time": "2022-08-18T12:54:50.752727Z",
     "start_time": "2022-08-18T12:54:50.737403Z"
    }
   },
   "outputs": [
    {
     "data": {
      "text/plain": [
       "{'a': {'d': {'d': {'NED': True}}}}"
      ]
     },
     "execution_count": 2,
     "metadata": {},
     "output_type": "execute_result"
    }
   ],
   "source": [
    "# 1、使用类实现\n",
    "ALPHABET_SIZE = 256 # 最多256个ASCII 码\n",
    "class TrieNode:\n",
    "    def __init__(self):\n",
    "        self.children = [None] * ALPHABET_SIZE # 也可以用字典来存children\n",
    "        \n",
    "        isEndOfWord = False # 是否是某个词的结束位置\n",
    "\n",
    "# 2、用字典实现：用key值来当做树的边\n",
    "root = {}\n",
    "root['a'] = {}\n",
    "root['a']['d'] = {}\n",
    "root['a']['d']['d'] = {}\n",
    "root['a']['d']['d']['NED'] = True\n",
    "root"
   ]
  },
  {
   "cell_type": "code",
   "execution_count": null,
   "metadata": {},
   "outputs": [],
   "source": []
  }
 ],
 "metadata": {
  "kernelspec": {
   "display_name": "Python 3",
   "language": "python",
   "name": "python3"
  },
  "language_info": {
   "codemirror_mode": {
    "name": "ipython",
    "version": 3
   },
   "file_extension": ".py",
   "mimetype": "text/x-python",
   "name": "python",
   "nbconvert_exporter": "python",
   "pygments_lexer": "ipython3",
   "version": "3.7.4"
  },
  "toc": {
   "base_numbering": 1,
   "nav_menu": {},
   "number_sections": true,
   "sideBar": true,
   "skip_h1_title": false,
   "title_cell": "Table of Contents",
   "title_sidebar": "Contents",
   "toc_cell": false,
   "toc_position": {},
   "toc_section_display": true,
   "toc_window_display": false
  },
  "varInspector": {
   "cols": {
    "lenName": 16,
    "lenType": 16,
    "lenVar": 40
   },
   "kernels_config": {
    "python": {
     "delete_cmd_postfix": "",
     "delete_cmd_prefix": "del ",
     "library": "var_list.py",
     "varRefreshCmd": "print(var_dic_list())"
    },
    "r": {
     "delete_cmd_postfix": ") ",
     "delete_cmd_prefix": "rm(",
     "library": "var_list.r",
     "varRefreshCmd": "cat(var_dic_list()) "
    }
   },
   "types_to_exclude": [
    "module",
    "function",
    "builtin_function_or_method",
    "instance",
    "_Feature"
   ],
   "window_display": false
  }
 },
 "nbformat": 4,
 "nbformat_minor": 2
}
