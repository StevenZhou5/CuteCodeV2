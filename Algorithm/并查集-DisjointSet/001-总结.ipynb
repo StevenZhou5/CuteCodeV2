{
 "cells": [
  {
   "cell_type": "markdown",
   "metadata": {},
   "source": [
    "# 数据结构优缺点"
   ]
  },
  {
   "cell_type": "markdown",
   "metadata": {
    "ExecuteTime": {
     "end_time": "2022-08-05T01:13:32.971481Z",
     "start_time": "2022-08-05T01:13:32.967209Z"
    }
   },
   "source": [
    "#特点：是一种属性的数据结构，用于处理一些不交集(Disjoint Sets)的合并及查询问题。"
   ]
  },
  {
   "cell_type": "markdown",
   "metadata": {},
   "source": [
    "# 和其他数据结构的关系"
   ]
  },
  {
   "cell_type": "markdown",
   "metadata": {
    "ExecuteTime": {
     "end_time": "2022-08-05T02:14:12.530000Z",
     "start_time": "2022-08-05T02:14:12.527465Z"
    }
   },
   "source": [
    "#"
   ]
  },
  {
   "cell_type": "markdown",
   "metadata": {},
   "source": [
    "# 常用于解决什么样的问题"
   ]
  },
  {
   "cell_type": "markdown",
   "metadata": {},
   "source": [
    "#1、通过小弟找老大；\n",
    "#2、帮派识别；\n",
    "#3、两种优化方式：优化1：按rank优化；优化2：路径压缩；\n",
    "#4、一般要找连续子数组问题时可以考虑用并查集 + 逆向思维(往空的里面逐步加，不要想从满的里面逐步减)来解决；"
   ]
  },
  {
   "cell_type": "markdown",
   "metadata": {},
   "source": [
    "# 常用的实现方式"
   ]
  },
  {
   "cell_type": "code",
   "execution_count": 4,
   "metadata": {
    "ExecuteTime": {
     "end_time": "2022-08-25T02:45:57.670177Z",
     "start_time": "2022-08-25T02:45:57.662074Z"
    }
   },
   "outputs": [],
   "source": [
    "# 并查集 - 一维（如：547省份）\n",
    "class UnionFind:\n",
    "    def __init__(self, isConnected):\n",
    "        n = len(isConnected)\n",
    "        self.root = list(range(n))\n",
    "        self.rank = [1] * n \n",
    "        self.count = n\n",
    "    \n",
    "    def find(self, i):\n",
    "        if self.root[i] != i:\n",
    "            self.root[i] = self.find(self.root[i])\n",
    "        return self.root[i]\n",
    "\n",
    "    def union(self, x, y):\n",
    "        x_root = self.find(x)\n",
    "        y_root = self.find(y)\n",
    "        if x_root == y_root:\n",
    "            return \n",
    "        if self.rank[x_root] < self.rank[y_root]:\n",
    "            x_root, y_root = y_root, x_root\n",
    "        self.root[y_root] = x_root\n",
    "        if self.rank[x_root] == self.rank[y_root]:\n",
    "            self.rank[x_root] += 1\n",
    "        self.count -= 1\n",
    "    \n",
    "    def get_count(self):\n",
    "        return self.count"
   ]
  },
  {
   "cell_type": "code",
   "execution_count": 5,
   "metadata": {
    "ExecuteTime": {
     "end_time": "2022-08-25T02:45:58.090774Z",
     "start_time": "2022-08-25T02:45:58.080421Z"
    }
   },
   "outputs": [],
   "source": [
    "# 并查集 - 二维转一维（如：200岛屿数量）\n",
    "class UnionFind:\n",
    "    def __init__(self,grid):\n",
    "        m, n = len(grid), len(grid[0])\n",
    "        self.root = [0] * (m * n) # 索引位置记录root\n",
    "        self.rank = [0] * (m * n) # 记录rank，用于合并优化\n",
    "        self.count = 0 # 用来记录‘1’ 所有不同root的数量  \n",
    "        for i in range(m):\n",
    "            for j in range(n):\n",
    "                if grid[i][j] == '0':\n",
    "                    continue\n",
    "                idx = i * n + j \n",
    "                self.root[idx] = idx\n",
    "                self.rank[idx] = 1\n",
    "                self.count += 1\n",
    "    \n",
    "    def find_root(self, i):\n",
    "        if self.root[i] != i:\n",
    "            self.root[i] = self.find_root(self.root[i])\n",
    "        return self.root[i]\n",
    "    \n",
    "    def union(self, x, y):\n",
    "        x_root = self.find_root(x)\n",
    "        y_root = self.find_root(y)\n",
    "        if x_root == y_root:\n",
    "            return \n",
    "\n",
    "        if self.rank[x_root] < self.rank[y_root]:\n",
    "            x_root, y_root = y_root, x_root\n",
    "        self.root[y_root] = x_root # 上面的判断保证了y_root的rank <= x_root 的rank\n",
    "        if self.rank[x_root] == self.rank[y_root]:\n",
    "            self.rank[x_root] += 1\n",
    "        self.count -= 1\n",
    "\n",
    "    def get_count(self):\n",
    "        return self.count"
   ]
  },
  {
   "cell_type": "markdown",
   "metadata": {},
   "source": [
    "# 总结\n",
    "\n",
    "## 第一步定义并查集类；\n",
    "## 第二步初始化self.root 和 self.rank，有需要的话也初始化self.count;\n",
    "## 第三步定义find函数，其中要实现路径压缩（在find是所有访问的节点的父节点都指向最终root节点 ）；\n",
    "## 第四步定义union函数，其中要实现根据按秩合并(让rank小的root指向rank大的root)，有需要的话要在合并时对self.count 进行- 1；"
   ]
  },
  {
   "cell_type": "code",
   "execution_count": null,
   "metadata": {},
   "outputs": [],
   "source": []
  }
 ],
 "metadata": {
  "kernelspec": {
   "display_name": "Python 3",
   "language": "python",
   "name": "python3"
  },
  "language_info": {
   "codemirror_mode": {
    "name": "ipython",
    "version": 3
   },
   "file_extension": ".py",
   "mimetype": "text/x-python",
   "name": "python",
   "nbconvert_exporter": "python",
   "pygments_lexer": "ipython3",
   "version": "3.7.4"
  },
  "toc": {
   "base_numbering": 1,
   "nav_menu": {},
   "number_sections": true,
   "sideBar": true,
   "skip_h1_title": false,
   "title_cell": "Table of Contents",
   "title_sidebar": "Contents",
   "toc_cell": false,
   "toc_position": {},
   "toc_section_display": true,
   "toc_window_display": false
  },
  "varInspector": {
   "cols": {
    "lenName": 16,
    "lenType": 16,
    "lenVar": 40
   },
   "kernels_config": {
    "python": {
     "delete_cmd_postfix": "",
     "delete_cmd_prefix": "del ",
     "library": "var_list.py",
     "varRefreshCmd": "print(var_dic_list())"
    },
    "r": {
     "delete_cmd_postfix": ") ",
     "delete_cmd_prefix": "rm(",
     "library": "var_list.r",
     "varRefreshCmd": "cat(var_dic_list()) "
    }
   },
   "types_to_exclude": [
    "module",
    "function",
    "builtin_function_or_method",
    "instance",
    "_Feature"
   ],
   "window_display": false
  }
 },
 "nbformat": 4,
 "nbformat_minor": 2
}
