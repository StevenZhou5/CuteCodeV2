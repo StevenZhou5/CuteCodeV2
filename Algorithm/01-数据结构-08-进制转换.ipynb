{
 "cells": [
  {
   "cell_type": "code",
   "execution_count": null,
   "metadata": {},
   "outputs": [],
   "source": []
  },
  {
   "cell_type": "code",
   "execution_count": 27,
   "metadata": {},
   "outputs": [
    {
     "name": "stdout",
     "output_type": "stream",
     "text": [
      "2676\n",
      "178 6\n",
      "11 13\n",
      "BD6\n"
     ]
    }
   ],
   "source": [
    "a = 13\n",
    "b = 15\n",
    "nums = '12AB'\n",
    "len_nums = len(nums)\n",
    "res = 0\n",
    "for i in range(len_nums):\n",
    "    try :\n",
    "        num = int(nums[i])\n",
    "    except:\n",
    "        num = (ord(nums[i]) - ord('A'))+10\n",
    "    res += num*(a ** (len_nums - i - 1))\n",
    "print(res)\n",
    "\n",
    "s,y = divmod(res,b)\n",
    "print(s,y)\n",
    "start = str(y) if y < 10 else chr(ord('A') + y - 10)\n",
    "while s > b:\n",
    "    s,y = divmod(s,b)\n",
    "    print(s,y)\n",
    "    start = str(y) if y < 10 else chr(ord('A') + y - 10) + start\n",
    "start = str(s) if s < 10 else chr(ord('A') + s - 10) + start\n",
    "print(start)"
   ]
  },
  {
   "cell_type": "code",
   "execution_count": 13,
   "metadata": {},
   "outputs": [
    {
     "name": "stdout",
     "output_type": "stream",
     "text": [
      "178 6\n"
     ]
    }
   ],
   "source": [
    "s,y = divmod(2676,15)\n",
    "print(s,y)"
   ]
  },
  {
   "cell_type": "code",
   "execution_count": 14,
   "metadata": {},
   "outputs": [
    {
     "data": {
      "text/plain": [
       "(11, 195)"
      ]
     },
     "execution_count": 14,
     "metadata": {},
     "output_type": "execute_result"
    }
   ],
   "source": [
    "divmod(2670,15**2)"
   ]
  },
  {
   "cell_type": "code",
   "execution_count": 16,
   "metadata": {},
   "outputs": [
    {
     "data": {
      "text/plain": [
       "2475"
      ]
     },
     "execution_count": 16,
     "metadata": {},
     "output_type": "execute_result"
    }
   ],
   "source": [
    "15**2 * 11"
   ]
  },
  {
   "cell_type": "code",
   "execution_count": 17,
   "metadata": {},
   "outputs": [
    {
     "data": {
      "text/plain": [
       "195"
      ]
     },
     "execution_count": 17,
     "metadata": {},
     "output_type": "execute_result"
    }
   ],
   "source": [
    "2670 - 2475"
   ]
  },
  {
   "cell_type": "code",
   "execution_count": 18,
   "metadata": {},
   "outputs": [
    {
     "data": {
      "text/plain": [
       "(0, 195)"
      ]
     },
     "execution_count": 18,
     "metadata": {},
     "output_type": "execute_result"
    }
   ],
   "source": [
    "divmod(195,15**3)"
   ]
  },
  {
   "cell_type": "code",
   "execution_count": 19,
   "metadata": {},
   "outputs": [
    {
     "data": {
      "text/plain": [
       "(11, 13)"
      ]
     },
     "execution_count": 19,
     "metadata": {},
     "output_type": "execute_result"
    }
   ],
   "source": [
    "divmod(178,15)"
   ]
  },
  {
   "cell_type": "code",
   "execution_count": null,
   "metadata": {},
   "outputs": [],
   "source": [
    "13"
   ]
  }
 ],
 "metadata": {
  "kernelspec": {
   "display_name": "Python 3",
   "language": "python",
   "name": "python3"
  },
  "language_info": {
   "codemirror_mode": {
    "name": "ipython",
    "version": 3
   },
   "file_extension": ".py",
   "mimetype": "text/x-python",
   "name": "python",
   "nbconvert_exporter": "python",
   "pygments_lexer": "ipython3",
   "version": "3.7.4"
  }
 },
 "nbformat": 4,
 "nbformat_minor": 4
}
