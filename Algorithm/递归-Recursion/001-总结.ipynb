{
 "cells": [
  {
   "cell_type": "code",
   "execution_count": 1,
   "metadata": {
    "ExecuteTime": {
     "end_time": "2022-08-17T01:32:34.365683Z",
     "start_time": "2022-08-17T01:32:34.363272Z"
    }
   },
   "outputs": [],
   "source": [
    "# 切题四件套：\n",
    "# 1：clarification：读题、理解；询问题目细节、边界条件、可能的极端(错误)情况；\n",
    "# 2：Possible Solution：所有可能的解法一一沟通；\n",
    "#    Compare Time & Space Complexity(时间复杂度和空间复杂度)；Optimal Solution（最优解）\n",
    "# 3:coding：写代码；\n",
    "# 4:Test cases：测试用例;"
   ]
  },
  {
   "cell_type": "code",
   "execution_count": 5,
   "metadata": {
    "ExecuteTime": {
     "end_time": "2022-08-16T02:57:44.639991Z",
     "start_time": "2022-08-16T02:57:44.636640Z"
    }
   },
   "outputs": [],
   "source": [
    "# 递归：自顶向下\n",
    "def recursion(level, param1, param2, **kargs):\n",
    "    # 1、 recursion terminator:递归的终止条件\n",
    "    # if level > MAX_LEVEL:\n",
    "    #     print(res)\n",
    "    #     return\n",
    "\n",
    "    # 2、 当前层的处理逻辑\n",
    "    # data_process(level,data...)\n",
    "\n",
    "    # 3、 drill down：调用下一层递归\n",
    "    # recursion(level + 1, newp1,newp2,...)\n",
    "\n",
    "    # 4、 如果需要的话做状态还原\n",
    "    # reverse_state(level)\n",
    "\n",
    "    return"
   ]
  },
  {
   "cell_type": "code",
   "execution_count": 9,
   "metadata": {
    "ExecuteTime": {
     "end_time": "2022-08-16T03:12:50.314854Z",
     "start_time": "2022-08-16T03:12:50.309279Z"
    }
   },
   "outputs": [],
   "source": [
    "# 分治：分治一般是用递归来解决的\n",
    "def divide_conquer(problem, param1, param2, **kargs):\n",
    "    #  recursion terminator:递归的终止条件\n",
    "    if problem is None:\n",
    "        print(res)\n",
    "        return \n",
    "    \n",
    "    # prepare data : 预处理数据\n",
    "    data = prepare_date(problem)\n",
    "    subproblems = split_problem(problem, data)\n",
    "    \n",
    "    # conquer subproblems : 解决子问题\n",
    "    subresult1 = self.divide_conquer(subproblems[0],p1,...)\n",
    "    subresult2 = self.divide_conquer(subproblems[1],p1,...)\n",
    "    subresult3 = self.divide_conquer(subproblems[2],p1,...)\n",
    "    ...\n",
    "    \n",
    "    # process and generate the final result: 处理合并子问题结果返回最终结果\n",
    "    result = process_result(subresult1, subresult1, subresult1)\n"
   ]
  },
  {
   "cell_type": "code",
   "execution_count": null,
   "metadata": {},
   "outputs": [],
   "source": []
  }
 ],
 "metadata": {
  "kernelspec": {
   "display_name": "Python 3",
   "language": "python",
   "name": "python3"
  },
  "language_info": {
   "codemirror_mode": {
    "name": "ipython",
    "version": 3
   },
   "file_extension": ".py",
   "mimetype": "text/x-python",
   "name": "python",
   "nbconvert_exporter": "python",
   "pygments_lexer": "ipython3",
   "version": "3.7.4"
  },
  "toc": {
   "base_numbering": 1,
   "nav_menu": {},
   "number_sections": true,
   "sideBar": true,
   "skip_h1_title": false,
   "title_cell": "Table of Contents",
   "title_sidebar": "Contents",
   "toc_cell": false,
   "toc_position": {},
   "toc_section_display": true,
   "toc_window_display": false
  },
  "varInspector": {
   "cols": {
    "lenName": 16,
    "lenType": 16,
    "lenVar": 40
   },
   "kernels_config": {
    "python": {
     "delete_cmd_postfix": "",
     "delete_cmd_prefix": "del ",
     "library": "var_list.py",
     "varRefreshCmd": "print(var_dic_list())"
    },
    "r": {
     "delete_cmd_postfix": ") ",
     "delete_cmd_prefix": "rm(",
     "library": "var_list.r",
     "varRefreshCmd": "cat(var_dic_list()) "
    }
   },
   "types_to_exclude": [
    "module",
    "function",
    "builtin_function_or_method",
    "instance",
    "_Feature"
   ],
   "window_display": false
  }
 },
 "nbformat": 4,
 "nbformat_minor": 2
}
