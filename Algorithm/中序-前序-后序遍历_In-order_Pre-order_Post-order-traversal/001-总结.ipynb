{
 "cells": [
  {
   "cell_type": "code",
   "execution_count": 1,
   "metadata": {
    "ExecuteTime": {
     "end_time": "2022-08-16T02:53:16.978291Z",
     "start_time": "2022-08-16T02:53:16.957549Z"
    }
   },
   "outputs": [
    {
     "name": "stdout",
     "output_type": "stream",
     "text": [
      "0\n",
      "1\n",
      "2\n",
      "3\n",
      "4\n",
      "5\n",
      "6\n"
     ]
    }
   ],
   "source": [
    "class TreeNode():\n",
    "    def __init__(self, val, left = None, right = None):\n",
    "        self.val = val\n",
    "        self.left = left\n",
    "        self.right = right\n",
    "        \n",
    "class TraverseTree:\n",
    "    def __init__(self):\n",
    "        self.traverse_path = []\n",
    "        \n",
    "    def pre_order(self, root): # 前序遍历\n",
    "        if not root:\n",
    "            return \n",
    "        self.traverse_path.append(root)\n",
    "        self.pre_order(root.left)\n",
    "        self.pre_order(root.right)\n",
    "    \n",
    "    def in_order(self, root): # 二叉搜索树的中序遍历是一个有序数组\n",
    "        if not root:\n",
    "            return\n",
    "        self.in_order(root.left)\n",
    "        self.traverse_path.append(root)\n",
    "        self.in_order(root.right)\n",
    "    \n",
    "    def post_order(self, root):\n",
    "        if not root:\n",
    "            return \n",
    "        self.post_order(root.left)\n",
    "        self.post_order(root.right)\n",
    "        self.traverse_path.append(root)\n",
    "        \n",
    "    def dfs_recursion(self, root): # 使用递归的方式进行深度优先遍历\n",
    "        if not root:\n",
    "            return \n",
    "        self.traverse_path.append(root)\n",
    "        self.dfs_recursion(root.left) # 左子树先就先调用左子树的递归\n",
    "        self.dfs_recursion(root.right)\n",
    "        \n",
    "    \n",
    "    # 深堆栈（圣战-深栈），广队列\n",
    "    def dfs_stack(self, root): # 使用堆栈进行深度优先遍历\n",
    "        if not root:\n",
    "            return \n",
    "        stack = []\n",
    "        stack.append(root)\n",
    "        while stack:\n",
    "            cur_node = stack.pop() # 后进先出\n",
    "            self.traverse_path.append(cur_node)\n",
    "            if cur_node.right:\n",
    "                stack.append(cur_node.right)\n",
    "                \n",
    "            if cur_node.left: # 左子树后入栈，那么左子树将优先遍历\n",
    "                stack.append(cur_node.left)\n",
    "        \n",
    "    \n",
    "    def bfs_single(self, root): # bfs一般不使用递归，通常使用队列；\n",
    "        if not root:\n",
    "            return \n",
    "        from collections import deque\n",
    "        queue = deque()\n",
    "        queue.append(root)\n",
    "        \n",
    "        while queue:\n",
    "            cur_node = queue.popleft() # 先进先出\n",
    "            self.traverse_path.append(cur_node)\n",
    "            \n",
    "            if cur_node.left:\n",
    "                queue.append(cur_node.left)\n",
    "            \n",
    "            if cur_node.right:\n",
    "                queue.append(cur_node.right)\n",
    "                \n",
    "    def bfs_batch(self, root): # 逐层添加\n",
    "        if not root:\n",
    "            return \n",
    "        from collections import deque\n",
    "        queue = deque()\n",
    "        queue.append(root)\n",
    "        \n",
    "        while queue:\n",
    "            for _ in range(len(queue)): # 这样逐层添加的好处是可以方便的知道层数\n",
    "                cur_node = queue.popleft() # 先进先出\n",
    "                self.traverse_path.append(cur_node)\n",
    "\n",
    "                if cur_node.left:\n",
    "                    queue.append(cur_node.left)\n",
    "\n",
    "                if cur_node.right:\n",
    "                    queue.append(cur_node.right)\n",
    "                \n",
    "    \n",
    "                \n",
    "            \n",
    "root = TreeNode(0)\n",
    "root.left = TreeNode(1)\n",
    "root.right = TreeNode(2)\n",
    "root.left.left = TreeNode(3)\n",
    "root.left.right = TreeNode(4)\n",
    "root.right.left = TreeNode(5)\n",
    "root.right.right = TreeNode(6)\n",
    "traberse_tree = TraverseTree()\n",
    "# traberse_tree.pre_order(root) # 前序遍历\n",
    "# traberse_tree.in_order(root) # 中序遍历\n",
    "# traberse_tree.post_order(root) # 后续遍历\n",
    "# traberse_tree.dfs_recursion(root) # 深度优先 - 递归\n",
    "# traberse_tree.dfs_stack(root) # 深度优先 - 使用栈\n",
    "# traberse_tree.bfs_single(root) # 广度优先 - 一个个遍历\n",
    "traberse_tree.bfs_batch(root) # 广度优先 - 逐层遍历\n",
    "for node in traberse_tree.traverse_path:\n",
    "    print(node.val)"
   ]
  },
  {
   "cell_type": "code",
   "execution_count": null,
   "metadata": {},
   "outputs": [],
   "source": []
  }
 ],
 "metadata": {
  "kernelspec": {
   "display_name": "Python 3",
   "language": "python",
   "name": "python3"
  },
  "language_info": {
   "codemirror_mode": {
    "name": "ipython",
    "version": 3
   },
   "file_extension": ".py",
   "mimetype": "text/x-python",
   "name": "python",
   "nbconvert_exporter": "python",
   "pygments_lexer": "ipython3",
   "version": "3.7.4"
  },
  "toc": {
   "base_numbering": 1,
   "nav_menu": {},
   "number_sections": true,
   "sideBar": true,
   "skip_h1_title": false,
   "title_cell": "Table of Contents",
   "title_sidebar": "Contents",
   "toc_cell": false,
   "toc_position": {},
   "toc_section_display": true,
   "toc_window_display": false
  },
  "varInspector": {
   "cols": {
    "lenName": 16,
    "lenType": 16,
    "lenVar": 40
   },
   "kernels_config": {
    "python": {
     "delete_cmd_postfix": "",
     "delete_cmd_prefix": "del ",
     "library": "var_list.py",
     "varRefreshCmd": "print(var_dic_list())"
    },
    "r": {
     "delete_cmd_postfix": ") ",
     "delete_cmd_prefix": "rm(",
     "library": "var_list.r",
     "varRefreshCmd": "cat(var_dic_list()) "
    }
   },
   "types_to_exclude": [
    "module",
    "function",
    "builtin_function_or_method",
    "instance",
    "_Feature"
   ],
   "window_display": false
  }
 },
 "nbformat": 4,
 "nbformat_minor": 2
}
