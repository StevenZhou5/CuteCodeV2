{
 "cells": [
  {
   "cell_type": "code",
   "execution_count": null,
   "metadata": {},
   "outputs": [],
   "source": []
  },
  {
   "cell_type": "code",
   "execution_count": 1,
   "metadata": {},
   "outputs": [],
   "source": [
    "# 用两个堆栈实现一个队列\n",
    "class CQueue:\n",
    "\n",
    "    def __init__(self):\n",
    "        self.stack_append = []\n",
    "        self.stack_delete = []\n",
    "        self.state = 0 # state = 0 代表测试是空，state =1 代表上一次是插入操作，state =2 代表上一次是删除操作\n",
    "\n",
    "\n",
    "    def appendTail(self, value: int) -> None:\n",
    "        if value is None:\n",
    "            return None\n",
    "        if self.state == 0 or self.state == 1:\n",
    "            self.stack_append.append(value)\n",
    "            self.state = 1\n",
    "            return None\n",
    "        if self.state == 2:\n",
    "            for _ in range(len(self.stack_delete)):\n",
    "                tem = self.stack_delete.pop()\n",
    "                self.stack_append.append(tem)\n",
    "            self.stack_append.append(value)\n",
    "            self.state = 1\n",
    "            return None\n",
    "            \n",
    "\n",
    "\n",
    "    def deleteHead(self) -> int:\n",
    "        if self.state == 0:\n",
    "            return -1\n",
    "        if self.state == 2:\n",
    "            val_result = self.stack_delete.pop()\n",
    "            if len(self.stack_delete) == 0:\n",
    "                self.state = 0\n",
    "            else:\n",
    "                self.state == 2\n",
    "            return val_result\n",
    "\n",
    "        if self.state == 1:\n",
    "            for _ in range(len(self.stack_append)):\n",
    "                tem = self.stack_append.pop()\n",
    "                self.stack_delete.append(tem)\n",
    "            val_result = self.stack_delete.pop()\n",
    "            if len(self.stack_delete) == 0:\n",
    "                self.state = 0\n",
    "            else:\n",
    "                self.state = 2\n",
    "            return val_result\n",
    "\n",
    "\n",
    "\n",
    "\n",
    "# Your CQueue object will be instantiated and called as such:\n",
    "# obj = CQueue()\n",
    "# obj.appendTail(value)\n",
    "# param_2 = obj.deleteHead()"
   ]
  },
  {
   "cell_type": "code",
   "execution_count": 10,
   "metadata": {},
   "outputs": [
    {
     "data": {
      "text/plain": [
       "4"
      ]
     },
     "execution_count": 10,
     "metadata": {},
     "output_type": "execute_result"
    }
   ],
   "source": [
    "# 最长有效括号：使用堆栈解决\n",
    "class Solution:\n",
    "    def longestValidParentheses(self, s: str) -> int:\n",
    "        # 入栈出栈法\n",
    "        if len(s) == 0 :\n",
    "            return 0\n",
    "        stack = []\n",
    "        for i in range(len(s)):\n",
    "            if len(stack) > 0 and  stack[-1][0] == \"(\" and s[i] == \")\":\n",
    "                stack.pop()\n",
    "            else:\n",
    "                stack.append((s[i],i))\n",
    "        # print(stack)\n",
    "        stack = list(map(lambda x:x[1],stack))\n",
    "        stack.insert(0,0)\n",
    "        stack.append(len(s))\n",
    "        # print(stack)\n",
    "        result_list = list(map(lambda a,b:a-b if (a-b)%2 ==0 else a-b-1,stack[1:],stack[:-1]))\n",
    "        # print(result_list)\n",
    "        return max(result_list)\n",
    "s = Solution()\n",
    "s.longestValidParentheses(\"((())\")"
   ]
  },
  {
   "cell_type": "code",
   "execution_count": null,
   "metadata": {},
   "outputs": [],
   "source": []
  }
 ],
 "metadata": {
  "kernelspec": {
   "display_name": "Python 3",
   "language": "python",
   "name": "python3"
  },
  "language_info": {
   "codemirror_mode": {
    "name": "ipython",
    "version": 3
   },
   "file_extension": ".py",
   "mimetype": "text/x-python",
   "name": "python",
   "nbconvert_exporter": "python",
   "pygments_lexer": "ipython3",
   "version": "3.7.4"
  }
 },
 "nbformat": 4,
 "nbformat_minor": 4
}
