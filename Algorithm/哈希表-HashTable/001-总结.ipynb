{
 "cells": [
  {
   "cell_type": "markdown",
   "metadata": {},
   "source": [
    "# 数据结构优缺点"
   ]
  },
  {
   "cell_type": "markdown",
   "metadata": {
    "ExecuteTime": {
     "end_time": "2022-08-05T01:13:32.971481Z",
     "start_time": "2022-08-05T01:13:32.967209Z"
    }
   },
   "source": [
    "#特点：用空间换时间，增删改查都是O(1)的时间复杂度；需要额外的存储空间存储Key值；同时元素无序；"
   ]
  },
  {
   "cell_type": "markdown",
   "metadata": {},
   "source": [
    "# "
   ]
  },
  {
   "cell_type": "markdown",
   "metadata": {},
   "source": [
    "# 和其他数据结构的关系"
   ]
  },
  {
   "cell_type": "markdown",
   "metadata": {
    "ExecuteTime": {
     "end_time": "2022-08-05T02:14:12.530000Z",
     "start_time": "2022-08-05T02:14:12.527465Z"
    }
   },
   "source": [
    "#1、HashTable & Hash Function & Collisions(碰撞、冲突)\n",
    "HashTable ：以Key->Value 形式存储，Key的生成依赖Hash Function(哈希函数)，可以做到O(1)的查询时间复杂度，同时增、删、改操作也能做到O(1)的时间复杂度；\n",
    "Hash Function：使用Key做为输入，目的是为了把每个不同Key都映射成一个数值，在通过数值关联到固定的地址索引上，做到任意key都可以用O(1)的时间复杂度访问；但如何两个不同的key使用哈希函数映射后的值相同怎么办，这种情况就是所谓的哈希碰撞(冲突)；\n",
    "Hash Collisions：常用的hash冲突解决办法有：链式地址法（HashMap的哈希冲突解决方法）、开放地址方法 (再散列法)、建立公共溢出区、再哈希法\n",
    "#2、Map vs Set：\n",
    "Map有key-value两个值，且Key不允许重复；\n",
    "而Set元素也不允许重复，可以用map实现，此时相当于只有Key的map，查询时间复杂度为O(1)但是无序不支持顺序访问；另外可以使用树来实现，查询复杂度为O(lg(n)),但有序支持顺序访问；\n",
    "#3、HashMap, HashSet, TreeMap, TreeSet\n",
    "HashMap 和 HashSet 查询时间复杂度O(1),但是无序；\n",
    "TreeMap 和 TreeSet 使用二叉树存储，查询时间复杂度O(lg(n)),但是数据有序；"
   ]
  },
  {
   "cell_type": "markdown",
   "metadata": {},
   "source": [
    "# 常用于解决什么样的问题"
   ]
  },
  {
   "cell_type": "markdown",
   "metadata": {},
   "source": [
    "#1、插入、删除、修改、增加都需要较高的性能；\n",
    "#2、需要查询和计数问题；\n"
   ]
  },
  {
   "cell_type": "markdown",
   "metadata": {},
   "source": [
    "# 常用的实现方式"
   ]
  },
  {
   "cell_type": "code",
   "execution_count": 3,
   "metadata": {
    "ExecuteTime": {
     "end_time": "2022-08-10T12:00:26.710173Z",
     "start_time": "2022-08-10T12:00:26.703530Z"
    }
   },
   "outputs": [
    {
     "name": "stdout",
     "output_type": "stream",
     "text": [
      "5\n",
      "0\n"
     ]
    },
    {
     "data": {
      "text/plain": [
       "{'a': 5, 'b': 0}"
      ]
     },
     "execution_count": 3,
     "metadata": {},
     "output_type": "execute_result"
    }
   ],
   "source": [
    "test_map = {}\n",
    "test_map['a'] = 5\n",
    "print(test_map.setdefault(\"a\",0))\n",
    "print(test_map.setdefault(\"b\",0))\n",
    "test_map"
   ]
  },
  {
   "cell_type": "markdown",
   "metadata": {},
   "source": [
    "# 个人总结"
   ]
  },
  {
   "cell_type": "code",
   "execution_count": 6,
   "metadata": {
    "ExecuteTime": {
     "end_time": "2022-08-11T07:22:34.211289Z",
     "start_time": "2022-08-11T07:22:34.209080Z"
    }
   },
   "outputs": [],
   "source": [
    "#1、对增、删、改、查性能要求高，同时不要求元素有序，用HashMap；\n",
    "#2、对增、删、改、查性能要求高，但同时要求元素有序，同TreeMap;"
   ]
  },
  {
   "cell_type": "markdown",
   "metadata": {},
   "source": [
    "# 常用变量命名（名字即为注释）"
   ]
  },
  {
   "cell_type": "code",
   "execution_count": 5,
   "metadata": {
    "ExecuteTime": {
     "end_time": "2022-08-11T07:22:19.570767Z",
     "start_time": "2022-08-11T07:22:19.563084Z"
    }
   },
   "outputs": [],
   "source": [
    "#1、xx_to_xx_map：第一个xx对应key值，第二个xx对应value值"
   ]
  },
  {
   "cell_type": "code",
   "execution_count": null,
   "metadata": {},
   "outputs": [],
   "source": []
  }
 ],
 "metadata": {
  "kernelspec": {
   "display_name": "Python 3",
   "language": "python",
   "name": "python3"
  },
  "language_info": {
   "codemirror_mode": {
    "name": "ipython",
    "version": 3
   },
   "file_extension": ".py",
   "mimetype": "text/x-python",
   "name": "python",
   "nbconvert_exporter": "python",
   "pygments_lexer": "ipython3",
   "version": "3.7.4"
  },
  "toc": {
   "base_numbering": 1,
   "nav_menu": {},
   "number_sections": true,
   "sideBar": true,
   "skip_h1_title": false,
   "title_cell": "Table of Contents",
   "title_sidebar": "Contents",
   "toc_cell": false,
   "toc_position": {},
   "toc_section_display": true,
   "toc_window_display": false
  },
  "varInspector": {
   "cols": {
    "lenName": 16,
    "lenType": 16,
    "lenVar": 40
   },
   "kernels_config": {
    "python": {
     "delete_cmd_postfix": "",
     "delete_cmd_prefix": "del ",
     "library": "var_list.py",
     "varRefreshCmd": "print(var_dic_list())"
    },
    "r": {
     "delete_cmd_postfix": ") ",
     "delete_cmd_prefix": "rm(",
     "library": "var_list.r",
     "varRefreshCmd": "cat(var_dic_list()) "
    }
   },
   "types_to_exclude": [
    "module",
    "function",
    "builtin_function_or_method",
    "instance",
    "_Feature"
   ],
   "window_display": false
  }
 },
 "nbformat": 4,
 "nbformat_minor": 2
}
