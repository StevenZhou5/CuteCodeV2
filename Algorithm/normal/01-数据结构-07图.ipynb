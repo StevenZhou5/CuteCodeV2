{
 "cells": [
  {
   "cell_type": "code",
   "execution_count": null,
   "metadata": {},
   "outputs": [],
   "source": []
  },
  {
   "cell_type": "code",
   "execution_count": 4,
   "metadata": {},
   "outputs": [
    {
     "name": "stdout",
     "output_type": "stream",
     "text": [
      "graph: [(1, 2), (2, 4), (2, 5), (4, 8), (5, 8), (1, 3), (3, 6), (3, 7), (6, 7)]\n",
      "{1: [2, 3], 2: [1, 4, 5], 4: [2, 8], 5: [2, 8], 8: [4, 5], 3: [1, 6, 7], 6: [3, 7], 7: [3, 6]}\n"
     ]
    },
    {
     "data": {
      "text/plain": [
       "[1, 2, 4, 8, 5, 3, 6, 7]"
      ]
     },
     "execution_count": 4,
     "metadata": {},
     "output_type": "execute_result"
    }
   ],
   "source": [
    "# 深度优先遍历图\n",
    "from collections import deque\n",
    "graph = [(1,2),(2,4),(2,5),(4,8),(5,8),(1,3),(3,6),(3,7),(6,7)]\n",
    "print(\"graph:\",graph)\n",
    "\n",
    "graph_dict = {}\n",
    "for edge1,edge2 in graph:\n",
    "    edge1_next_list = graph_dict.get(edge1,[])\n",
    "    edge1_next_list.append(edge2)\n",
    "    graph_dict[edge1] = edge1_next_list\n",
    "    \n",
    "    edge2_next_list = graph_dict.get(edge2,[])\n",
    "    edge2_next_list.append(edge1)\n",
    "    graph_dict[edge2] = edge2_next_list\n",
    "print(graph_dict)\n",
    "\n",
    "# 深度优先搜索，深(堆)栈\n",
    "start = 1\n",
    "graph_deque = deque([start])\n",
    "visited = [start]\n",
    "while graph_deque:\n",
    "    cur_node = graph_deque.pop()\n",
    "    if cur_node not in visited:\n",
    "        visited.append(cur_node)\n",
    "    \n",
    "    cur_next_list = graph_dict.get(cur_node,[])\n",
    "    while cur_next_list:\n",
    "        cur_next = cur_next_list.pop() # 可以从第0位取，也可以从最后一位取\n",
    "        if cur_next not in visited:\n",
    "            graph_deque.append(cur_next)\n",
    "visited"
   ]
  },
  {
   "cell_type": "code",
   "execution_count": 2,
   "metadata": {},
   "outputs": [
    {
     "name": "stdout",
     "output_type": "stream",
     "text": [
      "graph: [(1, 2), (2, 4), (2, 5), (4, 8), (5, 8), (1, 3), (3, 6), (3, 7), (6, 7)]\n",
      "graph_dict: {1: [2, 3], 2: [1, 4, 5], 4: [2, 8], 5: [2, 8], 8: [4, 5], 3: [1, 6, 7], 6: [3, 7], 7: [3, 6]}\n"
     ]
    },
    {
     "data": {
      "text/plain": [
       "[1, 2, 3, 4, 5, 6, 7, 8]"
      ]
     },
     "execution_count": 2,
     "metadata": {},
     "output_type": "execute_result"
    }
   ],
   "source": [
    "# 广度优先遍历图\n",
    "from collections import deque\n",
    "graph = [(1,2),(2,4),(2,5),(4,8),(5,8),(1,3),(3,6),(3,7),(6,7)]\n",
    "print(\"graph:\",graph)\n",
    "\n",
    "graph_dict = {}\n",
    "for node1,node2 in graph:\n",
    "    # node1的所有下一个结点列表初始化\n",
    "    node1_next_list = graph_dict.get(node1,[])\n",
    "    node1_next_list.append(node2)\n",
    "    graph_dict[node1] = node1_next_list\n",
    "    \n",
    "    # node2的所有下一个结点列表初始化\n",
    "    node2_next_list = graph_dict.get(node2,[])\n",
    "    node2_next_list.append(node1)\n",
    "    graph_dict[node2] = node2_next_list\n",
    "print(\"graph_dict:\",graph_dict)\n",
    "\n",
    "start = 1\n",
    "graph_deque = deque([start])\n",
    "visited = [start]\n",
    "while graph_deque:\n",
    "    cur_node = graph_deque.popleft()\n",
    "    if cur_node not in visited:\n",
    "        visited.append(cur_node)\n",
    "    \n",
    "    cur_next_list = graph_dict.get(cur_node,[])\n",
    "    while cur_next_list:\n",
    "        cur_next = cur_next_list.pop(0) # 可以从第0位取，也可以从最后一位取\n",
    "        if cur_next not in visited:\n",
    "            graph_deque.append(cur_next)\n",
    "visited"
   ]
  },
  {
   "cell_type": "code",
   "execution_count": null,
   "metadata": {},
   "outputs": [],
   "source": [
    "# 给你一个由 n 个节点（下标从 0 开始）组成的无向加权图，该图由一个描述边的列表组成，其中 edges[i] = [a, b] 表示连接节点 a 和 b 的一条无向边，且该边遍历成功的概率为 succProb[i] 。\n",
    "\n",
    "# 指定两个节点分别作为起点 start 和终点 end ，请你找出从起点到终点成功概率最大的路径，并返回其成功概率。\n",
    "\n",
    "# 如果不存在从 start 到 end 的路径，请 返回 0 。只要答案与标准答案的误差不超过 1e-5 ，就会被视作正确答案。\n",
    "\n",
    " \n",
    "\n",
    "# 示例 1：\n",
    "# 输入：n = 3, edges = [[0,1],[1,2],[0,2]], succProb = [0.5,0.5,0.2], start = 0, end = 2\n",
    "# 输出：0.25000\n",
    "# 解释：从起点到终点有两条路径，其中一条的成功概率为 0.2 ，而另一条为 0.5 * 0.5 = 0.25\n",
    "\n",
    "# 来源：力扣（LeetCode）\n",
    "# 链接：https://leetcode-cn.com/problems/path-with-maximum-probability\n",
    "# 著作权归领扣网络所有。商业转载请联系官方授权，非商业转载请注明出处。\n",
    "class Solution:\n",
    "    def maxProbability(self, n: int, edges: List[List[int]], succProb: List[float], start: int, end: int) -> float:\n",
    "        from collections import defaultdict\n",
    "        grapg_maps = defaultdict(list)\n",
    "        for i,[s,n] in enumerate(edges):\n",
    "            grapg_maps[s].append((n,succProb[i]))\n",
    "            grapg_maps[n].append((s,succProb[i]))\n",
    "\n",
    "        # print(grapg_maps)\n",
    "        result = 0\n",
    "        queue  = deque([(start,1)])\n",
    "        passed = {start:1}\n",
    "        while queue: # 使用双端队列进行广度优先遍历，BFS\n",
    "            cur_node,cur_prob = queue.popleft()\n",
    "            for next_node,next_prob in grapg_maps[cur_node]:\n",
    "                next_prob *= cur_prob\n",
    "                if next_node == end: # 如果是尾结点，更新result\n",
    "                    result = max(result,next_prob)\n",
    "                    continue\n",
    "                \n",
    "                if next_prob <= result: # 如果概率值不大于已有路径，看是看下一个结点\n",
    "                    continue\n",
    "                \n",
    "                if next_node not in passed or next_prob> passed[next_node]:\n",
    "                    passed[next_node] = next_prob\n",
    "                    queue.append([next_node,next_prob]) \n",
    "\n",
    "        return result"
   ]
  }
 ],
 "metadata": {
  "kernelspec": {
   "display_name": "Python 3",
   "language": "python",
   "name": "python3"
  },
  "language_info": {
   "codemirror_mode": {
    "name": "ipython",
    "version": 3
   },
   "file_extension": ".py",
   "mimetype": "text/x-python",
   "name": "python",
   "nbconvert_exporter": "python",
   "pygments_lexer": "ipython3",
   "version": "3.7.4"
  }
 },
 "nbformat": 4,
 "nbformat_minor": 4
}
