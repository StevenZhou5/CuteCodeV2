{
 "cells": [
  {
   "cell_type": "code",
   "execution_count": null,
   "metadata": {},
   "outputs": [],
   "source": []
  },
  {
   "cell_type": "code",
   "execution_count": 7,
   "metadata": {
    "ExecuteTime": {
     "end_time": "2021-10-15T09:44:58.975747Z",
     "start_time": "2021-10-15T09:44:58.961476Z"
    }
   },
   "outputs": [
    {
     "name": "stdout",
     "output_type": "stream",
     "text": [
      "初始： [5, 4, 5, 3, 2, 1, 1]\n",
      "[1, 1, 2, 3, 4, 5, 5]\n"
     ]
    }
   ],
   "source": [
    "# 快速排序\n",
    "class SORT_NUMS():\n",
    "    def quick_sort(self,nums,left,right):\n",
    "        # 快排，左右指针法\n",
    "        def partition(nums,begin,end):\n",
    "            if begin >= end:\n",
    "                return \n",
    "            old_begin = begin\n",
    "            old_end = end\n",
    "            tar_num= nums[begin]\n",
    "            while begin < end:\n",
    "                # 从有向左找到一个小于tar_num的值\n",
    "                while begin < end and nums[end] >= tar_num:\n",
    "                    end -= 1\n",
    "                # 从左向右找到一个大于tar_num的值\n",
    "                while begin < end and nums[begin] <= tar_num:\n",
    "                    begin += 1\n",
    "                # 如果找到的begin小于end，则交换\n",
    "                if begin < end:\n",
    "                    nums[begin],nums[end] = nums[end],nums[begin]\n",
    "#             print(nums)\n",
    "#             print(begin)\n",
    "#             print(end)\n",
    "#             print()\n",
    "    #         if begin != end: # begin 必然等于end\n",
    "    #             print(\"存在begin != end的情况\")\n",
    "            # 因为相等的值没有被算进去，所以要在最后把首位的key值与end位置的数进行交换\n",
    "            nums[old_begin],nums[end] = nums[end],nums[old_begin]\n",
    "            partition(nums,old_begin,begin-1)\n",
    "            partition(nums,begin+1,old_end)\n",
    "            return begin\n",
    "        partition(nums,left,right)\n",
    "        \n",
    "#         if left < right:\n",
    "#             split_pos = partition(nums,left,right)\n",
    "#             self.quick_sort(nums,left,split_pos-1)\n",
    "#             self.quick_sort(nums,split_pos+1,right)\n",
    "            \n",
    "    \n",
    "    \n",
    "        \n",
    "    def merge_sort(self,nums):\n",
    "        # 归并排序\n",
    "        def merge_two_list(left_nums,right_nums):\n",
    "            left_idx = 0\n",
    "            right_idx = 0\n",
    "            result = []\n",
    "            while left_idx < len(left_nums) and right_idx < len(right_nums):\n",
    "                if left_nums[left_idx] <= right_nums[right_idx]:\n",
    "                    result.append(left_nums[left_idx])\n",
    "                    left_idx += 1\n",
    "                else:\n",
    "                    result.append(right_nums[right_idx])\n",
    "                    right_idx += 1\n",
    "            return result + left_nums[left_idx:] + right_nums[right_idx:]\n",
    "        \n",
    "        nums_len = len(nums)\n",
    "        if nums_len < 2:\n",
    "            return nums\n",
    "        middle_idx = nums_len // 2\n",
    "        left_nums = merge_sort(nums[:middle_idx])\n",
    "        right_nums = merge_sort(nums[middle_idx:])\n",
    "        return self.merge_two_list(left_nums,right_nums)\n",
    "        \n",
    "        \n",
    "s = SORT_NUMS()\n",
    "import random\n",
    "# nums = [random.randint(0,1000) for i in range(1000)]\n",
    "nums = [5, 4, 5, 3, 2, 1, 1]\n",
    "print(\"初始：\",nums)\n",
    "s.quick_sort(nums,0,len(nums)-1)\n",
    "print(nums)\n",
    "\n",
    "# print(s.merge_sort(nums))"
   ]
  },
  {
   "cell_type": "code",
   "execution_count": 11,
   "metadata": {},
   "outputs": [
    {
     "name": "stdout",
     "output_type": "stream",
     "text": [
      "True\n",
      "False\n",
      "True\n"
     ]
    }
   ],
   "source": [
    "# 有效的字母异位词\n",
    "class Solution(object):\n",
    "    def isAnagram(self, s, t):\n",
    "        \"\"\"\n",
    "        :type s: str\n",
    "        :type t: str\n",
    "        :rtype: bool\n",
    "        \"\"\"\n",
    "        if not len(s) == len(t):\n",
    "            return False\n",
    "            \n",
    "        sHash = tHash = 1\n",
    "        sCount = [0] * 26\n",
    "        tCount = [0] * 26\n",
    "        p1 = 2903\n",
    "        p2 = 29947\n",
    "        # 统计每个字符出现的次数\n",
    "        for i in range(len(s)):\n",
    "            sCount[ord(s[i]) - ord('a')] += 1\n",
    "            tCount[ord(t[i]) - ord('a')] += 1\n",
    "        \n",
    "        # 这是对每个统计列表做了一个hash\n",
    "        for i in range(26):\n",
    "            sHash = sHash * p1 + sCount[i]\n",
    "            tHash = tHash * p1 + tCount[i]\n",
    "            p1 *= p2\n",
    "        return sHash == tHash\n",
    "s = Solution()\n",
    "print(s.isAnagram('ass','ssa'))\n",
    "print(s.isAnagram('sdaf','sdgd'))\n",
    "print(s.isAnagram('sdiaf','isadf'))"
   ]
  },
  {
   "cell_type": "code",
   "execution_count": 1,
   "metadata": {},
   "outputs": [
    {
     "data": {
      "text/plain": [
       "[]"
      ]
     },
     "execution_count": 1,
     "metadata": {},
     "output_type": "execute_result"
    }
   ],
   "source": [
    "[1,2][2:]"
   ]
  },
  {
   "cell_type": "code",
   "execution_count": 12,
   "metadata": {},
   "outputs": [
    {
     "data": {
      "text/plain": [
       "97"
      ]
     },
     "execution_count": 12,
     "metadata": {},
     "output_type": "execute_result"
    }
   ],
   "source": [
    "ord('a')"
   ]
  },
  {
   "cell_type": "code",
   "execution_count": 21,
   "metadata": {},
   "outputs": [
    {
     "name": "stdout",
     "output_type": "stream",
     "text": [
      "[2]\n",
      "[1, 2, 4]\n"
     ]
    }
   ],
   "source": [
    "# 两个数的交集\n",
    "class Solution(object):\n",
    "    def intersection(self,nums1,nums2):\n",
    "        result = []\n",
    "        short_nums = nums1 if nums1 < nums2 else nums2\n",
    "        for num in short_nums:\n",
    "            if num in nums1 and num in nums2 and num not in result:\n",
    "                result.append(num)\n",
    "        \n",
    "        return result\n",
    "s = Solution()\n",
    "print(s.intersection([1,2,2,5],[2,2,]))\n",
    "print(s.intersection([1,2,2,5,4,5,7,1,8],[2,2,6,1,4]))"
   ]
  },
  {
   "cell_type": "code",
   "execution_count": 36,
   "metadata": {},
   "outputs": [
    {
     "name": "stdout",
     "output_type": "stream",
     "text": [
      "[[2, 2]]\n"
     ]
    }
   ],
   "source": [
    "# 两个数的交集 2\n",
    "class Solution(object):\n",
    "    def intersection(self,nums1,nums2):\n",
    "        dic = {}\n",
    "        for num in nums1:\n",
    "            dic[num] = [dic.get(num,[0,0])[0] + 1,0]\n",
    "        \n",
    "        for num in nums2:\n",
    "            num_count_in_nums1 = dic.get(num,[0,0])[0]\n",
    "            if num_count_in_nums1 == 0:\n",
    "                continue\n",
    "            else:\n",
    "                dic[num] = [dic[num][0],dic[num][1]+1]\n",
    "        result = []\n",
    "        for k,v in dic.items():\n",
    "            if v[1] == 0:\n",
    "                continue\n",
    "            result.append([k,min(v)])\n",
    "        return result\n",
    "\n",
    "s = Solution()\n",
    "print(s.intersection([1,2,2,5],[2,2]))"
   ]
  },
  {
   "cell_type": "code",
   "execution_count": 1,
   "metadata": {},
   "outputs": [],
   "source": [
    "# 第K大的数字\n",
    "class Solution:\n",
    "    def findKthLargest(self, nums: List[int], k: int) -> int:\n",
    "        # 堆排\n",
    "        # 取前K个数，建立小根堆\n",
    "        max_k_nums = nums[:k]\n",
    "        last_father_node_idx = (k>>1) - 1\n",
    "        i = last_father_node_idx\n",
    "        # print(k,last_father_node_idx,i)\n",
    "\n",
    "        def reset(idx):\n",
    "            left_idx = (idx<<1) +1\n",
    "            if left_idx < len(max_k_nums) and max_k_nums[left_idx] < max_k_nums[idx]:\n",
    "                tem = max_k_nums[idx]\n",
    "                max_k_nums[idx] = max_k_nums[left_idx]\n",
    "                max_k_nums[left_idx] = tem\n",
    "                reset(left_idx)\n",
    "\n",
    "            right_idx = (idx<<1) +2\n",
    "            if right_idx < len(max_k_nums) and max_k_nums[right_idx] < max_k_nums[idx]:\n",
    "                tem = max_k_nums[idx]\n",
    "                max_k_nums[idx] = max_k_nums[right_idx]\n",
    "                max_k_nums[right_idx] = tem\n",
    "                reset(right_idx)\n",
    "\n",
    "        for _ in range(last_father_node_idx+1):\n",
    "            left_idx = (i<<1) +1 \n",
    "            if max_k_nums[left_idx] < max_k_nums[i]:\n",
    "                tem = max_k_nums[i]\n",
    "                max_k_nums[i] = max_k_nums[left_idx]\n",
    "                max_k_nums[left_idx] = tem\n",
    "                reset(left_idx)\n",
    "            \n",
    "            right_idx = (i<<1) +2\n",
    "            if right_idx < len(max_k_nums) and max_k_nums[right_idx] < max_k_nums[i]:\n",
    "                tem = max_k_nums[i]\n",
    "                max_k_nums[i] = max_k_nums[right_idx]\n",
    "                max_k_nums[right_idx] = tem\n",
    "                reset(right_idx)\n",
    "            i -=1\n",
    "        # print(\"初始：\",max_k_nums)\n",
    "\n",
    "        # 将后面的数加入堆\n",
    "        for i in range(k,len(nums)):\n",
    "            if nums[i] <= max_k_nums[0]:\n",
    "                continue\n",
    "            max_k_nums[0] = nums[i]\n",
    "            reset(0)\n",
    "        \n",
    "        # print(\"最终：\",max_k_nums)\n",
    "        return max_k_nums[0]"
   ]
  },
  {
   "cell_type": "code",
   "execution_count": 8,
   "metadata": {},
   "outputs": [
    {
     "data": {
      "text/plain": [
       "0"
      ]
     },
     "execution_count": 8,
     "metadata": {},
     "output_type": "execute_result"
    }
   ],
   "source": [
    "# 计算右侧小于当前元素的个数\n",
    "# 给定一个整数数组 nums，按要求返回一个新数组 counts。数组 counts 有该性质： counts[i] 的值是  nums[i] 右侧小于 nums[i] 的元素的数量。\n",
    "\n",
    "# 来源：力扣（LeetCode）\n",
    "# 链接：https://leetcode-cn.com/problems/count-of-smaller-numbers-after-self\n",
    "# 著作权归领扣网络所有。商业转载请联系官方授权，非商业转载请注明出处。\n",
    "# 示例:\n",
    "\n",
    "# 输入: [5,2,6,1]\n",
    "# 输出: [2,1,1,0] \n",
    "# 解释:\n",
    "# 5 的右侧有 2 个更小的元素 (2 和 1).\n",
    "# 2 的右侧仅有 1 个更小的元素 (1).\n",
    "# 6 的右侧有 1 个更小的元素 (1).\n",
    "# 1 的右侧有 0 个更小的元素.\n",
    "\n",
    "# 来源：力扣（LeetCode）\n",
    "# 链接：https://leetcode-cn.com/problems/count-of-smaller-numbers-after-self\n",
    "# 著作权归领扣网络所有。商业转载请联系官方授权，非商业转载请注明出处。\n",
    "class Solution:\n",
    "    def countSmaller(self, nums: List[int]) -> List[int]:\n",
    "        if not nums:\n",
    "            return []\n",
    "        count = len(nums)\n",
    "        sorted_list =[nums.pop()]\n",
    "        result = [0]\n",
    "        # 倒序依次插入排序列表\n",
    "        for _ in range(count-1):\n",
    "            target_num = nums.pop()\n",
    "            start_idx = 0\n",
    "            end_idx = len(sorted_list) -1\n",
    "            middle_idx = 0 \n",
    "            while start_idx<=end_idx:\n",
    "                middle_idx = (start_idx + end_idx) >>1\n",
    "                if sorted_list[middle_idx] >= target_num: # 注意这里等于相当于大于，因为我们要所有小的\n",
    "                    end_idx = middle_idx - 1\n",
    "                elif sorted_list[middle_idx] < target_num:\n",
    "                    start_idx = middle_idx +1 \n",
    "            if sorted_list[middle_idx] < target_num:\n",
    "                sorted_list.insert(middle_idx+1,target_num)\n",
    "                result.append(middle_idx+1)\n",
    "            else:\n",
    "                sorted_list.insert(middle_idx,target_num)\n",
    "                result.append(middle_idx)\n",
    "            # print(sorted_list)\n",
    "            \n",
    "        result.reverse()\n",
    "        return result"
   ]
  },
  {
   "cell_type": "code",
   "execution_count": 9,
   "metadata": {},
   "outputs": [
    {
     "data": {
      "text/plain": [
       "[8, 3, 2, 1]"
      ]
     },
     "execution_count": 9,
     "metadata": {},
     "output_type": "execute_result"
    }
   ],
   "source": [
    "a = [1,2,3]\n",
    "a.insert(3,8)\n",
    "a.reverse()\n",
    "a"
   ]
  },
  {
   "cell_type": "code",
   "execution_count": 1,
   "metadata": {},
   "outputs": [
    {
     "data": {
      "text/plain": [
       "[3, 2, 1]"
      ]
     },
     "execution_count": 1,
     "metadata": {},
     "output_type": "execute_result"
    }
   ],
   "source": [
    "[1,2,3][::-1] # "
   ]
  },
  {
   "cell_type": "code",
   "execution_count": 2,
   "metadata": {},
   "outputs": [
    {
     "data": {
      "text/plain": [
       "'das'"
      ]
     },
     "execution_count": 2,
     "metadata": {},
     "output_type": "execute_result"
    }
   ],
   "source": [
    "\"sad\"[::-1] # 这种适用于任意字符的反转"
   ]
  },
  {
   "cell_type": "code",
   "execution_count": 11,
   "metadata": {},
   "outputs": [
    {
     "data": {
      "text/plain": [
       "[[1, 2, 3, 4],\n",
       " [1, 2, 4, 3],\n",
       " [1, 3, 2, 4],\n",
       " [1, 3, 4, 2],\n",
       " [1, 4, 3, 2],\n",
       " [1, 4, 2, 3],\n",
       " [2, 1, 3, 4],\n",
       " [2, 1, 4, 3],\n",
       " [2, 3, 1, 4],\n",
       " [2, 3, 4, 1],\n",
       " [2, 4, 3, 1],\n",
       " [2, 4, 1, 3],\n",
       " [3, 2, 1, 4],\n",
       " [3, 2, 4, 1],\n",
       " [3, 1, 2, 4],\n",
       " [3, 1, 4, 2],\n",
       " [3, 4, 1, 2],\n",
       " [3, 4, 2, 1],\n",
       " [4, 2, 3, 1],\n",
       " [4, 2, 1, 3],\n",
       " [4, 3, 2, 1],\n",
       " [4, 3, 1, 2],\n",
       " [4, 1, 3, 2],\n",
       " [4, 1, 2, 3]]"
      ]
     },
     "execution_count": 11,
     "metadata": {},
     "output_type": "execute_result"
    }
   ],
   "source": [
    "# 全排列组合：顺序数\n",
    "def all_list(nums):\n",
    "    result = []\n",
    "    def resove(idx): # 从idx后面的数进行全排列\n",
    "        if idx == len(nums)-1:\n",
    "#             print(nums)\n",
    "            result.append(nums.copy()) # 这里必须copy一下\n",
    "            return \n",
    "        for i in range(idx,len(nums)):\n",
    "            nums[idx],nums[i] = nums[i],nums[idx] # 把idx后面每一个位置上的数都放到idx上一次，第一次就是自身因为i==idx\n",
    "            resove(idx+1) # 将idx后面的数进行全排列\n",
    "            nums[i],nums[idx] = nums[idx],nums[i] # 回溯：在把i做首位，所有全排列都排外之后，需要把位置还原\n",
    "    resove(0)\n",
    "    return result\n",
    "all_list([i for i in range(1,5)])"
   ]
  },
  {
   "cell_type": "code",
   "execution_count": 4,
   "metadata": {
    "ExecuteTime": {
     "end_time": "2021-10-15T09:31:24.925676Z",
     "start_time": "2021-10-15T09:31:24.921900Z"
    }
   },
   "outputs": [
    {
     "data": {
      "text/plain": [
       "0.028276780121922952"
      ]
     },
     "execution_count": 4,
     "metadata": {},
     "output_type": "execute_result"
    }
   ],
   "source": [
    "999752 / (34356183 + 999752)\n"
   ]
  },
  {
   "cell_type": "code",
   "execution_count": 5,
   "metadata": {
    "ExecuteTime": {
     "end_time": "2021-10-15T09:33:13.866498Z",
     "start_time": "2021-10-15T09:33:13.862344Z"
    }
   },
   "outputs": [
    {
     "data": {
      "text/plain": [
       "0.021849894060320493"
      ]
     },
     "execution_count": 5,
     "metadata": {},
     "output_type": "execute_result"
    }
   ],
   "source": [
    "687622 / (30782645 + 687622)"
   ]
  },
  {
   "cell_type": "code",
   "execution_count": 8,
   "metadata": {
    "ExecuteTime": {
     "end_time": "2021-10-18T13:06:34.593128Z",
     "start_time": "2021-10-18T13:06:34.581762Z"
    }
   },
   "outputs": [
    {
     "data": {
      "text/plain": [
       "0.02200200266348099"
      ]
     },
     "execution_count": 8,
     "metadata": {},
     "output_type": "execute_result"
    }
   ],
   "source": [
    "3860237 / (3860237 + 171589110)"
   ]
  },
  {
   "cell_type": "code",
   "execution_count": 9,
   "metadata": {
    "ExecuteTime": {
     "end_time": "2021-10-18T13:11:53.622542Z",
     "start_time": "2021-10-18T13:11:53.618681Z"
    }
   },
   "outputs": [
    {
     "data": {
      "text/plain": [
       "0.02195687259645255"
      ]
     },
     "execution_count": 9,
     "metadata": {},
     "output_type": "execute_result"
    }
   ],
   "source": [
    "3851729 / (3851729 + 171570749) "
   ]
  },
  {
   "cell_type": "code",
   "execution_count": 10,
   "metadata": {
    "ExecuteTime": {
     "end_time": "2021-10-18T13:12:23.546571Z",
     "start_time": "2021-10-18T13:12:23.542750Z"
    }
   },
   "outputs": [
    {
     "data": {
      "text/plain": [
       "0.022234320948983012"
      ]
     },
     "execution_count": 10,
     "metadata": {},
     "output_type": "execute_result"
    }
   ],
   "source": [
    "1254115 / ( 1254115 + 55150351)"
   ]
  },
  {
   "cell_type": "code",
   "execution_count": 11,
   "metadata": {
    "ExecuteTime": {
     "end_time": "2021-10-18T13:28:39.054926Z",
     "start_time": "2021-10-18T13:28:39.050183Z"
    }
   },
   "outputs": [
    {
     "data": {
      "text/plain": [
       "1.554715410217973"
      ]
     },
     "execution_count": 11,
     "metadata": {},
     "output_type": "execute_result"
    }
   ],
   "source": [
    "3107248 / 1998596"
   ]
  },
  {
   "cell_type": "code",
   "execution_count": 12,
   "metadata": {
    "ExecuteTime": {
     "end_time": "2021-10-18T13:30:22.989320Z",
     "start_time": "2021-10-18T13:30:22.984956Z"
    }
   },
   "outputs": [
    {
     "data": {
      "text/plain": [
       "0.6085669675767611"
      ]
     },
     "execution_count": 12,
     "metadata": {},
     "output_type": "execute_result"
    }
   ],
   "source": [
    "3107248 / (3107248 + 1998596)"
   ]
  },
  {
   "cell_type": "code",
   "execution_count": 13,
   "metadata": {
    "ExecuteTime": {
     "end_time": "2021-10-18T13:30:33.904076Z",
     "start_time": "2021-10-18T13:30:33.898958Z"
    }
   },
   "outputs": [
    {
     "data": {
      "text/plain": [
       "0.39143303242323896"
      ]
     },
     "execution_count": 13,
     "metadata": {},
     "output_type": "execute_result"
    }
   ],
   "source": [
    "1998596 / (3107248 + 1998596)"
   ]
  },
  {
   "cell_type": "code",
   "execution_count": 15,
   "metadata": {
    "ExecuteTime": {
     "end_time": "2021-10-18T13:31:45.263629Z",
     "start_time": "2021-10-18T13:31:45.259547Z"
    }
   },
   "outputs": [
    {
     "data": {
      "text/plain": [
       "0.031307181685218954"
      ]
     },
     "execution_count": 15,
     "metadata": {},
     "output_type": "execute_result"
    }
   ],
   "source": [
    "681009 / (681009 + 21071476)"
   ]
  },
  {
   "cell_type": "code",
   "execution_count": 16,
   "metadata": {
    "ExecuteTime": {
     "end_time": "2021-10-18T13:32:10.722617Z",
     "start_time": "2021-10-18T13:32:10.718699Z"
    }
   },
   "outputs": [
    {
     "data": {
      "text/plain": [
       "0.019333138169191938"
      ]
     },
     "execution_count": 16,
     "metadata": {},
     "output_type": "execute_result"
    }
   ],
   "source": [
    "377290 / (377290 + 19137907)"
   ]
  },
  {
   "cell_type": "code",
   "execution_count": 17,
   "metadata": {
    "ExecuteTime": {
     "end_time": "2021-10-18T13:32:41.866344Z",
     "start_time": "2021-10-18T13:32:41.861243Z"
    }
   },
   "outputs": [
    {
     "data": {
      "text/plain": [
       "0.022764065140909204"
      ]
     },
     "execution_count": 17,
     "metadata": {},
     "output_type": "execute_result"
    }
   ],
   "source": [
    "236209 / (236209 + 10140189)"
   ]
  },
  {
   "cell_type": "code",
   "execution_count": 18,
   "metadata": {
    "ExecuteTime": {
     "end_time": "2021-10-18T13:33:23.371154Z",
     "start_time": "2021-10-18T13:33:23.366134Z"
    }
   },
   "outputs": [
    {
     "data": {
      "text/plain": [
       "0.02401969297374641"
      ]
     },
     "execution_count": 18,
     "metadata": {},
     "output_type": "execute_result"
    }
   ],
   "source": [
    "647841 / (647841 + 26323403)"
   ]
  },
  {
   "cell_type": "code",
   "execution_count": 19,
   "metadata": {
    "ExecuteTime": {
     "end_time": "2021-10-18T13:33:52.437666Z",
     "start_time": "2021-10-18T13:33:52.433760Z"
    }
   },
   "outputs": [
    {
     "data": {
      "text/plain": [
       "0.023409668895012496"
      ]
     },
     "execution_count": 19,
     "metadata": {},
     "output_type": "execute_result"
    }
   ],
   "source": [
    "602856 / (602856 + 25149580)"
   ]
  },
  {
   "cell_type": "code",
   "execution_count": 20,
   "metadata": {
    "ExecuteTime": {
     "end_time": "2021-10-18T13:34:18.806440Z",
     "start_time": "2021-10-18T13:34:18.802501Z"
    }
   },
   "outputs": [
    {
     "data": {
      "text/plain": [
       "0.022318168680653665"
      ]
     },
     "execution_count": 20,
     "metadata": {},
     "output_type": "execute_result"
    }
   ],
   "source": [
    "1057355 / (1057355 + 46319068)"
   ]
  },
  {
   "cell_type": "code",
   "execution_count": 21,
   "metadata": {
    "ExecuteTime": {
     "end_time": "2021-10-18T13:34:44.896336Z",
     "start_time": "2021-10-18T13:34:44.892464Z"
    }
   },
   "outputs": [
    {
     "data": {
      "text/plain": [
       "0.021299836044979852"
      ]
     },
     "execution_count": 21,
     "metadata": {},
     "output_type": "execute_result"
    }
   ],
   "source": [
    "845056 / (845056 + 38829240)"
   ]
  },
  {
   "cell_type": "code",
   "execution_count": 22,
   "metadata": {
    "ExecuteTime": {
     "end_time": "2021-10-18T13:35:06.009132Z",
     "start_time": "2021-10-18T13:35:06.003923Z"
    }
   },
   "outputs": [
    {
     "data": {
      "text/plain": [
       "0.0162893591726387"
      ]
     },
     "execution_count": 22,
     "metadata": {},
     "output_type": "execute_result"
    }
   ],
   "source": [
    "658228 / (658228 + 39750237)"
   ]
  },
  {
   "cell_type": "code",
   "execution_count": 23,
   "metadata": {
    "ExecuteTime": {
     "end_time": "2021-10-20T07:05:00.912060Z",
     "start_time": "2021-10-20T07:05:00.396149Z"
    }
   },
   "outputs": [],
   "source": [
    "import pandas as pd"
   ]
  },
  {
   "cell_type": "code",
   "execution_count": 37,
   "metadata": {
    "ExecuteTime": {
     "end_time": "2021-10-20T12:07:03.725219Z",
     "start_time": "2021-10-20T12:07:03.714590Z"
    }
   },
   "outputs": [
    {
     "data": {
      "text/html": [
       "<div>\n",
       "<style scoped>\n",
       "    .dataframe tbody tr th:only-of-type {\n",
       "        vertical-align: middle;\n",
       "    }\n",
       "\n",
       "    .dataframe tbody tr th {\n",
       "        vertical-align: top;\n",
       "    }\n",
       "\n",
       "    .dataframe thead th {\n",
       "        text-align: right;\n",
       "    }\n",
       "</style>\n",
       "<table border=\"1\" class=\"dataframe\">\n",
       "  <thead>\n",
       "    <tr style=\"text-align: right;\">\n",
       "      <th></th>\n",
       "      <th>a</th>\n",
       "      <th>b</th>\n",
       "    </tr>\n",
       "  </thead>\n",
       "  <tbody>\n",
       "    <tr>\n",
       "      <th>0</th>\n",
       "      <td>1</td>\n",
       "      <td>2</td>\n",
       "    </tr>\n",
       "    <tr>\n",
       "      <th>1</th>\n",
       "      <td>1</td>\n",
       "      <td>3</td>\n",
       "    </tr>\n",
       "    <tr>\n",
       "      <th>2</th>\n",
       "      <td>2</td>\n",
       "      <td>4</td>\n",
       "    </tr>\n",
       "  </tbody>\n",
       "</table>\n",
       "</div>"
      ],
      "text/plain": [
       "   a  b\n",
       "0  1  2\n",
       "1  1  3\n",
       "2  2  4"
      ]
     },
     "execution_count": 37,
     "metadata": {},
     "output_type": "execute_result"
    }
   ],
   "source": [
    "df1 = pd.DataFrame({\"a\":[1,1,2],\n",
    "                    \"b\":[2,3,4]\n",
    "                   }\n",
    "                  )\n",
    "df1"
   ]
  },
  {
   "cell_type": "code",
   "execution_count": 38,
   "metadata": {
    "ExecuteTime": {
     "end_time": "2021-10-20T12:07:05.678967Z",
     "start_time": "2021-10-20T12:07:05.670872Z"
    }
   },
   "outputs": [
    {
     "data": {
      "text/html": [
       "<div>\n",
       "<style scoped>\n",
       "    .dataframe tbody tr th:only-of-type {\n",
       "        vertical-align: middle;\n",
       "    }\n",
       "\n",
       "    .dataframe tbody tr th {\n",
       "        vertical-align: top;\n",
       "    }\n",
       "\n",
       "    .dataframe thead th {\n",
       "        text-align: right;\n",
       "    }\n",
       "</style>\n",
       "<table border=\"1\" class=\"dataframe\">\n",
       "  <thead>\n",
       "    <tr style=\"text-align: right;\">\n",
       "      <th></th>\n",
       "      <th>a</th>\n",
       "      <th>b</th>\n",
       "      <th>c</th>\n",
       "    </tr>\n",
       "  </thead>\n",
       "  <tbody>\n",
       "    <tr>\n",
       "      <th>0</th>\n",
       "      <td>1</td>\n",
       "      <td>2</td>\n",
       "      <td>5</td>\n",
       "    </tr>\n",
       "    <tr>\n",
       "      <th>1</th>\n",
       "      <td>1</td>\n",
       "      <td>2</td>\n",
       "      <td>5</td>\n",
       "    </tr>\n",
       "  </tbody>\n",
       "</table>\n",
       "</div>"
      ],
      "text/plain": [
       "   a  b  c\n",
       "0  1  2  5\n",
       "1  1  2  5"
      ]
     },
     "execution_count": 38,
     "metadata": {},
     "output_type": "execute_result"
    }
   ],
   "source": [
    "df2 = pd.DataFrame({\"a\":[1,1],\n",
    "                    \"b\":[2,2],\n",
    "                    \"c\":[5,5]\n",
    "                   }\n",
    "                  )\n",
    "df2"
   ]
  },
  {
   "cell_type": "code",
   "execution_count": 41,
   "metadata": {
    "ExecuteTime": {
     "end_time": "2021-10-20T12:26:12.329503Z",
     "start_time": "2021-10-20T12:26:12.319456Z"
    }
   },
   "outputs": [
    {
     "data": {
      "text/html": [
       "<div>\n",
       "<style scoped>\n",
       "    .dataframe tbody tr th:only-of-type {\n",
       "        vertical-align: middle;\n",
       "    }\n",
       "\n",
       "    .dataframe tbody tr th {\n",
       "        vertical-align: top;\n",
       "    }\n",
       "\n",
       "    .dataframe thead th {\n",
       "        text-align: right;\n",
       "    }\n",
       "</style>\n",
       "<table border=\"1\" class=\"dataframe\">\n",
       "  <thead>\n",
       "    <tr style=\"text-align: right;\">\n",
       "      <th></th>\n",
       "      <th>a</th>\n",
       "      <th>b</th>\n",
       "      <th>c</th>\n",
       "    </tr>\n",
       "  </thead>\n",
       "  <tbody>\n",
       "    <tr>\n",
       "      <th>0</th>\n",
       "      <td>1</td>\n",
       "      <td>2</td>\n",
       "      <td>5.0</td>\n",
       "    </tr>\n",
       "    <tr>\n",
       "      <th>1</th>\n",
       "      <td>1</td>\n",
       "      <td>2</td>\n",
       "      <td>5.0</td>\n",
       "    </tr>\n",
       "    <tr>\n",
       "      <th>2</th>\n",
       "      <td>1</td>\n",
       "      <td>3</td>\n",
       "      <td>NaN</td>\n",
       "    </tr>\n",
       "    <tr>\n",
       "      <th>3</th>\n",
       "      <td>2</td>\n",
       "      <td>4</td>\n",
       "      <td>NaN</td>\n",
       "    </tr>\n",
       "  </tbody>\n",
       "</table>\n",
       "</div>"
      ],
      "text/plain": [
       "   a  b    c\n",
       "0  1  2  5.0\n",
       "1  1  2  5.0\n",
       "2  1  3  NaN\n",
       "3  2  4  NaN"
      ]
     },
     "execution_count": 41,
     "metadata": {},
     "output_type": "execute_result"
    }
   ],
   "source": [
    "df = df1.merge(df2,how=\"left\",on=[\"a\",\"b\"])\n",
    "df"
   ]
  },
  {
   "cell_type": "code",
   "execution_count": 42,
   "metadata": {
    "ExecuteTime": {
     "end_time": "2021-10-20T12:26:14.093032Z",
     "start_time": "2021-10-20T12:26:14.082006Z"
    }
   },
   "outputs": [
    {
     "data": {
      "text/html": [
       "<div>\n",
       "<style scoped>\n",
       "    .dataframe tbody tr th:only-of-type {\n",
       "        vertical-align: middle;\n",
       "    }\n",
       "\n",
       "    .dataframe tbody tr th {\n",
       "        vertical-align: top;\n",
       "    }\n",
       "\n",
       "    .dataframe thead th {\n",
       "        text-align: right;\n",
       "    }\n",
       "</style>\n",
       "<table border=\"1\" class=\"dataframe\">\n",
       "  <thead>\n",
       "    <tr style=\"text-align: right;\">\n",
       "      <th></th>\n",
       "      <th>a</th>\n",
       "      <th>b</th>\n",
       "      <th>c</th>\n",
       "      <th>d</th>\n",
       "    </tr>\n",
       "  </thead>\n",
       "  <tbody>\n",
       "    <tr>\n",
       "      <th>0</th>\n",
       "      <td>1</td>\n",
       "      <td>2</td>\n",
       "      <td>5.0</td>\n",
       "      <td>5.0</td>\n",
       "    </tr>\n",
       "    <tr>\n",
       "      <th>1</th>\n",
       "      <td>1</td>\n",
       "      <td>2</td>\n",
       "      <td>5.0</td>\n",
       "      <td>5.0</td>\n",
       "    </tr>\n",
       "    <tr>\n",
       "      <th>2</th>\n",
       "      <td>1</td>\n",
       "      <td>3</td>\n",
       "      <td>NaN</td>\n",
       "      <td>3.0</td>\n",
       "    </tr>\n",
       "    <tr>\n",
       "      <th>3</th>\n",
       "      <td>2</td>\n",
       "      <td>4</td>\n",
       "      <td>NaN</td>\n",
       "      <td>4.0</td>\n",
       "    </tr>\n",
       "  </tbody>\n",
       "</table>\n",
       "</div>"
      ],
      "text/plain": [
       "   a  b    c    d\n",
       "0  1  2  5.0  5.0\n",
       "1  1  2  5.0  5.0\n",
       "2  1  3  NaN  3.0\n",
       "3  2  4  NaN  4.0"
      ]
     },
     "execution_count": 42,
     "metadata": {},
     "output_type": "execute_result"
    }
   ],
   "source": [
    "df['d'] = list(map(lambda x,y:max(x,y),df['b'].values,df['c'].values))\n",
    "df"
   ]
  },
  {
   "cell_type": "code",
   "execution_count": 44,
   "metadata": {
    "ExecuteTime": {
     "end_time": "2021-10-20T12:26:37.778807Z",
     "start_time": "2021-10-20T12:26:37.773546Z"
    }
   },
   "outputs": [],
   "source": [
    "df.drop_duplicates(inplace=True)"
   ]
  },
  {
   "cell_type": "code",
   "execution_count": 46,
   "metadata": {
    "ExecuteTime": {
     "end_time": "2021-10-20T12:32:29.435675Z",
     "start_time": "2021-10-20T12:32:29.428975Z"
    }
   },
   "outputs": [
    {
     "data": {
      "text/html": [
       "<div>\n",
       "<style scoped>\n",
       "    .dataframe tbody tr th:only-of-type {\n",
       "        vertical-align: middle;\n",
       "    }\n",
       "\n",
       "    .dataframe tbody tr th {\n",
       "        vertical-align: top;\n",
       "    }\n",
       "\n",
       "    .dataframe thead th {\n",
       "        text-align: right;\n",
       "    }\n",
       "</style>\n",
       "<table border=\"1\" class=\"dataframe\">\n",
       "  <thead>\n",
       "    <tr style=\"text-align: right;\">\n",
       "      <th></th>\n",
       "      <th>a</th>\n",
       "      <th>b</th>\n",
       "      <th>c</th>\n",
       "      <th>d</th>\n",
       "    </tr>\n",
       "  </thead>\n",
       "  <tbody>\n",
       "    <tr>\n",
       "      <th>0</th>\n",
       "      <td>1</td>\n",
       "      <td>2</td>\n",
       "      <td>5.0</td>\n",
       "      <td>5.0</td>\n",
       "    </tr>\n",
       "    <tr>\n",
       "      <th>2</th>\n",
       "      <td>1</td>\n",
       "      <td>3</td>\n",
       "      <td>NaN</td>\n",
       "      <td>3.0</td>\n",
       "    </tr>\n",
       "    <tr>\n",
       "      <th>3</th>\n",
       "      <td>2</td>\n",
       "      <td>4</td>\n",
       "      <td>NaN</td>\n",
       "      <td>4.0</td>\n",
       "    </tr>\n",
       "  </tbody>\n",
       "</table>\n",
       "</div>"
      ],
      "text/plain": [
       "   a  b    c    d\n",
       "0  1  2  5.0  5.0\n",
       "2  1  3  NaN  3.0\n",
       "3  2  4  NaN  4.0"
      ]
     },
     "execution_count": 46,
     "metadata": {},
     "output_type": "execute_result"
    }
   ],
   "source": [
    "df"
   ]
  },
  {
   "cell_type": "code",
   "execution_count": 47,
   "metadata": {
    "ExecuteTime": {
     "end_time": "2021-10-20T12:32:43.126190Z",
     "start_time": "2021-10-20T12:32:43.120856Z"
    }
   },
   "outputs": [],
   "source": [
    "df['a'] = df['c'].values"
   ]
  },
  {
   "cell_type": "code",
   "execution_count": 48,
   "metadata": {
    "ExecuteTime": {
     "end_time": "2021-10-20T12:32:48.962810Z",
     "start_time": "2021-10-20T12:32:48.954414Z"
    }
   },
   "outputs": [
    {
     "data": {
      "text/html": [
       "<div>\n",
       "<style scoped>\n",
       "    .dataframe tbody tr th:only-of-type {\n",
       "        vertical-align: middle;\n",
       "    }\n",
       "\n",
       "    .dataframe tbody tr th {\n",
       "        vertical-align: top;\n",
       "    }\n",
       "\n",
       "    .dataframe thead th {\n",
       "        text-align: right;\n",
       "    }\n",
       "</style>\n",
       "<table border=\"1\" class=\"dataframe\">\n",
       "  <thead>\n",
       "    <tr style=\"text-align: right;\">\n",
       "      <th></th>\n",
       "      <th>a</th>\n",
       "      <th>b</th>\n",
       "      <th>c</th>\n",
       "      <th>d</th>\n",
       "    </tr>\n",
       "  </thead>\n",
       "  <tbody>\n",
       "    <tr>\n",
       "      <th>0</th>\n",
       "      <td>5.0</td>\n",
       "      <td>2</td>\n",
       "      <td>5.0</td>\n",
       "      <td>5.0</td>\n",
       "    </tr>\n",
       "    <tr>\n",
       "      <th>2</th>\n",
       "      <td>NaN</td>\n",
       "      <td>3</td>\n",
       "      <td>NaN</td>\n",
       "      <td>3.0</td>\n",
       "    </tr>\n",
       "    <tr>\n",
       "      <th>3</th>\n",
       "      <td>NaN</td>\n",
       "      <td>4</td>\n",
       "      <td>NaN</td>\n",
       "      <td>4.0</td>\n",
       "    </tr>\n",
       "  </tbody>\n",
       "</table>\n",
       "</div>"
      ],
      "text/plain": [
       "     a  b    c    d\n",
       "0  5.0  2  5.0  5.0\n",
       "2  NaN  3  NaN  3.0\n",
       "3  NaN  4  NaN  4.0"
      ]
     },
     "execution_count": 48,
     "metadata": {},
     "output_type": "execute_result"
    }
   ],
   "source": [
    "df"
   ]
  },
  {
   "cell_type": "code",
   "execution_count": 36,
   "metadata": {
    "ExecuteTime": {
     "end_time": "2021-10-20T09:20:04.488677Z",
     "start_time": "2021-10-20T09:20:04.480292Z"
    }
   },
   "outputs": [
    {
     "data": {
      "text/plain": [
       "0    1.0\n",
       "1    1.0\n",
       "2    1.0\n",
       "3    1.0\n",
       "4    NaN\n",
       "dtype: float64"
      ]
     },
     "execution_count": 36,
     "metadata": {},
     "output_type": "execute_result"
    }
   ],
   "source": [
    "df['c'] / df['d']"
   ]
  },
  {
   "cell_type": "code",
   "execution_count": 35,
   "metadata": {
    "ExecuteTime": {
     "end_time": "2021-10-20T09:17:08.950963Z",
     "start_time": "2021-10-20T09:17:08.939997Z"
    }
   },
   "outputs": [
    {
     "data": {
      "text/plain": [
       "0.7115384615384616"
      ]
     },
     "execution_count": 35,
     "metadata": {},
     "output_type": "execute_result"
    }
   ],
   "source": [
    "37.0 / 52.0"
   ]
  },
  {
   "cell_type": "code",
   "execution_count": 40,
   "metadata": {
    "ExecuteTime": {
     "end_time": "2021-10-20T12:24:21.723811Z",
     "start_time": "2021-10-20T12:24:21.719897Z"
    }
   },
   "outputs": [
    {
     "data": {
      "text/plain": [
       "'a:0.000050'"
      ]
     },
     "execution_count": 40,
     "metadata": {},
     "output_type": "execute_result"
    }
   ],
   "source": [
    "\"a:%f\"%(0.00005)"
   ]
  },
  {
   "cell_type": "code",
   "execution_count": 57,
   "metadata": {
    "ExecuteTime": {
     "end_time": "2021-10-28T08:12:41.516420Z",
     "start_time": "2021-10-28T08:12:41.509751Z"
    }
   },
   "outputs": [
    {
     "data": {
      "text/plain": [
       "[[False, False, False, False, False],\n",
       " [False, False, False, False, False],\n",
       " [False, False, False, False, False],\n",
       " [False, False, False, False, False],\n",
       " [False, False, False, False, False]]"
      ]
     },
     "execution_count": 57,
     "metadata": {},
     "output_type": "execute_result"
    }
   ],
   "source": [
    "a = [[False] * 5 for _ in range(5)]\n",
    "a"
   ]
  },
  {
   "cell_type": "code",
   "execution_count": 63,
   "metadata": {
    "ExecuteTime": {
     "end_time": "2021-10-28T09:58:05.270049Z",
     "start_time": "2021-10-28T09:58:05.266065Z"
    }
   },
   "outputs": [
    {
     "data": {
      "text/plain": [
       "'a'"
      ]
     },
     "execution_count": 63,
     "metadata": {},
     "output_type": "execute_result"
    }
   ],
   "source": [
    "\"abbc\"[0:1]"
   ]
  },
  {
   "cell_type": "code",
   "execution_count": 64,
   "metadata": {
    "ExecuteTime": {
     "end_time": "2021-10-28T12:44:40.442188Z",
     "start_time": "2021-10-28T12:44:40.426892Z"
    }
   },
   "outputs": [
    {
     "data": {
      "text/plain": [
       "['a', 'b']"
      ]
     },
     "execution_count": 64,
     "metadata": {},
     "output_type": "execute_result"
    }
   ],
   "source": [
    "list((\"a\",\"b\"))"
   ]
  },
  {
   "cell_type": "code",
   "execution_count": 65,
   "metadata": {
    "ExecuteTime": {
     "end_time": "2021-10-29T08:21:58.102362Z",
     "start_time": "2021-10-29T08:21:58.088413Z"
    }
   },
   "outputs": [
    {
     "data": {
      "text/plain": [
       "{5}"
      ]
     },
     "execution_count": 65,
     "metadata": {},
     "output_type": "execute_result"
    }
   ],
   "source": [
    "s = set()\n",
    "s.add(5)\n",
    "s"
   ]
  },
  {
   "cell_type": "code",
   "execution_count": 68,
   "metadata": {
    "ExecuteTime": {
     "end_time": "2021-10-29T09:26:37.331422Z",
     "start_time": "2021-10-29T09:26:37.326589Z"
    }
   },
   "outputs": [
    {
     "data": {
      "text/plain": [
       "[1, 3, 5]"
      ]
     },
     "execution_count": 68,
     "metadata": {},
     "output_type": "execute_result"
    }
   ],
   "source": [
    "a = [5,1,3]\n",
    "a= sorted(a)\n",
    "a"
   ]
  },
  {
   "cell_type": "code",
   "execution_count": null,
   "metadata": {
    "ExecuteTime": {
     "start_time": "2021-10-29T09:31:41.197Z"
    }
   },
   "outputs": [],
   "source": [
    "set([5,5,6,1])"
   ]
  },
  {
   "cell_type": "code",
   "execution_count": null,
   "metadata": {},
   "outputs": [],
   "source": []
  }
 ],
 "metadata": {
  "kernelspec": {
   "display_name": "Python 3",
   "language": "python",
   "name": "python3"
  },
  "language_info": {
   "codemirror_mode": {
    "name": "ipython",
    "version": 3
   },
   "file_extension": ".py",
   "mimetype": "text/x-python",
   "name": "python",
   "nbconvert_exporter": "python",
   "pygments_lexer": "ipython3",
   "version": "3.7.4"
  },
  "toc": {
   "base_numbering": 1,
   "nav_menu": {},
   "number_sections": true,
   "sideBar": true,
   "skip_h1_title": false,
   "title_cell": "Table of Contents",
   "title_sidebar": "Contents",
   "toc_cell": false,
   "toc_position": {},
   "toc_section_display": true,
   "toc_window_display": false
  },
  "varInspector": {
   "cols": {
    "lenName": 16,
    "lenType": 16,
    "lenVar": 40
   },
   "kernels_config": {
    "python": {
     "delete_cmd_postfix": "",
     "delete_cmd_prefix": "del ",
     "library": "var_list.py",
     "varRefreshCmd": "print(var_dic_list())"
    },
    "r": {
     "delete_cmd_postfix": ") ",
     "delete_cmd_prefix": "rm(",
     "library": "var_list.r",
     "varRefreshCmd": "cat(var_dic_list()) "
    }
   },
   "types_to_exclude": [
    "module",
    "function",
    "builtin_function_or_method",
    "instance",
    "_Feature"
   ],
   "window_display": false
  }
 },
 "nbformat": 4,
 "nbformat_minor": 4
}
