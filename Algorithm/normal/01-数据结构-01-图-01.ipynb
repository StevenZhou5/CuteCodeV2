{
 "cells": [
  {
   "cell_type": "markdown",
   "metadata": {},
   "source": [
    "# 简单"
   ]
  },
  {
   "cell_type": "code",
   "execution_count": 7,
   "metadata": {},
   "outputs": [
    {
     "name": "stdout",
     "output_type": "stream",
     "text": [
      "a\n",
      "查找次数为:2\n",
      "c\n",
      "查找次数为:2\n",
      "f\n",
      "查找次数为:2\n",
      "f\n",
      "查找次数为:1\n",
      "j\n",
      "c\n",
      "c\n",
      "查找次数为:2\n",
      "m\n",
      "查找次数为:2\n",
      "m\n",
      "查找次数为:2\n",
      "m\n"
     ]
    }
   ],
   "source": [
    "# 寻找比目标字母大的最小字母:字母是可以直接比大小的\n",
    "# letter_list = ['a','b','c','d','e','f','g','h','i','j','k','l','m','n','o','p','q','r','s','t','u','v','w','x','y','z']\n",
    "# letter_dict = dict(zip(letter_list,range(len(letter_list))))\n",
    "def get_min(letters,target):\n",
    "    # 二分查找\n",
    "    # 如果全部都比目标小则直接返回第一个字母\n",
    "    if  letters[-1] <= target:\n",
    "        return letters[0]\n",
    "    # 否则一定能找到比目标大的，此时我们只需要先找到所有大于等于目标的值\n",
    "    \n",
    "    start = 0\n",
    "    end = len(letters) - 1\n",
    "    \n",
    "    foud_count = 0\n",
    "    while start < end:\n",
    "        foud_count = foud_count +1\n",
    "        middle_idx = start + (end - start) // 2\n",
    "        if letters[middle_idx] <= target:\n",
    "            start = middle_idx +1 # 一定要让start的值大于等于target\n",
    "        else:\n",
    "            end = middle_idx\n",
    "    print(\"查找次数为:%s\"%(foud_count))\n",
    "    if letters[start] == target:\n",
    "        return letters[start +1]\n",
    "    else:\n",
    "        return letters[start]\n",
    "\n",
    "print(get_min(['a','b'],'z'))\n",
    "# print(get_min(['b','d'],'c'))\n",
    "# print(get_min(['b','d'],'b'))\n",
    "# print(get_min(['b','d'],'d'))\n",
    "\n",
    "print(get_min(['c','f','j'],'a'))\n",
    "print(get_min(['c','f','j'],'c'))\n",
    "print(get_min(['c','f','j'],'d'))\n",
    "print(get_min(['c','f','j'],'g'))\n",
    "print(get_min(['c','f','j'],'j'))\n",
    "print(get_min(['c','f','j'],'k'))\n",
    "print(get_min(['c','f','j','k','m'],'k'))\n",
    "print(get_min(['c','f','j','k','k','m'],'k'))\n",
    "print(get_min(['c','f','j','k','k','k','m'],'k'))"
   ]
  },
  {
   "cell_type": "code",
   "execution_count": null,
   "metadata": {},
   "outputs": [],
   "source": []
  }
 ],
 "metadata": {
  "kernelspec": {
   "display_name": "Python 3",
   "language": "python",
   "name": "python3"
  },
  "language_info": {
   "codemirror_mode": {
    "name": "ipython",
    "version": 3
   },
   "file_extension": ".py",
   "mimetype": "text/x-python",
   "name": "python",
   "nbconvert_exporter": "python",
   "pygments_lexer": "ipython3",
   "version": "3.7.4"
  }
 },
 "nbformat": 4,
 "nbformat_minor": 4
}
