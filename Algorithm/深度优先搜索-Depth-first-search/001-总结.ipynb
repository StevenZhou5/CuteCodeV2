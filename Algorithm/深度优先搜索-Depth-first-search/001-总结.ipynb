{
 "cells": [
  {
   "cell_type": "code",
   "execution_count": 1,
   "metadata": {
    "ExecuteTime": {
     "end_time": "2022-08-16T09:58:13.716882Z",
     "start_time": "2022-08-16T09:58:13.714428Z"
    }
   },
   "outputs": [],
   "source": [
    "#1、深堆栈，深度优先搜索通常会使用栈的数据结构来实现；\n",
    "#2、深度优先搜索可以使用递归来实现, 而且多数情况下用递归实现代码会更加简洁；\n",
    "#3、在使用递归实现DFS时，当前层级level字段最好采用参数传递的方式实现；"
   ]
  },
  {
   "cell_type": "code",
   "execution_count": 2,
   "metadata": {
    "ExecuteTime": {
     "end_time": "2022-08-16T09:39:38.884438Z",
     "start_time": "2022-08-16T09:39:38.878732Z"
    }
   },
   "outputs": [],
   "source": [
    "visted = set()\n",
    "def DFS_RECURSION(node,visted): # 使用递归的方式实现\n",
    "    visted.add(node)\n",
    "    \n",
    "    for node_child in node.childs:\n",
    "        if node_child not in visted:\n",
    "            DFS_RECURSION(node_child, visted)\n",
    "\n",
    "def DFS_STACK(node):\n",
    "    stack = [node]\n",
    "    visted = set()\n",
    "    \n",
    "    while stack:\n",
    "        cur_node = stack.pop() # 后进先出\n",
    "        visted.add(cur_node)\n",
    "        \n",
    "        for node_child in node.childs:\n",
    "            if node_child not in visted:\n",
    "                stack.append(node_child)\n",
    "    "
   ]
  },
  {
   "cell_type": "code",
   "execution_count": null,
   "metadata": {},
   "outputs": [],
   "source": []
  }
 ],
 "metadata": {
  "kernelspec": {
   "display_name": "Python 3",
   "language": "python",
   "name": "python3"
  },
  "language_info": {
   "codemirror_mode": {
    "name": "ipython",
    "version": 3
   },
   "file_extension": ".py",
   "mimetype": "text/x-python",
   "name": "python",
   "nbconvert_exporter": "python",
   "pygments_lexer": "ipython3",
   "version": "3.7.4"
  },
  "toc": {
   "base_numbering": 1,
   "nav_menu": {},
   "number_sections": true,
   "sideBar": true,
   "skip_h1_title": false,
   "title_cell": "Table of Contents",
   "title_sidebar": "Contents",
   "toc_cell": false,
   "toc_position": {},
   "toc_section_display": true,
   "toc_window_display": false
  },
  "varInspector": {
   "cols": {
    "lenName": 16,
    "lenType": 16,
    "lenVar": 40
   },
   "kernels_config": {
    "python": {
     "delete_cmd_postfix": "",
     "delete_cmd_prefix": "del ",
     "library": "var_list.py",
     "varRefreshCmd": "print(var_dic_list())"
    },
    "r": {
     "delete_cmd_postfix": ") ",
     "delete_cmd_prefix": "rm(",
     "library": "var_list.r",
     "varRefreshCmd": "cat(var_dic_list()) "
    }
   },
   "types_to_exclude": [
    "module",
    "function",
    "builtin_function_or_method",
    "instance",
    "_Feature"
   ],
   "window_display": false
  }
 },
 "nbformat": 4,
 "nbformat_minor": 2
}
