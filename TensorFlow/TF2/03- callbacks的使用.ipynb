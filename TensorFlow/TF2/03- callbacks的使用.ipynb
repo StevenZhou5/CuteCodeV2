{
 "cells": [
  {
   "cell_type": "code",
   "execution_count": 4,
   "metadata": {},
   "outputs": [
    {
     "name": "stdout",
     "output_type": "stream",
     "text": [
      "2.0.0\n",
      "sys.version_info(major=3, minor=6, micro=9, releaselevel='final', serial=0)\n",
      "matplotlib 3.1.2\n",
      "numpy 1.17.4\n",
      "pandas 0.25.3\n",
      "sklearn 0.22\n",
      "tensorflow 2.0.0\n",
      "tensorflow_core.keras 2.2.4-tf\n"
     ]
    },
    {
     "data": {
      "text/plain": [
       "False"
      ]
     },
     "execution_count": 4,
     "metadata": {},
     "output_type": "execute_result"
    }
   ],
   "source": [
    "import matplotlib as mpl\n",
    "import matplotlib.pyplot as plt\n",
    "%matplotlib inline\n",
    "import numpy as np\n",
    "import sklearn\n",
    "import pandas as pd\n",
    "import os\n",
    "import sys\n",
    "import time\n",
    "import tensorflow as tf\n",
    "\n",
    "from tensorflow import keras\n",
    "\n",
    "print(tf.__version__)\n",
    "print(sys.version_info)\n",
    "for module in mpl,np,pd,sklearn,tf,keras:\n",
    "    print(module.__name__,module.__version__)\n",
    "\n",
    "tf.test.is_gpu_available()"
   ]
  },
  {
   "cell_type": "code",
   "execution_count": 5,
   "metadata": {},
   "outputs": [
    {
     "name": "stdout",
     "output_type": "stream",
     "text": [
      "(5000, 28, 28) (5000,)\n",
      "(55000, 28, 28) (55000,)\n",
      "(10000, 28, 28) (10000,)\n"
     ]
    }
   ],
   "source": [
    "fashion_mnist = keras.datasets.fashion_mnist # 这个会去“.keras的目录下去找数据”\n",
    "(x_train_all,y_train_all),(x_test,y_test) = fashion_mnist.load_data()\n",
    "x_valid,x_train = x_train_all[:5000],x_train_all[5000:] # 前5000当验证集，后面55000当训练集\n",
    "y_valid,y_train = y_train_all[:5000],y_train_all[5000:]\n",
    "\n",
    "print(x_valid.shape,y_valid.shape)\n",
    "print(x_train.shape,y_train.shape)\n",
    "print(x_test.shape,y_test.shape)"
   ]
  },
  {
   "cell_type": "code",
   "execution_count": 6,
   "metadata": {},
   "outputs": [
    {
     "name": "stdout",
     "output_type": "stream",
     "text": [
      "255 0\n",
      "255 0\n",
      "255 0\n"
     ]
    }
   ],
   "source": [
    "print(np.max(x_train),np.min(x_train)) # 打印出归一化前的最大值和最小值\n",
    "print(np.max(x_valid),np.min(x_valid))\n",
    "print(np.max(x_test),np.min(x_test))"
   ]
  },
  {
   "cell_type": "code",
   "execution_count": 7,
   "metadata": {},
   "outputs": [],
   "source": [
    "# 对数据进行归一化处理 ： x = (x-u) / std\n",
    "from sklearn.preprocessing import StandardScaler\n",
    "\n",
    "scaler = StandardScaler() # 使用scaler来做数据归一化\n",
    "# 归一化的使用先把x_train:[None,28,28] -> [None,784];然后归一化之后再把shape变回[None,28,28]\n",
    "x_train_scaled = scaler.fit_transform(\n",
    "    x_train.astype(np.float32).reshape(-1,1)).reshape(-1,28,28) \n",
    "x_valid_scaled = scaler.fit_transform(\n",
    "    x_valid.astype(np.float32).reshape(-1,1)).reshape(-1,28,28)\n",
    "x_test_scaled = scaler.fit_transform(\n",
    "    x_test.astype(np.float32).reshape(-1,1)).reshape(-1,28,28)"
   ]
  },
  {
   "cell_type": "code",
   "execution_count": 8,
   "metadata": {},
   "outputs": [
    {
     "name": "stdout",
     "output_type": "stream",
     "text": [
      "2.0231433 -0.8105136\n",
      "2.0143816 -0.80746\n",
      "2.0234432 -0.81388575\n"
     ]
    }
   ],
   "source": [
    "print(np.max(x_train_scaled),np.min(x_train_scaled))\n",
    "print(np.max(x_valid_scaled),np.min(x_valid_scaled))\n",
    "print(np.max(x_test_scaled),np.min(x_test_scaled))"
   ]
  },
  {
   "cell_type": "code",
   "execution_count": 9,
   "metadata": {},
   "outputs": [],
   "source": [
    "# model 的另外一种写法\n",
    "model = keras.models.Sequential([\n",
    "    keras.layers.Flatten(input_shape=[28,28]),\n",
    "    keras.layers.Dense(300,activation=\"relu\"),\n",
    "    keras.layers.Dense(100,activation=\"relu\"),\n",
    "    keras.layers.Dense(10,activation=\"softmax\")\n",
    "])\n",
    "\n",
    "optimizer = keras.optimizers.Adam()\n",
    "# 如果y是是一个one-hot向量，那么使用“categorical_crossentropy”，如果y是一个数，那么使用\"sparse_categorical_crossentropy\"\n",
    "model.compile(loss=\"sparse_categorical_crossentropy\", \n",
    "              optimizer = optimizer,\n",
    "              metrics = [\"accuracy\"])"
   ]
  },
  {
   "cell_type": "code",
   "execution_count": 12,
   "metadata": {},
   "outputs": [
    {
     "name": "stdout",
     "output_type": "stream",
     "text": [
      "Train on 55000 samples, validate on 5000 samples\n",
      "Epoch 1/10\n",
      "55000/55000 [==============================] - 3s 48us/sample - loss: 0.1997 - accuracy: 0.9246 - val_loss: 0.3438 - val_accuracy: 0.8902\n",
      "Epoch 2/10\n",
      "55000/55000 [==============================] - 3s 47us/sample - loss: 0.1919 - accuracy: 0.9253 - val_loss: 0.3653 - val_accuracy: 0.8902\n",
      "Epoch 3/10\n",
      "55000/55000 [==============================] - 3s 48us/sample - loss: 0.1828 - accuracy: 0.9299 - val_loss: 0.3597 - val_accuracy: 0.8938\n",
      "Epoch 4/10\n",
      "55000/55000 [==============================] - 3s 48us/sample - loss: 0.1755 - accuracy: 0.9339 - val_loss: 0.3416 - val_accuracy: 0.8956\n",
      "Epoch 5/10\n",
      "55000/55000 [==============================] - 3s 48us/sample - loss: 0.1683 - accuracy: 0.9355 - val_loss: 0.3942 - val_accuracy: 0.8932\n",
      "Epoch 6/10\n",
      "55000/55000 [==============================] - 3s 48us/sample - loss: 0.1622 - accuracy: 0.9381 - val_loss: 0.3809 - val_accuracy: 0.8922\n",
      "Epoch 7/10\n",
      "55000/55000 [==============================] - 3s 53us/sample - loss: 0.1564 - accuracy: 0.9405 - val_loss: 0.4126 - val_accuracy: 0.8892\n",
      "Epoch 8/10\n",
      "55000/55000 [==============================] - 3s 54us/sample - loss: 0.1532 - accuracy: 0.9427 - val_loss: 0.4029 - val_accuracy: 0.8936\n",
      "Epoch 9/10\n",
      "55000/55000 [==============================] - 3s 55us/sample - loss: 0.1480 - accuracy: 0.9428 - val_loss: 0.4205 - val_accuracy: 0.8936\n"
     ]
    }
   ],
   "source": [
    "# 定义callbacks : Tensorboard, earlystopping, ModelCheckpoint\n",
    "logdir = './callbacks'\n",
    "if not os.path.exists(logdir):\n",
    "    os.mkdir(logdir)\n",
    "output_model_file = os.path.join(logdir, \n",
    "                                 'fashion_mnist_model.h5')\n",
    "callbacks = [\n",
    "    keras.callbacks.TensorBoard(logdir),\n",
    "    # save_best_only= True 保存最好的模型\n",
    "    keras.callbacks.ModelCheckpoint(output_model_file,\n",
    "                                   save_best_only= True),\n",
    "    # earlystopping：monitor:关注的指标；默认是'val_loss'\n",
    "    # min_delta:关注的指标变化小于这个阈值时可能需要earlystopping\n",
    "    # patience: 一个数字，代表当发生多少次变化小于min_delta是我们要earlystopping\n",
    "    keras.callbacks.EarlyStopping(min_delta=1e-3,patience=5)\n",
    "]\n",
    "\n",
    "# 开始训练:使用归一化的数据\n",
    "history = model.fit(x_train_scaled,y_train,epochs=10,\n",
    "          validation_data=(x_valid_scaled,y_valid),\n",
    "          callbacks=callbacks)"
   ]
  },
  {
   "cell_type": "code",
   "execution_count": 13,
   "metadata": {},
   "outputs": [
    {
     "data": {
      "image/png": "[encoded data removed]",
      "text/plain": [
       "<Figure size 576x360 with 1 Axes>"
      ]
     },
     "metadata": {
      "needs_background": "light"
     },
     "output_type": "display_data"
    }
   ],
   "source": [
    "# 把值的变化过程打印出来\n",
    "def plot_learning_curves(history):\n",
    "    pd.DataFrame(history.history).plot(figsize=(8,5))\n",
    "    plt.grid(True)\n",
    "    plt.gca().set_ylim(0,1)\n",
    "    plt.show()\n",
    "\n",
    "plot_learning_curves(history)"
   ]
  }
 ],
 "metadata": {
  "kernelspec": {
   "display_name": "Python 3",
   "language": "python",
   "name": "python3"
  },
  "language_info": {
   "codemirror_mode": {
    "name": "ipython",
    "version": 3
   },
   "file_extension": ".py",
   "mimetype": "text/x-python",
   "name": "python",
   "nbconvert_exporter": "python",
   "pygments_lexer": "ipython3",
   "version": "3.6.9"
  }
 },
 "nbformat": 4,
 "nbformat_minor": 2
}
