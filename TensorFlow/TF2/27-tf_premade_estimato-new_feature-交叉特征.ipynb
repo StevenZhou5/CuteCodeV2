{
 "cells": [
  {
   "cell_type": "code",
   "execution_count": 4,
   "metadata": {},
   "outputs": [
    {
     "name": "stdout",
     "output_type": "stream",
     "text": [
      "2.0.0-dev20191002\n",
      "sys.version_info(major=3, minor=7, micro=4, releaselevel='final', serial=0)\n",
      "matplotlib 3.1.1\n",
      "numpy 1.17.2\n",
      "pandas 0.25.1\n",
      "sklearn 0.21.3\n",
      "tensorflow 2.0.0-dev20191002\n",
      "tensorflow_core.keras 2.2.4-tf\n"
     ]
    },
    {
     "data": {
      "text/plain": [
       "False"
      ]
     },
     "execution_count": 4,
     "metadata": {},
     "output_type": "execute_result"
    }
   ],
   "source": [
    "import matplotlib as mpl\n",
    "import matplotlib.pyplot as plt\n",
    "%matplotlib inline\n",
    "import numpy as np\n",
    "import sklearn\n",
    "import pandas as pd\n",
    "import os\n",
    "import sys\n",
    "import time\n",
    "import tensorflow as tf\n",
    "\n",
    "from tensorflow import keras\n",
    "\n",
    "print(tf.__version__)\n",
    "print(sys.version_info)\n",
    "for module in mpl,np,pd,sklearn,tf,keras:\n",
    "    print(module.__name__,module.__version__)\n",
    "\n",
    "tf.test.is_gpu_available()"
   ]
  },
  {
   "cell_type": "code",
   "execution_count": 5,
   "metadata": {},
   "outputs": [
    {
     "name": "stdout",
     "output_type": "stream",
     "text": [
      "   survived     sex   age  n_siblings_spouses  parch     fare  class     deck  \\\n",
      "0         0    male  22.0                   1      0   7.2500  Third  unknown   \n",
      "1         1  female  38.0                   1      0  71.2833  First        C   \n",
      "2         1  female  26.0                   0      0   7.9250  Third  unknown   \n",
      "3         1  female  35.0                   1      0  53.1000  First        C   \n",
      "4         0    male  28.0                   0      0   8.4583  Third  unknown   \n",
      "\n",
      "   embark_town alone  \n",
      "0  Southampton     n  \n",
      "1    Cherbourg     n  \n",
      "2  Southampton     y  \n",
      "3  Southampton     n  \n",
      "4   Queenstown     y  \n",
      "================================================================================\n",
      "   survived     sex   age  n_siblings_spouses  parch     fare   class  \\\n",
      "0         0    male  35.0                   0      0   8.0500   Third   \n",
      "1         0    male  54.0                   0      0  51.8625   First   \n",
      "2         1  female  58.0                   0      0  26.5500   First   \n",
      "3         1  female  55.0                   0      0  16.0000  Second   \n",
      "4         1    male  34.0                   0      0  13.0000  Second   \n",
      "\n",
      "      deck  embark_town alone  \n",
      "0  unknown  Southampton     y  \n",
      "1        E  Southampton     y  \n",
      "2        C  Southampton     y  \n",
      "3  unknown  Southampton     y  \n",
      "4        D  Southampton     y  \n"
     ]
    }
   ],
   "source": [
    "# 使用pandas读取csv文件\n",
    "train_file = \"./data/titanic/train.csv\"\n",
    "eval_file = \"./data/titanic/eval.csv\"\n",
    "\n",
    "train_df = pd.read_csv(train_file)\n",
    "eval_df = pd.read_csv(eval_file)\n",
    "\n",
    "print(train_df.head())\n",
    "print(\"=\"*80)\n",
    "print(eval_df.head())"
   ]
  },
  {
   "cell_type": "code",
   "execution_count": 6,
   "metadata": {},
   "outputs": [
    {
     "name": "stdout",
     "output_type": "stream",
     "text": [
      "      sex   age  n_siblings_spouses  parch     fare  class     deck  \\\n",
      "0    male  22.0                   1      0   7.2500  Third  unknown   \n",
      "1  female  38.0                   1      0  71.2833  First        C   \n",
      "2  female  26.0                   0      0   7.9250  Third  unknown   \n",
      "3  female  35.0                   1      0  53.1000  First        C   \n",
      "4    male  28.0                   0      0   8.4583  Third  unknown   \n",
      "\n",
      "   embark_town alone  \n",
      "0  Southampton     n  \n",
      "1    Cherbourg     n  \n",
      "2  Southampton     y  \n",
      "3  Southampton     n  \n",
      "4   Queenstown     y  \n",
      "================================================================================\n",
      "      sex   age  n_siblings_spouses  parch     fare   class     deck  \\\n",
      "0    male  35.0                   0      0   8.0500   Third  unknown   \n",
      "1    male  54.0                   0      0  51.8625   First        E   \n",
      "2  female  58.0                   0      0  26.5500   First        C   \n",
      "3  female  55.0                   0      0  16.0000  Second  unknown   \n",
      "4    male  34.0                   0      0  13.0000  Second        D   \n",
      "\n",
      "   embark_town alone  \n",
      "0  Southampton     y  \n",
      "1  Southampton     y  \n",
      "2  Southampton     y  \n",
      "3  Southampton     y  \n",
      "4  Southampton     y  \n",
      "================================================================================\n",
      "0    0\n",
      "1    1\n",
      "2    1\n",
      "3    1\n",
      "4    0\n",
      "Name: survived, dtype: int64\n",
      "================================================================================\n",
      "0    0\n",
      "1    0\n",
      "2    1\n",
      "3    1\n",
      "4    1\n",
      "Name: survived, dtype: int64\n"
     ]
    }
   ],
   "source": [
    "y_train = train_df.pop(\"survived\")\n",
    "y_eval = eval_df.pop(\"survived\")\n",
    "\n",
    "print(train_df.head())\n",
    "print(\"=\"*80)\n",
    "print(eval_df.head())\n",
    "print(\"=\"*80)\n",
    "print(y_train.head())\n",
    "print(\"=\"*80)\n",
    "print(y_eval.head())"
   ]
  },
  {
   "cell_type": "code",
   "execution_count": 7,
   "metadata": {},
   "outputs": [
    {
     "name": "stdout",
     "output_type": "stream",
     "text": [
      "sex ['male' 'female']\n",
      "n_siblings_spouses [1 0 3 4 2 5 8]\n",
      "parch [0 1 2 5 3 4]\n",
      "class ['Third' 'First' 'Second']\n",
      "deck ['unknown' 'C' 'G' 'A' 'B' 'D' 'F' 'E']\n",
      "embark_town ['Southampton' 'Cherbourg' 'Queenstown' 'unknown']\n",
      "alone ['n' 'y']\n"
     ]
    }
   ],
   "source": [
    "# 离散特征:性别，兄弟姐妹和配偶个数，parch父母或孩子是否在船上，'class':仓位上/中/下等仓，\n",
    "# 'deck':货仓还是在夹板上；’embark_town‘:出发的港口，'alone':是否是一个人\n",
    "categorical_columns = ['sex','n_siblings_spouses','parch','class','deck',\n",
    "                       'embark_town','alone']\n",
    "\n",
    "# 连续特征：‘age’，‘fare’:票价\n",
    "numeric_columns = ['age','fare']\n",
    "\n",
    "feature_columns = []\n",
    "# 处理离散特征\n",
    "for categorical_column in categorical_columns:\n",
    "    # 构建词表\n",
    "    vocab = train_df[categorical_column].unique()\n",
    "    print(categorical_column,vocab) # 打印出对应的离散值词表\n",
    "    # 使用tf.feature_column.categorical_column_with_vocabulary_list构建feature_column\n",
    "    feature_column = tf.feature_column.categorical_column_with_vocabulary_list(\n",
    "                        categorical_column,vocab)\n",
    "    # tf.feature_column.indicator_column构建one_hot的feature_column\n",
    "    one_hot_feature_column = tf.feature_column.indicator_column(feature_column)\n",
    "    \n",
    "    # 最后将构建好的feature_column添加到feature_columns列表中\n",
    "    feature_columns.append(one_hot_feature_column)\n",
    "    \n",
    "# 处理连续特征\n",
    "for numeric_column in numeric_columns:\n",
    "    # 构建连续值的feature_column:只需要特征的key值和数据类型\n",
    "    feature_column = tf.feature_column.numeric_column(numeric_column,\n",
    "                                                      dtype=tf.float32)\n",
    "    feature_columns.append(feature_column)\n",
    "\n",
    "#cross feature 交叉特征：\n",
    "# age:[1,2,3,4,5],gender:[male,female]\n",
    "# age_x_gender:[(1,male),(2,male),(3,male),(4,male),(5,male),(1,female),(2,female),(3,female),(4,female),(5,female)]\n",
    "# hash_bucket_size的作用是将过于稀疏的one-hot特征进行hash取模以减少稀疏特征的维度：1000000：100 -> hash(100000 values) % 100\n",
    "# 假设'age'是从0-100的连续值，如果不hash，可能有100000个不一样的年龄，\n",
    "# 现在模100之后，就变成每一岁是一个桶，[0，0.5）都是0岁，[0.5,1.5)都是一岁...\n",
    "# 这样既缩减了离散特征维度，也不会影响训练效果\n",
    "crossed_column = tf.feature_column.crossed_column(['age','sex'],\n",
    "                                 hash_bucket_size = 100)\n",
    "crossed_column = tf.feature_column.indicator_column(crossed_column)\n",
    "feature_columns.append(crossed_column)"
   ]
  },
  {
   "cell_type": "code",
   "execution_count": null,
   "metadata": {},
   "outputs": [],
   "source": [
    "# 定义构建dataset的方法\n",
    "def make_dataset(data_df, label_df, epochs = 10,shuffle = True,batch_size = 32):\n",
    "    dataset = tf.data.Dataset.from_tensor_slices((dict(data_df),label_df))\n",
    "    if shuffle:\n",
    "        dataset = dataset.shuffle(10000)\n",
    "    dataset = dataset.repeat(epochs).batch(batch_size)\n",
    "    return dataset"
   ]
  },
  {
   "cell_type": "code",
   "execution_count": null,
   "metadata": {},
   "outputs": [],
   "source": [
    "# 定义存放模型的文件夹\n",
    "output_dir = \"baseline_model\" \n",
    "if not os.path.exists(output_dir):\n",
    "    os.mkdir(output_dir)\n",
    "\n",
    "# 定义baseline_estimator\n",
    "baseline_estimator = tf.estimator.BaselineClassifier(\n",
    "    model_dir = output_dir,\n",
    "    n_classes=2) # 2 分类\n",
    "\n",
    "# 使用baseline_estimator进行训练\n",
    "baseline_estimator.train(input_fn = lambda : make_dataset(train_df,y_train,epochs=100))"
   ]
  },
  {
   "cell_type": "code",
   "execution_count": null,
   "metadata": {},
   "outputs": [],
   "source": [
    "baseline_estimator.evaluate(input_fn=lambda :make_dataset(eval_df,y_eval,\n",
    "                                                          epochs = 1,\n",
    "                                                          shuffle = False,\n",
    "                                                          batch_size = 20))"
   ]
  },
  {
   "cell_type": "code",
   "execution_count": null,
   "metadata": {},
   "outputs": [],
   "source": []
  }
 ],
 "metadata": {
  "kernelspec": {
   "display_name": "Python 3",
   "language": "python",
   "name": "python3"
  },
  "language_info": {
   "codemirror_mode": {
    "name": "ipython",
    "version": 3
   },
   "file_extension": ".py",
   "mimetype": "text/x-python",
   "name": "python",
   "nbconvert_exporter": "python",
   "pygments_lexer": "ipython3",
   "version": "3.7.4"
  }
 },
 "nbformat": 4,
 "nbformat_minor": 2
}
