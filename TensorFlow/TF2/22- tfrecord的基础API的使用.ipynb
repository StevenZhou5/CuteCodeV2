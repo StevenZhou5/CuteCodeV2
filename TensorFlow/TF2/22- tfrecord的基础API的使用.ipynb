{
 "cells": [
  {
   "cell_type": "code",
   "execution_count": 1,
   "metadata": {},
   "outputs": [
    {
     "name": "stdout",
     "output_type": "stream",
     "text": [
      "2.0.0\n",
      "sys.version_info(major=3, minor=6, micro=9, releaselevel='final', serial=0)\n",
      "matplotlib 3.1.2\n",
      "numpy 1.17.4\n",
      "pandas 0.25.3\n",
      "sklearn 0.22\n",
      "tensorflow 2.0.0\n",
      "tensorflow_core.keras 2.2.4-tf\n"
     ]
    },
    {
     "data": {
      "text/plain": [
       "False"
      ]
     },
     "execution_count": 1,
     "metadata": {},
     "output_type": "execute_result"
    }
   ],
   "source": [
    "import matplotlib as mpl\n",
    "import matplotlib.pyplot as plt\n",
    "%matplotlib inline\n",
    "import numpy as np\n",
    "import sklearn\n",
    "import pandas as pd\n",
    "import os\n",
    "import sys\n",
    "import time\n",
    "import tensorflow as tf\n",
    "\n",
    "from tensorflow import keras\n",
    "\n",
    "print(tf.__version__)\n",
    "print(sys.version_info)\n",
    "for module in mpl,np,pd,sklearn,tf,keras:\n",
    "    print(module.__name__,module.__version__)\n",
    "\n",
    "tf.test.is_gpu_available()"
   ]
  },
  {
   "cell_type": "markdown",
   "metadata": {},
   "source": [
    "# 构建tfrecord数据"
   ]
  },
  {
   "cell_type": "code",
   "execution_count": 9,
   "metadata": {},
   "outputs": [
    {
     "name": "stdout",
     "output_type": "stream",
     "text": [
      "value: \"machine learning\"\n",
      "value: \"cc150\"\n",
      "\n",
      "value: 12.050000190734863\n",
      "value: 23.079999923706055\n",
      "value: 9.069999694824219\n",
      "value: 6.340000152587891\n",
      "\n",
      "value: 12\n",
      "value: 35\n",
      "value: 8\n",
      "value: 64\n",
      "value: 28\n",
      "\n",
      "feature {\n",
      "  key: \"age\"\n",
      "  value {\n",
      "    int64_list {\n",
      "      value: 12\n",
      "      value: 35\n",
      "      value: 8\n",
      "      value: 64\n",
      "      value: 28\n",
      "    }\n",
      "  }\n",
      "}\n",
      "feature {\n",
      "  key: \"favorite_books\"\n",
      "  value {\n",
      "    bytes_list {\n",
      "      value: \"machine learning\"\n",
      "      value: \"cc150\"\n",
      "    }\n",
      "  }\n",
      "}\n",
      "feature {\n",
      "  key: \"hours\"\n",
      "  value {\n",
      "    float_list {\n",
      "      value: 12.050000190734863\n",
      "      value: 23.079999923706055\n",
      "      value: 9.069999694824219\n",
      "      value: 6.340000152587891\n",
      "    }\n",
      "  }\n",
      "}\n",
      "\n"
     ]
    }
   ],
   "source": [
    "# tfrecord 文件格式\n",
    "# -> tf.train.Example\n",
    "#  -> tf.train.Features -> {\"key\": tf.train.Feature}\n",
    "#    -> tf.train.Feature -> tf.train.ByteList/FloatList/Int64List\n",
    "\n",
    "# ByteList\n",
    "favorite_books = [name.encode('utf-8') for name in ['machine learning','cc150']]\n",
    "# print(favorite_books)\n",
    "favorite_books_bytelist = tf.train.BytesList(value = favorite_books)\n",
    "print(favorite_books_bytelist)\n",
    "\n",
    "# FloatList\n",
    "hours_floatlist = tf.train.FloatList(value = [12.05,23.08,9.07,6.34])\n",
    "print(hours_floatlist)\n",
    "\n",
    "# Int64List\n",
    "age_int64list = tf.train.Int64List(value = [12,35,8,64,28])\n",
    "print(age_int64list)\n",
    "\n",
    "# 构建tf.train.Features\n",
    "features = tf.train.Features(\n",
    "    feature = {\n",
    "        \"favorite_books\": tf.train.Feature(\n",
    "            bytes_list = favorite_books_bytelist),\n",
    "        \"hours\": tf.train.Feature(\n",
    "            float_list = hours_floatlist),\n",
    "        \"age\": tf.train.Feature(\n",
    "            int64_list = age_int64list)\n",
    "    }\n",
    ")\n",
    "print(features)"
   ]
  },
  {
   "cell_type": "code",
   "execution_count": 10,
   "metadata": {},
   "outputs": [
    {
     "name": "stdout",
     "output_type": "stream",
     "text": [
      "features {\n",
      "  feature {\n",
      "    key: \"age\"\n",
      "    value {\n",
      "      int64_list {\n",
      "        value: 12\n",
      "        value: 35\n",
      "        value: 8\n",
      "        value: 64\n",
      "        value: 28\n",
      "      }\n",
      "    }\n",
      "  }\n",
      "  feature {\n",
      "    key: \"favorite_books\"\n",
      "    value {\n",
      "      bytes_list {\n",
      "        value: \"machine learning\"\n",
      "        value: \"cc150\"\n",
      "      }\n",
      "    }\n",
      "  }\n",
      "  feature {\n",
      "    key: \"hours\"\n",
      "    value {\n",
      "      float_list {\n",
      "        value: 12.050000190734863\n",
      "        value: 23.079999923706055\n",
      "        value: 9.069999694824219\n",
      "        value: 6.340000152587891\n",
      "      }\n",
      "    }\n",
      "  }\n",
      "}\n",
      "\n",
      "b'\\n`\\n-\\n\\x0efavorite_books\\x12\\x1b\\n\\x19\\n\\x10machine learning\\n\\x05cc150\\n\\x10\\n\\x03age\\x12\\t\\x1a\\x07\\n\\x05\\x0c#\\x08@\\x1c\\n\\x1d\\n\\x05hours\\x12\\x14\\x12\\x12\\n\\x10\\xcd\\xcc@A\\xd7\\xa3\\xb8A\\xb8\\x1e\\x11AH\\xe1\\xca@'\n"
     ]
    }
   ],
   "source": [
    "# 构建tf.train.Example\n",
    "example = tf.train.Example(features = features)\n",
    "print(example)\n",
    "\n",
    "# 序列化成二进制文件\n",
    "serialized_example = example.SerializeToString()\n",
    "print(serialized_example)"
   ]
  },
  {
   "cell_type": "markdown",
   "metadata": {},
   "source": [
    "# 存储tfrecord文件数据"
   ]
  },
  {
   "cell_type": "code",
   "execution_count": 11,
   "metadata": {},
   "outputs": [],
   "source": [
    "output_dir = 'tfrecord_basic'\n",
    "if not os.path.exists(output_dir):\n",
    "    os.mkdir(output_dir)\n",
    "filename = \"test.tfrecords\"\n",
    "filename_fullpath = os.path.join(output_dir,filename)\n",
    "with tf.io.TFRecordWriter(filename_fullpath) as writer:\n",
    "    for i in range(3):\n",
    "        writer.write(serialized_example)"
   ]
  },
  {
   "cell_type": "markdown",
   "metadata": {},
   "source": [
    "# 读取tfrecord文件数据"
   ]
  },
  {
   "cell_type": "code",
   "execution_count": 12,
   "metadata": {},
   "outputs": [
    {
     "name": "stdout",
     "output_type": "stream",
     "text": [
      "tf.Tensor(b'\\n`\\n-\\n\\x0efavorite_books\\x12\\x1b\\n\\x19\\n\\x10machine learning\\n\\x05cc150\\n\\x10\\n\\x03age\\x12\\t\\x1a\\x07\\n\\x05\\x0c#\\x08@\\x1c\\n\\x1d\\n\\x05hours\\x12\\x14\\x12\\x12\\n\\x10\\xcd\\xcc@A\\xd7\\xa3\\xb8A\\xb8\\x1e\\x11AH\\xe1\\xca@', shape=(), dtype=string)\n",
      "tf.Tensor(b'\\n`\\n-\\n\\x0efavorite_books\\x12\\x1b\\n\\x19\\n\\x10machine learning\\n\\x05cc150\\n\\x10\\n\\x03age\\x12\\t\\x1a\\x07\\n\\x05\\x0c#\\x08@\\x1c\\n\\x1d\\n\\x05hours\\x12\\x14\\x12\\x12\\n\\x10\\xcd\\xcc@A\\xd7\\xa3\\xb8A\\xb8\\x1e\\x11AH\\xe1\\xca@', shape=(), dtype=string)\n",
      "tf.Tensor(b'\\n`\\n-\\n\\x0efavorite_books\\x12\\x1b\\n\\x19\\n\\x10machine learning\\n\\x05cc150\\n\\x10\\n\\x03age\\x12\\t\\x1a\\x07\\n\\x05\\x0c#\\x08@\\x1c\\n\\x1d\\n\\x05hours\\x12\\x14\\x12\\x12\\n\\x10\\xcd\\xcc@A\\xd7\\xa3\\xb8A\\xb8\\x1e\\x11AH\\xe1\\xca@', shape=(), dtype=string)\n"
     ]
    }
   ],
   "source": [
    "dataset = tf.data.TFRecordDataset([filename_fullpath])\n",
    "for serialized_example_tensor in dataset:\n",
    "    print(serialized_example_tensor)"
   ]
  },
  {
   "cell_type": "markdown",
   "metadata": {},
   "source": [
    "# 解析二进制的tfrecord文件数据"
   ]
  },
  {
   "cell_type": "code",
   "execution_count": 19,
   "metadata": {},
   "outputs": [
    {
     "name": "stdout",
     "output_type": "stream",
     "text": [
      "{'favorite_books': <tensorflow.python.framework.sparse_tensor.SparseTensor object at 0x7f9245fa7a20>, 'hours': <tensorflow.python.framework.sparse_tensor.SparseTensor object at 0x7f91fdfc30f0>, 'age': <tf.Tensor: id=289, shape=(5,), dtype=int64, numpy=array([12, 35,  8, 64, 28])>}\n",
      "tf.Tensor(b'machine learning', shape=(), dtype=string)\n",
      "b'machine learning'\n",
      "machine learning\n",
      "tf.Tensor(b'cc150', shape=(), dtype=string)\n",
      "b'cc150'\n",
      "cc150\n",
      "\n",
      "{'favorite_books': <tensorflow.python.framework.sparse_tensor.SparseTensor object at 0x7f92195b66a0>, 'hours': <tensorflow.python.framework.sparse_tensor.SparseTensor object at 0x7f92195b68d0>, 'age': <tf.Tensor: id=308, shape=(5,), dtype=int64, numpy=array([12, 35,  8, 64, 28])>}\n",
      "tf.Tensor(b'machine learning', shape=(), dtype=string)\n",
      "b'machine learning'\n",
      "machine learning\n",
      "tf.Tensor(b'cc150', shape=(), dtype=string)\n",
      "b'cc150'\n",
      "cc150\n",
      "\n",
      "{'favorite_books': <tensorflow.python.framework.sparse_tensor.SparseTensor object at 0x7f9245fa7748>, 'hours': <tensorflow.python.framework.sparse_tensor.SparseTensor object at 0x7f92196c2be0>, 'age': <tf.Tensor: id=327, shape=(5,), dtype=int64, numpy=array([12, 35,  8, 64, 28])>}\n",
      "tf.Tensor(b'machine learning', shape=(), dtype=string)\n",
      "b'machine learning'\n",
      "machine learning\n",
      "tf.Tensor(b'cc150', shape=(), dtype=string)\n",
      "b'cc150'\n",
      "cc150\n",
      "\n"
     ]
    }
   ],
   "source": [
    "# 需要一个类似于解析csv文件的指定每个value值默认类型的定义\n",
    "expected_features = {\n",
    "    \"favorite_books\": tf.io.VarLenFeature(dtype = tf.string),# 变长的String\n",
    "    \"hours\": tf.io.VarLenFeature(dtype = tf.float32), # 变长的float32\n",
    "    \"age\": tf.io.FixedLenFeature([5],dtype = tf.int64), # 固定长度为5的int64\n",
    "}\n",
    "dataset = tf.data.TFRecordDataset([filename_fullpath])\n",
    "for serialized_example_tensor in dataset:\n",
    "    # 这里进行解析操作\n",
    "    example = tf.io.parse_single_example(\n",
    "        serialized_example_tensor,\n",
    "        expected_features)\n",
    "    print(example)\n",
    "    # 这里进一步把books解析出来\n",
    "    books = tf.sparse.to_dense(example[\"favorite_books\"],\n",
    "                               default_value = b\"\")\n",
    "    for book in books:\n",
    "        print(book)\n",
    "        print(book.numpy())\n",
    "        print(book.numpy().decode(\"UTF-8\"))\n",
    "    print()"
   ]
  },
  {
   "cell_type": "markdown",
   "metadata": {},
   "source": [
    "# 将tfrecord文件存储为压缩文件"
   ]
  },
  {
   "cell_type": "code",
   "execution_count": 20,
   "metadata": {},
   "outputs": [],
   "source": [
    "filename_fullpath_zip = filename_fullpath + '.zip'\n",
    "options = tf.io.TFRecordOptions(compression_type=\"GZIP\") # 定义一个压缩操作\n",
    "with tf.io.TFRecordWriter(filename_fullpath_zip,options) as writer:\n",
    "    for i in range(3):\n",
    "        writer.write(serialized_example)"
   ]
  },
  {
   "cell_type": "markdown",
   "metadata": {},
   "source": [
    "# 读取压缩后的tfrecord文件"
   ]
  },
  {
   "cell_type": "code",
   "execution_count": 22,
   "metadata": {},
   "outputs": [
    {
     "name": "stdout",
     "output_type": "stream",
     "text": [
      "machine learning\n",
      "cc150\n",
      "machine learning\n",
      "cc150\n",
      "machine learning\n",
      "cc150\n"
     ]
    }
   ],
   "source": [
    "dataset_zip = tf.data.TFRecordDataset([filename_fullpath_zip],\n",
    "                                   compression_type=\"GZIP\") # 只是这里多了一个compression_type，其他基本不变\n",
    "for serialized_example_tensor in dataset_zip:\n",
    "    example = tf.io.parse_single_example(\n",
    "        serialized_example_tensor,\n",
    "        expected_features)\n",
    "    books = tf.sparse.to_dense(example['favorite_books'],\n",
    "                               default_value = b\"\")\n",
    "    \n",
    "    for book in books:\n",
    "        print(book.numpy().decode(\"UTF-8\"))"
   ]
  },
  {
   "cell_type": "code",
   "execution_count": null,
   "metadata": {},
   "outputs": [],
   "source": []
  }
 ],
 "metadata": {
  "kernelspec": {
   "display_name": "Python 3",
   "language": "python",
   "name": "python3"
  },
  "language_info": {
   "codemirror_mode": {
    "name": "ipython",
    "version": 3
   },
   "file_extension": ".py",
   "mimetype": "text/x-python",
   "name": "python",
   "nbconvert_exporter": "python",
   "pygments_lexer": "ipython3",
   "version": "3.6.9"
  }
 },
 "nbformat": 4,
 "nbformat_minor": 2
}
