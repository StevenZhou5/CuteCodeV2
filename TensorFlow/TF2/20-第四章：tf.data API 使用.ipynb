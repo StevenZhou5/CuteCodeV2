{
 "cells": [
  {
   "cell_type": "markdown",
   "metadata": {},
   "source": [
    "# 一、Dataset 基础API的使用\n",
    "### tf.data.Dataset.from_tensor_slices\n",
    "### repeat,batch,interleave,map,shuffle,list_files\n",
    "\n",
    "\n",
    "# 二、Dataset 读取csv文件:用','分割，按行存储的文件\n",
    "### tf.data.TextLineDataset,tf.io.decode_csv\n",
    "\n",
    "\n",
    "# 三、Dataset 读取tfrecord文件\n",
    "### tf.train.FloatList, tf.train.Int64List, tf.train.BytesList\n",
    "### tf.train.Feature, tf.train.Features, tf.train.Example\n",
    "### example.SerializeToString\n",
    "### tf.io.ParseSingleExample\n",
    "### tf.io.VarlenFeature, tf.io.FixedLenFeature\n",
    "### tf.data.TFRecordDataset, tf.io.TFRecordOptions"
   ]
  },
  {
   "cell_type": "code",
   "execution_count": 1,
   "metadata": {},
   "outputs": [
    {
     "name": "stdout",
     "output_type": "stream",
     "text": [
      "2.0.0\n",
      "sys.version_info(major=3, minor=6, micro=9, releaselevel='final', serial=0)\n",
      "matplotlib 3.1.2\n",
      "numpy 1.17.4\n",
      "pandas 0.25.3\n",
      "sklearn 0.22\n",
      "tensorflow 2.0.0\n",
      "tensorflow_core.keras 2.2.4-tf\n"
     ]
    },
    {
     "data": {
      "text/plain": [
       "False"
      ]
     },
     "execution_count": 1,
     "metadata": {},
     "output_type": "execute_result"
    }
   ],
   "source": [
    "import matplotlib as mpl\n",
    "import matplotlib.pyplot as plt\n",
    "%matplotlib inline\n",
    "import numpy as np\n",
    "import sklearn\n",
    "import pandas as pd\n",
    "import os\n",
    "import sys\n",
    "import time\n",
    "import tensorflow as tf\n",
    "\n",
    "from tensorflow import keras\n",
    "\n",
    "print(tf.__version__)\n",
    "print(sys.version_info)\n",
    "for module in mpl,np,pd,sklearn,tf,keras:\n",
    "    print(module.__name__,module.__version__)\n",
    "\n",
    "tf.test.is_gpu_available()"
   ]
  },
  {
   "cell_type": "markdown",
   "metadata": {},
   "source": [
    "# 从内存中去构件数据集\n",
    "\n",
    "### 使用numpy的数据"
   ]
  },
  {
   "cell_type": "code",
   "execution_count": 2,
   "metadata": {},
   "outputs": [
    {
     "name": "stdout",
     "output_type": "stream",
     "text": [
      "<TensorSliceDataset shapes: (), types: tf.int64>\n"
     ]
    }
   ],
   "source": [
    "# 参数可以是普通的列表，numpy的array，或者是一个字典\n",
    "dataset = tf.data.Dataset.from_tensor_slices(np.arange(10)) \n",
    "print(dataset)"
   ]
  },
  {
   "cell_type": "code",
   "execution_count": 3,
   "metadata": {},
   "outputs": [
    {
     "name": "stdout",
     "output_type": "stream",
     "text": [
      "tf.Tensor(0, shape=(), dtype=int64)\n",
      "tf.Tensor(1, shape=(), dtype=int64)\n",
      "tf.Tensor(2, shape=(), dtype=int64)\n",
      "tf.Tensor(3, shape=(), dtype=int64)\n",
      "tf.Tensor(4, shape=(), dtype=int64)\n",
      "tf.Tensor(5, shape=(), dtype=int64)\n",
      "tf.Tensor(6, shape=(), dtype=int64)\n",
      "tf.Tensor(7, shape=(), dtype=int64)\n",
      "tf.Tensor(8, shape=(), dtype=int64)\n",
      "tf.Tensor(9, shape=(), dtype=int64)\n"
     ]
    }
   ],
   "source": [
    "for item in dataset:\n",
    "    print(item)"
   ]
  },
  {
   "cell_type": "code",
   "execution_count": 4,
   "metadata": {},
   "outputs": [
    {
     "name": "stdout",
     "output_type": "stream",
     "text": [
      "tf.Tensor(0, shape=(), dtype=int64)\n",
      "tf.Tensor(1, shape=(), dtype=int64)\n",
      "tf.Tensor(2, shape=(), dtype=int64)\n",
      "tf.Tensor(3, shape=(), dtype=int64)\n",
      "tf.Tensor(4, shape=(), dtype=int64)\n",
      "tf.Tensor(5, shape=(), dtype=int64)\n",
      "tf.Tensor(6, shape=(), dtype=int64)\n",
      "tf.Tensor(7, shape=(), dtype=int64)\n",
      "tf.Tensor(8, shape=(), dtype=int64)\n",
      "tf.Tensor(9, shape=(), dtype=int64)\n",
      "tf.Tensor(0, shape=(), dtype=int64)\n",
      "tf.Tensor(1, shape=(), dtype=int64)\n",
      "tf.Tensor(2, shape=(), dtype=int64)\n",
      "tf.Tensor(3, shape=(), dtype=int64)\n",
      "tf.Tensor(4, shape=(), dtype=int64)\n",
      "tf.Tensor(5, shape=(), dtype=int64)\n",
      "tf.Tensor(6, shape=(), dtype=int64)\n",
      "tf.Tensor(7, shape=(), dtype=int64)\n",
      "tf.Tensor(8, shape=(), dtype=int64)\n",
      "tf.Tensor(9, shape=(), dtype=int64)\n",
      "tf.Tensor(0, shape=(), dtype=int64)\n",
      "tf.Tensor(1, shape=(), dtype=int64)\n",
      "tf.Tensor(2, shape=(), dtype=int64)\n",
      "tf.Tensor(3, shape=(), dtype=int64)\n",
      "tf.Tensor(4, shape=(), dtype=int64)\n",
      "tf.Tensor(5, shape=(), dtype=int64)\n",
      "tf.Tensor(6, shape=(), dtype=int64)\n",
      "tf.Tensor(7, shape=(), dtype=int64)\n",
      "tf.Tensor(8, shape=(), dtype=int64)\n",
      "tf.Tensor(9, shape=(), dtype=int64)\n"
     ]
    }
   ],
   "source": [
    "# 1. repeat epoch\n",
    "# 2. get batch\n",
    "dataset = dataset.repeat(3) # 返回一个新的dataset，将之前的数据重复了3次\n",
    "for item in dataset:\n",
    "    print(item)"
   ]
  },
  {
   "cell_type": "code",
   "execution_count": 5,
   "metadata": {},
   "outputs": [
    {
     "name": "stdout",
     "output_type": "stream",
     "text": [
      "tf.Tensor([0 1 2 3 4 5 6], shape=(7,), dtype=int64)\n",
      "tf.Tensor([7 8 9 0 1 2 3], shape=(7,), dtype=int64)\n",
      "tf.Tensor([4 5 6 7 8 9 0], shape=(7,), dtype=int64)\n",
      "tf.Tensor([1 2 3 4 5 6 7], shape=(7,), dtype=int64)\n",
      "tf.Tensor([8 9], shape=(2,), dtype=int64)\n"
     ]
    }
   ],
   "source": [
    "dataset = dataset.batch(7) # 返回一个新的dataset，每7个数一组\n",
    "for item in dataset:\n",
    "    print(item)"
   ]
  },
  {
   "cell_type": "code",
   "execution_count": 6,
   "metadata": {},
   "outputs": [
    {
     "name": "stdout",
     "output_type": "stream",
     "text": [
      "tf.Tensor(0, shape=(), dtype=int64)\n",
      "tf.Tensor(1, shape=(), dtype=int64)\n",
      "tf.Tensor(2, shape=(), dtype=int64)\n",
      "tf.Tensor(3, shape=(), dtype=int64)\n",
      "tf.Tensor(4, shape=(), dtype=int64)\n",
      "tf.Tensor(5, shape=(), dtype=int64)\n",
      "tf.Tensor(7, shape=(), dtype=int64)\n",
      "tf.Tensor(8, shape=(), dtype=int64)\n",
      "tf.Tensor(9, shape=(), dtype=int64)\n",
      "tf.Tensor(0, shape=(), dtype=int64)\n",
      "tf.Tensor(1, shape=(), dtype=int64)\n",
      "tf.Tensor(2, shape=(), dtype=int64)\n",
      "tf.Tensor(4, shape=(), dtype=int64)\n",
      "tf.Tensor(5, shape=(), dtype=int64)\n",
      "tf.Tensor(6, shape=(), dtype=int64)\n",
      "tf.Tensor(7, shape=(), dtype=int64)\n",
      "tf.Tensor(8, shape=(), dtype=int64)\n",
      "tf.Tensor(9, shape=(), dtype=int64)\n",
      "tf.Tensor(1, shape=(), dtype=int64)\n",
      "tf.Tensor(2, shape=(), dtype=int64)\n",
      "tf.Tensor(3, shape=(), dtype=int64)\n",
      "tf.Tensor(4, shape=(), dtype=int64)\n",
      "tf.Tensor(5, shape=(), dtype=int64)\n",
      "tf.Tensor(6, shape=(), dtype=int64)\n",
      "tf.Tensor(8, shape=(), dtype=int64)\n",
      "tf.Tensor(9, shape=(), dtype=int64)\n",
      "tf.Tensor(6, shape=(), dtype=int64)\n",
      "tf.Tensor(3, shape=(), dtype=int64)\n",
      "tf.Tensor(0, shape=(), dtype=int64)\n",
      "tf.Tensor(7, shape=(), dtype=int64)\n"
     ]
    }
   ],
   "source": [
    "# interleave: 对现有的dataset的每个元素去进行处理，处理完会返回一个新的结果；然后interleave会把新的结果在合并返回一个新的dataset数据集\n",
    "# case: 文件名dataset —> 读取每个文件中具体数据后的数据集\n",
    "\n",
    "dataset2 = dataset.interleave(\n",
    "    # map_fn :去做什么样的变化\n",
    "    lambda v: tf.data.Dataset.from_tensor_slices(v), # 将dataset中的每个item进行对应的处理\n",
    "    # cycle_length: 并行程度，并行的取处理dataset中的多少个元素\n",
    "    cycle_length = 5,\n",
    "    # block_length: 从map_fn变化的结果当中每次取多少个元素出来\n",
    "    block_length = 6, \n",
    ")\n",
    "for item in dataset2:\n",
    "    print(item)"
   ]
  },
  {
   "cell_type": "markdown",
   "metadata": {},
   "source": [
    "### 使用元组"
   ]
  },
  {
   "cell_type": "code",
   "execution_count": 7,
   "metadata": {},
   "outputs": [
    {
     "name": "stdout",
     "output_type": "stream",
     "text": [
      "<TensorSliceDataset shapes: ((2,), ()), types: (tf.int64, tf.string)>\n",
      "tf.Tensor([1 2], shape=(2,), dtype=int64) ===== tf.Tensor(b'cat', shape=(), dtype=string)\n",
      "[1 2] ===== b'cat' \n",
      "\n",
      "tf.Tensor([3 4], shape=(2,), dtype=int64) ===== tf.Tensor(b'dag', shape=(), dtype=string)\n",
      "[3 4] ===== b'dag' \n",
      "\n",
      "tf.Tensor([5 6], shape=(2,), dtype=int64) ===== tf.Tensor(b'fox', shape=(), dtype=string)\n",
      "[5 6] ===== b'fox' \n",
      "\n"
     ]
    }
   ],
   "source": [
    "x = np.array([[1,2],[3,4],[5,6]])\n",
    "y = np.array(['cat','dag','fox'])\n",
    "dataset3 = tf.data.Dataset.from_tensor_slices((x,y))\n",
    "print(dataset3)\n",
    "\n",
    "for item_x,item_y in dataset3:\n",
    "    print(item_x,\"=====\",item_y)\n",
    "    print(item_x.numpy(),\"=====\",item_y.numpy(),'\\n')"
   ]
  },
  {
   "cell_type": "markdown",
   "metadata": {},
   "source": [
    "### 使用字典"
   ]
  },
  {
   "cell_type": "code",
   "execution_count": 8,
   "metadata": {},
   "outputs": [
    {
     "name": "stdout",
     "output_type": "stream",
     "text": [
      "{'feature': <tf.Tensor: id=133, shape=(2,), dtype=int64, numpy=array([1, 2])>, 'label': <tf.Tensor: id=134, shape=(), dtype=string, numpy=b'cat'>}\n",
      "tf.Tensor([1 2], shape=(2,), dtype=int64) ===== tf.Tensor(b'cat', shape=(), dtype=string)\n",
      "[1 2] ===== b'cat' \n",
      "\n",
      "{'feature': <tf.Tensor: id=135, shape=(2,), dtype=int64, numpy=array([3, 4])>, 'label': <tf.Tensor: id=136, shape=(), dtype=string, numpy=b'dag'>}\n",
      "tf.Tensor([3 4], shape=(2,), dtype=int64) ===== tf.Tensor(b'dag', shape=(), dtype=string)\n",
      "[3 4] ===== b'dag' \n",
      "\n",
      "{'feature': <tf.Tensor: id=137, shape=(2,), dtype=int64, numpy=array([5, 6])>, 'label': <tf.Tensor: id=138, shape=(), dtype=string, numpy=b'fox'>}\n",
      "tf.Tensor([5 6], shape=(2,), dtype=int64) ===== tf.Tensor(b'fox', shape=(), dtype=string)\n",
      "[5 6] ===== b'fox' \n",
      "\n"
     ]
    }
   ],
   "source": [
    "dataset4 = tf.data.Dataset.from_tensor_slices({\"feature\":x,\n",
    "                                               \"label\":y})\n",
    "for item in dataset4:\n",
    "    print(item)\n",
    "    print(item[\"feature\"],\"=====\",item['label'])\n",
    "    print(item[\"feature\"].numpy(),\"=====\",item['label'].numpy(),'\\n')"
   ]
  },
  {
   "cell_type": "code",
   "execution_count": null,
   "metadata": {},
   "outputs": [],
   "source": []
  }
 ],
 "metadata": {
  "kernelspec": {
   "display_name": "Python 3",
   "language": "python",
   "name": "python3"
  },
  "language_info": {
   "codemirror_mode": {
    "name": "ipython",
    "version": 3
   },
   "file_extension": ".py",
   "mimetype": "text/x-python",
   "name": "python",
   "nbconvert_exporter": "python",
   "pygments_lexer": "ipython3",
   "version": "3.7.4"
  }
 },
 "nbformat": 4,
 "nbformat_minor": 2
}
