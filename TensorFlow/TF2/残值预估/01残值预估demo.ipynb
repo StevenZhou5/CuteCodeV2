{
 "cells": [
  {
   "cell_type": "code",
   "execution_count": 2,
   "metadata": {},
   "outputs": [
    {
     "name": "stdout",
     "output_type": "stream",
     "text": [
      "2.0.0\n",
      "sys.version_info(major=3, minor=6, micro=9, releaselevel='final', serial=0)\n",
      "matplotlib 3.1.2\n",
      "numpy 1.17.4\n",
      "pandas 0.25.3\n",
      "sklearn 0.22\n",
      "tensorflow 2.0.0\n",
      "tensorflow_core.keras 2.2.4-tf\n"
     ]
    },
    {
     "name": "stderr",
     "output_type": "stream",
     "text": [
      "Using TensorFlow backend.\n"
     ]
    },
    {
     "data": {
      "text/plain": [
       "False"
      ]
     },
     "execution_count": 2,
     "metadata": {},
     "output_type": "execute_result"
    }
   ],
   "source": [
    "import matplotlib as mpl\n",
    "import matplotlib.pyplot as plt\n",
    "%matplotlib inline\n",
    "import numpy as np\n",
    "import sklearn\n",
    "import pandas as pd\n",
    "import os\n",
    "import sys\n",
    "import time\n",
    "import tensorflow as tf\n",
    "\n",
    "from tensorflow import keras\n",
    "\n",
    "from keras2pmml import keras2pmml\n",
    "\n",
    "\n",
    "print(tf.__version__)\n",
    "print(sys.version_info)\n",
    "for module in mpl,np,pd,sklearn,tf,keras:\n",
    "    print(module.__name__,module.__version__)\n",
    "\n",
    "tf.test.is_gpu_available()"
   ]
  },
  {
   "cell_type": "code",
   "execution_count": 8,
   "metadata": {},
   "outputs": [
    {
     "name": "stdout",
     "output_type": "stream",
     "text": [
      "Model: \"sequential_4\"\n",
      "_________________________________________________________________\n",
      "Layer (type)                 Output Shape              Param #   \n",
      "=================================================================\n",
      "dense_8 (Dense)              (None, 8)                 16        \n",
      "_________________________________________________________________\n",
      "dense_9 (Dense)              (None, 1)                 9         \n",
      "=================================================================\n",
      "Total params: 25\n",
      "Trainable params: 25\n",
      "Non-trainable params: 0\n",
      "_________________________________________________________________\n"
     ]
    }
   ],
   "source": [
    "trainX = tf.constant([1,2,3])\n",
    "trainY = tf.constant([2,4,6])\n",
    "\n",
    "model = keras.models.Sequential([\n",
    "    keras.layers.Dense(8,activation = 'relu',input_shape = (1,)),\n",
    "    keras.layers.Dense(1)\n",
    "])\n",
    "model.summary()\n",
    "model.compile(loss = 'mse',optimizer = keras.optimizers.Adam(learning_rate = 0.01))"
   ]
  },
  {
   "cell_type": "code",
   "execution_count": 9,
   "metadata": {},
   "outputs": [
    {
     "name": "stdout",
     "output_type": "stream",
     "text": [
      "Train on 3 samples\n",
      "Epoch 1/100\n",
      "3/3 [==============================] - 0s 58ms/sample - loss: 27.5383\n",
      "Epoch 2/100\n",
      "3/3 [==============================] - 0s 315us/sample - loss: 26.7211\n",
      "Epoch 3/100\n",
      "3/3 [==============================] - 0s 291us/sample - loss: 25.9297\n",
      "Epoch 4/100\n",
      "3/3 [==============================] - 0s 290us/sample - loss: 25.1638\n",
      "Epoch 5/100\n",
      "3/3 [==============================] - 0s 289us/sample - loss: 24.4237\n",
      "Epoch 6/100\n",
      "3/3 [==============================] - 0s 297us/sample - loss: 23.7105\n",
      "Epoch 7/100\n",
      "3/3 [==============================] - 0s 294us/sample - loss: 23.0309\n",
      "Epoch 8/100\n",
      "3/3 [==============================] - 0s 281us/sample - loss: 22.3842\n",
      "Epoch 9/100\n",
      "3/3 [==============================] - 0s 289us/sample - loss: 21.7541\n",
      "Epoch 10/100\n",
      "3/3 [==============================] - 0s 486us/sample - loss: 21.1403\n",
      "Epoch 11/100\n",
      "3/3 [==============================] - 0s 525us/sample - loss: 20.5424\n",
      "Epoch 12/100\n",
      "3/3 [==============================] - 0s 550us/sample - loss: 19.9602\n",
      "Epoch 13/100\n",
      "3/3 [==============================] - 0s 268us/sample - loss: 19.3931\n",
      "Epoch 14/100\n",
      "3/3 [==============================] - 0s 276us/sample - loss: 18.8407\n",
      "Epoch 15/100\n",
      "3/3 [==============================] - 0s 285us/sample - loss: 18.3026\n",
      "Epoch 16/100\n",
      "3/3 [==============================] - 0s 498us/sample - loss: 17.7783\n",
      "Epoch 17/100\n",
      "3/3 [==============================] - 0s 528us/sample - loss: 17.2672\n",
      "Epoch 18/100\n",
      "3/3 [==============================] - 0s 314us/sample - loss: 16.7689\n",
      "Epoch 19/100\n",
      "3/3 [==============================] - 0s 325us/sample - loss: 16.2828\n",
      "Epoch 20/100\n",
      "3/3 [==============================] - 0s 275us/sample - loss: 15.8083\n",
      "Epoch 21/100\n",
      "3/3 [==============================] - 0s 516us/sample - loss: 15.3451\n",
      "Epoch 22/100\n",
      "3/3 [==============================] - 0s 291us/sample - loss: 14.8924\n",
      "Epoch 23/100\n",
      "3/3 [==============================] - 0s 290us/sample - loss: 14.4499\n",
      "Epoch 24/100\n",
      "3/3 [==============================] - 0s 297us/sample - loss: 14.0176\n",
      "Epoch 25/100\n",
      "3/3 [==============================] - 0s 281us/sample - loss: 13.6003\n",
      "Epoch 26/100\n",
      "3/3 [==============================] - 0s 334us/sample - loss: 13.1913\n",
      "Epoch 27/100\n",
      "3/3 [==============================] - 0s 279us/sample - loss: 12.7901\n",
      "Epoch 28/100\n",
      "3/3 [==============================] - 0s 274us/sample - loss: 12.3962\n",
      "Epoch 29/100\n",
      "3/3 [==============================] - 0s 510us/sample - loss: 12.0092\n",
      "Epoch 30/100\n",
      "3/3 [==============================] - 0s 303us/sample - loss: 11.6288\n",
      "Epoch 31/100\n",
      "3/3 [==============================] - 0s 292us/sample - loss: 11.2544\n",
      "Epoch 32/100\n",
      "3/3 [==============================] - 0s 307us/sample - loss: 10.8859\n",
      "Epoch 33/100\n",
      "3/3 [==============================] - 0s 457us/sample - loss: 10.5229\n",
      "Epoch 34/100\n",
      "3/3 [==============================] - 0s 292us/sample - loss: 10.1739\n",
      "Epoch 35/100\n",
      "3/3 [==============================] - 0s 270us/sample - loss: 9.8340\n",
      "Epoch 36/100\n",
      "3/3 [==============================] - 0s 317us/sample - loss: 9.4985\n",
      "Epoch 37/100\n",
      "3/3 [==============================] - 0s 309us/sample - loss: 9.1673\n",
      "Epoch 38/100\n",
      "3/3 [==============================] - 0s 332us/sample - loss: 8.8401\n",
      "Epoch 39/100\n",
      "3/3 [==============================] - 0s 514us/sample - loss: 8.5169\n",
      "Epoch 40/100\n",
      "3/3 [==============================] - 0s 293us/sample - loss: 8.2153\n",
      "Epoch 41/100\n",
      "3/3 [==============================] - 0s 280us/sample - loss: 7.9175\n",
      "Epoch 42/100\n",
      "3/3 [==============================] - 0s 502us/sample - loss: 7.6222\n",
      "Epoch 43/100\n",
      "3/3 [==============================] - 0s 286us/sample - loss: 7.3297\n",
      "Epoch 44/100\n",
      "3/3 [==============================] - 0s 511us/sample - loss: 7.0401\n",
      "Epoch 45/100\n",
      "3/3 [==============================] - 0s 290us/sample - loss: 6.7536\n",
      "Epoch 46/100\n",
      "3/3 [==============================] - 0s 273us/sample - loss: 6.4706\n",
      "Epoch 47/100\n",
      "3/3 [==============================] - 0s 310us/sample - loss: 6.1911\n",
      "Epoch 48/100\n",
      "3/3 [==============================] - 0s 266us/sample - loss: 5.9155\n",
      "Epoch 49/100\n",
      "3/3 [==============================] - 0s 304us/sample - loss: 5.6441\n",
      "Epoch 50/100\n",
      "3/3 [==============================] - 0s 299us/sample - loss: 5.3771\n",
      "Epoch 51/100\n",
      "3/3 [==============================] - 0s 305us/sample - loss: 5.1148\n",
      "Epoch 52/100\n",
      "3/3 [==============================] - 0s 513us/sample - loss: 4.8576\n",
      "Epoch 53/100\n",
      "3/3 [==============================] - 0s 293us/sample - loss: 4.6056\n",
      "Epoch 54/100\n",
      "3/3 [==============================] - 0s 292us/sample - loss: 4.3593\n",
      "Epoch 55/100\n",
      "3/3 [==============================] - 0s 270us/sample - loss: 4.1189\n",
      "Epoch 56/100\n",
      "3/3 [==============================] - 0s 274us/sample - loss: 3.8847\n",
      "Epoch 57/100\n",
      "3/3 [==============================] - 0s 282us/sample - loss: 3.6570\n",
      "Epoch 58/100\n",
      "3/3 [==============================] - 0s 295us/sample - loss: 3.4360\n",
      "Epoch 59/100\n",
      "3/3 [==============================] - 0s 335us/sample - loss: 3.2221\n",
      "Epoch 60/100\n",
      "3/3 [==============================] - 0s 307us/sample - loss: 3.0153\n",
      "Epoch 61/100\n",
      "3/3 [==============================] - 0s 518us/sample - loss: 2.8161\n",
      "Epoch 62/100\n",
      "3/3 [==============================] - 0s 277us/sample - loss: 2.6245\n",
      "Epoch 63/100\n",
      "3/3 [==============================] - 0s 340us/sample - loss: 2.4408\n",
      "Epoch 64/100\n",
      "3/3 [==============================] - 0s 276us/sample - loss: 2.2652\n",
      "Epoch 65/100\n",
      "3/3 [==============================] - 0s 274us/sample - loss: 2.0977\n",
      "Epoch 66/100\n",
      "3/3 [==============================] - 0s 285us/sample - loss: 1.9384\n",
      "Epoch 67/100\n",
      "3/3 [==============================] - 0s 294us/sample - loss: 1.7874\n",
      "Epoch 68/100\n",
      "3/3 [==============================] - 0s 261us/sample - loss: 1.6449\n",
      "Epoch 69/100\n",
      "3/3 [==============================] - 0s 324us/sample - loss: 1.5107\n",
      "Epoch 70/100\n",
      "3/3 [==============================] - 0s 517us/sample - loss: 1.3848\n",
      "Epoch 71/100\n",
      "3/3 [==============================] - 0s 333us/sample - loss: 1.2672\n",
      "Epoch 72/100\n",
      "3/3 [==============================] - 0s 284us/sample - loss: 1.1578\n",
      "Epoch 73/100\n",
      "3/3 [==============================] - 0s 285us/sample - loss: 1.0565\n",
      "Epoch 74/100\n",
      "3/3 [==============================] - 0s 308us/sample - loss: 0.9631\n",
      "Epoch 75/100\n",
      "3/3 [==============================] - 0s 272us/sample - loss: 0.8773\n",
      "Epoch 76/100\n",
      "3/3 [==============================] - 0s 494us/sample - loss: 0.7990\n",
      "Epoch 77/100\n",
      "3/3 [==============================] - 0s 281us/sample - loss: 0.7279\n",
      "Epoch 78/100\n",
      "3/3 [==============================] - 0s 263us/sample - loss: 0.6637\n",
      "Epoch 79/100\n",
      "3/3 [==============================] - 0s 328us/sample - loss: 0.6061\n",
      "Epoch 80/100\n",
      "3/3 [==============================] - 0s 476us/sample - loss: 0.5548\n",
      "Epoch 81/100\n",
      "3/3 [==============================] - 0s 294us/sample - loss: 0.5094\n",
      "Epoch 82/100\n",
      "3/3 [==============================] - 0s 307us/sample - loss: 0.4695\n",
      "Epoch 83/100\n",
      "3/3 [==============================] - 0s 283us/sample - loss: 0.4347\n",
      "Epoch 84/100\n",
      "3/3 [==============================] - 0s 321us/sample - loss: 0.4048\n",
      "Epoch 85/100\n",
      "3/3 [==============================] - 0s 286us/sample - loss: 0.3792\n",
      "Epoch 86/100\n",
      "3/3 [==============================] - 0s 316us/sample - loss: 0.3575\n",
      "Epoch 87/100\n",
      "3/3 [==============================] - 0s 299us/sample - loss: 0.3395\n",
      "Epoch 88/100\n",
      "3/3 [==============================] - 0s 273us/sample - loss: 0.3247\n",
      "Epoch 89/100\n",
      "3/3 [==============================] - 0s 269us/sample - loss: 0.3127\n",
      "Epoch 90/100\n",
      "3/3 [==============================] - 0s 493us/sample - loss: 0.3032\n",
      "Epoch 91/100\n",
      "3/3 [==============================] - 0s 326us/sample - loss: 0.2959\n",
      "Epoch 92/100\n",
      "3/3 [==============================] - 0s 336us/sample - loss: 0.2904\n",
      "Epoch 93/100\n",
      "3/3 [==============================] - 0s 277us/sample - loss: 0.2864\n",
      "Epoch 94/100\n",
      "3/3 [==============================] - 0s 290us/sample - loss: 0.2837\n",
      "Epoch 95/100\n",
      "3/3 [==============================] - 0s 396us/sample - loss: 0.2820\n",
      "Epoch 96/100\n",
      "3/3 [==============================] - 0s 259us/sample - loss: 0.2811\n",
      "Epoch 97/100\n",
      "3/3 [==============================] - 0s 498us/sample - loss: 0.2808\n",
      "Epoch 98/100\n",
      "3/3 [==============================] - 0s 274us/sample - loss: 0.2809\n",
      "Epoch 99/100\n",
      "3/3 [==============================] - 0s 287us/sample - loss: 0.2813\n"
     ]
    },
    {
     "name": "stdout",
     "output_type": "stream",
     "text": [
      "Epoch 100/100\n",
      "\r",
      "3/3 [==============================] - 0s 331us/sample - loss: 0.2818\n"
     ]
    }
   ],
   "source": [
    "history = model.fit(trainX,trainY,epochs = 100)"
   ]
  },
  {
   "cell_type": "code",
   "execution_count": 11,
   "metadata": {},
   "outputs": [
    {
     "data": {
      "text/plain": [
       "array([[7.015351]], dtype=float32)"
      ]
     },
     "execution_count": 11,
     "metadata": {},
     "output_type": "execute_result"
    }
   ],
   "source": [
    "model.predict([4])"
   ]
  },
  {
   "cell_type": "code",
   "execution_count": 12,
   "metadata": {},
   "outputs": [
    {
     "name": "stdout",
     "output_type": "stream",
     "text": [
      "[x] Performing model validation.\n"
     ]
    },
    {
     "ename": "TypeError",
     "evalue": "Provided model is not supported.",
     "output_type": "error",
     "traceback": [
      "\u001b[0;31m---------------------------------------------------------------------------\u001b[0m",
      "\u001b[0;31mTypeError\u001b[0m                                 Traceback (most recent call last)",
      "\u001b[0;32m<ipython-input-12-b0b4a3f8de6e>\u001b[0m in \u001b[0;36m<module>\u001b[0;34m\u001b[0m\n\u001b[1;32m      8\u001b[0m }\n\u001b[1;32m      9\u001b[0m \u001b[0;34m\u001b[0m\u001b[0m\n\u001b[0;32m---> 10\u001b[0;31m \u001b[0mkeras2pmml\u001b[0m\u001b[0;34m(\u001b[0m\u001b[0mestimator\u001b[0m \u001b[0;34m=\u001b[0m \u001b[0mmodel\u001b[0m\u001b[0;34m,\u001b[0m \u001b[0mfile\u001b[0m \u001b[0;34m=\u001b[0m \u001b[0;34m'residual_value_estimate.pmml'\u001b[0m\u001b[0;34m,\u001b[0m \u001b[0;34m**\u001b[0m\u001b[0mparams\u001b[0m\u001b[0;34m)\u001b[0m\u001b[0;34m\u001b[0m\u001b[0;34m\u001b[0m\u001b[0m\n\u001b[0m",
      "\u001b[0;32m~/environment/tf2gpu_py3/lib/python3.6/site-packages/keras2pmml/__init__.py\u001b[0m in \u001b[0;36mkeras2pmml\u001b[0;34m(estimator, transformer, file, **kwargs)\u001b[0m\n\u001b[1;32m    193\u001b[0m     \u001b[0mmodel_name\u001b[0m \u001b[0;34m=\u001b[0m \u001b[0mkwargs\u001b[0m\u001b[0;34m.\u001b[0m\u001b[0mget\u001b[0m\u001b[0;34m(\u001b[0m\u001b[0;34m'model_name'\u001b[0m\u001b[0;34m,\u001b[0m \u001b[0;32mNone\u001b[0m\u001b[0;34m)\u001b[0m\u001b[0;34m\u001b[0m\u001b[0;34m\u001b[0m\u001b[0m\n\u001b[1;32m    194\u001b[0m \u001b[0;34m\u001b[0m\u001b[0m\n\u001b[0;32m--> 195\u001b[0;31m     \u001b[0mfeature_names\u001b[0m\u001b[0;34m,\u001b[0m \u001b[0mtarget_values\u001b[0m \u001b[0;34m=\u001b[0m \u001b[0m_validate_inputs\u001b[0m\u001b[0;34m(\u001b[0m\u001b[0mestimator\u001b[0m\u001b[0;34m,\u001b[0m \u001b[0mtransformer\u001b[0m\u001b[0;34m,\u001b[0m \u001b[0mfeature_names\u001b[0m\u001b[0;34m,\u001b[0m \u001b[0mtarget_values\u001b[0m\u001b[0;34m)\u001b[0m\u001b[0;34m\u001b[0m\u001b[0;34m\u001b[0m\u001b[0m\n\u001b[0m\u001b[1;32m    196\u001b[0m \u001b[0;34m\u001b[0m\u001b[0m\n\u001b[1;32m    197\u001b[0m     \u001b[0mpmml\u001b[0m \u001b[0;34m=\u001b[0m \u001b[0mET\u001b[0m\u001b[0;34m.\u001b[0m\u001b[0mElement\u001b[0m\u001b[0;34m(\u001b[0m\u001b[0;34m'PMML'\u001b[0m\u001b[0;34m)\u001b[0m\u001b[0;34m\u001b[0m\u001b[0;34m\u001b[0m\u001b[0m\n",
      "\u001b[0;32m~/environment/tf2gpu_py3/lib/python3.6/site-packages/keras2pmml/__init__.py\u001b[0m in \u001b[0;36m_validate_inputs\u001b[0;34m(model, transformer, feature_names, target_values)\u001b[0m\n\u001b[1;32m     18\u001b[0m     \u001b[0mprint\u001b[0m\u001b[0;34m(\u001b[0m\u001b[0;34m'[x] Performing model validation.'\u001b[0m\u001b[0;34m)\u001b[0m\u001b[0;34m\u001b[0m\u001b[0;34m\u001b[0m\u001b[0m\n\u001b[1;32m     19\u001b[0m     \u001b[0;32mif\u001b[0m \u001b[0;32mnot\u001b[0m \u001b[0mtype\u001b[0m\u001b[0;34m(\u001b[0m\u001b[0mmodel\u001b[0m\u001b[0;34m)\u001b[0m \u001b[0;32min\u001b[0m \u001b[0mSUPPORTED_MODELS\u001b[0m\u001b[0;34m:\u001b[0m\u001b[0;34m\u001b[0m\u001b[0;34m\u001b[0m\u001b[0m\n\u001b[0;32m---> 20\u001b[0;31m         \u001b[0;32mraise\u001b[0m \u001b[0mTypeError\u001b[0m\u001b[0;34m(\u001b[0m\u001b[0;34m\"Provided model is not supported.\"\u001b[0m\u001b[0;34m)\u001b[0m\u001b[0;34m\u001b[0m\u001b[0;34m\u001b[0m\u001b[0m\n\u001b[0m\u001b[1;32m     21\u001b[0m     \u001b[0;32mif\u001b[0m \u001b[0;32mnot\u001b[0m \u001b[0mmodel\u001b[0m\u001b[0;34m.\u001b[0m\u001b[0mbuilt\u001b[0m\u001b[0;34m:\u001b[0m\u001b[0;34m\u001b[0m\u001b[0;34m\u001b[0m\u001b[0m\n\u001b[1;32m     22\u001b[0m         \u001b[0;32mraise\u001b[0m \u001b[0mTypeError\u001b[0m\u001b[0;34m(\u001b[0m\u001b[0;34m\"Provide a fitted model.\"\u001b[0m\u001b[0;34m)\u001b[0m\u001b[0;34m\u001b[0m\u001b[0;34m\u001b[0m\u001b[0m\n",
      "\u001b[0;31mTypeError\u001b[0m: Provided model is not supported."
     ]
    }
   ],
   "source": [
    "params = {\n",
    "    'feature_names':['inputX'],\n",
    "    'target_values':['outputY'],\n",
    "    'target_name':'doubleValue',\n",
    "    'copyright':'Steven Zhou',\n",
    "    'description':'Simple Test',\n",
    "    'model_name':'Residual Value Estimate'\n",
    "}\n",
    "\n",
    "keras2pmml(estimator = model, file = 'residual_value_estimate.pmml', **params)"
   ]
  },
  {
   "cell_type": "code",
   "execution_count": null,
   "metadata": {},
   "outputs": [],
   "source": []
  }
 ],
 "metadata": {
  "kernelspec": {
   "display_name": "Python 3",
   "language": "python",
   "name": "python3"
  },
  "language_info": {
   "codemirror_mode": {
    "name": "ipython",
    "version": 3
   },
   "file_extension": ".py",
   "mimetype": "text/x-python",
   "name": "python",
   "nbconvert_exporter": "python",
   "pygments_lexer": "ipython3",
   "version": "3.6.9"
  }
 },
 "nbformat": 4,
 "nbformat_minor": 2
}
