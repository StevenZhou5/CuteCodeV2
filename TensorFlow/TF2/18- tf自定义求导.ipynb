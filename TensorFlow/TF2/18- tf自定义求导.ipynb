{
 "cells": [
  {
   "cell_type": "code",
   "execution_count": 1,
   "metadata": {},
   "outputs": [
    {
     "name": "stdout",
     "output_type": "stream",
     "text": [
      "2.0.0\n",
      "sys.version_info(major=3, minor=6, micro=9, releaselevel='final', serial=0)\n",
      "matplotlib 3.1.2\n",
      "numpy 1.17.4\n",
      "pandas 0.25.3\n",
      "sklearn 0.22\n",
      "tensorflow 2.0.0\n",
      "tensorflow_core.keras 2.2.4-tf\n"
     ]
    },
    {
     "data": {
      "text/plain": [
       "False"
      ]
     },
     "execution_count": 1,
     "metadata": {},
     "output_type": "execute_result"
    }
   ],
   "source": [
    "import matplotlib as mpl\n",
    "import matplotlib.pyplot as plt\n",
    "%matplotlib inline\n",
    "import numpy as np\n",
    "import sklearn\n",
    "import pandas as pd\n",
    "import os\n",
    "import sys\n",
    "import time\n",
    "import tensorflow as tf\n",
    "\n",
    "from tensorflow import keras\n",
    "\n",
    "print(tf.__version__)\n",
    "print(sys.version_info)\n",
    "for module in mpl,np,pd,sklearn,tf,keras:\n",
    "    print(module.__name__,module.__version__)\n",
    "\n",
    "tf.test.is_gpu_available()"
   ]
  },
  {
   "cell_type": "code",
   "execution_count": 2,
   "metadata": {},
   "outputs": [
    {
     "data": {
      "text/plain": [
       "9.999999999999343"
      ]
     },
     "execution_count": 2,
     "metadata": {},
     "output_type": "execute_result"
    }
   ],
   "source": [
    "# 初中时的近似求导法:求一元函数的导数\n",
    "def f(x):\n",
    "    return 4. * x**2 + 2*x -3\n",
    "\n",
    "def approximate_derivative(func,x,eps=1e-3):\n",
    "    return (func(x+eps)- func(x-eps))/(2.*eps)\n",
    "\n",
    "approximate_derivative(f,1)"
   ]
  },
  {
   "cell_type": "code",
   "execution_count": 3,
   "metadata": {},
   "outputs": [
    {
     "name": "stdout",
     "output_type": "stream",
     "text": [
      "(8.999999999993236, 41.999999999994486)\n"
     ]
    }
   ],
   "source": [
    "# 用近似法求多元函数的导数\n",
    "def g(x1,x2):\n",
    "    return (x1 + 5) * (x2 ** 2)\n",
    "\n",
    "def approximate_gradient(gfunc,x1,x2,eps=1e-3):\n",
    "    dg_x1 = approximate_derivative(lambda x:g(x,x2),x1) # 求g对x1的偏导\n",
    "    dg_x2 = approximate_derivative(lambda x:g(x1,x),x2) # 求g对x2的偏导\n",
    "    return dg_x1,dg_x2\n",
    "print(approximate_gradient(g,2.,3.))"
   ]
  },
  {
   "cell_type": "markdown",
   "metadata": {},
   "source": [
    "# 使用tf.GradientTape来实现自动求导"
   ]
  },
  {
   "cell_type": "code",
   "execution_count": 5,
   "metadata": {},
   "outputs": [
    {
     "name": "stdout",
     "output_type": "stream",
     "text": [
      "tf.Tensor(9.0, shape=(), dtype=float32)\n",
      "GradientTape.gradient can only be called once on non-persistent tapes.\n"
     ]
    }
   ],
   "source": [
    "x1 = tf.Variable(2.0)\n",
    "x2 = tf.Variable(3.0)\n",
    "with tf.GradientTape() as tape:\n",
    "    z = g(x1,x2)\n",
    "# 使用tape求x1的偏导\n",
    "dg_x1 = tape.gradient(z,x1)\n",
    "print(dg_x1)\n",
    "\n",
    "# 在没有指定tf.GradientTape()persistent=True时,这个tape只能使用一次\n",
    "try:\n",
    "    dg_x2 = tape.gradient(z,x2)\n",
    "except RuntimeError as ex:\n",
    "    print(ex)"
   ]
  },
  {
   "cell_type": "code",
   "execution_count": 8,
   "metadata": {},
   "outputs": [
    {
     "name": "stdout",
     "output_type": "stream",
     "text": [
      "tf.Tensor(9.0, shape=(), dtype=float32)\n",
      "tf.Tensor(42.0, shape=(), dtype=float32)\n"
     ]
    }
   ],
   "source": [
    "# 如果要让tap使用多次，需要设置persistent=True，同时需要自己手动释放tape\n",
    "x1 = tf.Variable(2.0)\n",
    "x2 = tf.Variable(3.0)\n",
    "with tf.GradientTape(persistent=True) as tape:\n",
    "    z = g(x1,x2)\n",
    "# 使用tape求x1的偏导\n",
    "dg_x1 = tape.gradient(z,x1)\n",
    "print(dg_x1)\n",
    "\n",
    "# 现在可以使用tape求x2的偏导\n",
    "dg_x2 = tape.gradient(z,x2)\n",
    "print(dg_x2)\n",
    "\n",
    "# 需要手动释放tape\n",
    "del tape"
   ]
  },
  {
   "cell_type": "code",
   "execution_count": 10,
   "metadata": {},
   "outputs": [
    {
     "name": "stdout",
     "output_type": "stream",
     "text": [
      "[<tf.Tensor: id=155, shape=(), dtype=float32, numpy=9.0>, <tf.Tensor: id=161, shape=(), dtype=float32, numpy=42.0>]\n"
     ]
    }
   ],
   "source": [
    "# 上面是分别对x1和x2求偏导，那么可以同时对x1和x2求偏导吗\n",
    "x1 = tf.Variable(2.0)\n",
    "x2 = tf.Variable(3.0)\n",
    "with tf.GradientTape() as tape:\n",
    "    z = g(x1,x2)\n",
    "dg_x1x2 = tape.gradient(z,[x1,x2])\n",
    "print(dg_x1x2)"
   ]
  },
  {
   "cell_type": "code",
   "execution_count": 11,
   "metadata": {},
   "outputs": [
    {
     "name": "stdout",
     "output_type": "stream",
     "text": [
      "[<tf.Tensor: id=170, shape=(), dtype=float32, numpy=9.0>, <tf.Tensor: id=176, shape=(), dtype=float32, numpy=42.0>]\n"
     ]
    }
   ],
   "source": [
    "# 如果x1和x2定义的是常量类型，那么可以求偏导吗\n",
    "x1 = tf.constant(2.0)\n",
    "x2 = tf.constant(3.0)\n",
    "with tf.GradientTape() as tape:\n",
    "    # 需要对常量设置单独的关注，不然是无法对常量类型求偏导的\n",
    "    tape.watch(x1)\n",
    "    tape.watch(x2)\n",
    "    z = g(x1,x2)\n",
    "dg_x1x2 = tape.gradient(z,[x1,x2])\n",
    "print(dg_x1x2)"
   ]
  },
  {
   "cell_type": "code",
   "execution_count": 12,
   "metadata": {},
   "outputs": [
    {
     "name": "stdout",
     "output_type": "stream",
     "text": [
      "tf.Tensor(13.0, shape=(), dtype=float32)\n"
     ]
    }
   ],
   "source": [
    "# 多核函数公用一个变量，可以分别求每个函数对于这个变量的导数\n",
    "x = tf.Variable(5.0)\n",
    "with tf.GradientTape() as tape:\n",
    "    z1 = 3 * x\n",
    "    z2 = x ** 2\n",
    "dz1z2_x = tape.gradient([z1,z2],x)\n",
    "print(dz1z2_x) # 得出来的结果是dz1_x的值3加上dz2_x的值10的和：13"
   ]
  },
  {
   "cell_type": "code",
   "execution_count": 15,
   "metadata": {},
   "outputs": [
    {
     "name": "stdout",
     "output_type": "stream",
     "text": [
      "[[None, <tf.Tensor: id=294, shape=(), dtype=float32, numpy=6.0>], [<tf.Tensor: id=305, shape=(), dtype=float32, numpy=6.0>, <tf.Tensor: id=303, shape=(), dtype=float32, numpy=14.0>]]\n"
     ]
    }
   ],
   "source": [
    "# 求多阶导数\n",
    "x1 = tf.Variable(2.0)\n",
    "x2 = tf.Variable(3.0)\n",
    "# 才用嵌套的方式求多阶导数\n",
    "with tf.GradientTape(persistent=True) as out_tape:\n",
    "    with tf.GradientTape(persistent=True) as inner_tape:\n",
    "        z = g(x1,x2)\n",
    "    # 在求z对于x1和x2的一阶导数\n",
    "    inner_grads = inner_tape.gradient(z,[x1,x2]) \n",
    "out_grads = [out_tape.gradient(inner_grad,[x1,x2]) for inner_grad in inner_grads]\n",
    "print(out_grads)\n",
    "# 返回结果是一个2 * 2 的矩阵：\n",
    "# 矩阵[0,0]位置代表的是先对x1求一阶导数然后在对x1求二阶导数\n",
    "# 矩阵[0,1]位置代表的是先对x2求一阶导数然后在对x1求一阶导数\n",
    "del inner_tape\n",
    "del out_tape"
   ]
  },
  {
   "cell_type": "markdown",
   "metadata": {},
   "source": [
    "# 使用自动求导来模拟梯度下降，寻找极值点"
   ]
  },
  {
   "cell_type": "code",
   "execution_count": 16,
   "metadata": {},
   "outputs": [
    {
     "name": "stdout",
     "output_type": "stream",
     "text": [
      "<tf.Variable 'Variable:0' shape=() dtype=float32, numpy=-0.24994019>\n"
     ]
    }
   ],
   "source": [
    "learning_rate = 0.01\n",
    "x = tf.Variable(0.0)\n",
    "for _ in range(100): # 梯度下降100次\n",
    "    with tf.GradientTape() as tape:\n",
    "        z = f(x) # 这个就相当于损失函数，我们要找的就是损失函数的极小值点时x的取值：理论上应该是-0.25\n",
    "    dz_x = tape.gradient(z,x) # 求导\n",
    "    # 梯度下降\n",
    "    x.assign_sub(learning_rate * dz_x)\n",
    "# 在训练100次后x的取值\n",
    "print(x) # 理论值应该是0.25"
   ]
  },
  {
   "cell_type": "markdown",
   "metadata": {},
   "source": [
    "# 将梯度下降和optimizer结合起来一起使用"
   ]
  },
  {
   "cell_type": "code",
   "execution_count": 17,
   "metadata": {},
   "outputs": [
    {
     "name": "stdout",
     "output_type": "stream",
     "text": [
      "<tf.Variable 'Variable:0' shape=() dtype=float32, numpy=-0.24994019>\n"
     ]
    }
   ],
   "source": [
    "learning_rate = 0.01\n",
    "x = tf.Variable(0.0)\n",
    "# 定义一个optimizer\n",
    "optimizer = tf.optimizers.SGD(learning_rate)\n",
    "for _ in range(100):\n",
    "    with tf.GradientTape() as tape:\n",
    "        z = f(x)\n",
    "    dz_dx = tape.gradient(z,x)\n",
    "    # 使用optimizer来进行梯度下降\n",
    "    optimizer.apply_gradients([(dz_dx,x)])\n",
    "print(x) # 结果和上面一致"
   ]
  }
 ],
 "metadata": {
  "kernelspec": {
   "display_name": "Python 3",
   "language": "python",
   "name": "python3"
  },
  "language_info": {
   "codemirror_mode": {
    "name": "ipython",
    "version": 3
   },
   "file_extension": ".py",
   "mimetype": "text/x-python",
   "name": "python",
   "nbconvert_exporter": "python",
   "pygments_lexer": "ipython3",
   "version": "3.7.4"
  }
 },
 "nbformat": 4,
 "nbformat_minor": 2
}
