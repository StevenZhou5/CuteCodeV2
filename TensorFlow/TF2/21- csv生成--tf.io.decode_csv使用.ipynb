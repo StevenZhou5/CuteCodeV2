{
 "cells": [
  {
   "cell_type": "code",
   "execution_count": 1,
   "metadata": {},
   "outputs": [
    {
     "name": "stdout",
     "output_type": "stream",
     "text": [
      "2.0.0\n",
      "sys.version_info(major=3, minor=6, micro=9, releaselevel='final', serial=0)\n",
      "matplotlib 3.1.2\n",
      "numpy 1.17.4\n",
      "pandas 0.25.3\n",
      "sklearn 0.22\n",
      "tensorflow 2.0.0\n",
      "tensorflow_core.keras 2.2.4-tf\n"
     ]
    },
    {
     "data": {
      "text/plain": [
       "False"
      ]
     },
     "execution_count": 1,
     "metadata": {},
     "output_type": "execute_result"
    }
   ],
   "source": [
    "import matplotlib as mpl\n",
    "import matplotlib.pyplot as plt\n",
    "%matplotlib inline\n",
    "import numpy as np\n",
    "import sklearn\n",
    "import pandas as pd\n",
    "import os\n",
    "import sys\n",
    "import time\n",
    "import tensorflow as tf\n",
    "\n",
    "from tensorflow import keras\n",
    "\n",
    "print(tf.__version__)\n",
    "print(sys.version_info)\n",
    "for module in mpl,np,pd,sklearn,tf,keras:\n",
    "    print(module.__name__,module.__version__)\n",
    "\n",
    "tf.test.is_gpu_available()"
   ]
  },
  {
   "cell_type": "code",
   "execution_count": 2,
   "metadata": {},
   "outputs": [
    {
     "name": "stdout",
     "output_type": "stream",
     "text": [
      ".. _california_housing_dataset:\n",
      "\n",
      "California Housing dataset\n",
      "--------------------------\n",
      "\n",
      "**Data Set Characteristics:**\n",
      "\n",
      "    :Number of Instances: 20640\n",
      "\n",
      "    :Number of Attributes: 8 numeric, predictive attributes and the target\n",
      "\n",
      "    :Attribute Information:\n",
      "        - MedInc        median income in block\n",
      "        - HouseAge      median house age in block\n",
      "        - AveRooms      average number of rooms\n",
      "        - AveBedrms     average number of bedrooms\n",
      "        - Population    block population\n",
      "        - AveOccup      average house occupancy\n",
      "        - Latitude      house block latitude\n",
      "        - Longitude     house block longitude\n",
      "\n",
      "    :Missing Attribute Values: None\n",
      "\n",
      "This dataset was obtained from the StatLib repository.\n",
      "http://lib.stat.cmu.edu/datasets/\n",
      "\n",
      "The target variable is the median house value for California districts.\n",
      "\n",
      "This dataset was derived from the 1990 U.S. census, using one row per census\n",
      "block group. A block group is the smallest geographical unit for which the U.S.\n",
      "Census Bureau publishes sample data (a block group typically has a population\n",
      "of 600 to 3,000 people).\n",
      "\n",
      "It can be downloaded/loaded using the\n",
      ":func:`sklearn.datasets.fetch_california_housing` function.\n",
      "\n",
      ".. topic:: References\n",
      "\n",
      "    - Pace, R. Kelley and Ronald Barry, Sparse Spatial Autoregressions,\n",
      "      Statistics and Probability Letters, 33 (1997) 291-297\n",
      "\n",
      "(20640, 8)\n",
      "(20640,)\n"
     ]
    }
   ],
   "source": [
    "# 在打开网址时出现和ssl证书相关的问题时，需要加上这句话\n",
    "import ssl\n",
    "ssl._create_default_https_context = ssl._create_unverified_context\n",
    "# 采用房屋预测模型数据\n",
    "from sklearn.datasets import fetch_california_housing\n",
    "housing = fetch_california_housing()\n",
    "print(housing.DESCR)\n",
    "print(housing.data.shape)\n",
    "print(housing.target.shape)"
   ]
  },
  {
   "cell_type": "code",
   "execution_count": 3,
   "metadata": {},
   "outputs": [
    {
     "name": "stdout",
     "output_type": "stream",
     "text": [
      "(11610, 8) (11610,)\n",
      "(3870, 8) (3870,)\n",
      "(5160, 8) (5160,)\n"
     ]
    }
   ],
   "source": [
    "from sklearn.model_selection import train_test_split\n",
    "\n",
    "x_train_all,x_test,y_train_all,y_test = train_test_split(\n",
    "    housing.data,housing.target,random_state = 7)\n",
    "x_train,x_valid,y_train,y_valid = train_test_split(\n",
    "    x_train_all,y_train_all,random_state = 11)\n",
    "print(x_train.shape,y_train.shape)\n",
    "print(x_valid.shape,y_valid.shape)\n",
    "print(x_test.shape,y_test.shape)"
   ]
  },
  {
   "cell_type": "code",
   "execution_count": 4,
   "metadata": {},
   "outputs": [],
   "source": [
    "# 进行数据归一化处理\n",
    "from sklearn.preprocessing import StandardScaler\n",
    "\n",
    "scaler = StandardScaler()\n",
    "x_train_scaled = scaler.fit_transform(x_train)\n",
    "x_valid_scaled = scaler.fit_transform(x_valid)\n",
    "x_test_scaled = scaler.fit_transform(x_test)"
   ]
  },
  {
   "cell_type": "markdown",
   "metadata": {},
   "source": [
    "### 生成csv文件"
   ]
  },
  {
   "cell_type": "code",
   "execution_count": 5,
   "metadata": {},
   "outputs": [],
   "source": [
    "output_dir = \"generate_csv\"\n",
    "if not os.path.exists(output_dir):\n",
    "    os.mkdir(output_dir)\n",
    "\n",
    "def save_to_csv(output_dir,\n",
    "                data, # dataset\n",
    "                name_prefix, # test,train,valid要分别生成对应的csv文件，用name_prefix前缀来做个区分\n",
    "                header=None, # \n",
    "                n_parts=10 # n_parts切分成10个文件进行存储\n",
    "               ):\n",
    "    # 用path_format来去生成文件名 : 第一{}填name_prefix，第二个{:02d}要填写一个两位的整数用于表示是第几个part\n",
    "    path_format = os.path.join(output_dir,\"{}_{:02d}.csv\")\n",
    "    filenames = [] # 把文件名都返回回去\n",
    "    for file_idx, row_indices in enumerate(np.array_split(np.arange(len(data)),n_parts)):\n",
    "        part_csv = path_format.format(name_prefix,file_idx)\n",
    "        filenames.append(part_csv)\n",
    "        with open(part_csv,'wt',encoding='utf-8') as f:\n",
    "            if header is not None:\n",
    "                f.write(header + '\\n') # 把header信息写进去\n",
    "            for row_index in row_indices: # 遍历行索引，取出每一行数据，然后写入文件中\n",
    "                    f.write(\",\".join(\n",
    "                        repr(col) for col in data[row_index])) # repr(obj)函数将对象转化为供解释器读取的形式。\n",
    "                    f.write(\"\\n\")\n",
    "    return filenames\n",
    "\n",
    "# 把x和y的数据进行merge\n",
    "train_data = np.c_[x_train_scaled,y_train]\n",
    "valid_data = np.c_[x_valid_scaled,y_valid]\n",
    "test_data = np.c_[x_test_scaled,y_test]\n",
    "\n",
    "# header里面都有什么可以从housing的数据集去获取:housing.feature_names\n",
    "header_cols = housing.feature_names + [\"MidianHouseValue\"] \n",
    "header_str = ','.join(header_cols)\n",
    "\n",
    "# 存储文件\n",
    "train_filenames = save_to_csv(output_dir,train_data,\"train\",\n",
    "                              header_str, n_parts = 20)\n",
    "valid_filenames = save_to_csv(output_dir,valid_data,\"valid\",\n",
    "                              header_str,n_parts = 10)\n",
    "test_filenames = save_to_csv(output_dir,test_data,'test',\n",
    "                             header_str,n_parts = 10)\n"
   ]
  },
  {
   "cell_type": "code",
   "execution_count": 6,
   "metadata": {},
   "outputs": [
    {
     "name": "stdout",
     "output_type": "stream",
     "text": [
      "['MedInc', 'HouseAge', 'AveRooms', 'AveBedrms', 'Population', 'AveOccup', 'Latitude', 'Longitude', 'MidianHouseValue']\n"
     ]
    }
   ],
   "source": [
    "print(housing.feature_names + [\"MidianHouseValue\"] )"
   ]
  },
  {
   "cell_type": "code",
   "execution_count": 7,
   "metadata": {},
   "outputs": [
    {
     "name": "stdout",
     "output_type": "stream",
     "text": [
      "0\n",
      "1\n",
      "2\n",
      "3\n",
      "4\n",
      "5\n",
      "6\n",
      "7\n",
      "8\n",
      "9\n"
     ]
    }
   ],
   "source": [
    "for idx , item  in enumerate(np.split(np.arange(len(train_data)),10)):\n",
    "    print(idx)"
   ]
  },
  {
   "cell_type": "markdown",
   "metadata": {},
   "source": [
    "# tf.io.decode_csv使用"
   ]
  },
  {
   "cell_type": "code",
   "execution_count": 9,
   "metadata": {},
   "outputs": [
    {
     "name": "stdout",
     "output_type": "stream",
     "text": [
      "训练数据集文件名称：\n",
      "['generate_csv/train_00.csv',\n",
      " 'generate_csv/train_01.csv',\n",
      " 'generate_csv/train_02.csv',\n",
      " 'generate_csv/train_03.csv',\n",
      " 'generate_csv/train_04.csv',\n",
      " 'generate_csv/train_05.csv',\n",
      " 'generate_csv/train_06.csv',\n",
      " 'generate_csv/train_07.csv',\n",
      " 'generate_csv/train_08.csv',\n",
      " 'generate_csv/train_09.csv',\n",
      " 'generate_csv/train_10.csv',\n",
      " 'generate_csv/train_11.csv',\n",
      " 'generate_csv/train_12.csv',\n",
      " 'generate_csv/train_13.csv',\n",
      " 'generate_csv/train_14.csv',\n",
      " 'generate_csv/train_15.csv',\n",
      " 'generate_csv/train_16.csv',\n",
      " 'generate_csv/train_17.csv',\n",
      " 'generate_csv/train_18.csv',\n",
      " 'generate_csv/train_19.csv']\n",
      "验证数据集文件名称：\n",
      "['generate_csv/valid_00.csv',\n",
      " 'generate_csv/valid_01.csv',\n",
      " 'generate_csv/valid_02.csv',\n",
      " 'generate_csv/valid_03.csv',\n",
      " 'generate_csv/valid_04.csv',\n",
      " 'generate_csv/valid_05.csv',\n",
      " 'generate_csv/valid_06.csv',\n",
      " 'generate_csv/valid_07.csv',\n",
      " 'generate_csv/valid_08.csv',\n",
      " 'generate_csv/valid_09.csv']\n",
      "测试数据集文件名称：\n",
      "['generate_csv/test_00.csv',\n",
      " 'generate_csv/test_01.csv',\n",
      " 'generate_csv/test_02.csv',\n",
      " 'generate_csv/test_03.csv',\n",
      " 'generate_csv/test_04.csv',\n",
      " 'generate_csv/test_05.csv',\n",
      " 'generate_csv/test_06.csv',\n",
      " 'generate_csv/test_07.csv',\n",
      " 'generate_csv/test_08.csv',\n",
      " 'generate_csv/test_09.csv']\n"
     ]
    }
   ],
   "source": [
    "import pprint\n",
    "print(\"训练数据集文件名称：\")\n",
    "pprint.pprint(train_filenames)\n",
    "print(\"验证数据集文件名称：\")\n",
    "pprint.pprint(valid_filenames)\n",
    "print(\"测试数据集文件名称：\")\n",
    "pprint.pprint(test_filenames)"
   ]
  },
  {
   "cell_type": "markdown",
   "metadata": {},
   "source": [
    "# 如何将存储的csv文件变成dataset"
   ]
  },
  {
   "cell_type": "code",
   "execution_count": 11,
   "metadata": {},
   "outputs": [
    {
     "name": "stdout",
     "output_type": "stream",
     "text": [
      "tf.Tensor(b'generate_csv/train_17.csv', shape=(), dtype=string)\n",
      "tf.Tensor(b'generate_csv/train_12.csv', shape=(), dtype=string)\n",
      "tf.Tensor(b'generate_csv/train_14.csv', shape=(), dtype=string)\n",
      "tf.Tensor(b'generate_csv/train_18.csv', shape=(), dtype=string)\n",
      "tf.Tensor(b'generate_csv/train_16.csv', shape=(), dtype=string)\n",
      "tf.Tensor(b'generate_csv/train_06.csv', shape=(), dtype=string)\n",
      "tf.Tensor(b'generate_csv/train_15.csv', shape=(), dtype=string)\n",
      "tf.Tensor(b'generate_csv/train_01.csv', shape=(), dtype=string)\n",
      "tf.Tensor(b'generate_csv/train_10.csv', shape=(), dtype=string)\n",
      "tf.Tensor(b'generate_csv/train_11.csv', shape=(), dtype=string)\n",
      "tf.Tensor(b'generate_csv/train_05.csv', shape=(), dtype=string)\n",
      "tf.Tensor(b'generate_csv/train_09.csv', shape=(), dtype=string)\n",
      "tf.Tensor(b'generate_csv/train_07.csv', shape=(), dtype=string)\n",
      "tf.Tensor(b'generate_csv/train_13.csv', shape=(), dtype=string)\n",
      "tf.Tensor(b'generate_csv/train_03.csv', shape=(), dtype=string)\n",
      "tf.Tensor(b'generate_csv/train_00.csv', shape=(), dtype=string)\n",
      "tf.Tensor(b'generate_csv/train_08.csv', shape=(), dtype=string)\n",
      "tf.Tensor(b'generate_csv/train_04.csv', shape=(), dtype=string)\n",
      "tf.Tensor(b'generate_csv/train_19.csv', shape=(), dtype=string)\n",
      "tf.Tensor(b'generate_csv/train_02.csv', shape=(), dtype=string)\n"
     ]
    }
   ],
   "source": [
    "# 1. filename -> dataset\n",
    "# 2. read file -> dataset -> datatsets -> merge\n",
    "# 3. parse csv:解析csv文件\n",
    "\n",
    "filename_dataset = tf.data.Dataset.list_files(train_filenames)\n",
    "for filename in filename_dataset:\n",
    "    print(filename)"
   ]
  },
  {
   "cell_type": "code",
   "execution_count": 13,
   "metadata": {},
   "outputs": [
    {
     "name": "stdout",
     "output_type": "stream",
     "text": [
      "tf.Tensor(b'-0.09719300311107498,-1.249743071766074,0.36232962250170797,0.026906080250728295,1.033811814747154,0.045881586971778555,1.3418334617377423,-1.6353869745909178,1.832', shape=(), dtype=string)\n",
      "tf.Tensor(b'0.42408210084996534,0.9129633171802288,-0.04437481876046234,-0.15297213746739335,-0.24727627804141977,-0.10539166599677323,0.8612674255663844,-1.3357789003702432,3.955', shape=(), dtype=string)\n",
      "tf.Tensor(b'-0.32652634129448693,0.43236189741438374,-0.09345459539684739,-0.08402991822890092,0.8460035745154013,-0.0266316482653991,-0.5617679242614233,0.1422875991184281,2.431', shape=(), dtype=string)\n",
      "tf.Tensor(b'0.04971034572063198,-0.8492418886278699,-0.06214699417830008,0.17878747064657746,-0.8025354230744277,0.0005066066922077538,0.6466457006743215,-1.1060793768010604,2.286', shape=(), dtype=string)\n",
      "tf.Tensor(b'-1.0591781535672364,1.393564736946074,-0.026331968874673636,-0.11006759528831847,-0.6138198966579805,-0.09695934953589447,0.3247131133362288,-0.037477245413977976,0.672', shape=(), dtype=string)\n",
      "tf.Tensor(b'1.0534699704183814,-0.1283397589791022,0.13509497508586193,-0.2852867771449356,-0.37066719915986596,-0.017744041396267323,0.7586222527919203,-1.1510205879341566,2.674', shape=(), dtype=string)\n",
      "tf.Tensor(b'0.4369234889778008,-1.9706452014148417,-0.1664210569911193,0.05486205164394496,-0.8379195842775115,-0.1323988058685803,-0.9956770637171147,0.941242463706905,1.73', shape=(), dtype=string)\n",
      "tf.Tensor(b'2.2754266257529974,-1.249743071766074,1.0294788075585177,-0.17124431895714504,-0.45413752815175606,0.10527151658164971,-0.9023632702857819,0.9012947204774823,3.798', shape=(), dtype=string)\n",
      "tf.Tensor(b'-1.453851024367546,1.874166156711919,-1.1315714708271856,0.3611276016530489,-0.3978857847006997,-0.03273859332533962,-0.7390641317809511,0.646627857389904,1.875', shape=(), dtype=string)\n",
      "tf.Tensor(b'-0.2223565745313433,1.393564736946074,0.02991299565857307,0.0801452044790158,-0.509481985418118,-0.06238599304952824,-0.86503775291325,0.8613469772480595,2.0', shape=(), dtype=string)\n",
      "tf.Tensor(b'-0.8698076415077927,-0.44874070548966555,0.9621267572121975,3.9409717092762584,-0.9740125119816802,-0.09383082108319943,-0.6690787867074531,1.6752822455475638,0.425', shape=(), dtype=string)\n",
      "tf.Tensor(b'-0.49303811681102094,-1.5701440182766375,-0.6933897788607161,0.16277645579446545,0.3279431630548662,-0.08806528786307917,-0.86503775291325,0.6366409215825501,2.033', shape=(), dtype=string)\n",
      "tf.Tensor(b'-0.4394346460367383,0.1920611875314612,-0.39172440230167493,-0.06233787211356993,0.682692061270399,-0.012080008421921133,0.935918460311448,-1.2458964781040367,1.618', shape=(), dtype=string)\n",
      "tf.Tensor(b'-1.1179501498535522,0.3522616607867429,-0.17415480367337632,0.1029357335256435,-0.24364713330264193,-0.06195252491676357,1.9063819119972951,-1.1210597805120879,0.603', shape=(), dtype=string)\n",
      "tf.Tensor(b'0.199384450496934,1.0731637904355105,-0.19840853933562783,-0.29328906965393414,-0.07852104768825069,0.018804888420646343,0.8006134598360177,-1.1510205879341566,1.99', shape=(), dtype=string)\n"
     ]
    }
   ],
   "source": [
    "n_readers = 5\n",
    "dataset = filename_dataset.interleave(\n",
    "    lambda filename: tf.data.TextLineDataset(filename).skip(1), # 按行读取然后生成一个dataset;skip(1)是为了不读取第一行的header\n",
    "    cycle_length = n_readers\n",
    ")\n",
    "for line in dataset.take(15): # 取出15条出来看一下\n",
    "    print(line)"
   ]
  },
  {
   "cell_type": "code",
   "execution_count": 16,
   "metadata": {},
   "outputs": [
    {
     "name": "stdout",
     "output_type": "stream",
     "text": [
      "[<tf.Tensor: id=160, shape=(), dtype=int32, numpy=1>, <tf.Tensor: id=161, shape=(), dtype=int32, numpy=2>, <tf.Tensor: id=162, shape=(), dtype=float32, numpy=3.0>, <tf.Tensor: id=163, shape=(), dtype=string, numpy=b'4'>, <tf.Tensor: id=164, shape=(), dtype=float32, numpy=5.0>]\n",
      "[<tf.Tensor: id=169, shape=(), dtype=int32, numpy=1>, <tf.Tensor: id=170, shape=(), dtype=int32, numpy=2>, <tf.Tensor: id=171, shape=(), dtype=float32, numpy=3.0>, <tf.Tensor: id=172, shape=(), dtype=string, numpy=b'4'>, <tf.Tensor: id=173, shape=(), dtype=float32, numpy=5.0>]\n"
     ]
    }
   ],
   "source": [
    "# 因为csv文件都是字符串，我们需要把字符转中对应的数据转换成我们想要的数据类型，\n",
    "# 所以我们需要使用下面的方法来进行解析csv文件\n",
    "# tf.io.decode_csv(str,record_defaults) # record_defaults是一个列表，用来指定每一个','分割的数据的数据类型和默认值\n",
    "sample_str = '1,2,3,4,5'\n",
    "# 通过record_defaults 指定每个要解析的数据的数据类型和默认值\n",
    "# record_defaults = [tf.constant(0, dtype=tf.int32)] * 5 # 这种是默认都是整型\n",
    "record_defaults = [\n",
    "    tf.constant(0,dtype=tf.int32),\n",
    "    0, # int32，默认为0\n",
    "    np.nan, # float32，\n",
    "    'hello', # string,默认'hello'\n",
    "    tf.constant([]) # float32\n",
    "]\n",
    "parsed_filds = tf.io.decode_csv(sample_str,record_defaults)\n",
    "print(parsed_filds)\n",
    "\n",
    "sample_str2 = '1 2 3 4 5'\n",
    "parsed_filds2 = tf.io.decode_csv(sample_str2,record_defaults,field_delim=' ',)\n",
    "print(parsed_filds2)"
   ]
  },
  {
   "cell_type": "code",
   "execution_count": 18,
   "metadata": {},
   "outputs": [
    {
     "name": "stdout",
     "output_type": "stream",
     "text": [
      "Field 4 is required but missing in record 0! [Op:DecodeCSV]\n"
     ]
    }
   ],
   "source": [
    "# 如果给的值不对，会报错\n",
    "try:\n",
    "    parsed_fields = tf.io.decode_csv(',,,,',record_defaults)\n",
    "except tf.errors.InvalidArgumentError as ex:\n",
    "    print(ex)"
   ]
  },
  {
   "cell_type": "code",
   "execution_count": 19,
   "metadata": {},
   "outputs": [
    {
     "name": "stdout",
     "output_type": "stream",
     "text": [
      "Expect 5 fields but have 7 in record 0 [Op:DecodeCSV]\n"
     ]
    }
   ],
   "source": [
    "# 若干给的值数目不对的话，也会报错\n",
    "try:\n",
    "    parsed_fields = tf.io.decode_csv('1,2,3,4,5,6,7',record_defaults)\n",
    "except tf.errors.InvalidArgumentError as ex:\n",
    "    print(ex)"
   ]
  },
  {
   "cell_type": "markdown",
   "metadata": {},
   "source": [
    "# 现在将我们存储的csv文件读取出来，然后进行解析成dataset"
   ]
  },
  {
   "cell_type": "code",
   "execution_count": 25,
   "metadata": {},
   "outputs": [
    {
     "data": {
      "text/plain": [
       "(<tf.Tensor: id=223, shape=(8,), dtype=float32, numpy=\n",
       " array([-0.097193  , -1.2497431 ,  0.36232963,  0.02690608,  1.0338118 ,\n",
       "         0.04588159,  1.3418335 , -1.635387  ], dtype=float32)>,\n",
       " <tf.Tensor: id=222, shape=(), dtype=float32, numpy=1.832>)"
      ]
     },
     "execution_count": 25,
     "metadata": {},
     "output_type": "execute_result"
    }
   ],
   "source": [
    "def parse_csv_line(line_str,n_fields = 9 ):\n",
    "    record_defaults = [tf.constant(np.nan)] * n_fields # float32\n",
    "    parsed_fields = tf.io.decode_csv(line_str,record_defaults= record_defaults)\n",
    "    x = tf.stack(parsed_fields[0:-1]) # 前八个数是x\n",
    "    y = tf.stack(parsed_fields[-1:]) # 最后一个值时y, 注意这里一定要写成[-1:],不然返回的tensor是一个标量\n",
    "    return x,y\n",
    "\n",
    "parse_csv_line(b'-0.09719300311107498,-1.249743071766074,0.36232962250170797,0.026906080250728295,1.033811814747154,0.045881586971778555,1.3418334617377423,-1.6353869745909178,1.832',\n",
    "               9)"
   ]
  },
  {
   "cell_type": "code",
   "execution_count": 30,
   "metadata": {},
   "outputs": [
    {
     "name": "stdout",
     "output_type": "stream",
     "text": [
      "x:\n",
      "<tf.Tensor: id=560, shape=(3, 8), dtype=float32, numpy=\n",
      "array([[-8.2195884e-01,  1.8741661e+00,  1.8212350e-01, -3.1700194e-02,\n",
      "        -6.0111791e-01, -1.4337493e-01,  1.0852206e+00, -8.6139947e-01],\n",
      "       [-3.2652634e-01,  4.3236190e-01, -9.3454592e-02, -8.4029920e-02,\n",
      "         8.4600359e-01, -2.6631648e-02, -5.6176794e-01,  1.4228760e-01],\n",
      "       [ 4.9710345e-02, -8.4924191e-01, -6.2146995e-02,  1.7878747e-01,\n",
      "        -8.0253541e-01,  5.0660671e-04,  6.4664572e-01, -1.1060793e+00]],\n",
      "      dtype=float32)>\n",
      "y:\n",
      "<tf.Tensor: id=561, shape=(3,), dtype=float32, numpy=array([1.054, 2.431, 2.286], dtype=float32)>\n",
      "x:\n",
      "<tf.Tensor: id=562, shape=(3, 8), dtype=float32, numpy=\n",
      "array([[ 0.8015443 ,  0.27216142, -0.11624393, -0.20231152, -0.5430516 ,\n",
      "        -0.02103962, -0.5897621 , -0.08241846],\n",
      "       [ 0.15782312,  0.4323619 ,  0.3379948 , -0.01588031, -0.37338907,\n",
      "        -0.05305246,  0.80061346, -1.2359096 ],\n",
      "       [-0.46794146, -0.92934215,  0.11909926, -0.06047011,  0.30344644,\n",
      "        -0.02185189,  1.8737221 , -1.0411643 ]], dtype=float32)>\n",
      "y:\n",
      "<tf.Tensor: id=563, shape=(3,), dtype=float32, numpy=array([3.226, 3.169, 1.012], dtype=float32)>\n"
     ]
    }
   ],
   "source": [
    "# 1. filename -> dataset\n",
    "# 2. read file -> dataset -> datatsets -> merge\n",
    "# 3. parse csv:解析csv文件\n",
    "def csv_reader_dataset(filenames,n_readers=5,\n",
    "                       batch_size = 32, n_parse_threads = 5,\n",
    "                       shuffle_buffer_size = 10000):\n",
    "    dataset = tf.data.Dataset.list_files(filenames)\n",
    "    dataset = dataset.repeat() # 不传参数就是重复无限次\n",
    "    dataset = dataset.interleave(\n",
    "        lambda filename: tf.data.TextLineDataset(filename).skip(1),\n",
    "        cycle_length = n_readers\n",
    "    )\n",
    "    dataset.shuffle(shuffle_buffer_size) # 混排，\n",
    "    # dataset.map 就是把dataset中的每一个元素进行一个操作返回一个新的值:interleave是一对多,map是一对一\n",
    "    dataset = dataset.map(parse_csv_line, # map只会给parse_csv_line传一个参数\n",
    "                          num_parallel_calls = n_parse_threads)\n",
    "    dataset = dataset.batch(batch_size)\n",
    "    return dataset\n",
    "\n",
    "train_set = csv_reader_dataset(train_filenames,batch_size=3)\n",
    "for x_batch, y_batch in train_set.take(2):\n",
    "    print('x:')\n",
    "    pprint.pprint(x_batch)\n",
    "    print('y:')\n",
    "    pprint.pprint(y_batch)"
   ]
  },
  {
   "cell_type": "code",
   "execution_count": 33,
   "metadata": {},
   "outputs": [],
   "source": [
    "batch_size = 32\n",
    "train_set = csv_reader_dataset(train_filenames,batch_size = batch_size)\n",
    "valid_set = csv_reader_dataset(valid_filenames,batch_size = batch_size)\n",
    "test_set = csv_reader_dataset(test_filenames,batch_size = batch_size)"
   ]
  },
  {
   "cell_type": "code",
   "execution_count": 38,
   "metadata": {},
   "outputs": [
    {
     "data": {
      "text/plain": [
       "<DatasetV1Adapter shapes: ((None, 8), (None,)), types: (tf.float32, tf.float32)>"
      ]
     },
     "execution_count": 38,
     "metadata": {},
     "output_type": "execute_result"
    }
   ],
   "source": [
    "train_set.take(1)"
   ]
  },
  {
   "cell_type": "code",
   "execution_count": 41,
   "metadata": {},
   "outputs": [
    {
     "name": "stdout",
     "output_type": "stream",
     "text": [
      "Model: \"sequential_2\"\n",
      "_________________________________________________________________\n",
      "Layer (type)                 Output Shape              Param #   \n",
      "=================================================================\n",
      "dense_4 (Dense)              (None, 30)                270       \n",
      "_________________________________________________________________\n",
      "dense_5 (Dense)              (None, 1)                 31        \n",
      "=================================================================\n",
      "Total params: 301\n",
      "Trainable params: 301\n",
      "Non-trainable params: 0\n",
      "_________________________________________________________________\n",
      "Train for 348 steps, validate for 120 steps\n",
      "Epoch 1/100\n",
      "348/348 [==============================] - 1s 2ms/step - loss: 0.7926 - val_loss: 0.5955\n",
      "Epoch 2/100\n",
      "348/348 [==============================] - 0s 1ms/step - loss: 0.4960 - val_loss: 0.4625\n",
      "Epoch 3/100\n",
      "348/348 [==============================] - 0s 987us/step - loss: 0.4648 - val_loss: 0.4314\n",
      "Epoch 4/100\n",
      "348/348 [==============================] - 0s 996us/step - loss: 0.4325 - val_loss: 0.4203\n",
      "Epoch 5/100\n",
      "348/348 [==============================] - 0s 994us/step - loss: 0.4312 - val_loss: 0.4231\n",
      "Epoch 6/100\n",
      "348/348 [==============================] - 0s 996us/step - loss: 0.4144 - val_loss: 0.4416\n",
      "Epoch 7/100\n",
      "348/348 [==============================] - 0s 1ms/step - loss: 0.4075 - val_loss: 0.4112\n",
      "Epoch 8/100\n",
      "348/348 [==============================] - 0s 1ms/step - loss: 0.3930 - val_loss: 0.4132\n",
      "Epoch 9/100\n",
      "348/348 [==============================] - 0s 997us/step - loss: 0.3986 - val_loss: 0.4033\n",
      "Epoch 10/100\n",
      "348/348 [==============================] - 0s 1ms/step - loss: 0.3802 - val_loss: 0.4021\n",
      "Epoch 11/100\n",
      "348/348 [==============================] - 0s 996us/step - loss: 0.3990 - val_loss: 0.4166\n",
      "Epoch 12/100\n",
      "348/348 [==============================] - 0s 1ms/step - loss: 0.4786 - val_loss: 0.4884\n",
      "Epoch 13/100\n",
      "348/348 [==============================] - 0s 1ms/step - loss: 0.3895 - val_loss: 0.4155\n",
      "Epoch 14/100\n",
      "348/348 [==============================] - 0s 1ms/step - loss: 0.3960 - val_loss: 0.3960\n"
     ]
    }
   ],
   "source": [
    "model = keras.models.Sequential([\n",
    "    keras.layers.Dense(30,activation = 'relu',\n",
    "                       input_shape = [8]),\n",
    "    keras.layers.Dense(1),\n",
    "])\n",
    "model.summary()\n",
    "model.compile(loss = 'mean_squared_error',optimizer = \"sgd\")\n",
    "callbacks = [keras.callbacks.EarlyStopping(\n",
    "    patience = 5, min_delta=1e-2)]\n",
    "\n",
    "steps_per_epoch = 11160 // batch_size # 遍历一个epoch需要多少step，总的训练数据集的大小 // batch_size\n",
    "history = model.fit(train_set,\n",
    "                    validation_data = valid_set,\n",
    "                    steps_per_epoch = steps_per_epoch,\n",
    "                    validation_steps = 3870 // batch_size,\n",
    "                    epochs = 100,\n",
    "                    callbacks = callbacks)"
   ]
  },
  {
   "cell_type": "code",
   "execution_count": 43,
   "metadata": {},
   "outputs": [
    {
     "name": "stdout",
     "output_type": "stream",
     "text": [
      "161/161 [==============================] - 0s 548us/step - loss: 0.4315\n"
     ]
    },
    {
     "data": {
      "text/plain": [
       "0.4315478506480685"
      ]
     },
     "execution_count": 43,
     "metadata": {},
     "output_type": "execute_result"
    }
   ],
   "source": [
    "model.evaluate(test_set,steps = 5160 // batch_size)"
   ]
  },
  {
   "cell_type": "code",
   "execution_count": null,
   "metadata": {},
   "outputs": [],
   "source": []
  }
 ],
 "metadata": {
  "kernelspec": {
   "display_name": "Python 3",
   "language": "python",
   "name": "python3"
  },
  "language_info": {
   "codemirror_mode": {
    "name": "ipython",
    "version": 3
   },
   "file_extension": ".py",
   "mimetype": "text/x-python",
   "name": "python",
   "nbconvert_exporter": "python",
   "pygments_lexer": "ipython3",
   "version": "3.6.9"
  }
 },
 "nbformat": 4,
 "nbformat_minor": 2
}
