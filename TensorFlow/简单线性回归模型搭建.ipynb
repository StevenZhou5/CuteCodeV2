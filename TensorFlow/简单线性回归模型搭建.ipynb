{
 "cells": [
  {
   "cell_type": "code",
   "execution_count": 2,
   "metadata": {},
   "outputs": [],
   "source": [
    "import tensorflow as tf \n",
    "import numpy as np"
   ]
  },
  {
   "cell_type": "code",
   "execution_count": 3,
   "metadata": {},
   "outputs": [
    {
     "data": {
      "text/plain": [
       "(100,)"
      ]
     },
     "execution_count": 3,
     "metadata": {},
     "output_type": "execute_result"
    }
   ],
   "source": [
    "trainX = np.random.randn(100)\n",
    "# trainX = trainX.reshape(1,100)\n",
    "trainY = 2 * trainX + 5\n",
    "# trainY = trainY.T\n",
    "trainY.shape"
   ]
  },
  {
   "cell_type": "code",
   "execution_count": 4,
   "metadata": {},
   "outputs": [
    {
     "data": {
      "text/plain": [
       "array([ 1.40300092e+00, -1.68604303e+00,  6.49698337e-01,  1.19568318e+00,\n",
       "        2.90942884e-01, -1.28967469e+00, -9.25438529e-01, -4.25152247e-01,\n",
       "       -2.02572804e+00,  8.53134695e-01, -8.00676574e-01,  8.55300929e-01,\n",
       "       -3.65990868e-02,  4.90331784e-01,  3.30915521e-02, -4.64329504e-01,\n",
       "       -1.82151671e+00, -1.87922542e+00, -4.76519461e-01,  5.90968326e-01,\n",
       "       -7.37255856e-01,  1.89205807e-02,  1.15868280e+00, -2.06287012e-01,\n",
       "       -6.39460118e-01, -2.69470478e+00,  1.87942984e+00,  1.38721026e+00,\n",
       "       -1.07339646e+00, -4.70081492e-01,  8.21284727e-01,  5.43721574e-01,\n",
       "       -9.49487843e-03,  6.32528077e-01, -4.74348899e-01,  1.49567808e+00,\n",
       "       -8.03704324e-02,  3.78449624e-01,  1.61412479e+00, -1.84676922e-01,\n",
       "        1.63935958e-01,  4.07326333e-01,  8.69104514e-01, -2.53600388e-01,\n",
       "        1.19502781e+00,  5.27663047e-01,  3.72577731e-01, -1.47784124e-01,\n",
       "        8.54169616e-01, -2.89419884e-01, -1.29782980e-01, -1.28404822e+00,\n",
       "        1.85137617e+00,  7.21500597e-01,  1.11688898e+00, -8.69253410e-01,\n",
       "        8.13633879e-01, -5.49230254e-01, -4.69325434e-01,  9.49692665e-02,\n",
       "       -8.15128963e-01, -2.64451502e-01, -6.72257107e-01, -4.95837752e-02,\n",
       "        1.12766573e+00,  1.04487457e+00, -1.27319700e+00, -8.81251602e-01,\n",
       "       -6.20256553e-01, -4.60216550e-01, -1.08456113e+00,  5.54176149e-01,\n",
       "       -2.18203435e+00, -1.61624520e-01,  1.04098043e+00, -1.40956846e+00,\n",
       "       -1.57638049e+00,  1.16162413e+00,  1.34129094e+00,  6.97313013e-01,\n",
       "       -4.53548863e-01,  6.41245559e-01, -8.93503418e-02,  1.35778048e-01,\n",
       "        6.84685245e-01,  1.23510025e+00, -9.47512157e-02, -2.72914172e-01,\n",
       "       -2.33688423e-02,  1.82952018e+00,  6.80997346e-01, -9.95650101e-01,\n",
       "        8.03273864e-01,  1.75503561e+00, -3.55000078e-01, -8.36167894e-01,\n",
       "        7.00419041e-01,  2.65279218e-03, -3.21073674e-01, -6.17887632e-01])"
      ]
     },
     "execution_count": 4,
     "metadata": {},
     "output_type": "execute_result"
    }
   ],
   "source": [
    "trainX"
   ]
  },
  {
   "cell_type": "code",
   "execution_count": 6,
   "metadata": {},
   "outputs": [
    {
     "name": "stdout",
     "output_type": "stream",
     "text": [
      "Epoch 1/100\n",
      "4/4 [==============================] - 0s 1ms/step - loss: 32.1316\n",
      "Epoch 2/100\n",
      "4/4 [==============================] - 0s 822us/step - loss: 26.5080\n",
      "Epoch 3/100\n",
      "4/4 [==============================] - 0s 999us/step - loss: 21.6153\n",
      "Epoch 4/100\n",
      "4/4 [==============================] - 0s 927us/step - loss: 17.2457\n",
      "Epoch 5/100\n",
      "4/4 [==============================] - 0s 812us/step - loss: 13.5420\n",
      "Epoch 6/100\n",
      "4/4 [==============================] - 0s 838us/step - loss: 10.3369\n",
      "Epoch 7/100\n",
      "4/4 [==============================] - 0s 778us/step - loss: 7.7340\n",
      "Epoch 8/100\n",
      "4/4 [==============================] - 0s 777us/step - loss: 5.7728\n",
      "Epoch 9/100\n",
      "4/4 [==============================] - 0s 815us/step - loss: 4.2262\n",
      "Epoch 10/100\n",
      "4/4 [==============================] - 0s 829us/step - loss: 3.0229\n",
      "Epoch 11/100\n",
      "4/4 [==============================] - 0s 838us/step - loss: 2.1083\n",
      "Epoch 12/100\n",
      "4/4 [==============================] - 0s 734us/step - loss: 1.4385\n",
      "Epoch 13/100\n",
      "4/4 [==============================] - 0s 720us/step - loss: 0.9582\n",
      "Epoch 14/100\n",
      "4/4 [==============================] - 0s 702us/step - loss: 0.6231\n",
      "Epoch 15/100\n",
      "4/4 [==============================] - 0s 766us/step - loss: 0.3936\n",
      "Epoch 16/100\n",
      "4/4 [==============================] - 0s 799us/step - loss: 0.2406\n",
      "Epoch 17/100\n",
      "4/4 [==============================] - 0s 785us/step - loss: 0.1423\n",
      "Epoch 18/100\n",
      "4/4 [==============================] - 0s 730us/step - loss: 0.0800\n",
      "Epoch 19/100\n",
      "4/4 [==============================] - 0s 828us/step - loss: 0.0409\n",
      "Epoch 20/100\n",
      "4/4 [==============================] - 0s 823us/step - loss: 0.0209\n",
      "Epoch 21/100\n",
      "4/4 [==============================] - 0s 807us/step - loss: 0.0084\n",
      "Epoch 22/100\n",
      "4/4 [==============================] - 0s 745us/step - loss: 0.0027\n",
      "Epoch 23/100\n",
      "4/4 [==============================] - 0s 933us/step - loss: 8.2443e-04\n",
      "Epoch 24/100\n",
      "4/4 [==============================] - 0s 836us/step - loss: 4.4202e-04\n",
      "Epoch 25/100\n",
      "4/4 [==============================] - 0s 691us/step - loss: 7.4256e-04\n",
      "Epoch 26/100\n",
      "4/4 [==============================] - 0s 856us/step - loss: 0.0012\n",
      "Epoch 27/100\n",
      "4/4 [==============================] - 0s 750us/step - loss: 0.0013\n",
      "Epoch 28/100\n",
      "4/4 [==============================] - 0s 741us/step - loss: 0.0012\n",
      "Epoch 29/100\n",
      "4/4 [==============================] - 0s 786us/step - loss: 0.0010\n",
      "Epoch 30/100\n",
      "4/4 [==============================] - 0s 734us/step - loss: 7.4454e-04\n",
      "Epoch 31/100\n",
      "4/4 [==============================] - 0s 711us/step - loss: 4.8562e-04\n",
      "Epoch 32/100\n",
      "4/4 [==============================] - 0s 627us/step - loss: 2.8923e-04\n",
      "Epoch 33/100\n",
      "4/4 [==============================] - 0s 686us/step - loss: 1.4774e-04\n",
      "Epoch 34/100\n",
      "4/4 [==============================] - 0s 700us/step - loss: 6.9554e-05\n",
      "Epoch 35/100\n",
      "4/4 [==============================] - 0s 660us/step - loss: 3.1216e-05\n",
      "Epoch 36/100\n",
      "4/4 [==============================] - 0s 740us/step - loss: 1.4312e-05\n",
      "Epoch 37/100\n",
      "4/4 [==============================] - 0s 718us/step - loss: 7.2905e-06\n",
      "Epoch 38/100\n",
      "4/4 [==============================] - 0s 639us/step - loss: 4.5739e-06\n",
      "Epoch 39/100\n",
      "4/4 [==============================] - 0s 625us/step - loss: 3.8553e-06\n",
      "Epoch 40/100\n",
      "4/4 [==============================] - 0s 657us/step - loss: 3.4544e-06\n",
      "Epoch 41/100\n",
      "4/4 [==============================] - 0s 672us/step - loss: 3.1094e-06\n",
      "Epoch 42/100\n",
      "4/4 [==============================] - 0s 683us/step - loss: 2.7711e-06\n",
      "Epoch 43/100\n",
      "4/4 [==============================] - 0s 661us/step - loss: 2.2808e-06\n",
      "Epoch 44/100\n",
      "4/4 [==============================] - 0s 739us/step - loss: 1.6948e-06\n",
      "Epoch 45/100\n",
      "4/4 [==============================] - 0s 710us/step - loss: 1.1040e-06\n",
      "Epoch 46/100\n",
      "4/4 [==============================] - 0s 745us/step - loss: 6.1120e-07\n",
      "Epoch 47/100\n",
      "4/4 [==============================] - 0s 752us/step - loss: 2.6672e-07\n",
      "Epoch 48/100\n",
      "4/4 [==============================] - 0s 798us/step - loss: 8.1760e-08\n",
      "Epoch 49/100\n",
      "4/4 [==============================] - 0s 894us/step - loss: 1.3313e-08\n",
      "Epoch 50/100\n",
      "4/4 [==============================] - 0s 724us/step - loss: 3.0537e-09\n",
      "Epoch 51/100\n",
      "4/4 [==============================] - 0s 844us/step - loss: 1.2943e-08\n",
      "Epoch 52/100\n",
      "4/4 [==============================] - 0s 986us/step - loss: 2.1957e-08\n",
      "Epoch 53/100\n",
      "4/4 [==============================] - 0s 944us/step - loss: 2.4017e-08\n",
      "Epoch 54/100\n",
      "4/4 [==============================] - 0s 1ms/step - loss: 2.0915e-08\n",
      "Epoch 55/100\n",
      "4/4 [==============================] - 0s 941us/step - loss: 1.5342e-08\n",
      "Epoch 56/100\n",
      "4/4 [==============================] - 0s 941us/step - loss: 9.7891e-09\n",
      "Epoch 57/100\n",
      "4/4 [==============================] - 0s 1000us/step - loss: 5.5944e-09\n",
      "Epoch 58/100\n",
      "4/4 [==============================] - 0s 687us/step - loss: 2.8775e-09\n",
      "Epoch 59/100\n",
      "4/4 [==============================] - 0s 711us/step - loss: 1.3331e-09\n",
      "Epoch 60/100\n",
      "4/4 [==============================] - 0s 683us/step - loss: 5.5990e-10\n",
      "Epoch 61/100\n",
      "4/4 [==============================] - 0s 978us/step - loss: 2.3628e-10\n",
      "Epoch 62/100\n",
      "4/4 [==============================] - 0s 814us/step - loss: 1.5973e-10\n",
      "Epoch 63/100\n",
      "4/4 [==============================] - 0s 731us/step - loss: 1.7461e-10\n",
      "Epoch 64/100\n",
      "4/4 [==============================] - 0s 833us/step - loss: 2.0144e-10\n",
      "Epoch 65/100\n",
      "4/4 [==============================] - 0s 711us/step - loss: 2.0491e-10\n",
      "Epoch 66/100\n",
      "4/4 [==============================] - 0s 753us/step - loss: 1.6363e-10\n",
      "Epoch 67/100\n",
      "4/4 [==============================] - 0s 750us/step - loss: 1.2106e-10\n",
      "Epoch 68/100\n",
      "4/4 [==============================] - 0s 1ms/step - loss: 8.0465e-11\n",
      "Epoch 69/100\n",
      "4/4 [==============================] - 0s 1ms/step - loss: 4.8389e-11\n",
      "Epoch 70/100\n",
      "4/4 [==============================] - 0s 1ms/step - loss: 2.3399e-11\n",
      "Epoch 71/100\n",
      "4/4 [==============================] - 0s 696us/step - loss: 8.1564e-12\n",
      "Epoch 72/100\n",
      "4/4 [==============================] - 0s 733us/step - loss: 1.4176e-12\n",
      "Epoch 73/100\n",
      "4/4 [==============================] - 0s 692us/step - loss: 1.3590e-12\n",
      "Epoch 74/100\n",
      "4/4 [==============================] - 0s 694us/step - loss: 1.5682e-12\n",
      "Epoch 75/100\n",
      "4/4 [==============================] - 0s 636us/step - loss: 1.5131e-12\n",
      "Epoch 76/100\n",
      "4/4 [==============================] - 0s 723us/step - loss: 1.0219e-12\n",
      "Epoch 77/100\n",
      "4/4 [==============================] - 0s 795us/step - loss: 9.0286e-13\n",
      "Epoch 78/100\n",
      "4/4 [==============================] - 0s 886us/step - loss: 9.0286e-13\n",
      "Epoch 79/100\n",
      "4/4 [==============================] - 0s 758us/step - loss: 9.0286e-13\n",
      "Epoch 80/100\n",
      "4/4 [==============================] - 0s 868us/step - loss: 9.0286e-13\n",
      "Epoch 81/100\n",
      "4/4 [==============================] - 0s 1ms/step - loss: 9.0286e-13\n",
      "Epoch 82/100\n",
      "4/4 [==============================] - 0s 704us/step - loss: 9.0286e-13\n",
      "Epoch 83/100\n",
      "4/4 [==============================] - 0s 684us/step - loss: 9.0286e-13\n",
      "Epoch 84/100\n",
      "4/4 [==============================] - 0s 793us/step - loss: 9.0286e-13\n",
      "Epoch 85/100\n",
      "4/4 [==============================] - 0s 643us/step - loss: 9.0286e-13\n",
      "Epoch 86/100\n",
      "4/4 [==============================] - 0s 783us/step - loss: 9.0286e-13\n",
      "Epoch 87/100\n",
      "4/4 [==============================] - 0s 853us/step - loss: 9.0286e-13\n",
      "Epoch 88/100\n",
      "4/4 [==============================] - 0s 851us/step - loss: 9.0286e-13\n",
      "Epoch 89/100\n",
      "4/4 [==============================] - 0s 854us/step - loss: 9.0286e-13\n",
      "Epoch 90/100\n",
      "4/4 [==============================] - 0s 1ms/step - loss: 9.0286e-13\n",
      "Epoch 91/100\n",
      "4/4 [==============================] - 0s 774us/step - loss: 9.0286e-13\n",
      "Epoch 92/100\n",
      "4/4 [==============================] - 0s 713us/step - loss: 9.0286e-13\n",
      "Epoch 93/100\n",
      "4/4 [==============================] - 0s 818us/step - loss: 9.0286e-13\n",
      "Epoch 94/100\n",
      "4/4 [==============================] - 0s 826us/step - loss: 9.0286e-13\n",
      "Epoch 95/100\n",
      "4/4 [==============================] - 0s 761us/step - loss: 9.0286e-13\n",
      "Epoch 96/100\n",
      "4/4 [==============================] - 0s 729us/step - loss: 9.0286e-13\n",
      "Epoch 97/100\n",
      "4/4 [==============================] - 0s 884us/step - loss: 9.0286e-13\n",
      "Epoch 98/100\n"
     ]
    },
    {
     "name": "stdout",
     "output_type": "stream",
     "text": [
      "4/4 [==============================] - 0s 778us/step - loss: 9.0286e-13\n",
      "Epoch 99/100\n",
      "4/4 [==============================] - 0s 704us/step - loss: 9.0286e-13\n",
      "Epoch 100/100\n",
      "4/4 [==============================] - 0s 860us/step - loss: 9.0286e-13\n"
     ]
    }
   ],
   "source": [
    "model = tf.keras.Sequential([\n",
    "    tf.keras.layers.Dense(1,input_shape=(1,))\n",
    "])\n",
    "optimizer = tf.keras.optimizers.Adam(0.1)\n",
    "model.compile(optimizer,loss='mse')\n",
    "\n",
    "history = model.fit(trainX,trainY,epochs=100)"
   ]
  },
  {
   "cell_type": "code",
   "execution_count": 5,
   "metadata": {},
   "outputs": [
    {
     "data": {
      "text/plain": [
       "[<tf.Variable 'dense/kernel:0' shape=(1, 1) dtype=float32, numpy=array([[2.000005]], dtype=float32)>,\n",
       " <tf.Variable 'dense/bias:0' shape=(1,) dtype=float32, numpy=array([4.9999523], dtype=float32)>]"
      ]
     },
     "execution_count": 5,
     "metadata": {},
     "output_type": "execute_result"
    }
   ],
   "source": [
    "model.weights"
   ]
  },
  {
   "cell_type": "code",
   "execution_count": 13,
   "metadata": {},
   "outputs": [
    {
     "data": {
      "text/plain": [
       "array([[15.000001]], dtype=float32)"
      ]
     },
     "execution_count": 13,
     "metadata": {},
     "output_type": "execute_result"
    }
   ],
   "source": [
    "model.predict([5])"
   ]
  },
  {
   "cell_type": "code",
   "execution_count": 14,
   "metadata": {},
   "outputs": [
    {
     "name": "stdout",
     "output_type": "stream",
     "text": [
      "INFO:tensorflow:Assets written to: aaa.model/assets\n"
     ]
    }
   ],
   "source": [
    "model.save(\"aaa.model\")"
   ]
  },
  {
   "cell_type": "code",
   "execution_count": 15,
   "metadata": {},
   "outputs": [],
   "source": [
    "new_model = tf.keras.models.load_model(\"aaa.model\")"
   ]
  },
  {
   "cell_type": "code",
   "execution_count": 16,
   "metadata": {},
   "outputs": [
    {
     "data": {
      "text/plain": [
       "array([5.])"
      ]
     },
     "execution_count": 16,
     "metadata": {},
     "output_type": "execute_result"
    }
   ],
   "source": [
    "testX = np.array([5.])\n",
    "testX"
   ]
  },
  {
   "cell_type": "code",
   "execution_count": 17,
   "metadata": {},
   "outputs": [
    {
     "data": {
      "text/plain": [
       "array([[15.000001]], dtype=float32)"
      ]
     },
     "execution_count": 17,
     "metadata": {},
     "output_type": "execute_result"
    }
   ],
   "source": [
    "new_model.predict(testX)"
   ]
  },
  {
   "cell_type": "code",
   "execution_count": 7,
   "metadata": {},
   "outputs": [
    {
     "name": "stdout",
     "output_type": "stream",
     "text": [
      "WARNING:tensorflow:From /Users/zhenwuzhou/environment/tf2_py3/lib/python3.7/site-packages/tensorflow/python/ops/resource_variable_ops.py:1817: calling BaseResourceVariable.__init__ (from tensorflow.python.ops.resource_variable_ops) with constraint is deprecated and will be removed in a future version.\n",
      "Instructions for updating:\n",
      "If using Keras pass *_constraint arguments to layers.\n",
      "INFO:tensorflow:Assets written to: testModel/v1/assets\n"
     ]
    }
   ],
   "source": [
    "#保存模型\n",
    "tf.saved_model.save(model,\"testModel/v1\")"
   ]
  },
  {
   "cell_type": "code",
   "execution_count": 8,
   "metadata": {},
   "outputs": [],
   "source": [
    "# 模型加载\n",
    "test_model = tf.saved_model.load(\"testModel/v1\")"
   ]
  },
  {
   "cell_type": "code",
   "execution_count": 9,
   "metadata": {},
   "outputs": [
    {
     "data": {
      "text/plain": [
       "array([ 1.40300092, -1.68604303,  0.64969834,  1.19568318,  0.29094288,\n",
       "       -1.28967469, -0.92543853, -0.42515225, -2.02572804,  0.85313469])"
      ]
     },
     "execution_count": 9,
     "metadata": {},
     "output_type": "execute_result"
    }
   ],
   "source": [
    "trainX[0:10]"
   ]
  },
  {
   "cell_type": "code",
   "execution_count": 12,
   "metadata": {},
   "outputs": [
    {
     "ename": "ValueError",
     "evalue": "Could not find matching function to call loaded from the SavedModel. Got:\n  Positional arguments (3 total):\n    * Tensor(\"inputs:0\", shape=(100,), dtype=float64)\n    * False\n    * None\n  Keyword arguments: {}\n\nExpected these arguments to match one of the following 4 option(s):\n\nOption 1:\n  Positional arguments (3 total):\n    * TensorSpec(shape=(None, 1), dtype=tf.float32, name='dense_1_input')\n    * True\n    * None\n  Keyword arguments: {}\n\nOption 2:\n  Positional arguments (3 total):\n    * TensorSpec(shape=(None, 1), dtype=tf.float32, name='inputs')\n    * True\n    * None\n  Keyword arguments: {}\n\nOption 3:\n  Positional arguments (3 total):\n    * TensorSpec(shape=(None, 1), dtype=tf.float32, name='dense_1_input')\n    * False\n    * None\n  Keyword arguments: {}\n\nOption 4:\n  Positional arguments (3 total):\n    * TensorSpec(shape=(None, 1), dtype=tf.float32, name='inputs')\n    * False\n    * None\n  Keyword arguments: {}",
     "output_type": "error",
     "traceback": [
      "\u001b[0;31m---------------------------------------------------------------------------\u001b[0m",
      "\u001b[0;31mValueError\u001b[0m                                Traceback (most recent call last)",
      "\u001b[0;32m<ipython-input-12-724503d36555>\u001b[0m in \u001b[0;36m<module>\u001b[0;34m\u001b[0m\n\u001b[0;32m----> 1\u001b[0;31m \u001b[0mtest_model\u001b[0m\u001b[0;34m(\u001b[0m\u001b[0mtrainX\u001b[0m\u001b[0;34m)\u001b[0m\u001b[0;34m\u001b[0m\u001b[0;34m\u001b[0m\u001b[0m\n\u001b[0m",
      "\u001b[0;32m~/environment/tf2_py3/lib/python3.7/site-packages/tensorflow/python/saved_model/load.py\u001b[0m in \u001b[0;36m_call_attribute\u001b[0;34m(instance, *args, **kwargs)\u001b[0m\n\u001b[1;32m    484\u001b[0m \u001b[0;34m\u001b[0m\u001b[0m\n\u001b[1;32m    485\u001b[0m \u001b[0;32mdef\u001b[0m \u001b[0m_call_attribute\u001b[0m\u001b[0;34m(\u001b[0m\u001b[0minstance\u001b[0m\u001b[0;34m,\u001b[0m \u001b[0;34m*\u001b[0m\u001b[0margs\u001b[0m\u001b[0;34m,\u001b[0m \u001b[0;34m**\u001b[0m\u001b[0mkwargs\u001b[0m\u001b[0;34m)\u001b[0m\u001b[0;34m:\u001b[0m\u001b[0;34m\u001b[0m\u001b[0;34m\u001b[0m\u001b[0m\n\u001b[0;32m--> 486\u001b[0;31m   \u001b[0;32mreturn\u001b[0m \u001b[0minstance\u001b[0m\u001b[0;34m.\u001b[0m\u001b[0m__call__\u001b[0m\u001b[0;34m(\u001b[0m\u001b[0;34m*\u001b[0m\u001b[0margs\u001b[0m\u001b[0;34m,\u001b[0m \u001b[0;34m**\u001b[0m\u001b[0mkwargs\u001b[0m\u001b[0;34m)\u001b[0m\u001b[0;34m\u001b[0m\u001b[0;34m\u001b[0m\u001b[0m\n\u001b[0m\u001b[1;32m    487\u001b[0m \u001b[0;34m\u001b[0m\u001b[0m\n\u001b[1;32m    488\u001b[0m \u001b[0;34m\u001b[0m\u001b[0m\n",
      "\u001b[0;32m~/environment/tf2_py3/lib/python3.7/site-packages/tensorflow/python/eager/def_function.py\u001b[0m in \u001b[0;36m__call__\u001b[0;34m(self, *args, **kwds)\u001b[0m\n\u001b[1;32m    578\u001b[0m         \u001b[0mxla_context\u001b[0m\u001b[0;34m.\u001b[0m\u001b[0mExit\u001b[0m\u001b[0;34m(\u001b[0m\u001b[0;34m)\u001b[0m\u001b[0;34m\u001b[0m\u001b[0;34m\u001b[0m\u001b[0m\n\u001b[1;32m    579\u001b[0m     \u001b[0;32melse\u001b[0m\u001b[0;34m:\u001b[0m\u001b[0;34m\u001b[0m\u001b[0;34m\u001b[0m\u001b[0m\n\u001b[0;32m--> 580\u001b[0;31m       \u001b[0mresult\u001b[0m \u001b[0;34m=\u001b[0m \u001b[0mself\u001b[0m\u001b[0;34m.\u001b[0m\u001b[0m_call\u001b[0m\u001b[0;34m(\u001b[0m\u001b[0;34m*\u001b[0m\u001b[0margs\u001b[0m\u001b[0;34m,\u001b[0m \u001b[0;34m**\u001b[0m\u001b[0mkwds\u001b[0m\u001b[0;34m)\u001b[0m\u001b[0;34m\u001b[0m\u001b[0;34m\u001b[0m\u001b[0m\n\u001b[0m\u001b[1;32m    581\u001b[0m \u001b[0;34m\u001b[0m\u001b[0m\n\u001b[1;32m    582\u001b[0m     \u001b[0;32mif\u001b[0m \u001b[0mtracing_count\u001b[0m \u001b[0;34m==\u001b[0m \u001b[0mself\u001b[0m\u001b[0;34m.\u001b[0m\u001b[0m_get_tracing_count\u001b[0m\u001b[0;34m(\u001b[0m\u001b[0;34m)\u001b[0m\u001b[0;34m:\u001b[0m\u001b[0;34m\u001b[0m\u001b[0;34m\u001b[0m\u001b[0m\n",
      "\u001b[0;32m~/environment/tf2_py3/lib/python3.7/site-packages/tensorflow/python/eager/def_function.py\u001b[0m in \u001b[0;36m_call\u001b[0;34m(self, *args, **kwds)\u001b[0m\n\u001b[1;32m    616\u001b[0m       \u001b[0;31m# In this case we have not created variables on the first call. So we can\u001b[0m\u001b[0;34m\u001b[0m\u001b[0;34m\u001b[0m\u001b[0;34m\u001b[0m\u001b[0m\n\u001b[1;32m    617\u001b[0m       \u001b[0;31m# run the first trace but we should fail if variables are created.\u001b[0m\u001b[0;34m\u001b[0m\u001b[0;34m\u001b[0m\u001b[0;34m\u001b[0m\u001b[0m\n\u001b[0;32m--> 618\u001b[0;31m       \u001b[0mresults\u001b[0m \u001b[0;34m=\u001b[0m \u001b[0mself\u001b[0m\u001b[0;34m.\u001b[0m\u001b[0m_stateful_fn\u001b[0m\u001b[0;34m(\u001b[0m\u001b[0;34m*\u001b[0m\u001b[0margs\u001b[0m\u001b[0;34m,\u001b[0m \u001b[0;34m**\u001b[0m\u001b[0mkwds\u001b[0m\u001b[0;34m)\u001b[0m\u001b[0;34m\u001b[0m\u001b[0;34m\u001b[0m\u001b[0m\n\u001b[0m\u001b[1;32m    619\u001b[0m       \u001b[0;32mif\u001b[0m \u001b[0mself\u001b[0m\u001b[0;34m.\u001b[0m\u001b[0m_created_variables\u001b[0m\u001b[0;34m:\u001b[0m\u001b[0;34m\u001b[0m\u001b[0;34m\u001b[0m\u001b[0m\n\u001b[1;32m    620\u001b[0m         raise ValueError(\"Creating variables on a non-first call to a function\"\n",
      "\u001b[0;32m~/environment/tf2_py3/lib/python3.7/site-packages/tensorflow/python/eager/function.py\u001b[0m in \u001b[0;36m__call__\u001b[0;34m(self, *args, **kwargs)\u001b[0m\n\u001b[1;32m   2417\u001b[0m     \u001b[0;34m\"\"\"Calls a graph function specialized to the inputs.\"\"\"\u001b[0m\u001b[0;34m\u001b[0m\u001b[0;34m\u001b[0m\u001b[0m\n\u001b[1;32m   2418\u001b[0m     \u001b[0;32mwith\u001b[0m \u001b[0mself\u001b[0m\u001b[0;34m.\u001b[0m\u001b[0m_lock\u001b[0m\u001b[0;34m:\u001b[0m\u001b[0;34m\u001b[0m\u001b[0;34m\u001b[0m\u001b[0m\n\u001b[0;32m-> 2419\u001b[0;31m       \u001b[0mgraph_function\u001b[0m\u001b[0;34m,\u001b[0m \u001b[0margs\u001b[0m\u001b[0;34m,\u001b[0m \u001b[0mkwargs\u001b[0m \u001b[0;34m=\u001b[0m \u001b[0mself\u001b[0m\u001b[0;34m.\u001b[0m\u001b[0m_maybe_define_function\u001b[0m\u001b[0;34m(\u001b[0m\u001b[0margs\u001b[0m\u001b[0;34m,\u001b[0m \u001b[0mkwargs\u001b[0m\u001b[0;34m)\u001b[0m\u001b[0;34m\u001b[0m\u001b[0;34m\u001b[0m\u001b[0m\n\u001b[0m\u001b[1;32m   2420\u001b[0m     \u001b[0;32mreturn\u001b[0m \u001b[0mgraph_function\u001b[0m\u001b[0;34m.\u001b[0m\u001b[0m_filtered_call\u001b[0m\u001b[0;34m(\u001b[0m\u001b[0margs\u001b[0m\u001b[0;34m,\u001b[0m \u001b[0mkwargs\u001b[0m\u001b[0;34m)\u001b[0m  \u001b[0;31m# pylint: disable=protected-access\u001b[0m\u001b[0;34m\u001b[0m\u001b[0;34m\u001b[0m\u001b[0m\n\u001b[1;32m   2421\u001b[0m \u001b[0;34m\u001b[0m\u001b[0m\n",
      "\u001b[0;32m~/environment/tf2_py3/lib/python3.7/site-packages/tensorflow/python/eager/function.py\u001b[0m in \u001b[0;36m_maybe_define_function\u001b[0;34m(self, args, kwargs)\u001b[0m\n\u001b[1;32m   2775\u001b[0m \u001b[0;34m\u001b[0m\u001b[0m\n\u001b[1;32m   2776\u001b[0m       \u001b[0mself\u001b[0m\u001b[0;34m.\u001b[0m\u001b[0m_function_cache\u001b[0m\u001b[0;34m.\u001b[0m\u001b[0mmissed\u001b[0m\u001b[0;34m.\u001b[0m\u001b[0madd\u001b[0m\u001b[0;34m(\u001b[0m\u001b[0mcall_context_key\u001b[0m\u001b[0;34m)\u001b[0m\u001b[0;34m\u001b[0m\u001b[0;34m\u001b[0m\u001b[0m\n\u001b[0;32m-> 2777\u001b[0;31m       \u001b[0mgraph_function\u001b[0m \u001b[0;34m=\u001b[0m \u001b[0mself\u001b[0m\u001b[0;34m.\u001b[0m\u001b[0m_create_graph_function\u001b[0m\u001b[0;34m(\u001b[0m\u001b[0margs\u001b[0m\u001b[0;34m,\u001b[0m \u001b[0mkwargs\u001b[0m\u001b[0;34m)\u001b[0m\u001b[0;34m\u001b[0m\u001b[0;34m\u001b[0m\u001b[0m\n\u001b[0m\u001b[1;32m   2778\u001b[0m       \u001b[0mself\u001b[0m\u001b[0;34m.\u001b[0m\u001b[0m_function_cache\u001b[0m\u001b[0;34m.\u001b[0m\u001b[0mprimary\u001b[0m\u001b[0;34m[\u001b[0m\u001b[0mcache_key\u001b[0m\u001b[0;34m]\u001b[0m \u001b[0;34m=\u001b[0m \u001b[0mgraph_function\u001b[0m\u001b[0;34m\u001b[0m\u001b[0;34m\u001b[0m\u001b[0m\n\u001b[1;32m   2779\u001b[0m       \u001b[0;32mreturn\u001b[0m \u001b[0mgraph_function\u001b[0m\u001b[0;34m,\u001b[0m \u001b[0margs\u001b[0m\u001b[0;34m,\u001b[0m \u001b[0mkwargs\u001b[0m\u001b[0;34m\u001b[0m\u001b[0;34m\u001b[0m\u001b[0m\n",
      "\u001b[0;32m~/environment/tf2_py3/lib/python3.7/site-packages/tensorflow/python/eager/function.py\u001b[0m in \u001b[0;36m_create_graph_function\u001b[0;34m(self, args, kwargs, override_flat_arg_shapes)\u001b[0m\n\u001b[1;32m   2665\u001b[0m             \u001b[0marg_names\u001b[0m\u001b[0;34m=\u001b[0m\u001b[0marg_names\u001b[0m\u001b[0;34m,\u001b[0m\u001b[0;34m\u001b[0m\u001b[0;34m\u001b[0m\u001b[0m\n\u001b[1;32m   2666\u001b[0m             \u001b[0moverride_flat_arg_shapes\u001b[0m\u001b[0;34m=\u001b[0m\u001b[0moverride_flat_arg_shapes\u001b[0m\u001b[0;34m,\u001b[0m\u001b[0;34m\u001b[0m\u001b[0;34m\u001b[0m\u001b[0m\n\u001b[0;32m-> 2667\u001b[0;31m             capture_by_value=self._capture_by_value),\n\u001b[0m\u001b[1;32m   2668\u001b[0m         \u001b[0mself\u001b[0m\u001b[0;34m.\u001b[0m\u001b[0m_function_attributes\u001b[0m\u001b[0;34m,\u001b[0m\u001b[0;34m\u001b[0m\u001b[0;34m\u001b[0m\u001b[0m\n\u001b[1;32m   2669\u001b[0m         \u001b[0;31m# Tell the ConcreteFunction to clean up its graph once it goes out of\u001b[0m\u001b[0;34m\u001b[0m\u001b[0;34m\u001b[0m\u001b[0;34m\u001b[0m\u001b[0m\n",
      "\u001b[0;32m~/environment/tf2_py3/lib/python3.7/site-packages/tensorflow/python/framework/func_graph.py\u001b[0m in \u001b[0;36mfunc_graph_from_py_func\u001b[0;34m(name, python_func, args, kwargs, signature, func_graph, autograph, autograph_options, add_control_dependencies, arg_names, op_return_value, collections, capture_by_value, override_flat_arg_shapes)\u001b[0m\n\u001b[1;32m    979\u001b[0m         \u001b[0m_\u001b[0m\u001b[0;34m,\u001b[0m \u001b[0moriginal_func\u001b[0m \u001b[0;34m=\u001b[0m \u001b[0mtf_decorator\u001b[0m\u001b[0;34m.\u001b[0m\u001b[0munwrap\u001b[0m\u001b[0;34m(\u001b[0m\u001b[0mpython_func\u001b[0m\u001b[0;34m)\u001b[0m\u001b[0;34m\u001b[0m\u001b[0;34m\u001b[0m\u001b[0m\n\u001b[1;32m    980\u001b[0m \u001b[0;34m\u001b[0m\u001b[0m\n\u001b[0;32m--> 981\u001b[0;31m       \u001b[0mfunc_outputs\u001b[0m \u001b[0;34m=\u001b[0m \u001b[0mpython_func\u001b[0m\u001b[0;34m(\u001b[0m\u001b[0;34m*\u001b[0m\u001b[0mfunc_args\u001b[0m\u001b[0;34m,\u001b[0m \u001b[0;34m**\u001b[0m\u001b[0mfunc_kwargs\u001b[0m\u001b[0;34m)\u001b[0m\u001b[0;34m\u001b[0m\u001b[0;34m\u001b[0m\u001b[0m\n\u001b[0m\u001b[1;32m    982\u001b[0m \u001b[0;34m\u001b[0m\u001b[0m\n\u001b[1;32m    983\u001b[0m       \u001b[0;31m# invariant: `func_outputs` contains only Tensors, CompositeTensors,\u001b[0m\u001b[0;34m\u001b[0m\u001b[0;34m\u001b[0m\u001b[0;34m\u001b[0m\u001b[0m\n",
      "\u001b[0;32m~/environment/tf2_py3/lib/python3.7/site-packages/tensorflow/python/eager/def_function.py\u001b[0m in \u001b[0;36mwrapped_fn\u001b[0;34m(*args, **kwds)\u001b[0m\n\u001b[1;32m    439\u001b[0m         \u001b[0;31m# __wrapped__ allows AutoGraph to swap in a converted function. We give\u001b[0m\u001b[0;34m\u001b[0m\u001b[0;34m\u001b[0m\u001b[0;34m\u001b[0m\u001b[0m\n\u001b[1;32m    440\u001b[0m         \u001b[0;31m# the function a weak reference to itself to avoid a reference cycle.\u001b[0m\u001b[0;34m\u001b[0m\u001b[0;34m\u001b[0m\u001b[0;34m\u001b[0m\u001b[0m\n\u001b[0;32m--> 441\u001b[0;31m         \u001b[0;32mreturn\u001b[0m \u001b[0mweak_wrapped_fn\u001b[0m\u001b[0;34m(\u001b[0m\u001b[0;34m)\u001b[0m\u001b[0;34m.\u001b[0m\u001b[0m__wrapped__\u001b[0m\u001b[0;34m(\u001b[0m\u001b[0;34m*\u001b[0m\u001b[0margs\u001b[0m\u001b[0;34m,\u001b[0m \u001b[0;34m**\u001b[0m\u001b[0mkwds\u001b[0m\u001b[0;34m)\u001b[0m\u001b[0;34m\u001b[0m\u001b[0;34m\u001b[0m\u001b[0m\n\u001b[0m\u001b[1;32m    442\u001b[0m     \u001b[0mweak_wrapped_fn\u001b[0m \u001b[0;34m=\u001b[0m \u001b[0mweakref\u001b[0m\u001b[0;34m.\u001b[0m\u001b[0mref\u001b[0m\u001b[0;34m(\u001b[0m\u001b[0mwrapped_fn\u001b[0m\u001b[0;34m)\u001b[0m\u001b[0;34m\u001b[0m\u001b[0;34m\u001b[0m\u001b[0m\n\u001b[1;32m    443\u001b[0m \u001b[0;34m\u001b[0m\u001b[0m\n",
      "\u001b[0;32m~/environment/tf2_py3/lib/python3.7/site-packages/tensorflow/python/saved_model/function_deserialization.py\u001b[0m in \u001b[0;36mrestored_function_body\u001b[0;34m(*args, **kwargs)\u001b[0m\n\u001b[1;32m    259\u001b[0m         .format(_pretty_format_positional(args), kwargs,\n\u001b[1;32m    260\u001b[0m                 \u001b[0mlen\u001b[0m\u001b[0;34m(\u001b[0m\u001b[0msaved_function\u001b[0m\u001b[0;34m.\u001b[0m\u001b[0mconcrete_functions\u001b[0m\u001b[0;34m)\u001b[0m\u001b[0;34m,\u001b[0m\u001b[0;34m\u001b[0m\u001b[0;34m\u001b[0m\u001b[0m\n\u001b[0;32m--> 261\u001b[0;31m                 \"\\n\\n\".join(signature_descriptions)))\n\u001b[0m\u001b[1;32m    262\u001b[0m \u001b[0;34m\u001b[0m\u001b[0m\n\u001b[1;32m    263\u001b[0m   \u001b[0mconcrete_function_objects\u001b[0m \u001b[0;34m=\u001b[0m \u001b[0;34m[\u001b[0m\u001b[0;34m]\u001b[0m\u001b[0;34m\u001b[0m\u001b[0;34m\u001b[0m\u001b[0m\n",
      "\u001b[0;31mValueError\u001b[0m: Could not find matching function to call loaded from the SavedModel. Got:\n  Positional arguments (3 total):\n    * Tensor(\"inputs:0\", shape=(100,), dtype=float64)\n    * False\n    * None\n  Keyword arguments: {}\n\nExpected these arguments to match one of the following 4 option(s):\n\nOption 1:\n  Positional arguments (3 total):\n    * TensorSpec(shape=(None, 1), dtype=tf.float32, name='dense_1_input')\n    * True\n    * None\n  Keyword arguments: {}\n\nOption 2:\n  Positional arguments (3 total):\n    * TensorSpec(shape=(None, 1), dtype=tf.float32, name='inputs')\n    * True\n    * None\n  Keyword arguments: {}\n\nOption 3:\n  Positional arguments (3 total):\n    * TensorSpec(shape=(None, 1), dtype=tf.float32, name='dense_1_input')\n    * False\n    * None\n  Keyword arguments: {}\n\nOption 4:\n  Positional arguments (3 total):\n    * TensorSpec(shape=(None, 1), dtype=tf.float32, name='inputs')\n    * False\n    * None\n  Keyword arguments: {}"
     ]
    }
   ],
   "source": [
    "test_model(trainX)"
   ]
  },
  {
   "cell_type": "code",
   "execution_count": null,
   "metadata": {},
   "outputs": [],
   "source": []
  }
 ],
 "metadata": {
  "kernelspec": {
   "display_name": "Python 3",
   "language": "python",
   "name": "python3"
  },
  "language_info": {
   "codemirror_mode": {
    "name": "ipython",
    "version": 3
   },
   "file_extension": ".py",
   "mimetype": "text/x-python",
   "name": "python",
   "nbconvert_exporter": "python",
   "pygments_lexer": "ipython3",
   "version": "3.7.4"
  }
 },
 "nbformat": 4,
 "nbformat_minor": 2
}
