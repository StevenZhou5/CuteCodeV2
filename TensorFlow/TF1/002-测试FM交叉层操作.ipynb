{
 "cells": [
  {
   "cell_type": "code",
   "execution_count": 1,
   "metadata": {
    "ExecuteTime": {
     "end_time": "2021-02-27T07:55:24.242586Z",
     "start_time": "2021-02-27T07:55:21.381123Z"
    }
   },
   "outputs": [],
   "source": [
    "import tensorflow as tf\n",
    "import numpy as np"
   ]
  },
  {
   "cell_type": "code",
   "execution_count": 3,
   "metadata": {
    "ExecuteTime": {
     "end_time": "2021-02-27T07:58:26.853819Z",
     "start_time": "2021-02-27T07:58:26.845016Z"
    }
   },
   "outputs": [
    {
     "data": {
      "text/plain": [
       "<tf.Tensor: shape=(2, 3, 4), dtype=float64, numpy=\n",
       "array([[[0.77589859, 0.52917142, 0.95082487, 0.45841136],\n",
       "        [0.29730889, 0.3320536 , 0.31708498, 0.89379449],\n",
       "        [0.32497447, 0.305022  , 0.87018063, 0.09490095]],\n",
       "\n",
       "       [[0.55496861, 0.66532849, 0.09951245, 0.03182611],\n",
       "        [0.17428791, 0.67815571, 0.45786389, 0.27277611],\n",
       "        [0.72137432, 0.70389899, 0.24448032, 0.51100975]]])>"
      ]
     },
     "execution_count": 3,
     "metadata": {},
     "output_type": "execute_result"
    }
   ],
   "source": [
    "\n",
    "#\n",
    "a = tf.constant(np.random.rand(2,3,4))\n",
    "a"
   ]
  },
  {
   "cell_type": "code",
   "execution_count": 6,
   "metadata": {
    "ExecuteTime": {
     "end_time": "2021-02-27T08:05:27.361717Z",
     "start_time": "2021-02-27T08:05:27.356828Z"
    }
   },
   "outputs": [
    {
     "name": "stdout",
     "output_type": "stream",
     "text": [
      "tf.Tensor(\n",
      "[[[1.39818195 1.16624702 2.13809048 1.4471068 ]]\n",
      "\n",
      " [[1.45063085 2.04738319 0.80185666 0.81561197]]], shape=(2, 1, 4), dtype=float64)\n",
      "tf.Tensor(\n",
      "[[[1.95491278 1.36013212 4.57143089 2.09411808]]\n",
      "\n",
      " [[2.10432985 4.19177793 0.6429741  0.66522288]]], shape=(2, 1, 4), dtype=float64)\n"
     ]
    }
   ],
   "source": [
    "# \n",
    "sum_a = tf.reduce_sum(a,axis=1,keepdims=True)\n",
    "print(sum_a)\n",
    "sum_square = tf.square(sum_a)\n",
    "print(sum_square)"
   ]
  },
  {
   "cell_type": "code",
   "execution_count": 9,
   "metadata": {
    "ExecuteTime": {
     "end_time": "2021-02-27T08:07:15.979969Z",
     "start_time": "2021-02-27T08:07:15.974841Z"
    }
   },
   "outputs": [
    {
     "name": "stdout",
     "output_type": "stream",
     "text": [
      "tf.Tensor(\n",
      "[[[0.60201862 0.28002239 0.90406794 0.21014097]\n",
      "  [0.08839258 0.11025959 0.10054288 0.79886859]\n",
      "  [0.10560841 0.09303842 0.75721432 0.00900619]]\n",
      "\n",
      " [[0.30799016 0.442662   0.00990273 0.0010129 ]\n",
      "  [0.03037628 0.45989516 0.20963934 0.07440681]\n",
      "  [0.52038091 0.49547379 0.05977063 0.26113096]]], shape=(2, 3, 4), dtype=float64)\n",
      "tf.Tensor(\n",
      "[[[0.79601961 0.48332041 1.76182514 1.01801575]]\n",
      "\n",
      " [[0.85874735 1.39803096 0.27931269 0.33655067]]], shape=(2, 1, 4), dtype=float64)\n"
     ]
    }
   ],
   "source": [
    "# \n",
    "square_a = tf.square(a)\n",
    "print(square_a)\n",
    "\n",
    "square_sum = tf.reduce_sum(square_a,axis = 1,keepdims=True)\n",
    "print(square_sum)"
   ]
  },
  {
   "cell_type": "code",
   "execution_count": 10,
   "metadata": {
    "ExecuteTime": {
     "end_time": "2021-02-27T08:10:47.428983Z",
     "start_time": "2021-02-27T08:10:47.424361Z"
    }
   },
   "outputs": [
    {
     "name": "stdout",
     "output_type": "stream",
     "text": [
      "tf.Tensor(\n",
      "[[[1.15889317 0.87681171 2.80960574 1.07610233]]\n",
      "\n",
      " [[1.2455825  2.79374697 0.36366141 0.32867221]]], shape=(2, 1, 4), dtype=float64)\n",
      "tf.Tensor(\n",
      "[[5.92141295]\n",
      " [4.73166309]], shape=(2, 1), dtype=float64)\n"
     ]
    }
   ],
   "source": [
    "# \n",
    "cross = sum_square - square_sum\n",
    "print(cross)\n",
    "\n",
    "fm = tf.reduce_sum(cross,axis=2)\n",
    "print(fm)"
   ]
  },
  {
   "cell_type": "code",
   "execution_count": 12,
   "metadata": {
    "ExecuteTime": {
     "end_time": "2021-02-27T08:18:13.661630Z",
     "start_time": "2021-02-27T08:18:13.654524Z"
    }
   },
   "outputs": [
    {
     "data": {
      "text/plain": [
       "<tf.Tensor: shape=(2, 4), dtype=float64, numpy=\n",
       "array([[1.15889317, 0.87681171, 2.80960574, 1.07610233],\n",
       "       [1.2455825 , 2.79374697, 0.36366141, 0.32867221]])>"
      ]
     },
     "execution_count": 12,
     "metadata": {},
     "output_type": "execute_result"
    }
   ],
   "source": [
    "nl = tf.reduce_sum(cross,axis=1)\n",
    "nl"
   ]
  },
  {
   "cell_type": "code",
   "execution_count": null,
   "metadata": {},
   "outputs": [],
   "source": []
  }
 ],
 "metadata": {
  "kernelspec": {
   "display_name": "Python 3",
   "language": "python",
   "name": "python3"
  },
  "language_info": {
   "codemirror_mode": {
    "name": "ipython",
    "version": 3
   },
   "file_extension": ".py",
   "mimetype": "text/x-python",
   "name": "python",
   "nbconvert_exporter": "python",
   "pygments_lexer": "ipython3",
   "version": "3.7.4"
  },
  "toc": {
   "base_numbering": 1,
   "nav_menu": {},
   "number_sections": true,
   "sideBar": true,
   "skip_h1_title": false,
   "title_cell": "Table of Contents",
   "title_sidebar": "Contents",
   "toc_cell": false,
   "toc_position": {},
   "toc_section_display": true,
   "toc_window_display": false
  },
  "varInspector": {
   "cols": {
    "lenName": 16,
    "lenType": 16,
    "lenVar": 40
   },
   "kernels_config": {
    "python": {
     "delete_cmd_postfix": "",
     "delete_cmd_prefix": "del ",
     "library": "var_list.py",
     "varRefreshCmd": "print(var_dic_list())"
    },
    "r": {
     "delete_cmd_postfix": ") ",
     "delete_cmd_prefix": "rm(",
     "library": "var_list.r",
     "varRefreshCmd": "cat(var_dic_list()) "
    }
   },
   "types_to_exclude": [
    "module",
    "function",
    "builtin_function_or_method",
    "instance",
    "_Feature"
   ],
   "window_display": false
  }
 },
 "nbformat": 4,
 "nbformat_minor": 4
}
