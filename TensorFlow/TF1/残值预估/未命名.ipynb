{
 "cells": [
  {
   "cell_type": "code",
   "execution_count": 20,
   "metadata": {},
   "outputs": [
    {
     "name": "stdout",
     "output_type": "stream",
     "text": [
      "2.3.1\n"
     ]
    }
   ],
   "source": [
    "import keras as keras\n",
    "import numpy as np\n",
    "from keras2pmml import keras2pmml\n",
    "from sklearn.preprocessing import StandardScaler\n",
    "\n",
    "print(keras.__version__)"
   ]
  },
  {
   "cell_type": "code",
   "execution_count": 27,
   "metadata": {},
   "outputs": [
    {
     "name": "stdout",
     "output_type": "stream",
     "text": [
      "[[1]\n",
      " [2]\n",
      " [3]]\n",
      "[[-1.22474487]\n",
      " [ 0.        ]\n",
      " [ 1.22474487]]\n"
     ]
    }
   ],
   "source": [
    "std = StandardScaler()\n",
    "\n",
    "trainX = np.array([[1],[2],[3]])\n",
    "trainX_Scaled = std.fit_transform(trainX)\n",
    "trainY = np.array([2,4,6])\n",
    "\n",
    "print(trainX)\n",
    "print(trainX_Scaled)"
   ]
  },
  {
   "cell_type": "code",
   "execution_count": 28,
   "metadata": {},
   "outputs": [
    {
     "name": "stdout",
     "output_type": "stream",
     "text": [
      "Model: \"sequential_3\"\n",
      "_________________________________________________________________\n",
      "Layer (type)                 Output Shape              Param #   \n",
      "=================================================================\n",
      "dense_5 (Dense)              (None, 8)                 16        \n",
      "_________________________________________________________________\n",
      "dense_6 (Dense)              (None, 1)                 9         \n",
      "=================================================================\n",
      "Total params: 25\n",
      "Trainable params: 25\n",
      "Non-trainable params: 0\n",
      "_________________________________________________________________\n"
     ]
    }
   ],
   "source": [
    "model = keras.models.Sequential([\n",
    "    keras.layers.Dense(8,activation = 'relu',input_shape = (1,)),\n",
    "    keras.layers.Dense(1)\n",
    "])\n",
    "model.summary()\n",
    "model.compile(loss = 'mse',optimizer = 'sgd')"
   ]
  },
  {
   "cell_type": "code",
   "execution_count": 29,
   "metadata": {},
   "outputs": [
    {
     "name": "stdout",
     "output_type": "stream",
     "text": [
      "Epoch 1/100\n",
      "3/3 [==============================] - 0s 15ms/step - loss: 20.0373\n",
      "Epoch 2/100\n",
      "3/3 [==============================] - 0s 886us/step - loss: 16.4215\n",
      "Epoch 3/100\n",
      "3/3 [==============================] - 0s 632us/step - loss: 13.4588\n",
      "Epoch 4/100\n",
      "3/3 [==============================] - 0s 634us/step - loss: 10.8498\n",
      "Epoch 5/100\n",
      "3/3 [==============================] - 0s 792us/step - loss: 8.5958\n",
      "Epoch 6/100\n",
      "3/3 [==============================] - 0s 659us/step - loss: 6.6041\n",
      "Epoch 7/100\n",
      "3/3 [==============================] - 0s 676us/step - loss: 4.8345\n",
      "Epoch 8/100\n",
      "3/3 [==============================] - 0s 609us/step - loss: 3.3639\n",
      "Epoch 9/100\n",
      "3/3 [==============================] - 0s 611us/step - loss: 2.2383\n",
      "Epoch 10/100\n",
      "3/3 [==============================] - 0s 647us/step - loss: 1.4494\n",
      "Epoch 11/100\n",
      "3/3 [==============================] - 0s 824us/step - loss: 0.9401\n",
      "Epoch 12/100\n",
      "3/3 [==============================] - 0s 639us/step - loss: 0.6326\n",
      "Epoch 13/100\n",
      "3/3 [==============================] - 0s 597us/step - loss: 0.4544\n",
      "Epoch 14/100\n",
      "3/3 [==============================] - 0s 589us/step - loss: 0.3520\n",
      "Epoch 15/100\n",
      "3/3 [==============================] - 0s 574us/step - loss: 0.2911\n",
      "Epoch 16/100\n",
      "3/3 [==============================] - 0s 715us/step - loss: 0.2524\n",
      "Epoch 17/100\n",
      "3/3 [==============================] - 0s 587us/step - loss: 0.2253\n",
      "Epoch 18/100\n",
      "3/3 [==============================] - 0s 651us/step - loss: 0.2046\n",
      "Epoch 19/100\n",
      "3/3 [==============================] - 0s 633us/step - loss: 0.1876\n",
      "Epoch 20/100\n",
      "3/3 [==============================] - 0s 673us/step - loss: 0.1729\n",
      "Epoch 21/100\n",
      "3/3 [==============================] - 0s 585us/step - loss: 0.1600\n",
      "Epoch 22/100\n",
      "3/3 [==============================] - 0s 571us/step - loss: 0.1483\n",
      "Epoch 23/100\n",
      "3/3 [==============================] - 0s 766us/step - loss: 0.1378\n",
      "Epoch 24/100\n",
      "3/3 [==============================] - 0s 564us/step - loss: 0.1281\n",
      "Epoch 25/100\n",
      "3/3 [==============================] - 0s 670us/step - loss: 0.1194\n",
      "Epoch 26/100\n",
      "3/3 [==============================] - 0s 557us/step - loss: 0.1113\n",
      "Epoch 27/100\n",
      "3/3 [==============================] - 0s 618us/step - loss: 0.1039\n",
      "Epoch 28/100\n",
      "3/3 [==============================] - 0s 594us/step - loss: 0.0971\n",
      "Epoch 29/100\n",
      "3/3 [==============================] - 0s 616us/step - loss: 0.0909\n",
      "Epoch 30/100\n",
      "3/3 [==============================] - 0s 613us/step - loss: 0.0851\n",
      "Epoch 31/100\n",
      "3/3 [==============================] - 0s 580us/step - loss: 0.0798\n",
      "Epoch 32/100\n",
      "3/3 [==============================] - 0s 562us/step - loss: 0.0749\n",
      "Epoch 33/100\n",
      "3/3 [==============================] - 0s 657us/step - loss: 0.0704\n",
      "Epoch 34/100\n",
      "3/3 [==============================] - 0s 582us/step - loss: 0.0662\n",
      "Epoch 35/100\n",
      "3/3 [==============================] - 0s 612us/step - loss: 0.0623\n",
      "Epoch 36/100\n",
      "3/3 [==============================] - 0s 566us/step - loss: 0.0587\n",
      "Epoch 37/100\n",
      "3/3 [==============================] - 0s 576us/step - loss: 0.0553\n",
      "Epoch 38/100\n",
      "3/3 [==============================] - 0s 560us/step - loss: 0.0522\n",
      "Epoch 39/100\n",
      "3/3 [==============================] - 0s 584us/step - loss: 0.0493\n",
      "Epoch 40/100\n",
      "3/3 [==============================] - 0s 684us/step - loss: 0.0466\n",
      "Epoch 41/100\n",
      "3/3 [==============================] - 0s 901us/step - loss: 0.0440\n",
      "Epoch 42/100\n",
      "3/3 [==============================] - 0s 786us/step - loss: 0.0417\n",
      "Epoch 43/100\n",
      "3/3 [==============================] - 0s 665us/step - loss: 0.0395\n",
      "Epoch 44/100\n",
      "3/3 [==============================] - 0s 574us/step - loss: 0.0374\n",
      "Epoch 45/100\n",
      "3/3 [==============================] - 0s 629us/step - loss: 0.0355\n",
      "Epoch 46/100\n",
      "3/3 [==============================] - 0s 572us/step - loss: 0.0337\n",
      "Epoch 47/100\n",
      "3/3 [==============================] - 0s 611us/step - loss: 0.0319\n",
      "Epoch 48/100\n",
      "3/3 [==============================] - 0s 565us/step - loss: 0.0303\n",
      "Epoch 49/100\n",
      "3/3 [==============================] - 0s 580us/step - loss: 0.0288\n",
      "Epoch 50/100\n",
      "3/3 [==============================] - 0s 627us/step - loss: 0.0274\n",
      "Epoch 51/100\n",
      "3/3 [==============================] - 0s 608us/step - loss: 0.0261\n",
      "Epoch 52/100\n",
      "3/3 [==============================] - 0s 577us/step - loss: 0.0248\n",
      "Epoch 53/100\n",
      "3/3 [==============================] - 0s 606us/step - loss: 0.0236\n",
      "Epoch 54/100\n",
      "3/3 [==============================] - 0s 674us/step - loss: 0.0225\n",
      "Epoch 55/100\n",
      "3/3 [==============================] - 0s 624us/step - loss: 0.0214\n",
      "Epoch 56/100\n",
      "3/3 [==============================] - 0s 627us/step - loss: 0.0204\n",
      "Epoch 57/100\n",
      "3/3 [==============================] - 0s 769us/step - loss: 0.0195\n",
      "Epoch 58/100\n",
      "3/3 [==============================] - 0s 630us/step - loss: 0.0186\n",
      "Epoch 59/100\n",
      "3/3 [==============================] - 0s 629us/step - loss: 0.0177\n",
      "Epoch 60/100\n",
      "3/3 [==============================] - 0s 677us/step - loss: 0.0169\n",
      "Epoch 61/100\n",
      "3/3 [==============================] - 0s 613us/step - loss: 0.0161\n",
      "Epoch 62/100\n",
      "3/3 [==============================] - 0s 570us/step - loss: 0.0154\n",
      "Epoch 63/100\n",
      "3/3 [==============================] - 0s 565us/step - loss: 0.0147\n",
      "Epoch 64/100\n",
      "3/3 [==============================] - 0s 553us/step - loss: 0.0140\n",
      "Epoch 65/100\n",
      "3/3 [==============================] - 0s 607us/step - loss: 0.0134\n",
      "Epoch 66/100\n",
      "3/3 [==============================] - 0s 640us/step - loss: 0.0128\n",
      "Epoch 67/100\n",
      "3/3 [==============================] - 0s 586us/step - loss: 0.0122\n",
      "Epoch 68/100\n",
      "3/3 [==============================] - 0s 563us/step - loss: 0.0117\n",
      "Epoch 69/100\n",
      "3/3 [==============================] - 0s 644us/step - loss: 0.0112\n",
      "Epoch 70/100\n",
      "3/3 [==============================] - 0s 599us/step - loss: 0.0107\n",
      "Epoch 71/100\n",
      "3/3 [==============================] - 0s 557us/step - loss: 0.0102\n",
      "Epoch 72/100\n",
      "3/3 [==============================] - 0s 568us/step - loss: 0.0098\n",
      "Epoch 73/100\n",
      "3/3 [==============================] - 0s 775us/step - loss: 0.0093\n",
      "Epoch 74/100\n",
      "3/3 [==============================] - 0s 643us/step - loss: 0.0089\n",
      "Epoch 75/100\n",
      "3/3 [==============================] - 0s 605us/step - loss: 0.0085\n",
      "Epoch 76/100\n",
      "3/3 [==============================] - 0s 632us/step - loss: 0.0082\n",
      "Epoch 77/100\n",
      "3/3 [==============================] - 0s 577us/step - loss: 0.0078\n",
      "Epoch 78/100\n",
      "3/3 [==============================] - 0s 617us/step - loss: 0.0075\n",
      "Epoch 79/100\n",
      "3/3 [==============================] - 0s 557us/step - loss: 0.0071\n",
      "Epoch 80/100\n",
      "3/3 [==============================] - 0s 605us/step - loss: 0.0068\n",
      "Epoch 81/100\n",
      "3/3 [==============================] - 0s 588us/step - loss: 0.0065\n",
      "Epoch 82/100\n",
      "3/3 [==============================] - 0s 590us/step - loss: 0.0063\n",
      "Epoch 83/100\n",
      "3/3 [==============================] - 0s 571us/step - loss: 0.0060\n",
      "Epoch 84/100\n",
      "3/3 [==============================] - 0s 607us/step - loss: 0.0057\n",
      "Epoch 85/100\n",
      "3/3 [==============================] - 0s 553us/step - loss: 0.0055\n",
      "Epoch 86/100\n",
      "3/3 [==============================] - 0s 647us/step - loss: 0.0053\n",
      "Epoch 87/100\n",
      "3/3 [==============================] - 0s 583us/step - loss: 0.0050\n",
      "Epoch 88/100\n",
      "3/3 [==============================] - 0s 580us/step - loss: 0.0048\n",
      "Epoch 89/100\n",
      "3/3 [==============================] - 0s 672us/step - loss: 0.0046\n",
      "Epoch 90/100\n",
      "3/3 [==============================] - 0s 630us/step - loss: 0.0044\n",
      "Epoch 91/100\n",
      "3/3 [==============================] - 0s 665us/step - loss: 0.0042\n",
      "Epoch 92/100\n",
      "3/3 [==============================] - 0s 592us/step - loss: 0.0040\n",
      "Epoch 93/100\n",
      "3/3 [==============================] - 0s 560us/step - loss: 0.0039\n",
      "Epoch 94/100\n",
      "3/3 [==============================] - 0s 578us/step - loss: 0.0037\n",
      "Epoch 95/100\n",
      "3/3 [==============================] - 0s 659us/step - loss: 0.0036\n",
      "Epoch 96/100\n",
      "3/3 [==============================] - 0s 578us/step - loss: 0.0034\n",
      "Epoch 97/100\n",
      "3/3 [==============================] - 0s 589us/step - loss: 0.0033\n",
      "Epoch 98/100\n",
      "3/3 [==============================] - 0s 656us/step - loss: 0.0031\n",
      "Epoch 99/100\n",
      "3/3 [==============================] - 0s 649us/step - loss: 0.0030\n",
      "Epoch 100/100\n",
      "3/3 [==============================] - 0s 583us/step - loss: 0.0029\n"
     ]
    }
   ],
   "source": [
    "history = model.fit(trainX_Scaled,trainY,epochs=100,steps_per_epoch=3)"
   ]
  },
  {
   "cell_type": "code",
   "execution_count": 33,
   "metadata": {},
   "outputs": [
    {
     "data": {
      "text/plain": [
       "array([[10.0709305]], dtype=float32)"
      ]
     },
     "execution_count": 33,
     "metadata": {},
     "output_type": "execute_result"
    }
   ],
   "source": [
    "model.predict(std.transform([[5]]))"
   ]
  },
  {
   "cell_type": "code",
   "execution_count": 35,
   "metadata": {},
   "outputs": [
    {
     "data": {
      "text/plain": [
       "{'name': 'sequential_3',\n",
       " 'layers': [{'class_name': 'Dense',\n",
       "   'config': {'name': 'dense_5',\n",
       "    'trainable': True,\n",
       "    'batch_input_shape': (None, 1),\n",
       "    'dtype': 'float32',\n",
       "    'units': 8,\n",
       "    'activation': 'relu',\n",
       "    'use_bias': True,\n",
       "    'kernel_initializer': {'class_name': 'VarianceScaling',\n",
       "     'config': {'scale': 1.0,\n",
       "      'mode': 'fan_avg',\n",
       "      'distribution': 'uniform',\n",
       "      'seed': None}},\n",
       "    'bias_initializer': {'class_name': 'Zeros', 'config': {}},\n",
       "    'kernel_regularizer': None,\n",
       "    'bias_regularizer': None,\n",
       "    'activity_regularizer': None,\n",
       "    'kernel_constraint': None,\n",
       "    'bias_constraint': None}},\n",
       "  {'class_name': 'Dense',\n",
       "   'config': {'name': 'dense_6',\n",
       "    'trainable': True,\n",
       "    'dtype': 'float32',\n",
       "    'units': 1,\n",
       "    'activation': 'linear',\n",
       "    'use_bias': True,\n",
       "    'kernel_initializer': {'class_name': 'VarianceScaling',\n",
       "     'config': {'scale': 1.0,\n",
       "      'mode': 'fan_avg',\n",
       "      'distribution': 'uniform',\n",
       "      'seed': None}},\n",
       "    'bias_initializer': {'class_name': 'Zeros', 'config': {}},\n",
       "    'kernel_regularizer': None,\n",
       "    'bias_regularizer': None,\n",
       "    'activity_regularizer': None,\n",
       "    'kernel_constraint': None,\n",
       "    'bias_constraint': None}}]}"
      ]
     },
     "execution_count": 35,
     "metadata": {},
     "output_type": "execute_result"
    }
   ],
   "source": [
    "model.get_config()"
   ]
  },
  {
   "cell_type": "code",
   "execution_count": 37,
   "metadata": {},
   "outputs": [
    {
     "data": {
      "text/plain": [
       "<map at 0x7f27681dc748>"
      ]
     },
     "execution_count": 37,
     "metadata": {},
     "output_type": "execute_result"
    }
   ],
   "source": [
    "layer_activations = map(lambda x: x['config']['activation'], model.get_config())\n",
    "layer_activations"
   ]
  },
  {
   "cell_type": "code",
   "execution_count": 34,
   "metadata": {},
   "outputs": [
    {
     "name": "stdout",
     "output_type": "stream",
     "text": [
      "[x] Performing model validation.\n",
      "[x] Model validation successful.\n",
      "[x] Generating Data Dictionary:\n",
      "\t[-] inputX...OK!\n"
     ]
    },
    {
     "ename": "TypeError",
     "evalue": "string indices must be integers",
     "output_type": "error",
     "traceback": [
      "\u001b[0;31m---------------------------------------------------------------------------\u001b[0m",
      "\u001b[0;31mTypeError\u001b[0m                                 Traceback (most recent call last)",
      "\u001b[0;32m<ipython-input-34-66a65ce1b90f>\u001b[0m in \u001b[0;36m<module>\u001b[0;34m\u001b[0m\n\u001b[1;32m      8\u001b[0m }\n\u001b[1;32m      9\u001b[0m \u001b[0;34m\u001b[0m\u001b[0m\n\u001b[0;32m---> 10\u001b[0;31m \u001b[0mkeras2pmml\u001b[0m\u001b[0;34m(\u001b[0m\u001b[0mestimator\u001b[0m \u001b[0;34m=\u001b[0m \u001b[0mmodel\u001b[0m\u001b[0;34m,\u001b[0m\u001b[0mtransformer\u001b[0m\u001b[0;34m=\u001b[0m\u001b[0mstd\u001b[0m\u001b[0;34m,\u001b[0m \u001b[0mfile\u001b[0m \u001b[0;34m=\u001b[0m \u001b[0;34m'residual_value_estimate.pmml'\u001b[0m\u001b[0;34m,\u001b[0m \u001b[0;34m**\u001b[0m\u001b[0mparams\u001b[0m\u001b[0;34m)\u001b[0m\u001b[0;34m\u001b[0m\u001b[0;34m\u001b[0m\u001b[0m\n\u001b[0m",
      "\u001b[0;32m~/environment/tf1_py3/lib/python3.6/site-packages/keras2pmml/__init__.py\u001b[0m in \u001b[0;36mkeras2pmml\u001b[0;34m(estimator, transformer, file, **kwargs)\u001b[0m\n\u001b[1;32m    200\u001b[0m     \u001b[0m_generate_header\u001b[0m\u001b[0;34m(\u001b[0m\u001b[0mpmml\u001b[0m\u001b[0;34m,\u001b[0m \u001b[0mkwargs\u001b[0m\u001b[0;34m)\u001b[0m\u001b[0;34m\u001b[0m\u001b[0;34m\u001b[0m\u001b[0m\n\u001b[1;32m    201\u001b[0m     \u001b[0m_generate_data_dictionary\u001b[0m\u001b[0;34m(\u001b[0m\u001b[0mpmml\u001b[0m\u001b[0;34m,\u001b[0m \u001b[0mfeature_names\u001b[0m\u001b[0;34m,\u001b[0m \u001b[0mtarget_name\u001b[0m\u001b[0;34m,\u001b[0m \u001b[0mtarget_values\u001b[0m\u001b[0;34m)\u001b[0m\u001b[0;34m\u001b[0m\u001b[0;34m\u001b[0m\u001b[0m\n\u001b[0;32m--> 202\u001b[0;31m     \u001b[0m_generate_neural_network\u001b[0m\u001b[0;34m(\u001b[0m\u001b[0mpmml\u001b[0m\u001b[0;34m,\u001b[0m \u001b[0mestimator\u001b[0m\u001b[0;34m,\u001b[0m \u001b[0mtransformer\u001b[0m\u001b[0;34m,\u001b[0m \u001b[0mfeature_names\u001b[0m\u001b[0;34m,\u001b[0m \u001b[0mtarget_name\u001b[0m\u001b[0;34m,\u001b[0m \u001b[0mtarget_values\u001b[0m\u001b[0;34m,\u001b[0m \u001b[0mmodel_name\u001b[0m\u001b[0;34m)\u001b[0m\u001b[0;34m\u001b[0m\u001b[0;34m\u001b[0m\u001b[0m\n\u001b[0m\u001b[1;32m    203\u001b[0m \u001b[0;34m\u001b[0m\u001b[0m\n\u001b[1;32m    204\u001b[0m     \u001b[0mtree\u001b[0m \u001b[0;34m=\u001b[0m \u001b[0mET\u001b[0m\u001b[0;34m.\u001b[0m\u001b[0mElementTree\u001b[0m\u001b[0;34m(\u001b[0m\u001b[0mpmml\u001b[0m\u001b[0;34m)\u001b[0m\u001b[0;34m\u001b[0m\u001b[0;34m\u001b[0m\u001b[0m\n",
      "\u001b[0;32m~/environment/tf1_py3/lib/python3.6/site-packages/keras2pmml/__init__.py\u001b[0m in \u001b[0;36m_generate_neural_network\u001b[0;34m(root, estimator, transformer, feature_names, target_name, target_values, model_name)\u001b[0m\n\u001b[1;32m     74\u001b[0m     \u001b[0m_generate_output\u001b[0m\u001b[0;34m(\u001b[0m\u001b[0mneural_network\u001b[0m\u001b[0;34m,\u001b[0m \u001b[0mtarget_values\u001b[0m\u001b[0;34m)\u001b[0m\u001b[0;34m\u001b[0m\u001b[0;34m\u001b[0m\u001b[0m\n\u001b[1;32m     75\u001b[0m     \u001b[0m_generate_neural_inputs\u001b[0m\u001b[0;34m(\u001b[0m\u001b[0mneural_network\u001b[0m\u001b[0;34m,\u001b[0m \u001b[0mtransformer\u001b[0m\u001b[0;34m,\u001b[0m \u001b[0mfeature_names\u001b[0m\u001b[0;34m)\u001b[0m\u001b[0;34m\u001b[0m\u001b[0;34m\u001b[0m\u001b[0m\n\u001b[0;32m---> 76\u001b[0;31m     \u001b[0m_generate_neural_layers\u001b[0m\u001b[0;34m(\u001b[0m\u001b[0mneural_network\u001b[0m\u001b[0;34m,\u001b[0m \u001b[0mestimator\u001b[0m\u001b[0;34m)\u001b[0m\u001b[0;34m\u001b[0m\u001b[0;34m\u001b[0m\u001b[0m\n\u001b[0m\u001b[1;32m     77\u001b[0m     \u001b[0m_generate_neural_outputs\u001b[0m\u001b[0;34m(\u001b[0m\u001b[0mneural_network\u001b[0m\u001b[0;34m,\u001b[0m \u001b[0mestimator\u001b[0m\u001b[0;34m,\u001b[0m \u001b[0mtarget_name\u001b[0m\u001b[0;34m,\u001b[0m \u001b[0mtarget_values\u001b[0m\u001b[0;34m)\u001b[0m\u001b[0;34m\u001b[0m\u001b[0;34m\u001b[0m\u001b[0m\n\u001b[1;32m     78\u001b[0m     \u001b[0;32mreturn\u001b[0m \u001b[0mneural_network\u001b[0m\u001b[0;34m\u001b[0m\u001b[0;34m\u001b[0m\u001b[0m\n",
      "\u001b[0;32m~/environment/tf1_py3/lib/python3.6/site-packages/keras2pmml/__init__.py\u001b[0m in \u001b[0;36m_generate_neural_layers\u001b[0;34m(neural_network, estimator)\u001b[0m\n\u001b[1;32m    145\u001b[0m     \u001b[0mlayer_biases\u001b[0m \u001b[0;34m=\u001b[0m \u001b[0mestimator\u001b[0m\u001b[0;34m.\u001b[0m\u001b[0mget_weights\u001b[0m\u001b[0;34m(\u001b[0m\u001b[0;34m)\u001b[0m\u001b[0;34m[\u001b[0m\u001b[0;36m1\u001b[0m\u001b[0;34m:\u001b[0m\u001b[0;34m:\u001b[0m\u001b[0;36m2\u001b[0m\u001b[0;34m]\u001b[0m\u001b[0;34m\u001b[0m\u001b[0;34m\u001b[0m\u001b[0m\n\u001b[1;32m    146\u001b[0m     \u001b[0mlayer_activations\u001b[0m \u001b[0;34m=\u001b[0m \u001b[0mmap\u001b[0m\u001b[0;34m(\u001b[0m\u001b[0;32mlambda\u001b[0m \u001b[0mx\u001b[0m\u001b[0;34m:\u001b[0m \u001b[0mx\u001b[0m\u001b[0;34m[\u001b[0m\u001b[0;34m'config'\u001b[0m\u001b[0;34m]\u001b[0m\u001b[0;34m[\u001b[0m\u001b[0;34m'activation'\u001b[0m\u001b[0;34m]\u001b[0m\u001b[0;34m,\u001b[0m \u001b[0mestimator\u001b[0m\u001b[0;34m.\u001b[0m\u001b[0mget_config\u001b[0m\u001b[0;34m(\u001b[0m\u001b[0;34m)\u001b[0m\u001b[0;34m)\u001b[0m\u001b[0;34m\u001b[0m\u001b[0;34m\u001b[0m\u001b[0m\n\u001b[0;32m--> 147\u001b[0;31m     \u001b[0;32mfor\u001b[0m \u001b[0mlayer\u001b[0m\u001b[0;34m,\u001b[0m \u001b[0mparams\u001b[0m \u001b[0;32min\u001b[0m \u001b[0menumerate\u001b[0m\u001b[0;34m(\u001b[0m\u001b[0mzip\u001b[0m\u001b[0;34m(\u001b[0m\u001b[0mlayer_weights\u001b[0m\u001b[0;34m,\u001b[0m \u001b[0mlayer_biases\u001b[0m\u001b[0;34m,\u001b[0m \u001b[0mlayer_activations\u001b[0m\u001b[0;34m)\u001b[0m\u001b[0;34m)\u001b[0m\u001b[0;34m:\u001b[0m\u001b[0;34m\u001b[0m\u001b[0;34m\u001b[0m\u001b[0m\n\u001b[0m\u001b[1;32m    148\u001b[0m         \u001b[0mweights\u001b[0m \u001b[0;34m=\u001b[0m \u001b[0mparams\u001b[0m\u001b[0;34m[\u001b[0m\u001b[0;36m0\u001b[0m\u001b[0;34m]\u001b[0m\u001b[0;34m.\u001b[0m\u001b[0mastype\u001b[0m\u001b[0;34m(\u001b[0m\u001b[0mstr\u001b[0m\u001b[0;34m)\u001b[0m\u001b[0;34m\u001b[0m\u001b[0;34m\u001b[0m\u001b[0m\n\u001b[1;32m    149\u001b[0m         \u001b[0mbiases\u001b[0m \u001b[0;34m=\u001b[0m \u001b[0mparams\u001b[0m\u001b[0;34m[\u001b[0m\u001b[0;36m1\u001b[0m\u001b[0;34m]\u001b[0m\u001b[0;34m.\u001b[0m\u001b[0mastype\u001b[0m\u001b[0;34m(\u001b[0m\u001b[0mstr\u001b[0m\u001b[0;34m)\u001b[0m\u001b[0;34m\u001b[0m\u001b[0;34m\u001b[0m\u001b[0m\n",
      "\u001b[0;32m~/environment/tf1_py3/lib/python3.6/site-packages/keras2pmml/__init__.py\u001b[0m in \u001b[0;36m<lambda>\u001b[0;34m(x)\u001b[0m\n\u001b[1;32m    144\u001b[0m     \u001b[0mlayer_weights\u001b[0m \u001b[0;34m=\u001b[0m \u001b[0mestimator\u001b[0m\u001b[0;34m.\u001b[0m\u001b[0mget_weights\u001b[0m\u001b[0;34m(\u001b[0m\u001b[0;34m)\u001b[0m\u001b[0;34m[\u001b[0m\u001b[0;36m0\u001b[0m\u001b[0;34m:\u001b[0m\u001b[0;34m:\u001b[0m\u001b[0;36m2\u001b[0m\u001b[0;34m]\u001b[0m\u001b[0;34m\u001b[0m\u001b[0;34m\u001b[0m\u001b[0m\n\u001b[1;32m    145\u001b[0m     \u001b[0mlayer_biases\u001b[0m \u001b[0;34m=\u001b[0m \u001b[0mestimator\u001b[0m\u001b[0;34m.\u001b[0m\u001b[0mget_weights\u001b[0m\u001b[0;34m(\u001b[0m\u001b[0;34m)\u001b[0m\u001b[0;34m[\u001b[0m\u001b[0;36m1\u001b[0m\u001b[0;34m:\u001b[0m\u001b[0;34m:\u001b[0m\u001b[0;36m2\u001b[0m\u001b[0;34m]\u001b[0m\u001b[0;34m\u001b[0m\u001b[0;34m\u001b[0m\u001b[0m\n\u001b[0;32m--> 146\u001b[0;31m     \u001b[0mlayer_activations\u001b[0m \u001b[0;34m=\u001b[0m \u001b[0mmap\u001b[0m\u001b[0;34m(\u001b[0m\u001b[0;32mlambda\u001b[0m \u001b[0mx\u001b[0m\u001b[0;34m:\u001b[0m \u001b[0mx\u001b[0m\u001b[0;34m[\u001b[0m\u001b[0;34m'config'\u001b[0m\u001b[0;34m]\u001b[0m\u001b[0;34m[\u001b[0m\u001b[0;34m'activation'\u001b[0m\u001b[0;34m]\u001b[0m\u001b[0;34m,\u001b[0m \u001b[0mestimator\u001b[0m\u001b[0;34m.\u001b[0m\u001b[0mget_config\u001b[0m\u001b[0;34m(\u001b[0m\u001b[0;34m)\u001b[0m\u001b[0;34m)\u001b[0m\u001b[0;34m\u001b[0m\u001b[0;34m\u001b[0m\u001b[0m\n\u001b[0m\u001b[1;32m    147\u001b[0m     \u001b[0;32mfor\u001b[0m \u001b[0mlayer\u001b[0m\u001b[0;34m,\u001b[0m \u001b[0mparams\u001b[0m \u001b[0;32min\u001b[0m \u001b[0menumerate\u001b[0m\u001b[0;34m(\u001b[0m\u001b[0mzip\u001b[0m\u001b[0;34m(\u001b[0m\u001b[0mlayer_weights\u001b[0m\u001b[0;34m,\u001b[0m \u001b[0mlayer_biases\u001b[0m\u001b[0;34m,\u001b[0m \u001b[0mlayer_activations\u001b[0m\u001b[0;34m)\u001b[0m\u001b[0;34m)\u001b[0m\u001b[0;34m:\u001b[0m\u001b[0;34m\u001b[0m\u001b[0;34m\u001b[0m\u001b[0m\n\u001b[1;32m    148\u001b[0m         \u001b[0mweights\u001b[0m \u001b[0;34m=\u001b[0m \u001b[0mparams\u001b[0m\u001b[0;34m[\u001b[0m\u001b[0;36m0\u001b[0m\u001b[0;34m]\u001b[0m\u001b[0;34m.\u001b[0m\u001b[0mastype\u001b[0m\u001b[0;34m(\u001b[0m\u001b[0mstr\u001b[0m\u001b[0;34m)\u001b[0m\u001b[0;34m\u001b[0m\u001b[0;34m\u001b[0m\u001b[0m\n",
      "\u001b[0;31mTypeError\u001b[0m: string indices must be integers"
     ]
    }
   ],
   "source": [
    "params = {\n",
    "    'feature_names':['inputX'],\n",
    "    'target_values':['outputY'],\n",
    "    'target_name':'doubleValue',\n",
    "    'copyright':'Steven Zhou',\n",
    "    'description':'Simple Test',\n",
    "    'model_name':'Residual Value Estimate'\n",
    "}\n",
    "\n",
    "keras2pmml(estimator = model,transformer=std, file = 'residual_value_estimate.pmml', **params)"
   ]
  },
  {
   "cell_type": "code",
   "execution_count": null,
   "metadata": {},
   "outputs": [],
   "source": []
  }
 ],
 "metadata": {
  "kernelspec": {
   "display_name": "Python 3",
   "language": "python",
   "name": "python3"
  },
  "language_info": {
   "codemirror_mode": {
    "name": "ipython",
    "version": 3
   },
   "file_extension": ".py",
   "mimetype": "text/x-python",
   "name": "python",
   "nbconvert_exporter": "python",
   "pygments_lexer": "ipython3",
   "version": "3.6.9"
  }
 },
 "nbformat": 4,
 "nbformat_minor": 4
}
