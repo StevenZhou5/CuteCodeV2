{
 "cells": [
  {
   "cell_type": "markdown",
   "metadata": {},
   "source": [
    "# Tf1.0 和 Tf2.0 区别\n",
    "\n",
    "### 静态图与动态图的区别\n",
    "```python\n",
    "tf1.0:Sess, feed_fict, placeholder 被移除\n",
    "tf1.0:make_one_shot(initializable)_iterator被移除\n",
    "tf2.0:eager mode, @tf.function 与 AutoGraph\n",
    "```\n",
    "### Tf.function 与 AutoGraph 可以将普通的Python函数编程TensorFlow图结构函数，这样做有以下这些好处\n",
    "```python\n",
    "1、性能好：转换为图结构的函数的运算效率会提高很多\n",
    "2、可以导入/导出为SaveModel\n",
    "例子：\n",
    "for/while -> tf.while_loop\n",
    "if -> tf.cond\n",
    "for _ in dataset -> dataset.reduce\n",
    "```"
   ]
  },
  {
   "cell_type": "markdown",
   "metadata": {},
   "source": [
    "# API 变动\n",
    "### 1.Tensorflow现在又2000多个API, 500在根空间下\n",
    "\n",
    "### 2.一些空间被建立了但是没有包含所有相关API\n",
    "```python\n",
    "tf.round没有在tf.math下\n",
    "```\n",
    "### 3.有些在根空间下，但是很少被使用，如：tf.zeta\n",
    "### 4.有些经常使用，但是不在根空间下,如：tf.manip\n",
    "### 5.有些空间层次太深：\n",
    "```python\n",
    "tf.saved_model.signature_constants.CLASSIFY_INPUTS\n",
    "修改后：tf.saved_model.CLASSIFY_INPUTS\n",
    "```\n",
    "### 6.重复API：这几个重复API放到keras后，基本在2.0中构建模型的API都在tf.keras下\n",
    "```python\n",
    "tf.layers  改到 tf.keras.layers\n",
    "tf.losses  改到 tf.keras.losses\n",
    "tf.metrics 改到 tf.keras.metrics\n",
    "```\n",
    "### 7.有些API有前缀，所以应该建立子空间\n",
    "```python\n",
    "tf.string_strip 改为 tf.string.strip\n",
    "```\n",
    "### 8.重新组织\n",
    "```python\n",
    "tf.debugging :所有和debug相关的api\n",
    "tf.dtypes:类型相关api\n",
    "tf.io:输入/输入相关api\n",
    "tf.quantization：和‘量化’相关的api\n",
    "```"
   ]
  },
  {
   "cell_type": "markdown",
   "metadata": {},
   "source": [
    "# 如何升级为TF2.0的模型\n",
    "### 第一步：替换Session.run\n",
    "```python\n",
    "feed_dict、tf.placeholder变成函数调用\n",
    "```\n",
    "### 第二步:  替换API\n",
    "```python\n",
    "tf.get_variable 替换为 tf.Variable\n",
    "variable_scope(为防止命令冲突定义的一个子空间)被替换为一下中的一个\n",
    "    1：tf.keras.laysers.Layer\n",
    "    2: tf.keras.Model\n",
    "    3: tf.Module\n",
    "```\n",
    "### 第三步：升级训练流程：使用tf.keras.Model.fit\n",
    "### 第四步：升级数据输入：Iterator变成直接输入"
   ]
  },
  {
   "cell_type": "code",
   "execution_count": null,
   "metadata": {},
   "outputs": [],
   "source": []
  }
 ],
 "metadata": {
  "kernelspec": {
   "display_name": "Python 3",
   "language": "python",
   "name": "python3"
  },
  "language_info": {
   "codemirror_mode": {
    "name": "ipython",
    "version": 3
   },
   "file_extension": ".py",
   "mimetype": "text/x-python",
   "name": "python",
   "nbconvert_exporter": "python",
   "pygments_lexer": "ipython3",
   "version": "3.7.4"
  }
 },
 "nbformat": 4,
 "nbformat_minor": 4
}
