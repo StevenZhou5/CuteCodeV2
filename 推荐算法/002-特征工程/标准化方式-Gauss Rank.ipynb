{
 "cells": [
  {
   "cell_type": "code",
   "execution_count": 3,
   "metadata": {
    "ExecuteTime": {
     "end_time": "2022-09-05T03:16:28.595993Z",
     "start_time": "2022-09-05T03:16:28.397921Z"
    }
   },
   "outputs": [
    {
     "name": "stdout",
     "output_type": "stream",
     "text": [
      "[-9.9000000e-01 -9.8000000e-01 -9.7000000e-01 -9.6000000e-01\n",
      " -9.5000000e-01 -9.4000000e-01 -9.3000000e-01 -9.2000000e-01\n",
      " -9.1000000e-01 -9.0000000e-01 -8.9000000e-01 -8.8000000e-01\n",
      " -8.7000000e-01 -8.6000000e-01 -8.5000000e-01 -8.4000000e-01\n",
      " -8.3000000e-01 -8.2000000e-01 -8.1000000e-01 -8.0000000e-01\n",
      " -7.9000000e-01 -7.8000000e-01 -7.7000000e-01 -7.6000000e-01\n",
      " -7.5000000e-01 -7.4000000e-01 -7.3000000e-01 -7.2000000e-01\n",
      " -7.1000000e-01 -7.0000000e-01 -6.9000000e-01 -6.8000000e-01\n",
      " -6.7000000e-01 -6.6000000e-01 -6.5000000e-01 -6.4000000e-01\n",
      " -6.3000000e-01 -6.2000000e-01 -6.1000000e-01 -6.0000000e-01\n",
      " -5.9000000e-01 -5.8000000e-01 -5.7000000e-01 -5.6000000e-01\n",
      " -5.5000000e-01 -5.4000000e-01 -5.3000000e-01 -5.2000000e-01\n",
      " -5.1000000e-01 -5.0000000e-01 -4.9000000e-01 -4.8000000e-01\n",
      " -4.7000000e-01 -4.6000000e-01 -4.5000000e-01 -4.4000000e-01\n",
      " -4.3000000e-01 -4.2000000e-01 -4.1000000e-01 -4.0000000e-01\n",
      " -3.9000000e-01 -3.8000000e-01 -3.7000000e-01 -3.6000000e-01\n",
      " -3.5000000e-01 -3.4000000e-01 -3.3000000e-01 -3.2000000e-01\n",
      " -3.1000000e-01 -3.0000000e-01 -2.9000000e-01 -2.8000000e-01\n",
      " -2.7000000e-01 -2.6000000e-01 -2.5000000e-01 -2.4000000e-01\n",
      " -2.3000000e-01 -2.2000000e-01 -2.1000000e-01 -2.0000000e-01\n",
      " -1.9000000e-01 -1.8000000e-01 -1.7000000e-01 -1.6000000e-01\n",
      " -1.5000000e-01 -1.4000000e-01 -1.3000000e-01 -1.2000000e-01\n",
      " -1.1000000e-01 -1.0000000e-01 -9.0000000e-02 -8.0000000e-02\n",
      " -7.0000000e-02 -6.0000000e-02 -5.0000000e-02 -4.0000000e-02\n",
      " -3.0000000e-02 -2.0000000e-02 -1.0000000e-02  8.8817842e-16\n",
      "  1.0000000e-02  2.0000000e-02  3.0000000e-02  4.0000000e-02\n",
      "  5.0000000e-02  6.0000000e-02  7.0000000e-02  8.0000000e-02\n",
      "  9.0000000e-02  1.0000000e-01  1.1000000e-01  1.2000000e-01\n",
      "  1.3000000e-01  1.4000000e-01  1.5000000e-01  1.6000000e-01\n",
      "  1.7000000e-01  1.8000000e-01  1.9000000e-01  2.0000000e-01\n",
      "  2.1000000e-01  2.2000000e-01  2.3000000e-01  2.4000000e-01\n",
      "  2.5000000e-01  2.6000000e-01  2.7000000e-01  2.8000000e-01\n",
      "  2.9000000e-01  3.0000000e-01  3.1000000e-01  3.2000000e-01\n",
      "  3.3000000e-01  3.4000000e-01  3.5000000e-01  3.6000000e-01\n",
      "  3.7000000e-01  3.8000000e-01  3.9000000e-01  4.0000000e-01\n",
      "  4.1000000e-01  4.2000000e-01  4.3000000e-01  4.4000000e-01\n",
      "  4.5000000e-01  4.6000000e-01  4.7000000e-01  4.8000000e-01\n",
      "  4.9000000e-01  5.0000000e-01  5.1000000e-01  5.2000000e-01\n",
      "  5.3000000e-01  5.4000000e-01  5.5000000e-01  5.6000000e-01\n",
      "  5.7000000e-01  5.8000000e-01  5.9000000e-01  6.0000000e-01\n",
      "  6.1000000e-01  6.2000000e-01  6.3000000e-01  6.4000000e-01\n",
      "  6.5000000e-01  6.6000000e-01  6.7000000e-01  6.8000000e-01\n",
      "  6.9000000e-01  7.0000000e-01  7.1000000e-01  7.2000000e-01\n",
      "  7.3000000e-01  7.4000000e-01  7.5000000e-01  7.6000000e-01\n",
      "  7.7000000e-01  7.8000000e-01  7.9000000e-01  8.0000000e-01\n",
      "  8.1000000e-01  8.2000000e-01  8.3000000e-01  8.4000000e-01\n",
      "  8.5000000e-01  8.6000000e-01  8.7000000e-01  8.8000000e-01\n",
      "  8.9000000e-01  9.0000000e-01  9.1000000e-01  9.2000000e-01\n",
      "  9.3000000e-01  9.4000000e-01  9.5000000e-01  9.6000000e-01\n",
      "  9.7000000e-01  9.8000000e-01  9.9000000e-01]\n"
     ]
    },
    {
     "data": {
      "text/plain": [
       "(array([ 3.,  9., 18., 30., 40., 39., 30., 18.,  9.,  3.]),\n",
       " array([-1.82138637e+00, -1.45710909e+00, -1.09283182e+00, -7.28554547e-01,\n",
       "        -3.64277274e-01,  2.19824159e-14,  3.64277274e-01,  7.28554547e-01,\n",
       "         1.09283182e+00,  1.45710909e+00,  1.82138637e+00]),\n",
       " <a list of 10 Patch objects>)"
      ]
     },
     "execution_count": 3,
     "metadata": {},
     "output_type": "execute_result"
    },
    {
     "data": {
      "image/png": "[encoded data removed]",
      "text/plain": [
       "<Figure size 432x288 with 1 Axes>"
      ]
     },
     "metadata": {
      "needs_background": "light"
     },
     "output_type": "display_data"
    }
   ],
   "source": [
    "import numpy as np\n",
    "import matplotlib.pyplot as plt\n",
    " \n",
    "from scipy.special import erfinv\n",
    " \n",
    "# simulating normalized ranks from -0.99 to 0.99\n",
    "x = np.arange( -0.99, 1, 0.01 )\n",
    "print(x) # 均匀分布变为正太分布\n",
    " \n",
    "y = erfinv( x )\n",
    "plt.hist( y )"
   ]
  },
  {
   "cell_type": "markdown",
   "metadata": {},
   "source": [
    "# RankGauss的具体计算过程"
   ]
  },
  {
   "cell_type": "code",
   "execution_count": 7,
   "metadata": {
    "ExecuteTime": {
     "end_time": "2022-09-05T03:30:14.448015Z",
     "start_time": "2022-09-05T03:30:14.440972Z"
    }
   },
   "outputs": [
    {
     "name": "stdout",
     "output_type": "stream",
     "text": [
      "[2 0 3 4 1]\n",
      "[ 0.  -1.   0.5  1.  -0.5]\n",
      "[ 0.       -0.999999  0.5       0.999999 -0.5     ]\n",
      "[ 0.         -3.45891074  0.47693628  3.45891074 -0.47693628]\n"
     ]
    }
   ],
   "source": [
    "x = np.array([45, 25, 94, 96, 40])\n",
    "# 第一步：将原始数据排序，只保留排序信息\n",
    "x = x.argsort().argsort() \n",
    "print(x) \n",
    "# 第二步：将数据变换到[-1, 1]区间\n",
    "x = (x / x.max() - 0.5) * 2\n",
    "print(x)\n",
    "# 第三步：调整极端值\n",
    "epsilon = 1e-6\n",
    "x = np.clip(x, -1 + epsilon, 1 - epsilon) # \n",
    "print(x)\n",
    "# 第四步：erfinv- 使得我们的数据分布转换为了高斯分布\n",
    "# 上一步调整极端值是为了这里做准备，因为 erfinv(1) 等于正无穷，erfinv(-1)等于负无穷。\n",
    "from scipy.special import erfinv\n",
    "x = erfinv(x)\n",
    "print(x)"
   ]
  },
  {
   "cell_type": "markdown",
   "metadata": {},
   "source": [
    "# 对比 RankGauss, 标准化，归一化的效果\n",
    "让我们对比看看这三种方式对数据的影响。\n",
    "\n",
    "我们先定义这三种转换方式的函数，并对随机生成的1000个数做转换，看看对数据分布的影响。"
   ]
  },
  {
   "cell_type": "code",
   "execution_count": 14,
   "metadata": {
    "ExecuteTime": {
     "end_time": "2022-09-05T03:38:48.590535Z",
     "start_time": "2022-09-05T03:38:48.419208Z"
    }
   },
   "outputs": [
    {
     "data": {
      "image/png": "[encoded data removed]",
      "text/plain": [
       "<Figure size 432x288 with 1 Axes>"
      ]
     },
     "metadata": {
      "needs_background": "light"
     },
     "output_type": "display_data"
    }
   ],
   "source": [
    "def scale_minmax(x):\n",
    "    '''归一化'''\n",
    "    return (x - x.min()) / (x.max() - x.min())\n",
    "\n",
    "def scale_norm(x):\n",
    "    '''标准化'''\n",
    "    return (x - x.mean()) / x.std()\n",
    "\n",
    "def scale_rankgauss(x, epsilon=1e-6): \n",
    "    '''rankgauss'''\n",
    "    x = x.argsort().argsort() # rank\n",
    "    x = (x/x.max()-0.5)*2 # scale\n",
    "    x = np.clip(x, -1+epsilon, 1-epsilon)\n",
    "    x = erfinv(x)\n",
    "    return x\n",
    "\n",
    "x = np.random.randint(0, 100, 1000)\n",
    "# 原始数据\n",
    "plt.hist(x)\n",
    "\n",
    "x_norm = scale_norm(x)\n",
    "x_minmax = scale_minmax(x)\n",
    "x_rankgauss = scale_rankgauss(x)"
   ]
  },
  {
   "cell_type": "code",
   "execution_count": 15,
   "metadata": {
    "ExecuteTime": {
     "end_time": "2022-09-05T03:43:22.797386Z",
     "start_time": "2022-09-05T03:43:22.556475Z"
    }
   },
   "outputs": [
    {
     "data": {
      "text/plain": [
       "(array([21., 24., 10., 10., 25., 25., 23., 24., 19., 20., 17., 21., 18.,\n",
       "        14., 21., 24., 24., 18., 19., 22., 23., 27., 20., 15., 12., 20.,\n",
       "        18., 19., 18., 20., 26., 22., 21., 18., 26., 21., 22., 13., 20.,\n",
       "        16., 29., 22., 25., 11., 15., 15., 17., 27., 22., 21.]),\n",
       " array([-1.7253041 , -1.6564741 , -1.58764409, -1.51881408, -1.44998407,\n",
       "        -1.38115406, -1.31232406, -1.24349405, -1.17466404, -1.10583403,\n",
       "        -1.03700402, -0.96817402, -0.89934401, -0.830514  , -0.76168399,\n",
       "        -0.69285398, -0.62402398, -0.55519397, -0.48636396, -0.41753395,\n",
       "        -0.34870394, -0.27987394, -0.21104393, -0.14221392, -0.07338391,\n",
       "        -0.0045539 ,  0.0642761 ,  0.13310611,  0.20193612,  0.27076613,\n",
       "         0.33959614,  0.40842614,  0.47725615,  0.54608616,  0.61491617,\n",
       "         0.68374618,  0.75257618,  0.82140619,  0.8902362 ,  0.95906621,\n",
       "         1.02789622,  1.09672622,  1.16555623,  1.23438624,  1.30321625,\n",
       "         1.37204626,  1.44087626,  1.50970627,  1.57853628,  1.64736629,\n",
       "         1.7161963 ]),\n",
       " <a list of 50 Patch objects>)"
      ]
     },
     "execution_count": 15,
     "metadata": {},
     "output_type": "execute_result"
    },
    {
     "data": {
      "image/png": "[encoded data removed]",
      "text/plain": [
       "<Figure size 432x288 with 1 Axes>"
      ]
     },
     "metadata": {
      "needs_background": "light"
     },
     "output_type": "display_data"
    }
   ],
   "source": [
    "# 经过标准化处理\n",
    "plt.hist(x_norm, bins=50)"
   ]
  },
  {
   "cell_type": "code",
   "execution_count": 17,
   "metadata": {
    "ExecuteTime": {
     "end_time": "2022-09-05T03:43:42.440679Z",
     "start_time": "2022-09-05T03:43:42.197588Z"
    }
   },
   "outputs": [
    {
     "data": {
      "text/plain": [
       "(array([21., 24., 10., 10., 25., 25., 23., 24., 19., 20., 17., 21., 18.,\n",
       "        14., 21., 24., 24., 18., 19., 22., 23., 27., 20., 15., 12., 20.,\n",
       "        18., 19., 18., 20., 26., 22., 21., 18., 26., 21., 22., 13., 20.,\n",
       "        16., 29., 22., 25., 11., 15., 15., 17., 27., 22., 21.]),\n",
       " array([0.  , 0.02, 0.04, 0.06, 0.08, 0.1 , 0.12, 0.14, 0.16, 0.18, 0.2 ,\n",
       "        0.22, 0.24, 0.26, 0.28, 0.3 , 0.32, 0.34, 0.36, 0.38, 0.4 , 0.42,\n",
       "        0.44, 0.46, 0.48, 0.5 , 0.52, 0.54, 0.56, 0.58, 0.6 , 0.62, 0.64,\n",
       "        0.66, 0.68, 0.7 , 0.72, 0.74, 0.76, 0.78, 0.8 , 0.82, 0.84, 0.86,\n",
       "        0.88, 0.9 , 0.92, 0.94, 0.96, 0.98, 1.  ]),\n",
       " <a list of 50 Patch objects>)"
      ]
     },
     "execution_count": 17,
     "metadata": {},
     "output_type": "execute_result"
    },
    {
     "data": {
      "image/png": "[encoded data removed]",
      "text/plain": [
       "<Figure size 432x288 with 1 Axes>"
      ]
     },
     "metadata": {
      "needs_background": "light"
     },
     "output_type": "display_data"
    }
   ],
   "source": [
    "# 经过归一化处理\n",
    "plt.hist(x_minmax, bins=50)"
   ]
  },
  {
   "cell_type": "code",
   "execution_count": 18,
   "metadata": {
    "ExecuteTime": {
     "end_time": "2022-09-05T03:44:14.696910Z",
     "start_time": "2022-09-05T03:44:14.448230Z"
    }
   },
   "outputs": [
    {
     "data": {
      "text/plain": [
       "(array([ 1.,  0.,  0.,  0.,  0.,  0.,  0.,  0.,  0.,  1.,  2.,  2.,  4.,\n",
       "         6., 10., 14., 19., 27., 35., 43., 53., 62., 69., 75., 77., 77.,\n",
       "        75., 69., 62., 53., 43., 35., 27., 19., 14., 10.,  6.,  4.,  2.,\n",
       "         2.,  1.,  0.,  0.,  0.,  0.,  0.,  0.,  0.,  0.,  1.]),\n",
       " array([-3.45891074e+00, -3.32055431e+00, -3.18219788e+00, -3.04384145e+00,\n",
       "        -2.90548502e+00, -2.76712859e+00, -2.62877216e+00, -2.49041573e+00,\n",
       "        -2.35205930e+00, -2.21370287e+00, -2.07534644e+00, -1.93699001e+00,\n",
       "        -1.79863358e+00, -1.66027715e+00, -1.52192072e+00, -1.38356429e+00,\n",
       "        -1.24520787e+00, -1.10685144e+00, -9.68495006e-01, -8.30138577e-01,\n",
       "        -6.91782147e-01, -5.53425718e-01, -4.15069288e-01, -2.76712859e-01,\n",
       "        -1.38356429e-01, -7.72404363e-12,  1.38356429e-01,  2.76712859e-01,\n",
       "         4.15069288e-01,  5.53425718e-01,  6.91782147e-01,  8.30138577e-01,\n",
       "         9.68495006e-01,  1.10685144e+00,  1.24520787e+00,  1.38356429e+00,\n",
       "         1.52192072e+00,  1.66027715e+00,  1.79863358e+00,  1.93699001e+00,\n",
       "         2.07534644e+00,  2.21370287e+00,  2.35205930e+00,  2.49041573e+00,\n",
       "         2.62877216e+00,  2.76712859e+00,  2.90548502e+00,  3.04384145e+00,\n",
       "         3.18219788e+00,  3.32055431e+00,  3.45891074e+00]),\n",
       " <a list of 50 Patch objects>)"
      ]
     },
     "execution_count": 18,
     "metadata": {},
     "output_type": "execute_result"
    },
    {
     "data": {
      "image/png": "[encoded data removed]",
      "text/plain": [
       "<Figure size 432x288 with 1 Axes>"
      ]
     },
     "metadata": {
      "needs_background": "light"
     },
     "output_type": "display_data"
    }
   ],
   "source": [
    "# 进过GaussRank处理\n",
    "plt.hist(x_rankgauss, bins=50)"
   ]
  },
  {
   "cell_type": "markdown",
   "metadata": {
    "ExecuteTime": {
     "end_time": "2022-09-05T03:45:14.632740Z",
     "start_time": "2022-09-05T03:45:14.628034Z"
    }
   },
   "source": [
    "因为数据本身是随机生成的，所以数据分布很均匀。\n",
    "\n",
    "经过标准化和归一化，数据本身的分布并没有发生改变，只是值的大小变化了。\n",
    "\n",
    "本来数据的范围是在0-100。经过标准化，数据范围是-1.7-1.7。而经过归一化，数据范围是0-1。\n",
    "\n",
    "经过 RankGauss 的处理后，数据转换为了高斯分布，数据范围是-3.46-3.46。这就是 RankGauss 的不同之处。\n",
    "它可以将数据转换为高斯分布，但是代价是只保留了数据的排序信息。"
   ]
  },
  {
   "attachments": {
    "11.png": {
     "image/png": "[encoded data removed]"
    }
   },
   "cell_type": "markdown",
   "metadata": {},
   "source": [
    "# RankGauss 在真实数据集上的效果\n",
    "\n",
    "让我们对比看看 RankGuass，标准化，归一化在真实数据集上，对模型结果的影响是怎么样的。\n",
    "\n",
    "我们以 MOA 比赛为例，下表是分别使用这三种方法模型的loss，可以看出使用rankGauss的模型效果最好。\n",
    "\n",
    "![11.png](attachment:11.png)"
   ]
  },
  {
   "cell_type": "markdown",
   "metadata": {},
   "source": [
    "# 总结\n",
    "总的来说，RankGauss 是一个不错的转换数据的方法。\n",
    "\n",
    "在使用神经网络模型时，我们可以对比 RankGauss，标准化，归一化的效果。\n",
    "\n",
    "RankGauss 的优势是将数据转换为了高斯分布，但是代价是只保留了数据的排序信息。\n",
    "\n",
    "如果有任何问题，欢迎在下方留言。"
   ]
  },
  {
   "cell_type": "code",
   "execution_count": null,
   "metadata": {},
   "outputs": [],
   "source": []
  }
 ],
 "metadata": {
  "kernelspec": {
   "display_name": "Python 3",
   "language": "python",
   "name": "python3"
  },
  "language_info": {
   "codemirror_mode": {
    "name": "ipython",
    "version": 3
   },
   "file_extension": ".py",
   "mimetype": "text/x-python",
   "name": "python",
   "nbconvert_exporter": "python",
   "pygments_lexer": "ipython3",
   "version": "3.7.4"
  },
  "toc": {
   "base_numbering": 1,
   "nav_menu": {},
   "number_sections": true,
   "sideBar": true,
   "skip_h1_title": false,
   "title_cell": "Table of Contents",
   "title_sidebar": "Contents",
   "toc_cell": false,
   "toc_position": {},
   "toc_section_display": true,
   "toc_window_display": false
  },
  "varInspector": {
   "cols": {
    "lenName": 16,
    "lenType": 16,
    "lenVar": 40
   },
   "kernels_config": {
    "python": {
     "delete_cmd_postfix": "",
     "delete_cmd_prefix": "del ",
     "library": "var_list.py",
     "varRefreshCmd": "print(var_dic_list())"
    },
    "r": {
     "delete_cmd_postfix": ") ",
     "delete_cmd_prefix": "rm(",
     "library": "var_list.r",
     "varRefreshCmd": "cat(var_dic_list()) "
    }
   },
   "types_to_exclude": [
    "module",
    "function",
    "builtin_function_or_method",
    "instance",
    "_Feature"
   ],
   "window_display": false
  }
 },
 "nbformat": 4,
 "nbformat_minor": 2
}
