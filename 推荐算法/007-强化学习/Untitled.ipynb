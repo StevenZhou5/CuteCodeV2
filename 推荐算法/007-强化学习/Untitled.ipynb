{
 "cells": [
  {
   "cell_type": "code",
   "execution_count": 5,
   "metadata": {
    "ExecuteTime": {
     "end_time": "2022-09-21T09:59:13.957001Z",
     "start_time": "2022-09-21T09:59:13.954380Z"
    }
   },
   "outputs": [],
   "source": [
    "import gym"
   ]
  },
  {
   "cell_type": "code",
   "execution_count": 6,
   "metadata": {
    "ExecuteTime": {
     "end_time": "2022-09-21T09:59:56.696385Z",
     "start_time": "2022-09-21T09:59:56.676887Z"
    }
   },
   "outputs": [
    {
     "data": {
      "text/plain": [
       "(36, {'prob': 1})"
      ]
     },
     "execution_count": 6,
     "metadata": {},
     "output_type": "execute_result"
    }
   ],
   "source": [
    "env = gym.make(\"CliffWalking-v0\")\n",
    "env.reset()"
   ]
  },
  {
   "cell_type": "code",
   "execution_count": 9,
   "metadata": {
    "ExecuteTime": {
     "end_time": "2022-09-21T10:07:38.431434Z",
     "start_time": "2022-09-21T10:07:33.347398Z"
    }
   },
   "outputs": [
    {
     "data": {
      "text/plain": [
       "array([[[ 91, 150,  97],\n",
       "        [ 91, 150,  97],\n",
       "        [ 91, 150,  97],\n",
       "        ...,\n",
       "        [ 86, 170,  69],\n",
       "        [ 86, 170,  69],\n",
       "        [ 86, 170,  69]],\n",
       "\n",
       "       [[ 91, 150,  97],\n",
       "        [ 91, 150,  97],\n",
       "        [ 91, 150,  97],\n",
       "        ...,\n",
       "        [ 86, 170,  69],\n",
       "        [ 86, 170,  69],\n",
       "        [ 86, 170,  69]],\n",
       "\n",
       "       [[ 91, 150,  97],\n",
       "        [ 91, 150,  97],\n",
       "        [ 98, 166, 105],\n",
       "        ...,\n",
       "        [105, 182,  74],\n",
       "        [105, 182,  74],\n",
       "        [ 86, 170,  69]],\n",
       "\n",
       "       ...,\n",
       "\n",
       "       [[ 86, 170,  69],\n",
       "        [ 86, 170,  69],\n",
       "        [ 93, 188,  74],\n",
       "        ...,\n",
       "        [ 91, 150,  97],\n",
       "        [ 91, 150,  97],\n",
       "        [ 91, 150,  97]],\n",
       "\n",
       "       [[ 86, 170,  69],\n",
       "        [ 86, 170,  69],\n",
       "        [ 93, 188,  74],\n",
       "        ...,\n",
       "        [ 91, 150,  97],\n",
       "        [ 91, 150,  97],\n",
       "        [ 91, 150,  97]],\n",
       "\n",
       "       [[ 86, 170,  69],\n",
       "        [ 86, 170,  69],\n",
       "        [ 86, 170,  69],\n",
       "        ...,\n",
       "        [ 91, 150,  97],\n",
       "        [ 91, 150,  97],\n",
       "        [ 91, 150,  97]]], dtype=uint8)"
      ]
     },
     "execution_count": 9,
     "metadata": {},
     "output_type": "execute_result"
    }
   ],
   "source": [
    "env.render()"
   ]
  },
  {
   "cell_type": "code",
   "execution_count": 10,
   "metadata": {
    "ExecuteTime": {
     "end_time": "2022-09-21T10:08:10.612283Z",
     "start_time": "2022-09-21T10:08:10.607840Z"
    }
   },
   "outputs": [
    {
     "data": {
      "text/plain": [
       "(24, -1, False, False, {'prob': 1.0})"
      ]
     },
     "execution_count": 10,
     "metadata": {},
     "output_type": "execute_result"
    }
   ],
   "source": [
    "env.step(0)"
   ]
  },
  {
   "cell_type": "code",
   "execution_count": null,
   "metadata": {},
   "outputs": [],
   "source": []
  }
 ],
 "metadata": {
  "kernelspec": {
   "display_name": "Python 3",
   "language": "python",
   "name": "python3"
  },
  "language_info": {
   "codemirror_mode": {
    "name": "ipython",
    "version": 3
   },
   "file_extension": ".py",
   "mimetype": "text/x-python",
   "name": "python",
   "nbconvert_exporter": "python",
   "pygments_lexer": "ipython3",
   "version": "3.7.4"
  },
  "toc": {
   "base_numbering": 1,
   "nav_menu": {},
   "number_sections": true,
   "sideBar": true,
   "skip_h1_title": false,
   "title_cell": "Table of Contents",
   "title_sidebar": "Contents",
   "toc_cell": false,
   "toc_position": {},
   "toc_section_display": true,
   "toc_window_display": false
  },
  "varInspector": {
   "cols": {
    "lenName": 16,
    "lenType": 16,
    "lenVar": 40
   },
   "kernels_config": {
    "python": {
     "delete_cmd_postfix": "",
     "delete_cmd_prefix": "del ",
     "library": "var_list.py",
     "varRefreshCmd": "print(var_dic_list())"
    },
    "r": {
     "delete_cmd_postfix": ") ",
     "delete_cmd_prefix": "rm(",
     "library": "var_list.r",
     "varRefreshCmd": "cat(var_dic_list()) "
    }
   },
   "types_to_exclude": [
    "module",
    "function",
    "builtin_function_or_method",
    "instance",
    "_Feature"
   ],
   "window_display": false
  }
 },
 "nbformat": 4,
 "nbformat_minor": 2
}
