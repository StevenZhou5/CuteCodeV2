{
 "cells": [
  {
   "cell_type": "code",
   "execution_count": 1,
   "metadata": {
    "ExecuteTime": {
     "end_time": "2021-02-02T02:40:24.851488Z",
     "start_time": "2021-02-02T02:40:24.848945Z"
    }
   },
   "outputs": [],
   "source": [
    "import numpy as np"
   ]
  },
  {
   "cell_type": "code",
   "execution_count": 4,
   "metadata": {
    "ExecuteTime": {
     "end_time": "2021-02-02T02:43:16.157861Z",
     "start_time": "2021-02-02T02:43:16.153333Z"
    }
   },
   "outputs": [
    {
     "data": {
      "text/plain": [
       "array([[2, 3],\n",
       "       [1, 1]])"
      ]
     },
     "execution_count": 4,
     "metadata": {},
     "output_type": "execute_result"
    }
   ],
   "source": [
    "# 一列代表一个向量，query向量\n",
    "Q = np.array([[2,3],\n",
    "              [1,1]])\n",
    "Q"
   ]
  },
  {
   "cell_type": "code",
   "execution_count": 5,
   "metadata": {
    "ExecuteTime": {
     "end_time": "2021-02-02T02:43:18.342088Z",
     "start_time": "2021-02-02T02:43:18.339139Z"
    }
   },
   "outputs": [],
   "source": [
    "# doc的向量\n",
    "D = np.array([[1,1],\n",
    "              [2,3]])"
   ]
  },
  {
   "cell_type": "code",
   "execution_count": 19,
   "metadata": {
    "ExecuteTime": {
     "end_time": "2021-02-02T02:48:30.607768Z",
     "start_time": "2021-02-02T02:48:30.603304Z"
    }
   },
   "outputs": [
    {
     "data": {
      "text/plain": [
       "array([[4, 5],\n",
       "       [5, 6]])"
      ]
     },
     "execution_count": 19,
     "metadata": {},
     "output_type": "execute_result"
    }
   ],
   "source": [
    "np.matmul(Q.T,D)"
   ]
  },
  {
   "cell_type": "code",
   "execution_count": 17,
   "metadata": {
    "ExecuteTime": {
     "end_time": "2021-02-02T02:47:50.169797Z",
     "start_time": "2021-02-02T02:47:50.164934Z"
    }
   },
   "outputs": [
    {
     "data": {
      "text/plain": [
       "array([[ 5],\n",
       "       [10]])"
      ]
     },
     "execution_count": 17,
     "metadata": {},
     "output_type": "execute_result"
    }
   ],
   "source": [
    "np.sum(Q**2,axis=0).reshape((len(Q[0]),1))"
   ]
  },
  {
   "cell_type": "code",
   "execution_count": 25,
   "metadata": {
    "ExecuteTime": {
     "end_time": "2021-02-02T02:52:04.463035Z",
     "start_time": "2021-02-02T02:52:04.456828Z"
    }
   },
   "outputs": [
    {
     "data": {
      "text/plain": [
       "array([[0.8       , 0.70710678],\n",
       "       [0.70710678, 0.6       ]])"
      ]
     },
     "execution_count": 25,
     "metadata": {},
     "output_type": "execute_result"
    }
   ],
   "source": [
    "cos_res = np.matmul( Q.T , D )/ np.multiply(np.sqrt(np.sum(Q**2,axis=0)).reshape((len(Q[0]),1)),np.sqrt(np.sum(D**2,axis=0)))\n",
    "cos_res"
   ]
  },
  {
   "cell_type": "code",
   "execution_count": 27,
   "metadata": {
    "ExecuteTime": {
     "end_time": "2021-02-02T02:55:48.532486Z",
     "start_time": "2021-02-02T02:55:48.524197Z"
    }
   },
   "outputs": [
    {
     "data": {
      "text/plain": [
       "array([[1.        , 0.9486833 , 0.89442719],\n",
       "       [0.9486833 , 0.8       , 0.70710678],\n",
       "       [0.89442719, 0.70710678, 0.6       ]])"
      ]
     },
     "execution_count": 27,
     "metadata": {},
     "output_type": "execute_result"
    }
   ],
   "source": [
    "# 计算余弦相似度的方法\n",
    "def cop_cos(Q,D):\n",
    "    return np.matmul( Q.T , D )/np.sqrt(np.multiply(np.sum(Q**2,axis=0).reshape((len(Q[0]),1)),\n",
    "                                                     np.sum(D**2,axis=0)))\n",
    "Q = np.array([[1,2,3],\n",
    "              [1,1,1]])\n",
    "D = np.array([[1,1,1],\n",
    "              [1,2,3]])\n",
    "cop_cos(Q,D)"
   ]
  },
  {
   "cell_type": "code",
   "execution_count": null,
   "metadata": {},
   "outputs": [],
   "source": []
  }
 ],
 "metadata": {
  "kernelspec": {
   "display_name": "Python 3",
   "language": "python",
   "name": "python3"
  },
  "language_info": {
   "codemirror_mode": {
    "name": "ipython",
    "version": 3
   },
   "file_extension": ".py",
   "mimetype": "text/x-python",
   "name": "python",
   "nbconvert_exporter": "python",
   "pygments_lexer": "ipython3",
   "version": "3.7.4"
  },
  "toc": {
   "base_numbering": 1,
   "nav_menu": {},
   "number_sections": true,
   "sideBar": true,
   "skip_h1_title": false,
   "title_cell": "Table of Contents",
   "title_sidebar": "Contents",
   "toc_cell": false,
   "toc_position": {},
   "toc_section_display": true,
   "toc_window_display": false
  },
  "varInspector": {
   "cols": {
    "lenName": 16,
    "lenType": 16,
    "lenVar": 40
   },
   "kernels_config": {
    "python": {
     "delete_cmd_postfix": "",
     "delete_cmd_prefix": "del ",
     "library": "var_list.py",
     "varRefreshCmd": "print(var_dic_list())"
    },
    "r": {
     "delete_cmd_postfix": ") ",
     "delete_cmd_prefix": "rm(",
     "library": "var_list.r",
     "varRefreshCmd": "cat(var_dic_list()) "
    }
   },
   "types_to_exclude": [
    "module",
    "function",
    "builtin_function_or_method",
    "instance",
    "_Feature"
   ],
   "window_display": false
  }
 },
 "nbformat": 4,
 "nbformat_minor": 4
}
