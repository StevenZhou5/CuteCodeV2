{
 "cells": [
  {
   "cell_type": "code",
   "execution_count": 1,
   "metadata": {
    "ExecuteTime": {
     "end_time": "2021-02-07T07:04:40.814550Z",
     "start_time": "2021-02-07T07:04:38.100198Z"
    }
   },
   "outputs": [],
   "source": [
    "import tensorflow as tf\n",
    "from deepctr.models import DCN\n",
    "from utils import check_model ,get_test_data,SAMPLE_SIZE"
   ]
  },
  {
   "cell_type": "code",
   "execution_count": 2,
   "metadata": {
    "ExecuteTime": {
     "end_time": "2021-02-07T07:04:41.543307Z",
     "start_time": "2021-02-07T07:04:41.533929Z"
    }
   },
   "outputs": [
    {
     "data": {
      "text/plain": [
       "8"
      ]
     },
     "execution_count": 2,
     "metadata": {},
     "output_type": "execute_result"
    }
   ],
   "source": [
    "SAMPLE_SIZE"
   ]
  },
  {
   "cell_type": "code",
   "execution_count": 3,
   "metadata": {
    "ExecuteTime": {
     "end_time": "2021-02-07T07:04:42.531372Z",
     "start_time": "2021-02-07T07:04:42.524984Z"
    }
   },
   "outputs": [
    {
     "name": "stdout",
     "output_type": "stream",
     "text": [
      "WARNING:tensorflow:From /Users/zhenwuzhou/environment/tf2_py3/lib/python3.7/site-packages/tensorflow/python/keras/initializers.py:143: calling RandomNormal.__init__ (from tensorflow.python.ops.init_ops) with dtype is deprecated and will be removed in a future version.\n",
      "Instructions for updating:\n",
      "Call initializer instance with the dtype argument instead of passing it to the constructor\n"
     ]
    }
   ],
   "source": [
    "x,y,feature_columns = get_test_data(SAMPLE_SIZE,sparse_feature_num=2,dense_feature_num=2)"
   ]
  },
  {
   "cell_type": "code",
   "execution_count": 4,
   "metadata": {
    "ExecuteTime": {
     "end_time": "2021-02-07T07:04:44.553221Z",
     "start_time": "2021-02-07T07:04:44.549648Z"
    }
   },
   "outputs": [
    {
     "name": "stdout",
     "output_type": "stream",
     "text": [
      "VarLenSparseFeat(sparsefeat=SparseFeat(name='weighted_seq', vocabulary_size=2, embedding_dim=4, use_hash=False, dtype='int32', embeddings_initializer=<tensorflow.python.keras.initializers.RandomNormal object at 0x7fab266fe9d0>, embedding_name='weighted_seq', group_name='default_group', trainable=True), maxlen=3, combiner='mean', length_name='weighted_seq_seq_length', weight_name='weight', weight_norm=True)\n",
      "\n",
      "SparseFeat(name='sparse_feature_0', vocabulary_size=4, embedding_dim=4, use_hash=False, dtype=tf.int32, embeddings_initializer=<tensorflow.python.keras.initializers.RandomNormal object at 0x7fab266fe990>, embedding_name='sparse_feature_0', group_name='default_group', trainable=True)\n",
      "\n",
      "SparseFeat(name='sparse_feature_1', vocabulary_size=4, embedding_dim=4, use_hash=False, dtype=tf.int32, embeddings_initializer=<tensorflow.python.keras.initializers.RandomNormal object at 0x7fab26669dd0>, embedding_name='sparse_feature_1', group_name='default_group', trainable=True)\n",
      "\n",
      "DenseFeat(name='dense_feature_0', dimension=1, dtype=tf.float32, transform_fn=<function get_test_data.<locals>.<lambda> at 0x7fab266b6440>)\n",
      "\n",
      "DenseFeat(name='dense_feature_1', dimension=1, dtype=tf.float32, transform_fn=<function get_test_data.<locals>.<lambda> at 0x7fab266b64d0>)\n",
      "\n",
      "VarLenSparseFeat(sparsefeat=SparseFeat(name='sequence_sum', vocabulary_size=5, embedding_dim=4, use_hash=False, dtype='int32', embeddings_initializer=<tensorflow.python.keras.initializers.RandomNormal object at 0x7fab266feed0>, embedding_name='sequence_sum', group_name='default_group', trainable=True), maxlen=1, combiner='sum', length_name=None, weight_name=None, weight_norm=True)\n",
      "\n",
      "VarLenSparseFeat(sparsefeat=SparseFeat(name='sequence_mean', vocabulary_size=7, embedding_dim=4, use_hash=False, dtype='int32', embeddings_initializer=<tensorflow.python.keras.initializers.RandomNormal object at 0x7fab266febd0>, embedding_name='sequence_mean', group_name='default_group', trainable=True), maxlen=4, combiner='mean', length_name=None, weight_name=None, weight_norm=True)\n",
      "\n",
      "VarLenSparseFeat(sparsefeat=SparseFeat(name='sequence_max', vocabulary_size=4, embedding_dim=4, use_hash=False, dtype='int32', embeddings_initializer=<tensorflow.python.keras.initializers.RandomNormal object at 0x7fab266fee10>, embedding_name='sequence_max', group_name='default_group', trainable=True), maxlen=2, combiner='max', length_name=None, weight_name=None, weight_norm=True)\n",
      "\n"
     ]
    }
   ],
   "source": [
    "for feature in feature_columns:\n",
    "    print(feature)\n",
    "    print()"
   ]
  },
  {
   "cell_type": "code",
   "execution_count": 5,
   "metadata": {
    "ExecuteTime": {
     "end_time": "2021-02-07T07:04:57.669777Z",
     "start_time": "2021-02-07T07:04:57.663031Z"
    }
   },
   "outputs": [
    {
     "name": "stdout",
     "output_type": "stream",
     "text": [
      "weighted_seq (8, 3)\n",
      "[[0 1 1]\n",
      " [1 1 1]\n",
      " [0 0 1]\n",
      " [0 1 0]\n",
      " [1 0 1]\n",
      " [0 1 0]\n",
      " [1 0 0]\n",
      " [1 0 1]] \n",
      "\n",
      "weight (8, 3, 1)\n",
      "[[[ 1.37519266]\n",
      "  [-0.36388082]\n",
      "  [-0.34646209]]\n",
      "\n",
      " [[ 0.28516911]\n",
      "  [-1.26447789]\n",
      "  [ 0.55274439]]\n",
      "\n",
      " [[-0.86201528]\n",
      "  [ 1.00475004]\n",
      "  [-1.04165614]]\n",
      "\n",
      " [[-1.1763951 ]\n",
      "  [-0.60601337]\n",
      "  [-0.13730861]]\n",
      "\n",
      " [[ 0.11634905]\n",
      "  [ 1.32325309]\n",
      "  [-1.61226122]]\n",
      "\n",
      " [[-0.3684117 ]\n",
      "  [ 2.36553904]\n",
      "  [-0.57157019]]\n",
      "\n",
      " [[ 0.76470542]\n",
      "  [ 1.03699919]\n",
      "  [-1.68019954]]\n",
      "\n",
      " [[ 0.6512518 ]\n",
      "  [ 2.53475028]\n",
      "  [-1.41337855]]] \n",
      "\n",
      "weighted_seq_seq_length (8,)\n",
      "[1 3 3 3 2 1 2 3] \n",
      "\n",
      "sparse_feature_0 (8,)\n",
      "[0 3 1 3 2 1 3 2] \n",
      "\n",
      "sparse_feature_1 (8,)\n",
      "[2 1 1 3 0 1 0 2] \n",
      "\n",
      "dense_feature_0 (8,)\n",
      "[0.81057986 0.09825242 0.02204388 0.40577347 0.59811899 0.33006407\n",
      " 0.73206107 0.88976929] \n",
      "\n",
      "dense_feature_1 (8,)\n",
      "[0.2937393  0.95246452 0.52333653 0.35726546 0.55622383 0.50194577\n",
      " 0.04446147 0.83510924] \n",
      "\n",
      "sequence_sum (8, 1)\n",
      "[[3]\n",
      " [4]\n",
      " [1]\n",
      " [1]\n",
      " [4]\n",
      " [0]\n",
      " [0]\n",
      " [2]] \n",
      "\n",
      "sequence_mean (8, 4)\n",
      "[[1 6 2 5]\n",
      " [1 1 1 3]\n",
      " [5 0 4 1]\n",
      " [1 4 2 4]\n",
      " [2 1 6 3]\n",
      " [0 2 2 3]\n",
      " [5 3 0 1]\n",
      " [5 6 3 3]] \n",
      "\n",
      "sequence_max (8, 2)\n",
      "[[0 0]\n",
      " [2 0]\n",
      " [1 0]\n",
      " [3 2]\n",
      " [1 3]\n",
      " [3 3]\n",
      " [3 0]\n",
      " [1 2]] \n",
      "\n"
     ]
    }
   ],
   "source": [
    "for k,v in x.items():\n",
    "    print(k,v.shape)\n",
    "    print(v,\"\\n\")\n",
    "    "
   ]
  },
  {
   "cell_type": "code",
   "execution_count": 6,
   "metadata": {
    "ExecuteTime": {
     "end_time": "2021-02-07T07:05:32.749794Z",
     "start_time": "2021-02-07T07:05:32.746782Z"
    }
   },
   "outputs": [
    {
     "data": {
      "text/plain": [
       "array([1, 1, 0, 0, 1, 1, 0, 1])"
      ]
     },
     "execution_count": 6,
     "metadata": {},
     "output_type": "execute_result"
    }
   ],
   "source": [
    "y"
   ]
  },
  {
   "cell_type": "code",
   "execution_count": 7,
   "metadata": {
    "ExecuteTime": {
     "end_time": "2021-02-07T07:05:35.586807Z",
     "start_time": "2021-02-07T07:05:33.630602Z"
    }
   },
   "outputs": [
    {
     "name": "stdout",
     "output_type": "stream",
     "text": [
      "CrossNet parameterization: vector\n"
     ]
    }
   ],
   "source": [
    "model = DCN(feature_columns,feature_columns,cross_num=1,cross_parameterization='vector',\n",
    "            dnn_hidden_units=(8,),dnn_dropout=0.5)"
   ]
  },
  {
   "cell_type": "code",
   "execution_count": 8,
   "metadata": {
    "ExecuteTime": {
     "end_time": "2021-02-07T07:05:36.581213Z",
     "start_time": "2021-02-07T07:05:36.557847Z"
    }
   },
   "outputs": [
    {
     "name": "stdout",
     "output_type": "stream",
     "text": [
      "Model: \"model\"\n",
      "__________________________________________________________________________________________________\n",
      "Layer (type)                    Output Shape         Param #     Connected to                     \n",
      "==================================================================================================\n",
      "weighted_seq (InputLayer)       [(None, 3)]          0                                            \n",
      "__________________________________________________________________________________________________\n",
      "sparse_seq_emb_weighted_seq (Em (None, 3, 4)         8           weighted_seq[0][0]               \n",
      "__________________________________________________________________________________________________\n",
      "weighted_seq_seq_length (InputL [(None, 1)]          0                                            \n",
      "__________________________________________________________________________________________________\n",
      "weight (InputLayer)             [(None, 3, 1)]       0                                            \n",
      "__________________________________________________________________________________________________\n",
      "sequence_sum (InputLayer)       [(None, 1)]          0                                            \n",
      "__________________________________________________________________________________________________\n",
      "sequence_mean (InputLayer)      [(None, 4)]          0                                            \n",
      "__________________________________________________________________________________________________\n",
      "sequence_max (InputLayer)       [(None, 2)]          0                                            \n",
      "__________________________________________________________________________________________________\n",
      "sparse_feature_0 (InputLayer)   [(None, 1)]          0                                            \n",
      "__________________________________________________________________________________________________\n",
      "sparse_feature_1 (InputLayer)   [(None, 1)]          0                                            \n",
      "__________________________________________________________________________________________________\n",
      "weighted_sequence_layer_2 (Weig (None, 3, 4)         0           sparse_seq_emb_weighted_seq[0][0]\n",
      "                                                                 weighted_seq_seq_length[0][0]    \n",
      "                                                                 weight[0][0]                     \n",
      "__________________________________________________________________________________________________\n",
      "sparse_seq_emb_sequence_sum (Em (None, 1, 4)         20          sequence_sum[0][0]               \n",
      "__________________________________________________________________________________________________\n",
      "sparse_seq_emb_sequence_mean (E (None, 4, 4)         28          sequence_mean[0][0]              \n",
      "__________________________________________________________________________________________________\n",
      "sparse_seq_emb_sequence_max (Em (None, 2, 4)         16          sequence_max[0][0]               \n",
      "__________________________________________________________________________________________________\n",
      "dense_feature_0 (InputLayer)    [(None, 1)]          0                                            \n",
      "__________________________________________________________________________________________________\n",
      "dense_feature_1 (InputLayer)    [(None, 1)]          0                                            \n",
      "__________________________________________________________________________________________________\n",
      "sparse_emb_sparse_feature_0 (Em (None, 1, 4)         16          sparse_feature_0[0][0]           \n",
      "__________________________________________________________________________________________________\n",
      "sparse_emb_sparse_feature_1 (Em (None, 1, 4)         16          sparse_feature_1[0][0]           \n",
      "__________________________________________________________________________________________________\n",
      "sequence_pooling_layer_8 (Seque (None, 1, 4)         0           weighted_sequence_layer_2[0][0]  \n",
      "                                                                 weighted_seq_seq_length[0][0]    \n",
      "__________________________________________________________________________________________________\n",
      "sequence_pooling_layer_9 (Seque (None, 1, 4)         0           sparse_seq_emb_sequence_sum[0][0]\n",
      "__________________________________________________________________________________________________\n",
      "sequence_pooling_layer_10 (Sequ (None, 1, 4)         0           sparse_seq_emb_sequence_mean[0][0\n",
      "__________________________________________________________________________________________________\n",
      "sequence_pooling_layer_11 (Sequ (None, 1, 4)         0           sparse_seq_emb_sequence_max[0][0]\n",
      "__________________________________________________________________________________________________\n",
      "lambda_4 (Lambda)               (None, 1)            0           dense_feature_0[0][0]            \n",
      "__________________________________________________________________________________________________\n",
      "lambda_5 (Lambda)               (None, 1)            0           dense_feature_1[0][0]            \n",
      "__________________________________________________________________________________________________\n",
      "no_mask_3 (NoMask)              (None, 1, 4)         0           sparse_emb_sparse_feature_0[0][0]\n",
      "                                                                 sparse_emb_sparse_feature_1[0][0]\n",
      "                                                                 sequence_pooling_layer_8[0][0]   \n",
      "                                                                 sequence_pooling_layer_9[0][0]   \n",
      "                                                                 sequence_pooling_layer_10[0][0]  \n",
      "                                                                 sequence_pooling_layer_11[0][0]  \n",
      "__________________________________________________________________________________________________\n",
      "no_mask_4 (NoMask)              (None, 1)            0           lambda_4[0][0]                   \n",
      "                                                                 lambda_5[0][0]                   \n",
      "__________________________________________________________________________________________________\n",
      "concatenate_2 (Concatenate)     (None, 1, 24)        0           no_mask_3[0][0]                  \n",
      "                                                                 no_mask_3[1][0]                  \n",
      "                                                                 no_mask_3[2][0]                  \n",
      "                                                                 no_mask_3[3][0]                  \n",
      "                                                                 no_mask_3[4][0]                  \n",
      "                                                                 no_mask_3[5][0]                  \n",
      "__________________________________________________________________________________________________\n",
      "concatenate_3 (Concatenate)     (None, 2)            0           no_mask_4[0][0]                  \n",
      "                                                                 no_mask_4[1][0]                  \n",
      "__________________________________________________________________________________________________\n",
      "linear0sparse_seq_emb_weighted_ (None, 3, 1)         2           weighted_seq[0][0]               \n",
      "__________________________________________________________________________________________________\n",
      "flatten (Flatten)               (None, 24)           0           concatenate_2[0][0]              \n",
      "__________________________________________________________________________________________________\n",
      "flatten_1 (Flatten)             (None, 2)            0           concatenate_3[0][0]              \n",
      "__________________________________________________________________________________________________\n",
      "weighted_sequence_layer (Weight (None, 3, 1)         0           linear0sparse_seq_emb_weighted_se\n",
      "                                                                 weighted_seq_seq_length[0][0]    \n",
      "                                                                 weight[0][0]                     \n",
      "__________________________________________________________________________________________________\n",
      "linear0sparse_seq_emb_sequence_ (None, 1, 1)         5           sequence_sum[0][0]               \n",
      "__________________________________________________________________________________________________\n",
      "linear0sparse_seq_emb_sequence_ (None, 4, 1)         7           sequence_mean[0][0]              \n",
      "__________________________________________________________________________________________________\n",
      "linear0sparse_seq_emb_sequence_ (None, 2, 1)         4           sequence_max[0][0]               \n",
      "__________________________________________________________________________________________________\n",
      "no_mask_5 (NoMask)              multiple             0           flatten[0][0]                    \n",
      "                                                                 flatten_1[0][0]                  \n",
      "__________________________________________________________________________________________________\n",
      "linear0sparse_emb_sparse_featur (None, 1, 1)         4           sparse_feature_0[0][0]           \n",
      "__________________________________________________________________________________________________\n",
      "linear0sparse_emb_sparse_featur (None, 1, 1)         4           sparse_feature_1[0][0]           \n",
      "__________________________________________________________________________________________________\n",
      "sequence_pooling_layer (Sequenc (None, 1, 1)         0           weighted_sequence_layer[0][0]    \n",
      "                                                                 weighted_seq_seq_length[0][0]    \n",
      "__________________________________________________________________________________________________\n",
      "sequence_pooling_layer_1 (Seque (None, 1, 1)         0           linear0sparse_seq_emb_sequence_su\n",
      "__________________________________________________________________________________________________\n",
      "sequence_pooling_layer_2 (Seque (None, 1, 1)         0           linear0sparse_seq_emb_sequence_me\n",
      "__________________________________________________________________________________________________\n",
      "sequence_pooling_layer_3 (Seque (None, 1, 1)         0           linear0sparse_seq_emb_sequence_ma\n",
      "__________________________________________________________________________________________________\n",
      "lambda_2 (Lambda)               (None, 1)            0           dense_feature_0[0][0]            \n",
      "__________________________________________________________________________________________________\n",
      "lambda_3 (Lambda)               (None, 1)            0           dense_feature_1[0][0]            \n",
      "__________________________________________________________________________________________________\n",
      "concatenate_4 (Concatenate)     (None, 26)           0           no_mask_5[0][0]                  \n",
      "                                                                 no_mask_5[1][0]                  \n",
      "__________________________________________________________________________________________________\n",
      "no_mask (NoMask)                (None, 1, 1)         0           linear0sparse_emb_sparse_feature_\n",
      "                                                                 linear0sparse_emb_sparse_feature_\n",
      "                                                                 sequence_pooling_layer[0][0]     \n",
      "                                                                 sequence_pooling_layer_1[0][0]   \n",
      "                                                                 sequence_pooling_layer_2[0][0]   \n",
      "                                                                 sequence_pooling_layer_3[0][0]   \n",
      "__________________________________________________________________________________________________\n",
      "no_mask_1 (NoMask)              (None, 1)            0           lambda_2[0][0]                   \n",
      "                                                                 lambda_3[0][0]                   \n",
      "__________________________________________________________________________________________________\n",
      "cross_net (CrossNet)            (None, 26)           52          concatenate_4[0][0]              \n",
      "__________________________________________________________________________________________________\n",
      "dnn (DNN)                       (None, 8)            216         concatenate_4[0][0]              \n",
      "__________________________________________________________________________________________________\n",
      "concatenate (Concatenate)       (None, 1, 6)         0           no_mask[0][0]                    \n",
      "                                                                 no_mask[1][0]                    \n",
      "                                                                 no_mask[2][0]                    \n",
      "                                                                 no_mask[3][0]                    \n",
      "                                                                 no_mask[4][0]                    \n",
      "                                                                 no_mask[5][0]                    \n",
      "__________________________________________________________________________________________________\n",
      "concatenate_1 (Concatenate)     (None, 2)            0           no_mask_1[0][0]                  \n",
      "                                                                 no_mask_1[1][0]                  \n",
      "__________________________________________________________________________________________________\n",
      "concatenate_5 (Concatenate)     (None, 34)           0           cross_net[0][0]                  \n",
      "                                                                 dnn[0][0]                        \n",
      "__________________________________________________________________________________________________\n",
      "linear (Linear)                 (None, 1)            2           concatenate[0][0]                \n",
      "                                                                 concatenate_1[0][0]              \n",
      "__________________________________________________________________________________________________\n",
      "dense (Dense)                   (None, 1)            34          concatenate_5[0][0]              \n",
      "__________________________________________________________________________________________________\n",
      "no_mask_2 (NoMask)              (None, 1)            0           linear[0][0]                     \n",
      "__________________________________________________________________________________________________\n",
      "add (Add)                       (None, 1)            0           dense[0][0]                      \n",
      "                                                                 no_mask_2[0][0]                  \n",
      "__________________________________________________________________________________________________\n",
      "prediction_layer (PredictionLay (None, 1)            1           add[0][0]                        \n",
      "==================================================================================================\n",
      "Total params: 435\n",
      "Trainable params: 435\n",
      "Non-trainable params: 0\n",
      "__________________________________________________________________________________________________\n"
     ]
    }
   ],
   "source": [
    "model.compile('adam', 'binary_crossentropy', metrics=['binary_crossentropy'])\n",
    "model.summary()"
   ]
  },
  {
   "cell_type": "code",
   "execution_count": 9,
   "metadata": {
    "ExecuteTime": {
     "end_time": "2021-02-07T07:05:43.658606Z",
     "start_time": "2021-02-07T07:05:43.655370Z"
    }
   },
   "outputs": [],
   "source": [
    "log_dir = \"./logs/fit/\"\n",
    "tensorboard_callback = tf.keras.callbacks.TensorBoard(log_dir=log_dir, histogram_freq=1)"
   ]
  },
  {
   "cell_type": "code",
   "execution_count": 10,
   "metadata": {
    "ExecuteTime": {
     "end_time": "2021-02-07T07:05:49.538113Z",
     "start_time": "2021-02-07T07:05:47.023070Z"
    }
   },
   "outputs": [
    {
     "name": "stderr",
     "output_type": "stream",
     "text": [
      "/Users/zhenwuzhou/environment/tf2_py3/lib/python3.7/site-packages/tensorflow/python/framework/indexed_slices.py:434: UserWarning: Converting sparse IndexedSlices to a dense Tensor of unknown shape. This may consume a large amount of memory.\n",
      "  \"Converting sparse IndexedSlices to a dense Tensor of unknown shape. \"\n"
     ]
    },
    {
     "name": "stdout",
     "output_type": "stream",
     "text": [
      "1/1 [==============================] - 1s 522ms/step - loss: 4.3683 - binary_crossentropy: 4.3683 - val_loss: 0.8994 - val_binary_crossentropy: 0.8994\n"
     ]
    },
    {
     "data": {
      "text/plain": [
       "<tensorflow.python.keras.callbacks.History at 0x7fab26c77cd0>"
      ]
     },
     "execution_count": 10,
     "metadata": {},
     "output_type": "execute_result"
    }
   ],
   "source": [
    "model.fit(x,y,batch_size=100,epochs=1,validation_split=0.5,callbacks=[tensorboard_callback])"
   ]
  },
  {
   "cell_type": "code",
   "execution_count": 11,
   "metadata": {
    "ExecuteTime": {
     "end_time": "2021-02-07T08:12:09.299889Z",
     "start_time": "2021-02-07T07:05:51.631747Z"
    }
   },
   "outputs": [
    {
     "name": "stdout",
     "output_type": "stream",
     "text": [
      "W0207 15:05:54.215487 123145565294592 plugin_event_accumulator.py:332] Found more than one graph event per run, or there was a metagraph containing a graph_def, as well as one or more graph events.  Overwriting the graph with the newest event.\n",
      "Serving TensorBoard on localhost; to expose to the network, use a proxy or pass --bind_all\n",
      "TensorBoard 2.2.1 at http://localhost:6006/ (Press CTRL+C to quit)\n",
      "^C\n"
     ]
    }
   ],
   "source": [
    "!tensorboard --logdir ./logs/fit"
   ]
  },
  {
   "cell_type": "code",
   "execution_count": 12,
   "metadata": {
    "ExecuteTime": {
     "end_time": "2021-02-07T08:12:09.332090Z",
     "start_time": "2021-02-07T08:12:09.326999Z"
    }
   },
   "outputs": [
    {
     "data": {
      "text/plain": [
       "{'a': 5}"
      ]
     },
     "execution_count": 12,
     "metadata": {},
     "output_type": "execute_result"
    }
   ],
   "source": [
    "test_dict = {\"a\":5}\n",
    "test_dict"
   ]
  },
  {
   "cell_type": "code",
   "execution_count": 15,
   "metadata": {
    "ExecuteTime": {
     "end_time": "2021-02-07T08:12:40.359112Z",
     "start_time": "2021-02-07T08:12:40.354801Z"
    }
   },
   "outputs": [
    {
     "data": {
      "text/plain": [
       "[5]"
      ]
     },
     "execution_count": 15,
     "metadata": {},
     "output_type": "execute_result"
    }
   ],
   "source": [
    "list(test_dict.values())"
   ]
  },
  {
   "cell_type": "code",
   "execution_count": null,
   "metadata": {},
   "outputs": [],
   "source": []
  }
 ],
 "metadata": {
  "kernelspec": {
   "display_name": "Python 3",
   "language": "python",
   "name": "python3"
  },
  "language_info": {
   "codemirror_mode": {
    "name": "ipython",
    "version": 3
   },
   "file_extension": ".py",
   "mimetype": "text/x-python",
   "name": "python",
   "nbconvert_exporter": "python",
   "pygments_lexer": "ipython3",
   "version": "3.7.4"
  },
  "toc": {
   "base_numbering": 1,
   "nav_menu": {},
   "number_sections": true,
   "sideBar": true,
   "skip_h1_title": false,
   "title_cell": "Table of Contents",
   "title_sidebar": "Contents",
   "toc_cell": false,
   "toc_position": {},
   "toc_section_display": true,
   "toc_window_display": false
  },
  "varInspector": {
   "cols": {
    "lenName": 16,
    "lenType": 16,
    "lenVar": 40
   },
   "kernels_config": {
    "python": {
     "delete_cmd_postfix": "",
     "delete_cmd_prefix": "del ",
     "library": "var_list.py",
     "varRefreshCmd": "print(var_dic_list())"
    },
    "r": {
     "delete_cmd_postfix": ") ",
     "delete_cmd_prefix": "rm(",
     "library": "var_list.r",
     "varRefreshCmd": "cat(var_dic_list()) "
    }
   },
   "types_to_exclude": [
    "module",
    "function",
    "builtin_function_or_method",
    "instance",
    "_Feature"
   ],
   "window_display": false
  }
 },
 "nbformat": 4,
 "nbformat_minor": 4
}
